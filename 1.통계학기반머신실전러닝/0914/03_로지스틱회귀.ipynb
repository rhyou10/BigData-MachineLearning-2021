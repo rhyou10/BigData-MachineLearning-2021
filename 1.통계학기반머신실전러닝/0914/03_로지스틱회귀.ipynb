{
 "cells": [
  {
   "cell_type": "code",
   "execution_count": 36,
   "source": [
    "# https://wikidocs.net/89354\r\n",
    "import numpy as np\r\n",
    "from sklearn.model_selection import train_test_split\r\n",
    "from sklearn.linear_model import LogisticRegression\r\n",
    "\r\n",
    "##########데이터 로드\r\n",
    "\r\n",
    "x_data = np.array([\r\n",
    "    [2, 1],\r\n",
    "    [3, 2],\r\n",
    "    [3, 4],\r\n",
    "    [5, 5],\r\n",
    "    [7, 5],\r\n",
    "    [2, 5],\r\n",
    "    [8, 9],\r\n",
    "    [9, 10],\r\n",
    "    [6, 12],\r\n",
    "    [9, 2],\r\n",
    "    [6, 10],\r\n",
    "    [2, 4]\r\n",
    "])\r\n",
    "y_data = np.array([0, 0, 0, 1, 1, 0, 1, 1, 1, 1, 1, 0])\r\n",
    "\r\n",
    "labels = ['fail', 'pass']\r\n",
    "\r\n",
    "##########데이터 분석\r\n",
    "\r\n",
    "##########데이터 전처리\r\n",
    "\r\n",
    "x_train, x_test, y_train, y_test = train_test_split(x_data, y_data, test_size=0.3, random_state=777)\r\n",
    "\r\n",
    "##########모델 생성\r\n",
    "\r\n",
    "model = LogisticRegression()\r\n",
    "#model = LogisticRegression(max_iter=100, penalty='l2', C=1.0)\r\n",
    "\r\n",
    "##########모델 학습\r\n",
    "\r\n",
    "model.fit(x_train, y_train)\r\n",
    "\r\n",
    "##########모델 검증\r\n",
    "\r\n",
    "##########모델 예측\r\n",
    "\r\n",
    "x_test = np.array([\r\n",
    "    [4, 6]\r\n",
    "])\r\n",
    "\r\n",
    "y_predict = model.predict(x_test)\r\n",
    "print(y_predict) #[1]\r\n",
    "print(y_predict[0]) #1\r\n",
    "label = labels[y_predict[0]]\r\n",
    "y_predict = model.predict_proba(x_test)\r\n",
    "confidence = y_predict[0][y_predict[0].argmax()]\r\n",
    "\r\n",
    "print(label, confidence) #\r\n",
    "\r\n",
    "x_test = np.array([\r\n",
    "    [4, 6], \r\n",
    "    [10, 11]\r\n",
    "])\r\n",
    "print('xtest 2차원 -------------------------')\r\n",
    "y_predict = model.predict(x_test)\r\n",
    "print(y_predict) #[1 1]\r\n",
    "print(y_predict[0]) #1\r\n",
    "label = labels[y_predict[0]]\r\n",
    "y_predict = model.predict_proba(x_test)\r\n",
    "confidence = y_predict[0][y_predict[0].argmax()]\r\n",
    "print(label, confidence) #\r\n",
    "\r\n",
    "\r\n",
    "y_predict = model.predict(x_test)\r\n",
    "print(y_predict[1]) #1\r\n",
    "\r\n",
    "label = labels[y_predict[1]]\r\n",
    "y_predict = model.predict_proba(x_test)\r\n",
    "confidence = y_predict[1][y_predict[1].argmax()]\r\n",
    "print(label, confidence) #"
   ],
   "outputs": [
    {
     "output_type": "stream",
     "name": "stdout",
     "text": [
      "[0]\n",
      "0\n",
      "fail 0.5817659727427806\n",
      "xtest -------------------------\n",
      "[0 1]\n",
      "0\n",
      "fail 0.5817659727427806\n",
      "1\n",
      "pass 0.9991796396334955\n"
     ]
    }
   ],
   "metadata": {}
  },
  {
   "cell_type": "code",
   "execution_count": 33,
   "source": [
    "x_test = np.array([\r\n",
    "    [4, 6]\r\n",
    "])\r\n",
    "\r\n",
    "y_predict = model.decision_function(x_test)\r\n",
    "\r\n",
    "print(y_predict) #[-2.245277195662771]"
   ],
   "outputs": [
    {
     "output_type": "stream",
     "name": "stdout",
     "text": [
      "[-0.33002711]\n"
     ]
    }
   ],
   "metadata": {}
  },
  {
   "cell_type": "code",
   "execution_count": 34,
   "source": [
    "x_test = np.array([\r\n",
    "    [4, 6]\r\n",
    "])\r\n",
    "\r\n",
    "y_predict = model.predict_proba(x_test)\r\n",
    "\r\n",
    "print(y_predict) #[[0.82316479 0.17683521]]"
   ],
   "outputs": [
    {
     "output_type": "stream",
     "name": "stdout",
     "text": [
      "[[0.58176597 0.41823403]]\n"
     ]
    }
   ],
   "metadata": {}
  },
  {
   "cell_type": "markdown",
   "source": [
    "## [이항분류의 평가분류지표] 혼합행렬, 혼돈 행렬\r\n",
    "- 혼합행렬은 다항분류도 가능하다\r\n",
    "- 이미지가 히트맵 기준으로 아래의 정확도, 재현율이 계산되어 있음\r\n",
    "- 계산 모듈 있음\r\n",
    "  - TP : True  --> True  예측 정답\r\n",
    "  - FP : False --> True  예측 오답\r\n",
    "  - FN : True  --> False 예측 오탁\r\n",
    "  - TN : False --> False 예측 정답"
   ],
   "metadata": {}
  },
  {
   "cell_type": "code",
   "execution_count": 52,
   "source": [
    "# https://wikidocs.net/45729\r\n",
    "import numpy as np\r\n",
    "from sklearn.model_selection import train_test_split\r\n",
    "from sklearn.linear_model import LogisticRegression\r\n",
    "from sklearn.metrics import confusion_matrix\r\n",
    "import numpy as np\r\n",
    "\r\n",
    "##########데이터 로드\r\n",
    "\r\n",
    "x_data = np.array([\r\n",
    "    [2, 1],\r\n",
    "    [3, 2],\r\n",
    "    [3, 4],\r\n",
    "    [5, 5],\r\n",
    "    [7, 5],\r\n",
    "    [2, 5],\r\n",
    "    [8, 9],\r\n",
    "    [9, 10],\r\n",
    "    [6, 12],\r\n",
    "    [9, 2],\r\n",
    "    [6, 10],\r\n",
    "    [2, 4]\r\n",
    "])\r\n",
    "y_data = np.array([0, 0, 0, 1, 1, 0, 1, 1, 1, 1, 1, 0])\r\n",
    "\r\n",
    "labels = ['fail', 'pass']\r\n",
    "\r\n",
    "##########데이터 전처리\r\n",
    "\r\n",
    "x_train, x_test, y_train, y_test = train_test_split(x_data, y_data, test_size=0.3, random_state=777, stratify=y_data)\r\n",
    "\r\n",
    "##########모델 생성\r\n",
    "\r\n",
    "model = LogisticRegression()\r\n",
    "\r\n",
    "##########모델 학습\r\n",
    "\r\n",
    "model.fit(x_train, y_train)\r\n",
    "\r\n",
    "##########모델 검증\r\n",
    "\r\n",
    "y_predict = model.predict(x_test)\r\n",
    "\r\n",
    "print(y_test) #[1, 1, 0, 0]\r\n",
    "print(y_predict) #[1 1 0 0]\r\n",
    "cm = confusion_matrix(y_test, y_predict) \r\n",
    "print(cm) \r\n",
    "'''\r\n",
    "[[2 0]\r\n",
    " [0 2]]\r\n",
    "'''\r\n",
    "\r\n",
    "accuracy_score = (cm[0][0] + cm[1][1]) / (cm[0][0] + cm[0][1] + cm[1][0] + cm[1][1]) #정확도\r\n",
    "print('====정확도====')\r\n",
    "print(accuracy_score) #1.0\r\n",
    "\r\n",
    "recall_score = (cm[1][1]) / (cm[1][0]+cm[1][1]) #재현율\r\n",
    "print('====재현율====')\r\n",
    "print(recall_score) #1.0 \r\n",
    "#--\r\n",
    "\r\n",
    "precision_score = (cm[1][1]) / (cm[0][1] + cm[1][1]) #정밀도\r\n",
    "print('====정밀도====')\r\n",
    "print(precision_score) #1.0\r\n",
    "#|\r\n",
    "#|\r\n",
    "\r\n",
    "f1_score = ((precision_score * recall_score) / (precision_score + recall_score)) * 2\r\n",
    "print('====fi_score====') #크면 클수록 좋다\r\n",
    "print(f1_score) #1.0 #F1 score\r\n",
    "\r\n",
    "import matplotlib.pyplot as plt\r\n",
    "import seaborn as sns\r\n",
    "sns.heatmap(cm, annot=True)\r\n",
    "plt.show()\r\n"
   ],
   "outputs": [
    {
     "output_type": "stream",
     "name": "stdout",
     "text": [
      "[1 1 0 0]\n",
      "[1 1 0 0]\n",
      "[[2 0]\n",
      " [0 2]]\n",
      "====정확도====\n",
      "1.0\n",
      "====재현율====\n",
      "1.0\n",
      "====정밀도====\n",
      "1.0\n",
      "====fi_score====\n",
      "1.0\n"
     ]
    },
    {
     "output_type": "display_data",
     "data": {
      "image/png": "[encoded data removed]",
      "text/plain": [
       "<Figure size 432x288 with 2 Axes>"
      ]
     },
     "metadata": {
      "needs_background": "light"
     }
    }
   ],
   "metadata": {}
  },
  {
   "cell_type": "code",
   "execution_count": 53,
   "source": [
    "# 혼합행렬\r\n",
    "from sklearn.metrics import confusion_matrix\r\n",
    "x_train, x_test, y_train, y_test = train_test_split(x_data, y_data, test_size=0.3, random_state=777, stratify=y_data)\r\n",
    "\r\n",
    "y_predict = model.predict(x_test)\r\n",
    "cm = confusion_matrix(y_test, y_predict) \r\n",
    "\r\n",
    "import matplotlib.pyplot as plt\r\n",
    "import seaborn as sns\r\n",
    "sns.heatmap(cm, annot=True)\r\n",
    "plt.show()\r\n"
   ],
   "outputs": [
    {
     "output_type": "display_data",
     "data": {
      "image/png": "[encoded data removed]",
      "text/plain": [
       "<Figure size 432x288 with 2 Axes>"
      ]
     },
     "metadata": {
      "needs_background": "light"
     }
    }
   ],
   "metadata": {}
  },
  {
   "cell_type": "markdown",
   "source": [
    "## 분류보고서"
   ],
   "metadata": {}
  },
  {
   "cell_type": "code",
   "execution_count": 55,
   "source": [
    "from sklearn.metrics import classification_report\r\n",
    "\r\n",
    "print(classification_report(y_test, y_predict))"
   ],
   "outputs": [
    {
     "output_type": "stream",
     "name": "stdout",
     "text": [
      "              precision    recall  f1-score   support\n",
      "\n",
      "           0       1.00      1.00      1.00         2\n",
      "           1       1.00      1.00      1.00         2\n",
      "\n",
      "    accuracy                           1.00         4\n",
      "   macro avg       1.00      1.00      1.00         4\n",
      "weighted avg       1.00      1.00      1.00         4\n",
      "\n"
     ]
    }
   ],
   "metadata": {}
  },
  {
   "cell_type": "markdown",
   "source": [
    "## 값의 연관석 확인\r\n",
    "- summary에서 보이는 pvalue 값이 0.05보다 크면 x값에서 제거함.(보통)"
   ],
   "metadata": {}
  },
  {
   "cell_type": "code",
   "execution_count": 56,
   "source": [
    "import statsmodels.api as sm\r\n",
    "logit_mod = sm.Logit(y_train, x_train)\r\n",
    "results = logit_mod.fit()\r\n",
    "results.summary()\r\n"
   ],
   "outputs": [
    {
     "output_type": "stream",
     "name": "stdout",
     "text": [
      "Optimization terminated successfully.\n",
      "         Current function value: 0.483183\n",
      "         Iterations 6\n"
     ]
    },
    {
     "output_type": "execute_result",
     "data": {
      "text/html": [
       "<table class=\"simpletable\">\n",
       "<caption>Logit Regression Results</caption>\n",
       "<tr>\n",
       "  <th>Dep. Variable:</th>           <td>y</td>        <th>  No. Observations:  </th>  <td>     8</td> \n",
       "</tr>\n",
       "<tr>\n",
       "  <th>Model:</th>                 <td>Logit</td>      <th>  Df Residuals:      </th>  <td>     6</td> \n",
       "</tr>\n",
       "<tr>\n",
       "  <th>Method:</th>                 <td>MLE</td>       <th>  Df Model:          </th>  <td>     1</td> \n",
       "</tr>\n",
       "<tr>\n",
       "  <th>Date:</th>            <td>Tue, 14 Sep 2021</td> <th>  Pseudo R-squ.:     </th>  <td>0.2696</td> \n",
       "</tr>\n",
       "<tr>\n",
       "  <th>Time:</th>                <td>15:10:33</td>     <th>  Log-Likelihood:    </th> <td> -3.8655</td>\n",
       "</tr>\n",
       "<tr>\n",
       "  <th>converged:</th>             <td>True</td>       <th>  LL-Null:           </th> <td> -5.2925</td>\n",
       "</tr>\n",
       "<tr>\n",
       "  <th>Covariance Type:</th>     <td>nonrobust</td>    <th>  LLR p-value:       </th>  <td>0.09114</td>\n",
       "</tr>\n",
       "</table>\n",
       "<table class=\"simpletable\">\n",
       "<tr>\n",
       "   <td></td>     <th>coef</th>     <th>std err</th>      <th>z</th>      <th>P>|z|</th>  <th>[0.025</th>    <th>0.975]</th>  \n",
       "</tr>\n",
       "<tr>\n",
       "  <th>x1</th> <td>    0.0800</td> <td>    0.583</td> <td>    0.137</td> <td> 0.891</td> <td>   -1.063</td> <td>    1.223</td>\n",
       "</tr>\n",
       "<tr>\n",
       "  <th>x2</th> <td>    0.1752</td> <td>    0.538</td> <td>    0.326</td> <td> 0.744</td> <td>   -0.879</td> <td>    1.229</td>\n",
       "</tr>\n",
       "</table>"
      ],
      "text/plain": [
       "<class 'statsmodels.iolib.summary.Summary'>\n",
       "\"\"\"\n",
       "                           Logit Regression Results                           \n",
       "==============================================================================\n",
       "Dep. Variable:                      y   No. Observations:                    8\n",
       "Model:                          Logit   Df Residuals:                        6\n",
       "Method:                           MLE   Df Model:                            1\n",
       "Date:                Tue, 14 Sep 2021   Pseudo R-squ.:                  0.2696\n",
       "Time:                        15:10:33   Log-Likelihood:                -3.8655\n",
       "converged:                       True   LL-Null:                       -5.2925\n",
       "Covariance Type:            nonrobust   LLR p-value:                   0.09114\n",
       "==============================================================================\n",
       "                 coef    std err          z      P>|z|      [0.025      0.975]\n",
       "------------------------------------------------------------------------------\n",
       "x1             0.0800      0.583      0.137      0.891      -1.063       1.223\n",
       "x2             0.1752      0.538      0.326      0.744      -0.879       1.229\n",
       "==============================================================================\n",
       "\"\"\""
      ]
     },
     "metadata": {},
     "execution_count": 56
    }
   ],
   "metadata": {}
  },
  {
   "cell_type": "markdown",
   "source": [
    "## ROC 커브곡선(직접찾아서 작성)\r\n",
    "- 이항분류에서 일치율을 시각화함. 이때 ROC 하단면적을 AUC 라고 함, AUC 가 클수록 좋은 결과임"
   ],
   "metadata": {}
  }
 ],
 "metadata": {
  "orig_nbformat": 4,
  "language_info": {
   "name": "python",
   "version": "3.8.10",
   "mimetype": "text/x-python",
   "codemirror_mode": {
    "name": "ipython",
    "version": 3
   },
   "pygments_lexer": "ipython3",
   "nbconvert_exporter": "python",
   "file_extension": ".py"
  },
  "kernelspec": {
   "name": "python3",
   "display_name": "Python 3.8.10 64-bit ('base': conda)"
  },
  "interpreter": {
   "hash": "345fc451c7e0336b9390ad1fad588039702f89ec6d37597eff879e480e25ffdb"
  }
 },
 "nbformat": 4,
 "nbformat_minor": 2
}