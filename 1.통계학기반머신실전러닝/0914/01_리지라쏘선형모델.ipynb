{
 "cells": [
  {
   "cell_type": "markdown",
   "source": [
    "## https://wikidocs.net/39709"
   ],
   "metadata": {}
  },
  {
   "cell_type": "code",
   "execution_count": null,
   "source": [
    "import pandas as pd\r\n",
    "\r\n",
    "import numpy as np"
   ],
   "outputs": [],
   "metadata": {}
  },
  {
   "cell_type": "code",
   "execution_count": null,
   "source": [
    "train_df = pd.read_excel('https://github.com/cranberryai/todak_todak_python/blob/master/machine_learning/regression/%E1%84%82%E1%85%A6%E1%84%8B%E1%85%B5%E1%84%87%E1%85%A5TV%E1%84%80%E1%85%A1%E1%84%80%E1%85%A7%E1%86%A8_%E1%84%8E%E1%85%AC%E1%84%8C%E1%85%A9%E1%86%BC.xlsx?raw=true', sheet_name='train')\r\n",
    "test_df = pd.read_excel('https://github.com/cranberryai/todak_todak_python/blob/master/machine_learning/regression/%E1%84%82%E1%85%A6%E1%84%8B%E1%85%B5%E1%84%87%E1%85%A5TV%E1%84%80%E1%85%A1%E1%84%80%E1%85%A7%E1%86%A8_%E1%84%8E%E1%85%AC%E1%84%8C%E1%85%A9%E1%86%BC.xlsx?raw=true', sheet_name='test')"
   ],
   "outputs": [],
   "metadata": {}
  },
  {
   "cell_type": "code",
   "execution_count": 13,
   "source": [
    "test_df.isna().sum()"
   ],
   "outputs": [
    {
     "output_type": "execute_result",
     "data": {
      "text/plain": [
       "ID      0\n",
       "판매가     0\n",
       "화면크기    0\n",
       "형태      0\n",
       "해상도     0\n",
       "화면비율    0\n",
       "LCD     0\n",
       "LED     0\n",
       "OLED    0\n",
       "QLED    0\n",
       "단자      0\n",
       "부가기능    0\n",
       "dtype: int64"
      ]
     },
     "metadata": {},
     "execution_count": 13
    }
   ],
   "metadata": {}
  },
  {
   "cell_type": "code",
   "execution_count": 12,
   "source": [
    " train_df.isna().sum()"
   ],
   "outputs": [
    {
     "output_type": "execute_result",
     "data": {
      "text/plain": [
       "ID      0\n",
       "판매가     0\n",
       "화면크기    0\n",
       "형태      0\n",
       "해상도     0\n",
       "화면비율    0\n",
       "LCD     0\n",
       "LED     0\n",
       "OLED    0\n",
       "QLED    0\n",
       "단자      0\n",
       "부가기능    0\n",
       "dtype: int64"
      ]
     },
     "metadata": {},
     "execution_count": 12
    }
   ],
   "metadata": {}
  },
  {
   "cell_type": "code",
   "execution_count": 14,
   "source": [
    "train_df.info()"
   ],
   "outputs": [
    {
     "output_type": "stream",
     "name": "stdout",
     "text": [
      "<class 'pandas.core.frame.DataFrame'>\n",
      "RangeIndex: 7000 entries, 0 to 6999\n",
      "Data columns (total 12 columns):\n",
      " #   Column  Non-Null Count  Dtype\n",
      "---  ------  --------------  -----\n",
      " 0   ID      7000 non-null   int64\n",
      " 1   판매가     7000 non-null   int64\n",
      " 2   화면크기    7000 non-null   int64\n",
      " 3   형태      7000 non-null   int64\n",
      " 4   해상도     7000 non-null   int64\n",
      " 5   화면비율    7000 non-null   int64\n",
      " 6   LCD     7000 non-null   int64\n",
      " 7   LED     7000 non-null   int64\n",
      " 8   OLED    7000 non-null   int64\n",
      " 9   QLED    7000 non-null   int64\n",
      " 10  단자      7000 non-null   int64\n",
      " 11  부가기능    7000 non-null   int64\n",
      "dtypes: int64(12)\n",
      "memory usage: 656.4 KB\n"
     ]
    }
   ],
   "metadata": {}
  },
  {
   "cell_type": "code",
   "execution_count": 15,
   "source": [
    "test_df.info()"
   ],
   "outputs": [
    {
     "output_type": "stream",
     "name": "stdout",
     "text": [
      "<class 'pandas.core.frame.DataFrame'>\n",
      "RangeIndex: 3000 entries, 0 to 2999\n",
      "Data columns (total 12 columns):\n",
      " #   Column  Non-Null Count  Dtype\n",
      "---  ------  --------------  -----\n",
      " 0   ID      3000 non-null   int64\n",
      " 1   판매가     3000 non-null   int64\n",
      " 2   화면크기    3000 non-null   int64\n",
      " 3   형태      3000 non-null   int64\n",
      " 4   해상도     3000 non-null   int64\n",
      " 5   화면비율    3000 non-null   int64\n",
      " 6   LCD     3000 non-null   int64\n",
      " 7   LED     3000 non-null   int64\n",
      " 8   OLED    3000 non-null   int64\n",
      " 9   QLED    3000 non-null   int64\n",
      " 10  단자      3000 non-null   int64\n",
      " 11  부가기능    3000 non-null   int64\n",
      "dtypes: int64(12)\n",
      "memory usage: 281.4 KB\n"
     ]
    }
   ],
   "metadata": {}
  },
  {
   "cell_type": "code",
   "execution_count": 17,
   "source": [
    "train_df.describe() # lcd, led, oled, qled가 전부 0인거 찾아서 지워야 한다 해석해야한다"
   ],
   "outputs": [
    {
     "output_type": "execute_result",
     "data": {
      "text/html": [
       "<div>\n",
       "<style scoped>\n",
       "    .dataframe tbody tr th:only-of-type {\n",
       "        vertical-align: middle;\n",
       "    }\n",
       "\n",
       "    .dataframe tbody tr th {\n",
       "        vertical-align: top;\n",
       "    }\n",
       "\n",
       "    .dataframe thead th {\n",
       "        text-align: right;\n",
       "    }\n",
       "</style>\n",
       "<table border=\"1\" class=\"dataframe\">\n",
       "  <thead>\n",
       "    <tr style=\"text-align: right;\">\n",
       "      <th></th>\n",
       "      <th>ID</th>\n",
       "      <th>판매가</th>\n",
       "      <th>화면크기</th>\n",
       "      <th>형태</th>\n",
       "      <th>해상도</th>\n",
       "      <th>화면비율</th>\n",
       "      <th>LCD</th>\n",
       "      <th>LED</th>\n",
       "      <th>OLED</th>\n",
       "      <th>QLED</th>\n",
       "      <th>단자</th>\n",
       "      <th>부가기능</th>\n",
       "    </tr>\n",
       "  </thead>\n",
       "  <tbody>\n",
       "    <tr>\n",
       "      <th>count</th>\n",
       "      <td>7000.000000</td>\n",
       "      <td>7.000000e+03</td>\n",
       "      <td>7000.000000</td>\n",
       "      <td>7000.000000</td>\n",
       "      <td>7000.000000</td>\n",
       "      <td>7000.000000</td>\n",
       "      <td>7000.000000</td>\n",
       "      <td>7000.000000</td>\n",
       "      <td>7000.000000</td>\n",
       "      <td>7000.000000</td>\n",
       "      <td>7000.000000</td>\n",
       "      <td>7000.000000</td>\n",
       "    </tr>\n",
       "    <tr>\n",
       "      <th>mean</th>\n",
       "      <td>10310.438857</td>\n",
       "      <td>1.686936e+06</td>\n",
       "      <td>53.471000</td>\n",
       "      <td>0.086714</td>\n",
       "      <td>1799.794286</td>\n",
       "      <td>0.523857</td>\n",
       "      <td>0.002571</td>\n",
       "      <td>0.820714</td>\n",
       "      <td>0.031286</td>\n",
       "      <td>0.093429</td>\n",
       "      <td>2.835143</td>\n",
       "      <td>3.120857</td>\n",
       "    </tr>\n",
       "    <tr>\n",
       "      <th>std</th>\n",
       "      <td>6000.106692</td>\n",
       "      <td>1.751524e+06</td>\n",
       "      <td>12.147814</td>\n",
       "      <td>0.281436</td>\n",
       "      <td>559.870133</td>\n",
       "      <td>0.499466</td>\n",
       "      <td>0.050648</td>\n",
       "      <td>0.383619</td>\n",
       "      <td>0.174101</td>\n",
       "      <td>0.291053</td>\n",
       "      <td>1.094072</td>\n",
       "      <td>2.040375</td>\n",
       "    </tr>\n",
       "    <tr>\n",
       "      <th>min</th>\n",
       "      <td>8.000000</td>\n",
       "      <td>1.700000e+04</td>\n",
       "      <td>15.000000</td>\n",
       "      <td>0.000000</td>\n",
       "      <td>720.000000</td>\n",
       "      <td>0.000000</td>\n",
       "      <td>0.000000</td>\n",
       "      <td>0.000000</td>\n",
       "      <td>0.000000</td>\n",
       "      <td>0.000000</td>\n",
       "      <td>0.000000</td>\n",
       "      <td>0.000000</td>\n",
       "    </tr>\n",
       "    <tr>\n",
       "      <th>25%</th>\n",
       "      <td>5102.750000</td>\n",
       "      <td>6.086625e+05</td>\n",
       "      <td>43.000000</td>\n",
       "      <td>0.000000</td>\n",
       "      <td>1080.000000</td>\n",
       "      <td>0.000000</td>\n",
       "      <td>0.000000</td>\n",
       "      <td>1.000000</td>\n",
       "      <td>0.000000</td>\n",
       "      <td>0.000000</td>\n",
       "      <td>2.000000</td>\n",
       "      <td>2.000000</td>\n",
       "    </tr>\n",
       "    <tr>\n",
       "      <th>50%</th>\n",
       "      <td>10211.000000</td>\n",
       "      <td>1.159185e+06</td>\n",
       "      <td>55.000000</td>\n",
       "      <td>0.000000</td>\n",
       "      <td>2160.000000</td>\n",
       "      <td>1.000000</td>\n",
       "      <td>0.000000</td>\n",
       "      <td>1.000000</td>\n",
       "      <td>0.000000</td>\n",
       "      <td>0.000000</td>\n",
       "      <td>2.000000</td>\n",
       "      <td>3.000000</td>\n",
       "    </tr>\n",
       "    <tr>\n",
       "      <th>75%</th>\n",
       "      <td>15517.000000</td>\n",
       "      <td>2.147532e+06</td>\n",
       "      <td>65.000000</td>\n",
       "      <td>0.000000</td>\n",
       "      <td>2160.000000</td>\n",
       "      <td>1.000000</td>\n",
       "      <td>0.000000</td>\n",
       "      <td>1.000000</td>\n",
       "      <td>0.000000</td>\n",
       "      <td>0.000000</td>\n",
       "      <td>4.000000</td>\n",
       "      <td>5.000000</td>\n",
       "    </tr>\n",
       "    <tr>\n",
       "      <th>max</th>\n",
       "      <td>20676.000000</td>\n",
       "      <td>2.940000e+07</td>\n",
       "      <td>80.000000</td>\n",
       "      <td>1.000000</td>\n",
       "      <td>2160.000000</td>\n",
       "      <td>1.000000</td>\n",
       "      <td>1.000000</td>\n",
       "      <td>1.000000</td>\n",
       "      <td>1.000000</td>\n",
       "      <td>1.000000</td>\n",
       "      <td>6.000000</td>\n",
       "      <td>8.000000</td>\n",
       "    </tr>\n",
       "  </tbody>\n",
       "</table>\n",
       "</div>"
      ],
      "text/plain": [
       "                 ID           판매가         화면크기           형태          해상도  \\\n",
       "count   7000.000000  7.000000e+03  7000.000000  7000.000000  7000.000000   \n",
       "mean   10310.438857  1.686936e+06    53.471000     0.086714  1799.794286   \n",
       "std     6000.106692  1.751524e+06    12.147814     0.281436   559.870133   \n",
       "min        8.000000  1.700000e+04    15.000000     0.000000   720.000000   \n",
       "25%     5102.750000  6.086625e+05    43.000000     0.000000  1080.000000   \n",
       "50%    10211.000000  1.159185e+06    55.000000     0.000000  2160.000000   \n",
       "75%    15517.000000  2.147532e+06    65.000000     0.000000  2160.000000   \n",
       "max    20676.000000  2.940000e+07    80.000000     1.000000  2160.000000   \n",
       "\n",
       "              화면비율          LCD          LED         OLED         QLED  \\\n",
       "count  7000.000000  7000.000000  7000.000000  7000.000000  7000.000000   \n",
       "mean      0.523857     0.002571     0.820714     0.031286     0.093429   \n",
       "std       0.499466     0.050648     0.383619     0.174101     0.291053   \n",
       "min       0.000000     0.000000     0.000000     0.000000     0.000000   \n",
       "25%       0.000000     0.000000     1.000000     0.000000     0.000000   \n",
       "50%       1.000000     0.000000     1.000000     0.000000     0.000000   \n",
       "75%       1.000000     0.000000     1.000000     0.000000     0.000000   \n",
       "max       1.000000     1.000000     1.000000     1.000000     1.000000   \n",
       "\n",
       "                단자         부가기능  \n",
       "count  7000.000000  7000.000000  \n",
       "mean      2.835143     3.120857  \n",
       "std       1.094072     2.040375  \n",
       "min       0.000000     0.000000  \n",
       "25%       2.000000     2.000000  \n",
       "50%       2.000000     3.000000  \n",
       "75%       4.000000     5.000000  \n",
       "max       6.000000     8.000000  "
      ]
     },
     "metadata": {},
     "execution_count": 17
    }
   ],
   "metadata": {}
  },
  {
   "cell_type": "code",
   "execution_count": 30,
   "source": [
    "train_df[(train_df['LCD']==0) & (train_df['LED']==0) & (train_df['OLED']==0) & (train_df['QLED']==0)]\r\n",
    "search_df = train_df[(train_df['LCD']==0) & (train_df['LED']==0) & (train_df['OLED']==0) & (train_df['QLED']==0)]\r\n",
    "train_df = train_df.drop(search_df.index, axis=0)"
   ],
   "outputs": [],
   "metadata": {}
  },
  {
   "cell_type": "code",
   "execution_count": 22,
   "source": [
    "test_df[(test_df['LCD']==0) & (test_df['LED']==0) & (test_df['OLED']==0) & (test_df['QLED']==0)]\r\n",
    "search_df = test_df[(test_df['LCD']==0) & (test_df['LED']==0) & (test_df['OLED']==0) & (test_df['QLED']==0)]\r\n",
    "test_df = test_df.drop(search_df.index, axis=0)"
   ],
   "outputs": [],
   "metadata": {}
  },
  {
   "cell_type": "code",
   "execution_count": 24,
   "source": [
    "x_train = train_df.drop(['ID', '판매가'], axis=1) #id는 x변수에 해당되지 않고, 판매가는 y값으로 할거\r\n",
    "x_test = test_df.drop(['ID', '판매가'], axis=1)\r\n",
    "y_train = train_df['판매가']\r\n",
    "y_test = test_df['판매가']"
   ],
   "outputs": [],
   "metadata": {}
  },
  {
   "cell_type": "code",
   "execution_count": 43,
   "source": [
    "print(x_train.shape, y_train.shape) # 행개수 일치하는지 확인\r\n",
    "print(x_test.shape, y_test.shape) # x의 열의 개수 확인\r\n",
    "# 모델상 입력되는 10개의 x의 변수가 있음.\r\n",
    "# 딥러닝의 경우 사용자가 입력 x의 개수 직접 설정해야 한다.그런데(컴퓨터가 계산하는 shpae와 다르면 에러난다;;)"
   ],
   "outputs": [
    {
     "output_type": "stream",
     "name": "stdout",
     "text": [
      "(6636, 10) (6636,)\n",
      "(2816, 10) (2816,)\n"
     ]
    }
   ],
   "metadata": {}
  },
  {
   "cell_type": "code",
   "execution_count": 48,
   "source": [
    "x_train = x_train.to_numpy()\r\n",
    "x_test = x_test.to_numpy()\r\n",
    "# 머신러닝, 딥러닝에서는 array만 처리함"
   ],
   "outputs": [],
   "metadata": {}
  },
  {
   "cell_type": "code",
   "execution_count": 61,
   "source": [
    "#선형회귀\r\n",
    "from sklearn.linear_model import LinearRegression\r\n",
    "model = LinearRegression()\r\n",
    "model.fit(x_train, y_train)\r\n",
    "model.score(x_test,y_test)"
   ],
   "outputs": [
    {
     "output_type": "execute_result",
     "data": {
      "text/plain": [
       "0.5365762057290635"
      ]
     },
     "metadata": {},
     "execution_count": 61
    }
   ],
   "metadata": {}
  },
  {
   "cell_type": "markdown",
   "source": [
    "## 라쏘 모델"
   ],
   "metadata": {}
  },
  {
   "cell_type": "code",
   "execution_count": 60,
   "source": [
    "#라쏘 모델 영향없는 X 지워버리기(회귀계수값이 작은)\r\n",
    "# 라쏘 리지 모델에서 alpha 값은 규제정도를 나타낸다. 클수록 규제를 강하게 함\r\n",
    "from sklearn.linear_model import Lasso\r\n",
    "alpha_list = [1.0, 0.1, 100]\r\n",
    "for alpha in alpha_list:\r\n",
    "    model_lasso = Lasso(alpha=alpha)\r\n",
    "    model_lasso.fit(x_train, y_train)\r\n",
    "    print(model_lasso.score(x_test, y_test))"
   ],
   "outputs": [
    {
     "output_type": "stream",
     "name": "stdout",
     "text": [
      "0.536576162556117\n",
      "0.5365762014209382\n",
      "0.5366039678040928\n"
     ]
    },
    {
     "output_type": "stream",
     "name": "stderr",
     "text": [
      "C:\\Users\\TH\\anaconda3\\lib\\site-packages\\sklearn\\linear_model\\_coordinate_descent.py:530: ConvergenceWarning: Objective did not converge. You might want to increase the number of iterations. Duality gap: 11166778068930.0, tolerance: 1945429560415.7078\n",
      "  model = cd_fast.enet_coordinate_descent(\n",
      "C:\\Users\\TH\\anaconda3\\lib\\site-packages\\sklearn\\linear_model\\_coordinate_descent.py:530: ConvergenceWarning: Objective did not converge. You might want to increase the number of iterations. Duality gap: 11148959678351.0, tolerance: 1945429560415.7078\n",
      "  model = cd_fast.enet_coordinate_descent(\n"
     ]
    }
   ],
   "metadata": {}
  },
  {
   "cell_type": "markdown",
   "source": [
    "## 리지모델"
   ],
   "metadata": {}
  },
  {
   "cell_type": "code",
   "execution_count": 59,
   "source": [
    "#리지 여러개의 X변수중 영향력이 너무 큰 값 제거\r\n",
    "from sklearn.linear_model import Ridge\r\n",
    "alpha_list = [1.0, 0.1, 100]\r\n",
    "for alpha in alpha_list:\r\n",
    "    model_ridge = Ridge(alpha=alpha)\r\n",
    "    model_ridge.fit(x_train, y_train)\r\n",
    "    print(model_ridge.score(x_test, y_test))"
   ],
   "outputs": [
    {
     "output_type": "stream",
     "name": "stdout",
     "text": [
      "0.5365924719385908\n",
      "0.5365780534201788\n",
      "0.5359588359730014\n"
     ]
    }
   ],
   "metadata": {}
  },
  {
   "cell_type": "markdown",
   "source": [
    "## 안했던것들 (앞으로 해야되는것)\r\n",
    "- y값 판맨가와 각 x변수들 끼리의 연관도\r\n",
    "- 전처리 수행해야되고\r\n",
    "- 이상치 확인해서 제거해야되고\r\n",
    "- 다중 공선성도 확인해야함(x값들끼리의 연관도가 높으면 그중 하나의 변수 제거) VIF 사용\r\n",
    "- 데이터 스케일링(데이터 값을 일정한 범위로 맞춤)"
   ],
   "metadata": {}
  },
  {
   "cell_type": "markdown",
   "source": [
    "### 선형회귀식에서 사용된 변수들의 검증 (OLS), Pvalue 등을 확인"
   ],
   "metadata": {}
  },
  {
   "cell_type": "markdown",
   "source": [
    "## 모델 피팅, 실행\r\n",
    "- [과대적합] 트레이닝 자료에서 r2 스코어가 좋은데 테스트 자료에서는 나쁘게 나올때\r\n",
    "- [과소적합] 이는 모델이 너무 단순해서 데이터의 내재된 구조를 학습하지 못할 때 발생합니다."
   ],
   "metadata": {}
  },
  {
   "cell_type": "code",
   "execution_count": 62,
   "source": [
    "train_df.corr()"
   ],
   "outputs": [
    {
     "output_type": "execute_result",
     "data": {
      "text/html": [
       "<div>\n",
       "<style scoped>\n",
       "    .dataframe tbody tr th:only-of-type {\n",
       "        vertical-align: middle;\n",
       "    }\n",
       "\n",
       "    .dataframe tbody tr th {\n",
       "        vertical-align: top;\n",
       "    }\n",
       "\n",
       "    .dataframe thead th {\n",
       "        text-align: right;\n",
       "    }\n",
       "</style>\n",
       "<table border=\"1\" class=\"dataframe\">\n",
       "  <thead>\n",
       "    <tr style=\"text-align: right;\">\n",
       "      <th></th>\n",
       "      <th>ID</th>\n",
       "      <th>판매가</th>\n",
       "      <th>화면크기</th>\n",
       "      <th>형태</th>\n",
       "      <th>해상도</th>\n",
       "      <th>화면비율</th>\n",
       "      <th>LCD</th>\n",
       "      <th>LED</th>\n",
       "      <th>OLED</th>\n",
       "      <th>QLED</th>\n",
       "      <th>단자</th>\n",
       "      <th>부가기능</th>\n",
       "    </tr>\n",
       "  </thead>\n",
       "  <tbody>\n",
       "    <tr>\n",
       "      <th>ID</th>\n",
       "      <td>1.000000</td>\n",
       "      <td>0.209871</td>\n",
       "      <td>0.059389</td>\n",
       "      <td>0.114880</td>\n",
       "      <td>-0.029099</td>\n",
       "      <td>0.120977</td>\n",
       "      <td>0.025500</td>\n",
       "      <td>-0.111327</td>\n",
       "      <td>0.122795</td>\n",
       "      <td>0.049296</td>\n",
       "      <td>0.002121</td>\n",
       "      <td>0.244514</td>\n",
       "    </tr>\n",
       "    <tr>\n",
       "      <th>판매가</th>\n",
       "      <td>0.209871</td>\n",
       "      <td>1.000000</td>\n",
       "      <td>0.634457</td>\n",
       "      <td>0.052178</td>\n",
       "      <td>0.370425</td>\n",
       "      <td>-0.150205</td>\n",
       "      <td>-0.008157</td>\n",
       "      <td>-0.487213</td>\n",
       "      <td>0.239198</td>\n",
       "      <td>0.415364</td>\n",
       "      <td>-0.214304</td>\n",
       "      <td>0.371879</td>\n",
       "    </tr>\n",
       "    <tr>\n",
       "      <th>화면크기</th>\n",
       "      <td>0.059389</td>\n",
       "      <td>0.634457</td>\n",
       "      <td>1.000000</td>\n",
       "      <td>0.111088</td>\n",
       "      <td>0.686708</td>\n",
       "      <td>-0.078878</td>\n",
       "      <td>0.007966</td>\n",
       "      <td>-0.263554</td>\n",
       "      <td>0.094148</td>\n",
       "      <td>0.243651</td>\n",
       "      <td>-0.156203</td>\n",
       "      <td>0.387837</td>\n",
       "    </tr>\n",
       "    <tr>\n",
       "      <th>형태</th>\n",
       "      <td>0.114880</td>\n",
       "      <td>0.052178</td>\n",
       "      <td>0.111088</td>\n",
       "      <td>1.000000</td>\n",
       "      <td>0.135387</td>\n",
       "      <td>-0.045618</td>\n",
       "      <td>-0.016548</td>\n",
       "      <td>-0.023764</td>\n",
       "      <td>-0.032282</td>\n",
       "      <td>0.049418</td>\n",
       "      <td>-0.067695</td>\n",
       "      <td>0.139098</td>\n",
       "    </tr>\n",
       "    <tr>\n",
       "      <th>해상도</th>\n",
       "      <td>-0.029099</td>\n",
       "      <td>0.370425</td>\n",
       "      <td>0.686708</td>\n",
       "      <td>0.135387</td>\n",
       "      <td>1.000000</td>\n",
       "      <td>-0.112418</td>\n",
       "      <td>-0.064289</td>\n",
       "      <td>-0.228817</td>\n",
       "      <td>0.087024</td>\n",
       "      <td>0.220796</td>\n",
       "      <td>-0.276793</td>\n",
       "      <td>0.347716</td>\n",
       "    </tr>\n",
       "    <tr>\n",
       "      <th>화면비율</th>\n",
       "      <td>0.120977</td>\n",
       "      <td>-0.150205</td>\n",
       "      <td>-0.078878</td>\n",
       "      <td>-0.045618</td>\n",
       "      <td>-0.112418</td>\n",
       "      <td>1.000000</td>\n",
       "      <td>-0.054632</td>\n",
       "      <td>0.184225</td>\n",
       "      <td>-0.024628</td>\n",
       "      <td>-0.186433</td>\n",
       "      <td>0.298510</td>\n",
       "      <td>0.309073</td>\n",
       "    </tr>\n",
       "    <tr>\n",
       "      <th>LCD</th>\n",
       "      <td>0.025500</td>\n",
       "      <td>-0.008157</td>\n",
       "      <td>0.007966</td>\n",
       "      <td>-0.016548</td>\n",
       "      <td>-0.064289</td>\n",
       "      <td>-0.054632</td>\n",
       "      <td>1.000000</td>\n",
       "      <td>-0.132428</td>\n",
       "      <td>-0.009634</td>\n",
       "      <td>-0.017244</td>\n",
       "      <td>0.053150</td>\n",
       "      <td>-0.079624</td>\n",
       "    </tr>\n",
       "    <tr>\n",
       "      <th>LED</th>\n",
       "      <td>-0.111327</td>\n",
       "      <td>-0.487213</td>\n",
       "      <td>-0.263554</td>\n",
       "      <td>-0.023764</td>\n",
       "      <td>-0.228817</td>\n",
       "      <td>0.184225</td>\n",
       "      <td>-0.132428</td>\n",
       "      <td>1.000000</td>\n",
       "      <td>-0.469097</td>\n",
       "      <td>-0.839599</td>\n",
       "      <td>0.277607</td>\n",
       "      <td>-0.152042</td>\n",
       "    </tr>\n",
       "    <tr>\n",
       "      <th>OLED</th>\n",
       "      <td>0.122795</td>\n",
       "      <td>0.239198</td>\n",
       "      <td>0.094148</td>\n",
       "      <td>-0.032282</td>\n",
       "      <td>0.087024</td>\n",
       "      <td>-0.024628</td>\n",
       "      <td>-0.009634</td>\n",
       "      <td>-0.469097</td>\n",
       "      <td>1.000000</td>\n",
       "      <td>-0.061083</td>\n",
       "      <td>-0.103933</td>\n",
       "      <td>0.072242</td>\n",
       "    </tr>\n",
       "    <tr>\n",
       "      <th>QLED</th>\n",
       "      <td>0.049296</td>\n",
       "      <td>0.415364</td>\n",
       "      <td>0.243651</td>\n",
       "      <td>0.049418</td>\n",
       "      <td>0.220796</td>\n",
       "      <td>-0.186433</td>\n",
       "      <td>-0.017244</td>\n",
       "      <td>-0.839599</td>\n",
       "      <td>-0.061083</td>\n",
       "      <td>1.000000</td>\n",
       "      <td>-0.264525</td>\n",
       "      <td>0.144511</td>\n",
       "    </tr>\n",
       "    <tr>\n",
       "      <th>단자</th>\n",
       "      <td>0.002121</td>\n",
       "      <td>-0.214304</td>\n",
       "      <td>-0.156203</td>\n",
       "      <td>-0.067695</td>\n",
       "      <td>-0.276793</td>\n",
       "      <td>0.298510</td>\n",
       "      <td>0.053150</td>\n",
       "      <td>0.277607</td>\n",
       "      <td>-0.103933</td>\n",
       "      <td>-0.264525</td>\n",
       "      <td>1.000000</td>\n",
       "      <td>0.124277</td>\n",
       "    </tr>\n",
       "    <tr>\n",
       "      <th>부가기능</th>\n",
       "      <td>0.244514</td>\n",
       "      <td>0.371879</td>\n",
       "      <td>0.387837</td>\n",
       "      <td>0.139098</td>\n",
       "      <td>0.347716</td>\n",
       "      <td>0.309073</td>\n",
       "      <td>-0.079624</td>\n",
       "      <td>-0.152042</td>\n",
       "      <td>0.072242</td>\n",
       "      <td>0.144511</td>\n",
       "      <td>0.124277</td>\n",
       "      <td>1.000000</td>\n",
       "    </tr>\n",
       "  </tbody>\n",
       "</table>\n",
       "</div>"
      ],
      "text/plain": [
       "            ID       판매가      화면크기        형태       해상도      화면비율       LCD  \\\n",
       "ID    1.000000  0.209871  0.059389  0.114880 -0.029099  0.120977  0.025500   \n",
       "판매가   0.209871  1.000000  0.634457  0.052178  0.370425 -0.150205 -0.008157   \n",
       "화면크기  0.059389  0.634457  1.000000  0.111088  0.686708 -0.078878  0.007966   \n",
       "형태    0.114880  0.052178  0.111088  1.000000  0.135387 -0.045618 -0.016548   \n",
       "해상도  -0.029099  0.370425  0.686708  0.135387  1.000000 -0.112418 -0.064289   \n",
       "화면비율  0.120977 -0.150205 -0.078878 -0.045618 -0.112418  1.000000 -0.054632   \n",
       "LCD   0.025500 -0.008157  0.007966 -0.016548 -0.064289 -0.054632  1.000000   \n",
       "LED  -0.111327 -0.487213 -0.263554 -0.023764 -0.228817  0.184225 -0.132428   \n",
       "OLED  0.122795  0.239198  0.094148 -0.032282  0.087024 -0.024628 -0.009634   \n",
       "QLED  0.049296  0.415364  0.243651  0.049418  0.220796 -0.186433 -0.017244   \n",
       "단자    0.002121 -0.214304 -0.156203 -0.067695 -0.276793  0.298510  0.053150   \n",
       "부가기능  0.244514  0.371879  0.387837  0.139098  0.347716  0.309073 -0.079624   \n",
       "\n",
       "           LED      OLED      QLED        단자      부가기능  \n",
       "ID   -0.111327  0.122795  0.049296  0.002121  0.244514  \n",
       "판매가  -0.487213  0.239198  0.415364 -0.214304  0.371879  \n",
       "화면크기 -0.263554  0.094148  0.243651 -0.156203  0.387837  \n",
       "형태   -0.023764 -0.032282  0.049418 -0.067695  0.139098  \n",
       "해상도  -0.228817  0.087024  0.220796 -0.276793  0.347716  \n",
       "화면비율  0.184225 -0.024628 -0.186433  0.298510  0.309073  \n",
       "LCD  -0.132428 -0.009634 -0.017244  0.053150 -0.079624  \n",
       "LED   1.000000 -0.469097 -0.839599  0.277607 -0.152042  \n",
       "OLED -0.469097  1.000000 -0.061083 -0.103933  0.072242  \n",
       "QLED -0.839599 -0.061083  1.000000 -0.264525  0.144511  \n",
       "단자    0.277607 -0.103933 -0.264525  1.000000  0.124277  \n",
       "부가기능 -0.152042  0.072242  0.144511  0.124277  1.000000  "
      ]
     },
     "metadata": {},
     "execution_count": 62
    }
   ],
   "metadata": {}
  }
 ],
 "metadata": {
  "orig_nbformat": 4,
  "language_info": {
   "name": "python",
   "version": "3.8.10",
   "mimetype": "text/x-python",
   "codemirror_mode": {
    "name": "ipython",
    "version": 3
   },
   "pygments_lexer": "ipython3",
   "nbconvert_exporter": "python",
   "file_extension": ".py"
  },
  "kernelspec": {
   "name": "python3",
   "display_name": "Python 3.8.10 64-bit ('base': conda)"
  },
  "interpreter": {
   "hash": "345fc451c7e0336b9390ad1fad588039702f89ec6d37597eff879e480e25ffdb"
  }
 },
 "nbformat": 4,
 "nbformat_minor": 2
}