{
 "cells": [
  {
   "cell_type": "markdown",
   "source": [
    "# 이항 분류함수\r\n",
    "- y레이블(종속변수)의 결과가 두가지의 분류결과만 나옴\r\n",
    "- 사이킷런 ML에서 참고\r\n",
    "    - 로지스틱(로짓) 회귀분석에서는 결과값이 0 또는 1로 나오게하면 분류\r\n",
    "    - 로지스틱(로짓) 회귀분석에서는 결과값이 0-1사이로 나오게하면 회귀임\r\n",
    "\r\n",
    "- 오즈비(예 : 게임에서 오즈비가 1/4로 표기되면 해석 : 총5 게임해서 1번이김)\r\n",
    "- 오즈비가 1이면 4/4, 4승 4패 50%, 귀무가설체택"
   ],
   "metadata": {}
  },
  {
   "cell_type": "code",
   "execution_count": 5,
   "source": [
    "import numpy as np"
   ],
   "outputs": [],
   "metadata": {}
  },
  {
   "cell_type": "code",
   "execution_count": 4,
   "source": [
    "x = [12, 3 ,4 ,3]\r\n",
    "y = ['생존', '생존', '사망', '생존']\r\n",
    "\r\n",
    "y_label = []\r\n",
    "for i in y:\r\n",
    "    if i == '생존':\r\n",
    "        y_label.append(1)\r\n",
    "    else:\r\n",
    "        y_label.append(0)\r\n",
    "print(y_label)\r\n",
    "\r\n",
    "\r\n",
    "x = np.array(x)\r\n",
    "\r\n",
    "y_hat = 1/(1+np.exp(-x)) #시그모어 함수\r\n",
    "# w,b 값을 계산하고 0-1사이 갑싱 나올수 있는 계산식이어야함\r\n",
    "# y_hat이 최종값이면 이값을 0과 1로 제작해야만 실제 y값과 비교 가능\r\n",
    "y_hat"
   ],
   "outputs": [
    {
     "output_type": "stream",
     "name": "stdout",
     "text": [
      "[1, 1, 0, 1]\n"
     ]
    },
    {
     "output_type": "execute_result",
     "data": {
      "text/plain": [
       "array([0.99999386, 0.95257413, 0.98201379, 0.95257413])"
      ]
     },
     "metadata": {},
     "execution_count": 4
    }
   ],
   "metadata": {}
  },
  {
   "cell_type": "code",
   "execution_count": 6,
   "source": [
    "x = [12, 3 ,4 ,3]\r\n",
    "y = ['생존', '생존', '사망', '생존']\r\n",
    "\r\n",
    "y_label = []\r\n",
    "for i in y:\r\n",
    "    if i == '생존':\r\n",
    "        y_label.append(1)\r\n",
    "    else:\r\n",
    "        y_label.append(0)\r\n",
    "print(y_label)\r\n",
    "\r\n",
    "\r\n",
    "x = np.array(x)\r\n",
    "\r\n",
    "y_hat = 1/(1+np.exp(-x)) #시그모어 함수\r\n",
    "# w,b 값을 계산하고 0-1사이 갑싱 나올수 있는 계산식이어야함\r\n",
    "# y_hat이 최종값이면 이값을 0과 1로 제작해야만 실제 y값과 비교 가능\r\n",
    "y_hat_result = []\r\n",
    "\r\n",
    "for i in y_hat:\r\n",
    "    if i > 0.5:  #임계구역은 사용자가 정한다\r\n",
    "        y_hat_result.append(1)\r\n",
    "    else:\r\n",
    "        y_hat_result.append(0)\r\n",
    "\r\n",
    "y_hat_result"
   ],
   "outputs": [
    {
     "output_type": "stream",
     "name": "stdout",
     "text": [
      "[1, 1, 0, 1]\n"
     ]
    },
    {
     "output_type": "execute_result",
     "data": {
      "text/plain": [
       "[1, 1, 1, 1]"
      ]
     },
     "metadata": {},
     "execution_count": 6
    }
   ],
   "metadata": {}
  },
  {
   "cell_type": "markdown",
   "source": [
    "- 이항분류에서는 실제값하고 예측값하고의 일치율을 계산함\r\n",
    "- 4가지 경우를 계산\r\n",
    "- y값이 1 , y예측값이 1\r\n",
    "- y값이 1 , y예측값이 0\r\n",
    "- y값이 0 , y예측값이 1\r\n",
    "- y값이 0 , y예측값이 0\\\r\n",
    "            y예측\r\n",
    "        1(T)    0(F)\r\n",
    "y 1(T)   TT      TF\r\n",
    "  0(F)   FT      FF"
   ],
   "metadata": {}
  },
  {
   "cell_type": "markdown",
   "source": [
    "### 이항분류에서 꼭 시그노이드 함수를 사용하지 않아도 된다\r\n",
    "- x값을 넣었을때 0 과 1 사이에 나올수 있는 여러 함수 골라서 사용"
   ],
   "metadata": {}
  },
  {
   "cell_type": "code",
   "execution_count": 8,
   "source": [
    "## 참고\r\n",
    "## argmax\r\n",
    "\r\n",
    "a=[0.00003, 0.000007, 0.00002, 0.99999, 0.00002]\r\n",
    "y_hat_label=['빨강','파랑','초록','검정','흰색']\r\n",
    "y_hat_label[np.argmax(a)]\r\n"
   ],
   "outputs": [
    {
     "output_type": "execute_result",
     "data": {
      "text/plain": [
       "'검정'"
      ]
     },
     "metadata": {},
     "execution_count": 8
    }
   ],
   "metadata": {}
  }
 ],
 "metadata": {
  "orig_nbformat": 4,
  "language_info": {
   "name": "python",
   "version": "3.8.10",
   "mimetype": "text/x-python",
   "codemirror_mode": {
    "name": "ipython",
    "version": 3
   },
   "pygments_lexer": "ipython3",
   "nbconvert_exporter": "python",
   "file_extension": ".py"
  },
  "kernelspec": {
   "name": "python3",
   "display_name": "Python 3.8.10 64-bit ('base': conda)"
  },
  "interpreter": {
   "hash": "345fc451c7e0336b9390ad1fad588039702f89ec6d37597eff879e480e25ffdb"
  }
 },
 "nbformat": 4,
 "nbformat_minor": 2
}