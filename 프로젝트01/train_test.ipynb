{
 "cells": [
  {
   "cell_type": "code",
   "execution_count": 723,
   "source": [
    "# 메모리 변수 모두 제거\r\n",
    "all = [var for var in globals() if var[0] != \"_\"]\r\n",
    "for var in all:\r\n",
    "    del globals()[var]\r\n",
    "\r\n",
    "# 메모리 변수 확인\r\n",
    "#globals()"
   ],
   "outputs": [],
   "metadata": {}
  },
  {
   "cell_type": "code",
   "execution_count": 724,
   "source": [
    "import pandas as pd\r\n",
    "import numpy as np\r\n",
    "import warnings \r\n",
    "warnings.filterwarnings(action='ignore')\r\n",
    "import matplotlib.pyplot as plt\r\n",
    "import seaborn as sns\r\n",
    "import matplotlib\r\n",
    "matplotlib.rcParams['axes.unicode_minus'] = False\r\n",
    "plt.rc('font', family='Malgun Gothic')\r\n",
    "import pickle\r\n",
    "\r\n",
    "from sklearn.model_selection import train_test_split\r\n",
    "\r\n",
    "from sklearn.preprocessing import StandardScaler \r\n",
    "\r\n",
    "from sklearn.metrics import mean_squared_error  # MSE RMSE\r\n",
    "from sklearn.metrics import mean_absolute_error, r2_score # mae\r\n",
    "from sklearn.model_selection import GridSearchCV\r\n",
    "from sklearn.ensemble import RandomForestRegressor\r\n",
    "import eli5 \r\n",
    "from eli5.sklearn import PermutationImportance "
   ],
   "outputs": [],
   "metadata": {}
  },
  {
   "cell_type": "code",
   "execution_count": 725,
   "source": [
    "df1 = pd.read_csv('data/train_메뉴제외.csv')\r\n",
    "df3 = pd.read_csv('data/메뉴구분3.csv')"
   ],
   "outputs": [],
   "metadata": {}
  },
  {
   "cell_type": "code",
   "execution_count": 726,
   "source": [
    "df_test_lunch = pd.read_csv('data/test_lunch.csv')\r\n",
    "df_test_dinner = pd.read_csv('data/test_dinner.csv')"
   ],
   "outputs": [],
   "metadata": {}
  },
  {
   "cell_type": "code",
   "execution_count": 727,
   "source": [
    "df_test_lunch.columns"
   ],
   "outputs": [
    {
     "output_type": "execute_result",
     "data": {
      "text/plain": [
       "Index(['일자', '요일', '본사정원수', '본사휴가자수', '본사출장자수', '본사시간외근무명령서승인건수',\n",
       "       '현본사소속재택근무자수', '식사가능인원', '월', '중식강수여부', '중식기온', '중식강수량', '석식강수여부',\n",
       "       '석식기온', '석식강수량', '확진자수', '휴일전날', '휴일다음날', '국분류', '메뉴분류'],\n",
       "      dtype='object')"
      ]
     },
     "metadata": {},
     "execution_count": 727
    }
   ],
   "metadata": {}
  },
  {
   "cell_type": "code",
   "execution_count": 728,
   "source": [
    "#plt.figure(figsize=(7,5))\r\n",
    "#sns.heatmap(df1.corr())"
   ],
   "outputs": [],
   "metadata": {}
  },
  {
   "cell_type": "markdown",
   "source": [
    "## 스케일링\r\n",
    "- y값과 카데고리 변수 제외하고 전부 스케일링"
   ],
   "metadata": {}
  },
  {
   "cell_type": "code",
   "execution_count": 729,
   "source": [
    "df_test_lunch.head(2)"
   ],
   "outputs": [
    {
     "output_type": "execute_result",
     "data": {
      "text/html": [
       "<div>\n",
       "<style scoped>\n",
       "    .dataframe tbody tr th:only-of-type {\n",
       "        vertical-align: middle;\n",
       "    }\n",
       "\n",
       "    .dataframe tbody tr th {\n",
       "        vertical-align: top;\n",
       "    }\n",
       "\n",
       "    .dataframe thead th {\n",
       "        text-align: right;\n",
       "    }\n",
       "</style>\n",
       "<table border=\"1\" class=\"dataframe\">\n",
       "  <thead>\n",
       "    <tr style=\"text-align: right;\">\n",
       "      <th></th>\n",
       "      <th>일자</th>\n",
       "      <th>요일</th>\n",
       "      <th>본사정원수</th>\n",
       "      <th>본사휴가자수</th>\n",
       "      <th>본사출장자수</th>\n",
       "      <th>본사시간외근무명령서승인건수</th>\n",
       "      <th>현본사소속재택근무자수</th>\n",
       "      <th>식사가능인원</th>\n",
       "      <th>월</th>\n",
       "      <th>중식강수여부</th>\n",
       "      <th>중식기온</th>\n",
       "      <th>중식강수량</th>\n",
       "      <th>석식강수여부</th>\n",
       "      <th>석식기온</th>\n",
       "      <th>석식강수량</th>\n",
       "      <th>확진자수</th>\n",
       "      <th>휴일전날</th>\n",
       "      <th>휴일다음날</th>\n",
       "      <th>국분류</th>\n",
       "      <th>메뉴분류</th>\n",
       "    </tr>\n",
       "  </thead>\n",
       "  <tbody>\n",
       "    <tr>\n",
       "      <th>0</th>\n",
       "      <td>2021-01-27</td>\n",
       "      <td>수</td>\n",
       "      <td>2983</td>\n",
       "      <td>88</td>\n",
       "      <td>182</td>\n",
       "      <td>5</td>\n",
       "      <td>358.0</td>\n",
       "      <td>2355.0</td>\n",
       "      <td>1</td>\n",
       "      <td>0</td>\n",
       "      <td>8.4</td>\n",
       "      <td>0.0</td>\n",
       "      <td>0</td>\n",
       "      <td>7.6</td>\n",
       "      <td>0.0</td>\n",
       "      <td>559</td>\n",
       "      <td>0</td>\n",
       "      <td>0</td>\n",
       "      <td>탕</td>\n",
       "      <td>육류</td>\n",
       "    </tr>\n",
       "    <tr>\n",
       "      <th>1</th>\n",
       "      <td>2021-01-28</td>\n",
       "      <td>목</td>\n",
       "      <td>2983</td>\n",
       "      <td>104</td>\n",
       "      <td>212</td>\n",
       "      <td>409</td>\n",
       "      <td>348.0</td>\n",
       "      <td>2319.0</td>\n",
       "      <td>1</td>\n",
       "      <td>0</td>\n",
       "      <td>10.1</td>\n",
       "      <td>0.0</td>\n",
       "      <td>0</td>\n",
       "      <td>1.2</td>\n",
       "      <td>0.0</td>\n",
       "      <td>497</td>\n",
       "      <td>0</td>\n",
       "      <td>0</td>\n",
       "      <td>찌개</td>\n",
       "      <td>조류</td>\n",
       "    </tr>\n",
       "  </tbody>\n",
       "</table>\n",
       "</div>"
      ],
      "text/plain": [
       "           일자 요일  본사정원수  본사휴가자수  본사출장자수  본사시간외근무명령서승인건수  현본사소속재택근무자수  식사가능인원  \\\n",
       "0  2021-01-27  수   2983      88     182               5        358.0  2355.0   \n",
       "1  2021-01-28  목   2983     104     212             409        348.0  2319.0   \n",
       "\n",
       "   월  중식강수여부  중식기온  중식강수량  석식강수여부  석식기온  석식강수량  확진자수  휴일전날  휴일다음날 국분류 메뉴분류  \n",
       "0  1       0   8.4    0.0       0   7.6    0.0   559     0      0   탕   육류  \n",
       "1  1       0  10.1    0.0       0   1.2    0.0   497     0      0  찌개   조류  "
      ]
     },
     "metadata": {},
     "execution_count": 729
    }
   ],
   "metadata": {}
  },
  {
   "cell_type": "markdown",
   "source": [
    "### train_data"
   ],
   "metadata": {}
  },
  {
   "cell_type": "code",
   "execution_count": 730,
   "source": [
    "# 일자 드랍하고 y값 2개 뺴고 전부다 스케일링 해버리자\r\n",
    "#df1['요일'] =  df1['요일'].astype('category') #요일을 카테고리화 하였다\r\n",
    "#df1['요일'] = df1.요일.cat.codes #요일을 숫자로 바꿈\r\n",
    "# 연, 월, 요일, 중식강수여부, 석시강수여부, 휴일전날, 휴일다음날 이 카데고리 전부 더미화 할지 생각해 보자\r\n",
    "y = df1[['요일','중식계', '석식계','일자','중식강수여부','석식강수여부','휴일전날', '휴일다음날', '월']]\r\n",
    "\r\n",
    "x = df1.drop(columns=['요일','중식계', '석식계','일자','중식강수여부','석식강수여부','휴일전날', '휴일다음날','월']) # 카테고리컬 변수와 y값으로 쓸 변수 일자변수 빼고 전부 스케일링\r\n",
    "x = StandardScaler().fit_transform(x)"
   ],
   "outputs": [],
   "metadata": {}
  },
  {
   "cell_type": "code",
   "execution_count": 731,
   "source": [
    "x = pd.DataFrame(x,columns=df1.drop(columns=['요일','중식계', '석식계','일자','중식강수여부','석식강수여부','휴일전날', '휴일다음날', '월']).columns)\r\n",
    "df1 =pd.concat([x,y],axis=1)"
   ],
   "outputs": [],
   "metadata": {}
  },
  {
   "cell_type": "markdown",
   "source": [
    "### test_data_lunch"
   ],
   "metadata": {}
  },
  {
   "cell_type": "code",
   "execution_count": 732,
   "source": [
    "y = df_test_lunch[['요일','일자','중식강수여부','석식강수여부','휴일전날', '휴일다음날', '월', '국분류', '메뉴분류']]\r\n",
    "\r\n",
    "x = df_test_lunch.drop(columns=['요일','일자','중식강수여부','석식강수여부','휴일전날', '휴일다음날', '월', '국분류', '메뉴분류'])\r\n",
    "x = StandardScaler().fit_transform(x)\r\n",
    "x = pd.DataFrame(x,columns=df_test_lunch.drop(columns=['요일','일자','중식강수여부','석식강수여부','휴일전날', '휴일다음날', '월', '국분류', '메뉴분류']).columns)\r\n",
    "df_test_lunch =pd.concat([x,y],axis=1)"
   ],
   "outputs": [],
   "metadata": {}
  },
  {
   "cell_type": "markdown",
   "source": [
    "### test_data_dinner"
   ],
   "metadata": {}
  },
  {
   "cell_type": "code",
   "execution_count": 733,
   "source": [
    "y = df_test_dinner[['요일','일자','중식강수여부','석식강수여부','휴일전날', '휴일다음날', '월', '국분류', '메뉴분류']]\r\n",
    "\r\n",
    "x = df_test_dinner.drop(columns=['요일','일자','중식강수여부','석식강수여부','휴일전날', '휴일다음날', '월', '국분류', '메뉴분류'])\r\n",
    "x = StandardScaler().fit_transform(x)\r\n",
    "x = pd.DataFrame(x,columns=df_test_dinner.drop(columns=['요일','일자','중식강수여부','석식강수여부','휴일전날', '휴일다음날', '월', '국분류', '메뉴분류']).columns)\r\n",
    "df_test_dinner =pd.concat([x,y],axis=1)"
   ],
   "outputs": [],
   "metadata": {}
  },
  {
   "cell_type": "code",
   "execution_count": 734,
   "source": [
    "#국분류 메뉴분류 때내기\r\n",
    "df_test_lunch_cat = df_test_lunch[['국분류', '메뉴분류']]\r\n",
    "df_test_dinner_cat = df_test_dinner[['국분류', '메뉴분류']]\r\n",
    "df_test_lunch.drop(columns=['국분류', '메뉴분류'],inplace=True)\r\n",
    "df_test_dinner.drop(columns=['국분류', '메뉴분류'],inplace=True)"
   ],
   "outputs": [],
   "metadata": {}
  },
  {
   "cell_type": "code",
   "execution_count": 735,
   "source": [
    "df_test_lunch.columns "
   ],
   "outputs": [
    {
     "output_type": "execute_result",
     "data": {
      "text/plain": [
       "Index(['본사정원수', '본사휴가자수', '본사출장자수', '본사시간외근무명령서승인건수', '현본사소속재택근무자수', '식사가능인원',\n",
       "       '중식기온', '중식강수량', '석식기온', '석식강수량', '확진자수', '요일', '일자', '중식강수여부',\n",
       "       '석식강수여부', '휴일전날', '휴일다음날', '월'],\n",
       "      dtype='object')"
      ]
     },
     "metadata": {},
     "execution_count": 735
    }
   ],
   "metadata": {}
  },
  {
   "cell_type": "code",
   "execution_count": 736,
   "source": [
    "df_test_dinner.columns"
   ],
   "outputs": [
    {
     "output_type": "execute_result",
     "data": {
      "text/plain": [
       "Index(['본사정원수', '본사휴가자수', '본사출장자수', '본사시간외근무명령서승인건수', '현본사소속재택근무자수', '식사가능인원',\n",
       "       '중식기온', '중식강수량', '석식기온', '석식강수량', '확진자수', '요일', '일자', '중식강수여부',\n",
       "       '석식강수여부', '휴일전날', '휴일다음날', '월'],\n",
       "      dtype='object')"
      ]
     },
     "metadata": {},
     "execution_count": 736
    }
   ],
   "metadata": {}
  },
  {
   "cell_type": "code",
   "execution_count": 737,
   "source": [
    "df1.columns"
   ],
   "outputs": [
    {
     "output_type": "execute_result",
     "data": {
      "text/plain": [
       "Index(['본사정원수', '본사휴가자수', '본사출장자수', '본사시간외근무명령서승인건수', '현본사소속재택근무자수', '식사가능인원',\n",
       "       '중식결식', '석식결식', '중식기온', '중식강수량', '석식기온', '석식강수량', '확진자수', '요일', '중식계',\n",
       "       '석식계', '일자', '중식강수여부', '석식강수여부', '휴일전날', '휴일다음날', '월'],\n",
       "      dtype='object')"
      ]
     },
     "metadata": {},
     "execution_count": 737
    }
   ],
   "metadata": {}
  },
  {
   "cell_type": "code",
   "execution_count": 738,
   "source": [
    "df1 =pd.concat([df1,df_test_lunch, df_test_dinner])\r\n"
   ],
   "outputs": [],
   "metadata": {}
  },
  {
   "cell_type": "markdown",
   "source": [
    "## df1 데이터 더미화"
   ],
   "metadata": {}
  },
  {
   "cell_type": "code",
   "execution_count": 739,
   "source": [
    "# 연, 월, 요일, 중식강수여부, 석시강수여부, 휴일전날, 휴일다음날 이 카데고리 전부 더미화 할지 생각해 보자\r\n",
    "df1_cat = df1[['월', '요일']]\r\n",
    "\r\n",
    "\r\n",
    "df1_cat = df1[['월', '요일']]\r\n",
    "df1_cat['월'] =  df1_cat['월'].astype('category')\r\n",
    "df1_cat = pd.get_dummies(df1_cat[['월', '요일']])# 더미화\r\n",
    "df1.drop(columns=['월', '요일'],inplace=True)\r\n",
    "\r\n",
    "df1 = pd.concat([df1,df1_cat],axis=1)"
   ],
   "outputs": [],
   "metadata": {}
  },
  {
   "cell_type": "code",
   "execution_count": 740,
   "source": [
    "df_test_lunch = df1[-100:-50]\r\n",
    "df_test_dinner = df1[-50:]\r\n",
    "df1 = df1[:1205]"
   ],
   "outputs": [],
   "metadata": {}
  },
  {
   "cell_type": "markdown",
   "source": [
    "## 점심데이터"
   ],
   "metadata": {}
  },
  {
   "cell_type": "code",
   "execution_count": 741,
   "source": [
    "df3 = pd.concat([df3, df_test_lunch_cat, df_test_dinner_cat]) # -100:50 이 점심, -50 저녁"
   ],
   "outputs": [],
   "metadata": {}
  },
  {
   "cell_type": "code",
   "execution_count": 742,
   "source": [
    "df_menu_cat=pd.get_dummies(df3[['국분류', '메뉴분류']])"
   ],
   "outputs": [],
   "metadata": {}
  },
  {
   "cell_type": "code",
   "execution_count": 743,
   "source": [
    "df_lunch_cat = df3.iloc[:1205]\r\n",
    "df_lunch_cat_dummy =pd.get_dummies(df_lunch_cat.iloc[:1205][['국분류', '메뉴분류']]) # 더미화\r\n",
    "\r\n",
    "df_lunch = pd.concat([df1,df_lunch_cat_dummy],axis=1)"
   ],
   "outputs": [],
   "metadata": {}
  },
  {
   "cell_type": "code",
   "execution_count": 744,
   "source": [
    "df_test_lunch = pd.concat([df_test_lunch,df_menu_cat[-100:-50]],axis=1)"
   ],
   "outputs": [],
   "metadata": {}
  },
  {
   "cell_type": "code",
   "execution_count": 745,
   "source": [
    "#sns.heatmap(df_lunch.corr())"
   ],
   "outputs": [],
   "metadata": {}
  },
  {
   "cell_type": "markdown",
   "source": [
    "## 저녁데이터"
   ],
   "metadata": {}
  },
  {
   "cell_type": "code",
   "execution_count": 746,
   "source": [
    "df_dinner_cat_dummy =pd.get_dummies(df3.iloc[1205:-100][['국분류', '메뉴분류']]) # 더미화\r\n",
    "df_dinner_cat_duumy = pd.concat([df3.iloc[1205:-100]['일자'],df_dinner_cat_dummy],axis=1) # 저녁값이 비어있는곳이 있어 merge 하기 위해 일자 값 추가\r\n",
    "\r\n",
    "df_dinner =pd.merge(df1, df_dinner_cat_duumy,on='일자',how='left')"
   ],
   "outputs": [],
   "metadata": {}
  },
  {
   "cell_type": "code",
   "execution_count": 747,
   "source": [
    "df_test_dinner = pd.concat([df_test_dinner,df_menu_cat[-50:]],axis=1)"
   ],
   "outputs": [],
   "metadata": {}
  },
  {
   "cell_type": "code",
   "execution_count": 748,
   "source": [
    "df_dinner.isna().sum()"
   ],
   "outputs": [
    {
     "output_type": "execute_result",
     "data": {
      "text/plain": [
       "본사정원수              0\n",
       "본사휴가자수             0\n",
       "본사출장자수             0\n",
       "본사시간외근무명령서승인건수     0\n",
       "현본사소속재택근무자수        0\n",
       "식사가능인원             0\n",
       "중식결식               0\n",
       "석식결식               0\n",
       "중식기온               0\n",
       "중식강수량              0\n",
       "석식기온               0\n",
       "석식강수량              0\n",
       "확진자수               0\n",
       "중식계                0\n",
       "석식계                0\n",
       "일자                 0\n",
       "중식강수여부             0\n",
       "석식강수여부             0\n",
       "휴일전날               0\n",
       "휴일다음날              0\n",
       "월_1                0\n",
       "월_2                0\n",
       "월_3                0\n",
       "월_4                0\n",
       "월_5                0\n",
       "월_6                0\n",
       "월_7                0\n",
       "월_8                0\n",
       "월_9                0\n",
       "월_10               0\n",
       "월_11               0\n",
       "월_12               0\n",
       "요일_금               0\n",
       "요일_목               0\n",
       "요일_수               0\n",
       "요일_월               0\n",
       "요일_화               0\n",
       "국분류_국             44\n",
       "국분류_국수            44\n",
       "국분류_스프            44\n",
       "국분류_죽             44\n",
       "국분류_찌개            44\n",
       "국분류_탕             44\n",
       "메뉴분류_기타           44\n",
       "메뉴분류_육류           44\n",
       "메뉴분류_조류           44\n",
       "메뉴분류_해산물          44\n",
       "dtype: int64"
      ]
     },
     "metadata": {},
     "execution_count": 748
    }
   ],
   "metadata": {}
  },
  {
   "cell_type": "code",
   "execution_count": 749,
   "source": [
    "#df_dinner[df_dinner.국분류_국.isna()][['일자', '석식계']]"
   ],
   "outputs": [],
   "metadata": {}
  },
  {
   "cell_type": "code",
   "execution_count": 750,
   "source": [
    "#df_dinner.fillna(0,inplace=True)\r\n",
    "df_dinner.dropna(inplace=True) #저녁안먹는날 drop"
   ],
   "outputs": [],
   "metadata": {}
  },
  {
   "cell_type": "code",
   "execution_count": 751,
   "source": [
    "df_dinner.isna().sum().sum()"
   ],
   "outputs": [
    {
     "output_type": "execute_result",
     "data": {
      "text/plain": [
       "0"
      ]
     },
     "metadata": {},
     "execution_count": 751
    }
   ],
   "metadata": {}
  },
  {
   "cell_type": "code",
   "execution_count": 752,
   "source": [
    "#sns.heatmap(df_dinner.corr())"
   ],
   "outputs": [],
   "metadata": {}
  },
  {
   "cell_type": "markdown",
   "source": [
    "## 모델링 전 X,y 나누기"
   ],
   "metadata": {}
  },
  {
   "cell_type": "markdown",
   "source": [
    "### 중식"
   ],
   "metadata": {}
  },
  {
   "cell_type": "code",
   "execution_count": 753,
   "source": [
    "df_test_lunch.columns"
   ],
   "outputs": [
    {
     "output_type": "execute_result",
     "data": {
      "text/plain": [
       "Index(['본사정원수', '본사휴가자수', '본사출장자수', '본사시간외근무명령서승인건수', '현본사소속재택근무자수', '식사가능인원',\n",
       "       '중식결식', '석식결식', '중식기온', '중식강수량', '석식기온', '석식강수량', '확진자수', '중식계', '석식계',\n",
       "       '일자', '중식강수여부', '석식강수여부', '휴일전날', '휴일다음날', '월_1', '월_2', '월_3', '월_4',\n",
       "       '월_5', '월_6', '월_7', '월_8', '월_9', '월_10', '월_11', '월_12', '요일_금',\n",
       "       '요일_목', '요일_수', '요일_월', '요일_화', '국분류_국', '국분류_국수', '국분류_스프', '국분류_우동',\n",
       "       '국분류_죽', '국분류_찌개', '국분류_탕', '메뉴분류_기타', '메뉴분류_육류', '메뉴분류_조류',\n",
       "       '메뉴분류_해산물'],\n",
       "      dtype='object')"
      ]
     },
     "metadata": {},
     "execution_count": 753
    }
   ],
   "metadata": {}
  },
  {
   "cell_type": "code",
   "execution_count": 754,
   "source": [
    "df_test_lunch = df_test_lunch[['본사정원수', '본사휴가자수', '본사출장자수', '본사시간외근무명령서승인건수', '현본사소속재택근무자수', '식사가능인원',\r\n",
    "       '중식기온', '중식강수량', '확진자수', '중식강수여부', '휴일전날', '휴일다음날', '월_1', '월_2', '월_3',\r\n",
    "       '월_4', '월_5', '월_6', '월_7', '월_8', '월_9', '월_10', '월_11', '월_12',\r\n",
    "       '요일_금', '요일_목', '요일_수', '요일_월', '요일_화', '국분류_국', '국분류_국수', '국분류_스프',\r\n",
    "       '국분류_찌개', '국분류_탕', '메뉴분류_기타', '메뉴분류_육류', '메뉴분류_조류', '메뉴분류_해산물']]"
   ],
   "outputs": [],
   "metadata": {}
  },
  {
   "cell_type": "code",
   "execution_count": 755,
   "source": [
    "X = df_lunch.drop(columns=['일자','중식계','석식계','석식결식','중식결식', '석식기온', '석식강수량', '석식강수여부'])\r\n",
    "\r\n",
    "## 중식에 경우 ols summary에서 p_vale값이 중식기온이 유의미하지 않아 뻇다\r\n",
    "\r\n",
    "#X = df_lunch[['요일', '본사정원수', '본사휴가자수', '본사출장자수', '본사시간외근무명령서승인건수', '현본사소속재택근무자수',\r\n",
    "#       '식사가능인원', '중식강수여부', '중식기온', '중식강수량', '석식강수여부', '석식기온', '석식강수량', '확진자수',\r\n",
    "#       '휴일전날', '휴일다음날']]\r\n",
    "#X = df[['요일','본사정원수','본사휴가자수','본사출장자수','본사시간외근무명령서승인건수','현본사소속재택근무자수','식사가능인원']] #0.43\r\n",
    "y = df_lunch['중식계']"
   ],
   "outputs": [],
   "metadata": {}
  },
  {
   "cell_type": "code",
   "execution_count": 756,
   "source": [
    "X.columns"
   ],
   "outputs": [
    {
     "output_type": "execute_result",
     "data": {
      "text/plain": [
       "Index(['본사정원수', '본사휴가자수', '본사출장자수', '본사시간외근무명령서승인건수', '현본사소속재택근무자수', '식사가능인원',\n",
       "       '중식기온', '중식강수량', '확진자수', '중식강수여부', '휴일전날', '휴일다음날', '월_1', '월_2', '월_3',\n",
       "       '월_4', '월_5', '월_6', '월_7', '월_8', '월_9', '월_10', '월_11', '월_12',\n",
       "       '요일_금', '요일_목', '요일_수', '요일_월', '요일_화', '국분류_국', '국분류_국수', '국분류_스프',\n",
       "       '국분류_찌개', '국분류_탕', '메뉴분류_기타', '메뉴분류_육류', '메뉴분류_조류', '메뉴분류_해산물'],\n",
       "      dtype='object')"
      ]
     },
     "metadata": {},
     "execution_count": 756
    }
   ],
   "metadata": {}
  },
  {
   "cell_type": "code",
   "execution_count": 757,
   "source": [
    "X.head(2)"
   ],
   "outputs": [
    {
     "output_type": "execute_result",
     "data": {
      "text/html": [
       "<div>\n",
       "<style scoped>\n",
       "    .dataframe tbody tr th:only-of-type {\n",
       "        vertical-align: middle;\n",
       "    }\n",
       "\n",
       "    .dataframe tbody tr th {\n",
       "        vertical-align: top;\n",
       "    }\n",
       "\n",
       "    .dataframe thead th {\n",
       "        text-align: right;\n",
       "    }\n",
       "</style>\n",
       "<table border=\"1\" class=\"dataframe\">\n",
       "  <thead>\n",
       "    <tr style=\"text-align: right;\">\n",
       "      <th></th>\n",
       "      <th>본사정원수</th>\n",
       "      <th>본사휴가자수</th>\n",
       "      <th>본사출장자수</th>\n",
       "      <th>본사시간외근무명령서승인건수</th>\n",
       "      <th>현본사소속재택근무자수</th>\n",
       "      <th>식사가능인원</th>\n",
       "      <th>중식기온</th>\n",
       "      <th>중식강수량</th>\n",
       "      <th>확진자수</th>\n",
       "      <th>중식강수여부</th>\n",
       "      <th>...</th>\n",
       "      <th>요일_화</th>\n",
       "      <th>국분류_국</th>\n",
       "      <th>국분류_국수</th>\n",
       "      <th>국분류_스프</th>\n",
       "      <th>국분류_찌개</th>\n",
       "      <th>국분류_탕</th>\n",
       "      <th>메뉴분류_기타</th>\n",
       "      <th>메뉴분류_육류</th>\n",
       "      <th>메뉴분류_조류</th>\n",
       "      <th>메뉴분류_해산물</th>\n",
       "    </tr>\n",
       "  </thead>\n",
       "  <tbody>\n",
       "    <tr>\n",
       "      <th>0</th>\n",
       "      <td>-1.208083</td>\n",
       "      <td>-0.748721</td>\n",
       "      <td>-2.094550</td>\n",
       "      <td>-0.146735</td>\n",
       "      <td>-0.395901</td>\n",
       "      <td>0.202544</td>\n",
       "      <td>-1.594185</td>\n",
       "      <td>-0.170096</td>\n",
       "      <td>-0.283312</td>\n",
       "      <td>0.0</td>\n",
       "      <td>...</td>\n",
       "      <td>0</td>\n",
       "      <td>0</td>\n",
       "      <td>0</td>\n",
       "      <td>0</td>\n",
       "      <td>1</td>\n",
       "      <td>0</td>\n",
       "      <td>0</td>\n",
       "      <td>1</td>\n",
       "      <td>0</td>\n",
       "      <td>0</td>\n",
       "    </tr>\n",
       "    <tr>\n",
       "      <th>1</th>\n",
       "      <td>-1.208083</td>\n",
       "      <td>-0.748721</td>\n",
       "      <td>-1.565987</td>\n",
       "      <td>0.182349</td>\n",
       "      <td>-0.395901</td>\n",
       "      <td>0.072225</td>\n",
       "      <td>-1.736090</td>\n",
       "      <td>-0.170096</td>\n",
       "      <td>-0.283312</td>\n",
       "      <td>0.0</td>\n",
       "      <td>...</td>\n",
       "      <td>1</td>\n",
       "      <td>0</td>\n",
       "      <td>0</td>\n",
       "      <td>0</td>\n",
       "      <td>1</td>\n",
       "      <td>0</td>\n",
       "      <td>0</td>\n",
       "      <td>0</td>\n",
       "      <td>0</td>\n",
       "      <td>1</td>\n",
       "    </tr>\n",
       "  </tbody>\n",
       "</table>\n",
       "<p>2 rows × 38 columns</p>\n",
       "</div>"
      ],
      "text/plain": [
       "      본사정원수    본사휴가자수    본사출장자수  본사시간외근무명령서승인건수  현본사소속재택근무자수    식사가능인원  \\\n",
       "0 -1.208083 -0.748721 -2.094550       -0.146735    -0.395901  0.202544   \n",
       "1 -1.208083 -0.748721 -1.565987        0.182349    -0.395901  0.072225   \n",
       "\n",
       "       중식기온     중식강수량      확진자수  중식강수여부  ...  요일_화  국분류_국  국분류_국수  국분류_스프  \\\n",
       "0 -1.594185 -0.170096 -0.283312     0.0  ...     0      0       0       0   \n",
       "1 -1.736090 -0.170096 -0.283312     0.0  ...     1      0       0       0   \n",
       "\n",
       "   국분류_찌개  국분류_탕  메뉴분류_기타  메뉴분류_육류  메뉴분류_조류  메뉴분류_해산물  \n",
       "0       1      0        0        1        0         0  \n",
       "1       1      0        0        0        0         1  \n",
       "\n",
       "[2 rows x 38 columns]"
      ]
     },
     "metadata": {},
     "execution_count": 757
    }
   ],
   "metadata": {}
  },
  {
   "cell_type": "code",
   "execution_count": 758,
   "source": [
    "X_train, X_test, y_train = X, df_test_lunch, y"
   ],
   "outputs": [],
   "metadata": {}
  },
  {
   "cell_type": "code",
   "execution_count": 759,
   "source": [
    "X_train.columns"
   ],
   "outputs": [
    {
     "output_type": "execute_result",
     "data": {
      "text/plain": [
       "Index(['본사정원수', '본사휴가자수', '본사출장자수', '본사시간외근무명령서승인건수', '현본사소속재택근무자수', '식사가능인원',\n",
       "       '중식기온', '중식강수량', '확진자수', '중식강수여부', '휴일전날', '휴일다음날', '월_1', '월_2', '월_3',\n",
       "       '월_4', '월_5', '월_6', '월_7', '월_8', '월_9', '월_10', '월_11', '월_12',\n",
       "       '요일_금', '요일_목', '요일_수', '요일_월', '요일_화', '국분류_국', '국분류_국수', '국분류_스프',\n",
       "       '국분류_찌개', '국분류_탕', '메뉴분류_기타', '메뉴분류_육류', '메뉴분류_조류', '메뉴분류_해산물'],\n",
       "      dtype='object')"
      ]
     },
     "metadata": {},
     "execution_count": 759
    }
   ],
   "metadata": {}
  },
  {
   "cell_type": "code",
   "execution_count": 760,
   "source": [
    "X_test.columns"
   ],
   "outputs": [
    {
     "output_type": "execute_result",
     "data": {
      "text/plain": [
       "Index(['본사정원수', '본사휴가자수', '본사출장자수', '본사시간외근무명령서승인건수', '현본사소속재택근무자수', '식사가능인원',\n",
       "       '중식기온', '중식강수량', '확진자수', '중식강수여부', '휴일전날', '휴일다음날', '월_1', '월_2', '월_3',\n",
       "       '월_4', '월_5', '월_6', '월_7', '월_8', '월_9', '월_10', '월_11', '월_12',\n",
       "       '요일_금', '요일_목', '요일_수', '요일_월', '요일_화', '국분류_국', '국분류_국수', '국분류_스프',\n",
       "       '국분류_찌개', '국분류_탕', '메뉴분류_기타', '메뉴분류_육류', '메뉴분류_조류', '메뉴분류_해산물'],\n",
       "      dtype='object')"
      ]
     },
     "metadata": {},
     "execution_count": 760
    }
   ],
   "metadata": {}
  },
  {
   "cell_type": "markdown",
   "source": [
    "### 석식"
   ],
   "metadata": {}
  },
  {
   "cell_type": "code",
   "execution_count": 761,
   "source": [
    "df_test_dinner = df_test_dinner[['본사정원수', '본사휴가자수', '본사출장자수', '본사시간외근무명령서승인건수', '현본사소속재택근무자수', '식사가능인원',\r\n",
    "       '석식기온', '석식강수량', '확진자수', '석식강수여부', '휴일전날', '휴일다음날', '월_1', '월_2', '월_3',\r\n",
    "       '월_4', '월_5', '월_6', '월_7', '월_8', '월_9', '월_10', '월_11', '월_12',\r\n",
    "       '요일_금', '요일_목', '요일_수', '요일_월', '요일_화', '국분류_국', '국분류_국수', '국분류_스프',\r\n",
    "       '국분류_죽', '국분류_찌개', '국분류_탕', '메뉴분류_기타', '메뉴분류_육류', '메뉴분류_조류',\r\n",
    "       '메뉴분류_해산물']]"
   ],
   "outputs": [],
   "metadata": {}
  },
  {
   "cell_type": "code",
   "execution_count": 762,
   "source": [
    "X2 = df_dinner.drop(columns=['일자','중식계','석식계','석식결식','중식결식', '중식기온', '중식강수량', '중식강수여부'])\r\n",
    "\r\n",
    "# 석식에 경우 석식강수량과 강수여부가 휴일전날 pvaule 값이 유의미하지 않아 뺏다\r\n",
    "\r\n",
    "#X = df[['요일','본사정원수','본사휴가자수','본사출장자수','본사시간외근무명령서승인건수','현본사소속재택근무자수','식사가능인원']] #0.43\r\n",
    "y2 = df_dinner['석식계']\r\n",
    "\r\n"
   ],
   "outputs": [],
   "metadata": {}
  },
  {
   "cell_type": "code",
   "execution_count": 763,
   "source": [
    "X2_train, X2_test, y2_train = X2, df_test_dinner, y2"
   ],
   "outputs": [],
   "metadata": {}
  },
  {
   "cell_type": "code",
   "execution_count": 764,
   "source": [
    "X2.columns"
   ],
   "outputs": [
    {
     "output_type": "execute_result",
     "data": {
      "text/plain": [
       "Index(['본사정원수', '본사휴가자수', '본사출장자수', '본사시간외근무명령서승인건수', '현본사소속재택근무자수', '식사가능인원',\n",
       "       '석식기온', '석식강수량', '확진자수', '석식강수여부', '휴일전날', '휴일다음날', '월_1', '월_2', '월_3',\n",
       "       '월_4', '월_5', '월_6', '월_7', '월_8', '월_9', '월_10', '월_11', '월_12',\n",
       "       '요일_금', '요일_목', '요일_수', '요일_월', '요일_화', '국분류_국', '국분류_국수', '국분류_스프',\n",
       "       '국분류_죽', '국분류_찌개', '국분류_탕', '메뉴분류_기타', '메뉴분류_육류', '메뉴분류_조류',\n",
       "       '메뉴분류_해산물'],\n",
       "      dtype='object')"
      ]
     },
     "metadata": {},
     "execution_count": 764
    }
   ],
   "metadata": {}
  },
  {
   "cell_type": "markdown",
   "source": [
    "# 모델링"
   ],
   "metadata": {}
  },
  {
   "cell_type": "markdown",
   "source": [
    "## 중식"
   ],
   "metadata": {}
  },
  {
   "cell_type": "code",
   "execution_count": 765,
   "source": [
    "import statsmodels.api as sm\r\n",
    "X=sm.add_constant(X)\r\n",
    "lr = sm.OLS(y,X)\r\n",
    "result= lr.fit() \r\n",
    "print(result.summary())\r\n",
    "print(result.params)\r\n",
    "#재택근무자수 무의미함 "
   ],
   "outputs": [
    {
     "output_type": "stream",
     "name": "stdout",
     "text": [
      "                            OLS Regression Results                            \n",
      "==============================================================================\n",
      "Dep. Variable:                    중식계   R-squared:                       0.833\n",
      "Model:                            OLS   Adj. R-squared:                  0.828\n",
      "Method:                 Least Squares   F-statistic:                     176.8\n",
      "Date:                Mon, 04 Oct 2021   Prob (F-statistic):               0.00\n",
      "Time:                        23:30:18   Log-Likelihood:                -7072.0\n",
      "No. Observations:                1205   AIC:                         1.421e+04\n",
      "Df Residuals:                    1171   BIC:                         1.439e+04\n",
      "Df Model:                          33                                         \n",
      "Covariance Type:            nonrobust                                         \n",
      "==================================================================================\n",
      "                     coef    std err          t      P>|t|      [0.025      0.975]\n",
      "----------------------------------------------------------------------------------\n",
      "const            519.7314      7.421     70.031      0.000     505.170     534.292\n",
      "본사정원수            -46.3505      2.191    -21.156      0.000     -50.649     -42.052\n",
      "본사휴가자수           -71.8501      3.390    -21.193      0.000     -78.502     -65.198\n",
      "본사출장자수           -58.4905      4.386    -13.335      0.000     -67.096     -49.885\n",
      "본사시간외근무명령서승인건수    39.5442      5.690      6.949      0.000      28.380      50.709\n",
      "현본사소속재택근무자수        0.6766      3.284      0.206      0.837      -5.767       7.121\n",
      "식사가능인원            27.7168      2.525     10.976      0.000      22.762      32.671\n",
      "중식기온             -12.9299      7.197     -1.797      0.073     -27.051       1.191\n",
      "중식강수량              8.7349      3.051      2.863      0.004       2.750      14.720\n",
      "확진자수              32.7701      3.390      9.667      0.000      26.119      39.421\n",
      "중식강수여부            26.2272     11.416      2.297      0.022       3.830      48.625\n",
      "휴일전날             -45.6514     18.007     -2.535      0.011     -80.982     -10.321\n",
      "휴일다음날            172.2240     15.387     11.193      0.000     142.034     202.414\n",
      "월_1              -12.3486     13.776     -0.896      0.370     -39.376      14.679\n",
      "월_2               65.4810     12.661      5.172      0.000      40.641      90.321\n",
      "월_3               29.6963      9.346      3.177      0.002      11.360      48.033\n",
      "월_4               21.6651      8.688      2.494      0.013       4.619      38.712\n",
      "월_5               36.2504      9.807      3.696      0.000      17.009      55.492\n",
      "월_6               28.0114     11.205      2.500      0.013       6.026      49.996\n",
      "월_7               48.1962     11.772      4.094      0.000      25.099      71.293\n",
      "월_8              142.8886     13.710     10.422      0.000     115.989     169.788\n",
      "월_9               73.7176     10.429      7.069      0.000      53.257      94.178\n",
      "월_10              84.5356      9.093      9.297      0.000      66.695     102.376\n",
      "월_11              28.2119      9.148      3.084      0.002      10.264      46.160\n",
      "월_12             -26.5741     12.425     -2.139      0.033     -50.951      -2.197\n",
      "요일_금              12.2626      8.445      1.452      0.147      -4.307      28.832\n",
      "요일_목              24.8987      5.986      4.159      0.000      13.154      36.643\n",
      "요일_수             128.7003      8.622     14.927      0.000     111.784     145.617\n",
      "요일_월             283.7514      8.161     34.769      0.000     267.739     299.763\n",
      "요일_화              70.1184      6.772     10.354      0.000      56.832      83.405\n",
      "국분류_국             91.4093     11.635      7.856      0.000      68.581     114.237\n",
      "국분류_국수            94.6534     13.762      6.878      0.000      67.653     121.654\n",
      "국분류_스프           174.1781     51.288      3.396      0.001      73.551     274.805\n",
      "국분류_찌개            77.7853     12.414      6.266      0.000      53.429     102.142\n",
      "국분류_탕             81.7053     12.267      6.661      0.000      57.638     105.773\n",
      "메뉴분류_기타          141.3784      8.649     16.346      0.000     124.409     158.348\n",
      "메뉴분류_육류          134.2130      4.548     29.512      0.000     125.290     143.136\n",
      "메뉴분류_조류          128.6109      5.844     22.006      0.000     117.144     140.078\n",
      "메뉴분류_해산물         115.5291      5.372     21.505      0.000     104.989     126.069\n",
      "==============================================================================\n",
      "Omnibus:                       54.321   Durbin-Watson:                   1.383\n",
      "Prob(Omnibus):                  0.000   Jarque-Bera (JB):              151.109\n",
      "Skew:                           0.157   Prob(JB):                     1.54e-33\n",
      "Kurtosis:                       4.706   Cond. No.                     9.27e+15\n",
      "==============================================================================\n",
      "\n",
      "Notes:\n",
      "[1] Standard Errors assume that the covariance matrix of the errors is correctly specified.\n",
      "[2] The smallest eigenvalue is 3.19e-29. This might indicate that there are\n",
      "strong multicollinearity problems or that the design matrix is singular.\n",
      "const             519.731384\n",
      "본사정원수             -46.350460\n",
      "본사휴가자수            -71.850128\n",
      "본사출장자수            -58.490514\n",
      "본사시간외근무명령서승인건수     39.544214\n",
      "현본사소속재택근무자수         0.676589\n",
      "식사가능인원             27.716847\n",
      "중식기온              -12.929922\n",
      "중식강수량               8.734892\n",
      "확진자수               32.770082\n",
      "중식강수여부             26.227181\n",
      "휴일전날              -45.651366\n",
      "휴일다음날             172.224035\n",
      "월_1               -12.348604\n",
      "월_2                65.480955\n",
      "월_3                29.696302\n",
      "월_4                21.665108\n",
      "월_5                36.250412\n",
      "월_6                28.011390\n",
      "월_7                48.196182\n",
      "월_8               142.888612\n",
      "월_9                73.717616\n",
      "월_10               84.535599\n",
      "월_11               28.211871\n",
      "월_12              -26.574058\n",
      "요일_금               12.262566\n",
      "요일_목               24.898738\n",
      "요일_수              128.700275\n",
      "요일_월              283.751378\n",
      "요일_화               70.118427\n",
      "국분류_국              91.409274\n",
      "국분류_국수             94.653420\n",
      "국분류_스프            174.178077\n",
      "국분류_찌개             77.785288\n",
      "국분류_탕              81.705326\n",
      "메뉴분류_기타           141.378373\n",
      "메뉴분류_육류           134.213026\n",
      "메뉴분류_조류           128.610917\n",
      "메뉴분류_해산물          115.529068\n",
      "dtype: float64\n"
     ]
    }
   ],
   "metadata": {}
  },
  {
   "cell_type": "markdown",
   "source": [
    "## 석식"
   ],
   "metadata": {}
  },
  {
   "cell_type": "code",
   "execution_count": 766,
   "source": [
    "lr = sm.OLS(y2,X2)\r\n",
    "result= lr.fit() \r\n",
    "print(result.summary())\r\n",
    "print(result.params)\r\n",
    "# 저녁은 확진자수, 강수, 강수여부"
   ],
   "outputs": [
    {
     "output_type": "stream",
     "name": "stdout",
     "text": [
      "                            OLS Regression Results                            \n",
      "==============================================================================\n",
      "Dep. Variable:                    석식계   R-squared:                       0.639\n",
      "Model:                            OLS   Adj. R-squared:                  0.629\n",
      "Method:                 Least Squares   F-statistic:                     58.74\n",
      "Date:                Mon, 04 Oct 2021   Prob (F-statistic):          1.76e-222\n",
      "Time:                        23:30:19   Log-Likelihood:                -6520.5\n",
      "No. Observations:                1161   AIC:                         1.311e+04\n",
      "Df Residuals:                    1126   BIC:                         1.329e+04\n",
      "Df Model:                          34                                         \n",
      "Covariance Type:            nonrobust                                         \n",
      "==================================================================================\n",
      "                     coef    std err          t      P>|t|      [0.025      0.975]\n",
      "----------------------------------------------------------------------------------\n",
      "본사정원수            -33.1629      1.733    -19.141      0.000     -36.562     -29.763\n",
      "본사휴가자수           -36.9775      2.691    -13.741      0.000     -42.257     -31.698\n",
      "본사출장자수           -26.8519      3.520     -7.629      0.000     -33.757     -19.946\n",
      "본사시간외근무명령서승인건수    70.8578      4.465     15.869      0.000      62.097      79.619\n",
      "현본사소속재택근무자수      -15.3951      2.569     -5.993      0.000     -20.435     -10.355\n",
      "식사가능인원            14.2364      2.009      7.087      0.000      10.295      18.178\n",
      "석식기온               8.5963      5.706      1.506      0.132      -2.600      19.792\n",
      "석식강수량              4.8683      2.429      2.005      0.045       0.103       9.633\n",
      "확진자수               7.3493      2.657      2.766      0.006       2.135      12.563\n",
      "석식강수여부             2.3281      9.138      0.255      0.799     -15.601      20.258\n",
      "휴일전날             -13.4771     14.430     -0.934      0.351     -41.790      14.836\n",
      "휴일다음날             49.9460     12.182      4.100      0.000      26.044      73.848\n",
      "월_1               10.2056     10.850      0.941      0.347     -11.083      31.494\n",
      "월_2               75.9546      9.784      7.763      0.000      56.759      95.151\n",
      "월_3               82.6238      7.305     11.310      0.000      68.290      96.958\n",
      "월_4               70.9893      7.062     10.053      0.000      57.134      84.845\n",
      "월_5               50.6697      7.950      6.374      0.000      35.071      66.268\n",
      "월_6               39.3153      9.041      4.349      0.000      21.576      57.054\n",
      "월_7               40.2802      9.508      4.237      0.000      21.625      58.935\n",
      "월_8              110.4443     10.973     10.065      0.000      88.914     131.975\n",
      "월_9               71.2152      8.518      8.361      0.000      54.502      87.928\n",
      "월_10              80.5614      7.263     11.092      0.000      66.311      94.812\n",
      "월_11              51.5903      7.708      6.693      0.000      36.467      66.713\n",
      "월_12              18.6748     10.202      1.831      0.067      -1.342      38.691\n",
      "요일_금             193.4103      7.509     25.757      0.000     178.677     208.144\n",
      "요일_목             112.5653      5.787     19.451      0.000     101.210     123.920\n",
      "요일_수             157.7231      7.719     20.433      0.000     142.578     172.868\n",
      "요일_월             128.5500      7.121     18.053      0.000     114.578     142.522\n",
      "요일_화             110.2757      6.325     17.434      0.000      97.865     122.686\n",
      "국분류_국             99.7766      9.259     10.776      0.000      81.610     117.943\n",
      "국분류_국수           113.6335     10.551     10.770      0.000      92.932     134.335\n",
      "국분류_스프           120.6392     13.849      8.711      0.000      93.467     147.812\n",
      "국분류_죽            180.8054     59.969      3.015      0.003      63.142     298.468\n",
      "국분류_찌개            92.9749     10.086      9.218      0.000      73.186     112.764\n",
      "국분류_탕             94.6948     10.047      9.425      0.000      74.981     114.409\n",
      "메뉴분류_기타          175.9318      5.756     30.566      0.000     164.639     187.225\n",
      "메뉴분류_육류          179.5489      5.253     34.177      0.000     169.241     189.857\n",
      "메뉴분류_조류          178.5047      6.557     27.222      0.000     165.639     191.371\n",
      "메뉴분류_해산물         168.5390      5.407     31.172      0.000     157.931     179.147\n",
      "==============================================================================\n",
      "Omnibus:                      178.026   Durbin-Watson:                   1.589\n",
      "Prob(Omnibus):                  0.000   Jarque-Bera (JB):             1101.765\n",
      "Skew:                          -0.540   Prob(JB):                    5.68e-240\n",
      "Kurtosis:                       7.649   Cond. No.                     1.22e+16\n",
      "==============================================================================\n",
      "\n",
      "Notes:\n",
      "[1] Standard Errors assume that the covariance matrix of the errors is correctly specified.\n",
      "[2] The smallest eigenvalue is 1.8e-29. This might indicate that there are\n",
      "strong multicollinearity problems or that the design matrix is singular.\n",
      "본사정원수             -33.162851\n",
      "본사휴가자수            -36.977489\n",
      "본사출장자수            -26.851887\n",
      "본사시간외근무명령서승인건수     70.857757\n",
      "현본사소속재택근무자수       -15.395128\n",
      "식사가능인원             14.236353\n",
      "석식기온                8.596298\n",
      "석식강수량               4.868270\n",
      "확진자수                7.349263\n",
      "석식강수여부              2.328098\n",
      "휴일전날              -13.477108\n",
      "휴일다음날              49.946002\n",
      "월_1                10.205618\n",
      "월_2                75.954579\n",
      "월_3                82.623804\n",
      "월_4                70.989261\n",
      "월_5                50.669685\n",
      "월_6                39.315256\n",
      "월_7                40.280192\n",
      "월_8               110.444347\n",
      "월_9                71.215194\n",
      "월_10               80.561358\n",
      "월_11               51.590312\n",
      "월_12               18.674799\n",
      "요일_금              193.410332\n",
      "요일_목              112.565292\n",
      "요일_수              157.723144\n",
      "요일_월              128.549967\n",
      "요일_화              110.275668\n",
      "국분류_국              99.776640\n",
      "국분류_국수            113.633501\n",
      "국분류_스프            120.639190\n",
      "국분류_죽             180.805351\n",
      "국분류_찌개             92.974940\n",
      "국분류_탕              94.694783\n",
      "메뉴분류_기타           175.931764\n",
      "메뉴분류_육류           179.548876\n",
      "메뉴분류_조류           178.504733\n",
      "메뉴분류_해산물          168.539031\n",
      "dtype: float64\n"
     ]
    }
   ],
   "metadata": {}
  },
  {
   "cell_type": "markdown",
   "source": [
    "## 릿지"
   ],
   "metadata": {}
  },
  {
   "cell_type": "markdown",
   "source": [
    "### 점심"
   ],
   "metadata": {}
  },
  {
   "cell_type": "code",
   "execution_count": 767,
   "source": [
    "from sklearn.linear_model import Ridge\r\n",
    "\r\n",
    "param_grid = {'alpha':[0.001, 0.01, 0.1, 1,10,50]}\r\n",
    "gird_search = GridSearchCV(Ridge(),param_grid, cv=5, scoring='r2')\r\n",
    "\r\n",
    "gird_search.fit(X_train,y_train)\r\n",
    "\r\n",
    "ridge_lunch_pre =gird_search.predict(X_test)"
   ],
   "outputs": [],
   "metadata": {}
  },
  {
   "cell_type": "markdown",
   "source": [
    "### 저녁"
   ],
   "metadata": {}
  },
  {
   "cell_type": "code",
   "execution_count": 770,
   "source": [
    "from sklearn.linear_model import Ridge\r\n",
    "\r\n",
    "aram_grid = {'alpha':[0.001, 0.01, 0.1, 1,10,50]}\r\n",
    "gird_search = GridSearchCV(Ridge(),param_grid, cv=5, scoring='neg_mean_absolute_error')\r\n",
    "\r\n",
    "gird_search.fit(X2_train,y2_train)\r\n",
    "ridge_dinner_pre =gird_search.predict(X2_test)\r\n"
   ],
   "outputs": [],
   "metadata": {}
  },
  {
   "cell_type": "markdown",
   "source": [
    "## 라쏘"
   ],
   "metadata": {}
  },
  {
   "cell_type": "markdown",
   "source": [
    "### 점심"
   ],
   "metadata": {}
  },
  {
   "cell_type": "code",
   "execution_count": 771,
   "source": [
    "from sklearn.linear_model import Lasso #라쏘\r\n",
    "\r\n",
    "\r\n",
    "param_grid = {'alpha':[0.001, 0.01, 0.1, 1,10,50]}\r\n",
    "gird_search = GridSearchCV(Lasso(),param_grid, cv=5, scoring='neg_mean_absolute_error')\r\n",
    "\r\n",
    "gird_search.fit(X_train,y_train)\r\n",
    "lasso_lunch_pre =gird_search.predict(X_test)\r\n"
   ],
   "outputs": [],
   "metadata": {}
  },
  {
   "cell_type": "markdown",
   "source": [
    "### 저녁"
   ],
   "metadata": {}
  },
  {
   "cell_type": "code",
   "execution_count": 772,
   "source": [
    "\r\n",
    "param_grid = {'alpha':[0.001, 0.01, 0.1, 1,10,50]}\r\n",
    "gird_search = GridSearchCV(Lasso(),param_grid, cv=5, scoring='neg_mean_absolute_error')\r\n",
    "\r\n",
    "gird_search.fit(X2_train,y2_train)\r\n",
    "lasso_dinner_pre =gird_search.predict(X2_test)\r\n"
   ],
   "outputs": [],
   "metadata": {}
  },
  {
   "cell_type": "markdown",
   "source": [
    "## xgboost"
   ],
   "metadata": {}
  },
  {
   "cell_type": "code",
   "execution_count": 773,
   "source": [
    "from sklearn.model_selection import GridSearchCV\r\n",
    "import xgboost as xgb\r\n",
    "from xgboost import XGBRegressor"
   ],
   "outputs": [],
   "metadata": {}
  },
  {
   "cell_type": "markdown",
   "source": [
    "### 점식"
   ],
   "metadata": {}
  },
  {
   "cell_type": "code",
   "execution_count": null,
   "source": [
    "'''param = {\r\n",
    "    'max_depth':[2,3,4],\r\n",
    "    'n_estimators':range(300,600,100), #  'n_estimators':range(600,700,50) 여기에 cv 10 (이거와 별반차이가 없다.)\r\n",
    "    'colsample_bytree':[0.5,0.7,1],\r\n",
    "    'colsample_bylevel':[0.5,0.7,1],\r\n",
    "}\r\n",
    "\r\n",
    "model = xgb.XGBRegressor()\r\n",
    "grid_search = GridSearchCV(estimator=model, param_grid=param, cv=10, \r\n",
    "                           scoring='neg_mean_squared_error',\r\n",
    "                           n_jobs=-1)\r\n",
    "\r\n",
    "grid_search.fit(X_train, y_train)\r\n",
    "\r\n",
    "pre = grid_search.predict(X_test)\r\n",
    "\r\n",
    "print(grid_search.score(X_test,y_test))\r\n",
    "print('RMSE=',np.sqrt(mean_squared_error(y_test, pre)))\r\n",
    "print('MAE=',mean_absolute_error(y_test, pre))\r\n",
    "\r\n",
    "with open('model_rf/XG_lunch_estimator.pickle','wb') as fw: #저장\r\n",
    "    pickle.dump(grid_search.best_estimator_, fw)\r\n",
    "'''"
   ],
   "outputs": [
    {
     "output_type": "execute_result",
     "data": {
      "text/plain": [
       "\"param = {\\n    'max_depth':[2,3,4],\\n    'n_estimators':range(300,600,100), #  'n_estimators':range(600,700,50) 여기에 cv 10 (이거와 별반차이가 없다.)\\n    'colsample_bytree':[0.5,0.7,1],\\n    'colsample_bylevel':[0.5,0.7,1],\\n}\\n\\nmodel = xgb.XGBRegressor()\\ngrid_search = GridSearchCV(estimator=model, param_grid=param, cv=10, \\n                           scoring='neg_mean_squared_error',\\n                           n_jobs=-1)\\n\\ngrid_search.fit(X_train, y_train)\\n\\npre = grid_search.predict(X_test)\\n\\nprint(grid_search.score(X_test,y_test))\\nprint('RMSE=',np.sqrt(mean_squared_error(y_test, pre)))\\nprint('MAE=',mean_absolute_error(y_test, pre))\\n\\nwith open('model_rf/XG_lunch_estimator.pickle','wb') as fw: #저장\\n    pickle.dump(grid_search.best_estimator_, fw)\\n\""
      ]
     },
     "metadata": {},
     "execution_count": 484
    }
   ],
   "metadata": {}
  },
  {
   "cell_type": "code",
   "execution_count": 774,
   "source": [
    "with open('model_rf/XG_lunch_estimator.pickle','rb') as f: #불러오기\r\n",
    "    XG_lunch_model = pickle.load(f)"
   ],
   "outputs": [],
   "metadata": {}
  },
  {
   "cell_type": "code",
   "execution_count": 775,
   "source": [
    "XG_lunch_model = XGBRegressor(base_score=0.5, booster='gbtree', colsample_bylevel=0.5,\r\n",
    "             colsample_bynode=1, colsample_bytree=0.5, gamma=0, gpu_id=-1,\r\n",
    "             importance_type='gain', interaction_constraints='',\r\n",
    "             learning_rate=0.300000012, max_delta_step=0, max_depth=2,\r\n",
    "             min_child_weight=1, monotone_constraints='()',\r\n",
    "             n_estimators=300, n_jobs=4, num_parallel_tree=1, random_state=0,\r\n",
    "             reg_alpha=0, reg_lambda=1, scale_pos_weight=1, subsample=1,\r\n",
    "             tree_method='exact', validate_parameters=1, verbosity=None)\r\n",
    "XG_lunch_model.fit(X_train,y_train)\r\n"
   ],
   "outputs": [
    {
     "output_type": "execute_result",
     "data": {
      "text/plain": [
       "XGBRegressor(base_score=0.5, booster='gbtree', colsample_bylevel=0.5,\n",
       "             colsample_bynode=1, colsample_bytree=0.5, gamma=0, gpu_id=-1,\n",
       "             importance_type='gain', interaction_constraints='',\n",
       "             learning_rate=0.300000012, max_delta_step=0, max_depth=2,\n",
       "             min_child_weight=1, missing=nan, monotone_constraints='()',\n",
       "             n_estimators=300, n_jobs=4, num_parallel_tree=1, random_state=0,\n",
       "             reg_alpha=0, reg_lambda=1, scale_pos_weight=1, subsample=1,\n",
       "             tree_method='exact', validate_parameters=1, verbosity=None)"
      ]
     },
     "metadata": {},
     "execution_count": 775
    }
   ],
   "metadata": {}
  },
  {
   "cell_type": "code",
   "execution_count": 776,
   "source": [
    "xg_lunch_pre = XG_lunch_model.predict(X_test)"
   ],
   "outputs": [],
   "metadata": {}
  },
  {
   "cell_type": "markdown",
   "source": [
    "저녁"
   ],
   "metadata": {}
  },
  {
   "cell_type": "code",
   "execution_count": null,
   "source": [
    "'''\r\n",
    "param = {\r\n",
    "    'max_depth':[2,3,4],\r\n",
    "    'n_estimators':range(300,600,100), #  'n_estimators':range(600,700,50) 여기에 cv 10 (이거와 별반차이가 없다.)\r\n",
    "    'colsample_bytree':[0.5,0.7,1],\r\n",
    "    'colsample_bylevel':[0.5,0.7,1],\r\n",
    "}\r\n",
    "\r\n",
    "model = xgb.XGBRegressor()\r\n",
    "grid_search = GridSearchCV(estimator=model, param_grid=param, cv=10, \r\n",
    "                           scoring='neg_mean_squared_error',\r\n",
    "                           n_jobs=-1)\r\n",
    "\r\n",
    "grid_search.fit(X2_train, y2_train)\r\n",
    "\r\n",
    "pre = grid_search.predict(X2_test)\r\n",
    "\r\n",
    "print(grid_search.score(X2_test,y2_test))\r\n",
    "print('RMSE=',np.sqrt(mean_squared_error(y2_test, pre)))\r\n",
    "print('MAE=',mean_absolute_error(y2_test, pre))\r\n",
    "\r\n",
    "with open('model_rf/XG_dinner_estimator.pickle','wb') as fw: ##저장\r\n",
    "    pickle.dump(grid_search.best_estimator_, fw)\r\n",
    "'''"
   ],
   "outputs": [
    {
     "output_type": "execute_result",
     "data": {
      "text/plain": [
       "\"\\nparam = {\\n    'max_depth':[2,3,4],\\n    'n_estimators':range(300,600,100), #  'n_estimators':range(600,700,50) 여기에 cv 10 (이거와 별반차이가 없다.)\\n    'colsample_bytree':[0.5,0.7,1],\\n    'colsample_bylevel':[0.5,0.7,1],\\n}\\n\\nmodel = xgb.XGBRegressor()\\ngrid_search = GridSearchCV(estimator=model, param_grid=param, cv=10, \\n                           scoring='neg_mean_squared_error',\\n                           n_jobs=-1)\\n\\ngrid_search.fit(X2_train, y2_train)\\n\\npre = grid_search.predict(X2_test)\\n\\nprint(grid_search.score(X2_test,y2_test))\\nprint('RMSE=',np.sqrt(mean_squared_error(y2_test, pre)))\\nprint('MAE=',mean_absolute_error(y2_test, pre))\\n\\nwith open('model_rf/XG_dinner_estimator.pickle','wb') as fw: ##저장\\n    pickle.dump(grid_search.best_estimator_, fw)\\n\""
      ]
     },
     "metadata": {},
     "execution_count": 488
    }
   ],
   "metadata": {}
  },
  {
   "cell_type": "code",
   "execution_count": 777,
   "source": [
    "with open('model_rf/XG_dinner_estimator.pickle','rb') as f:\r\n",
    "    XG_dinner_model = pickle.load(f)"
   ],
   "outputs": [],
   "metadata": {}
  },
  {
   "cell_type": "code",
   "execution_count": 778,
   "source": [
    "XG_dinner_model =XGBRegressor(base_score=0.5, booster='gbtree', colsample_bylevel=1,\r\n",
    "             colsample_bynode=1, colsample_bytree=0.5, gamma=0, gpu_id=-1,\r\n",
    "             importance_type='gain', interaction_constraints='',\r\n",
    "             learning_rate=0.300000012, max_delta_step=0, max_depth=2,\r\n",
    "             min_child_weight=1,monotone_constraints='()',\r\n",
    "             n_estimators=300, n_jobs=4, num_parallel_tree=1, random_state=0,\r\n",
    "             reg_alpha=0, reg_lambda=1, scale_pos_weight=1, subsample=1,\r\n",
    "             tree_method='exact', validate_parameters=1, verbosity=None)\r\n",
    "XG_dinner_model.fit(X2_train,y2_train)"
   ],
   "outputs": [
    {
     "output_type": "execute_result",
     "data": {
      "text/plain": [
       "XGBRegressor(base_score=0.5, booster='gbtree', colsample_bylevel=1,\n",
       "             colsample_bynode=1, colsample_bytree=0.5, gamma=0, gpu_id=-1,\n",
       "             importance_type='gain', interaction_constraints='',\n",
       "             learning_rate=0.300000012, max_delta_step=0, max_depth=2,\n",
       "             min_child_weight=1, missing=nan, monotone_constraints='()',\n",
       "             n_estimators=300, n_jobs=4, num_parallel_tree=1, random_state=0,\n",
       "             reg_alpha=0, reg_lambda=1, scale_pos_weight=1, subsample=1,\n",
       "             tree_method='exact', validate_parameters=1, verbosity=None)"
      ]
     },
     "metadata": {},
     "execution_count": 778
    }
   ],
   "metadata": {}
  },
  {
   "cell_type": "code",
   "execution_count": 779,
   "source": [
    "XG_dinner_pre = XG_dinner_model.predict(X2_test)\r\n"
   ],
   "outputs": [],
   "metadata": {}
  },
  {
   "cell_type": "markdown",
   "source": [
    "## 랜덤포레스트 모델"
   ],
   "metadata": {}
  },
  {
   "cell_type": "markdown",
   "source": [
    "## 점심 저녁 한번예"
   ],
   "metadata": {}
  },
  {
   "cell_type": "code",
   "execution_count": null,
   "source": [
    "'''\r\n",
    "params = {#max_depth=10, n_estimators=50, n_jobs=-1, random_state=42\r\n",
    "    'n_estimators': [50,100,150,300,1000],\r\n",
    "    'max_features': ['auto', 'sqrt'],\r\n",
    "    'max_depth' : [1,3,6,10],\r\n",
    "    'min_samples_leaf': [1, 2, 4],\r\n",
    "    'min_samples_split': [2, 3, 5, 10]}\r\n",
    "\r\n",
    "model1 = RandomForestRegressor(n_jobs=-1, random_state=42)\r\n",
    "model2 = RandomForestRegressor(n_jobs=-1, random_state=42)\r\n",
    "\r\n",
    "RF_lunch_model = GridSearchCV(model1, params, scoring='neg_mean_absolute_error')\r\n",
    "RF_dinner_model = GridSearchCV(model2, params, scoring='neg_mean_absolute_error')\r\n",
    "\r\n",
    "RF_lunch_model.fit(X_train, y_train)\r\n",
    "RF_dinner_model.fit(X2_train, y2_train)\r\n",
    "\r\n",
    "RF_lunch_best = RF_lunch_model.best_score_\r\n",
    "RF_dinner_best = RF_dinner_model.best_score_\r\n",
    "\r\n",
    "print('점심 RF 모델 에러값(mae) : ',RF_lunch_best)\r\n",
    "print('저녁 RF 모델 에러값(mae) : ',RF_dinner_best)\r\n",
    "\r\n",
    "rf_lunch_param=RF_lunch_model.best_params_\r\n",
    "rf_lunch_est = RF_lunch_model.best_estimator_\r\n",
    "\r\n",
    "rf_dinner_param=RF_dinner_model.best_params_\r\n",
    "rf_lunch_est = RF_dinner_model.best_estimator_\r\n",
    "\r\n",
    "with open('model_rf/rf_lunch_estimator.pickle','wb') as fw:\r\n",
    "    pickle.dump(RF_lunch_model.best_estimator_, fw)\r\n",
    "with open('model_rf/rf_dinner_estimator.pickle','wb') as fw:\r\n",
    "    pickle.dump(RF_dinner_model.best_estimator_, fw)\r\n",
    "# 모델값저장\r\n",
    "'''\r\n"
   ],
   "outputs": [
    {
     "output_type": "execute_result",
     "data": {
      "text/plain": [
       "\"\\nparams = {#max_depth=10, n_estimators=50, n_jobs=-1, random_state=42\\n    'n_estimators': [50,100,150,300,1000],\\n    'max_features': ['auto', 'sqrt'],\\n    'max_depth' : [1,3,6,10],\\n    'min_samples_leaf': [1, 2, 4],\\n    'min_samples_split': [2, 3, 5, 10]}\\n\\nmodel1 = RandomForestRegressor(n_jobs=-1, random_state=42)\\nmodel2 = RandomForestRegressor(n_jobs=-1, random_state=42)\\n\\nRF_lunch_model = GridSearchCV(model1, params, scoring='neg_mean_absolute_error')\\nRF_dinner_model = GridSearchCV(model2, params, scoring='neg_mean_absolute_error')\\n\\nRF_lunch_model.fit(X_train, y_train)\\nRF_dinner_model.fit(X2_train, y2_train)\\n\\nRF_lunch_best = RF_lunch_model.best_score_\\nRF_dinner_best = RF_dinner_model.best_score_\\n\\nprint('점심 RF 모델 에러값(mae) : ',RF_lunch_best)\\nprint('저녁 RF 모델 에러값(mae) : ',RF_dinner_best)\\n\\nrf_lunch_param=RF_lunch_model.best_params_\\nrf_lunch_est = RF_lunch_model.best_estimator_\\n\\nrf_dinner_param=RF_dinner_model.best_params_\\nrf_lunch_est = RF_dinner_model.best_estimator_\\n\\nwith open('model_rf/rf_lunch_estimator.pickle','wb') as fw:\\n    pickle.dump(RF_lunch_model.best_estimator_, fw)\\nwith open('model_rf/rf_dinner_estimator.pickle','wb') as fw:\\n    pickle.dump(RF_dinner_model.best_estimator_, fw)\\n# 모델값저장\\n\""
      ]
     },
     "metadata": {},
     "execution_count": 492
    }
   ],
   "metadata": {}
  },
  {
   "cell_type": "code",
   "execution_count": null,
   "source": [
    "'''print(rf_lunch_param, rf_lunch_est, rf_dinner_param, rf_lunch_est)'''"
   ],
   "outputs": [
    {
     "output_type": "execute_result",
     "data": {
      "text/plain": [
       "'print(rf_lunch_param, rf_lunch_est, rf_dinner_param, rf_lunch_est)'"
      ]
     },
     "metadata": {},
     "execution_count": 493
    }
   ],
   "metadata": {}
  },
  {
   "cell_type": "code",
   "execution_count": 780,
   "source": [
    "with open('model_rf/rf_lunch_estimator.pickle','rb') as f:\r\n",
    "    RF_lunch_model = pickle.load(f)\r\n",
    "with open('model_rf/rf_dinner_estimator.pickle','rb') as f:\r\n",
    "    RF_dinner_model = pickle.load(f)\r\n",
    "RF_lunch_model = RandomForestRegressor(max_depth=10, n_estimators=300, n_jobs=-1,\r\n",
    "                      random_state=42)\r\n",
    "RF_dinner_model = RandomForestRegressor(max_depth=10, n_estimators=300, n_jobs=-1,\r\n",
    "                      random_state=42)\r\n",
    "RF_lunch_model.fit(X_train,y_train)\r\n",
    "RF_dinner_model.fit(X2_train, y2_train)\r\n"
   ],
   "outputs": [
    {
     "output_type": "execute_result",
     "data": {
      "text/plain": [
       "RandomForestRegressor(max_depth=10, n_estimators=300, n_jobs=-1,\n",
       "                      random_state=42)"
      ]
     },
     "metadata": {},
     "execution_count": 780
    }
   ],
   "metadata": {}
  },
  {
   "cell_type": "code",
   "execution_count": 781,
   "source": [
    "rf_lunch_pre = RF_lunch_model.predict(X_test)\r\n",
    "rf_dinner_pre = RF_dinner_model.predict(X2_test)"
   ],
   "outputs": [],
   "metadata": {}
  },
  {
   "cell_type": "markdown",
   "source": [
    "## KNN"
   ],
   "metadata": {}
  },
  {
   "cell_type": "markdown",
   "source": [
    "## 점심"
   ],
   "metadata": {}
  },
  {
   "cell_type": "code",
   "execution_count": 782,
   "source": [
    "from sklearn.neighbors import KNeighborsRegressor\r\n",
    "\r\n",
    "grid_params = {\r\n",
    "    'n_neighbors' : list(range(1,20)),\r\n",
    "    'weights' : [\"uniform\", \"distance\"],\r\n",
    "    'metric' : ['euclidean', 'manhattan', 'minkowski']\r\n",
    "}\r\n",
    "\r\n",
    "grid_model = GridSearchCV(KNeighborsRegressor(), grid_params, scoring='neg_mean_absolute_error')\r\n",
    "\r\n",
    "grid_model.fit(X_train, y_train) \r\n",
    "knn_lunch_pre = grid_model.predict(X_test)"
   ],
   "outputs": [],
   "metadata": {}
  },
  {
   "cell_type": "markdown",
   "source": [
    "## 저녁"
   ],
   "metadata": {}
  },
  {
   "cell_type": "code",
   "execution_count": 783,
   "source": [
    "from sklearn.neighbors import KNeighborsRegressor\r\n",
    "\r\n",
    "grid_params = {\r\n",
    "    'n_neighbors' : list(range(1,20)),\r\n",
    "    'weights' : [\"uniform\", \"distance\"],\r\n",
    "    'metric' : ['euclidean', 'manhattan', 'minkowski']\r\n",
    "}\r\n",
    "\r\n",
    "grid_model = GridSearchCV(KNeighborsRegressor(), grid_params, scoring='neg_mean_absolute_error')\r\n",
    "\r\n",
    "grid_model.fit(X2_train, y2_train) \r\n",
    "knn_dinner_pre = grid_model.predict(X2_test)\r\n"
   ],
   "outputs": [],
   "metadata": {}
  },
  {
   "cell_type": "code",
   "execution_count": 784,
   "source": [
    "sample = pd.read_csv('data/sample_submission.csv')"
   ],
   "outputs": [],
   "metadata": {}
  },
  {
   "cell_type": "code",
   "execution_count": 786,
   "source": [
    "sample['중식계'] = rf_lunch_pre\r\n",
    "sample['석식계'] = rf_dinner_pre"
   ],
   "outputs": [],
   "metadata": {}
  },
  {
   "cell_type": "code",
   "execution_count": 788,
   "source": [
    "sample.to_csv('data/rf_sample.csv',index=False)"
   ],
   "outputs": [],
   "metadata": {}
  },
  {
   "cell_type": "code",
   "execution_count": 789,
   "source": [
    "sample['중식계'] = lasso_lunch_pre\r\n",
    "sample['석식계'] = lasso_dinner_pre\r\n",
    "sample.to_csv('data/lasso_sample.csv',index=False)"
   ],
   "outputs": [],
   "metadata": {}
  },
  {
   "cell_type": "code",
   "execution_count": 790,
   "source": [
    "sample['중식계'] = knn_lunch_pre\r\n",
    "sample['석식계'] = knn_dinner_pre\r\n",
    "sample.to_csv('data/knn_sample.csv',index=False)"
   ],
   "outputs": [],
   "metadata": {}
  },
  {
   "cell_type": "code",
   "execution_count": 791,
   "source": [
    "sample['중식계'] = ridge_lunch_pre\r\n",
    "sample['석식계'] = ridge_dinner_pre\r\n",
    "sample.to_csv('data/ridge_sample.csv',index=False)"
   ],
   "outputs": [],
   "metadata": {}
  }
 ],
 "metadata": {
  "orig_nbformat": 4,
  "language_info": {
   "name": "python",
   "version": "3.8.10",
   "mimetype": "text/x-python",
   "codemirror_mode": {
    "name": "ipython",
    "version": 3
   },
   "pygments_lexer": "ipython3",
   "nbconvert_exporter": "python",
   "file_extension": ".py"
  },
  "kernelspec": {
   "name": "python3",
   "display_name": "Python 3.8.10 64-bit ('base': conda)"
  },
  "interpreter": {
   "hash": "345fc451c7e0336b9390ad1fad588039702f89ec6d37597eff879e480e25ffdb"
  }
 },
 "nbformat": 4,
 "nbformat_minor": 2
}