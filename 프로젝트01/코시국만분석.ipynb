{
 "cells": [
  {
   "cell_type": "code",
   "execution_count": 28,
   "source": [
    "# 메모리 변수 모두 제거\r\n",
    "all = [var for var in globals() if var[0] != \"_\"]\r\n",
    "for var in all:\r\n",
    "    del globals()[var]\r\n",
    "\r\n",
    "# 메모리 변수 확인\r\n",
    "#globals()"
   ],
   "outputs": [],
   "metadata": {}
  },
  {
   "cell_type": "code",
   "execution_count": 29,
   "source": [
    "import pandas as pd\r\n",
    "import numpy as np\r\n",
    "import warnings \r\n",
    "warnings.filterwarnings(action='ignore')\r\n",
    "import matplotlib.pyplot as plt\r\n",
    "import seaborn as sns\r\n",
    "import matplotlib\r\n",
    "matplotlib.rcParams['axes.unicode_minus'] = False\r\n",
    "plt.rc('font', family='Malgun Gothic')\r\n",
    "from sklearn.linear_model import Lasso #라쏘\r\n",
    "\r\n",
    "from sklearn.preprocessing import StandardScaler \r\n",
    "from sklearn.model_selection import train_test_split\r\n",
    "\r\n",
    "from sklearn.metrics import mean_squared_error  # MSE RMSE\r\n",
    "from sklearn.metrics import mean_absolute_error # mae"
   ],
   "outputs": [],
   "metadata": {}
  },
  {
   "cell_type": "code",
   "execution_count": 30,
   "source": [
    "df1 = pd.read_csv('data/train_메뉴제외.csv')\r\n",
    "df3 = pd.read_csv('data/menu_병합.csv')"
   ],
   "outputs": [],
   "metadata": {}
  },
  {
   "cell_type": "code",
   "execution_count": 31,
   "source": [
    "# 일자 드랍하고 y값 2개 뺴고 전부다 스케일링 해버리자\r\n",
    "df1['요일'] =  df1['요일'].astype('category') #요일을 카테고리화 하였다\r\n",
    "df1['요일'] = df1.요일.cat.codes #요일을 숫자로 바꿈\r\n",
    "\r\n",
    "y = df1[['요일','중식계', '석식계','일자','중식강수여부','석식강수여부','휴일전날', '휴일다음날']]\r\n",
    "\r\n",
    "x = df1.drop(columns=['요일','중식계', '석식계','일자','중식강수여부','석식강수여부','휴일전날', '휴일다음날']) # 카테고리컬 변수와 y값으로 쓸 변수 일자변수 빼고 전부 스케일링\r\n",
    "x = StandardScaler().fit_transform(x)\r\n",
    "\r\n",
    "x = pd.DataFrame(x,columns=df1.drop(columns=['요일','중식계', '석식계','일자','중식강수여부','석식강수여부','휴일전날', '휴일다음날']).columns)\r\n",
    "df1 =pd.concat([x,y],axis=1)"
   ],
   "outputs": [],
   "metadata": {}
  },
  {
   "cell_type": "code",
   "execution_count": 32,
   "source": [
    "df_lunch_cat = df3.iloc[:1205]\r\n",
    "df_lunch_cat_dummy =pd.get_dummies(df_lunch_cat.iloc[:1205][['국분류', '메뉴분류']]) # 더미화\r\n",
    "\r\n",
    "df_lunch = pd.concat([df1,df_lunch_cat_dummy],axis=1)"
   ],
   "outputs": [],
   "metadata": {}
  },
  {
   "cell_type": "code",
   "execution_count": 33,
   "source": [
    "df_dinner_cat_dummy =pd.get_dummies(df3.iloc[1205:][['국분류', '메뉴분류']]) # 더미화\r\n",
    "df_dinner_cat_duumy = pd.concat([df3.iloc[1205:]['일자'],df_dinner_cat_dummy],axis=1) # 저녁값이 비어있는곳이 있어 merge 하기 위해 일자 값 추가\r\n",
    "\r\n",
    "df_dinner =pd.merge(df1, df_dinner_cat_duumy,on='일자',how='left')\r\n",
    "\r\n",
    "df_dinner.dropna(inplace=True) #저녁안먹는날 drop"
   ],
   "outputs": [],
   "metadata": {}
  },
  {
   "cell_type": "code",
   "execution_count": 34,
   "source": [
    "df_co_lunch = df_lunch.iloc[977:]\r\n",
    "\r\n",
    "df_dinner.reset_index(inplace=True)\r\n",
    "df_dinner.drop(columns='index',inplace=True)\r\n",
    "df_dinner[df_dinner['일자'] == '2020-02-04']\r\n",
    "\r\n",
    "df_co_dinner = df_dinner.iloc[935:] # 코시국 이후 저녁데이터"
   ],
   "outputs": [],
   "metadata": {}
  },
  {
   "cell_type": "code",
   "execution_count": 35,
   "source": [
    "X3 = df_co_lunch.drop(columns=['일자','중식계','석식계','석식결식','중식결식', '석식기온', '석식강수량', '석식강수여부'])\r\n",
    "#X = df_lunch[['요일', '본사정원수', '본사휴가자수', '본사출장자수', '본사시간외근무명령서승인건수', '현본사소속재택근무자수',\r\n",
    "#       '식사가능인원', '중식강수여부', '중식기온', '중식강수량', '석식강수여부', '석식기온', '석식강수량', '확진자수',\r\n",
    "#       '휴일전날', '휴일다음날']]\r\n",
    "#X = df[['요일','본사정원수','본사휴가자수','본사출장자수','본사시간외근무명령서승인건수','현본사소속재택근무자수','식사가능인원']] #0.43\r\n",
    "y3 = df_co_lunch['중식계']\r\n",
    "\r\n",
    "X3_train, X3_test, y3_train, y3_test = train_test_split(X3, y3, test_size=0.3, random_state=1)"
   ],
   "outputs": [],
   "metadata": {}
  },
  {
   "cell_type": "code",
   "execution_count": 36,
   "source": [
    "X4 = df_co_dinner.drop(columns=['일자','중식계','석식계','석식결식','중식결식', '중식기온', '중식강수량', '중식강수여부'])\r\n",
    "#X = df[['요일','본사정원수','본사휴가자수','본사출장자수','본사시간외근무명령서승인건수','현본사소속재택근무자수','식사가능인원']] #0.43\r\n",
    "y4 = df_co_dinner['석식계']\r\n",
    "\r\n",
    "X4_train, X4_test, y4_train, y4_test = train_test_split(X4, y4, test_size=0.3, random_state=1)"
   ],
   "outputs": [],
   "metadata": {}
  },
  {
   "cell_type": "code",
   "execution_count": 37,
   "source": [
    "import statsmodels.api as sm\r\n",
    "lr = sm.OLS(y3,X3)\r\n",
    "result= lr.fit() \r\n",
    "print(result.summary())\r\n",
    "print(result.params)\r\n",
    "#재택근무자수 무의미함 "
   ],
   "outputs": [
    {
     "output_type": "stream",
     "name": "stdout",
     "text": [
      "                            OLS Regression Results                            \n",
      "==============================================================================\n",
      "Dep. Variable:                    중식계   R-squared:                       0.835\n",
      "Model:                            OLS   Adj. R-squared:                  0.820\n",
      "Method:                 Least Squares   F-statistic:                     55.37\n",
      "Date:                Fri, 01 Oct 2021   Prob (F-statistic):           1.63e-70\n",
      "Time:                        11:18:49   Log-Likelihood:                -1351.9\n",
      "No. Observations:                 228   AIC:                             2744.\n",
      "Df Residuals:                     208   BIC:                             2812.\n",
      "Df Model:                          19                                         \n",
      "Covariance Type:            nonrobust                                         \n",
      "==================================================================================\n",
      "                     coef    std err          t      P>|t|      [0.025      0.975]\n",
      "----------------------------------------------------------------------------------\n",
      "본사정원수            -30.2107     17.043     -1.773      0.078     -63.810       3.388\n",
      "본사휴가자수           -53.3204      9.748     -5.470      0.000     -72.538     -34.103\n",
      "본사출장자수           -55.3704      7.998     -6.923      0.000     -71.137     -39.604\n",
      "본사시간외근무명령서승인건수    18.0111      7.197      2.503      0.013       3.823      32.200\n",
      "현본사소속재택근무자수       16.4127      5.286      3.105      0.002       5.992      26.833\n",
      "식사가능인원            17.6725      9.790      1.805      0.072      -1.628      36.973\n",
      "중식기온               1.1031     10.358      0.106      0.915     -19.317      21.523\n",
      "중식강수량             58.7487     18.212      3.226      0.001      22.844      94.653\n",
      "확진자수              31.0169      4.930      6.292      0.000      21.298      40.736\n",
      "요일                10.9950      7.117      1.545      0.124      -3.035      25.025\n",
      "중식강수여부           -47.0068     39.709     -1.184      0.238    -125.290      31.276\n",
      "휴일전날             -89.4426     24.570     -3.640      0.000    -137.881     -41.005\n",
      "휴일다음날            209.7420     19.204     10.922      0.000     171.882     247.602\n",
      "국분류_국            352.7377     16.201     21.772      0.000     320.798     384.677\n",
      "국분류_국수           380.8864     24.165     15.762      0.000     333.248     428.525\n",
      "국분류_스프         -1.491e-13   1.39e-14    -10.709      0.000   -1.77e-13   -1.22e-13\n",
      "국분류_찌개           338.5539     22.343     15.152      0.000     294.506     382.602\n",
      "국분류_찜            335.6799     21.191     15.841      0.000     293.903     377.456\n",
      "국분류_탕            349.1660     19.090     18.290      0.000     311.530     386.801\n",
      "메뉴분류_기타          432.3230     36.047     11.993      0.000     361.260     503.386\n",
      "메뉴분류_육류          439.5989     17.574     25.014      0.000     404.953     474.245\n",
      "메뉴분류_조류          438.7466     21.111     20.783      0.000     397.127     480.366\n",
      "메뉴분류_해산물         446.3554     20.403     21.877      0.000     406.132     486.579\n",
      "==============================================================================\n",
      "Omnibus:                        2.317   Durbin-Watson:                   1.201\n",
      "Prob(Omnibus):                  0.314   Jarque-Bera (JB):                2.184\n",
      "Skew:                          -0.080   Prob(JB):                        0.336\n",
      "Kurtosis:                       3.452   Cond. No.                     1.61e+17\n",
      "==============================================================================\n",
      "\n",
      "Notes:\n",
      "[1] Standard Errors assume that the covariance matrix of the errors is correctly specified.\n",
      "[2] The smallest eigenvalue is 1.21e-31. This might indicate that there are\n",
      "strong multicollinearity problems or that the design matrix is singular.\n",
      "본사정원수            -3.021070e+01\n",
      "본사휴가자수           -5.332040e+01\n",
      "본사출장자수           -5.537042e+01\n",
      "본사시간외근무명령서승인건수    1.801114e+01\n",
      "현본사소속재택근무자수       1.641268e+01\n",
      "식사가능인원            1.767253e+01\n",
      "중식기온              1.103058e+00\n",
      "중식강수량             5.874874e+01\n",
      "확진자수              3.101694e+01\n",
      "요일                1.099502e+01\n",
      "중식강수여부           -4.700684e+01\n",
      "휴일전날             -8.944259e+01\n",
      "휴일다음날             2.097420e+02\n",
      "국분류_국             3.527377e+02\n",
      "국분류_국수            3.808864e+02\n",
      "국분류_스프           -1.491166e-13\n",
      "국분류_찌개            3.385539e+02\n",
      "국분류_찜             3.356799e+02\n",
      "국분류_탕             3.491660e+02\n",
      "메뉴분류_기타           4.323230e+02\n",
      "메뉴분류_육류           4.395989e+02\n",
      "메뉴분류_조류           4.387466e+02\n",
      "메뉴분류_해산물          4.463554e+02\n",
      "dtype: float64\n"
     ]
    }
   ],
   "metadata": {}
  },
  {
   "cell_type": "code",
   "execution_count": 38,
   "source": [
    "import statsmodels.api as sm\r\n",
    "lr = sm.OLS(y4,X4)\r\n",
    "result= lr.fit() \r\n",
    "print(result.summary())\r\n",
    "print(result.params)\r\n",
    "#재택근무자수 무의미함 "
   ],
   "outputs": [
    {
     "output_type": "stream",
     "name": "stdout",
     "text": [
      "                            OLS Regression Results                            \n",
      "==============================================================================\n",
      "Dep. Variable:                    석식계   R-squared:                       0.753\n",
      "Model:                            OLS   Adj. R-squared:                  0.729\n",
      "Method:                 Least Squares   F-statistic:                     31.30\n",
      "Date:                Fri, 01 Oct 2021   Prob (F-statistic):           2.12e-51\n",
      "Time:                        11:18:49   Log-Likelihood:                -1270.8\n",
      "No. Observations:                 226   AIC:                             2584.\n",
      "Df Residuals:                     205   BIC:                             2655.\n",
      "Df Model:                          20                                         \n",
      "Covariance Type:            nonrobust                                         \n",
      "==================================================================================\n",
      "                     coef    std err          t      P>|t|      [0.025      0.975]\n",
      "----------------------------------------------------------------------------------\n",
      "본사정원수            -44.7303     12.126     -3.689      0.000     -68.638     -20.822\n",
      "본사휴가자수           -36.4966      6.852     -5.326      0.000     -50.007     -22.986\n",
      "본사출장자수           -48.3190      6.008     -8.042      0.000     -60.164     -36.474\n",
      "본사시간외근무명령서승인건수    55.7799      5.270     10.584      0.000      45.390      66.170\n",
      "현본사소속재택근무자수       -5.9757      3.851     -1.552      0.122     -13.568       1.617\n",
      "식사가능인원             2.0511      7.187      0.285      0.776     -12.118      16.220\n",
      "석식기온              12.0449      7.447      1.617      0.107      -2.637      26.727\n",
      "석식강수량             -2.8608      6.841     -0.418      0.676     -16.349      10.627\n",
      "확진자수               2.9126      3.692      0.789      0.431      -4.366      10.191\n",
      "요일               -14.3016      5.385     -2.656      0.009     -24.919      -3.685\n",
      "석식강수여부            23.0224     19.441      1.184      0.238     -15.307      61.352\n",
      "휴일전날             -28.1721     18.212     -1.547      0.123     -64.079       7.734\n",
      "휴일다음날             26.9632     14.075      1.916      0.057      -0.787      54.713\n",
      "국분류_국            185.8664     11.983     15.511      0.000     162.241     209.492\n",
      "국분류_국수           208.6469     17.841     11.695      0.000     173.472     243.822\n",
      "국분류_스프           237.2299     38.415      6.176      0.000     161.492     312.968\n",
      "국분류_찌개           164.7902     15.940     10.338      0.000     133.363     196.218\n",
      "국분류_찜            185.5900     16.606     11.176      0.000     152.849     218.331\n",
      "국분류_탕            169.3689     15.003     11.289      0.000     139.788     198.949\n",
      "메뉴분류_기타          279.0470     19.678     14.181      0.000     240.250     317.843\n",
      "메뉴분류_육류          304.8726     13.551     22.499      0.000     278.156     331.589\n",
      "메뉴분류_조류          279.6067     16.439     17.009      0.000     247.196     312.017\n",
      "메뉴분류_해산물         287.9661     14.322     20.107      0.000     259.729     316.203\n",
      "==============================================================================\n",
      "Omnibus:                        0.762   Durbin-Watson:                   1.299\n",
      "Prob(Omnibus):                  0.683   Jarque-Bera (JB):                0.471\n",
      "Skew:                           0.051   Prob(JB):                        0.790\n",
      "Kurtosis:                       3.199   Cond. No.                     3.29e+16\n",
      "==============================================================================\n",
      "\n",
      "Notes:\n",
      "[1] Standard Errors assume that the covariance matrix of the errors is correctly specified.\n",
      "[2] The smallest eigenvalue is 2.87e-30. This might indicate that there are\n",
      "strong multicollinearity problems or that the design matrix is singular.\n",
      "본사정원수             -44.730311\n",
      "본사휴가자수            -36.496594\n",
      "본사출장자수            -48.318980\n",
      "본사시간외근무명령서승인건수     55.779912\n",
      "현본사소속재택근무자수        -5.975691\n",
      "식사가능인원              2.051068\n",
      "석식기온               12.044920\n",
      "석식강수량              -2.860753\n",
      "확진자수                2.912587\n",
      "요일                -14.301645\n",
      "석식강수여부             23.022382\n",
      "휴일전날              -28.172091\n",
      "휴일다음날              26.963204\n",
      "국분류_국             185.866450\n",
      "국분류_국수            208.646935\n",
      "국분류_스프            237.229929\n",
      "국분류_찌개            164.790198\n",
      "국분류_찜             185.589978\n",
      "국분류_탕             169.368905\n",
      "메뉴분류_기타           279.046960\n",
      "메뉴분류_육류           304.872639\n",
      "메뉴분류_조류           279.606687\n",
      "메뉴분류_해산물          287.966107\n",
      "dtype: float64\n"
     ]
    }
   ],
   "metadata": {}
  },
  {
   "cell_type": "code",
   "execution_count": 39,
   "source": [
    "for alpha in [0.1, 0.5, 1, 10, 100]:\r\n",
    "    model_lasso = Lasso(alpha=alpha)\r\n",
    "    model_lasso.fit(X3_train, y3_train)\r\n",
    "    \r\n",
    "    pre =model_lasso.predict(X3_test)\r\n",
    "    \r\n",
    "    print(f'--------------alpha{alpha}값----------------')\r\n",
    "    print(model_lasso.score(X3_test, y3_test)) #R2값 1일수록 좋은것\r\n",
    "    print('RMSE=',mean_squared_error(y3_test, pre))\r\n",
    "    print('MAE=',mean_absolute_error(y3_test, pre))"
   ],
   "outputs": [
    {
     "output_type": "stream",
     "name": "stdout",
     "text": [
      "--------------alpha0.1값----------------\n",
      "0.8060605505244636\n",
      "RMSE= 11227.464479261633\n",
      "MAE= 79.02246616778511\n",
      "--------------alpha0.5값----------------\n",
      "0.8101492971245438\n",
      "RMSE= 10990.760408268112\n",
      "MAE= 78.68543017804991\n",
      "--------------alpha1값----------------\n",
      "0.815213350714382\n",
      "RMSE= 10697.594257932324\n",
      "MAE= 77.74794460057466\n",
      "--------------alpha10값----------------\n",
      "0.7993044604299893\n",
      "RMSE= 11618.58532527584\n",
      "MAE= 83.6863630187031\n",
      "--------------alpha100값----------------\n",
      "0.3323658401480203\n",
      "RMSE= 38650.40782136135\n",
      "MAE= 161.27200309879134\n"
     ]
    }
   ],
   "metadata": {}
  },
  {
   "cell_type": "code",
   "execution_count": 40,
   "source": [
    "for alpha in [0.1, 0.5, 1, 10, 100]:\r\n",
    "    model_lasso = Lasso(alpha=alpha)\r\n",
    "    model_lasso.fit(X4_train, y4_train)\r\n",
    "    \r\n",
    "    pre =model_lasso.predict(X4_test)\r\n",
    "    \r\n",
    "    print(f'--------------alpha{alpha}값----------------')\r\n",
    "    print('RMSE=',mean_squared_error(y4_test, pre))\r\n",
    "    print('MAE=',mean_absolute_error(y4_test, pre))\r\n",
    "    print(model_lasso.score(X4_test, y4_test)) #R2값 1일수록 좋은것"
   ],
   "outputs": [
    {
     "output_type": "stream",
     "name": "stdout",
     "text": [
      "--------------alpha0.1값----------------\n",
      "RMSE= 5346.036355695127\n",
      "MAE= 56.909998742839\n",
      "0.7172251768614746\n",
      "--------------alpha0.5값----------------\n",
      "RMSE= 5382.426581954685\n",
      "MAE= 57.43650136359366\n",
      "0.7153003415049857\n",
      "--------------alpha1값----------------\n",
      "RMSE= 5420.9021577554795\n",
      "MAE= 57.78815508474421\n",
      "0.7132652030550513\n",
      "--------------alpha10값----------------\n",
      "RMSE= 5806.907472242127\n",
      "MAE= 59.15574093492146\n",
      "0.6928477241469229\n",
      "--------------alpha100값----------------\n",
      "RMSE= 15336.31079289512\n",
      "MAE= 102.39426563028252\n",
      "0.18879665540649204\n"
     ]
    }
   ],
   "metadata": {}
  }
 ],
 "metadata": {
  "orig_nbformat": 4,
  "language_info": {
   "name": "python",
   "version": "3.8.10",
   "mimetype": "text/x-python",
   "codemirror_mode": {
    "name": "ipython",
    "version": 3
   },
   "pygments_lexer": "ipython3",
   "nbconvert_exporter": "python",
   "file_extension": ".py"
  },
  "kernelspec": {
   "name": "python3",
   "display_name": "Python 3.8.10 64-bit ('base': conda)"
  },
  "interpreter": {
   "hash": "345fc451c7e0336b9390ad1fad588039702f89ec6d37597eff879e480e25ffdb"
  }
 },
 "nbformat": 4,
 "nbformat_minor": 2
}