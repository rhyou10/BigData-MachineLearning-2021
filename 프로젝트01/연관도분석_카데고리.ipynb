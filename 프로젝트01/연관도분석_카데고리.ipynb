{
 "cells": [
  {
   "cell_type": "code",
   "execution_count": 2,
   "source": [
    "# 메모리 변수 모두 제거\r\n",
    "all = [var for var in globals() if var[0] != \"_\"]\r\n",
    "for var in all:\r\n",
    "    del globals()[var]\r\n",
    "\r\n",
    "# 메모리 변수 확인\r\n",
    "#globals()"
   ],
   "outputs": [],
   "metadata": {}
  },
  {
   "cell_type": "code",
   "execution_count": 3,
   "source": [
    "import pandas as pd\r\n",
    "import numpy as np\r\n",
    "import warnings \r\n",
    "warnings.filterwarnings(action='ignore')\r\n",
    "\r\n",
    "import matplotlib.pyplot as plt\r\n",
    "import seaborn as sns\r\n",
    "import matplotlib\r\n",
    "matplotlib.rcParams['axes.unicode_minus'] = False\r\n",
    "plt.rc('font', family='Malgun Gothic')"
   ],
   "outputs": [],
   "metadata": {}
  },
  {
   "cell_type": "code",
   "execution_count": 4,
   "source": [
    "df3 = pd.read_csv('data/메뉴구분3.csv')"
   ],
   "outputs": [],
   "metadata": {}
  },
  {
   "cell_type": "code",
   "execution_count": 5,
   "source": [
    "df3.head(2)"
   ],
   "outputs": [
    {
     "output_type": "execute_result",
     "data": {
      "text/html": [
       "<div>\n",
       "<style scoped>\n",
       "    .dataframe tbody tr th:only-of-type {\n",
       "        vertical-align: middle;\n",
       "    }\n",
       "\n",
       "    .dataframe tbody tr th {\n",
       "        vertical-align: top;\n",
       "    }\n",
       "\n",
       "    .dataframe thead th {\n",
       "        text-align: right;\n",
       "    }\n",
       "</style>\n",
       "<table border=\"1\" class=\"dataframe\">\n",
       "  <thead>\n",
       "    <tr style=\"text-align: right;\">\n",
       "      <th></th>\n",
       "      <th>일자</th>\n",
       "      <th>밥</th>\n",
       "      <th>국</th>\n",
       "      <th>메인</th>\n",
       "      <th>반찬</th>\n",
       "      <th>구분</th>\n",
       "      <th>국분류</th>\n",
       "      <th>메뉴분류</th>\n",
       "    </tr>\n",
       "  </thead>\n",
       "  <tbody>\n",
       "    <tr>\n",
       "      <th>0</th>\n",
       "      <td>2016-02-01</td>\n",
       "      <td>밥</td>\n",
       "      <td>오징어찌개</td>\n",
       "      <td>쇠불고기</td>\n",
       "      <td>계란찜</td>\n",
       "      <td>중식</td>\n",
       "      <td>찌개</td>\n",
       "      <td>육류</td>\n",
       "    </tr>\n",
       "    <tr>\n",
       "      <th>1</th>\n",
       "      <td>2016-02-02</td>\n",
       "      <td>밥</td>\n",
       "      <td>김치찌개</td>\n",
       "      <td>가자미튀김</td>\n",
       "      <td>모둠소세지구이</td>\n",
       "      <td>중식</td>\n",
       "      <td>찌개</td>\n",
       "      <td>해산물</td>\n",
       "    </tr>\n",
       "  </tbody>\n",
       "</table>\n",
       "</div>"
      ],
      "text/plain": [
       "           일자  밥      국     메인       반찬  구분 국분류 메뉴분류\n",
       "0  2016-02-01  밥  오징어찌개   쇠불고기      계란찜  중식  찌개   육류\n",
       "1  2016-02-02  밥   김치찌개  가자미튀김  모둠소세지구이  중식  찌개  해산물"
      ]
     },
     "metadata": {},
     "execution_count": 5
    }
   ],
   "metadata": {}
  },
  {
   "cell_type": "code",
   "execution_count": 6,
   "source": [
    "df_lunch_cat = df3.iloc[:1205]\r\n",
    "df_dinner_cat = df3.iloc[1205:]"
   ],
   "outputs": [],
   "metadata": {}
  },
  {
   "cell_type": "code",
   "execution_count": 7,
   "source": [
    "df_lunch_cat['반찬'][1]\r\n"
   ],
   "outputs": [
    {
     "output_type": "execute_result",
     "data": {
      "text/plain": [
       "'모둠소세지구이'"
      ]
     },
     "metadata": {},
     "execution_count": 7
    }
   ],
   "metadata": {}
  },
  {
   "cell_type": "markdown",
   "source": [
    "## 카테고리 리스트화"
   ],
   "metadata": {}
  },
  {
   "cell_type": "code",
   "execution_count": 8,
   "source": [
    "lunch_menu = []\r\n",
    "for i in range(len(df_lunch_cat)):\r\n",
    "    lunch_menu.append([df_lunch_cat['국분류'][i], df_lunch_cat['메뉴분류'][i]])   "
   ],
   "outputs": [],
   "metadata": {}
  },
  {
   "cell_type": "code",
   "execution_count": 9,
   "source": [
    "df_dinner_cat['국분류'][1205]"
   ],
   "outputs": [
    {
     "output_type": "execute_result",
     "data": {
      "text/plain": [
       "'국'"
      ]
     },
     "metadata": {},
     "execution_count": 9
    }
   ],
   "metadata": {}
  },
  {
   "cell_type": "code",
   "execution_count": 10,
   "source": [
    "df_dinner_cat.reset_index(inplace=True) #"
   ],
   "outputs": [],
   "metadata": {}
  },
  {
   "cell_type": "code",
   "execution_count": 11,
   "source": [
    "dinner_menu = []\r\n",
    "for i in range(len(df_dinner_cat)):\r\n",
    "    dinner_menu.append([df_dinner_cat['국분류'][i], df_dinner_cat['메뉴분류'][i]])   "
   ],
   "outputs": [],
   "metadata": {}
  },
  {
   "cell_type": "markdown",
   "source": [
    "## 점심"
   ],
   "metadata": {}
  },
  {
   "cell_type": "code",
   "execution_count": 12,
   "source": [
    "from mlxtend.preprocessing import TransactionEncoder\r\n",
    "from mlxtend.frequent_patterns import apriori, association_rules\r\n",
    "\r\n",
    "te = TransactionEncoder()\r\n",
    "te_ary = te.fit(lunch_menu).transform(lunch_menu)\r\n",
    "lunch_te = pd.DataFrame(te_ary, columns=te.columns_)\r\n",
    "frequent_itemsets_lunch =apriori(lunch_te,min_support=0.001,use_colnames=True)\r\n",
    "print(frequent_itemsets_lunch.sort_values('support', ascending=False)[:5])"
   ],
   "outputs": [
    {
     "output_type": "stream",
     "name": "stdout",
     "text": [
      "     support itemsets\n",
      "0   0.593361      (국)\n",
      "4   0.540249     (육류)\n",
      "10  0.326971  (육류, 국)\n",
      "8   0.224896    (해산물)\n",
      "5   0.176763     (조류)\n"
     ]
    }
   ],
   "metadata": {}
  },
  {
   "cell_type": "code",
   "execution_count": 13,
   "source": [
    "frequent_itemsets_lunch['length'] = frequent_itemsets_lunch['itemsets'].apply(lambda x: len(x))   # 개수열 추가\r\n",
    "frequent_itemsets_lunch[frequent_itemsets_lunch['length'] >=2] .sort_values('support', ascending=False)[:5] #2개 이상\r\n",
    "# support는 자주 나왔던 것들의 조합"
   ],
   "outputs": [
    {
     "output_type": "execute_result",
     "data": {
      "text/html": [
       "<div>\n",
       "<style scoped>\n",
       "    .dataframe tbody tr th:only-of-type {\n",
       "        vertical-align: middle;\n",
       "    }\n",
       "\n",
       "    .dataframe tbody tr th {\n",
       "        vertical-align: top;\n",
       "    }\n",
       "\n",
       "    .dataframe thead th {\n",
       "        text-align: right;\n",
       "    }\n",
       "</style>\n",
       "<table border=\"1\" class=\"dataframe\">\n",
       "  <thead>\n",
       "    <tr style=\"text-align: right;\">\n",
       "      <th></th>\n",
       "      <th>support</th>\n",
       "      <th>itemsets</th>\n",
       "      <th>length</th>\n",
       "    </tr>\n",
       "  </thead>\n",
       "  <tbody>\n",
       "    <tr>\n",
       "      <th>10</th>\n",
       "      <td>0.326971</td>\n",
       "      <td>(육류, 국)</td>\n",
       "      <td>2</td>\n",
       "    </tr>\n",
       "    <tr>\n",
       "      <th>12</th>\n",
       "      <td>0.118672</td>\n",
       "      <td>(해산물, 국)</td>\n",
       "      <td>2</td>\n",
       "    </tr>\n",
       "    <tr>\n",
       "      <th>11</th>\n",
       "      <td>0.112033</td>\n",
       "      <td>(국, 조류)</td>\n",
       "      <td>2</td>\n",
       "    </tr>\n",
       "    <tr>\n",
       "      <th>20</th>\n",
       "      <td>0.086307</td>\n",
       "      <td>(육류, 탕)</td>\n",
       "      <td>2</td>\n",
       "    </tr>\n",
       "    <tr>\n",
       "      <th>19</th>\n",
       "      <td>0.082988</td>\n",
       "      <td>(찌개, 육류)</td>\n",
       "      <td>2</td>\n",
       "    </tr>\n",
       "  </tbody>\n",
       "</table>\n",
       "</div>"
      ],
      "text/plain": [
       "     support  itemsets  length\n",
       "10  0.326971   (육류, 국)       2\n",
       "12  0.118672  (해산물, 국)       2\n",
       "11  0.112033   (국, 조류)       2\n",
       "20  0.086307   (육류, 탕)       2\n",
       "19  0.082988  (찌개, 육류)       2"
      ]
     },
     "metadata": {},
     "execution_count": 13
    }
   ],
   "metadata": {}
  },
  {
   "cell_type": "code",
   "execution_count": 14,
   "source": [
    "rules_lunch=association_rules(frequent_itemsets_lunch, metric=\"lift\", min_threshold=1)\r\n",
    "rules_lunch.sort_values('lift', ascending=False)[:5]\r\n",
    "# lift가 높다는 뜻은 국수가 나오면 꼭 기타종류의 음식이 나오더라"
   ],
   "outputs": [
    {
     "output_type": "execute_result",
     "data": {
      "text/html": [
       "<div>\n",
       "<style scoped>\n",
       "    .dataframe tbody tr th:only-of-type {\n",
       "        vertical-align: middle;\n",
       "    }\n",
       "\n",
       "    .dataframe tbody tr th {\n",
       "        vertical-align: top;\n",
       "    }\n",
       "\n",
       "    .dataframe thead th {\n",
       "        text-align: right;\n",
       "    }\n",
       "</style>\n",
       "<table border=\"1\" class=\"dataframe\">\n",
       "  <thead>\n",
       "    <tr style=\"text-align: right;\">\n",
       "      <th></th>\n",
       "      <th>antecedents</th>\n",
       "      <th>consequents</th>\n",
       "      <th>antecedent support</th>\n",
       "      <th>consequent support</th>\n",
       "      <th>support</th>\n",
       "      <th>confidence</th>\n",
       "      <th>lift</th>\n",
       "      <th>leverage</th>\n",
       "      <th>conviction</th>\n",
       "    </tr>\n",
       "  </thead>\n",
       "  <tbody>\n",
       "    <tr>\n",
       "      <th>6</th>\n",
       "      <td>(국수)</td>\n",
       "      <td>(기타)</td>\n",
       "      <td>0.067220</td>\n",
       "      <td>0.058091</td>\n",
       "      <td>0.005809</td>\n",
       "      <td>0.086420</td>\n",
       "      <td>1.487654</td>\n",
       "      <td>0.001904</td>\n",
       "      <td>1.031008</td>\n",
       "    </tr>\n",
       "    <tr>\n",
       "      <th>7</th>\n",
       "      <td>(기타)</td>\n",
       "      <td>(국수)</td>\n",
       "      <td>0.058091</td>\n",
       "      <td>0.067220</td>\n",
       "      <td>0.005809</td>\n",
       "      <td>0.100000</td>\n",
       "      <td>1.487654</td>\n",
       "      <td>0.001904</td>\n",
       "      <td>1.036422</td>\n",
       "    </tr>\n",
       "    <tr>\n",
       "      <th>11</th>\n",
       "      <td>(기타)</td>\n",
       "      <td>(탕)</td>\n",
       "      <td>0.058091</td>\n",
       "      <td>0.173444</td>\n",
       "      <td>0.013278</td>\n",
       "      <td>0.228571</td>\n",
       "      <td>1.317840</td>\n",
       "      <td>0.003202</td>\n",
       "      <td>1.071462</td>\n",
       "    </tr>\n",
       "    <tr>\n",
       "      <th>10</th>\n",
       "      <td>(탕)</td>\n",
       "      <td>(기타)</td>\n",
       "      <td>0.173444</td>\n",
       "      <td>0.058091</td>\n",
       "      <td>0.013278</td>\n",
       "      <td>0.076555</td>\n",
       "      <td>1.317840</td>\n",
       "      <td>0.003202</td>\n",
       "      <td>1.019994</td>\n",
       "    </tr>\n",
       "    <tr>\n",
       "      <th>15</th>\n",
       "      <td>(해산물)</td>\n",
       "      <td>(찌개)</td>\n",
       "      <td>0.224896</td>\n",
       "      <td>0.164315</td>\n",
       "      <td>0.047303</td>\n",
       "      <td>0.210332</td>\n",
       "      <td>1.280051</td>\n",
       "      <td>0.010349</td>\n",
       "      <td>1.058274</td>\n",
       "    </tr>\n",
       "  </tbody>\n",
       "</table>\n",
       "</div>"
      ],
      "text/plain": [
       "   antecedents consequents  antecedent support  consequent support   support  \\\n",
       "6         (국수)        (기타)            0.067220            0.058091  0.005809   \n",
       "7         (기타)        (국수)            0.058091            0.067220  0.005809   \n",
       "11        (기타)         (탕)            0.058091            0.173444  0.013278   \n",
       "10         (탕)        (기타)            0.173444            0.058091  0.013278   \n",
       "15       (해산물)        (찌개)            0.224896            0.164315  0.047303   \n",
       "\n",
       "    confidence      lift  leverage  conviction  \n",
       "6     0.086420  1.487654  0.001904    1.031008  \n",
       "7     0.100000  1.487654  0.001904    1.036422  \n",
       "11    0.228571  1.317840  0.003202    1.071462  \n",
       "10    0.076555  1.317840  0.003202    1.019994  \n",
       "15    0.210332  1.280051  0.010349    1.058274  "
      ]
     },
     "metadata": {},
     "execution_count": 14
    }
   ],
   "metadata": {}
  },
  {
   "cell_type": "markdown",
   "source": [
    "## 저녁"
   ],
   "metadata": {}
  },
  {
   "cell_type": "code",
   "execution_count": 15,
   "source": [
    "from mlxtend.preprocessing import TransactionEncoder\r\n",
    "from mlxtend.frequent_patterns import apriori, association_rules\r\n",
    "\r\n",
    "te = TransactionEncoder()\r\n",
    "te_ary = te.fit(dinner_menu).transform(dinner_menu)\r\n",
    "dinner_te = pd.DataFrame(te_ary, columns=te.columns_)\r\n",
    "frequent_itemsets_dinner =apriori(lunch_te,min_support=0.001,use_colnames=True)\r\n",
    "print(frequent_itemsets_dinner.sort_values('support', ascending=False)[:5])"
   ],
   "outputs": [
    {
     "output_type": "stream",
     "name": "stdout",
     "text": [
      "     support itemsets\n",
      "0   0.593361      (국)\n",
      "4   0.540249     (육류)\n",
      "10  0.326971  (육류, 국)\n",
      "8   0.224896    (해산물)\n",
      "5   0.176763     (조류)\n"
     ]
    }
   ],
   "metadata": {}
  },
  {
   "cell_type": "code",
   "execution_count": 16,
   "source": [
    "frequent_itemsets_dinner['length'] = frequent_itemsets_dinner['itemsets'].apply(lambda x: len(x))   # 개수열 추가\r\n",
    "frequent_itemsets_dinner[frequent_itemsets_dinner['length'] >=2] .sort_values('support', ascending=False).head(2) #2개 이상\r\n",
    "# support는 자주 나왔던 것들의 조합"
   ],
   "outputs": [
    {
     "output_type": "execute_result",
     "data": {
      "text/html": [
       "<div>\n",
       "<style scoped>\n",
       "    .dataframe tbody tr th:only-of-type {\n",
       "        vertical-align: middle;\n",
       "    }\n",
       "\n",
       "    .dataframe tbody tr th {\n",
       "        vertical-align: top;\n",
       "    }\n",
       "\n",
       "    .dataframe thead th {\n",
       "        text-align: right;\n",
       "    }\n",
       "</style>\n",
       "<table border=\"1\" class=\"dataframe\">\n",
       "  <thead>\n",
       "    <tr style=\"text-align: right;\">\n",
       "      <th></th>\n",
       "      <th>support</th>\n",
       "      <th>itemsets</th>\n",
       "      <th>length</th>\n",
       "    </tr>\n",
       "  </thead>\n",
       "  <tbody>\n",
       "    <tr>\n",
       "      <th>10</th>\n",
       "      <td>0.326971</td>\n",
       "      <td>(육류, 국)</td>\n",
       "      <td>2</td>\n",
       "    </tr>\n",
       "    <tr>\n",
       "      <th>12</th>\n",
       "      <td>0.118672</td>\n",
       "      <td>(해산물, 국)</td>\n",
       "      <td>2</td>\n",
       "    </tr>\n",
       "  </tbody>\n",
       "</table>\n",
       "</div>"
      ],
      "text/plain": [
       "     support  itemsets  length\n",
       "10  0.326971   (육류, 국)       2\n",
       "12  0.118672  (해산물, 국)       2"
      ]
     },
     "metadata": {},
     "execution_count": 16
    }
   ],
   "metadata": {}
  },
  {
   "cell_type": "code",
   "execution_count": 17,
   "source": [
    "rules_dinner=association_rules(frequent_itemsets_dinner, metric=\"lift\", min_threshold=1)\r\n",
    "rules_dinner.sort_values('support', ascending=False)[:5]\r\n",
    "# lift가 높다는 뜻은 국수가 나오면 꼭 기타종류의 음식이 나오더라\r\n",
    "# confidence 는 국수중 기타가 포함될 확률\r\n",
    "# supoort 는 나올 확률"
   ],
   "outputs": [
    {
     "output_type": "execute_result",
     "data": {
      "text/html": [
       "<div>\n",
       "<style scoped>\n",
       "    .dataframe tbody tr th:only-of-type {\n",
       "        vertical-align: middle;\n",
       "    }\n",
       "\n",
       "    .dataframe tbody tr th {\n",
       "        vertical-align: top;\n",
       "    }\n",
       "\n",
       "    .dataframe thead th {\n",
       "        text-align: right;\n",
       "    }\n",
       "</style>\n",
       "<table border=\"1\" class=\"dataframe\">\n",
       "  <thead>\n",
       "    <tr style=\"text-align: right;\">\n",
       "      <th></th>\n",
       "      <th>antecedents</th>\n",
       "      <th>consequents</th>\n",
       "      <th>antecedent support</th>\n",
       "      <th>consequent support</th>\n",
       "      <th>support</th>\n",
       "      <th>confidence</th>\n",
       "      <th>lift</th>\n",
       "      <th>leverage</th>\n",
       "      <th>conviction</th>\n",
       "    </tr>\n",
       "  </thead>\n",
       "  <tbody>\n",
       "    <tr>\n",
       "      <th>2</th>\n",
       "      <td>(육류)</td>\n",
       "      <td>(국)</td>\n",
       "      <td>0.540249</td>\n",
       "      <td>0.593361</td>\n",
       "      <td>0.326971</td>\n",
       "      <td>0.605223</td>\n",
       "      <td>1.019991</td>\n",
       "      <td>0.006408</td>\n",
       "      <td>1.030047</td>\n",
       "    </tr>\n",
       "    <tr>\n",
       "      <th>3</th>\n",
       "      <td>(국)</td>\n",
       "      <td>(육류)</td>\n",
       "      <td>0.593361</td>\n",
       "      <td>0.540249</td>\n",
       "      <td>0.326971</td>\n",
       "      <td>0.551049</td>\n",
       "      <td>1.019991</td>\n",
       "      <td>0.006408</td>\n",
       "      <td>1.024056</td>\n",
       "    </tr>\n",
       "    <tr>\n",
       "      <th>4</th>\n",
       "      <td>(국)</td>\n",
       "      <td>(조류)</td>\n",
       "      <td>0.593361</td>\n",
       "      <td>0.176763</td>\n",
       "      <td>0.112033</td>\n",
       "      <td>0.188811</td>\n",
       "      <td>1.068157</td>\n",
       "      <td>0.007149</td>\n",
       "      <td>1.014852</td>\n",
       "    </tr>\n",
       "    <tr>\n",
       "      <th>5</th>\n",
       "      <td>(조류)</td>\n",
       "      <td>(국)</td>\n",
       "      <td>0.176763</td>\n",
       "      <td>0.593361</td>\n",
       "      <td>0.112033</td>\n",
       "      <td>0.633803</td>\n",
       "      <td>1.068157</td>\n",
       "      <td>0.007149</td>\n",
       "      <td>1.110437</td>\n",
       "    </tr>\n",
       "    <tr>\n",
       "      <th>14</th>\n",
       "      <td>(찌개)</td>\n",
       "      <td>(해산물)</td>\n",
       "      <td>0.164315</td>\n",
       "      <td>0.224896</td>\n",
       "      <td>0.047303</td>\n",
       "      <td>0.287879</td>\n",
       "      <td>1.280051</td>\n",
       "      <td>0.010349</td>\n",
       "      <td>1.088444</td>\n",
       "    </tr>\n",
       "  </tbody>\n",
       "</table>\n",
       "</div>"
      ],
      "text/plain": [
       "   antecedents consequents  antecedent support  consequent support   support  \\\n",
       "2         (육류)         (국)            0.540249            0.593361  0.326971   \n",
       "3          (국)        (육류)            0.593361            0.540249  0.326971   \n",
       "4          (국)        (조류)            0.593361            0.176763  0.112033   \n",
       "5         (조류)         (국)            0.176763            0.593361  0.112033   \n",
       "14        (찌개)       (해산물)            0.164315            0.224896  0.047303   \n",
       "\n",
       "    confidence      lift  leverage  conviction  \n",
       "2     0.605223  1.019991  0.006408    1.030047  \n",
       "3     0.551049  1.019991  0.006408    1.024056  \n",
       "4     0.188811  1.068157  0.007149    1.014852  \n",
       "5     0.633803  1.068157  0.007149    1.110437  \n",
       "14    0.287879  1.280051  0.010349    1.088444  "
      ]
     },
     "metadata": {},
     "execution_count": 17
    }
   ],
   "metadata": {}
  },
  {
   "cell_type": "markdown",
   "source": [
    "## 시각화"
   ],
   "metadata": {}
  },
  {
   "cell_type": "markdown",
   "source": [
    "## 점심"
   ],
   "metadata": {}
  },
  {
   "cell_type": "code",
   "execution_count": 18,
   "source": [
    "df = pd.read_csv('data/train_메뉴제외.csv')"
   ],
   "outputs": [],
   "metadata": {}
  },
  {
   "cell_type": "code",
   "execution_count": 19,
   "source": [
    "df = df[['일자', '요일', '중식계', '석식계', '중식강수여부', '석식강수여부', '중식기온', '석식기온']]\r\n",
    "df.head(2)"
   ],
   "outputs": [
    {
     "output_type": "execute_result",
     "data": {
      "text/html": [
       "<div>\n",
       "<style scoped>\n",
       "    .dataframe tbody tr th:only-of-type {\n",
       "        vertical-align: middle;\n",
       "    }\n",
       "\n",
       "    .dataframe tbody tr th {\n",
       "        vertical-align: top;\n",
       "    }\n",
       "\n",
       "    .dataframe thead th {\n",
       "        text-align: right;\n",
       "    }\n",
       "</style>\n",
       "<table border=\"1\" class=\"dataframe\">\n",
       "  <thead>\n",
       "    <tr style=\"text-align: right;\">\n",
       "      <th></th>\n",
       "      <th>일자</th>\n",
       "      <th>요일</th>\n",
       "      <th>중식계</th>\n",
       "      <th>석식계</th>\n",
       "      <th>중식강수여부</th>\n",
       "      <th>석식강수여부</th>\n",
       "      <th>중식기온</th>\n",
       "      <th>석식기온</th>\n",
       "    </tr>\n",
       "  </thead>\n",
       "  <tbody>\n",
       "    <tr>\n",
       "      <th>0</th>\n",
       "      <td>2016-02-01</td>\n",
       "      <td>월</td>\n",
       "      <td>1039.0</td>\n",
       "      <td>331.0</td>\n",
       "      <td>0.0</td>\n",
       "      <td>0.0</td>\n",
       "      <td>3.0</td>\n",
       "      <td>0.9</td>\n",
       "    </tr>\n",
       "    <tr>\n",
       "      <th>1</th>\n",
       "      <td>2016-02-02</td>\n",
       "      <td>화</td>\n",
       "      <td>867.0</td>\n",
       "      <td>560.0</td>\n",
       "      <td>0.0</td>\n",
       "      <td>0.0</td>\n",
       "      <td>1.7</td>\n",
       "      <td>2.4</td>\n",
       "    </tr>\n",
       "  </tbody>\n",
       "</table>\n",
       "</div>"
      ],
      "text/plain": [
       "           일자 요일     중식계    석식계  중식강수여부  석식강수여부  중식기온  석식기온\n",
       "0  2016-02-01  월  1039.0  331.0     0.0     0.0   3.0   0.9\n",
       "1  2016-02-02  화   867.0  560.0     0.0     0.0   1.7   2.4"
      ]
     },
     "metadata": {},
     "execution_count": 19
    }
   ],
   "metadata": {}
  },
  {
   "cell_type": "code",
   "execution_count": 20,
   "source": [
    "df_lunch = pd.concat([df,df_lunch_cat[['국분류', '메뉴분류']]],axis=1)\r\n",
    "avg = np.average(df_lunch['중식계']) ##중식의 평균 식수량을 구한다\r\n",
    "np.average(df_lunch[(df_lunch.국분류=='국수') & (df_lunch.메뉴분류 == '육류')]['중식계']) # 국수와 육류가 나오면 중식계의 평균이 늘어납니다. \r\n",
    "\r\n",
    "\r\n",
    "df_lunch_mean = df_lunch['중식계'].groupby([df_lunch['메뉴분류'], df_lunch['국분류']]).mean()\r\n",
    "df_lunch_mean = pd.DataFrame(df_lunch_mean)\r\n",
    "df_lunch_mean_menu = pd.DataFrame(df_lunch['중식계'].groupby(df_lunch['메뉴분류']).mean())\r\n",
    "df_lunch_mean_guk = pd.DataFrame(df_lunch['중식계'].groupby(df_lunch['국분류']).mean())\r\n",
    "df_lunch_mean.head(2)"
   ],
   "outputs": [
    {
     "output_type": "execute_result",
     "data": {
      "text/html": [
       "<div>\n",
       "<style scoped>\n",
       "    .dataframe tbody tr th:only-of-type {\n",
       "        vertical-align: middle;\n",
       "    }\n",
       "\n",
       "    .dataframe tbody tr th {\n",
       "        vertical-align: top;\n",
       "    }\n",
       "\n",
       "    .dataframe thead th {\n",
       "        text-align: right;\n",
       "    }\n",
       "</style>\n",
       "<table border=\"1\" class=\"dataframe\">\n",
       "  <thead>\n",
       "    <tr style=\"text-align: right;\">\n",
       "      <th></th>\n",
       "      <th></th>\n",
       "      <th>중식계</th>\n",
       "    </tr>\n",
       "    <tr>\n",
       "      <th>메뉴분류</th>\n",
       "      <th>국분류</th>\n",
       "      <th></th>\n",
       "    </tr>\n",
       "  </thead>\n",
       "  <tbody>\n",
       "    <tr>\n",
       "      <th rowspan=\"2\" valign=\"top\">기타</th>\n",
       "      <th>국</th>\n",
       "      <td>863.558140</td>\n",
       "    </tr>\n",
       "    <tr>\n",
       "      <th>국수</th>\n",
       "      <td>960.571429</td>\n",
       "    </tr>\n",
       "  </tbody>\n",
       "</table>\n",
       "</div>"
      ],
      "text/plain": [
       "                 중식계\n",
       "메뉴분류 국분류            \n",
       "기타   국    863.558140\n",
       "     국수   960.571429"
      ]
     },
     "metadata": {},
     "execution_count": 20
    }
   ],
   "metadata": {}
  },
  {
   "cell_type": "code",
   "execution_count": 21,
   "source": [
    "#df_lunch_mean.plot(figsize=(40,10), xticks=range(len(df_lunch_mean)))\r\n",
    "#df_lunch_mean.loc['기타','국'] # 다중인덱스 인덱싱 하는법"
   ],
   "outputs": [],
   "metadata": {}
  },
  {
   "cell_type": "code",
   "execution_count": 22,
   "source": [
    "def cal_anco(colum, df_rules, df_meal_mean, meal_type='lunch'):\r\n",
    "    a = df_rules.sort_values(colum, ascending=False).reset_index()['antecedents']\r\n",
    "    b = df_rules.sort_values(colum, ascending=False).reset_index()['consequents']\r\n",
    "    b = b.apply(lambda x: list(x))\r\n",
    "    a = a.apply(lambda x: list(x))\r\n",
    "\r\n",
    "    if meal_type == 'dinner':\r\n",
    "        type = '석식계'\r\n",
    "        avg = np.average(df_dinner['석식계']) ##중식의 평균 식수량을 구한다\r\n",
    "    else : \r\n",
    "        type = '중식계'\r\n",
    "        avg = np.average(df_lunch['중식계']) ##중식의 평균 식수량을 구한다\r\n",
    "\r\n",
    "    mean_lunch_list = []\r\n",
    "    for i in range(len(a)):\r\n",
    "        try:\r\n",
    "            num = df_meal_mean.loc[a[i][0],b[i][0]][type]\r\n",
    "            mean_lunch_list.append([a[i][0], b[i][0], num])\r\n",
    "        except:\r\n",
    "            pass\r\n",
    "\r\n",
    "    menu_lunch_df = pd.DataFrame(mean_lunch_list)\r\n",
    "    menu_lunch_df['평균차이']  = menu_lunch_df[2]-avg\r\n",
    "    return menu_lunch_df"
   ],
   "outputs": [],
   "metadata": {}
  },
  {
   "cell_type": "code",
   "execution_count": 23,
   "source": [
    "def cal_anco_one(colum, df_rules, meal_type='lunch'):\r\n",
    "    global df_lunch_mean_menu\r\n",
    "    global df_lunch_mean_guk\r\n",
    "    a = df_rules.sort_values(colum, ascending=False).reset_index()['itemsets']\r\n",
    "    a = a.apply(lambda x: list(x))\r\n",
    "\r\n",
    "    mean_lunch_list = []\r\n",
    "    if meal_type == 'dinner':\r\n",
    "        type = '석식계'\r\n",
    "        avg = np.average(df_dinner['석식계']) ##중식의 평균 식수량을 구한다\r\n",
    "        for i in range(len(a)):\r\n",
    "            try:\r\n",
    "                num = df_dinner_mean_menu.loc[a[i][0]][type]\r\n",
    "                mean_lunch_list.append([a[i][0], num])\r\n",
    "            except:\r\n",
    "                num = df_dinner_mean_guk.loc[a[i][0]][type]\r\n",
    "                mean_lunch_list.append([a[i][0], num])\r\n",
    "    else : \r\n",
    "        type = '중식계'\r\n",
    "        avg = np.average(df_lunch['중식계']) ##중식의 평균 식수량을 구한다\r\n",
    "        for i in range(len(a)):\r\n",
    "            try:\r\n",
    "                num = df_lunch_mean_menu.loc[a[i][0]][type]\r\n",
    "                mean_lunch_list.append([a[i][0], num])\r\n",
    "            except:\r\n",
    "                num = df_lunch_mean_guk.loc[a[i][0]][type]\r\n",
    "                mean_lunch_list.append([a[i][0], num])\r\n",
    "\r\n",
    "    menu_lunch_df = pd.DataFrame(mean_lunch_list)\r\n",
    "    menu_lunch_df['평균차이']  = menu_lunch_df[1]-avg\r\n",
    "    return menu_lunch_df"
   ],
   "outputs": [],
   "metadata": {}
  },
  {
   "cell_type": "code",
   "execution_count": 24,
   "source": [
    "df_rules = frequent_itemsets_dinner[frequent_itemsets_dinner['length'] ==1]\r\n",
    "a = df_rules.sort_values('support', ascending=False).reset_index()['itemsets']\r\n",
    "a = a.apply(lambda x: list(x))\r\n",
    "a[0][0]"
   ],
   "outputs": [
    {
     "output_type": "execute_result",
     "data": {
      "text/plain": [
       "'국'"
      ]
     },
     "metadata": {},
     "execution_count": 24
    }
   ],
   "metadata": {}
  },
  {
   "cell_type": "code",
   "execution_count": 25,
   "source": [
    "a[0][0]"
   ],
   "outputs": [
    {
     "output_type": "execute_result",
     "data": {
      "text/plain": [
       "'국'"
      ]
     },
     "metadata": {},
     "execution_count": 25
    }
   ],
   "metadata": {}
  },
  {
   "cell_type": "code",
   "execution_count": 26,
   "source": [
    "cal_anco_one('support',frequent_itemsets_dinner[frequent_itemsets_dinner['length'] ==1]) # 메뉴 많이 나온 순서대로 평균을 구함"
   ],
   "outputs": [
    {
     "output_type": "execute_result",
     "data": {
      "text/html": [
       "<div>\n",
       "<style scoped>\n",
       "    .dataframe tbody tr th:only-of-type {\n",
       "        vertical-align: middle;\n",
       "    }\n",
       "\n",
       "    .dataframe tbody tr th {\n",
       "        vertical-align: top;\n",
       "    }\n",
       "\n",
       "    .dataframe thead th {\n",
       "        text-align: right;\n",
       "    }\n",
       "</style>\n",
       "<table border=\"1\" class=\"dataframe\">\n",
       "  <thead>\n",
       "    <tr style=\"text-align: right;\">\n",
       "      <th></th>\n",
       "      <th>0</th>\n",
       "      <th>1</th>\n",
       "      <th>평균차이</th>\n",
       "    </tr>\n",
       "  </thead>\n",
       "  <tbody>\n",
       "    <tr>\n",
       "      <th>0</th>\n",
       "      <td>국</td>\n",
       "      <td>898.661538</td>\n",
       "      <td>8.327099</td>\n",
       "    </tr>\n",
       "    <tr>\n",
       "      <th>1</th>\n",
       "      <td>육류</td>\n",
       "      <td>925.913978</td>\n",
       "      <td>35.579539</td>\n",
       "    </tr>\n",
       "    <tr>\n",
       "      <th>2</th>\n",
       "      <td>해산물</td>\n",
       "      <td>825.258303</td>\n",
       "      <td>-65.076137</td>\n",
       "    </tr>\n",
       "    <tr>\n",
       "      <th>3</th>\n",
       "      <td>조류</td>\n",
       "      <td>870.065728</td>\n",
       "      <td>-20.268712</td>\n",
       "    </tr>\n",
       "    <tr>\n",
       "      <th>4</th>\n",
       "      <td>탕</td>\n",
       "      <td>852.334928</td>\n",
       "      <td>-37.999512</td>\n",
       "    </tr>\n",
       "    <tr>\n",
       "      <th>5</th>\n",
       "      <td>찌개</td>\n",
       "      <td>887.424242</td>\n",
       "      <td>-2.910197</td>\n",
       "    </tr>\n",
       "    <tr>\n",
       "      <th>6</th>\n",
       "      <td>국수</td>\n",
       "      <td>928.148148</td>\n",
       "      <td>37.813708</td>\n",
       "    </tr>\n",
       "    <tr>\n",
       "      <th>7</th>\n",
       "      <td>기타</td>\n",
       "      <td>873.057143</td>\n",
       "      <td>-17.277297</td>\n",
       "    </tr>\n",
       "    <tr>\n",
       "      <th>8</th>\n",
       "      <td>스프</td>\n",
       "      <td>641.000000</td>\n",
       "      <td>-249.334440</td>\n",
       "    </tr>\n",
       "  </tbody>\n",
       "</table>\n",
       "</div>"
      ],
      "text/plain": [
       "     0           1        평균차이\n",
       "0    국  898.661538    8.327099\n",
       "1   육류  925.913978   35.579539\n",
       "2  해산물  825.258303  -65.076137\n",
       "3   조류  870.065728  -20.268712\n",
       "4    탕  852.334928  -37.999512\n",
       "5   찌개  887.424242   -2.910197\n",
       "6   국수  928.148148   37.813708\n",
       "7   기타  873.057143  -17.277297\n",
       "8   스프  641.000000 -249.334440"
      ]
     },
     "metadata": {},
     "execution_count": 26
    }
   ],
   "metadata": {}
  },
  {
   "cell_type": "code",
   "execution_count": 28,
   "source": [
    "cal_anco('support', rules_lunch, df_lunch_mean) # 카데고리컬한 메뉴에 많이 나온다고 많이 먹지는 않는다 단 단일 메뉴에는 인기도가 분석 가능할듯 하다"
   ],
   "outputs": [
    {
     "output_type": "execute_result",
     "data": {
      "text/html": [
       "<div>\n",
       "<style scoped>\n",
       "    .dataframe tbody tr th:only-of-type {\n",
       "        vertical-align: middle;\n",
       "    }\n",
       "\n",
       "    .dataframe tbody tr th {\n",
       "        vertical-align: top;\n",
       "    }\n",
       "\n",
       "    .dataframe thead th {\n",
       "        text-align: right;\n",
       "    }\n",
       "</style>\n",
       "<table border=\"1\" class=\"dataframe\">\n",
       "  <thead>\n",
       "    <tr style=\"text-align: right;\">\n",
       "      <th></th>\n",
       "      <th>0</th>\n",
       "      <th>1</th>\n",
       "      <th>2</th>\n",
       "      <th>평균차이</th>\n",
       "    </tr>\n",
       "  </thead>\n",
       "  <tbody>\n",
       "    <tr>\n",
       "      <th>0</th>\n",
       "      <td>육류</td>\n",
       "      <td>국</td>\n",
       "      <td>929.492386</td>\n",
       "      <td>39.157946</td>\n",
       "    </tr>\n",
       "    <tr>\n",
       "      <th>1</th>\n",
       "      <td>조류</td>\n",
       "      <td>국</td>\n",
       "      <td>894.733333</td>\n",
       "      <td>4.398893</td>\n",
       "    </tr>\n",
       "    <tr>\n",
       "      <th>2</th>\n",
       "      <td>해산물</td>\n",
       "      <td>찌개</td>\n",
       "      <td>800.877193</td>\n",
       "      <td>-89.457247</td>\n",
       "    </tr>\n",
       "    <tr>\n",
       "      <th>3</th>\n",
       "      <td>해산물</td>\n",
       "      <td>탕</td>\n",
       "      <td>831.462963</td>\n",
       "      <td>-58.871477</td>\n",
       "    </tr>\n",
       "    <tr>\n",
       "      <th>4</th>\n",
       "      <td>육류</td>\n",
       "      <td>국수</td>\n",
       "      <td>933.679245</td>\n",
       "      <td>43.344805</td>\n",
       "    </tr>\n",
       "    <tr>\n",
       "      <th>5</th>\n",
       "      <td>기타</td>\n",
       "      <td>국</td>\n",
       "      <td>863.558140</td>\n",
       "      <td>-26.776300</td>\n",
       "    </tr>\n",
       "    <tr>\n",
       "      <th>6</th>\n",
       "      <td>조류</td>\n",
       "      <td>찌개</td>\n",
       "      <td>834.947368</td>\n",
       "      <td>-55.387071</td>\n",
       "    </tr>\n",
       "    <tr>\n",
       "      <th>7</th>\n",
       "      <td>기타</td>\n",
       "      <td>탕</td>\n",
       "      <td>876.187500</td>\n",
       "      <td>-14.146940</td>\n",
       "    </tr>\n",
       "    <tr>\n",
       "      <th>8</th>\n",
       "      <td>기타</td>\n",
       "      <td>국수</td>\n",
       "      <td>960.571429</td>\n",
       "      <td>70.236989</td>\n",
       "    </tr>\n",
       "  </tbody>\n",
       "</table>\n",
       "</div>"
      ],
      "text/plain": [
       "     0   1           2       평균차이\n",
       "0   육류   국  929.492386  39.157946\n",
       "1   조류   국  894.733333   4.398893\n",
       "2  해산물  찌개  800.877193 -89.457247\n",
       "3  해산물   탕  831.462963 -58.871477\n",
       "4   육류  국수  933.679245  43.344805\n",
       "5   기타   국  863.558140 -26.776300\n",
       "6   조류  찌개  834.947368 -55.387071\n",
       "7   기타   탕  876.187500 -14.146940\n",
       "8   기타  국수  960.571429  70.236989"
      ]
     },
     "metadata": {},
     "execution_count": 28
    }
   ],
   "metadata": {}
  },
  {
   "cell_type": "code",
   "execution_count": 29,
   "source": [
    "cal_anco('lift', rules_lunch, df_lunch_mean)"
   ],
   "outputs": [
    {
     "output_type": "execute_result",
     "data": {
      "text/html": [
       "<div>\n",
       "<style scoped>\n",
       "    .dataframe tbody tr th:only-of-type {\n",
       "        vertical-align: middle;\n",
       "    }\n",
       "\n",
       "    .dataframe tbody tr th {\n",
       "        vertical-align: top;\n",
       "    }\n",
       "\n",
       "    .dataframe thead th {\n",
       "        text-align: right;\n",
       "    }\n",
       "</style>\n",
       "<table border=\"1\" class=\"dataframe\">\n",
       "  <thead>\n",
       "    <tr style=\"text-align: right;\">\n",
       "      <th></th>\n",
       "      <th>0</th>\n",
       "      <th>1</th>\n",
       "      <th>2</th>\n",
       "      <th>평균차이</th>\n",
       "    </tr>\n",
       "  </thead>\n",
       "  <tbody>\n",
       "    <tr>\n",
       "      <th>0</th>\n",
       "      <td>기타</td>\n",
       "      <td>국수</td>\n",
       "      <td>960.571429</td>\n",
       "      <td>70.236989</td>\n",
       "    </tr>\n",
       "    <tr>\n",
       "      <th>1</th>\n",
       "      <td>기타</td>\n",
       "      <td>탕</td>\n",
       "      <td>876.187500</td>\n",
       "      <td>-14.146940</td>\n",
       "    </tr>\n",
       "    <tr>\n",
       "      <th>2</th>\n",
       "      <td>해산물</td>\n",
       "      <td>찌개</td>\n",
       "      <td>800.877193</td>\n",
       "      <td>-89.457247</td>\n",
       "    </tr>\n",
       "    <tr>\n",
       "      <th>3</th>\n",
       "      <td>육류</td>\n",
       "      <td>국수</td>\n",
       "      <td>933.679245</td>\n",
       "      <td>43.344805</td>\n",
       "    </tr>\n",
       "    <tr>\n",
       "      <th>4</th>\n",
       "      <td>해산물</td>\n",
       "      <td>탕</td>\n",
       "      <td>831.462963</td>\n",
       "      <td>-58.871477</td>\n",
       "    </tr>\n",
       "    <tr>\n",
       "      <th>5</th>\n",
       "      <td>조류</td>\n",
       "      <td>찌개</td>\n",
       "      <td>834.947368</td>\n",
       "      <td>-55.387071</td>\n",
       "    </tr>\n",
       "    <tr>\n",
       "      <th>6</th>\n",
       "      <td>조류</td>\n",
       "      <td>국</td>\n",
       "      <td>894.733333</td>\n",
       "      <td>4.398893</td>\n",
       "    </tr>\n",
       "    <tr>\n",
       "      <th>7</th>\n",
       "      <td>기타</td>\n",
       "      <td>국</td>\n",
       "      <td>863.558140</td>\n",
       "      <td>-26.776300</td>\n",
       "    </tr>\n",
       "    <tr>\n",
       "      <th>8</th>\n",
       "      <td>육류</td>\n",
       "      <td>국</td>\n",
       "      <td>929.492386</td>\n",
       "      <td>39.157946</td>\n",
       "    </tr>\n",
       "  </tbody>\n",
       "</table>\n",
       "</div>"
      ],
      "text/plain": [
       "     0   1           2       평균차이\n",
       "0   기타  국수  960.571429  70.236989\n",
       "1   기타   탕  876.187500 -14.146940\n",
       "2  해산물  찌개  800.877193 -89.457247\n",
       "3   육류  국수  933.679245  43.344805\n",
       "4  해산물   탕  831.462963 -58.871477\n",
       "5   조류  찌개  834.947368 -55.387071\n",
       "6   조류   국  894.733333   4.398893\n",
       "7   기타   국  863.558140 -26.776300\n",
       "8   육류   국  929.492386  39.157946"
      ]
     },
     "metadata": {},
     "execution_count": 29
    }
   ],
   "metadata": {}
  },
  {
   "cell_type": "code",
   "execution_count": 30,
   "source": [
    "plt.figure(figsize=(50,10))\r\n",
    "sns.barplot(data=df_lunch_mean,x=df_lunch_mean.index.to_numpy(), y='중식계')\r\n",
    "\r\n",
    "plt.show()"
   ],
   "outputs": [
    {
     "output_type": "display_data",
     "data": {
      "image/png": "[encoded data removed]",
      "text/plain": [
       "<Figure size 3600x720 with 1 Axes>"
      ]
     },
     "metadata": {
      "needs_background": "light"
     }
    }
   ],
   "metadata": {}
  },
  {
   "cell_type": "markdown",
   "source": [
    "## 저녁"
   ],
   "metadata": {}
  },
  {
   "cell_type": "code",
   "execution_count": 31,
   "source": [
    "df_dinner = pd.merge(df, df_dinner_cat, on='일자', how='left')\r\n",
    "df_dinner.isna().sum().sum()"
   ],
   "outputs": [
    {
     "output_type": "execute_result",
     "data": {
      "text/plain": [
       "352"
      ]
     },
     "metadata": {},
     "execution_count": 31
    }
   ],
   "metadata": {}
  },
  {
   "cell_type": "code",
   "execution_count": 32,
   "source": [
    "#df_dinner.fillna(0,inplace=True)\r\n",
    "df_dinner.dropna(inplace=True)\r\n",
    "\r\n",
    "df_dinner_mean = df_dinner['석식계'].groupby([df_dinner['메뉴분류'], df_dinner['국분류']]).mean()\r\n",
    "df_dinner_mean = pd.DataFrame(df_dinner_mean)\r\n",
    "df_dinner_mean_menu = pd.DataFrame(df_dinner['석식계'].groupby(df_dinner['메뉴분류']).mean())\r\n",
    "df_dinner_mean_guk = pd.DataFrame(df_dinner['석식계'].groupby(df_dinner['국분류']).mean())"
   ],
   "outputs": [],
   "metadata": {}
  },
  {
   "cell_type": "code",
   "execution_count": 33,
   "source": [
    "cal_anco_one('support',frequent_itemsets_dinner[frequent_itemsets_dinner['length'] ==1],'dinner') # 메뉴 많이 나온 순서대로 평균을 구함"
   ],
   "outputs": [
    {
     "output_type": "execute_result",
     "data": {
      "text/html": [
       "<div>\n",
       "<style scoped>\n",
       "    .dataframe tbody tr th:only-of-type {\n",
       "        vertical-align: middle;\n",
       "    }\n",
       "\n",
       "    .dataframe tbody tr th {\n",
       "        vertical-align: top;\n",
       "    }\n",
       "\n",
       "    .dataframe thead th {\n",
       "        text-align: right;\n",
       "    }\n",
       "</style>\n",
       "<table border=\"1\" class=\"dataframe\">\n",
       "  <thead>\n",
       "    <tr style=\"text-align: right;\">\n",
       "      <th></th>\n",
       "      <th>0</th>\n",
       "      <th>1</th>\n",
       "      <th>평균차이</th>\n",
       "    </tr>\n",
       "  </thead>\n",
       "  <tbody>\n",
       "    <tr>\n",
       "      <th>0</th>\n",
       "      <td>국</td>\n",
       "      <td>478.809148</td>\n",
       "      <td>0.942654</td>\n",
       "    </tr>\n",
       "    <tr>\n",
       "      <th>1</th>\n",
       "      <td>육류</td>\n",
       "      <td>475.910088</td>\n",
       "      <td>-1.956407</td>\n",
       "    </tr>\n",
       "    <tr>\n",
       "      <th>2</th>\n",
       "      <td>해산물</td>\n",
       "      <td>472.096491</td>\n",
       "      <td>-5.770003</td>\n",
       "    </tr>\n",
       "    <tr>\n",
       "      <th>3</th>\n",
       "      <td>조류</td>\n",
       "      <td>480.567376</td>\n",
       "      <td>2.700881</td>\n",
       "    </tr>\n",
       "    <tr>\n",
       "      <th>4</th>\n",
       "      <td>탕</td>\n",
       "      <td>461.798883</td>\n",
       "      <td>-16.067612</td>\n",
       "    </tr>\n",
       "    <tr>\n",
       "      <th>5</th>\n",
       "      <td>찌개</td>\n",
       "      <td>469.343590</td>\n",
       "      <td>-8.522905</td>\n",
       "    </tr>\n",
       "    <tr>\n",
       "      <th>6</th>\n",
       "      <td>국수</td>\n",
       "      <td>505.537815</td>\n",
       "      <td>27.671321</td>\n",
       "    </tr>\n",
       "    <tr>\n",
       "      <th>7</th>\n",
       "      <td>기타</td>\n",
       "      <td>489.058559</td>\n",
       "      <td>11.192064</td>\n",
       "    </tr>\n",
       "    <tr>\n",
       "      <th>8</th>\n",
       "      <td>스프</td>\n",
       "      <td>496.030303</td>\n",
       "      <td>18.163809</td>\n",
       "    </tr>\n",
       "  </tbody>\n",
       "</table>\n",
       "</div>"
      ],
      "text/plain": [
       "     0           1       평균차이\n",
       "0    국  478.809148   0.942654\n",
       "1   육류  475.910088  -1.956407\n",
       "2  해산물  472.096491  -5.770003\n",
       "3   조류  480.567376   2.700881\n",
       "4    탕  461.798883 -16.067612\n",
       "5   찌개  469.343590  -8.522905\n",
       "6   국수  505.537815  27.671321\n",
       "7   기타  489.058559  11.192064\n",
       "8   스프  496.030303  18.163809"
      ]
     },
     "metadata": {},
     "execution_count": 33
    }
   ],
   "metadata": {}
  },
  {
   "cell_type": "code",
   "execution_count": 34,
   "source": [
    "cal_anco('lift', rules_dinner, df_dinner_mean, 'dinner')"
   ],
   "outputs": [
    {
     "output_type": "execute_result",
     "data": {
      "text/html": [
       "<div>\n",
       "<style scoped>\n",
       "    .dataframe tbody tr th:only-of-type {\n",
       "        vertical-align: middle;\n",
       "    }\n",
       "\n",
       "    .dataframe tbody tr th {\n",
       "        vertical-align: top;\n",
       "    }\n",
       "\n",
       "    .dataframe thead th {\n",
       "        text-align: right;\n",
       "    }\n",
       "</style>\n",
       "<table border=\"1\" class=\"dataframe\">\n",
       "  <thead>\n",
       "    <tr style=\"text-align: right;\">\n",
       "      <th></th>\n",
       "      <th>0</th>\n",
       "      <th>1</th>\n",
       "      <th>2</th>\n",
       "      <th>평균차이</th>\n",
       "    </tr>\n",
       "  </thead>\n",
       "  <tbody>\n",
       "    <tr>\n",
       "      <th>0</th>\n",
       "      <td>기타</td>\n",
       "      <td>국수</td>\n",
       "      <td>516.780488</td>\n",
       "      <td>38.913993</td>\n",
       "    </tr>\n",
       "    <tr>\n",
       "      <th>1</th>\n",
       "      <td>기타</td>\n",
       "      <td>탕</td>\n",
       "      <td>506.000000</td>\n",
       "      <td>28.133506</td>\n",
       "    </tr>\n",
       "    <tr>\n",
       "      <th>2</th>\n",
       "      <td>해산물</td>\n",
       "      <td>찌개</td>\n",
       "      <td>474.808824</td>\n",
       "      <td>-3.057671</td>\n",
       "    </tr>\n",
       "    <tr>\n",
       "      <th>3</th>\n",
       "      <td>육류</td>\n",
       "      <td>국수</td>\n",
       "      <td>498.714286</td>\n",
       "      <td>20.847791</td>\n",
       "    </tr>\n",
       "    <tr>\n",
       "      <th>4</th>\n",
       "      <td>해산물</td>\n",
       "      <td>탕</td>\n",
       "      <td>438.280000</td>\n",
       "      <td>-39.586494</td>\n",
       "    </tr>\n",
       "    <tr>\n",
       "      <th>5</th>\n",
       "      <td>조류</td>\n",
       "      <td>찌개</td>\n",
       "      <td>500.388889</td>\n",
       "      <td>22.522394</td>\n",
       "    </tr>\n",
       "    <tr>\n",
       "      <th>6</th>\n",
       "      <td>조류</td>\n",
       "      <td>국</td>\n",
       "      <td>474.267442</td>\n",
       "      <td>-3.599053</td>\n",
       "    </tr>\n",
       "    <tr>\n",
       "      <th>7</th>\n",
       "      <td>기타</td>\n",
       "      <td>국</td>\n",
       "      <td>485.696000</td>\n",
       "      <td>7.829506</td>\n",
       "    </tr>\n",
       "    <tr>\n",
       "      <th>8</th>\n",
       "      <td>육류</td>\n",
       "      <td>국</td>\n",
       "      <td>481.897119</td>\n",
       "      <td>4.030625</td>\n",
       "    </tr>\n",
       "  </tbody>\n",
       "</table>\n",
       "</div>"
      ],
      "text/plain": [
       "     0   1           2       평균차이\n",
       "0   기타  국수  516.780488  38.913993\n",
       "1   기타   탕  506.000000  28.133506\n",
       "2  해산물  찌개  474.808824  -3.057671\n",
       "3   육류  국수  498.714286  20.847791\n",
       "4  해산물   탕  438.280000 -39.586494\n",
       "5   조류  찌개  500.388889  22.522394\n",
       "6   조류   국  474.267442  -3.599053\n",
       "7   기타   국  485.696000   7.829506\n",
       "8   육류   국  481.897119   4.030625"
      ]
     },
     "metadata": {},
     "execution_count": 34
    }
   ],
   "metadata": {}
  },
  {
   "cell_type": "code",
   "execution_count": 35,
   "source": [
    "cal_anco('support', rules_dinner, df_dinner_mean, 'dinner')"
   ],
   "outputs": [
    {
     "output_type": "execute_result",
     "data": {
      "text/html": [
       "<div>\n",
       "<style scoped>\n",
       "    .dataframe tbody tr th:only-of-type {\n",
       "        vertical-align: middle;\n",
       "    }\n",
       "\n",
       "    .dataframe tbody tr th {\n",
       "        vertical-align: top;\n",
       "    }\n",
       "\n",
       "    .dataframe thead th {\n",
       "        text-align: right;\n",
       "    }\n",
       "</style>\n",
       "<table border=\"1\" class=\"dataframe\">\n",
       "  <thead>\n",
       "    <tr style=\"text-align: right;\">\n",
       "      <th></th>\n",
       "      <th>0</th>\n",
       "      <th>1</th>\n",
       "      <th>2</th>\n",
       "      <th>평균차이</th>\n",
       "    </tr>\n",
       "  </thead>\n",
       "  <tbody>\n",
       "    <tr>\n",
       "      <th>0</th>\n",
       "      <td>육류</td>\n",
       "      <td>국</td>\n",
       "      <td>481.897119</td>\n",
       "      <td>4.030625</td>\n",
       "    </tr>\n",
       "    <tr>\n",
       "      <th>1</th>\n",
       "      <td>조류</td>\n",
       "      <td>국</td>\n",
       "      <td>474.267442</td>\n",
       "      <td>-3.599053</td>\n",
       "    </tr>\n",
       "    <tr>\n",
       "      <th>2</th>\n",
       "      <td>해산물</td>\n",
       "      <td>찌개</td>\n",
       "      <td>474.808824</td>\n",
       "      <td>-3.057671</td>\n",
       "    </tr>\n",
       "    <tr>\n",
       "      <th>3</th>\n",
       "      <td>해산물</td>\n",
       "      <td>탕</td>\n",
       "      <td>438.280000</td>\n",
       "      <td>-39.586494</td>\n",
       "    </tr>\n",
       "    <tr>\n",
       "      <th>4</th>\n",
       "      <td>육류</td>\n",
       "      <td>국수</td>\n",
       "      <td>498.714286</td>\n",
       "      <td>20.847791</td>\n",
       "    </tr>\n",
       "    <tr>\n",
       "      <th>5</th>\n",
       "      <td>기타</td>\n",
       "      <td>국</td>\n",
       "      <td>485.696000</td>\n",
       "      <td>7.829506</td>\n",
       "    </tr>\n",
       "    <tr>\n",
       "      <th>6</th>\n",
       "      <td>조류</td>\n",
       "      <td>찌개</td>\n",
       "      <td>500.388889</td>\n",
       "      <td>22.522394</td>\n",
       "    </tr>\n",
       "    <tr>\n",
       "      <th>7</th>\n",
       "      <td>기타</td>\n",
       "      <td>탕</td>\n",
       "      <td>506.000000</td>\n",
       "      <td>28.133506</td>\n",
       "    </tr>\n",
       "    <tr>\n",
       "      <th>8</th>\n",
       "      <td>기타</td>\n",
       "      <td>국수</td>\n",
       "      <td>516.780488</td>\n",
       "      <td>38.913993</td>\n",
       "    </tr>\n",
       "  </tbody>\n",
       "</table>\n",
       "</div>"
      ],
      "text/plain": [
       "     0   1           2       평균차이\n",
       "0   육류   국  481.897119   4.030625\n",
       "1   조류   국  474.267442  -3.599053\n",
       "2  해산물  찌개  474.808824  -3.057671\n",
       "3  해산물   탕  438.280000 -39.586494\n",
       "4   육류  국수  498.714286  20.847791\n",
       "5   기타   국  485.696000   7.829506\n",
       "6   조류  찌개  500.388889  22.522394\n",
       "7   기타   탕  506.000000  28.133506\n",
       "8   기타  국수  516.780488  38.913993"
      ]
     },
     "metadata": {},
     "execution_count": 35
    }
   ],
   "metadata": {}
  },
  {
   "cell_type": "code",
   "execution_count": 36,
   "source": [
    "plt.figure(figsize=(50,10))\r\n",
    "sns.barplot(data=df_dinner_mean,x=df_dinner_mean.index.to_numpy(), y='석식계')\r\n",
    "\r\n",
    "plt.show()"
   ],
   "outputs": [
    {
     "output_type": "display_data",
     "data": {
      "image/png": "[encoded data removed]",
      "text/plain": [
       "<Figure size 3600x720 with 1 Axes>"
      ]
     },
     "metadata": {
      "needs_background": "light"
     }
    }
   ],
   "metadata": {}
  },
  {
   "cell_type": "markdown",
   "source": [
    "- 이제 여기서 연관도 분석 결과와 합쳐서 보면된다."
   ],
   "metadata": {}
  }
 ],
 "metadata": {
  "orig_nbformat": 4,
  "language_info": {
   "name": "python",
   "version": "3.8.10",
   "mimetype": "text/x-python",
   "codemirror_mode": {
    "name": "ipython",
    "version": 3
   },
   "pygments_lexer": "ipython3",
   "nbconvert_exporter": "python",
   "file_extension": ".py"
  },
  "kernelspec": {
   "name": "python3",
   "display_name": "Python 3.8.10 64-bit ('base': conda)"
  },
  "interpreter": {
   "hash": "345fc451c7e0336b9390ad1fad588039702f89ec6d37597eff879e480e25ffdb"
  }
 },
 "nbformat": 4,
 "nbformat_minor": 2
}