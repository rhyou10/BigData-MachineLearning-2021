{
 "cells": [
  {
   "cell_type": "code",
   "execution_count": 233,
   "source": [
    "# 메모리 변수 모두 제거\r\n",
    "all = [var for var in globals() if var[0] != \"_\"]\r\n",
    "for var in all:\r\n",
    "    del globals()[var]\r\n",
    "\r\n",
    "# 메모리 변수 확인\r\n",
    "#globals()"
   ],
   "outputs": [],
   "metadata": {}
  },
  {
   "cell_type": "code",
   "execution_count": 234,
   "source": [
    "import pandas as pd\r\n",
    "import numpy as np\r\n",
    "import warnings \r\n",
    "warnings.filterwarnings(action='ignore')"
   ],
   "outputs": [],
   "metadata": {}
  },
  {
   "cell_type": "code",
   "execution_count": 235,
   "source": [
    "df3 = pd.read_csv('data/메뉴구분3.csv')"
   ],
   "outputs": [],
   "metadata": {}
  },
  {
   "cell_type": "code",
   "execution_count": 236,
   "source": [
    "df3.head(2)"
   ],
   "outputs": [
    {
     "output_type": "execute_result",
     "data": {
      "text/html": [
       "<div>\n",
       "<style scoped>\n",
       "    .dataframe tbody tr th:only-of-type {\n",
       "        vertical-align: middle;\n",
       "    }\n",
       "\n",
       "    .dataframe tbody tr th {\n",
       "        vertical-align: top;\n",
       "    }\n",
       "\n",
       "    .dataframe thead th {\n",
       "        text-align: right;\n",
       "    }\n",
       "</style>\n",
       "<table border=\"1\" class=\"dataframe\">\n",
       "  <thead>\n",
       "    <tr style=\"text-align: right;\">\n",
       "      <th></th>\n",
       "      <th>일자</th>\n",
       "      <th>밥</th>\n",
       "      <th>국</th>\n",
       "      <th>메인</th>\n",
       "      <th>반찬</th>\n",
       "      <th>구분</th>\n",
       "      <th>국분류</th>\n",
       "      <th>메뉴분류</th>\n",
       "    </tr>\n",
       "  </thead>\n",
       "  <tbody>\n",
       "    <tr>\n",
       "      <th>0</th>\n",
       "      <td>2016-02-01</td>\n",
       "      <td>밥</td>\n",
       "      <td>오징어찌개</td>\n",
       "      <td>쇠불고기</td>\n",
       "      <td>계란찜</td>\n",
       "      <td>중식</td>\n",
       "      <td>찌개</td>\n",
       "      <td>육류</td>\n",
       "    </tr>\n",
       "    <tr>\n",
       "      <th>1</th>\n",
       "      <td>2016-02-02</td>\n",
       "      <td>밥</td>\n",
       "      <td>김치찌개</td>\n",
       "      <td>가자미튀김</td>\n",
       "      <td>모둠소세지구이</td>\n",
       "      <td>중식</td>\n",
       "      <td>찌개</td>\n",
       "      <td>해산물</td>\n",
       "    </tr>\n",
       "  </tbody>\n",
       "</table>\n",
       "</div>"
      ],
      "text/plain": [
       "           일자  밥      국     메인       반찬  구분 국분류 메뉴분류\n",
       "0  2016-02-01  밥  오징어찌개   쇠불고기      계란찜  중식  찌개   육류\n",
       "1  2016-02-02  밥   김치찌개  가자미튀김  모둠소세지구이  중식  찌개  해산물"
      ]
     },
     "metadata": {},
     "execution_count": 236
    }
   ],
   "metadata": {}
  },
  {
   "cell_type": "code",
   "execution_count": 237,
   "source": [
    "df_lunch_cat = df3.iloc[:1205]\r\n",
    "df_dinner_cat = df3.iloc[1205:]"
   ],
   "outputs": [],
   "metadata": {}
  },
  {
   "cell_type": "code",
   "execution_count": 238,
   "source": [
    "df_lunch_cat['반찬'][1]\r\n"
   ],
   "outputs": [
    {
     "output_type": "execute_result",
     "data": {
      "text/plain": [
       "'모둠소세지구이'"
      ]
     },
     "metadata": {},
     "execution_count": 238
    }
   ],
   "metadata": {}
  },
  {
   "cell_type": "markdown",
   "source": [
    "## 카테고리 리스트화"
   ],
   "metadata": {}
  },
  {
   "cell_type": "code",
   "execution_count": 239,
   "source": [
    "lunch_menu = []\r\n",
    "for i in range(len(df_lunch_cat)):\r\n",
    "    lunch_menu.append([df_lunch_cat['국분류'][i], df_lunch_cat['메뉴분류'][i]])   "
   ],
   "outputs": [],
   "metadata": {}
  },
  {
   "cell_type": "code",
   "execution_count": 240,
   "source": [
    "df_dinner_cat['국분류'][1205]"
   ],
   "outputs": [
    {
     "output_type": "execute_result",
     "data": {
      "text/plain": [
       "'국'"
      ]
     },
     "metadata": {},
     "execution_count": 240
    }
   ],
   "metadata": {}
  },
  {
   "cell_type": "code",
   "execution_count": 241,
   "source": [
    "df_dinner_cat.reset_index(inplace=True) #"
   ],
   "outputs": [],
   "metadata": {}
  },
  {
   "cell_type": "code",
   "execution_count": 242,
   "source": [
    "dinner_menu = []\r\n",
    "for i in range(len(df_dinner_cat)):\r\n",
    "    dinner_menu.append([df_dinner_cat['국분류'][i], df_dinner_cat['메뉴분류'][i]])   "
   ],
   "outputs": [],
   "metadata": {}
  },
  {
   "cell_type": "markdown",
   "source": [
    "## 점심"
   ],
   "metadata": {}
  },
  {
   "cell_type": "code",
   "execution_count": 243,
   "source": [
    "from mlxtend.preprocessing import TransactionEncoder\r\n",
    "from mlxtend.frequent_patterns import apriori, association_rules\r\n",
    "\r\n",
    "te = TransactionEncoder()\r\n",
    "te_ary = te.fit(lunch_menu).transform(lunch_menu)\r\n",
    "lunch_te = pd.DataFrame(te_ary, columns=te.columns_)\r\n",
    "frequent_itemsets_lunch =apriori(lunch_te,min_support=0.001,use_colnames=True)\r\n",
    "print(frequent_itemsets_lunch.sort_values('support', ascending=False)[:5])"
   ],
   "outputs": [
    {
     "output_type": "stream",
     "name": "stdout",
     "text": [
      "     support itemsets\n",
      "0   0.593361      (국)\n",
      "4   0.540249     (육류)\n",
      "10  0.326971  (국, 육류)\n",
      "8   0.224896    (해산물)\n",
      "5   0.176763     (조류)\n"
     ]
    }
   ],
   "metadata": {}
  },
  {
   "cell_type": "code",
   "execution_count": 244,
   "source": [
    "frequent_itemsets_lunch['length'] = frequent_itemsets_lunch['itemsets'].apply(lambda x: len(x))   # 개수열 추가\r\n",
    "frequent_itemsets_lunch[frequent_itemsets_lunch['length'] >=2] .sort_values('support', ascending=False)[:5] #2개 이상\r\n",
    "# support는 자주 나왔던 것들의 조합"
   ],
   "outputs": [
    {
     "output_type": "execute_result",
     "data": {
      "text/html": [
       "<div>\n",
       "<style scoped>\n",
       "    .dataframe tbody tr th:only-of-type {\n",
       "        vertical-align: middle;\n",
       "    }\n",
       "\n",
       "    .dataframe tbody tr th {\n",
       "        vertical-align: top;\n",
       "    }\n",
       "\n",
       "    .dataframe thead th {\n",
       "        text-align: right;\n",
       "    }\n",
       "</style>\n",
       "<table border=\"1\" class=\"dataframe\">\n",
       "  <thead>\n",
       "    <tr style=\"text-align: right;\">\n",
       "      <th></th>\n",
       "      <th>support</th>\n",
       "      <th>itemsets</th>\n",
       "      <th>length</th>\n",
       "    </tr>\n",
       "  </thead>\n",
       "  <tbody>\n",
       "    <tr>\n",
       "      <th>10</th>\n",
       "      <td>0.326971</td>\n",
       "      <td>(국, 육류)</td>\n",
       "      <td>2</td>\n",
       "    </tr>\n",
       "    <tr>\n",
       "      <th>12</th>\n",
       "      <td>0.118672</td>\n",
       "      <td>(국, 해산물)</td>\n",
       "      <td>2</td>\n",
       "    </tr>\n",
       "    <tr>\n",
       "      <th>11</th>\n",
       "      <td>0.112033</td>\n",
       "      <td>(조류, 국)</td>\n",
       "      <td>2</td>\n",
       "    </tr>\n",
       "    <tr>\n",
       "      <th>20</th>\n",
       "      <td>0.086307</td>\n",
       "      <td>(탕, 육류)</td>\n",
       "      <td>2</td>\n",
       "    </tr>\n",
       "    <tr>\n",
       "      <th>19</th>\n",
       "      <td>0.082988</td>\n",
       "      <td>(찌개, 육류)</td>\n",
       "      <td>2</td>\n",
       "    </tr>\n",
       "  </tbody>\n",
       "</table>\n",
       "</div>"
      ],
      "text/plain": [
       "     support  itemsets  length\n",
       "10  0.326971   (국, 육류)       2\n",
       "12  0.118672  (국, 해산물)       2\n",
       "11  0.112033   (조류, 국)       2\n",
       "20  0.086307   (탕, 육류)       2\n",
       "19  0.082988  (찌개, 육류)       2"
      ]
     },
     "metadata": {},
     "execution_count": 244
    }
   ],
   "metadata": {}
  },
  {
   "cell_type": "code",
   "execution_count": 245,
   "source": [
    "rules_lunch=association_rules(frequent_itemsets_lunch, metric=\"lift\", min_threshold=1)\r\n",
    "rules_lunch.sort_values('lift', ascending=False)[:5]\r\n",
    "# lift가 높다는 뜻은 국수가 나오면 꼭 기타종류의 음식이 나오더라"
   ],
   "outputs": [
    {
     "output_type": "execute_result",
     "data": {
      "text/html": [
       "<div>\n",
       "<style scoped>\n",
       "    .dataframe tbody tr th:only-of-type {\n",
       "        vertical-align: middle;\n",
       "    }\n",
       "\n",
       "    .dataframe tbody tr th {\n",
       "        vertical-align: top;\n",
       "    }\n",
       "\n",
       "    .dataframe thead th {\n",
       "        text-align: right;\n",
       "    }\n",
       "</style>\n",
       "<table border=\"1\" class=\"dataframe\">\n",
       "  <thead>\n",
       "    <tr style=\"text-align: right;\">\n",
       "      <th></th>\n",
       "      <th>antecedents</th>\n",
       "      <th>consequents</th>\n",
       "      <th>antecedent support</th>\n",
       "      <th>consequent support</th>\n",
       "      <th>support</th>\n",
       "      <th>confidence</th>\n",
       "      <th>lift</th>\n",
       "      <th>leverage</th>\n",
       "      <th>conviction</th>\n",
       "    </tr>\n",
       "  </thead>\n",
       "  <tbody>\n",
       "    <tr>\n",
       "      <th>6</th>\n",
       "      <td>(국수)</td>\n",
       "      <td>(기타)</td>\n",
       "      <td>0.067220</td>\n",
       "      <td>0.058091</td>\n",
       "      <td>0.005809</td>\n",
       "      <td>0.086420</td>\n",
       "      <td>1.487654</td>\n",
       "      <td>0.001904</td>\n",
       "      <td>1.031008</td>\n",
       "    </tr>\n",
       "    <tr>\n",
       "      <th>7</th>\n",
       "      <td>(기타)</td>\n",
       "      <td>(국수)</td>\n",
       "      <td>0.058091</td>\n",
       "      <td>0.067220</td>\n",
       "      <td>0.005809</td>\n",
       "      <td>0.100000</td>\n",
       "      <td>1.487654</td>\n",
       "      <td>0.001904</td>\n",
       "      <td>1.036422</td>\n",
       "    </tr>\n",
       "    <tr>\n",
       "      <th>10</th>\n",
       "      <td>(기타)</td>\n",
       "      <td>(탕)</td>\n",
       "      <td>0.058091</td>\n",
       "      <td>0.173444</td>\n",
       "      <td>0.013278</td>\n",
       "      <td>0.228571</td>\n",
       "      <td>1.317840</td>\n",
       "      <td>0.003202</td>\n",
       "      <td>1.071462</td>\n",
       "    </tr>\n",
       "    <tr>\n",
       "      <th>11</th>\n",
       "      <td>(탕)</td>\n",
       "      <td>(기타)</td>\n",
       "      <td>0.173444</td>\n",
       "      <td>0.058091</td>\n",
       "      <td>0.013278</td>\n",
       "      <td>0.076555</td>\n",
       "      <td>1.317840</td>\n",
       "      <td>0.003202</td>\n",
       "      <td>1.019994</td>\n",
       "    </tr>\n",
       "    <tr>\n",
       "      <th>15</th>\n",
       "      <td>(해산물)</td>\n",
       "      <td>(찌개)</td>\n",
       "      <td>0.224896</td>\n",
       "      <td>0.164315</td>\n",
       "      <td>0.047303</td>\n",
       "      <td>0.210332</td>\n",
       "      <td>1.280051</td>\n",
       "      <td>0.010349</td>\n",
       "      <td>1.058274</td>\n",
       "    </tr>\n",
       "  </tbody>\n",
       "</table>\n",
       "</div>"
      ],
      "text/plain": [
       "   antecedents consequents  antecedent support  consequent support   support  \\\n",
       "6         (국수)        (기타)            0.067220            0.058091  0.005809   \n",
       "7         (기타)        (국수)            0.058091            0.067220  0.005809   \n",
       "10        (기타)         (탕)            0.058091            0.173444  0.013278   \n",
       "11         (탕)        (기타)            0.173444            0.058091  0.013278   \n",
       "15       (해산물)        (찌개)            0.224896            0.164315  0.047303   \n",
       "\n",
       "    confidence      lift  leverage  conviction  \n",
       "6     0.086420  1.487654  0.001904    1.031008  \n",
       "7     0.100000  1.487654  0.001904    1.036422  \n",
       "10    0.228571  1.317840  0.003202    1.071462  \n",
       "11    0.076555  1.317840  0.003202    1.019994  \n",
       "15    0.210332  1.280051  0.010349    1.058274  "
      ]
     },
     "metadata": {},
     "execution_count": 245
    }
   ],
   "metadata": {}
  },
  {
   "cell_type": "markdown",
   "source": [
    "## 저녁"
   ],
   "metadata": {}
  },
  {
   "cell_type": "code",
   "execution_count": 246,
   "source": [
    "from mlxtend.preprocessing import TransactionEncoder\r\n",
    "from mlxtend.frequent_patterns import apriori, association_rules\r\n",
    "\r\n",
    "te = TransactionEncoder()\r\n",
    "te_ary = te.fit(dinner_menu).transform(dinner_menu)\r\n",
    "dinner_te = pd.DataFrame(te_ary, columns=te.columns_)\r\n",
    "frequent_itemsets_dinner =apriori(lunch_te,min_support=0.001,use_colnames=True)\r\n",
    "print(frequent_itemsets_dinner.sort_values('support', ascending=False)[:5])"
   ],
   "outputs": [
    {
     "output_type": "stream",
     "name": "stdout",
     "text": [
      "     support itemsets\n",
      "0   0.593361      (국)\n",
      "4   0.540249     (육류)\n",
      "10  0.326971  (국, 육류)\n",
      "8   0.224896    (해산물)\n",
      "5   0.176763     (조류)\n"
     ]
    }
   ],
   "metadata": {}
  },
  {
   "cell_type": "code",
   "execution_count": 247,
   "source": [
    "frequent_itemsets_dinner['length'] = frequent_itemsets_dinner['itemsets'].apply(lambda x: len(x))   # 개수열 추가\r\n",
    "frequent_itemsets_dinner[frequent_itemsets_dinner['length'] >=2] .sort_values('support', ascending=False).head(2) #2개 이상\r\n",
    "# support는 자주 나왔던 것들의 조합"
   ],
   "outputs": [
    {
     "output_type": "execute_result",
     "data": {
      "text/html": [
       "<div>\n",
       "<style scoped>\n",
       "    .dataframe tbody tr th:only-of-type {\n",
       "        vertical-align: middle;\n",
       "    }\n",
       "\n",
       "    .dataframe tbody tr th {\n",
       "        vertical-align: top;\n",
       "    }\n",
       "\n",
       "    .dataframe thead th {\n",
       "        text-align: right;\n",
       "    }\n",
       "</style>\n",
       "<table border=\"1\" class=\"dataframe\">\n",
       "  <thead>\n",
       "    <tr style=\"text-align: right;\">\n",
       "      <th></th>\n",
       "      <th>support</th>\n",
       "      <th>itemsets</th>\n",
       "      <th>length</th>\n",
       "    </tr>\n",
       "  </thead>\n",
       "  <tbody>\n",
       "    <tr>\n",
       "      <th>10</th>\n",
       "      <td>0.326971</td>\n",
       "      <td>(국, 육류)</td>\n",
       "      <td>2</td>\n",
       "    </tr>\n",
       "    <tr>\n",
       "      <th>12</th>\n",
       "      <td>0.118672</td>\n",
       "      <td>(국, 해산물)</td>\n",
       "      <td>2</td>\n",
       "    </tr>\n",
       "  </tbody>\n",
       "</table>\n",
       "</div>"
      ],
      "text/plain": [
       "     support  itemsets  length\n",
       "10  0.326971   (국, 육류)       2\n",
       "12  0.118672  (국, 해산물)       2"
      ]
     },
     "metadata": {},
     "execution_count": 247
    }
   ],
   "metadata": {}
  },
  {
   "cell_type": "code",
   "execution_count": 248,
   "source": [
    "rules_dinner=association_rules(frequent_itemsets_dinner, metric=\"lift\", min_threshold=1)\r\n",
    "rules_dinner.sort_values('lift', ascending=False)[:5]\r\n",
    "# lift가 높다는 뜻은 국수가 나오면 꼭 기타종류의 음식이 나오더라\r\n",
    "# confidence 는 국수중 기타가 포함될 확률\r\n",
    "# supoort 는 나올 확률"
   ],
   "outputs": [
    {
     "output_type": "execute_result",
     "data": {
      "text/html": [
       "<div>\n",
       "<style scoped>\n",
       "    .dataframe tbody tr th:only-of-type {\n",
       "        vertical-align: middle;\n",
       "    }\n",
       "\n",
       "    .dataframe tbody tr th {\n",
       "        vertical-align: top;\n",
       "    }\n",
       "\n",
       "    .dataframe thead th {\n",
       "        text-align: right;\n",
       "    }\n",
       "</style>\n",
       "<table border=\"1\" class=\"dataframe\">\n",
       "  <thead>\n",
       "    <tr style=\"text-align: right;\">\n",
       "      <th></th>\n",
       "      <th>antecedents</th>\n",
       "      <th>consequents</th>\n",
       "      <th>antecedent support</th>\n",
       "      <th>consequent support</th>\n",
       "      <th>support</th>\n",
       "      <th>confidence</th>\n",
       "      <th>lift</th>\n",
       "      <th>leverage</th>\n",
       "      <th>conviction</th>\n",
       "    </tr>\n",
       "  </thead>\n",
       "  <tbody>\n",
       "    <tr>\n",
       "      <th>6</th>\n",
       "      <td>(국수)</td>\n",
       "      <td>(기타)</td>\n",
       "      <td>0.067220</td>\n",
       "      <td>0.058091</td>\n",
       "      <td>0.005809</td>\n",
       "      <td>0.086420</td>\n",
       "      <td>1.487654</td>\n",
       "      <td>0.001904</td>\n",
       "      <td>1.031008</td>\n",
       "    </tr>\n",
       "    <tr>\n",
       "      <th>7</th>\n",
       "      <td>(기타)</td>\n",
       "      <td>(국수)</td>\n",
       "      <td>0.058091</td>\n",
       "      <td>0.067220</td>\n",
       "      <td>0.005809</td>\n",
       "      <td>0.100000</td>\n",
       "      <td>1.487654</td>\n",
       "      <td>0.001904</td>\n",
       "      <td>1.036422</td>\n",
       "    </tr>\n",
       "    <tr>\n",
       "      <th>10</th>\n",
       "      <td>(기타)</td>\n",
       "      <td>(탕)</td>\n",
       "      <td>0.058091</td>\n",
       "      <td>0.173444</td>\n",
       "      <td>0.013278</td>\n",
       "      <td>0.228571</td>\n",
       "      <td>1.317840</td>\n",
       "      <td>0.003202</td>\n",
       "      <td>1.071462</td>\n",
       "    </tr>\n",
       "    <tr>\n",
       "      <th>11</th>\n",
       "      <td>(탕)</td>\n",
       "      <td>(기타)</td>\n",
       "      <td>0.173444</td>\n",
       "      <td>0.058091</td>\n",
       "      <td>0.013278</td>\n",
       "      <td>0.076555</td>\n",
       "      <td>1.317840</td>\n",
       "      <td>0.003202</td>\n",
       "      <td>1.019994</td>\n",
       "    </tr>\n",
       "    <tr>\n",
       "      <th>15</th>\n",
       "      <td>(해산물)</td>\n",
       "      <td>(찌개)</td>\n",
       "      <td>0.224896</td>\n",
       "      <td>0.164315</td>\n",
       "      <td>0.047303</td>\n",
       "      <td>0.210332</td>\n",
       "      <td>1.280051</td>\n",
       "      <td>0.010349</td>\n",
       "      <td>1.058274</td>\n",
       "    </tr>\n",
       "  </tbody>\n",
       "</table>\n",
       "</div>"
      ],
      "text/plain": [
       "   antecedents consequents  antecedent support  consequent support   support  \\\n",
       "6         (국수)        (기타)            0.067220            0.058091  0.005809   \n",
       "7         (기타)        (국수)            0.058091            0.067220  0.005809   \n",
       "10        (기타)         (탕)            0.058091            0.173444  0.013278   \n",
       "11         (탕)        (기타)            0.173444            0.058091  0.013278   \n",
       "15       (해산물)        (찌개)            0.224896            0.164315  0.047303   \n",
       "\n",
       "    confidence      lift  leverage  conviction  \n",
       "6     0.086420  1.487654  0.001904    1.031008  \n",
       "7     0.100000  1.487654  0.001904    1.036422  \n",
       "10    0.228571  1.317840  0.003202    1.071462  \n",
       "11    0.076555  1.317840  0.003202    1.019994  \n",
       "15    0.210332  1.280051  0.010349    1.058274  "
      ]
     },
     "metadata": {},
     "execution_count": 248
    }
   ],
   "metadata": {}
  },
  {
   "cell_type": "markdown",
   "source": [
    "## 시각화"
   ],
   "metadata": {}
  },
  {
   "cell_type": "code",
   "execution_count": 249,
   "source": [
    "df = pd.read_csv('data/train_메뉴제외.csv')"
   ],
   "outputs": [],
   "metadata": {}
  },
  {
   "cell_type": "code",
   "execution_count": 250,
   "source": [
    "df = df[['일자', '요일', '중식계', '석식계', '중식강수여부', '석식강수여부', '중식기온', '석식기온']]\r\n",
    "df.head(2)"
   ],
   "outputs": [
    {
     "output_type": "execute_result",
     "data": {
      "text/html": [
       "<div>\n",
       "<style scoped>\n",
       "    .dataframe tbody tr th:only-of-type {\n",
       "        vertical-align: middle;\n",
       "    }\n",
       "\n",
       "    .dataframe tbody tr th {\n",
       "        vertical-align: top;\n",
       "    }\n",
       "\n",
       "    .dataframe thead th {\n",
       "        text-align: right;\n",
       "    }\n",
       "</style>\n",
       "<table border=\"1\" class=\"dataframe\">\n",
       "  <thead>\n",
       "    <tr style=\"text-align: right;\">\n",
       "      <th></th>\n",
       "      <th>일자</th>\n",
       "      <th>요일</th>\n",
       "      <th>중식계</th>\n",
       "      <th>석식계</th>\n",
       "      <th>중식강수여부</th>\n",
       "      <th>석식강수여부</th>\n",
       "      <th>중식기온</th>\n",
       "      <th>석식기온</th>\n",
       "    </tr>\n",
       "  </thead>\n",
       "  <tbody>\n",
       "    <tr>\n",
       "      <th>0</th>\n",
       "      <td>2016-02-01</td>\n",
       "      <td>월</td>\n",
       "      <td>1039.0</td>\n",
       "      <td>331.0</td>\n",
       "      <td>0.0</td>\n",
       "      <td>0.0</td>\n",
       "      <td>3.0</td>\n",
       "      <td>0.9</td>\n",
       "    </tr>\n",
       "    <tr>\n",
       "      <th>1</th>\n",
       "      <td>2016-02-02</td>\n",
       "      <td>화</td>\n",
       "      <td>867.0</td>\n",
       "      <td>560.0</td>\n",
       "      <td>0.0</td>\n",
       "      <td>0.0</td>\n",
       "      <td>1.7</td>\n",
       "      <td>2.4</td>\n",
       "    </tr>\n",
       "  </tbody>\n",
       "</table>\n",
       "</div>"
      ],
      "text/plain": [
       "           일자 요일     중식계    석식계  중식강수여부  석식강수여부  중식기온  석식기온\n",
       "0  2016-02-01  월  1039.0  331.0     0.0     0.0   3.0   0.9\n",
       "1  2016-02-02  화   867.0  560.0     0.0     0.0   1.7   2.4"
      ]
     },
     "metadata": {},
     "execution_count": 250
    }
   ],
   "metadata": {}
  },
  {
   "cell_type": "code",
   "execution_count": 251,
   "source": [
    "df_lunch = pd.concat([df,df_lunch_cat[['국분류', '메뉴분류']]],axis=1)"
   ],
   "outputs": [],
   "metadata": {}
  },
  {
   "cell_type": "code",
   "execution_count": 252,
   "source": [
    "df_lunch.head(2)"
   ],
   "outputs": [
    {
     "output_type": "execute_result",
     "data": {
      "text/html": [
       "<div>\n",
       "<style scoped>\n",
       "    .dataframe tbody tr th:only-of-type {\n",
       "        vertical-align: middle;\n",
       "    }\n",
       "\n",
       "    .dataframe tbody tr th {\n",
       "        vertical-align: top;\n",
       "    }\n",
       "\n",
       "    .dataframe thead th {\n",
       "        text-align: right;\n",
       "    }\n",
       "</style>\n",
       "<table border=\"1\" class=\"dataframe\">\n",
       "  <thead>\n",
       "    <tr style=\"text-align: right;\">\n",
       "      <th></th>\n",
       "      <th>일자</th>\n",
       "      <th>요일</th>\n",
       "      <th>중식계</th>\n",
       "      <th>석식계</th>\n",
       "      <th>중식강수여부</th>\n",
       "      <th>석식강수여부</th>\n",
       "      <th>중식기온</th>\n",
       "      <th>석식기온</th>\n",
       "      <th>국분류</th>\n",
       "      <th>메뉴분류</th>\n",
       "    </tr>\n",
       "  </thead>\n",
       "  <tbody>\n",
       "    <tr>\n",
       "      <th>0</th>\n",
       "      <td>2016-02-01</td>\n",
       "      <td>월</td>\n",
       "      <td>1039.0</td>\n",
       "      <td>331.0</td>\n",
       "      <td>0.0</td>\n",
       "      <td>0.0</td>\n",
       "      <td>3.0</td>\n",
       "      <td>0.9</td>\n",
       "      <td>찌개</td>\n",
       "      <td>육류</td>\n",
       "    </tr>\n",
       "    <tr>\n",
       "      <th>1</th>\n",
       "      <td>2016-02-02</td>\n",
       "      <td>화</td>\n",
       "      <td>867.0</td>\n",
       "      <td>560.0</td>\n",
       "      <td>0.0</td>\n",
       "      <td>0.0</td>\n",
       "      <td>1.7</td>\n",
       "      <td>2.4</td>\n",
       "      <td>찌개</td>\n",
       "      <td>해산물</td>\n",
       "    </tr>\n",
       "  </tbody>\n",
       "</table>\n",
       "</div>"
      ],
      "text/plain": [
       "           일자 요일     중식계    석식계  중식강수여부  석식강수여부  중식기온  석식기온 국분류 메뉴분류\n",
       "0  2016-02-01  월  1039.0  331.0     0.0     0.0   3.0   0.9  찌개   육류\n",
       "1  2016-02-02  화   867.0  560.0     0.0     0.0   1.7   2.4  찌개  해산물"
      ]
     },
     "metadata": {},
     "execution_count": 252
    }
   ],
   "metadata": {}
  },
  {
   "cell_type": "code",
   "execution_count": 253,
   "source": [
    "avg = np.average(df_lunch['중식계']) ##중식의 평균 식수량을 구한다"
   ],
   "outputs": [],
   "metadata": {}
  },
  {
   "cell_type": "code",
   "execution_count": 254,
   "source": [
    "np.average(df_lunch[(df_lunch.국분류=='국수') & (df_lunch.메뉴분류 == '육류')]['중식계']) # 국수와 육류가 나오면 중식계의 평균이 늘어납니다. 하하\r\n",
    "#이거를 그래프로 표현을 할 수 있을가 모르겠다리"
   ],
   "outputs": [
    {
     "output_type": "execute_result",
     "data": {
      "text/plain": [
       "933.6792452830189"
      ]
     },
     "metadata": {},
     "execution_count": 254
    }
   ],
   "metadata": {}
  },
  {
   "cell_type": "code",
   "execution_count": 255,
   "source": [
    "df_lunch['중식계'].groupby(df_lunch['국분류']).mean()"
   ],
   "outputs": [
    {
     "output_type": "execute_result",
     "data": {
      "text/plain": [
       "국분류\n",
       "국     898.661538\n",
       "국수    928.148148\n",
       "스프    641.000000\n",
       "찌개    887.424242\n",
       "탕     852.334928\n",
       "Name: 중식계, dtype: float64"
      ]
     },
     "metadata": {},
     "execution_count": 255
    }
   ],
   "metadata": {}
  },
  {
   "cell_type": "code",
   "execution_count": 256,
   "source": [
    "df_lunch['중식계'].groupby(df_lunch['메뉴분류']).mean()"
   ],
   "outputs": [
    {
     "output_type": "execute_result",
     "data": {
      "text/plain": [
       "메뉴분류\n",
       "기타     873.057143\n",
       "육류     925.913978\n",
       "조류     870.065728\n",
       "해산물    825.258303\n",
       "Name: 중식계, dtype: float64"
      ]
     },
     "metadata": {},
     "execution_count": 256
    }
   ],
   "metadata": {}
  },
  {
   "cell_type": "code",
   "execution_count": 257,
   "source": [
    "df_lunch_mean = df_lunch['중식계'].groupby([df_lunch.중식강수여부, df_lunch['메뉴분류'], df_lunch['국분류']]).mean()"
   ],
   "outputs": [],
   "metadata": {}
  },
  {
   "cell_type": "code",
   "execution_count": 258,
   "source": [
    "df_lunch_mean = pd.DataFrame(df_lunch_mean)"
   ],
   "outputs": [],
   "metadata": {}
  },
  {
   "cell_type": "code",
   "execution_count": 259,
   "source": [
    "df_lunch_mean"
   ],
   "outputs": [
    {
     "output_type": "execute_result",
     "data": {
      "text/html": [
       "<div>\n",
       "<style scoped>\n",
       "    .dataframe tbody tr th:only-of-type {\n",
       "        vertical-align: middle;\n",
       "    }\n",
       "\n",
       "    .dataframe tbody tr th {\n",
       "        vertical-align: top;\n",
       "    }\n",
       "\n",
       "    .dataframe thead th {\n",
       "        text-align: right;\n",
       "    }\n",
       "</style>\n",
       "<table border=\"1\" class=\"dataframe\">\n",
       "  <thead>\n",
       "    <tr style=\"text-align: right;\">\n",
       "      <th></th>\n",
       "      <th></th>\n",
       "      <th></th>\n",
       "      <th>중식계</th>\n",
       "    </tr>\n",
       "    <tr>\n",
       "      <th>중식강수여부</th>\n",
       "      <th>메뉴분류</th>\n",
       "      <th>국분류</th>\n",
       "      <th></th>\n",
       "    </tr>\n",
       "  </thead>\n",
       "  <tbody>\n",
       "    <tr>\n",
       "      <th rowspan=\"18\" valign=\"top\">0.0</th>\n",
       "      <th rowspan=\"5\" valign=\"top\">기타</th>\n",
       "      <th>국</th>\n",
       "      <td>857.261905</td>\n",
       "    </tr>\n",
       "    <tr>\n",
       "      <th>국수</th>\n",
       "      <td>1034.200000</td>\n",
       "    </tr>\n",
       "    <tr>\n",
       "      <th>스프</th>\n",
       "      <td>586.000000</td>\n",
       "    </tr>\n",
       "    <tr>\n",
       "      <th>찌개</th>\n",
       "      <td>884.000000</td>\n",
       "    </tr>\n",
       "    <tr>\n",
       "      <th>탕</th>\n",
       "      <td>876.187500</td>\n",
       "    </tr>\n",
       "    <tr>\n",
       "      <th rowspan=\"4\" valign=\"top\">육류</th>\n",
       "      <th>국</th>\n",
       "      <td>923.059155</td>\n",
       "    </tr>\n",
       "    <tr>\n",
       "      <th>국수</th>\n",
       "      <td>941.108696</td>\n",
       "    </tr>\n",
       "    <tr>\n",
       "      <th>찌개</th>\n",
       "      <td>950.921348</td>\n",
       "    </tr>\n",
       "    <tr>\n",
       "      <th>탕</th>\n",
       "      <td>869.969388</td>\n",
       "    </tr>\n",
       "    <tr>\n",
       "      <th rowspan=\"4\" valign=\"top\">조류</th>\n",
       "      <th>국</th>\n",
       "      <td>894.322581</td>\n",
       "    </tr>\n",
       "    <tr>\n",
       "      <th>국수</th>\n",
       "      <td>994.400000</td>\n",
       "    </tr>\n",
       "    <tr>\n",
       "      <th>찌개</th>\n",
       "      <td>816.638889</td>\n",
       "    </tr>\n",
       "    <tr>\n",
       "      <th>탕</th>\n",
       "      <td>777.875000</td>\n",
       "    </tr>\n",
       "    <tr>\n",
       "      <th rowspan=\"5\" valign=\"top\">해산물</th>\n",
       "      <th>국</th>\n",
       "      <td>821.439394</td>\n",
       "    </tr>\n",
       "    <tr>\n",
       "      <th>국수</th>\n",
       "      <td>886.533333</td>\n",
       "    </tr>\n",
       "    <tr>\n",
       "      <th>스프</th>\n",
       "      <td>696.000000</td>\n",
       "    </tr>\n",
       "    <tr>\n",
       "      <th>찌개</th>\n",
       "      <td>795.490566</td>\n",
       "    </tr>\n",
       "    <tr>\n",
       "      <th>탕</th>\n",
       "      <td>831.500000</td>\n",
       "    </tr>\n",
       "    <tr>\n",
       "      <th rowspan=\"13\" valign=\"top\">1.0</th>\n",
       "      <th rowspan=\"2\" valign=\"top\">기타</th>\n",
       "      <th>국</th>\n",
       "      <td>1128.000000</td>\n",
       "    </tr>\n",
       "    <tr>\n",
       "      <th>국수</th>\n",
       "      <td>776.500000</td>\n",
       "    </tr>\n",
       "    <tr>\n",
       "      <th rowspan=\"4\" valign=\"top\">육류</th>\n",
       "      <th>국</th>\n",
       "      <td>988.051282</td>\n",
       "    </tr>\n",
       "    <tr>\n",
       "      <th>국수</th>\n",
       "      <td>884.857143</td>\n",
       "    </tr>\n",
       "    <tr>\n",
       "      <th>찌개</th>\n",
       "      <td>1004.363636</td>\n",
       "    </tr>\n",
       "    <tr>\n",
       "      <th>탕</th>\n",
       "      <td>1021.333333</td>\n",
       "    </tr>\n",
       "    <tr>\n",
       "      <th rowspan=\"3\" valign=\"top\">조류</th>\n",
       "      <th>국</th>\n",
       "      <td>899.363636</td>\n",
       "    </tr>\n",
       "    <tr>\n",
       "      <th>찌개</th>\n",
       "      <td>1164.500000</td>\n",
       "    </tr>\n",
       "    <tr>\n",
       "      <th>탕</th>\n",
       "      <td>981.000000</td>\n",
       "    </tr>\n",
       "    <tr>\n",
       "      <th rowspan=\"4\" valign=\"top\">해산물</th>\n",
       "      <th>국</th>\n",
       "      <td>906.454545</td>\n",
       "    </tr>\n",
       "    <tr>\n",
       "      <th>국수</th>\n",
       "      <td>701.000000</td>\n",
       "    </tr>\n",
       "    <tr>\n",
       "      <th>찌개</th>\n",
       "      <td>872.250000</td>\n",
       "    </tr>\n",
       "    <tr>\n",
       "      <th>탕</th>\n",
       "      <td>831.000000</td>\n",
       "    </tr>\n",
       "  </tbody>\n",
       "</table>\n",
       "</div>"
      ],
      "text/plain": [
       "                         중식계\n",
       "중식강수여부 메뉴분류 국분류             \n",
       "0.0    기타   국     857.261905\n",
       "            국수   1034.200000\n",
       "            스프    586.000000\n",
       "            찌개    884.000000\n",
       "            탕     876.187500\n",
       "       육류   국     923.059155\n",
       "            국수    941.108696\n",
       "            찌개    950.921348\n",
       "            탕     869.969388\n",
       "       조류   국     894.322581\n",
       "            국수    994.400000\n",
       "            찌개    816.638889\n",
       "            탕     777.875000\n",
       "       해산물  국     821.439394\n",
       "            국수    886.533333\n",
       "            스프    696.000000\n",
       "            찌개    795.490566\n",
       "            탕     831.500000\n",
       "1.0    기타   국    1128.000000\n",
       "            국수    776.500000\n",
       "       육류   국     988.051282\n",
       "            국수    884.857143\n",
       "            찌개   1004.363636\n",
       "            탕    1021.333333\n",
       "       조류   국     899.363636\n",
       "            찌개   1164.500000\n",
       "            탕     981.000000\n",
       "       해산물  국     906.454545\n",
       "            국수    701.000000\n",
       "            찌개    872.250000\n",
       "            탕     831.000000"
      ]
     },
     "metadata": {},
     "execution_count": 259
    }
   ],
   "metadata": {}
  },
  {
   "cell_type": "code",
   "execution_count": 260,
   "source": [
    "import matplotlib.pyplot as plt\r\n",
    "import seaborn as sns\r\n",
    "import matplotlib\r\n",
    "matplotlib.rcParams['axes.unicode_minus'] = False\r\n",
    "plt.rc('font', family='Malgun Gothic')"
   ],
   "outputs": [],
   "metadata": {}
  },
  {
   "cell_type": "code",
   "execution_count": 329,
   "source": [
    "df_lunch_mean.reset_index('국분류').index.to_numpy()"
   ],
   "outputs": [
    {
     "output_type": "execute_result",
     "data": {
      "text/plain": [
       "array([(0.0, '기타'), (0.0, '기타'), (0.0, '기타'), (0.0, '기타'), (0.0, '기타'),\n",
       "       (0.0, '육류'), (0.0, '육류'), (0.0, '육류'), (0.0, '육류'), (0.0, '조류'),\n",
       "       (0.0, '조류'), (0.0, '조류'), (0.0, '조류'), (0.0, '해산물'), (0.0, '해산물'),\n",
       "       (0.0, '해산물'), (0.0, '해산물'), (0.0, '해산물'), (1.0, '기타'), (1.0, '기타'),\n",
       "       (1.0, '육류'), (1.0, '육류'), (1.0, '육류'), (1.0, '육류'), (1.0, '조류'),\n",
       "       (1.0, '조류'), (1.0, '조류'), (1.0, '해산물'), (1.0, '해산물'), (1.0, '해산물'),\n",
       "       (1.0, '해산물')], dtype=object)"
      ]
     },
     "metadata": {},
     "execution_count": 329
    }
   ],
   "metadata": {}
  },
  {
   "cell_type": "code",
   "execution_count": 332,
   "source": [
    "df_lunch_mean.loc[0.0, '기타'] # 다중인덱스 인덱싱 하는법"
   ],
   "outputs": [
    {
     "output_type": "execute_result",
     "data": {
      "text/html": [
       "<div>\n",
       "<style scoped>\n",
       "    .dataframe tbody tr th:only-of-type {\n",
       "        vertical-align: middle;\n",
       "    }\n",
       "\n",
       "    .dataframe tbody tr th {\n",
       "        vertical-align: top;\n",
       "    }\n",
       "\n",
       "    .dataframe thead th {\n",
       "        text-align: right;\n",
       "    }\n",
       "</style>\n",
       "<table border=\"1\" class=\"dataframe\">\n",
       "  <thead>\n",
       "    <tr style=\"text-align: right;\">\n",
       "      <th></th>\n",
       "      <th>중식계</th>\n",
       "    </tr>\n",
       "    <tr>\n",
       "      <th>국분류</th>\n",
       "      <th></th>\n",
       "    </tr>\n",
       "  </thead>\n",
       "  <tbody>\n",
       "    <tr>\n",
       "      <th>국</th>\n",
       "      <td>857.261905</td>\n",
       "    </tr>\n",
       "    <tr>\n",
       "      <th>국수</th>\n",
       "      <td>1034.200000</td>\n",
       "    </tr>\n",
       "    <tr>\n",
       "      <th>스프</th>\n",
       "      <td>586.000000</td>\n",
       "    </tr>\n",
       "    <tr>\n",
       "      <th>찌개</th>\n",
       "      <td>884.000000</td>\n",
       "    </tr>\n",
       "    <tr>\n",
       "      <th>탕</th>\n",
       "      <td>876.187500</td>\n",
       "    </tr>\n",
       "  </tbody>\n",
       "</table>\n",
       "</div>"
      ],
      "text/plain": [
       "             중식계\n",
       "국분류             \n",
       "국     857.261905\n",
       "국수   1034.200000\n",
       "스프    586.000000\n",
       "찌개    884.000000\n",
       "탕     876.187500"
      ]
     },
     "metadata": {},
     "execution_count": 332
    }
   ],
   "metadata": {}
  },
  {
   "cell_type": "code",
   "execution_count": 322,
   "source": [
    "df_lunch_mean.index.to_numpy()[0][:2]"
   ],
   "outputs": [
    {
     "output_type": "execute_result",
     "data": {
      "text/plain": [
       "(0.0, '기타')"
      ]
     },
     "metadata": {},
     "execution_count": 322
    }
   ],
   "metadata": {}
  },
  {
   "cell_type": "code",
   "execution_count": 270,
   "source": [
    "#df_lunch_mean.plot(figsize=(40,10), xticks=range(len(df_lunch_mean)))"
   ],
   "outputs": [],
   "metadata": {}
  },
  {
   "cell_type": "code",
   "execution_count": 272,
   "source": [
    "plt.figure(figsize=(50,10))\r\n",
    "sns.barplot(data=df_lunch_mean,x=df_lunch_mean.index.to_numpy(), y='중식계')\r\n",
    "\r\n",
    "plt.show()"
   ],
   "outputs": [
    {
     "output_type": "display_data",
     "data": {
      "image/png": "[encoded data removed]",
      "text/plain": [
       "<Figure size 3600x720 with 1 Axes>"
      ]
     },
     "metadata": {
      "needs_background": "light"
     }
    }
   ],
   "metadata": {}
  },
  {
   "cell_type": "markdown",
   "source": [
    "## 저녁"
   ],
   "metadata": {}
  },
  {
   "cell_type": "code",
   "execution_count": 264,
   "source": [
    "df_dinner = pd.merge(df, df_dinner_cat, on='일자', how='left')\r\n",
    "df_dinner.isna().sum().sum()"
   ],
   "outputs": [
    {
     "output_type": "execute_result",
     "data": {
      "text/plain": [
       "352"
      ]
     },
     "metadata": {},
     "execution_count": 264
    }
   ],
   "metadata": {}
  },
  {
   "cell_type": "code",
   "execution_count": 265,
   "source": [
    "#df_dinner.fillna(0,inplace=True)\r\n",
    "df_dinner.dropna()"
   ],
   "outputs": [
    {
     "output_type": "execute_result",
     "data": {
      "text/html": [
       "<div>\n",
       "<style scoped>\n",
       "    .dataframe tbody tr th:only-of-type {\n",
       "        vertical-align: middle;\n",
       "    }\n",
       "\n",
       "    .dataframe tbody tr th {\n",
       "        vertical-align: top;\n",
       "    }\n",
       "\n",
       "    .dataframe thead th {\n",
       "        text-align: right;\n",
       "    }\n",
       "</style>\n",
       "<table border=\"1\" class=\"dataframe\">\n",
       "  <thead>\n",
       "    <tr style=\"text-align: right;\">\n",
       "      <th></th>\n",
       "      <th>일자</th>\n",
       "      <th>요일</th>\n",
       "      <th>중식계</th>\n",
       "      <th>석식계</th>\n",
       "      <th>중식강수여부</th>\n",
       "      <th>석식강수여부</th>\n",
       "      <th>중식기온</th>\n",
       "      <th>석식기온</th>\n",
       "      <th>index</th>\n",
       "      <th>밥</th>\n",
       "      <th>국</th>\n",
       "      <th>메인</th>\n",
       "      <th>반찬</th>\n",
       "      <th>구분</th>\n",
       "      <th>국분류</th>\n",
       "      <th>메뉴분류</th>\n",
       "    </tr>\n",
       "  </thead>\n",
       "  <tbody>\n",
       "    <tr>\n",
       "      <th>0</th>\n",
       "      <td>2016-02-01</td>\n",
       "      <td>월</td>\n",
       "      <td>1039.0</td>\n",
       "      <td>331.0</td>\n",
       "      <td>0.0</td>\n",
       "      <td>0.0</td>\n",
       "      <td>3.0</td>\n",
       "      <td>0.9</td>\n",
       "      <td>1205.0</td>\n",
       "      <td>쌀밥/잡곡밥</td>\n",
       "      <td>육개장</td>\n",
       "      <td>자반고등어구이</td>\n",
       "      <td>두부조림</td>\n",
       "      <td>석식</td>\n",
       "      <td>국</td>\n",
       "      <td>해산물</td>\n",
       "    </tr>\n",
       "    <tr>\n",
       "      <th>1</th>\n",
       "      <td>2016-02-02</td>\n",
       "      <td>화</td>\n",
       "      <td>867.0</td>\n",
       "      <td>560.0</td>\n",
       "      <td>0.0</td>\n",
       "      <td>0.0</td>\n",
       "      <td>1.7</td>\n",
       "      <td>2.4</td>\n",
       "      <td>1206.0</td>\n",
       "      <td>콩나물밥*양념장</td>\n",
       "      <td>어묵국</td>\n",
       "      <td>유산슬</td>\n",
       "      <td>아삭고추무침</td>\n",
       "      <td>석식</td>\n",
       "      <td>국</td>\n",
       "      <td>해산물</td>\n",
       "    </tr>\n",
       "    <tr>\n",
       "      <th>2</th>\n",
       "      <td>2016-02-03</td>\n",
       "      <td>수</td>\n",
       "      <td>1017.0</td>\n",
       "      <td>573.0</td>\n",
       "      <td>0.0</td>\n",
       "      <td>0.0</td>\n",
       "      <td>3.2</td>\n",
       "      <td>3.0</td>\n",
       "      <td>1207.0</td>\n",
       "      <td>쌀밥/잡곡밥</td>\n",
       "      <td>청국장찌개</td>\n",
       "      <td>황태양념구이</td>\n",
       "      <td>고기전</td>\n",
       "      <td>석식</td>\n",
       "      <td>찌개</td>\n",
       "      <td>해산물</td>\n",
       "    </tr>\n",
       "    <tr>\n",
       "      <th>3</th>\n",
       "      <td>2016-02-04</td>\n",
       "      <td>목</td>\n",
       "      <td>978.0</td>\n",
       "      <td>525.0</td>\n",
       "      <td>0.0</td>\n",
       "      <td>0.0</td>\n",
       "      <td>3.7</td>\n",
       "      <td>4.0</td>\n",
       "      <td>1208.0</td>\n",
       "      <td>미니김밥*겨자장</td>\n",
       "      <td>우동</td>\n",
       "      <td>멕시칸샐러드</td>\n",
       "      <td>군고구마</td>\n",
       "      <td>석식</td>\n",
       "      <td>국수</td>\n",
       "      <td>기타</td>\n",
       "    </tr>\n",
       "    <tr>\n",
       "      <th>4</th>\n",
       "      <td>2016-02-05</td>\n",
       "      <td>금</td>\n",
       "      <td>925.0</td>\n",
       "      <td>330.0</td>\n",
       "      <td>0.0</td>\n",
       "      <td>0.0</td>\n",
       "      <td>6.3</td>\n",
       "      <td>5.7</td>\n",
       "      <td>1209.0</td>\n",
       "      <td>쌀밥/잡곡밥</td>\n",
       "      <td>차돌박이찌개</td>\n",
       "      <td>닭갈비</td>\n",
       "      <td>감자소세지볶음</td>\n",
       "      <td>석식</td>\n",
       "      <td>찌개</td>\n",
       "      <td>육류</td>\n",
       "    </tr>\n",
       "    <tr>\n",
       "      <th>...</th>\n",
       "      <td>...</td>\n",
       "      <td>...</td>\n",
       "      <td>...</td>\n",
       "      <td>...</td>\n",
       "      <td>...</td>\n",
       "      <td>...</td>\n",
       "      <td>...</td>\n",
       "      <td>...</td>\n",
       "      <td>...</td>\n",
       "      <td>...</td>\n",
       "      <td>...</td>\n",
       "      <td>...</td>\n",
       "      <td>...</td>\n",
       "      <td>...</td>\n",
       "      <td>...</td>\n",
       "      <td>...</td>\n",
       "    </tr>\n",
       "    <tr>\n",
       "      <th>1200</th>\n",
       "      <td>2021-01-20</td>\n",
       "      <td>수</td>\n",
       "      <td>1093.0</td>\n",
       "      <td>421.0</td>\n",
       "      <td>0.0</td>\n",
       "      <td>0.0</td>\n",
       "      <td>4.8</td>\n",
       "      <td>6.7</td>\n",
       "      <td>2361.0</td>\n",
       "      <td>김치볶음밥</td>\n",
       "      <td>미니쫄우동*맛살튀김</td>\n",
       "      <td>브로콜리깨소스무침</td>\n",
       "      <td>계란후라이</td>\n",
       "      <td>석식</td>\n",
       "      <td>국수</td>\n",
       "      <td>기타</td>\n",
       "    </tr>\n",
       "    <tr>\n",
       "      <th>1201</th>\n",
       "      <td>2021-01-21</td>\n",
       "      <td>목</td>\n",
       "      <td>832.0</td>\n",
       "      <td>353.0</td>\n",
       "      <td>0.0</td>\n",
       "      <td>0.0</td>\n",
       "      <td>9.1</td>\n",
       "      <td>9.6</td>\n",
       "      <td>2362.0</td>\n",
       "      <td>흑미밥</td>\n",
       "      <td>쇠고기무국</td>\n",
       "      <td>삼치양념구이</td>\n",
       "      <td>비엔나채소볶음</td>\n",
       "      <td>석식</td>\n",
       "      <td>국</td>\n",
       "      <td>해산물</td>\n",
       "    </tr>\n",
       "    <tr>\n",
       "      <th>1202</th>\n",
       "      <td>2021-01-22</td>\n",
       "      <td>금</td>\n",
       "      <td>579.0</td>\n",
       "      <td>217.0</td>\n",
       "      <td>0.0</td>\n",
       "      <td>0.0</td>\n",
       "      <td>8.4</td>\n",
       "      <td>8.0</td>\n",
       "      <td>2363.0</td>\n",
       "      <td>흑미밥</td>\n",
       "      <td>수제비국</td>\n",
       "      <td>수제맛쵸킹탕수육</td>\n",
       "      <td>유부채소겨자냉채</td>\n",
       "      <td>석식</td>\n",
       "      <td>탕</td>\n",
       "      <td>육류</td>\n",
       "    </tr>\n",
       "    <tr>\n",
       "      <th>1203</th>\n",
       "      <td>2021-01-25</td>\n",
       "      <td>월</td>\n",
       "      <td>1145.0</td>\n",
       "      <td>502.0</td>\n",
       "      <td>0.0</td>\n",
       "      <td>0.0</td>\n",
       "      <td>11.3</td>\n",
       "      <td>10.2</td>\n",
       "      <td>2364.0</td>\n",
       "      <td>흑미밥</td>\n",
       "      <td>열무된장국</td>\n",
       "      <td>장어강정*데리야끼소스</td>\n",
       "      <td>깻잎쌈*생강채</td>\n",
       "      <td>석식</td>\n",
       "      <td>국</td>\n",
       "      <td>해산물</td>\n",
       "    </tr>\n",
       "    <tr>\n",
       "      <th>1204</th>\n",
       "      <td>2021-01-26</td>\n",
       "      <td>화</td>\n",
       "      <td>1015.0</td>\n",
       "      <td>480.0</td>\n",
       "      <td>1.0</td>\n",
       "      <td>1.0</td>\n",
       "      <td>6.2</td>\n",
       "      <td>6.2</td>\n",
       "      <td>2365.0</td>\n",
       "      <td>잔치국수</td>\n",
       "      <td>수제고기육전</td>\n",
       "      <td>쑥갓나물</td>\n",
       "      <td>양파초절임</td>\n",
       "      <td>석식</td>\n",
       "      <td>국</td>\n",
       "      <td>기타</td>\n",
       "    </tr>\n",
       "  </tbody>\n",
       "</table>\n",
       "<p>1161 rows × 16 columns</p>\n",
       "</div>"
      ],
      "text/plain": [
       "              일자 요일     중식계    석식계  중식강수여부  석식강수여부  중식기온  석식기온   index  \\\n",
       "0     2016-02-01  월  1039.0  331.0     0.0     0.0   3.0   0.9  1205.0   \n",
       "1     2016-02-02  화   867.0  560.0     0.0     0.0   1.7   2.4  1206.0   \n",
       "2     2016-02-03  수  1017.0  573.0     0.0     0.0   3.2   3.0  1207.0   \n",
       "3     2016-02-04  목   978.0  525.0     0.0     0.0   3.7   4.0  1208.0   \n",
       "4     2016-02-05  금   925.0  330.0     0.0     0.0   6.3   5.7  1209.0   \n",
       "...          ... ..     ...    ...     ...     ...   ...   ...     ...   \n",
       "1200  2021-01-20  수  1093.0  421.0     0.0     0.0   4.8   6.7  2361.0   \n",
       "1201  2021-01-21  목   832.0  353.0     0.0     0.0   9.1   9.6  2362.0   \n",
       "1202  2021-01-22  금   579.0  217.0     0.0     0.0   8.4   8.0  2363.0   \n",
       "1203  2021-01-25  월  1145.0  502.0     0.0     0.0  11.3  10.2  2364.0   \n",
       "1204  2021-01-26  화  1015.0  480.0     1.0     1.0   6.2   6.2  2365.0   \n",
       "\n",
       "             밥           국           메인        반찬  구분 국분류 메뉴분류  \n",
       "0       쌀밥/잡곡밥         육개장      자반고등어구이      두부조림  석식   국  해산물  \n",
       "1     콩나물밥*양념장         어묵국          유산슬    아삭고추무침  석식   국  해산물  \n",
       "2       쌀밥/잡곡밥       청국장찌개       황태양념구이       고기전  석식  찌개  해산물  \n",
       "3     미니김밥*겨자장          우동       멕시칸샐러드      군고구마  석식  국수   기타  \n",
       "4       쌀밥/잡곡밥      차돌박이찌개          닭갈비   감자소세지볶음  석식  찌개   육류  \n",
       "...        ...         ...          ...       ...  ..  ..  ...  \n",
       "1200     김치볶음밥  미니쫄우동*맛살튀김    브로콜리깨소스무침     계란후라이  석식  국수   기타  \n",
       "1201       흑미밥       쇠고기무국       삼치양념구이   비엔나채소볶음  석식   국  해산물  \n",
       "1202       흑미밥        수제비국     수제맛쵸킹탕수육  유부채소겨자냉채  석식   탕   육류  \n",
       "1203       흑미밥       열무된장국  장어강정*데리야끼소스   깻잎쌈*생강채  석식   국  해산물  \n",
       "1204      잔치국수      수제고기육전         쑥갓나물     양파초절임  석식   국   기타  \n",
       "\n",
       "[1161 rows x 16 columns]"
      ]
     },
     "metadata": {},
     "execution_count": 265
    }
   ],
   "metadata": {}
  },
  {
   "cell_type": "code",
   "execution_count": 266,
   "source": [
    "df_dinner_mean = df_dinner['석식계'].groupby([df_dinner.중식강수여부, df_dinner['메뉴분류'], df_dinner['국분류']]).mean()"
   ],
   "outputs": [],
   "metadata": {}
  },
  {
   "cell_type": "code",
   "execution_count": 267,
   "source": [
    "df_dinner_mean = pd.DataFrame(df_dinner_mean)"
   ],
   "outputs": [],
   "metadata": {}
  },
  {
   "cell_type": "code",
   "execution_count": 268,
   "source": [
    "plt.figure(figsize=(50,10))\r\n",
    "sns.barplot(data=df_dinner_mean,x=df_dinner_mean.index.to_numpy(), y='석식계')\r\n",
    "\r\n",
    "plt.show()"
   ],
   "outputs": [
    {
     "output_type": "display_data",
     "data": {
      "image/png": "[encoded data removed]",
      "text/plain": [
       "<Figure size 3600x720 with 1 Axes>"
      ]
     },
     "metadata": {
      "needs_background": "light"
     }
    }
   ],
   "metadata": {}
  },
  {
   "cell_type": "markdown",
   "source": [
    "- 이제 여기서 연관도 분석 결과와 합쳐서 보면된다."
   ],
   "metadata": {}
  }
 ],
 "metadata": {
  "orig_nbformat": 4,
  "language_info": {
   "name": "python",
   "version": "3.8.10",
   "mimetype": "text/x-python",
   "codemirror_mode": {
    "name": "ipython",
    "version": 3
   },
   "pygments_lexer": "ipython3",
   "nbconvert_exporter": "python",
   "file_extension": ".py"
  },
  "kernelspec": {
   "name": "python3",
   "display_name": "Python 3.8.10 64-bit ('base': conda)"
  },
  "interpreter": {
   "hash": "345fc451c7e0336b9390ad1fad588039702f89ec6d37597eff879e480e25ffdb"
  }
 },
 "nbformat": 4,
 "nbformat_minor": 2
}