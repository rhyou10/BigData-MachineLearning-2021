{
 "cells": [
  {
   "cell_type": "code",
   "execution_count": 272,
   "source": [
    "# 메모리 변수 모두 제거\r\n",
    "all = [var for var in globals() if var[0] != \"_\"]\r\n",
    "for var in all:\r\n",
    "    del globals()[var]\r\n",
    "\r\n",
    "# 메모리 변수 확인\r\n",
    "#globals()"
   ],
   "outputs": [],
   "metadata": {}
  },
  {
   "cell_type": "code",
   "execution_count": 273,
   "source": [
    "import pandas as pd\r\n",
    "import numpy as np\r\n",
    "import warnings \r\n",
    "warnings.filterwarnings(action='ignore')\r\n",
    "import matplotlib.pyplot as plt\r\n",
    "import seaborn as sns\r\n",
    "import matplotlib\r\n",
    "matplotlib.rcParams['axes.unicode_minus'] = False\r\n",
    "plt.rc('font', family='Malgun Gothic')\r\n",
    "import pickle\r\n",
    "\r\n",
    "from sklearn.model_selection import train_test_split\r\n",
    "\r\n",
    "from sklearn.preprocessing import StandardScaler \r\n",
    "\r\n",
    "from sklearn.metrics import mean_squared_error  # MSE RMSE\r\n",
    "from sklearn.metrics import mean_absolute_error, r2_score # mae\r\n",
    "from sklearn.model_selection import GridSearchCV\r\n",
    "from sklearn.ensemble import RandomForestRegressor\r\n",
    "import eli5 \r\n",
    "from eli5.sklearn import PermutationImportance "
   ],
   "outputs": [],
   "metadata": {}
  },
  {
   "cell_type": "code",
   "execution_count": 274,
   "source": [
    "df1 = pd.read_csv('data/train_메뉴제외.csv')\r\n",
    "df3 = pd.read_csv('data/메뉴구분3.csv')"
   ],
   "outputs": [],
   "metadata": {}
  },
  {
   "cell_type": "code",
   "execution_count": 275,
   "source": [
    "#plt.figure(figsize=(7,5))\r\n",
    "#sns.heatmap(df1.corr())"
   ],
   "outputs": [],
   "metadata": {}
  },
  {
   "cell_type": "markdown",
   "source": [
    "## 스케일링\r\n",
    "- y값과 카데고리 변수 제외하고 전부 스케일링"
   ],
   "metadata": {}
  },
  {
   "cell_type": "code",
   "execution_count": 276,
   "source": [
    "x = df1.drop(columns=['요일','중식계', '석식계','일자','중식강수여부','석식강수여부','휴일전날', '휴일다음날', '월'])\r\n",
    "sc = StandardScaler()\r\n",
    "sc.fit(x)\r\n",
    "x = sc.transform(x)\r\n",
    "x"
   ],
   "outputs": [
    {
     "output_type": "execute_result",
     "data": {
      "text/plain": [
       "array([[-1.20808313, -0.74872092, -2.09455012, ..., -1.69910141,\n",
       "        -0.14948392, -0.28331189],\n",
       "       [-1.20808313, -0.74872092, -1.56598741, ..., -1.53572714,\n",
       "        -0.14948392, -0.28331189],\n",
       "       [-1.20808313, -0.70709205, -1.4051205 , ..., -1.47037743,\n",
       "        -0.14948392, -0.28331189],\n",
       "       ...,\n",
       "       [ 1.02331229,  0.67359894,  0.15758664, ..., -0.92579655,\n",
       "        -0.14948392,  2.30343537],\n",
       "       [ 1.02331229, -0.35324662, -2.02560716, ..., -0.68618096,\n",
       "        -0.14948392,  2.98376485],\n",
       "       [ 1.02331229, -0.61689615, -1.33617754, ..., -1.12184567,\n",
       "         0.28092976,  2.32586382]])"
      ]
     },
     "metadata": {},
     "execution_count": 276
    }
   ],
   "metadata": {}
  },
  {
   "cell_type": "code",
   "execution_count": 277,
   "source": [
    "# 일자 드랍하고 y값 2개 뺴고 전부다 스케일링 해버리자\r\n",
    "#df1['요일'] =  df1['요일'].astype('category') #요일을 카테고리화 하였다\r\n",
    "#df1['요일'] = df1.요일.cat.codes #요일을 숫자로 바꿈\r\n",
    "# 연, 월, 요일, 중식강수여부, 석시강수여부, 휴일전날, 휴일다음날 이 카데고리 전부 더미화 할지 생각해 보자\r\n",
    "y = df1[['요일','중식계', '석식계','일자','중식강수여부','석식강수여부','휴일전날', '휴일다음날', '월']]\r\n",
    "\r\n",
    "x = df1.drop(columns=['요일','중식계', '석식계','일자','중식강수여부','석식강수여부','휴일전날', '휴일다음날','월']) # 카테고리컬 변수와 y값으로 쓸 변수 일자변수 빼고 전부 스케일링\r\n",
    "x = StandardScaler().fit_transform(x)"
   ],
   "outputs": [],
   "metadata": {}
  },
  {
   "cell_type": "code",
   "execution_count": 278,
   "source": [
    "x = pd.DataFrame(x,columns=df1.drop(columns=['요일','중식계', '석식계','일자','중식강수여부','석식강수여부','휴일전날', '휴일다음날', '월']).columns)\r\n",
    "df1 =pd.concat([x,y],axis=1)"
   ],
   "outputs": [],
   "metadata": {}
  },
  {
   "cell_type": "code",
   "execution_count": 279,
   "source": [
    "df1.head(2)"
   ],
   "outputs": [
    {
     "output_type": "execute_result",
     "data": {
      "text/html": [
       "<div>\n",
       "<style scoped>\n",
       "    .dataframe tbody tr th:only-of-type {\n",
       "        vertical-align: middle;\n",
       "    }\n",
       "\n",
       "    .dataframe tbody tr th {\n",
       "        vertical-align: top;\n",
       "    }\n",
       "\n",
       "    .dataframe thead th {\n",
       "        text-align: right;\n",
       "    }\n",
       "</style>\n",
       "<table border=\"1\" class=\"dataframe\">\n",
       "  <thead>\n",
       "    <tr style=\"text-align: right;\">\n",
       "      <th></th>\n",
       "      <th>본사정원수</th>\n",
       "      <th>본사휴가자수</th>\n",
       "      <th>본사출장자수</th>\n",
       "      <th>본사시간외근무명령서승인건수</th>\n",
       "      <th>현본사소속재택근무자수</th>\n",
       "      <th>식사가능인원</th>\n",
       "      <th>중식결식</th>\n",
       "      <th>석식결식</th>\n",
       "      <th>중식기온</th>\n",
       "      <th>중식강수량</th>\n",
       "      <th>석식기온</th>\n",
       "      <th>석식강수량</th>\n",
       "      <th>확진자수</th>\n",
       "      <th>요일</th>\n",
       "      <th>중식계</th>\n",
       "      <th>석식계</th>\n",
       "      <th>일자</th>\n",
       "      <th>중식강수여부</th>\n",
       "      <th>석식강수여부</th>\n",
       "      <th>휴일전날</th>\n",
       "      <th>휴일다음날</th>\n",
       "      <th>월</th>\n",
       "    </tr>\n",
       "  </thead>\n",
       "  <tbody>\n",
       "    <tr>\n",
       "      <th>0</th>\n",
       "      <td>-1.208083</td>\n",
       "      <td>-0.748721</td>\n",
       "      <td>-2.094550</td>\n",
       "      <td>-0.146735</td>\n",
       "      <td>-0.395901</td>\n",
       "      <td>0.202544</td>\n",
       "      <td>-0.486811</td>\n",
       "      <td>0.812158</td>\n",
       "      <td>-1.594185</td>\n",
       "      <td>-0.170096</td>\n",
       "      <td>-1.699101</td>\n",
       "      <td>-0.149484</td>\n",
       "      <td>-0.283312</td>\n",
       "      <td>월</td>\n",
       "      <td>1039.0</td>\n",
       "      <td>331.0</td>\n",
       "      <td>2016-02-01</td>\n",
       "      <td>0.0</td>\n",
       "      <td>0.0</td>\n",
       "      <td>0</td>\n",
       "      <td>1</td>\n",
       "      <td>2</td>\n",
       "    </tr>\n",
       "    <tr>\n",
       "      <th>1</th>\n",
       "      <td>-1.208083</td>\n",
       "      <td>-0.748721</td>\n",
       "      <td>-1.565987</td>\n",
       "      <td>0.182349</td>\n",
       "      <td>-0.395901</td>\n",
       "      <td>0.072225</td>\n",
       "      <td>0.155553</td>\n",
       "      <td>-0.416910</td>\n",
       "      <td>-1.736090</td>\n",
       "      <td>-0.170096</td>\n",
       "      <td>-1.535727</td>\n",
       "      <td>-0.149484</td>\n",
       "      <td>-0.283312</td>\n",
       "      <td>화</td>\n",
       "      <td>867.0</td>\n",
       "      <td>560.0</td>\n",
       "      <td>2016-02-02</td>\n",
       "      <td>0.0</td>\n",
       "      <td>0.0</td>\n",
       "      <td>0</td>\n",
       "      <td>0</td>\n",
       "      <td>2</td>\n",
       "    </tr>\n",
       "  </tbody>\n",
       "</table>\n",
       "</div>"
      ],
      "text/plain": [
       "      본사정원수    본사휴가자수    본사출장자수  본사시간외근무명령서승인건수  ...  석식강수여부  휴일전날  휴일다음날  월\n",
       "0 -1.208083 -0.748721 -2.094550       -0.146735  ...     0.0     0      1  2\n",
       "1 -1.208083 -0.748721 -1.565987        0.182349  ...     0.0     0      0  2\n",
       "\n",
       "[2 rows x 22 columns]"
      ]
     },
     "metadata": {},
     "execution_count": 279
    }
   ],
   "metadata": {}
  },
  {
   "cell_type": "markdown",
   "source": [
    "## df1 데이터 더미화"
   ],
   "metadata": {}
  },
  {
   "cell_type": "code",
   "execution_count": 280,
   "source": [
    "# 연, 월, 요일, 중식강수여부, 석시강수여부, 휴일전날, 휴일다음날 이 카데고리 전부 더미화 할지 생각해 보자\r\n",
    "df1_cat = df1[['월', '요일']]\r\n",
    "\r\n",
    "\r\n",
    "df1_cat = df1[['월', '요일']]\r\n",
    "df1_cat['월'] =  df1_cat['월'].astype('category')\r\n",
    "df1_cat = pd.get_dummies(df1_cat[['월', '요일']])# 더미화\r\n",
    "df1.drop(columns=['월', '요일'],inplace=True)"
   ],
   "outputs": [],
   "metadata": {}
  },
  {
   "cell_type": "code",
   "execution_count": 281,
   "source": [
    "df1 = pd.concat([df1,df1_cat],axis=1)"
   ],
   "outputs": [],
   "metadata": {}
  },
  {
   "cell_type": "markdown",
   "source": [
    "## 점심데이터"
   ],
   "metadata": {}
  },
  {
   "cell_type": "code",
   "execution_count": 282,
   "source": [
    "df_lunch_cat = df3.iloc[:1205]\r\n",
    "df_lunch_cat_dummy =pd.get_dummies(df_lunch_cat.iloc[:1205][['국분류', '메뉴분류']]) # 더미화\r\n",
    "\r\n",
    "df_lunch = pd.concat([df1,df_lunch_cat_dummy],axis=1)"
   ],
   "outputs": [],
   "metadata": {}
  },
  {
   "cell_type": "code",
   "execution_count": 283,
   "source": [
    "df_lunch.head(1)"
   ],
   "outputs": [
    {
     "output_type": "execute_result",
     "data": {
      "text/html": [
       "<div>\n",
       "<style scoped>\n",
       "    .dataframe tbody tr th:only-of-type {\n",
       "        vertical-align: middle;\n",
       "    }\n",
       "\n",
       "    .dataframe tbody tr th {\n",
       "        vertical-align: top;\n",
       "    }\n",
       "\n",
       "    .dataframe thead th {\n",
       "        text-align: right;\n",
       "    }\n",
       "</style>\n",
       "<table border=\"1\" class=\"dataframe\">\n",
       "  <thead>\n",
       "    <tr style=\"text-align: right;\">\n",
       "      <th></th>\n",
       "      <th>본사정원수</th>\n",
       "      <th>본사휴가자수</th>\n",
       "      <th>본사출장자수</th>\n",
       "      <th>본사시간외근무명령서승인건수</th>\n",
       "      <th>현본사소속재택근무자수</th>\n",
       "      <th>식사가능인원</th>\n",
       "      <th>중식결식</th>\n",
       "      <th>석식결식</th>\n",
       "      <th>중식기온</th>\n",
       "      <th>중식강수량</th>\n",
       "      <th>석식기온</th>\n",
       "      <th>석식강수량</th>\n",
       "      <th>확진자수</th>\n",
       "      <th>중식계</th>\n",
       "      <th>석식계</th>\n",
       "      <th>일자</th>\n",
       "      <th>중식강수여부</th>\n",
       "      <th>석식강수여부</th>\n",
       "      <th>휴일전날</th>\n",
       "      <th>휴일다음날</th>\n",
       "      <th>월_1</th>\n",
       "      <th>월_2</th>\n",
       "      <th>월_3</th>\n",
       "      <th>월_4</th>\n",
       "      <th>월_5</th>\n",
       "      <th>월_6</th>\n",
       "      <th>월_7</th>\n",
       "      <th>월_8</th>\n",
       "      <th>월_9</th>\n",
       "      <th>월_10</th>\n",
       "      <th>월_11</th>\n",
       "      <th>월_12</th>\n",
       "      <th>요일_금</th>\n",
       "      <th>요일_목</th>\n",
       "      <th>요일_수</th>\n",
       "      <th>요일_월</th>\n",
       "      <th>요일_화</th>\n",
       "      <th>국분류_국</th>\n",
       "      <th>국분류_국수</th>\n",
       "      <th>국분류_스프</th>\n",
       "      <th>국분류_찌개</th>\n",
       "      <th>국분류_탕</th>\n",
       "      <th>메뉴분류_기타</th>\n",
       "      <th>메뉴분류_육류</th>\n",
       "      <th>메뉴분류_조류</th>\n",
       "      <th>메뉴분류_해산물</th>\n",
       "    </tr>\n",
       "  </thead>\n",
       "  <tbody>\n",
       "    <tr>\n",
       "      <th>0</th>\n",
       "      <td>-1.208083</td>\n",
       "      <td>-0.748721</td>\n",
       "      <td>-2.09455</td>\n",
       "      <td>-0.146735</td>\n",
       "      <td>-0.395901</td>\n",
       "      <td>0.202544</td>\n",
       "      <td>-0.486811</td>\n",
       "      <td>0.812158</td>\n",
       "      <td>-1.594185</td>\n",
       "      <td>-0.170096</td>\n",
       "      <td>-1.699101</td>\n",
       "      <td>-0.149484</td>\n",
       "      <td>-0.283312</td>\n",
       "      <td>1039.0</td>\n",
       "      <td>331.0</td>\n",
       "      <td>2016-02-01</td>\n",
       "      <td>0.0</td>\n",
       "      <td>0.0</td>\n",
       "      <td>0</td>\n",
       "      <td>1</td>\n",
       "      <td>0</td>\n",
       "      <td>1</td>\n",
       "      <td>0</td>\n",
       "      <td>0</td>\n",
       "      <td>0</td>\n",
       "      <td>0</td>\n",
       "      <td>0</td>\n",
       "      <td>0</td>\n",
       "      <td>0</td>\n",
       "      <td>0</td>\n",
       "      <td>0</td>\n",
       "      <td>0</td>\n",
       "      <td>0</td>\n",
       "      <td>0</td>\n",
       "      <td>0</td>\n",
       "      <td>1</td>\n",
       "      <td>0</td>\n",
       "      <td>0</td>\n",
       "      <td>0</td>\n",
       "      <td>0</td>\n",
       "      <td>1</td>\n",
       "      <td>0</td>\n",
       "      <td>0</td>\n",
       "      <td>1</td>\n",
       "      <td>0</td>\n",
       "      <td>0</td>\n",
       "    </tr>\n",
       "  </tbody>\n",
       "</table>\n",
       "</div>"
      ],
      "text/plain": [
       "      본사정원수    본사휴가자수   본사출장자수  ...  메뉴분류_육류  메뉴분류_조류  메뉴분류_해산물\n",
       "0 -1.208083 -0.748721 -2.09455  ...        1        0         0\n",
       "\n",
       "[1 rows x 46 columns]"
      ]
     },
     "metadata": {},
     "execution_count": 283
    }
   ],
   "metadata": {}
  },
  {
   "cell_type": "code",
   "execution_count": 284,
   "source": [
    "#sns.heatmap(df_lunch.corr())"
   ],
   "outputs": [],
   "metadata": {}
  },
  {
   "cell_type": "markdown",
   "source": [
    "## 저녁데이터"
   ],
   "metadata": {}
  },
  {
   "cell_type": "code",
   "execution_count": 285,
   "source": [
    "df_dinner_cat_dummy =pd.get_dummies(df3.iloc[1205:][['국분류', '메뉴분류']]) # 더미화\r\n",
    "df_dinner_cat_duumy = pd.concat([df3.iloc[1205:]['일자'],df_dinner_cat_dummy],axis=1) # 저녁값이 비어있는곳이 있어 merge 하기 위해 일자 값 추가\r\n",
    "\r\n",
    "df_dinner =pd.merge(df1, df_dinner_cat_duumy,on='일자',how='left')"
   ],
   "outputs": [],
   "metadata": {}
  },
  {
   "cell_type": "code",
   "execution_count": 286,
   "source": [
    "df_dinner.isna().sum()"
   ],
   "outputs": [
    {
     "output_type": "execute_result",
     "data": {
      "text/plain": [
       "본사정원수              0\n",
       "본사휴가자수             0\n",
       "본사출장자수             0\n",
       "본사시간외근무명령서승인건수     0\n",
       "현본사소속재택근무자수        0\n",
       "식사가능인원             0\n",
       "중식결식               0\n",
       "석식결식               0\n",
       "중식기온               0\n",
       "중식강수량              0\n",
       "석식기온               0\n",
       "석식강수량              0\n",
       "확진자수               0\n",
       "중식계                0\n",
       "석식계                0\n",
       "일자                 0\n",
       "중식강수여부             0\n",
       "석식강수여부             0\n",
       "휴일전날               0\n",
       "휴일다음날              0\n",
       "월_1                0\n",
       "월_2                0\n",
       "월_3                0\n",
       "월_4                0\n",
       "월_5                0\n",
       "월_6                0\n",
       "월_7                0\n",
       "월_8                0\n",
       "월_9                0\n",
       "월_10               0\n",
       "월_11               0\n",
       "월_12               0\n",
       "요일_금               0\n",
       "요일_목               0\n",
       "요일_수               0\n",
       "요일_월               0\n",
       "요일_화               0\n",
       "국분류_국             44\n",
       "국분류_국수            44\n",
       "국분류_스프            44\n",
       "국분류_죽             44\n",
       "국분류_찌개            44\n",
       "국분류_탕             44\n",
       "메뉴분류_기타           44\n",
       "메뉴분류_육류           44\n",
       "메뉴분류_조류           44\n",
       "메뉴분류_해산물          44\n",
       "dtype: int64"
      ]
     },
     "metadata": {},
     "execution_count": 286
    }
   ],
   "metadata": {}
  },
  {
   "cell_type": "code",
   "execution_count": 287,
   "source": [
    "#df_dinner[df_dinner.국분류_국.isna()][['일자', '석식계']]"
   ],
   "outputs": [],
   "metadata": {}
  },
  {
   "cell_type": "code",
   "execution_count": 288,
   "source": [
    "#df_dinner.fillna(0,inplace=True)\r\n",
    "df_dinner.dropna(inplace=True) #저녁안먹는날 drop"
   ],
   "outputs": [],
   "metadata": {}
  },
  {
   "cell_type": "code",
   "execution_count": 289,
   "source": [
    "df_dinner.isna().sum().sum()"
   ],
   "outputs": [
    {
     "output_type": "execute_result",
     "data": {
      "text/plain": [
       "0"
      ]
     },
     "metadata": {},
     "execution_count": 289
    }
   ],
   "metadata": {}
  },
  {
   "cell_type": "code",
   "execution_count": 290,
   "source": [
    "#sns.heatmap(df_dinner.corr())"
   ],
   "outputs": [],
   "metadata": {}
  },
  {
   "cell_type": "markdown",
   "source": [
    "## 모델링 전 X,y 나누기"
   ],
   "metadata": {}
  },
  {
   "cell_type": "markdown",
   "source": [
    "### 중식"
   ],
   "metadata": {}
  },
  {
   "cell_type": "code",
   "execution_count": 291,
   "source": [
    "X = df_lunch.drop(columns=['일자','중식계','석식계','석식결식','중식결식', '석식기온', '석식강수량', '석식강수여부'])\r\n",
    "\r\n",
    "## 중식에 경우 ols summary에서 p_vale값이 중식기온이 유의미하지 않아 뻇다\r\n",
    "\r\n",
    "#X = df_lunch[['요일', '본사정원수', '본사휴가자수', '본사출장자수', '본사시간외근무명령서승인건수', '현본사소속재택근무자수',\r\n",
    "#       '식사가능인원', '중식강수여부', '중식기온', '중식강수량', '석식강수여부', '석식기온', '석식강수량', '확진자수',\r\n",
    "#       '휴일전날', '휴일다음날']]\r\n",
    "#X = df[['요일','본사정원수','본사휴가자수','본사출장자수','본사시간외근무명령서승인건수','현본사소속재택근무자수','식사가능인원']] #0.43\r\n",
    "y = df_lunch['중식계']"
   ],
   "outputs": [],
   "metadata": {}
  },
  {
   "cell_type": "code",
   "execution_count": 292,
   "source": [
    "X.head(2)"
   ],
   "outputs": [
    {
     "output_type": "execute_result",
     "data": {
      "text/html": [
       "<div>\n",
       "<style scoped>\n",
       "    .dataframe tbody tr th:only-of-type {\n",
       "        vertical-align: middle;\n",
       "    }\n",
       "\n",
       "    .dataframe tbody tr th {\n",
       "        vertical-align: top;\n",
       "    }\n",
       "\n",
       "    .dataframe thead th {\n",
       "        text-align: right;\n",
       "    }\n",
       "</style>\n",
       "<table border=\"1\" class=\"dataframe\">\n",
       "  <thead>\n",
       "    <tr style=\"text-align: right;\">\n",
       "      <th></th>\n",
       "      <th>본사정원수</th>\n",
       "      <th>본사휴가자수</th>\n",
       "      <th>본사출장자수</th>\n",
       "      <th>본사시간외근무명령서승인건수</th>\n",
       "      <th>현본사소속재택근무자수</th>\n",
       "      <th>식사가능인원</th>\n",
       "      <th>중식기온</th>\n",
       "      <th>중식강수량</th>\n",
       "      <th>확진자수</th>\n",
       "      <th>중식강수여부</th>\n",
       "      <th>휴일전날</th>\n",
       "      <th>휴일다음날</th>\n",
       "      <th>월_1</th>\n",
       "      <th>월_2</th>\n",
       "      <th>월_3</th>\n",
       "      <th>월_4</th>\n",
       "      <th>월_5</th>\n",
       "      <th>월_6</th>\n",
       "      <th>월_7</th>\n",
       "      <th>월_8</th>\n",
       "      <th>월_9</th>\n",
       "      <th>월_10</th>\n",
       "      <th>월_11</th>\n",
       "      <th>월_12</th>\n",
       "      <th>요일_금</th>\n",
       "      <th>요일_목</th>\n",
       "      <th>요일_수</th>\n",
       "      <th>요일_월</th>\n",
       "      <th>요일_화</th>\n",
       "      <th>국분류_국</th>\n",
       "      <th>국분류_국수</th>\n",
       "      <th>국분류_스프</th>\n",
       "      <th>국분류_찌개</th>\n",
       "      <th>국분류_탕</th>\n",
       "      <th>메뉴분류_기타</th>\n",
       "      <th>메뉴분류_육류</th>\n",
       "      <th>메뉴분류_조류</th>\n",
       "      <th>메뉴분류_해산물</th>\n",
       "    </tr>\n",
       "  </thead>\n",
       "  <tbody>\n",
       "    <tr>\n",
       "      <th>0</th>\n",
       "      <td>-1.208083</td>\n",
       "      <td>-0.748721</td>\n",
       "      <td>-2.094550</td>\n",
       "      <td>-0.146735</td>\n",
       "      <td>-0.395901</td>\n",
       "      <td>0.202544</td>\n",
       "      <td>-1.594185</td>\n",
       "      <td>-0.170096</td>\n",
       "      <td>-0.283312</td>\n",
       "      <td>0.0</td>\n",
       "      <td>0</td>\n",
       "      <td>1</td>\n",
       "      <td>0</td>\n",
       "      <td>1</td>\n",
       "      <td>0</td>\n",
       "      <td>0</td>\n",
       "      <td>0</td>\n",
       "      <td>0</td>\n",
       "      <td>0</td>\n",
       "      <td>0</td>\n",
       "      <td>0</td>\n",
       "      <td>0</td>\n",
       "      <td>0</td>\n",
       "      <td>0</td>\n",
       "      <td>0</td>\n",
       "      <td>0</td>\n",
       "      <td>0</td>\n",
       "      <td>1</td>\n",
       "      <td>0</td>\n",
       "      <td>0</td>\n",
       "      <td>0</td>\n",
       "      <td>0</td>\n",
       "      <td>1</td>\n",
       "      <td>0</td>\n",
       "      <td>0</td>\n",
       "      <td>1</td>\n",
       "      <td>0</td>\n",
       "      <td>0</td>\n",
       "    </tr>\n",
       "    <tr>\n",
       "      <th>1</th>\n",
       "      <td>-1.208083</td>\n",
       "      <td>-0.748721</td>\n",
       "      <td>-1.565987</td>\n",
       "      <td>0.182349</td>\n",
       "      <td>-0.395901</td>\n",
       "      <td>0.072225</td>\n",
       "      <td>-1.736090</td>\n",
       "      <td>-0.170096</td>\n",
       "      <td>-0.283312</td>\n",
       "      <td>0.0</td>\n",
       "      <td>0</td>\n",
       "      <td>0</td>\n",
       "      <td>0</td>\n",
       "      <td>1</td>\n",
       "      <td>0</td>\n",
       "      <td>0</td>\n",
       "      <td>0</td>\n",
       "      <td>0</td>\n",
       "      <td>0</td>\n",
       "      <td>0</td>\n",
       "      <td>0</td>\n",
       "      <td>0</td>\n",
       "      <td>0</td>\n",
       "      <td>0</td>\n",
       "      <td>0</td>\n",
       "      <td>0</td>\n",
       "      <td>0</td>\n",
       "      <td>0</td>\n",
       "      <td>1</td>\n",
       "      <td>0</td>\n",
       "      <td>0</td>\n",
       "      <td>0</td>\n",
       "      <td>1</td>\n",
       "      <td>0</td>\n",
       "      <td>0</td>\n",
       "      <td>0</td>\n",
       "      <td>0</td>\n",
       "      <td>1</td>\n",
       "    </tr>\n",
       "  </tbody>\n",
       "</table>\n",
       "</div>"
      ],
      "text/plain": [
       "      본사정원수    본사휴가자수    본사출장자수  ...  메뉴분류_육류  메뉴분류_조류  메뉴분류_해산물\n",
       "0 -1.208083 -0.748721 -2.094550  ...        1        0         0\n",
       "1 -1.208083 -0.748721 -1.565987  ...        0        0         1\n",
       "\n",
       "[2 rows x 38 columns]"
      ]
     },
     "metadata": {},
     "execution_count": 292
    }
   ],
   "metadata": {}
  },
  {
   "cell_type": "code",
   "execution_count": 293,
   "source": [
    "X_train, X_test, y_train, y_test = train_test_split(X, y, test_size=0.3, random_state=1)"
   ],
   "outputs": [],
   "metadata": {}
  },
  {
   "cell_type": "markdown",
   "source": [
    "### 석식"
   ],
   "metadata": {}
  },
  {
   "cell_type": "code",
   "execution_count": 294,
   "source": [
    "X2 = df_dinner.drop(columns=['일자','중식계','석식계','석식결식','중식결식', '중식기온', '중식강수량', '중식강수여부'])\r\n",
    "\r\n",
    "# 석식에 경우 석식강수량과 강수여부가 휴일전날 pvaule 값이 유의미하지 않아 뺏다\r\n",
    "\r\n",
    "#X = df[['요일','본사정원수','본사휴가자수','본사출장자수','본사시간외근무명령서승인건수','현본사소속재택근무자수','식사가능인원']] #0.43\r\n",
    "y2 = df_dinner['석식계']\r\n",
    "\r\n",
    "X2_train, X2_test, y2_train, y2_test = train_test_split(X2, y2, test_size=0.3, random_state=1)"
   ],
   "outputs": [],
   "metadata": {}
  },
  {
   "cell_type": "code",
   "execution_count": 295,
   "source": [
    "X2.columns"
   ],
   "outputs": [
    {
     "output_type": "execute_result",
     "data": {
      "text/plain": [
       "Index(['본사정원수', '본사휴가자수', '본사출장자수', '본사시간외근무명령서승인건수', '현본사소속재택근무자수', '식사가능인원',\n",
       "       '석식기온', '석식강수량', '확진자수', '석식강수여부', '휴일전날', '휴일다음날', '월_1', '월_2', '월_3',\n",
       "       '월_4', '월_5', '월_6', '월_7', '월_8', '월_9', '월_10', '월_11', '월_12',\n",
       "       '요일_금', '요일_목', '요일_수', '요일_월', '요일_화', '국분류_국', '국분류_국수', '국분류_스프',\n",
       "       '국분류_죽', '국분류_찌개', '국분류_탕', '메뉴분류_기타', '메뉴분류_육류', '메뉴분류_조류',\n",
       "       '메뉴분류_해산물'],\n",
       "      dtype='object')"
      ]
     },
     "metadata": {},
     "execution_count": 295
    }
   ],
   "metadata": {}
  },
  {
   "cell_type": "code",
   "execution_count": 296,
   "source": [
    "from statsmodels.stats.outliers_influence import variance_inflation_factor\r\n",
    "\r\n",
    "vif = pd.DataFrame()\r\n",
    "vif['vif_factor'] = [variance_inflation_factor(X.values, i) for i in range(X.shape[1])]\r\n",
    "vif['feature'] = X.columns\r\n",
    "vif = vif.sort_values('vif_factor').reset_index(drop=True)\r\n",
    "vif"
   ],
   "outputs": [
    {
     "output_type": "execute_result",
     "data": {
      "text/html": [
       "<div>\n",
       "<style scoped>\n",
       "    .dataframe tbody tr th:only-of-type {\n",
       "        vertical-align: middle;\n",
       "    }\n",
       "\n",
       "    .dataframe tbody tr th {\n",
       "        vertical-align: top;\n",
       "    }\n",
       "\n",
       "    .dataframe thead th {\n",
       "        text-align: right;\n",
       "    }\n",
       "</style>\n",
       "<table border=\"1\" class=\"dataframe\">\n",
       "  <thead>\n",
       "    <tr style=\"text-align: right;\">\n",
       "      <th></th>\n",
       "      <th>vif_factor</th>\n",
       "      <th>feature</th>\n",
       "    </tr>\n",
       "  </thead>\n",
       "  <tbody>\n",
       "    <tr>\n",
       "      <th>0</th>\n",
       "      <td>1.486504</td>\n",
       "      <td>중식강수량</td>\n",
       "    </tr>\n",
       "    <tr>\n",
       "      <th>1</th>\n",
       "      <td>1.612888</td>\n",
       "      <td>중식강수여부</td>\n",
       "    </tr>\n",
       "    <tr>\n",
       "      <th>2</th>\n",
       "      <td>1.835647</td>\n",
       "      <td>확진자수</td>\n",
       "    </tr>\n",
       "    <tr>\n",
       "      <th>3</th>\n",
       "      <td>5.172155</td>\n",
       "      <td>본사시간외근무명령서승인건수</td>\n",
       "    </tr>\n",
       "    <tr>\n",
       "      <th>4</th>\n",
       "      <td>6.762792</td>\n",
       "      <td>휴일다음날</td>\n",
       "    </tr>\n",
       "    <tr>\n",
       "      <th>5</th>\n",
       "      <td>8.274120</td>\n",
       "      <td>중식기온</td>\n",
       "    </tr>\n",
       "    <tr>\n",
       "      <th>6</th>\n",
       "      <td>9.239062</td>\n",
       "      <td>휴일전날</td>\n",
       "    </tr>\n",
       "    <tr>\n",
       "      <th>7</th>\n",
       "      <td>inf</td>\n",
       "      <td>요일_금</td>\n",
       "    </tr>\n",
       "    <tr>\n",
       "      <th>8</th>\n",
       "      <td>inf</td>\n",
       "      <td>요일_목</td>\n",
       "    </tr>\n",
       "    <tr>\n",
       "      <th>9</th>\n",
       "      <td>inf</td>\n",
       "      <td>요일_수</td>\n",
       "    </tr>\n",
       "    <tr>\n",
       "      <th>10</th>\n",
       "      <td>inf</td>\n",
       "      <td>요일_월</td>\n",
       "    </tr>\n",
       "    <tr>\n",
       "      <th>11</th>\n",
       "      <td>inf</td>\n",
       "      <td>요일_화</td>\n",
       "    </tr>\n",
       "    <tr>\n",
       "      <th>12</th>\n",
       "      <td>inf</td>\n",
       "      <td>국분류_국</td>\n",
       "    </tr>\n",
       "    <tr>\n",
       "      <th>13</th>\n",
       "      <td>inf</td>\n",
       "      <td>본사정원수</td>\n",
       "    </tr>\n",
       "    <tr>\n",
       "      <th>14</th>\n",
       "      <td>inf</td>\n",
       "      <td>국분류_스프</td>\n",
       "    </tr>\n",
       "    <tr>\n",
       "      <th>15</th>\n",
       "      <td>inf</td>\n",
       "      <td>월_12</td>\n",
       "    </tr>\n",
       "    <tr>\n",
       "      <th>16</th>\n",
       "      <td>inf</td>\n",
       "      <td>국분류_찌개</td>\n",
       "    </tr>\n",
       "    <tr>\n",
       "      <th>17</th>\n",
       "      <td>inf</td>\n",
       "      <td>국분류_탕</td>\n",
       "    </tr>\n",
       "    <tr>\n",
       "      <th>18</th>\n",
       "      <td>inf</td>\n",
       "      <td>메뉴분류_기타</td>\n",
       "    </tr>\n",
       "    <tr>\n",
       "      <th>19</th>\n",
       "      <td>inf</td>\n",
       "      <td>메뉴분류_육류</td>\n",
       "    </tr>\n",
       "    <tr>\n",
       "      <th>20</th>\n",
       "      <td>inf</td>\n",
       "      <td>국분류_국수</td>\n",
       "    </tr>\n",
       "    <tr>\n",
       "      <th>21</th>\n",
       "      <td>inf</td>\n",
       "      <td>월_11</td>\n",
       "    </tr>\n",
       "    <tr>\n",
       "      <th>22</th>\n",
       "      <td>inf</td>\n",
       "      <td>월_7</td>\n",
       "    </tr>\n",
       "    <tr>\n",
       "      <th>23</th>\n",
       "      <td>inf</td>\n",
       "      <td>월_9</td>\n",
       "    </tr>\n",
       "    <tr>\n",
       "      <th>24</th>\n",
       "      <td>inf</td>\n",
       "      <td>월_8</td>\n",
       "    </tr>\n",
       "    <tr>\n",
       "      <th>25</th>\n",
       "      <td>inf</td>\n",
       "      <td>메뉴분류_조류</td>\n",
       "    </tr>\n",
       "    <tr>\n",
       "      <th>26</th>\n",
       "      <td>inf</td>\n",
       "      <td>월_6</td>\n",
       "    </tr>\n",
       "    <tr>\n",
       "      <th>27</th>\n",
       "      <td>inf</td>\n",
       "      <td>월_5</td>\n",
       "    </tr>\n",
       "    <tr>\n",
       "      <th>28</th>\n",
       "      <td>inf</td>\n",
       "      <td>월_4</td>\n",
       "    </tr>\n",
       "    <tr>\n",
       "      <th>29</th>\n",
       "      <td>inf</td>\n",
       "      <td>월_3</td>\n",
       "    </tr>\n",
       "    <tr>\n",
       "      <th>30</th>\n",
       "      <td>inf</td>\n",
       "      <td>월_2</td>\n",
       "    </tr>\n",
       "    <tr>\n",
       "      <th>31</th>\n",
       "      <td>inf</td>\n",
       "      <td>월_1</td>\n",
       "    </tr>\n",
       "    <tr>\n",
       "      <th>32</th>\n",
       "      <td>inf</td>\n",
       "      <td>식사가능인원</td>\n",
       "    </tr>\n",
       "    <tr>\n",
       "      <th>33</th>\n",
       "      <td>inf</td>\n",
       "      <td>현본사소속재택근무자수</td>\n",
       "    </tr>\n",
       "    <tr>\n",
       "      <th>34</th>\n",
       "      <td>inf</td>\n",
       "      <td>본사출장자수</td>\n",
       "    </tr>\n",
       "    <tr>\n",
       "      <th>35</th>\n",
       "      <td>inf</td>\n",
       "      <td>본사휴가자수</td>\n",
       "    </tr>\n",
       "    <tr>\n",
       "      <th>36</th>\n",
       "      <td>inf</td>\n",
       "      <td>월_10</td>\n",
       "    </tr>\n",
       "    <tr>\n",
       "      <th>37</th>\n",
       "      <td>inf</td>\n",
       "      <td>메뉴분류_해산물</td>\n",
       "    </tr>\n",
       "  </tbody>\n",
       "</table>\n",
       "</div>"
      ],
      "text/plain": [
       "    vif_factor         feature\n",
       "0     1.486504           중식강수량\n",
       "1     1.612888          중식강수여부\n",
       "2     1.835647            확진자수\n",
       "3     5.172155  본사시간외근무명령서승인건수\n",
       "4     6.762792           휴일다음날\n",
       "5     8.274120            중식기온\n",
       "6     9.239062            휴일전날\n",
       "7          inf            요일_금\n",
       "8          inf            요일_목\n",
       "9          inf            요일_수\n",
       "10         inf            요일_월\n",
       "11         inf            요일_화\n",
       "12         inf           국분류_국\n",
       "13         inf           본사정원수\n",
       "14         inf          국분류_스프\n",
       "15         inf            월_12\n",
       "16         inf          국분류_찌개\n",
       "17         inf           국분류_탕\n",
       "18         inf         메뉴분류_기타\n",
       "19         inf         메뉴분류_육류\n",
       "20         inf          국분류_국수\n",
       "21         inf            월_11\n",
       "22         inf             월_7\n",
       "23         inf             월_9\n",
       "24         inf             월_8\n",
       "25         inf         메뉴분류_조류\n",
       "26         inf             월_6\n",
       "27         inf             월_5\n",
       "28         inf             월_4\n",
       "29         inf             월_3\n",
       "30         inf             월_2\n",
       "31         inf             월_1\n",
       "32         inf          식사가능인원\n",
       "33         inf     현본사소속재택근무자수\n",
       "34         inf          본사출장자수\n",
       "35         inf          본사휴가자수\n",
       "36         inf            월_10\n",
       "37         inf        메뉴분류_해산물"
      ]
     },
     "metadata": {},
     "execution_count": 296
    }
   ],
   "metadata": {}
  },
  {
   "cell_type": "markdown",
   "source": [
    "# 모델링"
   ],
   "metadata": {}
  },
  {
   "cell_type": "markdown",
   "source": [
    "## 중식"
   ],
   "metadata": {}
  },
  {
   "cell_type": "code",
   "execution_count": 297,
   "source": [
    "import statsmodels.api as sm\r\n",
    "lr = sm.OLS(y,X)\r\n",
    "result= lr.fit() \r\n",
    "print(result.summary())\r\n",
    "print(result.params)\r\n",
    "#재택근무자수 무의미함 "
   ],
   "outputs": [
    {
     "output_type": "stream",
     "name": "stdout",
     "text": [
      "                            OLS Regression Results                            \n",
      "==============================================================================\n",
      "Dep. Variable:                    중식계   R-squared:                       0.833\n",
      "Model:                            OLS   Adj. R-squared:                  0.828\n",
      "Method:                 Least Squares   F-statistic:                     176.8\n",
      "Date:                Sun, 03 Oct 2021   Prob (F-statistic):               0.00\n",
      "Time:                        17:28:38   Log-Likelihood:                -7072.0\n",
      "No. Observations:                1205   AIC:                         1.421e+04\n",
      "Df Residuals:                    1171   BIC:                         1.439e+04\n",
      "Df Model:                          33                                         \n",
      "Covariance Type:            nonrobust                                         \n",
      "==================================================================================\n",
      "                     coef    std err          t      P>|t|      [0.025      0.975]\n",
      "----------------------------------------------------------------------------------\n",
      "본사정원수            -46.3505      2.191    -21.156      0.000     -50.649     -42.052\n",
      "본사휴가자수           -71.8501      3.390    -21.193      0.000     -78.502     -65.198\n",
      "본사출장자수           -58.4905      4.386    -13.335      0.000     -67.096     -49.885\n",
      "본사시간외근무명령서승인건수    39.5442      5.690      6.949      0.000      28.380      50.709\n",
      "현본사소속재택근무자수        0.6766      3.284      0.206      0.837      -5.767       7.121\n",
      "식사가능인원            27.7168      2.525     10.976      0.000      22.762      32.671\n",
      "중식기온             -12.9299      7.197     -1.797      0.073     -27.051       1.191\n",
      "중식강수량              8.7349      3.051      2.863      0.004       2.750      14.720\n",
      "확진자수              32.7701      3.390      9.667      0.000      26.119      39.421\n",
      "중식강수여부            26.2272     11.416      2.297      0.022       3.830      48.625\n",
      "휴일전날             -45.6514     18.007     -2.535      0.011     -80.982     -10.321\n",
      "휴일다음날            172.2240     15.387     11.193      0.000     142.034     202.414\n",
      "월_1               43.8351     13.775      3.182      0.001      16.809      70.861\n",
      "월_2              121.6647     12.721      9.564      0.000      96.705     146.624\n",
      "월_3               85.8800      9.447      9.091      0.000      67.345     104.415\n",
      "월_4               77.8488      8.874      8.772      0.000      60.437      95.260\n",
      "월_5               92.4341     10.036      9.210      0.000      72.743     112.125\n",
      "월_6               84.1951     11.400      7.386      0.000      61.829     106.561\n",
      "월_7              104.3799     11.857      8.803      0.000      81.116     127.644\n",
      "월_8              199.0723     13.703     14.527      0.000     172.187     225.958\n",
      "월_9              129.9013     10.600     12.255      0.000     109.104     150.699\n",
      "월_10             140.7193      9.325     15.091      0.000     122.424     159.014\n",
      "월_11              84.3956      9.188      9.185      0.000      66.369     102.422\n",
      "월_12              29.6097     12.439      2.380      0.017       5.205      54.015\n",
      "요일_금             218.0694     15.385     14.174      0.000     187.883     248.255\n",
      "요일_목             185.0542      7.279     25.424      0.000     170.773     199.335\n",
      "요일_수             288.8558      9.576     30.166      0.000     270.069     307.643\n",
      "요일_월             271.6828     13.885     19.566      0.000     244.440     298.926\n",
      "요일_화             230.2739      7.775     29.616      0.000     215.019     245.529\n",
      "국분류_국            226.2502      9.899     22.857      0.000     206.829     245.671\n",
      "국분류_국수           229.4944     12.612     18.197      0.000     204.750     254.239\n",
      "국분류_스프           309.0190     53.234      5.805      0.000     204.575     413.463\n",
      "국분류_찌개           212.6262     10.894     19.519      0.000     191.253     233.999\n",
      "국분류_탕            216.5463     10.662     20.309      0.000     195.627     237.466\n",
      "메뉴분류_기타          309.9296      9.850     31.466      0.000     290.604     329.255\n",
      "메뉴분류_육류          302.7642      6.193     48.885      0.000     290.613     314.916\n",
      "메뉴분류_조류          297.1621      7.442     39.932      0.000     282.561     311.763\n",
      "메뉴분류_해산물         284.0803      6.852     41.458      0.000     270.636     297.524\n",
      "==============================================================================\n",
      "Omnibus:                       54.321   Durbin-Watson:                   1.383\n",
      "Prob(Omnibus):                  0.000   Jarque-Bera (JB):              151.109\n",
      "Skew:                           0.157   Prob(JB):                     1.54e-33\n",
      "Kurtosis:                       4.706   Cond. No.                     1.00e+16\n",
      "==============================================================================\n",
      "\n",
      "Notes:\n",
      "[1] Standard Errors assume that the covariance matrix of the errors is correctly specified.\n",
      "[2] The smallest eigenvalue is 2.74e-29. This might indicate that there are\n",
      "strong multicollinearity problems or that the design matrix is singular.\n",
      "본사정원수             -46.350460\n",
      "본사휴가자수            -71.850128\n",
      "본사출장자수            -58.490514\n",
      "본사시간외근무명령서승인건수     39.544214\n",
      "현본사소속재택근무자수         0.676589\n",
      "식사가능인원             27.716847\n",
      "중식기온              -12.929922\n",
      "중식강수량               8.734892\n",
      "확진자수               32.770082\n",
      "중식강수여부             26.227181\n",
      "휴일전날              -45.651366\n",
      "휴일다음날             172.224035\n",
      "월_1                43.835129\n",
      "월_2               121.664688\n",
      "월_3                85.880035\n",
      "월_4                77.848841\n",
      "월_5                92.434145\n",
      "월_6                84.195123\n",
      "월_7               104.379915\n",
      "월_8               199.072345\n",
      "월_9               129.901349\n",
      "월_10              140.719332\n",
      "월_11               84.395604\n",
      "월_12               29.609675\n",
      "요일_금              218.069426\n",
      "요일_목              185.054231\n",
      "요일_수              288.855768\n",
      "요일_월              271.682836\n",
      "요일_화              230.273920\n",
      "국분류_국             226.250233\n",
      "국분류_국수            229.494380\n",
      "국분류_스프            309.019036\n",
      "국분류_찌개            212.626247\n",
      "국분류_탕             216.546285\n",
      "메뉴분류_기타           309.929572\n",
      "메뉴분류_육류           302.764225\n",
      "메뉴분류_조류           297.162116\n",
      "메뉴분류_해산물          284.080267\n",
      "dtype: float64\n"
     ]
    }
   ],
   "metadata": {}
  },
  {
   "cell_type": "markdown",
   "source": [
    "## 석식"
   ],
   "metadata": {}
  },
  {
   "cell_type": "code",
   "execution_count": 298,
   "source": [
    "lr = sm.OLS(y2,X2)\r\n",
    "result= lr.fit() \r\n",
    "print(result.summary())\r\n",
    "print(result.params)\r\n",
    "# 저녁은 확진자수, 강수, 강수여부"
   ],
   "outputs": [
    {
     "output_type": "stream",
     "name": "stdout",
     "text": [
      "                            OLS Regression Results                            \n",
      "==============================================================================\n",
      "Dep. Variable:                    석식계   R-squared:                       0.639\n",
      "Model:                            OLS   Adj. R-squared:                  0.629\n",
      "Method:                 Least Squares   F-statistic:                     58.74\n",
      "Date:                Sun, 03 Oct 2021   Prob (F-statistic):          1.76e-222\n",
      "Time:                        17:28:38   Log-Likelihood:                -6520.5\n",
      "No. Observations:                1161   AIC:                         1.311e+04\n",
      "Df Residuals:                    1126   BIC:                         1.329e+04\n",
      "Df Model:                          34                                         \n",
      "Covariance Type:            nonrobust                                         \n",
      "==================================================================================\n",
      "                     coef    std err          t      P>|t|      [0.025      0.975]\n",
      "----------------------------------------------------------------------------------\n",
      "본사정원수            -33.1629      1.733    -19.141      0.000     -36.562     -29.763\n",
      "본사휴가자수           -36.9775      2.691    -13.741      0.000     -42.257     -31.698\n",
      "본사출장자수           -26.8519      3.520     -7.629      0.000     -33.757     -19.946\n",
      "본사시간외근무명령서승인건수    70.8578      4.465     15.869      0.000      62.097      79.619\n",
      "현본사소속재택근무자수      -15.3951      2.569     -5.993      0.000     -20.435     -10.355\n",
      "식사가능인원            14.2364      2.009      7.087      0.000      10.295      18.178\n",
      "석식기온               8.5963      5.706      1.506      0.132      -2.600      19.792\n",
      "석식강수량              4.8683      2.429      2.005      0.045       0.103       9.633\n",
      "확진자수               7.3493      2.657      2.766      0.006       2.135      12.563\n",
      "석식강수여부             2.3281      9.138      0.255      0.799     -15.601      20.258\n",
      "휴일전날             -13.4771     14.430     -0.934      0.351     -41.790      14.836\n",
      "휴일다음날             49.9460     12.182      4.100      0.000      26.044      73.848\n",
      "월_1                9.3373     10.870      0.859      0.391     -11.991      30.666\n",
      "월_2               75.0863      9.810      7.654      0.000      55.838      94.334\n",
      "월_3               81.7555      7.338     11.141      0.000      67.357      96.154\n",
      "월_4               70.1210      7.125      9.842      0.000      56.142      84.100\n",
      "월_5               49.8014      8.026      6.205      0.000      34.054      65.549\n",
      "월_6               38.4469      9.097      4.227      0.000      20.599      56.295\n",
      "월_7               39.4119      9.474      4.160      0.000      20.824      58.000\n",
      "월_8              109.5760     10.868     10.083      0.000      88.253     130.899\n",
      "월_9               70.3469      8.541      8.236      0.000      53.589      87.105\n",
      "월_10              79.6931      7.341     10.855      0.000      65.289      94.097\n",
      "월_11              50.7220      7.723      6.568      0.000      35.569      65.875\n",
      "월_12              17.8065     10.194      1.747      0.081      -2.195      37.808\n",
      "요일_금             212.0973     12.556     16.892      0.000     187.461     236.733\n",
      "요일_목             117.7751      6.114     19.263      0.000     105.779     129.771\n",
      "요일_수             162.9330      8.011     20.339      0.000     147.215     178.651\n",
      "요일_월              83.8138     11.037      7.594      0.000      62.159     105.469\n",
      "요일_화             115.4855      6.553     17.624      0.000     102.629     128.342\n",
      "국분류_국             98.0400      9.349     10.487      0.000      79.697     116.383\n",
      "국분류_국수           111.8969     10.614     10.543      0.000      91.072     132.722\n",
      "국분류_스프           118.9026     13.875      8.570      0.000      91.680     146.126\n",
      "국분류_죽            179.0687     59.956      2.987      0.003      61.431     296.706\n",
      "국분류_찌개            91.2383     10.204      8.942      0.000      71.218     111.258\n",
      "국분류_탕             92.9582     10.141      9.166      0.000      73.061     112.856\n",
      "메뉴분류_기타          173.3268      5.966     29.052      0.000     161.621     185.033\n",
      "메뉴분류_육류          176.9440      5.459     32.415      0.000     166.234     187.654\n",
      "메뉴분류_조류          175.8998      6.749     26.062      0.000     162.657     189.142\n",
      "메뉴분류_해산물         165.9341      5.627     29.488      0.000     154.893     176.975\n",
      "==============================================================================\n",
      "Omnibus:                      178.026   Durbin-Watson:                   1.589\n",
      "Prob(Omnibus):                  0.000   Jarque-Bera (JB):             1101.765\n",
      "Skew:                          -0.540   Prob(JB):                    5.68e-240\n",
      "Kurtosis:                       7.649   Cond. No.                     1.20e+16\n",
      "==============================================================================\n",
      "\n",
      "Notes:\n",
      "[1] Standard Errors assume that the covariance matrix of the errors is correctly specified.\n",
      "[2] The smallest eigenvalue is 1.87e-29. This might indicate that there are\n",
      "strong multicollinearity problems or that the design matrix is singular.\n",
      "본사정원수             -33.162851\n",
      "본사휴가자수            -36.977489\n",
      "본사출장자수            -26.851887\n",
      "본사시간외근무명령서승인건수     70.857757\n",
      "현본사소속재택근무자수       -15.395128\n",
      "식사가능인원             14.236353\n",
      "석식기온                8.596298\n",
      "석식강수량               4.868270\n",
      "확진자수                7.349263\n",
      "석식강수여부              2.328098\n",
      "휴일전날              -13.477108\n",
      "휴일다음날              49.946002\n",
      "월_1                 9.337311\n",
      "월_2                75.086272\n",
      "월_3                81.755497\n",
      "월_4                70.120954\n",
      "월_5                49.801378\n",
      "월_6                38.446949\n",
      "월_7                39.411885\n",
      "월_8               109.576040\n",
      "월_9                70.346887\n",
      "월_10               79.693051\n",
      "월_11               50.722005\n",
      "월_12               17.806492\n",
      "요일_금              212.097282\n",
      "요일_목              117.775134\n",
      "요일_수              162.932986\n",
      "요일_월               83.813807\n",
      "요일_화              115.485510\n",
      "국분류_국              98.040026\n",
      "국분류_국수            111.896887\n",
      "국분류_스프            118.902576\n",
      "국분류_죽             179.068737\n",
      "국분류_찌개             91.238326\n",
      "국분류_탕              92.958169\n",
      "메뉴분류_기타           173.326843\n",
      "메뉴분류_육류           176.943955\n",
      "메뉴분류_조류           175.899812\n",
      "메뉴분류_해산물          165.934110\n",
      "dtype: float64\n"
     ]
    }
   ],
   "metadata": {}
  },
  {
   "cell_type": "markdown",
   "source": [
    "## 릿지"
   ],
   "metadata": {}
  },
  {
   "cell_type": "markdown",
   "source": [
    "### 점심"
   ],
   "metadata": {}
  },
  {
   "cell_type": "code",
   "execution_count": 299,
   "source": [
    "from sklearn.linear_model import Ridge\r\n",
    "\r\n",
    "param_grid = {'alpha':[0.001, 0.01, 0.1, 1,10,50]}\r\n",
    "gird_search = GridSearchCV(Ridge(),param_grid, cv=5, scoring='r2')\r\n",
    "\r\n",
    "gird_search.fit(X_train,y_train)\r\n",
    "\r\n",
    "pre =gird_search.predict(X_test)\r\n",
    "\r\n",
    "print('RMSE=',np.sqrt(mean_squared_error(y_test, pre)))\r\n",
    "print('MAE=',mean_absolute_error(y_test, pre))\r\n",
    "print('r2score=',r2_score(y_test, pre))"
   ],
   "outputs": [
    {
     "output_type": "stream",
     "name": "stdout",
     "text": [
      "RMSE= 85.32728546602705\n",
      "MAE= 64.74543378797307\n",
      "r2score= 0.8315901948562823\n"
     ]
    }
   ],
   "metadata": {}
  },
  {
   "cell_type": "code",
   "execution_count": 300,
   "source": [
    "perm = PermutationImportance(gird_search, random_state = 42).fit(X_train,y_train) \r\n",
    "#eli5.show_weights(perm, top = 20, feature_names = X_train.columns.tolist(),include_styles=True)\r\n",
    "eli5.explain_weights_df(perm,feature_names= X_train.columns.tolist()).head(10)"
   ],
   "outputs": [
    {
     "output_type": "execute_result",
     "data": {
      "text/html": [
       "<div>\n",
       "<style scoped>\n",
       "    .dataframe tbody tr th:only-of-type {\n",
       "        vertical-align: middle;\n",
       "    }\n",
       "\n",
       "    .dataframe tbody tr th {\n",
       "        vertical-align: top;\n",
       "    }\n",
       "\n",
       "    .dataframe thead th {\n",
       "        text-align: right;\n",
       "    }\n",
       "</style>\n",
       "<table border=\"1\" class=\"dataframe\">\n",
       "  <thead>\n",
       "    <tr style=\"text-align: right;\">\n",
       "      <th></th>\n",
       "      <th>feature</th>\n",
       "      <th>weight</th>\n",
       "      <th>std</th>\n",
       "    </tr>\n",
       "  </thead>\n",
       "  <tbody>\n",
       "    <tr>\n",
       "      <th>0</th>\n",
       "      <td>휴일다음날</td>\n",
       "      <td>0.226832</td>\n",
       "      <td>0.009667</td>\n",
       "    </tr>\n",
       "    <tr>\n",
       "      <th>1</th>\n",
       "      <td>본사휴가자수</td>\n",
       "      <td>0.204349</td>\n",
       "      <td>0.005022</td>\n",
       "    </tr>\n",
       "    <tr>\n",
       "      <th>2</th>\n",
       "      <td>본사출장자수</td>\n",
       "      <td>0.188311</td>\n",
       "      <td>0.008677</td>\n",
       "    </tr>\n",
       "    <tr>\n",
       "      <th>3</th>\n",
       "      <td>본사정원수</td>\n",
       "      <td>0.094038</td>\n",
       "      <td>0.009324</td>\n",
       "    </tr>\n",
       "    <tr>\n",
       "      <th>4</th>\n",
       "      <td>본사시간외근무명령서승인건수</td>\n",
       "      <td>0.065789</td>\n",
       "      <td>0.006084</td>\n",
       "    </tr>\n",
       "    <tr>\n",
       "      <th>5</th>\n",
       "      <td>확진자수</td>\n",
       "      <td>0.038091</td>\n",
       "      <td>0.001350</td>\n",
       "    </tr>\n",
       "    <tr>\n",
       "      <th>6</th>\n",
       "      <td>식사가능인원</td>\n",
       "      <td>0.030582</td>\n",
       "      <td>0.002613</td>\n",
       "    </tr>\n",
       "    <tr>\n",
       "      <th>7</th>\n",
       "      <td>휴일전날</td>\n",
       "      <td>0.027010</td>\n",
       "      <td>0.001665</td>\n",
       "    </tr>\n",
       "    <tr>\n",
       "      <th>8</th>\n",
       "      <td>월_8</td>\n",
       "      <td>0.025535</td>\n",
       "      <td>0.003771</td>\n",
       "    </tr>\n",
       "    <tr>\n",
       "      <th>9</th>\n",
       "      <td>요일_수</td>\n",
       "      <td>0.020279</td>\n",
       "      <td>0.002291</td>\n",
       "    </tr>\n",
       "  </tbody>\n",
       "</table>\n",
       "</div>"
      ],
      "text/plain": [
       "          feature    weight       std\n",
       "0           휴일다음날  0.226832  0.009667\n",
       "1          본사휴가자수  0.204349  0.005022\n",
       "2          본사출장자수  0.188311  0.008677\n",
       "3           본사정원수  0.094038  0.009324\n",
       "4  본사시간외근무명령서승인건수  0.065789  0.006084\n",
       "5            확진자수  0.038091  0.001350\n",
       "6          식사가능인원  0.030582  0.002613\n",
       "7            휴일전날  0.027010  0.001665\n",
       "8             월_8  0.025535  0.003771\n",
       "9            요일_수  0.020279  0.002291"
      ]
     },
     "metadata": {},
     "execution_count": 300
    }
   ],
   "metadata": {}
  },
  {
   "cell_type": "markdown",
   "source": [
    "### 저녁"
   ],
   "metadata": {}
  },
  {
   "cell_type": "code",
   "execution_count": 301,
   "source": [
    "from sklearn.linear_model import Ridge\r\n",
    "\r\n",
    "aram_grid = {'alpha':[0.001, 0.01, 0.1, 1,10,50]}\r\n",
    "gird_search = GridSearchCV(Ridge(),param_grid, cv=5, scoring='neg_mean_absolute_error')\r\n",
    "\r\n",
    "gird_search.fit(X2_train,y2_train)\r\n",
    "pre =gird_search.predict(X2_test)\r\n",
    "print('RMSE=',np.sqrt(mean_squared_error(y2_test, pre)))\r\n",
    "print('MAE=',mean_absolute_error(y2_test, pre))\r\n",
    "print('r2score=',r2_score(y2_test, pre))"
   ],
   "outputs": [
    {
     "output_type": "stream",
     "name": "stdout",
     "text": [
      "RMSE= 67.33014821541941\n",
      "MAE= 49.335282477547416\n",
      "r2score= 0.6132683315722018\n"
     ]
    }
   ],
   "metadata": {}
  },
  {
   "cell_type": "code",
   "execution_count": 302,
   "source": [
    "perm = PermutationImportance(gird_search, random_state = 42).fit(X2_train,y2_train) \r\n",
    "#eli5.show_weights(perm, top = 20, feature_names = X2_train.columns.tolist(),include_styles=True)\r\n",
    "eli5.explain_weights_df(perm,feature_names= X2_train.columns.tolist()).head(10)"
   ],
   "outputs": [
    {
     "output_type": "execute_result",
     "data": {
      "text/html": [
       "<div>\n",
       "<style scoped>\n",
       "    .dataframe tbody tr th:only-of-type {\n",
       "        vertical-align: middle;\n",
       "    }\n",
       "\n",
       "    .dataframe tbody tr th {\n",
       "        vertical-align: top;\n",
       "    }\n",
       "\n",
       "    .dataframe thead th {\n",
       "        text-align: right;\n",
       "    }\n",
       "</style>\n",
       "<table border=\"1\" class=\"dataframe\">\n",
       "  <thead>\n",
       "    <tr style=\"text-align: right;\">\n",
       "      <th></th>\n",
       "      <th>feature</th>\n",
       "      <th>weight</th>\n",
       "      <th>std</th>\n",
       "    </tr>\n",
       "  </thead>\n",
       "  <tbody>\n",
       "    <tr>\n",
       "      <th>0</th>\n",
       "      <td>본사시간외근무명령서승인건수</td>\n",
       "      <td>40.142234</td>\n",
       "      <td>0.812379</td>\n",
       "    </tr>\n",
       "    <tr>\n",
       "      <th>1</th>\n",
       "      <td>본사정원수</td>\n",
       "      <td>13.824197</td>\n",
       "      <td>0.581093</td>\n",
       "    </tr>\n",
       "    <tr>\n",
       "      <th>2</th>\n",
       "      <td>본사휴가자수</td>\n",
       "      <td>11.923804</td>\n",
       "      <td>0.683008</td>\n",
       "    </tr>\n",
       "    <tr>\n",
       "      <th>3</th>\n",
       "      <td>본사출장자수</td>\n",
       "      <td>7.424029</td>\n",
       "      <td>0.477284</td>\n",
       "    </tr>\n",
       "    <tr>\n",
       "      <th>4</th>\n",
       "      <td>요일_금</td>\n",
       "      <td>4.150271</td>\n",
       "      <td>0.404493</td>\n",
       "    </tr>\n",
       "    <tr>\n",
       "      <th>5</th>\n",
       "      <td>식사가능인원</td>\n",
       "      <td>2.493824</td>\n",
       "      <td>0.280651</td>\n",
       "    </tr>\n",
       "    <tr>\n",
       "      <th>6</th>\n",
       "      <td>휴일다음날</td>\n",
       "      <td>2.489284</td>\n",
       "      <td>0.355516</td>\n",
       "    </tr>\n",
       "    <tr>\n",
       "      <th>7</th>\n",
       "      <td>현본사소속재택근무자수</td>\n",
       "      <td>2.487946</td>\n",
       "      <td>0.362430</td>\n",
       "    </tr>\n",
       "    <tr>\n",
       "      <th>8</th>\n",
       "      <td>석식기온</td>\n",
       "      <td>2.248876</td>\n",
       "      <td>0.321946</td>\n",
       "    </tr>\n",
       "    <tr>\n",
       "      <th>9</th>\n",
       "      <td>요일_월</td>\n",
       "      <td>2.236395</td>\n",
       "      <td>0.248042</td>\n",
       "    </tr>\n",
       "  </tbody>\n",
       "</table>\n",
       "</div>"
      ],
      "text/plain": [
       "          feature     weight       std\n",
       "0  본사시간외근무명령서승인건수  40.142234  0.812379\n",
       "1           본사정원수  13.824197  0.581093\n",
       "2          본사휴가자수  11.923804  0.683008\n",
       "3          본사출장자수   7.424029  0.477284\n",
       "4            요일_금   4.150271  0.404493\n",
       "5          식사가능인원   2.493824  0.280651\n",
       "6           휴일다음날   2.489284  0.355516\n",
       "7     현본사소속재택근무자수   2.487946  0.362430\n",
       "8            석식기온   2.248876  0.321946\n",
       "9            요일_월   2.236395  0.248042"
      ]
     },
     "metadata": {},
     "execution_count": 302
    }
   ],
   "metadata": {}
  },
  {
   "cell_type": "markdown",
   "source": [
    "## 라쏘"
   ],
   "metadata": {}
  },
  {
   "cell_type": "markdown",
   "source": [
    "### 점심"
   ],
   "metadata": {}
  },
  {
   "cell_type": "code",
   "execution_count": 303,
   "source": [
    "from sklearn.linear_model import Lasso #라쏘\r\n",
    "\r\n",
    "\r\n",
    "param_grid = {'alpha':[0.001, 0.01, 0.1, 1,10,50]}\r\n",
    "gird_search = GridSearchCV(Lasso(),param_grid, cv=5, scoring='neg_mean_absolute_error')\r\n",
    "\r\n",
    "gird_search.fit(X_train,y_train)\r\n",
    "pre =gird_search.predict(X_test)\r\n",
    "print('RMSE=',np.sqrt(mean_squared_error(y_test, pre)))\r\n",
    "print('MAE=',mean_absolute_error(y_test, pre))\r\n",
    "print('r2score=',r2_score(y_test, pre))"
   ],
   "outputs": [
    {
     "output_type": "stream",
     "name": "stdout",
     "text": [
      "RMSE= 85.49036925616169\n",
      "MAE= 64.9282494086774\n",
      "r2score= 0.830945825223593\n"
     ]
    }
   ],
   "metadata": {}
  },
  {
   "cell_type": "code",
   "execution_count": 304,
   "source": [
    "perm = PermutationImportance(gird_search, random_state = 42).fit(X_train,y_train) \r\n",
    "#eli5.show_weights(perm, top = 20, feature_names = X_train.columns.tolist(),include_styles=True)\r\n",
    "eli5.explain_weights_df(perm,feature_names= X_train.columns.tolist()).head(10)"
   ],
   "outputs": [
    {
     "output_type": "execute_result",
     "data": {
      "text/html": [
       "<div>\n",
       "<style scoped>\n",
       "    .dataframe tbody tr th:only-of-type {\n",
       "        vertical-align: middle;\n",
       "    }\n",
       "\n",
       "    .dataframe tbody tr th {\n",
       "        vertical-align: top;\n",
       "    }\n",
       "\n",
       "    .dataframe thead th {\n",
       "        text-align: right;\n",
       "    }\n",
       "</style>\n",
       "<table border=\"1\" class=\"dataframe\">\n",
       "  <thead>\n",
       "    <tr style=\"text-align: right;\">\n",
       "      <th></th>\n",
       "      <th>feature</th>\n",
       "      <th>weight</th>\n",
       "      <th>std</th>\n",
       "    </tr>\n",
       "  </thead>\n",
       "  <tbody>\n",
       "    <tr>\n",
       "      <th>0</th>\n",
       "      <td>본사휴가자수</td>\n",
       "      <td>44.327838</td>\n",
       "      <td>0.825267</td>\n",
       "    </tr>\n",
       "    <tr>\n",
       "      <th>1</th>\n",
       "      <td>본사출장자수</td>\n",
       "      <td>39.706778</td>\n",
       "      <td>2.456872</td>\n",
       "    </tr>\n",
       "    <tr>\n",
       "      <th>2</th>\n",
       "      <td>휴일다음날</td>\n",
       "      <td>38.918945</td>\n",
       "      <td>0.794170</td>\n",
       "    </tr>\n",
       "    <tr>\n",
       "      <th>3</th>\n",
       "      <td>본사시간외근무명령서승인건수</td>\n",
       "      <td>12.807350</td>\n",
       "      <td>1.054257</td>\n",
       "    </tr>\n",
       "    <tr>\n",
       "      <th>4</th>\n",
       "      <td>휴일전날</td>\n",
       "      <td>6.395412</td>\n",
       "      <td>0.594562</td>\n",
       "    </tr>\n",
       "    <tr>\n",
       "      <th>5</th>\n",
       "      <td>월_8</td>\n",
       "      <td>6.282272</td>\n",
       "      <td>0.657400</td>\n",
       "    </tr>\n",
       "    <tr>\n",
       "      <th>6</th>\n",
       "      <td>요일_수</td>\n",
       "      <td>5.918574</td>\n",
       "      <td>0.392965</td>\n",
       "    </tr>\n",
       "    <tr>\n",
       "      <th>7</th>\n",
       "      <td>확진자수</td>\n",
       "      <td>5.143142</td>\n",
       "      <td>0.274009</td>\n",
       "    </tr>\n",
       "    <tr>\n",
       "      <th>8</th>\n",
       "      <td>본사정원수</td>\n",
       "      <td>4.065329</td>\n",
       "      <td>0.959992</td>\n",
       "    </tr>\n",
       "    <tr>\n",
       "      <th>9</th>\n",
       "      <td>월_12</td>\n",
       "      <td>3.080760</td>\n",
       "      <td>0.766291</td>\n",
       "    </tr>\n",
       "  </tbody>\n",
       "</table>\n",
       "</div>"
      ],
      "text/plain": [
       "          feature     weight       std\n",
       "0          본사휴가자수  44.327838  0.825267\n",
       "1          본사출장자수  39.706778  2.456872\n",
       "2           휴일다음날  38.918945  0.794170\n",
       "3  본사시간외근무명령서승인건수  12.807350  1.054257\n",
       "4            휴일전날   6.395412  0.594562\n",
       "5             월_8   6.282272  0.657400\n",
       "6            요일_수   5.918574  0.392965\n",
       "7            확진자수   5.143142  0.274009\n",
       "8           본사정원수   4.065329  0.959992\n",
       "9            월_12   3.080760  0.766291"
      ]
     },
     "metadata": {},
     "execution_count": 304
    }
   ],
   "metadata": {}
  },
  {
   "cell_type": "code",
   "execution_count": 305,
   "source": [
    "from sklearn.linear_model import Lasso #라쏘\r\n",
    "for alpha in [0.1, 0.5, 1, 10, 100]:\r\n",
    "    model_lasso = Lasso(alpha=alpha)\r\n",
    "    model_lasso.fit(X_train, y_train)\r\n",
    "    \r\n",
    "    pre =model_lasso.predict(X_test)\r\n",
    "    \r\n",
    "    print(f'--------------alpha{alpha}값----------------')\r\n",
    "    print('R2score=',model_lasso.score(X_test, y_test)) #R2값 1일수록 좋은것\r\n",
    "    print('RMSE=',np.sqrt(mean_squared_error(y_test, pre)))\r\n",
    "    print('MAE=',mean_absolute_error(y_test, pre))\r\n",
    "\r\n",
    "\r\n",
    "model_lasso = Lasso(alpha=1)\r\n",
    "model_lasso.fit(X_train, y_train)\r\n",
    "pre =model_lasso.predict(X_test)\r\n",
    "\r\n",
    "plt.figure(figsize=(10,5))\r\n",
    "sns.kdeplot(y_test, label='y_test')\r\n",
    "sns.kdeplot(pre, label='y_hat')\r\n",
    "\r\n",
    "plt.title(f'alpha값 {1}일때')\r\n",
    "plt.legend()\r\n",
    "plt.show()  \r\n",
    "\r\n"
   ],
   "outputs": [
    {
     "output_type": "stream",
     "name": "stdout",
     "text": [
      "--------------alpha0.1값----------------\n",
      "R2score= 0.830945825223593\n",
      "RMSE= 85.49036925616169\n",
      "MAE= 64.9282494086774\n",
      "--------------alpha0.5값----------------\n",
      "R2score= 0.8304810784304162\n",
      "RMSE= 85.60779938204583\n",
      "MAE= 65.0840049886421\n",
      "--------------alpha1값----------------\n",
      "R2score= 0.8283592541217424\n",
      "RMSE= 86.1418985782364\n",
      "MAE= 65.56254813757852\n",
      "--------------alpha10값----------------\n",
      "R2score= 0.743632574963538\n",
      "RMSE= 105.27752429932087\n",
      "MAE= 81.06158133605028\n",
      "--------------alpha100값----------------\n",
      "R2score= 0.062456793488719686\n",
      "RMSE= 201.32601092000738\n",
      "MAE= 158.71597507292617\n"
     ]
    },
    {
     "output_type": "display_data",
     "data": {
      "image/png": "[encoded data removed]",
      "text/plain": [
       "<Figure size 720x360 with 1 Axes>"
      ]
     },
     "metadata": {
      "needs_background": "light"
     }
    }
   ],
   "metadata": {}
  },
  {
   "cell_type": "markdown",
   "source": [
    "### 저녁"
   ],
   "metadata": {}
  },
  {
   "cell_type": "code",
   "execution_count": 306,
   "source": [
    "\r\n",
    "param_grid = {'alpha':[0.001, 0.01, 0.1, 1,10,50]}\r\n",
    "gird_search = GridSearchCV(Lasso(),param_grid, cv=5, scoring='neg_mean_absolute_error')\r\n",
    "\r\n",
    "gird_search.fit(X2_train,y2_train)\r\n",
    "pre =gird_search.predict(X2_test)\r\n",
    "print('RMSE=',np.sqrt(mean_squared_error(y2_test, pre)))\r\n",
    "print('MAE=',mean_absolute_error(y2_test, pre))\r\n",
    "print('r2score=',r2_score(y2_test, pre))"
   ],
   "outputs": [
    {
     "output_type": "stream",
     "name": "stdout",
     "text": [
      "RMSE= 67.04851312652404\n",
      "MAE= 49.24862692655915\n",
      "r2score= 0.6164968827028605\n"
     ]
    }
   ],
   "metadata": {}
  },
  {
   "cell_type": "code",
   "execution_count": 307,
   "source": [
    "perm = PermutationImportance(gird_search, random_state = 42).fit(X2_train,y2_train) \r\n",
    "#eli5.show_weights(perm, top = 20, feature_names = X_train.columns.tolist(),include_styles=True)\r\n",
    "eli5.explain_weights_df(perm,feature_names= X2_train.columns.tolist()).head(10)"
   ],
   "outputs": [
    {
     "output_type": "execute_result",
     "data": {
      "text/html": [
       "<div>\n",
       "<style scoped>\n",
       "    .dataframe tbody tr th:only-of-type {\n",
       "        vertical-align: middle;\n",
       "    }\n",
       "\n",
       "    .dataframe tbody tr th {\n",
       "        vertical-align: top;\n",
       "    }\n",
       "\n",
       "    .dataframe thead th {\n",
       "        text-align: right;\n",
       "    }\n",
       "</style>\n",
       "<table border=\"1\" class=\"dataframe\">\n",
       "  <thead>\n",
       "    <tr style=\"text-align: right;\">\n",
       "      <th></th>\n",
       "      <th>feature</th>\n",
       "      <th>weight</th>\n",
       "      <th>std</th>\n",
       "    </tr>\n",
       "  </thead>\n",
       "  <tbody>\n",
       "    <tr>\n",
       "      <th>0</th>\n",
       "      <td>본사시간외근무명령서승인건수</td>\n",
       "      <td>44.597766</td>\n",
       "      <td>0.835158</td>\n",
       "    </tr>\n",
       "    <tr>\n",
       "      <th>1</th>\n",
       "      <td>본사휴가자수</td>\n",
       "      <td>18.578760</td>\n",
       "      <td>0.877655</td>\n",
       "    </tr>\n",
       "    <tr>\n",
       "      <th>2</th>\n",
       "      <td>요일_금</td>\n",
       "      <td>12.176981</td>\n",
       "      <td>0.339852</td>\n",
       "    </tr>\n",
       "    <tr>\n",
       "      <th>3</th>\n",
       "      <td>본사출장자수</td>\n",
       "      <td>10.422970</td>\n",
       "      <td>0.572363</td>\n",
       "    </tr>\n",
       "    <tr>\n",
       "      <th>4</th>\n",
       "      <td>현본사소속재택근무자수</td>\n",
       "      <td>6.520004</td>\n",
       "      <td>0.593369</td>\n",
       "    </tr>\n",
       "    <tr>\n",
       "      <th>5</th>\n",
       "      <td>본사정원수</td>\n",
       "      <td>5.751006</td>\n",
       "      <td>0.556210</td>\n",
       "    </tr>\n",
       "    <tr>\n",
       "      <th>6</th>\n",
       "      <td>휴일다음날</td>\n",
       "      <td>5.308691</td>\n",
       "      <td>0.547784</td>\n",
       "    </tr>\n",
       "    <tr>\n",
       "      <th>7</th>\n",
       "      <td>요일_수</td>\n",
       "      <td>4.690192</td>\n",
       "      <td>0.526003</td>\n",
       "    </tr>\n",
       "    <tr>\n",
       "      <th>8</th>\n",
       "      <td>요일_월</td>\n",
       "      <td>1.809408</td>\n",
       "      <td>0.228336</td>\n",
       "    </tr>\n",
       "    <tr>\n",
       "      <th>9</th>\n",
       "      <td>월_8</td>\n",
       "      <td>1.759971</td>\n",
       "      <td>0.457108</td>\n",
       "    </tr>\n",
       "  </tbody>\n",
       "</table>\n",
       "</div>"
      ],
      "text/plain": [
       "          feature     weight       std\n",
       "0  본사시간외근무명령서승인건수  44.597766  0.835158\n",
       "1          본사휴가자수  18.578760  0.877655\n",
       "2            요일_금  12.176981  0.339852\n",
       "3          본사출장자수  10.422970  0.572363\n",
       "4     현본사소속재택근무자수   6.520004  0.593369\n",
       "5           본사정원수   5.751006  0.556210\n",
       "6           휴일다음날   5.308691  0.547784\n",
       "7            요일_수   4.690192  0.526003\n",
       "8            요일_월   1.809408  0.228336\n",
       "9             월_8   1.759971  0.457108"
      ]
     },
     "metadata": {},
     "execution_count": 307
    }
   ],
   "metadata": {}
  },
  {
   "cell_type": "code",
   "execution_count": 308,
   "source": [
    "for alpha in [0.1, 0.5, 1, 10, 100]:\r\n",
    "    model_lasso = Lasso(alpha=alpha)\r\n",
    "    model_lasso.fit(X2_train, y2_train)\r\n",
    "    \r\n",
    "    pre =model_lasso.predict(X2_test)\r\n",
    "    pre =np.round(pre,0)\r\n",
    "\r\n",
    "    print(f'--------------alpha{alpha}값----------------')\r\n",
    "    print(model_lasso.score(X2_test, y2_test))\r\n",
    "    print('RMSE=',np.sqrt(mean_squared_error(y2_test, pre)))\r\n",
    "    print('MAE=',mean_absolute_error(y2_test, pre))\r\n",
    "\r\n",
    "model_lasso = Lasso(alpha=0.5)\r\n",
    "model_lasso.fit(X2_train, y2_train)\r\n",
    "print(model_lasso.score(X2_test, y2_test))\r\n",
    "pre =model_lasso.predict(X2_test)\r\n",
    "pre =np.round(pre,0)\r\n",
    "plt.figure(figsize=(10,5))\r\n",
    "ax1 = sns.kdeplot(y2_test, label='y_test')\r\n",
    "ax2 = sns.kdeplot(pre, label='y_hat', ax=ax1)\r\n",
    "plt.title(f'alpha값 {0.5}일때')\r\n",
    "plt.legend()\r\n",
    "plt.show()"
   ],
   "outputs": [
    {
     "output_type": "stream",
     "name": "stdout",
     "text": [
      "--------------alpha0.1값----------------\n",
      "0.6164968827028605\n",
      "RMSE= 67.04029494365165\n",
      "MAE= 49.22636103151862\n",
      "--------------alpha0.5값----------------\n",
      "0.6163828166715011\n",
      "RMSE= 67.07274842782195\n",
      "MAE= 49.46991404011462\n",
      "--------------alpha1값----------------\n",
      "0.6062816184399995\n",
      "RMSE= 67.94536824466094\n",
      "MAE= 50.55587392550143\n",
      "--------------alpha10값----------------\n",
      "0.49360445808540643\n",
      "RMSE= 77.07665592286779\n",
      "MAE= 59.080229226361034\n",
      "--------------alpha100값----------------\n",
      "-0.007465494955759988\n",
      "RMSE= 108.70067468152055\n",
      "MAE= 82.5243553008596\n",
      "0.6163828166715011\n"
     ]
    },
    {
     "output_type": "display_data",
     "data": {
      "image/png": "[encoded data removed]",
      "text/plain": [
       "<Figure size 720x360 with 1 Axes>"
      ]
     },
     "metadata": {
      "needs_background": "light"
     }
    }
   ],
   "metadata": {}
  },
  {
   "cell_type": "markdown",
   "source": [
    "## SVM"
   ],
   "metadata": {}
  },
  {
   "cell_type": "code",
   "execution_count": 309,
   "source": [
    "from sklearn import svm"
   ],
   "outputs": [],
   "metadata": {}
  },
  {
   "cell_type": "markdown",
   "source": [
    "### 점심"
   ],
   "metadata": {}
  },
  {
   "cell_type": "code",
   "execution_count": 310,
   "source": [
    "\r\n",
    "clf = svm.SVC(kernel = 'linear') #다른파라메터 넣어봐도 큰 변화 없음 gamma 등\r\n",
    "clf.fit(X_train,y_train)\r\n",
    "pre_clf =clf.predict(X_test)\r\n",
    "\r\n",
    "print('r2=',r2_score(y_test,pre_clf))\r\n",
    "print('RMSE=',np.sqrt(np.sqrt(mean_squared_error(y_test, pre_clf))))\r\n",
    "print('MAE=',mean_absolute_error(y_test, pre_clf))\r\n",
    "\r\n",
    "plt.figure(figsize=(10,5))\r\n",
    "ax1 = sns.kdeplot(y_test, label='y_test')\r\n",
    "ax2 = sns.kdeplot(pre_clf, label='y_hat', ax=ax1)\r\n",
    "plt.legend()\r\n",
    "plt.show()"
   ],
   "outputs": [
    {
     "output_type": "stream",
     "name": "stdout",
     "text": [
      "r2= 0.6724463923085617\n",
      "RMSE= 10.908692962613335\n",
      "MAE= 90.20441988950276\n"
     ]
    },
    {
     "output_type": "display_data",
     "data": {
      "image/png": "[encoded data removed]",
      "text/plain": [
       "<Figure size 720x360 with 1 Axes>"
      ]
     },
     "metadata": {
      "needs_background": "light"
     }
    }
   ],
   "metadata": {}
  },
  {
   "cell_type": "markdown",
   "source": [
    "### 저녁"
   ],
   "metadata": {}
  },
  {
   "cell_type": "code",
   "execution_count": 311,
   "source": [
    "clf = svm.SVC(kernel = 'linear', max_iter=-1)\r\n",
    "clf.fit(X2_train,y2_train)\r\n",
    "pre_clf =clf.predict(X2_test)\r\n",
    "\r\n",
    "print('r2=',r2_score(y2_test,pre_clf))\r\n",
    "print('RMSE=',np.sqrt(mean_squared_error(y2_test, pre_clf)))\r\n",
    "print('MAE=',mean_absolute_error(y2_test, pre_clf))\r\n",
    "\r\n",
    "plt.figure(figsize=(10,5))\r\n",
    "ax1 = sns.kdeplot(y2_test, label='y_test')\r\n",
    "ax2 = sns.kdeplot(pre_clf, label='y_hat', ax=ax1)\r\n",
    "plt.legend()\r\n",
    "plt.show()"
   ],
   "outputs": [
    {
     "output_type": "stream",
     "name": "stdout",
     "text": [
      "r2= 0.3434312147016467\n",
      "RMSE= 87.72933107054881\n",
      "MAE= 65.11747851002865\n"
     ]
    },
    {
     "output_type": "display_data",
     "data": {
      "image/png": "[encoded data removed]",
      "text/plain": [
       "<Figure size 720x360 with 1 Axes>"
      ]
     },
     "metadata": {
      "needs_background": "light"
     }
    }
   ],
   "metadata": {}
  },
  {
   "cell_type": "markdown",
   "source": [
    "## xgboost"
   ],
   "metadata": {}
  },
  {
   "cell_type": "code",
   "execution_count": 312,
   "source": [
    "from sklearn.model_selection import GridSearchCV\r\n",
    "import xgboost as xgb\r\n",
    "from xgboost import XGBRegressor"
   ],
   "outputs": [],
   "metadata": {}
  },
  {
   "cell_type": "markdown",
   "source": [
    "### 점식"
   ],
   "metadata": {}
  },
  {
   "cell_type": "code",
   "execution_count": 313,
   "source": [
    "'''param = {\r\n",
    "    'max_depth':[2,3,4],\r\n",
    "    'n_estimators':range(300,600,100), #  'n_estimators':range(600,700,50) 여기에 cv 10 (이거와 별반차이가 없다.)\r\n",
    "    'colsample_bytree':[0.5,0.7,1],\r\n",
    "    'colsample_bylevel':[0.5,0.7,1],\r\n",
    "}\r\n",
    "\r\n",
    "model = xgb.XGBRegressor()\r\n",
    "grid_search = GridSearchCV(estimator=model, param_grid=param, cv=10, \r\n",
    "                           scoring='neg_mean_squared_error',\r\n",
    "                           n_jobs=-1)\r\n",
    "\r\n",
    "grid_search.fit(X_train, y_train)\r\n",
    "\r\n",
    "pre = grid_search.predict(X_test)\r\n",
    "\r\n",
    "print(grid_search.score(X_test,y_test))\r\n",
    "print('RMSE=',np.sqrt(mean_squared_error(y_test, pre)))\r\n",
    "print('MAE=',mean_absolute_error(y_test, pre))\r\n",
    "\r\n",
    "with open('model_rf/XG_lunch_estimator.pickle','wb') as fw: #저장\r\n",
    "    pickle.dump(grid_search.best_estimator_, fw)\r\n",
    "'''"
   ],
   "outputs": [
    {
     "output_type": "execute_result",
     "data": {
      "text/plain": [
       "\"param = {\\n    'max_depth':[2,3,4],\\n    'n_estimators':range(300,600,100), #  'n_estimators':range(600,700,50) 여기에 cv 10 (이거와 별반차이가 없다.)\\n    'colsample_bytree':[0.5,0.7,1],\\n    'colsample_bylevel':[0.5,0.7,1],\\n}\\n\\nmodel = xgb.XGBRegressor()\\ngrid_search = GridSearchCV(estimator=model, param_grid=param, cv=10, \\n                           scoring='neg_mean_squared_error',\\n                           n_jobs=-1)\\n\\ngrid_search.fit(X_train, y_train)\\n\\npre = grid_search.predict(X_test)\\n\\nprint(grid_search.score(X_test,y_test))\\nprint('RMSE=',np.sqrt(mean_squared_error(y_test, pre)))\\nprint('MAE=',mean_absolute_error(y_test, pre))\\n\\nwith open('model_rf/XG_lunch_estimator.pickle','wb') as fw: #저장\\n    pickle.dump(grid_search.best_estimator_, fw)\\n\""
      ]
     },
     "metadata": {},
     "execution_count": 313
    }
   ],
   "metadata": {}
  },
  {
   "cell_type": "code",
   "execution_count": 314,
   "source": [
    "with open('model_rf/XG_lunch_estimator.pickle','rb') as f: #불러오기\r\n",
    "    XG_lunch_model = pickle.load(f)"
   ],
   "outputs": [],
   "metadata": {}
  },
  {
   "cell_type": "code",
   "execution_count": 315,
   "source": [
    "XG_lunch_model = XGBRegressor(base_score=0.5, booster='gbtree', colsample_bylevel=0.5,\r\n",
    "             colsample_bynode=1, colsample_bytree=0.5, gamma=0, gpu_id=-1,\r\n",
    "             importance_type='gain', interaction_constraints='',\r\n",
    "             learning_rate=0.300000012, max_delta_step=0, max_depth=2,\r\n",
    "             min_child_weight=1, monotone_constraints='()',\r\n",
    "             n_estimators=300, n_jobs=4, num_parallel_tree=1, random_state=0,\r\n",
    "             reg_alpha=0, reg_lambda=1, scale_pos_weight=1, subsample=1,\r\n",
    "             tree_method='exact', validate_parameters=1, verbosity=None)\r\n",
    "XG_lunch_model.fit(X_train,y_train)\r\n"
   ],
   "outputs": [
    {
     "output_type": "execute_result",
     "data": {
      "text/plain": [
       "XGBRegressor(base_score=0.5, booster='gbtree', colsample_bylevel=0.5,\n",
       "             colsample_bynode=1, colsample_bytree=0.5, gamma=0, gpu_id=-1,\n",
       "             importance_type='gain', interaction_constraints='',\n",
       "             learning_rate=0.300000012, max_delta_step=0, max_depth=2,\n",
       "             min_child_weight=1, missing=nan, monotone_constraints='()',\n",
       "             n_estimators=300, n_jobs=4, num_parallel_tree=1, random_state=0,\n",
       "             reg_alpha=0, reg_lambda=1, scale_pos_weight=1, subsample=1,\n",
       "             tree_method='exact', validate_parameters=1, verbosity=None)"
      ]
     },
     "metadata": {},
     "execution_count": 315
    }
   ],
   "metadata": {}
  },
  {
   "cell_type": "code",
   "execution_count": 316,
   "source": [
    "pre = XG_lunch_model.predict(X_test)\r\n",
    "print(XG_lunch_model.score(X_test,y_test))\r\n",
    "print('RMSE=',np.sqrt(mean_squared_error(y_test, pre)))\r\n",
    "print('MAE=',mean_absolute_error(y_test, pre))"
   ],
   "outputs": [
    {
     "output_type": "stream",
     "name": "stdout",
     "text": [
      "0.8192815277295004\n",
      "RMSE= 88.39048485070573\n",
      "MAE= 65.85229580705337\n"
     ]
    }
   ],
   "metadata": {}
  },
  {
   "cell_type": "markdown",
   "source": [
    "저녁"
   ],
   "metadata": {}
  },
  {
   "cell_type": "code",
   "execution_count": 317,
   "source": [
    "'''\r\n",
    "param = {\r\n",
    "    'max_depth':[2,3,4],\r\n",
    "    'n_estimators':range(300,600,100), #  'n_estimators':range(600,700,50) 여기에 cv 10 (이거와 별반차이가 없다.)\r\n",
    "    'colsample_bytree':[0.5,0.7,1],\r\n",
    "    'colsample_bylevel':[0.5,0.7,1],\r\n",
    "}\r\n",
    "\r\n",
    "model = xgb.XGBRegressor()\r\n",
    "grid_search = GridSearchCV(estimator=model, param_grid=param, cv=10, \r\n",
    "                           scoring='neg_mean_squared_error',\r\n",
    "                           n_jobs=-1)\r\n",
    "\r\n",
    "grid_search.fit(X2_train, y2_train)\r\n",
    "\r\n",
    "pre = grid_search.predict(X2_test)\r\n",
    "\r\n",
    "print(grid_search.score(X2_test,y2_test))\r\n",
    "print('RMSE=',np.sqrt(mean_squared_error(y2_test, pre)))\r\n",
    "print('MAE=',mean_absolute_error(y2_test, pre))\r\n",
    "\r\n",
    "with open('model_rf/XG_dinner_estimator.pickle','wb') as fw: ##저장\r\n",
    "    pickle.dump(grid_search.best_estimator_, fw)\r\n",
    "'''"
   ],
   "outputs": [
    {
     "output_type": "execute_result",
     "data": {
      "text/plain": [
       "\"\\nparam = {\\n    'max_depth':[2,3,4],\\n    'n_estimators':range(300,600,100), #  'n_estimators':range(600,700,50) 여기에 cv 10 (이거와 별반차이가 없다.)\\n    'colsample_bytree':[0.5,0.7,1],\\n    'colsample_bylevel':[0.5,0.7,1],\\n}\\n\\nmodel = xgb.XGBRegressor()\\ngrid_search = GridSearchCV(estimator=model, param_grid=param, cv=10, \\n                           scoring='neg_mean_squared_error',\\n                           n_jobs=-1)\\n\\ngrid_search.fit(X2_train, y2_train)\\n\\npre = grid_search.predict(X2_test)\\n\\nprint(grid_search.score(X2_test,y2_test))\\nprint('RMSE=',np.sqrt(mean_squared_error(y2_test, pre)))\\nprint('MAE=',mean_absolute_error(y2_test, pre))\\n\\nwith open('model_rf/XG_dinner_estimator.pickle','wb') as fw: ##저장\\n    pickle.dump(grid_search.best_estimator_, fw)\\n\""
      ]
     },
     "metadata": {},
     "execution_count": 317
    }
   ],
   "metadata": {}
  },
  {
   "cell_type": "code",
   "execution_count": 318,
   "source": [
    "with open('model_rf/XG_dinner_estimator.pickle','rb') as f:\r\n",
    "    XG_dinner_model = pickle.load(f)"
   ],
   "outputs": [],
   "metadata": {}
  },
  {
   "cell_type": "code",
   "execution_count": 319,
   "source": [
    "XG_dinner_model =XGBRegressor(base_score=0.5, booster='gbtree', colsample_bylevel=1,\r\n",
    "             colsample_bynode=1, colsample_bytree=0.5, gamma=0, gpu_id=-1,\r\n",
    "             importance_type='gain', interaction_constraints='',\r\n",
    "             learning_rate=0.300000012, max_delta_step=0, max_depth=2,\r\n",
    "             min_child_weight=1,monotone_constraints='()',\r\n",
    "             n_estimators=300, n_jobs=4, num_parallel_tree=1, random_state=0,\r\n",
    "             reg_alpha=0, reg_lambda=1, scale_pos_weight=1, subsample=1,\r\n",
    "             tree_method='exact', validate_parameters=1, verbosity=None)\r\n",
    "XG_dinner_model.fit(X2_train,y2_train)"
   ],
   "outputs": [
    {
     "output_type": "execute_result",
     "data": {
      "text/plain": [
       "XGBRegressor(base_score=0.5, booster='gbtree', colsample_bylevel=1,\n",
       "             colsample_bynode=1, colsample_bytree=0.5, gamma=0, gpu_id=-1,\n",
       "             importance_type='gain', interaction_constraints='',\n",
       "             learning_rate=0.300000012, max_delta_step=0, max_depth=2,\n",
       "             min_child_weight=1, missing=nan, monotone_constraints='()',\n",
       "             n_estimators=300, n_jobs=4, num_parallel_tree=1, random_state=0,\n",
       "             reg_alpha=0, reg_lambda=1, scale_pos_weight=1, subsample=1,\n",
       "             tree_method='exact', validate_parameters=1, verbosity=None)"
      ]
     },
     "metadata": {},
     "execution_count": 319
    }
   ],
   "metadata": {}
  },
  {
   "cell_type": "code",
   "execution_count": 320,
   "source": [
    "pre = XG_dinner_model.predict(X2_test)\r\n",
    "print(XG_dinner_model.score(X2_test,y2_test))\r\n",
    "print('RMSE=',np.sqrt(mean_squared_error(y2_test, pre)))\r\n",
    "print('MAE=',mean_absolute_error(y2_test, pre))"
   ],
   "outputs": [
    {
     "output_type": "stream",
     "name": "stdout",
     "text": [
      "0.5936722352393125\n",
      "RMSE= 69.01491408268036\n",
      "MAE= 48.970381772279055\n"
     ]
    }
   ],
   "metadata": {}
  },
  {
   "cell_type": "markdown",
   "source": [
    "## 랜덤포레스트 모델"
   ],
   "metadata": {}
  },
  {
   "cell_type": "markdown",
   "source": [
    "## 점심 저녁 한번예"
   ],
   "metadata": {}
  },
  {
   "cell_type": "code",
   "execution_count": 321,
   "source": [
    "'''\r\n",
    "params = {#max_depth=10, n_estimators=50, n_jobs=-1, random_state=42\r\n",
    "    'n_estimators': [50,100,150,300,1000],\r\n",
    "    'max_features': ['auto', 'sqrt'],\r\n",
    "    'max_depth' : [1,3,6,10],\r\n",
    "    'min_samples_leaf': [1, 2, 4],\r\n",
    "    'min_samples_split': [2, 3, 5, 10]}\r\n",
    "\r\n",
    "model1 = RandomForestRegressor(n_jobs=-1, random_state=42)\r\n",
    "model2 = RandomForestRegressor(n_jobs=-1, random_state=42)\r\n",
    "\r\n",
    "RF_lunch_model = GridSearchCV(model1, params, scoring='neg_mean_absolute_error')\r\n",
    "RF_dinner_model = GridSearchCV(model2, params, scoring='neg_mean_absolute_error')\r\n",
    "\r\n",
    "RF_lunch_model.fit(X_train, y_train)\r\n",
    "RF_dinner_model.fit(X2_train, y2_train)\r\n",
    "\r\n",
    "RF_lunch_best = RF_lunch_model.best_score_\r\n",
    "RF_dinner_best = RF_dinner_model.best_score_\r\n",
    "\r\n",
    "print('점심 RF 모델 에러값(mae) : ',RF_lunch_best)\r\n",
    "print('저녁 RF 모델 에러값(mae) : ',RF_dinner_best)\r\n",
    "\r\n",
    "rf_lunch_param=RF_lunch_model.best_params_\r\n",
    "rf_lunch_est = RF_lunch_model.best_estimator_\r\n",
    "\r\n",
    "rf_dinner_param=RF_dinner_model.best_params_\r\n",
    "rf_lunch_est = RF_dinner_model.best_estimator_\r\n",
    "\r\n",
    "with open('model_rf/rf_lunch_estimator.pickle','wb') as fw:\r\n",
    "    pickle.dump(RF_lunch_model.best_estimator_, fw)\r\n",
    "with open('model_rf/rf_dinner_estimator.pickle','wb') as fw:\r\n",
    "    pickle.dump(RF_dinner_model.best_estimator_, fw)\r\n",
    "# 모델값저장\r\n",
    "'''\r\n"
   ],
   "outputs": [
    {
     "output_type": "execute_result",
     "data": {
      "text/plain": [
       "\"\\nparams = {#max_depth=10, n_estimators=50, n_jobs=-1, random_state=42\\n    'n_estimators': [50,100,150,300,1000],\\n    'max_features': ['auto', 'sqrt'],\\n    'max_depth' : [1,3,6,10],\\n    'min_samples_leaf': [1, 2, 4],\\n    'min_samples_split': [2, 3, 5, 10]}\\n\\nmodel1 = RandomForestRegressor(n_jobs=-1, random_state=42)\\nmodel2 = RandomForestRegressor(n_jobs=-1, random_state=42)\\n\\nRF_lunch_model = GridSearchCV(model1, params, scoring='neg_mean_absolute_error')\\nRF_dinner_model = GridSearchCV(model2, params, scoring='neg_mean_absolute_error')\\n\\nRF_lunch_model.fit(X_train, y_train)\\nRF_dinner_model.fit(X2_train, y2_train)\\n\\nRF_lunch_best = RF_lunch_model.best_score_\\nRF_dinner_best = RF_dinner_model.best_score_\\n\\nprint('점심 RF 모델 에러값(mae) : ',RF_lunch_best)\\nprint('저녁 RF 모델 에러값(mae) : ',RF_dinner_best)\\n\\nrf_lunch_param=RF_lunch_model.best_params_\\nrf_lunch_est = RF_lunch_model.best_estimator_\\n\\nrf_dinner_param=RF_dinner_model.best_params_\\nrf_lunch_est = RF_dinner_model.best_estimator_\\n\\nwith open('model_rf/rf_lunch_estimator.pickle','wb') as fw:\\n    pickle.dump(RF_lunch_model.best_estimator_, fw)\\nwith open('model_rf/rf_dinner_estimator.pickle','wb') as fw:\\n    pickle.dump(RF_dinner_model.best_estimator_, fw)\\n# 모델값저장\\n\""
      ]
     },
     "metadata": {},
     "execution_count": 321
    }
   ],
   "metadata": {}
  },
  {
   "cell_type": "code",
   "execution_count": 322,
   "source": [
    "'''print(rf_lunch_param, rf_lunch_est, rf_dinner_param, rf_lunch_est)'''"
   ],
   "outputs": [
    {
     "output_type": "execute_result",
     "data": {
      "text/plain": [
       "'print(rf_lunch_param, rf_lunch_est, rf_dinner_param, rf_lunch_est)'"
      ]
     },
     "metadata": {},
     "execution_count": 322
    }
   ],
   "metadata": {}
  },
  {
   "cell_type": "code",
   "execution_count": 323,
   "source": [
    "with open('model_rf/rf_lunch_estimator.pickle','rb') as f:\r\n",
    "    RF_lunch_model = pickle.load(f)\r\n",
    "with open('model_rf/rf_dinner_estimator.pickle','rb') as f:\r\n",
    "    RF_dinner_model = pickle.load(f)\r\n",
    "RF_lunch_model = RandomForestRegressor(max_depth=10, n_estimators=300, n_jobs=-1,\r\n",
    "                      random_state=42)\r\n",
    "RF_dinner_model = RandomForestRegressor(max_depth=10, n_estimators=300, n_jobs=-1,\r\n",
    "                      random_state=42)\r\n",
    "RF_lunch_model.fit(X_train,y_train)\r\n",
    "RF_dinner_model.fit(X2_train, y2_train)\r\n"
   ],
   "outputs": [
    {
     "output_type": "execute_result",
     "data": {
      "text/plain": [
       "RandomForestRegressor(max_depth=10, n_estimators=300, n_jobs=-1,\n",
       "                      random_state=42)"
      ]
     },
     "metadata": {},
     "execution_count": 323
    }
   ],
   "metadata": {}
  },
  {
   "cell_type": "code",
   "execution_count": 324,
   "source": [
    "pre_lunch = RF_lunch_model.predict(X_test)\r\n",
    "pre_dinner = RF_dinner_model.predict(X2_test)\r\n",
    "print('-----------점심 ------------')\r\n",
    "print(RF_lunch_model.score(X_test,y_test))\r\n",
    "print('RMSE=',np.sqrt(mean_squared_error(y_test, pre_lunch)))\r\n",
    "print('MAE=',mean_absolute_error(y_test, pre_lunch))\r\n",
    "print('-----------저녁---------------')\r\n",
    "print(RF_dinner_model.score(X2_test,y2_test))\r\n",
    "print('RMSE=',np.sqrt(mean_squared_error(y2_test, pre_dinner)))\r\n",
    "print('MAE=',mean_absolute_error(y2_test, pre_dinner))"
   ],
   "outputs": [
    {
     "output_type": "stream",
     "name": "stdout",
     "text": [
      "-----------점심 ------------\n",
      "0.8415324591982098\n",
      "RMSE= 82.77027574597417\n",
      "MAE= 63.231266554239554\n",
      "-----------저녁---------------\n",
      "0.6502828411738835\n",
      "RMSE= 64.02700287509631\n",
      "MAE= 47.62113403601142\n"
     ]
    }
   ],
   "metadata": {}
  },
  {
   "cell_type": "markdown",
   "source": [
    "## KNN"
   ],
   "metadata": {}
  },
  {
   "cell_type": "markdown",
   "source": [
    "## 점심"
   ],
   "metadata": {}
  },
  {
   "cell_type": "code",
   "execution_count": 325,
   "source": [
    "from sklearn.neighbors import KNeighborsRegressor\r\n",
    "\r\n",
    "grid_params = {\r\n",
    "    'n_neighbors' : list(range(1,20)),\r\n",
    "    'weights' : [\"uniform\", \"distance\"],\r\n",
    "    'metric' : ['euclidean', 'manhattan', 'minkowski']\r\n",
    "}\r\n",
    "\r\n",
    "grid_model = GridSearchCV(KNeighborsRegressor(), grid_params, scoring='neg_mean_absolute_error')\r\n",
    "\r\n",
    "grid_model.fit(X_train, y_train) \r\n",
    "pre = grid_model.predict(X_test)\r\n",
    "\r\n",
    "print(grid_model.score(X_test,y_test))\r\n",
    "print('r2=',r2_score(y_test,pre))\r\n",
    "print('RMSE=',np.sqrt(mean_squared_error(y_test, pre)))\r\n",
    "print('MAE=',mean_absolute_error(y_test, pre))"
   ],
   "outputs": [
    {
     "output_type": "stream",
     "name": "stdout",
     "text": [
      "-72.86831762223294\n",
      "r2= 0.7926336078880628\n",
      "RMSE= 94.68330930522926\n",
      "MAE= 72.86831762223294\n"
     ]
    }
   ],
   "metadata": {}
  },
  {
   "cell_type": "markdown",
   "source": [
    "## 저녁"
   ],
   "metadata": {}
  },
  {
   "cell_type": "code",
   "execution_count": 326,
   "source": [
    "from sklearn.neighbors import KNeighborsRegressor\r\n",
    "\r\n",
    "grid_params = {\r\n",
    "    'n_neighbors' : list(range(1,20)),\r\n",
    "    'weights' : [\"uniform\", \"distance\"],\r\n",
    "    'metric' : ['euclidean', 'manhattan', 'minkowski']\r\n",
    "}\r\n",
    "\r\n",
    "grid_model = GridSearchCV(KNeighborsRegressor(), grid_params, scoring='neg_mean_absolute_error')\r\n",
    "\r\n",
    "grid_model.fit(X2_train, y2_train) \r\n",
    "pre = grid_model.predict(X2_test)\r\n",
    "\r\n",
    "print(grid_model.score(X2_test,y2_test))\r\n",
    "print('r2=',r2_score(y2_test,pre))\r\n",
    "print('RMSE=',np.sqrt(mean_squared_error(y2_test, pre)))\r\n",
    "print('MAE=',mean_absolute_error(y2_test, pre))"
   ],
   "outputs": [
    {
     "output_type": "stream",
     "name": "stdout",
     "text": [
      "-50.360585164964185\n",
      "r2= 0.6076928775961288\n",
      "RMSE= 67.81375588364365\n",
      "MAE= 50.360585164964185\n"
     ]
    }
   ],
   "metadata": {}
  }
 ],
 "metadata": {
  "orig_nbformat": 4,
  "language_info": {
   "name": "python",
   "version": "3.8.10",
   "mimetype": "text/x-python",
   "codemirror_mode": {
    "name": "ipython",
    "version": 3
   },
   "pygments_lexer": "ipython3",
   "nbconvert_exporter": "python",
   "file_extension": ".py"
  },
  "kernelspec": {
   "name": "python3",
   "display_name": "Python 3.8.10 64-bit ('base': conda)"
  },
  "interpreter": {
   "hash": "345fc451c7e0336b9390ad1fad588039702f89ec6d37597eff879e480e25ffdb"
  }
 },
 "nbformat": 4,
 "nbformat_minor": 2
}