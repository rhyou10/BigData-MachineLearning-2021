{
 "cells": [
  {
   "cell_type": "code",
   "execution_count": 194,
   "source": [
    "# 메모리 변수 모두 제거\r\n",
    "all = [var for var in globals() if var[0] != \"_\"]\r\n",
    "for var in all:\r\n",
    "    del globals()[var]\r\n",
    "\r\n",
    "# 메모리 변수 확인\r\n",
    "#globals()"
   ],
   "outputs": [],
   "metadata": {}
  },
  {
   "cell_type": "code",
   "execution_count": 195,
   "source": [
    "import pandas as pd\r\n",
    "import numpy as np\r\n",
    "import warnings \r\n",
    "warnings.filterwarnings(action='ignore')\r\n",
    "import matplotlib.pyplot as plt\r\n",
    "import seaborn as sns\r\n",
    "import matplotlib\r\n",
    "matplotlib.rcParams['axes.unicode_minus'] = False\r\n",
    "plt.rc('font', family='Malgun Gothic')\r\n",
    "import pickle\r\n",
    "\r\n",
    "from sklearn.model_selection import train_test_split\r\n",
    "\r\n",
    "from sklearn.preprocessing import StandardScaler \r\n",
    "\r\n",
    "from sklearn.metrics import mean_squared_error  # MSE RMSE\r\n",
    "from sklearn.metrics import mean_absolute_error, r2_score # mae\r\n",
    "from sklearn.model_selection import GridSearchCV\r\n",
    "from sklearn.ensemble import RandomForestRegressor\r\n",
    "import eli5 \r\n",
    "from eli5.sklearn import PermutationImportance "
   ],
   "outputs": [],
   "metadata": {}
  },
  {
   "cell_type": "code",
   "execution_count": 196,
   "source": [
    "df1 = pd.read_csv('data/train_메뉴제외.csv')\r\n",
    "df3 = pd.read_csv('data/메뉴구분3.csv')"
   ],
   "outputs": [],
   "metadata": {}
  },
  {
   "cell_type": "code",
   "execution_count": 197,
   "source": [
    "#plt.figure(figsize=(7,5))\r\n",
    "#sns.heatmap(df1.corr())"
   ],
   "outputs": [],
   "metadata": {}
  },
  {
   "cell_type": "markdown",
   "source": [
    "## 스케일링\r\n",
    "- y값과 카데고리 변수 제외하고 전부 스케일링"
   ],
   "metadata": {}
  },
  {
   "cell_type": "code",
   "execution_count": 198,
   "source": [
    "#x = df1.drop(columns=['요일','중식계', '석식계','일자','중식강수여부','석식강수여부','휴일전날', '휴일다음날', '월'])\r\n",
    "#sc = StandardScaler()\r\n",
    "#sc.fit(x)\r\n",
    "#x = sc.transform(x)\r\n",
    "#x"
   ],
   "outputs": [],
   "metadata": {}
  },
  {
   "cell_type": "code",
   "execution_count": 199,
   "source": [
    "# 일자 드랍하고 y값 2개 뺴고 전부다 스케일링 해버리자\r\n",
    "#df1['요일'] =  df1['요일'].astype('category') #요일을 카테고리화 하였다\r\n",
    "#df1['요일'] = df1.요일.cat.codes #요일을 숫자로 바꿈\r\n",
    "# 연, 월, 요일, 중식강수여부, 석시강수여부, 휴일전날, 휴일다음날 이 카데고리 전부 더미화 할지 생각해 보자\r\n",
    "#y = df1[['요일','중식계', '석식계','일자','중식강수여부','석식강수여부','휴일전날', '휴일다음날', '월']]\r\n",
    "\r\n",
    "#x = df1.drop(columns=['요일','중식계', '석식계','일자','중식강수여부','석식강수여부','휴일전날', '휴일다음날','월']) # 카테고리컬 변수와 y값으로 쓸 변수 일자변수 빼고 전부 스케일링\r\n",
    "#x = StandardScaler().fit_transform(x)\r\n",
    "\r\n",
    "#x = pd.DataFrame(x,columns=df1.drop(columns=['요일','중식계', '석식계','일자','중식강수여부','석식강수여부','휴일전날', '휴일다음날', '월']).columns)\r\n",
    "#df1 =pd.concat([x,y],axis=1)"
   ],
   "outputs": [],
   "metadata": {}
  },
  {
   "cell_type": "code",
   "execution_count": 200,
   "source": [
    "df1.head(2)"
   ],
   "outputs": [
    {
     "output_type": "execute_result",
     "data": {
      "text/html": [
       "<div>\n",
       "<style scoped>\n",
       "    .dataframe tbody tr th:only-of-type {\n",
       "        vertical-align: middle;\n",
       "    }\n",
       "\n",
       "    .dataframe tbody tr th {\n",
       "        vertical-align: top;\n",
       "    }\n",
       "\n",
       "    .dataframe thead th {\n",
       "        text-align: right;\n",
       "    }\n",
       "</style>\n",
       "<table border=\"1\" class=\"dataframe\">\n",
       "  <thead>\n",
       "    <tr style=\"text-align: right;\">\n",
       "      <th></th>\n",
       "      <th>일자</th>\n",
       "      <th>요일</th>\n",
       "      <th>본사정원수</th>\n",
       "      <th>본사휴가자수</th>\n",
       "      <th>본사출장자수</th>\n",
       "      <th>본사시간외근무명령서승인건수</th>\n",
       "      <th>현본사소속재택근무자수</th>\n",
       "      <th>중식계</th>\n",
       "      <th>석식계</th>\n",
       "      <th>식사가능인원</th>\n",
       "      <th>...</th>\n",
       "      <th>월</th>\n",
       "      <th>중식강수여부</th>\n",
       "      <th>중식기온</th>\n",
       "      <th>중식강수량</th>\n",
       "      <th>석식강수여부</th>\n",
       "      <th>석식기온</th>\n",
       "      <th>석식강수량</th>\n",
       "      <th>확진자수</th>\n",
       "      <th>휴일전날</th>\n",
       "      <th>휴일다음날</th>\n",
       "    </tr>\n",
       "  </thead>\n",
       "  <tbody>\n",
       "    <tr>\n",
       "      <th>0</th>\n",
       "      <td>2016-02-01</td>\n",
       "      <td>월</td>\n",
       "      <td>2601</td>\n",
       "      <td>50</td>\n",
       "      <td>150</td>\n",
       "      <td>238</td>\n",
       "      <td>0.0</td>\n",
       "      <td>1039.0</td>\n",
       "      <td>331.0</td>\n",
       "      <td>2401.0</td>\n",
       "      <td>...</td>\n",
       "      <td>2</td>\n",
       "      <td>0.0</td>\n",
       "      <td>3.0</td>\n",
       "      <td>0.0</td>\n",
       "      <td>0.0</td>\n",
       "      <td>0.9</td>\n",
       "      <td>0.0</td>\n",
       "      <td>0.0</td>\n",
       "      <td>0</td>\n",
       "      <td>0</td>\n",
       "    </tr>\n",
       "    <tr>\n",
       "      <th>1</th>\n",
       "      <td>2016-02-02</td>\n",
       "      <td>화</td>\n",
       "      <td>2601</td>\n",
       "      <td>50</td>\n",
       "      <td>173</td>\n",
       "      <td>319</td>\n",
       "      <td>0.0</td>\n",
       "      <td>867.0</td>\n",
       "      <td>560.0</td>\n",
       "      <td>2378.0</td>\n",
       "      <td>...</td>\n",
       "      <td>2</td>\n",
       "      <td>0.0</td>\n",
       "      <td>1.7</td>\n",
       "      <td>0.0</td>\n",
       "      <td>0.0</td>\n",
       "      <td>2.4</td>\n",
       "      <td>0.0</td>\n",
       "      <td>0.0</td>\n",
       "      <td>0</td>\n",
       "      <td>0</td>\n",
       "    </tr>\n",
       "  </tbody>\n",
       "</table>\n",
       "<p>2 rows × 22 columns</p>\n",
       "</div>"
      ],
      "text/plain": [
       "           일자 요일  본사정원수  본사휴가자수  본사출장자수  본사시간외근무명령서승인건수  현본사소속재택근무자수     중식계  \\\n",
       "0  2016-02-01  월   2601      50     150             238          0.0  1039.0   \n",
       "1  2016-02-02  화   2601      50     173             319          0.0   867.0   \n",
       "\n",
       "     석식계  식사가능인원  ...  월  중식강수여부  중식기온  중식강수량  석식강수여부  석식기온  석식강수량  확진자수  \\\n",
       "0  331.0  2401.0  ...  2     0.0   3.0    0.0     0.0   0.9    0.0   0.0   \n",
       "1  560.0  2378.0  ...  2     0.0   1.7    0.0     0.0   2.4    0.0   0.0   \n",
       "\n",
       "   휴일전날  휴일다음날  \n",
       "0     0      0  \n",
       "1     0      0  \n",
       "\n",
       "[2 rows x 22 columns]"
      ]
     },
     "metadata": {},
     "execution_count": 200
    }
   ],
   "metadata": {}
  },
  {
   "cell_type": "markdown",
   "source": [
    "## df1 데이터 더미화"
   ],
   "metadata": {}
  },
  {
   "cell_type": "code",
   "execution_count": 201,
   "source": [
    "# 연, 월, 요일, 중식강수여부, 석시강수여부, 휴일전날, 휴일다음날 이 카데고리 전부 더미화 할지 생각해 보자\r\n",
    "df1_cat = df1[['월', '요일']]\r\n",
    "\r\n",
    "\r\n",
    "#df1_cat = df1[['월', '요일']]\r\n",
    "df1_cat['월'] =  df1_cat['월'].astype('category')\r\n",
    "df1_cat = pd.get_dummies(df1_cat[['월', '요일']])# 더미화\r\n",
    "df1.drop(columns=['월', '요일'],inplace=True)"
   ],
   "outputs": [],
   "metadata": {}
  },
  {
   "cell_type": "code",
   "execution_count": 202,
   "source": [
    "#df1 = pd.concat([df1,df1_cat],axis=1)"
   ],
   "outputs": [],
   "metadata": {}
  },
  {
   "cell_type": "markdown",
   "source": [
    "## 점심데이터"
   ],
   "metadata": {}
  },
  {
   "cell_type": "code",
   "execution_count": 203,
   "source": [
    "df_lunch_cat = df3.iloc[:1205]\r\n",
    "df_lunch_cat_dummy =pd.get_dummies(df_lunch_cat.iloc[:1205][['국분류', '메뉴분류']]) # 더미화\r\n",
    "\r\n",
    "df_lunch = pd.concat([df1,df_lunch_cat_dummy],axis=1)"
   ],
   "outputs": [],
   "metadata": {}
  },
  {
   "cell_type": "code",
   "execution_count": 204,
   "source": [
    "df_lunch.head(1)"
   ],
   "outputs": [
    {
     "output_type": "execute_result",
     "data": {
      "text/html": [
       "<div>\n",
       "<style scoped>\n",
       "    .dataframe tbody tr th:only-of-type {\n",
       "        vertical-align: middle;\n",
       "    }\n",
       "\n",
       "    .dataframe tbody tr th {\n",
       "        vertical-align: top;\n",
       "    }\n",
       "\n",
       "    .dataframe thead th {\n",
       "        text-align: right;\n",
       "    }\n",
       "</style>\n",
       "<table border=\"1\" class=\"dataframe\">\n",
       "  <thead>\n",
       "    <tr style=\"text-align: right;\">\n",
       "      <th></th>\n",
       "      <th>일자</th>\n",
       "      <th>본사정원수</th>\n",
       "      <th>본사휴가자수</th>\n",
       "      <th>본사출장자수</th>\n",
       "      <th>본사시간외근무명령서승인건수</th>\n",
       "      <th>현본사소속재택근무자수</th>\n",
       "      <th>중식계</th>\n",
       "      <th>석식계</th>\n",
       "      <th>식사가능인원</th>\n",
       "      <th>중식결식</th>\n",
       "      <th>...</th>\n",
       "      <th>휴일다음날</th>\n",
       "      <th>국분류_국</th>\n",
       "      <th>국분류_국수</th>\n",
       "      <th>국분류_스프</th>\n",
       "      <th>국분류_찌개</th>\n",
       "      <th>국분류_탕</th>\n",
       "      <th>메뉴분류_기타</th>\n",
       "      <th>메뉴분류_육류</th>\n",
       "      <th>메뉴분류_조류</th>\n",
       "      <th>메뉴분류_해산물</th>\n",
       "    </tr>\n",
       "  </thead>\n",
       "  <tbody>\n",
       "    <tr>\n",
       "      <th>0</th>\n",
       "      <td>2016-02-01</td>\n",
       "      <td>2601</td>\n",
       "      <td>50</td>\n",
       "      <td>150</td>\n",
       "      <td>238</td>\n",
       "      <td>0.0</td>\n",
       "      <td>1039.0</td>\n",
       "      <td>331.0</td>\n",
       "      <td>2401.0</td>\n",
       "      <td>1362.0</td>\n",
       "      <td>...</td>\n",
       "      <td>0</td>\n",
       "      <td>0</td>\n",
       "      <td>0</td>\n",
       "      <td>0</td>\n",
       "      <td>1</td>\n",
       "      <td>0</td>\n",
       "      <td>0</td>\n",
       "      <td>1</td>\n",
       "      <td>0</td>\n",
       "      <td>0</td>\n",
       "    </tr>\n",
       "  </tbody>\n",
       "</table>\n",
       "<p>1 rows × 29 columns</p>\n",
       "</div>"
      ],
      "text/plain": [
       "           일자  본사정원수  본사휴가자수  본사출장자수  본사시간외근무명령서승인건수  현본사소속재택근무자수     중식계  \\\n",
       "0  2016-02-01   2601      50     150             238          0.0  1039.0   \n",
       "\n",
       "     석식계  식사가능인원    중식결식  ...  휴일다음날  국분류_국  국분류_국수  국분류_스프  국분류_찌개  국분류_탕  \\\n",
       "0  331.0  2401.0  1362.0  ...      0      0       0       0       1      0   \n",
       "\n",
       "   메뉴분류_기타  메뉴분류_육류  메뉴분류_조류  메뉴분류_해산물  \n",
       "0        0        1        0         0  \n",
       "\n",
       "[1 rows x 29 columns]"
      ]
     },
     "metadata": {},
     "execution_count": 204
    }
   ],
   "metadata": {}
  },
  {
   "cell_type": "code",
   "execution_count": 205,
   "source": [
    "df_lunch.columns"
   ],
   "outputs": [
    {
     "output_type": "execute_result",
     "data": {
      "text/plain": [
       "Index(['일자', '본사정원수', '본사휴가자수', '본사출장자수', '본사시간외근무명령서승인건수', '현본사소속재택근무자수',\n",
       "       '중식계', '석식계', '식사가능인원', '중식결식', '석식결식', '중식강수여부', '중식기온', '중식강수량',\n",
       "       '석식강수여부', '석식기온', '석식강수량', '확진자수', '휴일전날', '휴일다음날', '국분류_국', '국분류_국수',\n",
       "       '국분류_스프', '국분류_찌개', '국분류_탕', '메뉴분류_기타', '메뉴분류_육류', '메뉴분류_조류',\n",
       "       '메뉴분류_해산물'],\n",
       "      dtype='object')"
      ]
     },
     "metadata": {},
     "execution_count": 205
    }
   ],
   "metadata": {}
  },
  {
   "cell_type": "code",
   "execution_count": 206,
   "source": [
    "x = df_lunch[['본사정원수', '본사휴가자수', '본사출장자수', '본사시간외근무명령서승인건수', '현본사소속재택근무자수', '식사가능인원', '중식결식',\r\n",
    "             '석식결식','중식기온', '중식강수량', '석식기온', '석식강수량', '확진자수']]\r\n",
    "y = df_lunch.drop(columns=['본사정원수', '본사휴가자수', '본사출장자수', '본사시간외근무명령서승인건수', '현본사소속재택근무자수', '식사가능인원', '중식결식',\r\n",
    "             '석식결식','중식기온', '중식강수량', '석식기온', '석식강수량', '확진자수'])\r\n",
    "x = StandardScaler().fit_transform(x)\r\n",
    "x = pd.DataFrame(x, columns=['본사정원수', '본사휴가자수', '본사출장자수', '본사시간외근무명령서승인건수', '현본사소속재택근무자수', '식사가능인원', '중식결식',\r\n",
    "             '석식결식','중식기온', '중식강수량', '석식기온', '석식강수량', '확진자수'])\r\n",
    "df_lunch = pd.concat([x,y],axis=1)"
   ],
   "outputs": [],
   "metadata": {}
  },
  {
   "cell_type": "code",
   "execution_count": 207,
   "source": [
    "# 일자 드랍하고 y값 2개 뺴고 전부다 스케일링 해버리자\r\n",
    "#df1['요일'] =  df1['요일'].astype('category') #요일을 카테고리화 하였다\r\n",
    "#df1['요일'] = df1.요일.cat.codes #요일을 숫자로 바꿈\r\n",
    "# 연, 월, 요일, 중식강수여부, 석시강수여부, 휴일전날, 휴일다음날 이 카데고리 전부 더미화 할지 생각해 보자\r\n",
    "#y = df1[['요일','중식계', '석식계','일자','중식강수여부','석식강수여부','휴일전날', '휴일다음날', '월']]\r\n",
    "\r\n",
    "#x = df1.drop(columns=['요일','중식계', '석식계','일자','중식강수여부','석식강수여부','휴일전날', '휴일다음날','월']) # 카테고리컬 변수와 y값으로 쓸 변수 일자변수 빼고 전부 스케일링\r\n",
    "#x = StandardScaler().fit_transform(x)\r\n",
    "\r\n",
    "#x = pd.DataFrame(x,columns=df1.drop(columns=['요일','중식계', '석식계','일자','중식강수여부','석식강수여부','휴일전날', '휴일다음날', '월']).columns)\r\n",
    "#df1 =pd.concat([x,y],axis=1)"
   ],
   "outputs": [],
   "metadata": {}
  },
  {
   "cell_type": "code",
   "execution_count": 208,
   "source": [
    "#sns.heatmap(df_lunch.corr())"
   ],
   "outputs": [],
   "metadata": {}
  },
  {
   "cell_type": "markdown",
   "source": [
    "## 저녁데이터"
   ],
   "metadata": {}
  },
  {
   "cell_type": "code",
   "execution_count": 209,
   "source": [
    "df_dinner_cat_dummy =pd.get_dummies(df3.iloc[1205:][['국분류', '메뉴분류']]) # 더미화\r\n",
    "df_dinner_cat_duumy = pd.concat([df3.iloc[1205:]['일자'],df_dinner_cat_dummy],axis=1) # 저녁값이 비어있는곳이 있어 merge 하기 위해 일자 값 추가\r\n",
    "\r\n",
    "df_dinner =pd.merge(df1, df_dinner_cat_duumy,on='일자',how='left')"
   ],
   "outputs": [],
   "metadata": {}
  },
  {
   "cell_type": "code",
   "execution_count": 210,
   "source": [
    "df_dinner.isna().sum()"
   ],
   "outputs": [
    {
     "output_type": "execute_result",
     "data": {
      "text/plain": [
       "일자                 0\n",
       "본사정원수              0\n",
       "본사휴가자수             0\n",
       "본사출장자수             0\n",
       "본사시간외근무명령서승인건수     0\n",
       "현본사소속재택근무자수        0\n",
       "중식계                0\n",
       "석식계                0\n",
       "식사가능인원             0\n",
       "중식결식               0\n",
       "석식결식               0\n",
       "중식강수여부             0\n",
       "중식기온               0\n",
       "중식강수량              0\n",
       "석식강수여부             0\n",
       "석식기온               0\n",
       "석식강수량              0\n",
       "확진자수               0\n",
       "휴일전날               0\n",
       "휴일다음날              0\n",
       "국분류_국             44\n",
       "국분류_국수            44\n",
       "국분류_스프            44\n",
       "국분류_죽             44\n",
       "국분류_찌개            44\n",
       "국분류_탕             44\n",
       "메뉴분류_기타           44\n",
       "메뉴분류_육류           44\n",
       "메뉴분류_조류           44\n",
       "메뉴분류_해산물          44\n",
       "dtype: int64"
      ]
     },
     "metadata": {},
     "execution_count": 210
    }
   ],
   "metadata": {}
  },
  {
   "cell_type": "code",
   "execution_count": 211,
   "source": [
    "#df_dinner[df_dinner.국분류_국.isna()][['일자', '석식계']]"
   ],
   "outputs": [],
   "metadata": {}
  },
  {
   "cell_type": "code",
   "execution_count": 212,
   "source": [
    "#df_dinner.fillna(0,inplace=True)\r\n",
    "df_dinner.dropna(inplace=True) #저녁안먹는날 drop"
   ],
   "outputs": [],
   "metadata": {}
  },
  {
   "cell_type": "code",
   "execution_count": 213,
   "source": [
    "df_dinner[df_dinner['석식계']==0]"
   ],
   "outputs": [
    {
     "output_type": "execute_result",
     "data": {
      "text/html": [
       "<div>\n",
       "<style scoped>\n",
       "    .dataframe tbody tr th:only-of-type {\n",
       "        vertical-align: middle;\n",
       "    }\n",
       "\n",
       "    .dataframe tbody tr th {\n",
       "        vertical-align: top;\n",
       "    }\n",
       "\n",
       "    .dataframe thead th {\n",
       "        text-align: right;\n",
       "    }\n",
       "</style>\n",
       "<table border=\"1\" class=\"dataframe\">\n",
       "  <thead>\n",
       "    <tr style=\"text-align: right;\">\n",
       "      <th></th>\n",
       "      <th>일자</th>\n",
       "      <th>본사정원수</th>\n",
       "      <th>본사휴가자수</th>\n",
       "      <th>본사출장자수</th>\n",
       "      <th>본사시간외근무명령서승인건수</th>\n",
       "      <th>현본사소속재택근무자수</th>\n",
       "      <th>중식계</th>\n",
       "      <th>석식계</th>\n",
       "      <th>식사가능인원</th>\n",
       "      <th>중식결식</th>\n",
       "      <th>...</th>\n",
       "      <th>국분류_국</th>\n",
       "      <th>국분류_국수</th>\n",
       "      <th>국분류_스프</th>\n",
       "      <th>국분류_죽</th>\n",
       "      <th>국분류_찌개</th>\n",
       "      <th>국분류_탕</th>\n",
       "      <th>메뉴분류_기타</th>\n",
       "      <th>메뉴분류_육류</th>\n",
       "      <th>메뉴분류_조류</th>\n",
       "      <th>메뉴분류_해산물</th>\n",
       "    </tr>\n",
       "  </thead>\n",
       "  <tbody>\n",
       "    <tr>\n",
       "      <th>410</th>\n",
       "      <td>2017-09-27</td>\n",
       "      <td>2642</td>\n",
       "      <td>70</td>\n",
       "      <td>265</td>\n",
       "      <td>0</td>\n",
       "      <td>0.0</td>\n",
       "      <td>1023.0</td>\n",
       "      <td>0.0</td>\n",
       "      <td>2307.0</td>\n",
       "      <td>1284.0</td>\n",
       "      <td>...</td>\n",
       "      <td>0.0</td>\n",
       "      <td>0.0</td>\n",
       "      <td>0.0</td>\n",
       "      <td>0.0</td>\n",
       "      <td>1.0</td>\n",
       "      <td>0.0</td>\n",
       "      <td>0.0</td>\n",
       "      <td>1.0</td>\n",
       "      <td>0.0</td>\n",
       "      <td>0.0</td>\n",
       "    </tr>\n",
       "    <tr>\n",
       "      <th>502</th>\n",
       "      <td>2018-02-14</td>\n",
       "      <td>2707</td>\n",
       "      <td>418</td>\n",
       "      <td>159</td>\n",
       "      <td>0</td>\n",
       "      <td>0.0</td>\n",
       "      <td>850.0</td>\n",
       "      <td>0.0</td>\n",
       "      <td>2130.0</td>\n",
       "      <td>1280.0</td>\n",
       "      <td>...</td>\n",
       "      <td>1.0</td>\n",
       "      <td>0.0</td>\n",
       "      <td>0.0</td>\n",
       "      <td>0.0</td>\n",
       "      <td>0.0</td>\n",
       "      <td>0.0</td>\n",
       "      <td>1.0</td>\n",
       "      <td>0.0</td>\n",
       "      <td>0.0</td>\n",
       "      <td>0.0</td>\n",
       "    </tr>\n",
       "  </tbody>\n",
       "</table>\n",
       "<p>2 rows × 30 columns</p>\n",
       "</div>"
      ],
      "text/plain": [
       "             일자  본사정원수  본사휴가자수  본사출장자수  본사시간외근무명령서승인건수  현본사소속재택근무자수     중식계  \\\n",
       "410  2017-09-27   2642      70     265               0          0.0  1023.0   \n",
       "502  2018-02-14   2707     418     159               0          0.0   850.0   \n",
       "\n",
       "     석식계  식사가능인원    중식결식  ...  국분류_국  국분류_국수  국분류_스프  국분류_죽  국분류_찌개  국분류_탕  \\\n",
       "410  0.0  2307.0  1284.0  ...    0.0     0.0     0.0    0.0     1.0    0.0   \n",
       "502  0.0  2130.0  1280.0  ...    1.0     0.0     0.0    0.0     0.0    0.0   \n",
       "\n",
       "     메뉴분류_기타  메뉴분류_육류  메뉴분류_조류  메뉴분류_해산물  \n",
       "410      0.0      1.0      0.0       0.0  \n",
       "502      1.0      0.0      0.0       0.0  \n",
       "\n",
       "[2 rows x 30 columns]"
      ]
     },
     "metadata": {},
     "execution_count": 213
    }
   ],
   "metadata": {}
  },
  {
   "cell_type": "code",
   "execution_count": 214,
   "source": [
    "df_dinner = df_dinner[df_dinner['석식계']!=0]"
   ],
   "outputs": [],
   "metadata": {}
  },
  {
   "cell_type": "code",
   "execution_count": 215,
   "source": [
    "df_dinner = df_dinner.reset_index()\r\n",
    "df_dinner = df_dinner.drop(columns='index')"
   ],
   "outputs": [],
   "metadata": {}
  },
  {
   "cell_type": "code",
   "execution_count": 216,
   "source": [
    "df_dinner.columns"
   ],
   "outputs": [
    {
     "output_type": "execute_result",
     "data": {
      "text/plain": [
       "Index(['일자', '본사정원수', '본사휴가자수', '본사출장자수', '본사시간외근무명령서승인건수', '현본사소속재택근무자수',\n",
       "       '중식계', '석식계', '식사가능인원', '중식결식', '석식결식', '중식강수여부', '중식기온', '중식강수량',\n",
       "       '석식강수여부', '석식기온', '석식강수량', '확진자수', '휴일전날', '휴일다음날', '국분류_국', '국분류_국수',\n",
       "       '국분류_스프', '국분류_죽', '국분류_찌개', '국분류_탕', '메뉴분류_기타', '메뉴분류_육류', '메뉴분류_조류',\n",
       "       '메뉴분류_해산물'],\n",
       "      dtype='object')"
      ]
     },
     "metadata": {},
     "execution_count": 216
    }
   ],
   "metadata": {}
  },
  {
   "cell_type": "code",
   "execution_count": 217,
   "source": [
    "x2 = df_dinner[['본사정원수', '본사휴가자수', '본사출장자수', '본사시간외근무명령서승인건수', '현본사소속재택근무자수', '식사가능인원', '중식결식',\r\n",
    "             '석식결식','중식기온', '중식강수량', '석식기온', '석식강수량', '확진자수']]\r\n",
    "             \r\n",
    "y2 = df_dinner.drop(columns=['본사정원수', '본사휴가자수', '본사출장자수', '본사시간외근무명령서승인건수', '현본사소속재택근무자수', '식사가능인원', '중식결식',\r\n",
    "             '석식결식','중식기온', '중식강수량', '석식기온', '석식강수량', '확진자수'])\r\n",
    "\r\n",
    "sc = StandardScaler().fit(x2)\r\n",
    "x2 = sc.transform(x2)\r\n",
    "x2 = pd.DataFrame(x2, columns=['본사정원수', '본사휴가자수', '본사출장자수', '본사시간외근무명령서승인건수', '현본사소속재택근무자수', '식사가능인원', '중식결식',\r\n",
    "             '석식결식','중식기온', '중식강수량', '석식기온', '석식강수량', '확진자수'])\r\n",
    "df_dinner = pd.concat([x2,y2],axis=1)"
   ],
   "outputs": [],
   "metadata": {}
  },
  {
   "cell_type": "code",
   "execution_count": 218,
   "source": [
    "#fig, ax = plt.subplots(nrows = 1, ncols = 2, figsize = (20, 4))\r\n",
    "\r\n",
    "#sns.boxplot(x=\"요일\", y=\"중식계\", hue=\"휴일전날\", data=df_dinner, ax=ax[0])\r\n",
    "#ax[0].set_title('중식', pad = 12)\r\n",
    "##ax[0].legend(loc = 'lower left')\r\n",
    "#ax[0].set_xlabel('요일')\r\n",
    "#sns.boxplot(x=\"요일\", y=\"석식계\", hue=\"휴일전날\", data=df_dinner)\r\n",
    "#ax[1].set_title('석식', pad = 12)\r\n",
    "#ax[1].legend(loc = 'lower left')\r\n",
    "#ax[1].set_xlabel('요일')\r\n",
    "#plt.show()\r\n"
   ],
   "outputs": [],
   "metadata": {}
  },
  {
   "cell_type": "code",
   "execution_count": 219,
   "source": [
    "#sns.heatmap(df_dinner.corr())"
   ],
   "outputs": [],
   "metadata": {}
  },
  {
   "cell_type": "markdown",
   "source": [
    "## 모델링 전 X,y 나누기"
   ],
   "metadata": {}
  },
  {
   "cell_type": "markdown",
   "source": [
    "### 중식"
   ],
   "metadata": {}
  },
  {
   "cell_type": "code",
   "execution_count": 220,
   "source": [
    "X = df_lunch.drop(columns=['일자','중식계','석식계','석식결식','중식결식', '석식기온', '석식강수량', '석식강수여부','현본사소속재택근무자수','중식기온'])\r\n",
    "\r\n",
    "## 중식에 경우 ols summary에서 p_vale값이 중식기온이 유의미하지 않아 뻇다\r\n",
    "\r\n",
    "#X = df_lunch[['요일', '본사정원수', '본사휴가자수', '본사출장자수', '본사시간외근무명령서승인건수', '현본사소속재택근무자수',\r\n",
    "#       '식사가능인원', '중식강수여부', '중식기온', '중식강수량', '석식강수여부', '석식기온', '석식강수량', '확진자수',\r\n",
    "#       '휴일전날', '휴일다음날']]\r\n",
    "#X = df[['요일','본사정원수','본사휴가자수','본사출장자수','본사시간외근무명령서승인건수','현본사소속재택근무자수','식사가능인원']] #0.43\r\n",
    "y = df_lunch['중식계']"
   ],
   "outputs": [],
   "metadata": {}
  },
  {
   "cell_type": "code",
   "execution_count": 221,
   "source": [
    "X.columns"
   ],
   "outputs": [
    {
     "output_type": "execute_result",
     "data": {
      "text/plain": [
       "Index(['본사정원수', '본사휴가자수', '본사출장자수', '본사시간외근무명령서승인건수', '식사가능인원', '중식강수량',\n",
       "       '확진자수', '중식강수여부', '휴일전날', '휴일다음날', '국분류_국', '국분류_국수', '국분류_스프',\n",
       "       '국분류_찌개', '국분류_탕', '메뉴분류_기타', '메뉴분류_육류', '메뉴분류_조류', '메뉴분류_해산물'],\n",
       "      dtype='object')"
      ]
     },
     "metadata": {},
     "execution_count": 221
    }
   ],
   "metadata": {}
  },
  {
   "cell_type": "code",
   "execution_count": 222,
   "source": [
    "X.head(2)"
   ],
   "outputs": [
    {
     "output_type": "execute_result",
     "data": {
      "text/html": [
       "<div>\n",
       "<style scoped>\n",
       "    .dataframe tbody tr th:only-of-type {\n",
       "        vertical-align: middle;\n",
       "    }\n",
       "\n",
       "    .dataframe tbody tr th {\n",
       "        vertical-align: top;\n",
       "    }\n",
       "\n",
       "    .dataframe thead th {\n",
       "        text-align: right;\n",
       "    }\n",
       "</style>\n",
       "<table border=\"1\" class=\"dataframe\">\n",
       "  <thead>\n",
       "    <tr style=\"text-align: right;\">\n",
       "      <th></th>\n",
       "      <th>본사정원수</th>\n",
       "      <th>본사휴가자수</th>\n",
       "      <th>본사출장자수</th>\n",
       "      <th>본사시간외근무명령서승인건수</th>\n",
       "      <th>식사가능인원</th>\n",
       "      <th>중식강수량</th>\n",
       "      <th>확진자수</th>\n",
       "      <th>중식강수여부</th>\n",
       "      <th>휴일전날</th>\n",
       "      <th>휴일다음날</th>\n",
       "      <th>국분류_국</th>\n",
       "      <th>국분류_국수</th>\n",
       "      <th>국분류_스프</th>\n",
       "      <th>국분류_찌개</th>\n",
       "      <th>국분류_탕</th>\n",
       "      <th>메뉴분류_기타</th>\n",
       "      <th>메뉴분류_육류</th>\n",
       "      <th>메뉴분류_조류</th>\n",
       "      <th>메뉴분류_해산물</th>\n",
       "    </tr>\n",
       "  </thead>\n",
       "  <tbody>\n",
       "    <tr>\n",
       "      <th>0</th>\n",
       "      <td>-1.208083</td>\n",
       "      <td>-0.748721</td>\n",
       "      <td>-2.094550</td>\n",
       "      <td>-0.146735</td>\n",
       "      <td>0.202544</td>\n",
       "      <td>-0.170096</td>\n",
       "      <td>-0.283312</td>\n",
       "      <td>0.0</td>\n",
       "      <td>0</td>\n",
       "      <td>0</td>\n",
       "      <td>0</td>\n",
       "      <td>0</td>\n",
       "      <td>0</td>\n",
       "      <td>1</td>\n",
       "      <td>0</td>\n",
       "      <td>0</td>\n",
       "      <td>1</td>\n",
       "      <td>0</td>\n",
       "      <td>0</td>\n",
       "    </tr>\n",
       "    <tr>\n",
       "      <th>1</th>\n",
       "      <td>-1.208083</td>\n",
       "      <td>-0.748721</td>\n",
       "      <td>-1.565987</td>\n",
       "      <td>0.182349</td>\n",
       "      <td>0.072225</td>\n",
       "      <td>-0.170096</td>\n",
       "      <td>-0.283312</td>\n",
       "      <td>0.0</td>\n",
       "      <td>0</td>\n",
       "      <td>0</td>\n",
       "      <td>0</td>\n",
       "      <td>0</td>\n",
       "      <td>0</td>\n",
       "      <td>1</td>\n",
       "      <td>0</td>\n",
       "      <td>0</td>\n",
       "      <td>0</td>\n",
       "      <td>0</td>\n",
       "      <td>1</td>\n",
       "    </tr>\n",
       "  </tbody>\n",
       "</table>\n",
       "</div>"
      ],
      "text/plain": [
       "      본사정원수    본사휴가자수    본사출장자수  본사시간외근무명령서승인건수    식사가능인원     중식강수량      확진자수  \\\n",
       "0 -1.208083 -0.748721 -2.094550       -0.146735  0.202544 -0.170096 -0.283312   \n",
       "1 -1.208083 -0.748721 -1.565987        0.182349  0.072225 -0.170096 -0.283312   \n",
       "\n",
       "   중식강수여부  휴일전날  휴일다음날  국분류_국  국분류_국수  국분류_스프  국분류_찌개  국분류_탕  메뉴분류_기타  \\\n",
       "0     0.0     0      0      0       0       0       1      0        0   \n",
       "1     0.0     0      0      0       0       0       1      0        0   \n",
       "\n",
       "   메뉴분류_육류  메뉴분류_조류  메뉴분류_해산물  \n",
       "0        1        0         0  \n",
       "1        0        0         1  "
      ]
     },
     "metadata": {},
     "execution_count": 222
    }
   ],
   "metadata": {}
  },
  {
   "cell_type": "code",
   "execution_count": 223,
   "source": [
    "X_train, X_test, y_train, y_test = train_test_split(X, y, test_size=0.3, random_state=1)"
   ],
   "outputs": [],
   "metadata": {}
  },
  {
   "cell_type": "markdown",
   "source": [
    "### 석식"
   ],
   "metadata": {}
  },
  {
   "cell_type": "code",
   "execution_count": 224,
   "source": [
    "X2 = df_dinner.drop(columns=['일자','중식계','석식계','석식결식','중식결식', '중식기온', '중식강수량', '중식강수여부','석식기온', '석식강수여부', '휴일전날'])\r\n",
    "\r\n",
    "# 석식에 경우 석식강수량과 강수여부가 휴일전날 pvaule 값이 유의미하지 않아 뺏다\r\n",
    "\r\n",
    "#X = df[['요일','본사정원수','본사휴가자수','본사출장자수','본사시간외근무명령서승인건수','현본사소속재택근무자수','식사가능인원']] #0.43\r\n",
    "y2 = df_dinner['석식계']\r\n",
    "\r\n",
    "X2_train, X2_test, y2_train, y2_test = train_test_split(X2, y2, test_size=0.3, random_state=1)"
   ],
   "outputs": [],
   "metadata": {}
  },
  {
   "cell_type": "code",
   "execution_count": 225,
   "source": [
    "df_dinner[df_dinner.휴일전날==1]['석식계'].mean()"
   ],
   "outputs": [
    {
     "output_type": "execute_result",
     "data": {
      "text/plain": [
       "340.25714285714287"
      ]
     },
     "metadata": {},
     "execution_count": 225
    }
   ],
   "metadata": {}
  },
  {
   "cell_type": "code",
   "execution_count": 226,
   "source": [
    "df_dinner['석식계'].mean()"
   ],
   "outputs": [
    {
     "output_type": "execute_result",
     "data": {
      "text/plain": [
       "478.69111302847284"
      ]
     },
     "metadata": {},
     "execution_count": 226
    }
   ],
   "metadata": {}
  },
  {
   "cell_type": "code",
   "execution_count": 227,
   "source": [
    "X2.columns"
   ],
   "outputs": [
    {
     "output_type": "execute_result",
     "data": {
      "text/plain": [
       "Index(['본사정원수', '본사휴가자수', '본사출장자수', '본사시간외근무명령서승인건수', '현본사소속재택근무자수', '식사가능인원',\n",
       "       '석식강수량', '확진자수', '휴일다음날', '국분류_국', '국분류_국수', '국분류_스프', '국분류_죽',\n",
       "       '국분류_찌개', '국분류_탕', '메뉴분류_기타', '메뉴분류_육류', '메뉴분류_조류', '메뉴분류_해산물'],\n",
       "      dtype='object')"
      ]
     },
     "metadata": {},
     "execution_count": 227
    }
   ],
   "metadata": {}
  },
  {
   "cell_type": "code",
   "execution_count": 228,
   "source": [
    "from statsmodels.stats.outliers_influence import variance_inflation_factor\r\n",
    "\r\n",
    "vif = pd.DataFrame()\r\n",
    "vif['vif_factor'] = [variance_inflation_factor(X.values, i) for i in range(X.shape[1])]\r\n",
    "vif['feature'] = X.columns\r\n",
    "vif = vif.sort_values('vif_factor').reset_index(drop=True)\r\n",
    "vif"
   ],
   "outputs": [
    {
     "output_type": "execute_result",
     "data": {
      "text/html": [
       "<div>\n",
       "<style scoped>\n",
       "    .dataframe tbody tr th:only-of-type {\n",
       "        vertical-align: middle;\n",
       "    }\n",
       "\n",
       "    .dataframe tbody tr th {\n",
       "        vertical-align: top;\n",
       "    }\n",
       "\n",
       "    .dataframe thead th {\n",
       "        text-align: right;\n",
       "    }\n",
       "</style>\n",
       "<table border=\"1\" class=\"dataframe\">\n",
       "  <thead>\n",
       "    <tr style=\"text-align: right;\">\n",
       "      <th></th>\n",
       "      <th>vif_factor</th>\n",
       "      <th>feature</th>\n",
       "    </tr>\n",
       "  </thead>\n",
       "  <tbody>\n",
       "    <tr>\n",
       "      <th>0</th>\n",
       "      <td>1.083694</td>\n",
       "      <td>휴일다음날</td>\n",
       "    </tr>\n",
       "    <tr>\n",
       "      <th>1</th>\n",
       "      <td>1.262796</td>\n",
       "      <td>휴일전날</td>\n",
       "    </tr>\n",
       "    <tr>\n",
       "      <th>2</th>\n",
       "      <td>1.397417</td>\n",
       "      <td>본사시간외근무명령서승인건수</td>\n",
       "    </tr>\n",
       "    <tr>\n",
       "      <th>3</th>\n",
       "      <td>1.465728</td>\n",
       "      <td>중식강수량</td>\n",
       "    </tr>\n",
       "    <tr>\n",
       "      <th>4</th>\n",
       "      <td>1.472908</td>\n",
       "      <td>중식강수여부</td>\n",
       "    </tr>\n",
       "    <tr>\n",
       "      <th>5</th>\n",
       "      <td>1.510301</td>\n",
       "      <td>본사출장자수</td>\n",
       "    </tr>\n",
       "    <tr>\n",
       "      <th>6</th>\n",
       "      <td>1.617284</td>\n",
       "      <td>확진자수</td>\n",
       "    </tr>\n",
       "    <tr>\n",
       "      <th>7</th>\n",
       "      <td>4.327271</td>\n",
       "      <td>본사정원수</td>\n",
       "    </tr>\n",
       "    <tr>\n",
       "      <th>8</th>\n",
       "      <td>4.467310</td>\n",
       "      <td>본사휴가자수</td>\n",
       "    </tr>\n",
       "    <tr>\n",
       "      <th>9</th>\n",
       "      <td>5.267838</td>\n",
       "      <td>식사가능인원</td>\n",
       "    </tr>\n",
       "    <tr>\n",
       "      <th>10</th>\n",
       "      <td>inf</td>\n",
       "      <td>메뉴분류_조류</td>\n",
       "    </tr>\n",
       "    <tr>\n",
       "      <th>11</th>\n",
       "      <td>inf</td>\n",
       "      <td>국분류_국</td>\n",
       "    </tr>\n",
       "    <tr>\n",
       "      <th>12</th>\n",
       "      <td>inf</td>\n",
       "      <td>국분류_국수</td>\n",
       "    </tr>\n",
       "    <tr>\n",
       "      <th>13</th>\n",
       "      <td>inf</td>\n",
       "      <td>국분류_스프</td>\n",
       "    </tr>\n",
       "    <tr>\n",
       "      <th>14</th>\n",
       "      <td>inf</td>\n",
       "      <td>국분류_찌개</td>\n",
       "    </tr>\n",
       "    <tr>\n",
       "      <th>15</th>\n",
       "      <td>inf</td>\n",
       "      <td>국분류_탕</td>\n",
       "    </tr>\n",
       "    <tr>\n",
       "      <th>16</th>\n",
       "      <td>inf</td>\n",
       "      <td>메뉴분류_기타</td>\n",
       "    </tr>\n",
       "    <tr>\n",
       "      <th>17</th>\n",
       "      <td>inf</td>\n",
       "      <td>메뉴분류_육류</td>\n",
       "    </tr>\n",
       "    <tr>\n",
       "      <th>18</th>\n",
       "      <td>inf</td>\n",
       "      <td>메뉴분류_해산물</td>\n",
       "    </tr>\n",
       "  </tbody>\n",
       "</table>\n",
       "</div>"
      ],
      "text/plain": [
       "    vif_factor         feature\n",
       "0     1.083694           휴일다음날\n",
       "1     1.262796            휴일전날\n",
       "2     1.397417  본사시간외근무명령서승인건수\n",
       "3     1.465728           중식강수량\n",
       "4     1.472908          중식강수여부\n",
       "5     1.510301          본사출장자수\n",
       "6     1.617284            확진자수\n",
       "7     4.327271           본사정원수\n",
       "8     4.467310          본사휴가자수\n",
       "9     5.267838          식사가능인원\n",
       "10         inf         메뉴분류_조류\n",
       "11         inf           국분류_국\n",
       "12         inf          국분류_국수\n",
       "13         inf          국분류_스프\n",
       "14         inf          국분류_찌개\n",
       "15         inf           국분류_탕\n",
       "16         inf         메뉴분류_기타\n",
       "17         inf         메뉴분류_육류\n",
       "18         inf        메뉴분류_해산물"
      ]
     },
     "metadata": {},
     "execution_count": 228
    }
   ],
   "metadata": {}
  },
  {
   "cell_type": "markdown",
   "source": [
    "# 모델링"
   ],
   "metadata": {}
  },
  {
   "cell_type": "markdown",
   "source": [
    "## 중식"
   ],
   "metadata": {}
  },
  {
   "cell_type": "code",
   "execution_count": 229,
   "source": [
    "import statsmodels.api as sm\r\n",
    "#lr = sm.OLS(y,X)\r\n",
    "#result= lr.fit() \r\n",
    "#print(result.summary())\r\n",
    "#print(result.params)\r\n",
    "#재택근무자수 무의미함 "
   ],
   "outputs": [],
   "metadata": {}
  },
  {
   "cell_type": "code",
   "execution_count": 230,
   "source": [
    "data=pd.concat([X,y],axis=1)\r\n",
    "data.columns\r\n",
    "data_x ='+'.join(data.columns[:-1])\r\n",
    "\r\n",
    "from statsmodels.formula.api import ols\r\n",
    "model = ols('중식계 ~'+data_x, data)\r\n",
    "res = model.fit()\r\n",
    "res.summary()\r\n",
    "\r\n",
    "# 재택근무 중식기온 p값 맞지않아 뻈다"
   ],
   "outputs": [
    {
     "output_type": "execute_result",
     "data": {
      "text/html": [
       "<table class=\"simpletable\">\n",
       "<caption>OLS Regression Results</caption>\n",
       "<tr>\n",
       "  <th>Dep. Variable:</th>           <td>중식계</td>       <th>  R-squared:         </th> <td>   0.668</td> \n",
       "</tr>\n",
       "<tr>\n",
       "  <th>Model:</th>                   <td>OLS</td>       <th>  Adj. R-squared:    </th> <td>   0.663</td> \n",
       "</tr>\n",
       "<tr>\n",
       "  <th>Method:</th>             <td>Least Squares</td>  <th>  F-statistic:       </th> <td>   140.6</td> \n",
       "</tr>\n",
       "<tr>\n",
       "  <th>Date:</th>             <td>Wed, 06 Oct 2021</td> <th>  Prob (F-statistic):</th> <td>1.07e-269</td>\n",
       "</tr>\n",
       "<tr>\n",
       "  <th>Time:</th>                 <td>11:38:06</td>     <th>  Log-Likelihood:    </th> <td> -7485.1</td> \n",
       "</tr>\n",
       "<tr>\n",
       "  <th>No. Observations:</th>      <td>  1205</td>      <th>  AIC:               </th> <td>1.501e+04</td>\n",
       "</tr>\n",
       "<tr>\n",
       "  <th>Df Residuals:</th>          <td>  1187</td>      <th>  BIC:               </th> <td>1.510e+04</td>\n",
       "</tr>\n",
       "<tr>\n",
       "  <th>Df Model:</th>              <td>    17</td>      <th>                     </th>     <td> </td>    \n",
       "</tr>\n",
       "<tr>\n",
       "  <th>Covariance Type:</th>      <td>nonrobust</td>    <th>                     </th>     <td> </td>    \n",
       "</tr>\n",
       "</table>\n",
       "<table class=\"simpletable\">\n",
       "<tr>\n",
       "         <td></td>           <th>coef</th>     <th>std err</th>      <th>t</th>      <th>P>|t|</th>  <th>[0.025</th>    <th>0.975]</th>  \n",
       "</tr>\n",
       "<tr>\n",
       "  <th>Intercept</th>      <td>  612.8545</td> <td>   12.297</td> <td>   49.836</td> <td> 0.000</td> <td>  588.727</td> <td>  636.982</td>\n",
       "</tr>\n",
       "<tr>\n",
       "  <th>본사정원수</th>          <td>  -65.1817</td> <td>    7.284</td> <td>   -8.949</td> <td> 0.000</td> <td>  -79.472</td> <td>  -50.891</td>\n",
       "</tr>\n",
       "<tr>\n",
       "  <th>본사휴가자수</th>         <td>  -49.4663</td> <td>    7.401</td> <td>   -6.684</td> <td> 0.000</td> <td>  -63.986</td> <td>  -34.946</td>\n",
       "</tr>\n",
       "<tr>\n",
       "  <th>본사출장자수</th>         <td> -109.4342</td> <td>    4.303</td> <td>  -25.432</td> <td> 0.000</td> <td> -117.877</td> <td> -100.992</td>\n",
       "</tr>\n",
       "<tr>\n",
       "  <th>본사시간외근무명령서승인건수</th> <td>   50.9354</td> <td>    4.139</td> <td>   12.306</td> <td> 0.000</td> <td>   42.815</td> <td>   59.056</td>\n",
       "</tr>\n",
       "<tr>\n",
       "  <th>식사가능인원</th>         <td>   63.6394</td> <td>    8.036</td> <td>    7.919</td> <td> 0.000</td> <td>   47.872</td> <td>   79.407</td>\n",
       "</tr>\n",
       "<tr>\n",
       "  <th>중식강수량</th>          <td>    7.2731</td> <td>    4.239</td> <td>    1.716</td> <td> 0.086</td> <td>   -1.044</td> <td>   15.590</td>\n",
       "</tr>\n",
       "<tr>\n",
       "  <th>확진자수</th>           <td>   18.9378</td> <td>    4.453</td> <td>    4.253</td> <td> 0.000</td> <td>   10.201</td> <td>   27.674</td>\n",
       "</tr>\n",
       "<tr>\n",
       "  <th>중식강수여부</th>         <td>   40.2118</td> <td>   15.266</td> <td>    2.634</td> <td> 0.009</td> <td>   10.260</td> <td>   70.164</td>\n",
       "</tr>\n",
       "<tr>\n",
       "  <th>휴일전날</th>           <td>  -59.6537</td> <td>   22.515</td> <td>   -2.650</td> <td> 0.008</td> <td> -103.828</td> <td>  -15.480</td>\n",
       "</tr>\n",
       "<tr>\n",
       "  <th>휴일다음날</th>          <td>   77.6230</td> <td>   20.106</td> <td>    3.861</td> <td> 0.000</td> <td>   38.176</td> <td>  117.070</td>\n",
       "</tr>\n",
       "<tr>\n",
       "  <th>국분류_국</th>          <td>  121.4266</td> <td>   15.773</td> <td>    7.698</td> <td> 0.000</td> <td>   90.480</td> <td>  152.373</td>\n",
       "</tr>\n",
       "<tr>\n",
       "  <th>국분류_국수</th>         <td>  141.0226</td> <td>   18.841</td> <td>    7.485</td> <td> 0.000</td> <td>  104.056</td> <td>  177.989</td>\n",
       "</tr>\n",
       "<tr>\n",
       "  <th>국분류_스프</th>         <td>  156.2513</td> <td>   71.632</td> <td>    2.181</td> <td> 0.029</td> <td>   15.712</td> <td>  296.790</td>\n",
       "</tr>\n",
       "<tr>\n",
       "  <th>국분류_찌개</th>         <td>   98.0514</td> <td>   16.923</td> <td>    5.794</td> <td> 0.000</td> <td>   64.848</td> <td>  131.255</td>\n",
       "</tr>\n",
       "<tr>\n",
       "  <th>국분류_탕</th>          <td>   96.1025</td> <td>   16.709</td> <td>    5.752</td> <td> 0.000</td> <td>   63.320</td> <td>  128.885</td>\n",
       "</tr>\n",
       "<tr>\n",
       "  <th>메뉴분류_기타</th>        <td>  165.2700</td> <td>   12.189</td> <td>   13.559</td> <td> 0.000</td> <td>  141.355</td> <td>  189.184</td>\n",
       "</tr>\n",
       "<tr>\n",
       "  <th>메뉴분류_육류</th>        <td>  175.5290</td> <td>    6.403</td> <td>   27.413</td> <td> 0.000</td> <td>  162.966</td> <td>  188.092</td>\n",
       "</tr>\n",
       "<tr>\n",
       "  <th>메뉴분류_조류</th>        <td>  142.6595</td> <td>    8.301</td> <td>   17.186</td> <td> 0.000</td> <td>  126.373</td> <td>  158.946</td>\n",
       "</tr>\n",
       "<tr>\n",
       "  <th>메뉴분류_해산물</th>       <td>  129.3960</td> <td>    7.604</td> <td>   17.017</td> <td> 0.000</td> <td>  114.477</td> <td>  144.315</td>\n",
       "</tr>\n",
       "</table>\n",
       "<table class=\"simpletable\">\n",
       "<tr>\n",
       "  <th>Omnibus:</th>       <td> 2.466</td> <th>  Durbin-Watson:     </th> <td>   1.703</td>\n",
       "</tr>\n",
       "<tr>\n",
       "  <th>Prob(Omnibus):</th> <td> 0.291</td> <th>  Jarque-Bera (JB):  </th> <td>   2.567</td>\n",
       "</tr>\n",
       "<tr>\n",
       "  <th>Skew:</th>          <td>-0.026</td> <th>  Prob(JB):          </th> <td>   0.277</td>\n",
       "</tr>\n",
       "<tr>\n",
       "  <th>Kurtosis:</th>      <td> 3.220</td> <th>  Cond. No.          </th> <td>1.04e+16</td>\n",
       "</tr>\n",
       "</table><br/><br/>Notes:<br/>[1] Standard Errors assume that the covariance matrix of the errors is correctly specified.<br/>[2] The smallest eigenvalue is 2.09e-29. This might indicate that there are<br/>strong multicollinearity problems or that the design matrix is singular."
      ],
      "text/plain": [
       "<class 'statsmodels.iolib.summary.Summary'>\n",
       "\"\"\"\n",
       "                            OLS Regression Results                            \n",
       "==============================================================================\n",
       "Dep. Variable:                    중식계   R-squared:                       0.668\n",
       "Model:                            OLS   Adj. R-squared:                  0.663\n",
       "Method:                 Least Squares   F-statistic:                     140.6\n",
       "Date:                Wed, 06 Oct 2021   Prob (F-statistic):          1.07e-269\n",
       "Time:                        11:38:06   Log-Likelihood:                -7485.1\n",
       "No. Observations:                1205   AIC:                         1.501e+04\n",
       "Df Residuals:                    1187   BIC:                         1.510e+04\n",
       "Df Model:                          17                                         \n",
       "Covariance Type:            nonrobust                                         \n",
       "==================================================================================\n",
       "                     coef    std err          t      P>|t|      [0.025      0.975]\n",
       "----------------------------------------------------------------------------------\n",
       "Intercept        612.8545     12.297     49.836      0.000     588.727     636.982\n",
       "본사정원수            -65.1817      7.284     -8.949      0.000     -79.472     -50.891\n",
       "본사휴가자수           -49.4663      7.401     -6.684      0.000     -63.986     -34.946\n",
       "본사출장자수          -109.4342      4.303    -25.432      0.000    -117.877    -100.992\n",
       "본사시간외근무명령서승인건수    50.9354      4.139     12.306      0.000      42.815      59.056\n",
       "식사가능인원            63.6394      8.036      7.919      0.000      47.872      79.407\n",
       "중식강수량              7.2731      4.239      1.716      0.086      -1.044      15.590\n",
       "확진자수              18.9378      4.453      4.253      0.000      10.201      27.674\n",
       "중식강수여부            40.2118     15.266      2.634      0.009      10.260      70.164\n",
       "휴일전날             -59.6537     22.515     -2.650      0.008    -103.828     -15.480\n",
       "휴일다음날             77.6230     20.106      3.861      0.000      38.176     117.070\n",
       "국분류_국            121.4266     15.773      7.698      0.000      90.480     152.373\n",
       "국분류_국수           141.0226     18.841      7.485      0.000     104.056     177.989\n",
       "국분류_스프           156.2513     71.632      2.181      0.029      15.712     296.790\n",
       "국분류_찌개            98.0514     16.923      5.794      0.000      64.848     131.255\n",
       "국분류_탕             96.1025     16.709      5.752      0.000      63.320     128.885\n",
       "메뉴분류_기타          165.2700     12.189     13.559      0.000     141.355     189.184\n",
       "메뉴분류_육류          175.5290      6.403     27.413      0.000     162.966     188.092\n",
       "메뉴분류_조류          142.6595      8.301     17.186      0.000     126.373     158.946\n",
       "메뉴분류_해산물         129.3960      7.604     17.017      0.000     114.477     144.315\n",
       "==============================================================================\n",
       "Omnibus:                        2.466   Durbin-Watson:                   1.703\n",
       "Prob(Omnibus):                  0.291   Jarque-Bera (JB):                2.567\n",
       "Skew:                          -0.026   Prob(JB):                        0.277\n",
       "Kurtosis:                       3.220   Cond. No.                     1.04e+16\n",
       "==============================================================================\n",
       "\n",
       "Notes:\n",
       "[1] Standard Errors assume that the covariance matrix of the errors is correctly specified.\n",
       "[2] The smallest eigenvalue is 2.09e-29. This might indicate that there are\n",
       "strong multicollinearity problems or that the design matrix is singular.\n",
       "\"\"\""
      ]
     },
     "metadata": {},
     "execution_count": 230
    }
   ],
   "metadata": {}
  },
  {
   "cell_type": "markdown",
   "source": [
    "## 석식"
   ],
   "metadata": {}
  },
  {
   "cell_type": "code",
   "execution_count": 231,
   "source": [
    "#lr = sm.OLS(y2,X2)\r\n",
    "#result= lr.fit() \r\n",
    "#print(result.summary())\r\n",
    "#print(result.params)\r\n",
    "# 저녁은 확진자수, 강수, 강수여부"
   ],
   "outputs": [],
   "metadata": {}
  },
  {
   "cell_type": "code",
   "execution_count": 232,
   "source": [
    "data=pd.concat([X2,y2],axis=1)\r\n",
    "data.columns\r\n",
    "data_x ='+'.join(data.columns[:-1])\r\n",
    "\r\n",
    "model = ols('석식계 ~'+data_x, data)\r\n",
    "res = model.fit()\r\n",
    "res.summary()  \r\n",
    "\r\n",
    "# 석식기온, 석식 강수여부"
   ],
   "outputs": [
    {
     "output_type": "execute_result",
     "data": {
      "text/html": [
       "<table class=\"simpletable\">\n",
       "<caption>OLS Regression Results</caption>\n",
       "<tr>\n",
       "  <th>Dep. Variable:</th>           <td>석식계</td>       <th>  R-squared:         </th> <td>   0.545</td> \n",
       "</tr>\n",
       "<tr>\n",
       "  <th>Model:</th>                   <td>OLS</td>       <th>  Adj. R-squared:    </th> <td>   0.538</td> \n",
       "</tr>\n",
       "<tr>\n",
       "  <th>Method:</th>             <td>Least Squares</td>  <th>  F-statistic:       </th> <td>   85.40</td> \n",
       "</tr>\n",
       "<tr>\n",
       "  <th>Date:</th>             <td>Wed, 06 Oct 2021</td> <th>  Prob (F-statistic):</th> <td>4.47e-182</td>\n",
       "</tr>\n",
       "<tr>\n",
       "  <th>Time:</th>                 <td>11:38:06</td>     <th>  Log-Likelihood:    </th> <td> -6626.6</td> \n",
       "</tr>\n",
       "<tr>\n",
       "  <th>No. Observations:</th>      <td>  1159</td>      <th>  AIC:               </th> <td>1.329e+04</td>\n",
       "</tr>\n",
       "<tr>\n",
       "  <th>Df Residuals:</th>          <td>  1142</td>      <th>  BIC:               </th> <td>1.337e+04</td>\n",
       "</tr>\n",
       "<tr>\n",
       "  <th>Df Model:</th>              <td>    16</td>      <th>                     </th>     <td> </td>    \n",
       "</tr>\n",
       "<tr>\n",
       "  <th>Covariance Type:</th>      <td>nonrobust</td>    <th>                     </th>     <td> </td>    \n",
       "</tr>\n",
       "</table>\n",
       "<table class=\"simpletable\">\n",
       "<tr>\n",
       "         <td></td>           <th>coef</th>     <th>std err</th>      <th>t</th>      <th>P>|t|</th>  <th>[0.025</th>    <th>0.975]</th>  \n",
       "</tr>\n",
       "<tr>\n",
       "  <th>Intercept</th>      <td>  350.2499</td> <td>    9.048</td> <td>   38.710</td> <td> 0.000</td> <td>  332.497</td> <td>  368.002</td>\n",
       "</tr>\n",
       "<tr>\n",
       "  <th>본사정원수</th>          <td>  -27.8657</td> <td>    1.622</td> <td>  -17.182</td> <td> 0.000</td> <td>  -31.048</td> <td>  -24.684</td>\n",
       "</tr>\n",
       "<tr>\n",
       "  <th>본사휴가자수</th>         <td>  -29.4627</td> <td>    1.946</td> <td>  -15.143</td> <td> 0.000</td> <td>  -33.280</td> <td>  -25.645</td>\n",
       "</tr>\n",
       "<tr>\n",
       "  <th>본사출장자수</th>         <td>  -18.4324</td> <td>    2.584</td> <td>   -7.135</td> <td> 0.000</td> <td>  -23.501</td> <td>  -13.363</td>\n",
       "</tr>\n",
       "<tr>\n",
       "  <th>본사시간외근무명령서승인건수</th> <td>   53.9415</td> <td>    2.639</td> <td>   20.443</td> <td> 0.000</td> <td>   48.764</td> <td>   59.119</td>\n",
       "</tr>\n",
       "<tr>\n",
       "  <th>현본사소속재택근무자수</th>    <td>  -12.2431</td> <td>    2.500</td> <td>   -4.897</td> <td> 0.000</td> <td>  -17.149</td> <td>   -7.337</td>\n",
       "</tr>\n",
       "<tr>\n",
       "  <th>식사가능인원</th>         <td>    9.3482</td> <td>    1.734</td> <td>    5.392</td> <td> 0.000</td> <td>    5.946</td> <td>   12.750</td>\n",
       "</tr>\n",
       "<tr>\n",
       "  <th>석식강수량</th>          <td>    5.7516</td> <td>    2.197</td> <td>    2.617</td> <td> 0.009</td> <td>    1.440</td> <td>   10.063</td>\n",
       "</tr>\n",
       "<tr>\n",
       "  <th>확진자수</th>           <td>    0.1311</td> <td>    2.765</td> <td>    0.047</td> <td> 0.962</td> <td>   -5.293</td> <td>    5.556</td>\n",
       "</tr>\n",
       "<tr>\n",
       "  <th>휴일다음날</th>          <td>   37.9386</td> <td>   12.391</td> <td>    3.062</td> <td> 0.002</td> <td>   13.626</td> <td>   62.251</td>\n",
       "</tr>\n",
       "<tr>\n",
       "  <th>국분류_국</th>          <td>   39.9654</td> <td>   11.578</td> <td>    3.452</td> <td> 0.001</td> <td>   17.249</td> <td>   62.682</td>\n",
       "</tr>\n",
       "<tr>\n",
       "  <th>국분류_국수</th>         <td>   40.8898</td> <td>   12.711</td> <td>    3.217</td> <td> 0.001</td> <td>   15.950</td> <td>   65.830</td>\n",
       "</tr>\n",
       "<tr>\n",
       "  <th>국분류_스프</th>         <td>   34.4049</td> <td>   15.750</td> <td>    2.184</td> <td> 0.029</td> <td>    3.502</td> <td>   65.308</td>\n",
       "</tr>\n",
       "<tr>\n",
       "  <th>국분류_죽</th>          <td>  161.8128</td> <td>   63.935</td> <td>    2.531</td> <td> 0.012</td> <td>   36.370</td> <td>  287.256</td>\n",
       "</tr>\n",
       "<tr>\n",
       "  <th>국분류_찌개</th>         <td>   42.1768</td> <td>   12.219</td> <td>    3.452</td> <td> 0.001</td> <td>   18.202</td> <td>   66.152</td>\n",
       "</tr>\n",
       "<tr>\n",
       "  <th>국분류_탕</th>          <td>   31.0002</td> <td>   12.252</td> <td>    2.530</td> <td> 0.012</td> <td>    6.962</td> <td>   55.039</td>\n",
       "</tr>\n",
       "<tr>\n",
       "  <th>메뉴분류_기타</th>        <td>   80.1578</td> <td>    4.829</td> <td>   16.600</td> <td> 0.000</td> <td>   70.683</td> <td>   89.632</td>\n",
       "</tr>\n",
       "<tr>\n",
       "  <th>메뉴분류_육류</th>        <td>   95.0858</td> <td>    4.142</td> <td>   22.958</td> <td> 0.000</td> <td>   86.959</td> <td>  103.212</td>\n",
       "</tr>\n",
       "<tr>\n",
       "  <th>메뉴분류_조류</th>        <td>   92.9245</td> <td>    5.775</td> <td>   16.090</td> <td> 0.000</td> <td>   81.593</td> <td>  104.256</td>\n",
       "</tr>\n",
       "<tr>\n",
       "  <th>메뉴분류_해산물</th>       <td>   82.0818</td> <td>    4.350</td> <td>   18.869</td> <td> 0.000</td> <td>   73.547</td> <td>   90.617</td>\n",
       "</tr>\n",
       "</table>\n",
       "<table class=\"simpletable\">\n",
       "<tr>\n",
       "  <th>Omnibus:</th>       <td>58.190</td> <th>  Durbin-Watson:     </th> <td>   1.326</td>\n",
       "</tr>\n",
       "<tr>\n",
       "  <th>Prob(Omnibus):</th> <td> 0.000</td> <th>  Jarque-Bera (JB):  </th> <td> 168.740</td>\n",
       "</tr>\n",
       "<tr>\n",
       "  <th>Skew:</th>          <td>-0.183</td> <th>  Prob(JB):          </th> <td>2.28e-37</td>\n",
       "</tr>\n",
       "<tr>\n",
       "  <th>Kurtosis:</th>      <td> 4.833</td> <th>  Cond. No.          </th> <td>9.53e+15</td>\n",
       "</tr>\n",
       "</table><br/><br/>Notes:<br/>[1] Standard Errors assume that the covariance matrix of the errors is correctly specified.<br/>[2] The smallest eigenvalue is 2.84e-29. This might indicate that there are<br/>strong multicollinearity problems or that the design matrix is singular."
      ],
      "text/plain": [
       "<class 'statsmodels.iolib.summary.Summary'>\n",
       "\"\"\"\n",
       "                            OLS Regression Results                            \n",
       "==============================================================================\n",
       "Dep. Variable:                    석식계   R-squared:                       0.545\n",
       "Model:                            OLS   Adj. R-squared:                  0.538\n",
       "Method:                 Least Squares   F-statistic:                     85.40\n",
       "Date:                Wed, 06 Oct 2021   Prob (F-statistic):          4.47e-182\n",
       "Time:                        11:38:06   Log-Likelihood:                -6626.6\n",
       "No. Observations:                1159   AIC:                         1.329e+04\n",
       "Df Residuals:                    1142   BIC:                         1.337e+04\n",
       "Df Model:                          16                                         \n",
       "Covariance Type:            nonrobust                                         \n",
       "==================================================================================\n",
       "                     coef    std err          t      P>|t|      [0.025      0.975]\n",
       "----------------------------------------------------------------------------------\n",
       "Intercept        350.2499      9.048     38.710      0.000     332.497     368.002\n",
       "본사정원수            -27.8657      1.622    -17.182      0.000     -31.048     -24.684\n",
       "본사휴가자수           -29.4627      1.946    -15.143      0.000     -33.280     -25.645\n",
       "본사출장자수           -18.4324      2.584     -7.135      0.000     -23.501     -13.363\n",
       "본사시간외근무명령서승인건수    53.9415      2.639     20.443      0.000      48.764      59.119\n",
       "현본사소속재택근무자수      -12.2431      2.500     -4.897      0.000     -17.149      -7.337\n",
       "식사가능인원             9.3482      1.734      5.392      0.000       5.946      12.750\n",
       "석식강수량              5.7516      2.197      2.617      0.009       1.440      10.063\n",
       "확진자수               0.1311      2.765      0.047      0.962      -5.293       5.556\n",
       "휴일다음날             37.9386     12.391      3.062      0.002      13.626      62.251\n",
       "국분류_국             39.9654     11.578      3.452      0.001      17.249      62.682\n",
       "국분류_국수            40.8898     12.711      3.217      0.001      15.950      65.830\n",
       "국분류_스프            34.4049     15.750      2.184      0.029       3.502      65.308\n",
       "국분류_죽            161.8128     63.935      2.531      0.012      36.370     287.256\n",
       "국분류_찌개            42.1768     12.219      3.452      0.001      18.202      66.152\n",
       "국분류_탕             31.0002     12.252      2.530      0.012       6.962      55.039\n",
       "메뉴분류_기타           80.1578      4.829     16.600      0.000      70.683      89.632\n",
       "메뉴분류_육류           95.0858      4.142     22.958      0.000      86.959     103.212\n",
       "메뉴분류_조류           92.9245      5.775     16.090      0.000      81.593     104.256\n",
       "메뉴분류_해산물          82.0818      4.350     18.869      0.000      73.547      90.617\n",
       "==============================================================================\n",
       "Omnibus:                       58.190   Durbin-Watson:                   1.326\n",
       "Prob(Omnibus):                  0.000   Jarque-Bera (JB):              168.740\n",
       "Skew:                          -0.183   Prob(JB):                     2.28e-37\n",
       "Kurtosis:                       4.833   Cond. No.                     9.53e+15\n",
       "==============================================================================\n",
       "\n",
       "Notes:\n",
       "[1] Standard Errors assume that the covariance matrix of the errors is correctly specified.\n",
       "[2] The smallest eigenvalue is 2.84e-29. This might indicate that there are\n",
       "strong multicollinearity problems or that the design matrix is singular.\n",
       "\"\"\""
      ]
     },
     "metadata": {},
     "execution_count": 232
    }
   ],
   "metadata": {}
  },
  {
   "cell_type": "markdown",
   "source": [
    "## 릿지"
   ],
   "metadata": {}
  },
  {
   "cell_type": "markdown",
   "source": [
    "### 점심"
   ],
   "metadata": {}
  },
  {
   "cell_type": "code",
   "execution_count": 233,
   "source": [
    "from sklearn.linear_model import Ridge\r\n",
    "\r\n",
    "param_grid = {'alpha':[0.001, 0.01, 0.1, 1,10,50]}\r\n",
    "gird_search = GridSearchCV(Ridge(),param_grid, cv=5, scoring='r2')\r\n",
    "gird_search.fit(X_train,y_train)\r\n",
    "pre =gird_search.predict(X_test)\r\n",
    "\r\n",
    "print(gird_search.best_params_)\r\n",
    "print('RMSE=',np.sqrt(mean_squared_error(y_test, pre)))\r\n",
    "print('MAE=',mean_absolute_error(y_test, pre))\r\n",
    "print('r2score=',r2_score(y_test, pre))\r\n",
    "\r\n",
    "\r\n"
   ],
   "outputs": [
    {
     "output_type": "stream",
     "name": "stdout",
     "text": [
      "{'alpha': 10}\n",
      "RMSE= 123.18069766238233\n",
      "MAE= 96.51013295994551\n",
      "r2score= 0.6490244742821681\n"
     ]
    }
   ],
   "metadata": {}
  },
  {
   "cell_type": "code",
   "execution_count": 240,
   "source": [
    "perm = PermutationImportance(gird_search, random_state = 42).fit(X_train,y_train) \r\n",
    "#eli5.show_weights(perm, top = 20, feature_names = X_train.columns.tolist(),include_styles=True)\r\n",
    "eli = eli5.explain_weights_df(perm,feature_names= X_train.columns.tolist()).head(5)\r\n"
   ],
   "outputs": [],
   "metadata": {}
  },
  {
   "cell_type": "code",
   "execution_count": 244,
   "source": [
    "plt.figure(figsize=(10,5))\r\n",
    "sns.barplot(data=eli, x='feature', y='weight')"
   ],
   "outputs": [
    {
     "output_type": "execute_result",
     "data": {
      "text/plain": [
       "<AxesSubplot:xlabel='feature', ylabel='weight'>"
      ]
     },
     "metadata": {},
     "execution_count": 244
    },
    {
     "output_type": "display_data",
     "data": {
      "image/png": "[encoded data removed]",
      "text/plain": [
       "<Figure size 720x360 with 1 Axes>"
      ]
     },
     "metadata": {
      "needs_background": "light"
     }
    }
   ],
   "metadata": {}
  },
  {
   "cell_type": "code",
   "execution_count": null,
   "source": [
    "eli5"
   ],
   "outputs": [
    {
     "output_type": "execute_result",
     "data": {
      "text/html": [
       "<div>\n",
       "<style scoped>\n",
       "    .dataframe tbody tr th:only-of-type {\n",
       "        vertical-align: middle;\n",
       "    }\n",
       "\n",
       "    .dataframe tbody tr th {\n",
       "        vertical-align: top;\n",
       "    }\n",
       "\n",
       "    .dataframe thead th {\n",
       "        text-align: right;\n",
       "    }\n",
       "</style>\n",
       "<table border=\"1\" class=\"dataframe\">\n",
       "  <thead>\n",
       "    <tr style=\"text-align: right;\">\n",
       "      <th></th>\n",
       "      <th>feature</th>\n",
       "      <th>weight</th>\n",
       "      <th>std</th>\n",
       "    </tr>\n",
       "  </thead>\n",
       "  <tbody>\n",
       "    <tr>\n",
       "      <th>0</th>\n",
       "      <td>본사출장자수</td>\n",
       "      <td>0.638728</td>\n",
       "      <td>0.013588</td>\n",
       "    </tr>\n",
       "    <tr>\n",
       "      <th>1</th>\n",
       "      <td>본사정원수</td>\n",
       "      <td>0.177111</td>\n",
       "      <td>0.018881</td>\n",
       "    </tr>\n",
       "    <tr>\n",
       "      <th>2</th>\n",
       "      <td>식사가능인원</td>\n",
       "      <td>0.159608</td>\n",
       "      <td>0.008201</td>\n",
       "    </tr>\n",
       "    <tr>\n",
       "      <th>3</th>\n",
       "      <td>본사휴가자수</td>\n",
       "      <td>0.119368</td>\n",
       "      <td>0.012288</td>\n",
       "    </tr>\n",
       "    <tr>\n",
       "      <th>4</th>\n",
       "      <td>본사시간외근무명령서승인건수</td>\n",
       "      <td>0.085949</td>\n",
       "      <td>0.008542</td>\n",
       "    </tr>\n",
       "    <tr>\n",
       "      <th>5</th>\n",
       "      <td>확진자수</td>\n",
       "      <td>0.015111</td>\n",
       "      <td>0.002469</td>\n",
       "    </tr>\n",
       "    <tr>\n",
       "      <th>6</th>\n",
       "      <td>휴일다음날</td>\n",
       "      <td>0.009955</td>\n",
       "      <td>0.002522</td>\n",
       "    </tr>\n",
       "    <tr>\n",
       "      <th>7</th>\n",
       "      <td>메뉴분류_육류</td>\n",
       "      <td>0.006343</td>\n",
       "      <td>0.001538</td>\n",
       "    </tr>\n",
       "    <tr>\n",
       "      <th>8</th>\n",
       "      <td>국분류_탕</td>\n",
       "      <td>0.005343</td>\n",
       "      <td>0.001704</td>\n",
       "    </tr>\n",
       "    <tr>\n",
       "      <th>9</th>\n",
       "      <td>메뉴분류_해산물</td>\n",
       "      <td>0.005020</td>\n",
       "      <td>0.002191</td>\n",
       "    </tr>\n",
       "  </tbody>\n",
       "</table>\n",
       "</div>"
      ],
      "text/plain": [
       "          feature    weight       std\n",
       "0          본사출장자수  0.638728  0.013588\n",
       "1           본사정원수  0.177111  0.018881\n",
       "2          식사가능인원  0.159608  0.008201\n",
       "3          본사휴가자수  0.119368  0.012288\n",
       "4  본사시간외근무명령서승인건수  0.085949  0.008542\n",
       "5            확진자수  0.015111  0.002469\n",
       "6           휴일다음날  0.009955  0.002522\n",
       "7         메뉴분류_육류  0.006343  0.001538\n",
       "8           국분류_탕  0.005343  0.001704\n",
       "9        메뉴분류_해산물  0.005020  0.002191"
      ]
     },
     "metadata": {},
     "execution_count": 186
    }
   ],
   "metadata": {}
  },
  {
   "cell_type": "markdown",
   "source": [
    "### 저녁"
   ],
   "metadata": {}
  },
  {
   "cell_type": "code",
   "execution_count": null,
   "source": [
    "from sklearn.linear_model import Ridge\r\n",
    "\r\n",
    "param_grid = {'alpha':[0.001, 0.01, 0.1, 1,10,50]}\r\n",
    "gird_search = GridSearchCV(Ridge(),param_grid, cv=5, scoring='neg_mean_absolute_error')\r\n",
    "\r\n",
    "gird_search.fit(X2_train,y2_train)\r\n",
    "pre =gird_search.predict(X2_test)\r\n",
    "print(gird_search.best_params_)\r\n",
    "\r\n",
    "print('RMSE=',np.sqrt(mean_squared_error(y2_test, pre)))\r\n",
    "print('MAE=',mean_absolute_error(y2_test, pre))\r\n",
    "print('r2score=',r2_score(y2_test, pre))"
   ],
   "outputs": [
    {
     "output_type": "stream",
     "name": "stdout",
     "text": [
      "{'alpha': 1}\n",
      "RMSE= 63.155372016313024\n",
      "MAE= 49.31556906169137\n",
      "r2score= 0.6487526886059538\n"
     ]
    }
   ],
   "metadata": {}
  },
  {
   "cell_type": "code",
   "execution_count": null,
   "source": [
    "perm = PermutationImportance(gird_search, random_state = 42).fit(X2_train,y2_train) \r\n",
    "#eli5.show_weights(perm, top = 20, feature_names = X2_train.columns.tolist(),include_styles=True)\r\n",
    "eli5.explain_weights_df(perm,feature_names= X2_train.columns.tolist()).head(10)"
   ],
   "outputs": [
    {
     "output_type": "execute_result",
     "data": {
      "text/html": [
       "<div>\n",
       "<style scoped>\n",
       "    .dataframe tbody tr th:only-of-type {\n",
       "        vertical-align: middle;\n",
       "    }\n",
       "\n",
       "    .dataframe tbody tr th {\n",
       "        vertical-align: top;\n",
       "    }\n",
       "\n",
       "    .dataframe thead th {\n",
       "        text-align: right;\n",
       "    }\n",
       "</style>\n",
       "<table border=\"1\" class=\"dataframe\">\n",
       "  <thead>\n",
       "    <tr style=\"text-align: right;\">\n",
       "      <th></th>\n",
       "      <th>feature</th>\n",
       "      <th>weight</th>\n",
       "      <th>std</th>\n",
       "    </tr>\n",
       "  </thead>\n",
       "  <tbody>\n",
       "    <tr>\n",
       "      <th>0</th>\n",
       "      <td>본사시간외근무명령서승인건수</td>\n",
       "      <td>50.049113</td>\n",
       "      <td>2.529607</td>\n",
       "    </tr>\n",
       "    <tr>\n",
       "      <th>1</th>\n",
       "      <td>본사정원수</td>\n",
       "      <td>15.419605</td>\n",
       "      <td>0.725768</td>\n",
       "    </tr>\n",
       "    <tr>\n",
       "      <th>2</th>\n",
       "      <td>본사휴가자수</td>\n",
       "      <td>12.892925</td>\n",
       "      <td>0.644951</td>\n",
       "    </tr>\n",
       "    <tr>\n",
       "      <th>3</th>\n",
       "      <td>본사출장자수</td>\n",
       "      <td>9.272755</td>\n",
       "      <td>0.540576</td>\n",
       "    </tr>\n",
       "    <tr>\n",
       "      <th>4</th>\n",
       "      <td>요일_금</td>\n",
       "      <td>7.035980</td>\n",
       "      <td>0.471004</td>\n",
       "    </tr>\n",
       "    <tr>\n",
       "      <th>5</th>\n",
       "      <td>현본사소속재택근무자수</td>\n",
       "      <td>3.655122</td>\n",
       "      <td>0.371951</td>\n",
       "    </tr>\n",
       "    <tr>\n",
       "      <th>6</th>\n",
       "      <td>월_8</td>\n",
       "      <td>3.361208</td>\n",
       "      <td>0.322418</td>\n",
       "    </tr>\n",
       "    <tr>\n",
       "      <th>7</th>\n",
       "      <td>월_12</td>\n",
       "      <td>3.250689</td>\n",
       "      <td>0.293611</td>\n",
       "    </tr>\n",
       "    <tr>\n",
       "      <th>8</th>\n",
       "      <td>식사가능인원</td>\n",
       "      <td>2.673621</td>\n",
       "      <td>0.295137</td>\n",
       "    </tr>\n",
       "    <tr>\n",
       "      <th>9</th>\n",
       "      <td>요일_목</td>\n",
       "      <td>2.611485</td>\n",
       "      <td>0.244310</td>\n",
       "    </tr>\n",
       "  </tbody>\n",
       "</table>\n",
       "</div>"
      ],
      "text/plain": [
       "          feature     weight       std\n",
       "0  본사시간외근무명령서승인건수  50.049113  2.529607\n",
       "1           본사정원수  15.419605  0.725768\n",
       "2          본사휴가자수  12.892925  0.644951\n",
       "3          본사출장자수   9.272755  0.540576\n",
       "4            요일_금   7.035980  0.471004\n",
       "5     현본사소속재택근무자수   3.655122  0.371951\n",
       "6             월_8   3.361208  0.322418\n",
       "7            월_12   3.250689  0.293611\n",
       "8          식사가능인원   2.673621  0.295137\n",
       "9            요일_목   2.611485  0.244310"
      ]
     },
     "metadata": {},
     "execution_count": 68
    }
   ],
   "metadata": {}
  },
  {
   "cell_type": "markdown",
   "source": [
    "## 라쏘"
   ],
   "metadata": {}
  },
  {
   "cell_type": "markdown",
   "source": [
    "### 점심"
   ],
   "metadata": {}
  },
  {
   "cell_type": "code",
   "execution_count": null,
   "source": [
    "from sklearn.linear_model import Lasso #라쏘\r\n",
    "\r\n",
    "\r\n",
    "param_grid = {'alpha':[0.001, 0.01, 0.1, 1,10,50]}\r\n",
    "gird_search = GridSearchCV(Lasso(),param_grid, cv=5, scoring='r2')\r\n",
    "gird_search.fit(X_train,y_train)\r\n",
    "pre =gird_search.predict(X2_test)\r\n",
    "\r\n",
    "gird_search = GridSearchCV(Lasso(),param_grid, cv=5, scoring='r2')\r\n",
    "gird_search.fit(X2_train,y2_train)\r\n",
    "pre =gird_search.predict(X2_test)\r\n",
    "\r\n",
    "pre =gird_search.predict(X_test)\r\n",
    "\r\n",
    "print(gird_search.best_params_)\r\n",
    "\r\n",
    "print('RMSE=',np.sqrt(mean_squared_error(y_test, pre)))\r\n",
    "print('MAE=',mean_absolute_error(y_test, pre))\r\n",
    "print('r2score=',r2_score(y_test, pre))"
   ],
   "outputs": [
    {
     "output_type": "stream",
     "name": "stdout",
     "text": [
      "{'alpha': 0.01}\n",
      "RMSE= 433.3055514009402\n",
      "MAE= 401.74861600353813\n",
      "r2score= -3.342901911572741\n"
     ]
    }
   ],
   "metadata": {}
  },
  {
   "cell_type": "code",
   "execution_count": null,
   "source": [
    "perm = PermutationImportance(gird_search, random_state = 42).fit(X_train,y_train) \r\n",
    "#eli5.show_weights(perm, top = 20, feature_names = X_train.columns.tolist(),include_styles=True)\r\n",
    "eli5.explain_weights_df(perm,feature_names= X_train.columns.tolist()).head(10)"
   ],
   "outputs": [
    {
     "output_type": "execute_result",
     "data": {
      "text/html": [
       "<div>\n",
       "<style scoped>\n",
       "    .dataframe tbody tr th:only-of-type {\n",
       "        vertical-align: middle;\n",
       "    }\n",
       "\n",
       "    .dataframe tbody tr th {\n",
       "        vertical-align: top;\n",
       "    }\n",
       "\n",
       "    .dataframe thead th {\n",
       "        text-align: right;\n",
       "    }\n",
       "</style>\n",
       "<table border=\"1\" class=\"dataframe\">\n",
       "  <thead>\n",
       "    <tr style=\"text-align: right;\">\n",
       "      <th></th>\n",
       "      <th>feature</th>\n",
       "      <th>weight</th>\n",
       "      <th>std</th>\n",
       "    </tr>\n",
       "  </thead>\n",
       "  <tbody>\n",
       "    <tr>\n",
       "      <th>0</th>\n",
       "      <td>본사시간외근무명령서승인건수</td>\n",
       "      <td>0.314844</td>\n",
       "      <td>0.031691</td>\n",
       "    </tr>\n",
       "    <tr>\n",
       "      <th>1</th>\n",
       "      <td>본사휴가자수</td>\n",
       "      <td>0.161310</td>\n",
       "      <td>0.011405</td>\n",
       "    </tr>\n",
       "    <tr>\n",
       "      <th>2</th>\n",
       "      <td>본사출장자수</td>\n",
       "      <td>0.146798</td>\n",
       "      <td>0.003913</td>\n",
       "    </tr>\n",
       "    <tr>\n",
       "      <th>3</th>\n",
       "      <td>요일_금</td>\n",
       "      <td>0.015542</td>\n",
       "      <td>0.000756</td>\n",
       "    </tr>\n",
       "    <tr>\n",
       "      <th>4</th>\n",
       "      <td>본사정원수</td>\n",
       "      <td>0.014842</td>\n",
       "      <td>0.000897</td>\n",
       "    </tr>\n",
       "    <tr>\n",
       "      <th>5</th>\n",
       "      <td>월_11</td>\n",
       "      <td>0.006430</td>\n",
       "      <td>0.001544</td>\n",
       "    </tr>\n",
       "    <tr>\n",
       "      <th>6</th>\n",
       "      <td>월_8</td>\n",
       "      <td>0.005730</td>\n",
       "      <td>0.000643</td>\n",
       "    </tr>\n",
       "    <tr>\n",
       "      <th>7</th>\n",
       "      <td>월_2</td>\n",
       "      <td>0.004677</td>\n",
       "      <td>0.001244</td>\n",
       "    </tr>\n",
       "    <tr>\n",
       "      <th>8</th>\n",
       "      <td>메뉴분류_육류</td>\n",
       "      <td>0.003307</td>\n",
       "      <td>0.000606</td>\n",
       "    </tr>\n",
       "    <tr>\n",
       "      <th>9</th>\n",
       "      <td>확진자수</td>\n",
       "      <td>0.002979</td>\n",
       "      <td>0.000606</td>\n",
       "    </tr>\n",
       "  </tbody>\n",
       "</table>\n",
       "</div>"
      ],
      "text/plain": [
       "          feature    weight       std\n",
       "0  본사시간외근무명령서승인건수  0.314844  0.031691\n",
       "1          본사휴가자수  0.161310  0.011405\n",
       "2          본사출장자수  0.146798  0.003913\n",
       "3            요일_금  0.015542  0.000756\n",
       "4           본사정원수  0.014842  0.000897\n",
       "5            월_11  0.006430  0.001544\n",
       "6             월_8  0.005730  0.000643\n",
       "7             월_2  0.004677  0.001244\n",
       "8         메뉴분류_육류  0.003307  0.000606\n",
       "9            확진자수  0.002979  0.000606"
      ]
     },
     "metadata": {},
     "execution_count": 70
    }
   ],
   "metadata": {}
  },
  {
   "cell_type": "code",
   "execution_count": null,
   "source": [
    "'''from sklearn.linear_model import Lasso #라쏘\r\n",
    "for alpha in [0.1, 0.5, 1, 10, 100]:\r\n",
    "    model_lasso = Lasso(alpha=alpha)\r\n",
    "    model_lasso.fit(X_train, y_train)\r\n",
    "    \r\n",
    "    pre =model_lasso.predict(X_test)\r\n",
    "    \r\n",
    "    print(f'--------------alpha{alpha}값----------------')\r\n",
    "    print('R2score=',model_lasso.score(X_test, y_test)) #R2값 1일수록 좋은것\r\n",
    "    print('RMSE=',np.sqrt(mean_squared_error(y_test, pre)))\r\n",
    "    print('MAE=',mean_absolute_error(y_test, pre))\r\n",
    "\r\n",
    "\r\n",
    "model_lasso = Lasso(alpha=1)\r\n",
    "model_lasso.fit(X_train, y_train)\r\n",
    "pre =model_lasso.predict(X_test)\r\n",
    "\r\n",
    "plt.figure(figsize=(10,5))\r\n",
    "sns.kdeplot(y_test, label='y_test')\r\n",
    "sns.kdeplot(pre, label='y_hat')\r\n",
    "\r\n",
    "plt.title(f'alpha값 {1}일때')\r\n",
    "plt.legend()\r\n",
    "plt.show()  \r\n",
    "'''\r\n"
   ],
   "outputs": [
    {
     "output_type": "execute_result",
     "data": {
      "text/plain": [
       "\"from sklearn.linear_model import Lasso #라쏘\\nfor alpha in [0.1, 0.5, 1, 10, 100]:\\n    model_lasso = Lasso(alpha=alpha)\\n    model_lasso.fit(X_train, y_train)\\n    \\n    pre =model_lasso.predict(X_test)\\n    \\n    print(f'--------------alpha{alpha}값----------------')\\n    print('R2score=',model_lasso.score(X_test, y_test)) #R2값 1일수록 좋은것\\n    print('RMSE=',np.sqrt(mean_squared_error(y_test, pre)))\\n    print('MAE=',mean_absolute_error(y_test, pre))\\n\\n\\nmodel_lasso = Lasso(alpha=1)\\nmodel_lasso.fit(X_train, y_train)\\npre =model_lasso.predict(X_test)\\n\\nplt.figure(figsize=(10,5))\\nsns.kdeplot(y_test, label='y_test')\\nsns.kdeplot(pre, label='y_hat')\\n\\nplt.title(f'alpha값 {1}일때')\\nplt.legend()\\nplt.show()  \\n\""
      ]
     },
     "metadata": {},
     "execution_count": 71
    }
   ],
   "metadata": {}
  },
  {
   "cell_type": "markdown",
   "source": [
    "### 저녁"
   ],
   "metadata": {}
  },
  {
   "cell_type": "code",
   "execution_count": null,
   "source": [
    "\r\n",
    "param_grid = {'alpha':[0.001, 0.01, 0.1, 1,10,50]}\r\n",
    "gird_search = GridSearchCV(Lasso(),param_grid, cv=5, scoring='neg_mean_absolute_error')\r\n",
    "\r\n",
    "gird_search.fit(X2_train,y2_train)\r\n",
    "pre =gird_search.predict(X2_test)\r\n",
    "\r\n",
    "print(gird_search.best_params_)\r\n",
    "print('RMSE=',np.sqrt(mean_squared_error(y2_test, pre)))\r\n",
    "print('MAE=',mean_absolute_error(y2_test, pre))\r\n",
    "print('r2score=',r2_score(y2_test, pre))"
   ],
   "outputs": [
    {
     "output_type": "stream",
     "name": "stdout",
     "text": [
      "{'alpha': 0.01}\n",
      "RMSE= 63.22708230215269\n",
      "MAE= 49.36447626468728\n",
      "r2score= 0.647954582466058\n"
     ]
    }
   ],
   "metadata": {}
  },
  {
   "cell_type": "code",
   "execution_count": null,
   "source": [
    "perm = PermutationImportance(gird_search, random_state = 42).fit(X2_train,y2_train) \r\n",
    "#eli5.show_weights(perm, top = 20, feature_names = X_train.columns.tolist(),include_styles=True)\r\n",
    "eli5.explain_weights_df(perm,feature_names= X2_train.columns.tolist()).head(10)"
   ],
   "outputs": [
    {
     "output_type": "execute_result",
     "data": {
      "text/html": [
       "<div>\n",
       "<style scoped>\n",
       "    .dataframe tbody tr th:only-of-type {\n",
       "        vertical-align: middle;\n",
       "    }\n",
       "\n",
       "    .dataframe tbody tr th {\n",
       "        vertical-align: top;\n",
       "    }\n",
       "\n",
       "    .dataframe thead th {\n",
       "        text-align: right;\n",
       "    }\n",
       "</style>\n",
       "<table border=\"1\" class=\"dataframe\">\n",
       "  <thead>\n",
       "    <tr style=\"text-align: right;\">\n",
       "      <th></th>\n",
       "      <th>feature</th>\n",
       "      <th>weight</th>\n",
       "      <th>std</th>\n",
       "    </tr>\n",
       "  </thead>\n",
       "  <tbody>\n",
       "    <tr>\n",
       "      <th>0</th>\n",
       "      <td>본사시간외근무명령서승인건수</td>\n",
       "      <td>50.833460</td>\n",
       "      <td>2.537343</td>\n",
       "    </tr>\n",
       "    <tr>\n",
       "      <th>1</th>\n",
       "      <td>본사휴가자수</td>\n",
       "      <td>19.652746</td>\n",
       "      <td>0.887401</td>\n",
       "    </tr>\n",
       "    <tr>\n",
       "      <th>2</th>\n",
       "      <td>본사출장자수</td>\n",
       "      <td>11.497003</td>\n",
       "      <td>0.640282</td>\n",
       "    </tr>\n",
       "    <tr>\n",
       "      <th>3</th>\n",
       "      <td>요일_금</td>\n",
       "      <td>11.262762</td>\n",
       "      <td>0.498614</td>\n",
       "    </tr>\n",
       "    <tr>\n",
       "      <th>4</th>\n",
       "      <td>현본사소속재택근무자수</td>\n",
       "      <td>7.607804</td>\n",
       "      <td>0.464261</td>\n",
       "    </tr>\n",
       "    <tr>\n",
       "      <th>5</th>\n",
       "      <td>본사정원수</td>\n",
       "      <td>7.070929</td>\n",
       "      <td>0.373879</td>\n",
       "    </tr>\n",
       "    <tr>\n",
       "      <th>6</th>\n",
       "      <td>요일_수</td>\n",
       "      <td>4.370858</td>\n",
       "      <td>0.411005</td>\n",
       "    </tr>\n",
       "    <tr>\n",
       "      <th>7</th>\n",
       "      <td>월_12</td>\n",
       "      <td>3.444808</td>\n",
       "      <td>0.291115</td>\n",
       "    </tr>\n",
       "    <tr>\n",
       "      <th>8</th>\n",
       "      <td>월_8</td>\n",
       "      <td>3.265184</td>\n",
       "      <td>0.322816</td>\n",
       "    </tr>\n",
       "    <tr>\n",
       "      <th>9</th>\n",
       "      <td>월_1</td>\n",
       "      <td>2.391362</td>\n",
       "      <td>0.390211</td>\n",
       "    </tr>\n",
       "  </tbody>\n",
       "</table>\n",
       "</div>"
      ],
      "text/plain": [
       "          feature     weight       std\n",
       "0  본사시간외근무명령서승인건수  50.833460  2.537343\n",
       "1          본사휴가자수  19.652746  0.887401\n",
       "2          본사출장자수  11.497003  0.640282\n",
       "3            요일_금  11.262762  0.498614\n",
       "4     현본사소속재택근무자수   7.607804  0.464261\n",
       "5           본사정원수   7.070929  0.373879\n",
       "6            요일_수   4.370858  0.411005\n",
       "7            월_12   3.444808  0.291115\n",
       "8             월_8   3.265184  0.322816\n",
       "9             월_1   2.391362  0.390211"
      ]
     },
     "metadata": {},
     "execution_count": 73
    }
   ],
   "metadata": {}
  },
  {
   "cell_type": "code",
   "execution_count": null,
   "source": [
    "'''for alpha in [0.1, 0.5, 1, 10, 100]:\r\n",
    "    model_lasso = Lasso(alpha=alpha)\r\n",
    "    model_lasso.fit(X2_train, y2_train)\r\n",
    "    \r\n",
    "    pre =model_lasso.predict(X2_test)\r\n",
    "    pre =np.round(pre,0)\r\n",
    "\r\n",
    "    print(f'--------------alpha{alpha}값----------------')\r\n",
    "    print(model_lasso.score(X2_test, y2_test))\r\n",
    "    print('RMSE=',np.sqrt(mean_squared_error(y2_test, pre)))\r\n",
    "    print('MAE=',mean_absolute_error(y2_test, pre))\r\n",
    "\r\n",
    "model_lasso = Lasso(alpha=0.5)\r\n",
    "model_lasso.fit(X2_train, y2_train)\r\n",
    "print(model_lasso.score(X2_test, y2_test))\r\n",
    "pre =model_lasso.predict(X2_test)\r\n",
    "pre =np.round(pre,0)\r\n",
    "plt.figure(figsize=(10,5))\r\n",
    "ax1 = sns.kdeplot(y2_test, label='y_test')\r\n",
    "ax2 = sns.kdeplot(pre, label='y_hat', ax=ax1)\r\n",
    "plt.title(f'alpha값 {0.5}일때')\r\n",
    "plt.legend()\r\n",
    "plt.show()'''"
   ],
   "outputs": [
    {
     "output_type": "execute_result",
     "data": {
      "text/plain": [
       "\"for alpha in [0.1, 0.5, 1, 10, 100]:\\n    model_lasso = Lasso(alpha=alpha)\\n    model_lasso.fit(X2_train, y2_train)\\n    \\n    pre =model_lasso.predict(X2_test)\\n    pre =np.round(pre,0)\\n\\n    print(f'--------------alpha{alpha}값----------------')\\n    print(model_lasso.score(X2_test, y2_test))\\n    print('RMSE=',np.sqrt(mean_squared_error(y2_test, pre)))\\n    print('MAE=',mean_absolute_error(y2_test, pre))\\n\\nmodel_lasso = Lasso(alpha=0.5)\\nmodel_lasso.fit(X2_train, y2_train)\\nprint(model_lasso.score(X2_test, y2_test))\\npre =model_lasso.predict(X2_test)\\npre =np.round(pre,0)\\nplt.figure(figsize=(10,5))\\nax1 = sns.kdeplot(y2_test, label='y_test')\\nax2 = sns.kdeplot(pre, label='y_hat', ax=ax1)\\nplt.title(f'alpha값 {0.5}일때')\\nplt.legend()\\nplt.show()\""
      ]
     },
     "metadata": {},
     "execution_count": 74
    }
   ],
   "metadata": {}
  },
  {
   "cell_type": "markdown",
   "source": [
    "## SVM"
   ],
   "metadata": {}
  },
  {
   "cell_type": "code",
   "execution_count": null,
   "source": [
    "from sklearn import svm"
   ],
   "outputs": [],
   "metadata": {}
  },
  {
   "cell_type": "markdown",
   "source": [
    "### 점심"
   ],
   "metadata": {}
  },
  {
   "cell_type": "code",
   "execution_count": null,
   "source": [
    "'''\r\n",
    "clf = svm.SVC(kernel = 'linear') #다른파라메터 넣어봐도 큰 변화 없음 gamma 등\r\n",
    "clf.fit(X_train,y_train)\r\n",
    "pre_clf =clf.predict(X_test)\r\n",
    "\r\n",
    "print('r2=',r2_score(y_test,pre_clf))\r\n",
    "print('RMSE=',np.sqrt(np.sqrt(mean_squared_error(y_test, pre_clf))))\r\n",
    "print('MAE=',mean_absolute_error(y_test, pre_clf))\r\n",
    "\r\n",
    "plt.figure(figsize=(10,5))\r\n",
    "ax1 = sns.kdeplot(y_test, label='y_test')\r\n",
    "ax2 = sns.kdeplot(pre_clf, label='y_hat', ax=ax1)\r\n",
    "plt.legend()\r\n",
    "plt.show()'''"
   ],
   "outputs": [
    {
     "output_type": "execute_result",
     "data": {
      "text/plain": [
       "\"\\nclf = svm.SVC(kernel = 'linear') #다른파라메터 넣어봐도 큰 변화 없음 gamma 등\\nclf.fit(X_train,y_train)\\npre_clf =clf.predict(X_test)\\n\\nprint('r2=',r2_score(y_test,pre_clf))\\nprint('RMSE=',np.sqrt(np.sqrt(mean_squared_error(y_test, pre_clf))))\\nprint('MAE=',mean_absolute_error(y_test, pre_clf))\\n\\nplt.figure(figsize=(10,5))\\nax1 = sns.kdeplot(y_test, label='y_test')\\nax2 = sns.kdeplot(pre_clf, label='y_hat', ax=ax1)\\nplt.legend()\\nplt.show()\""
      ]
     },
     "metadata": {},
     "execution_count": 76
    }
   ],
   "metadata": {}
  },
  {
   "cell_type": "markdown",
   "source": [
    "### 저녁"
   ],
   "metadata": {}
  },
  {
   "cell_type": "code",
   "execution_count": null,
   "source": [
    "'''clf = svm.SVC(kernel = 'linear', max_iter=-1)\r\n",
    "clf.fit(X2_train,y2_train)\r\n",
    "pre_clf =clf.predict(X2_test)\r\n",
    "\r\n",
    "print('r2=',r2_score(y2_test,pre_clf))\r\n",
    "print('RMSE=',np.sqrt(mean_squared_error(y2_test, pre_clf)))\r\n",
    "print('MAE=',mean_absolute_error(y2_test, pre_clf))\r\n",
    "\r\n",
    "plt.figure(figsize=(10,5))\r\n",
    "ax1 = sns.kdeplot(y2_test, label='y_test')\r\n",
    "ax2 = sns.kdeplot(pre_clf, label='y_hat', ax=ax1)\r\n",
    "plt.legend()\r\n",
    "plt.show()'''"
   ],
   "outputs": [
    {
     "output_type": "execute_result",
     "data": {
      "text/plain": [
       "\"clf = svm.SVC(kernel = 'linear', max_iter=-1)\\nclf.fit(X2_train,y2_train)\\npre_clf =clf.predict(X2_test)\\n\\nprint('r2=',r2_score(y2_test,pre_clf))\\nprint('RMSE=',np.sqrt(mean_squared_error(y2_test, pre_clf)))\\nprint('MAE=',mean_absolute_error(y2_test, pre_clf))\\n\\nplt.figure(figsize=(10,5))\\nax1 = sns.kdeplot(y2_test, label='y_test')\\nax2 = sns.kdeplot(pre_clf, label='y_hat', ax=ax1)\\nplt.legend()\\nplt.show()\""
      ]
     },
     "metadata": {},
     "execution_count": 77
    }
   ],
   "metadata": {}
  },
  {
   "cell_type": "markdown",
   "source": [
    "## xgboost"
   ],
   "metadata": {}
  },
  {
   "cell_type": "code",
   "execution_count": null,
   "source": [
    "from sklearn.model_selection import GridSearchCV\r\n",
    "import xgboost as xgb\r\n",
    "from xgboost import XGBRegressor"
   ],
   "outputs": [],
   "metadata": {}
  },
  {
   "cell_type": "markdown",
   "source": [
    "### 점식"
   ],
   "metadata": {}
  },
  {
   "cell_type": "code",
   "execution_count": null,
   "source": [
    "param = {\r\n",
    "    'max_depth':[2,3,4],\r\n",
    "    'n_estimators':range(300,600,100), #  'n_estimators':range(600,700,50) 여기에 cv 10 (이거와 별반차이가 없다.)\r\n",
    "    'colsample_bytree':[0.5,0.7,1],\r\n",
    "    'colsample_bylevel':[0.5,0.7,1],\r\n",
    "}\r\n",
    "\r\n",
    "model = xgb.XGBRegressor()\r\n",
    "grid_search = GridSearchCV(estimator=model, param_grid=param, cv=10, \r\n",
    "                           scoring='neg_mean_squared_error',\r\n",
    "                           n_jobs=-1)\r\n",
    "\r\n",
    "grid_search.fit(X_train, y_train)\r\n",
    "pre = grid_search.predict(X_test)\r\n",
    "model = xgb.XGBRegressor()\r\n",
    "grid_search = GridSearchCV(estimator=model, param_grid=param, cv=10, \r\n",
    "                           scoring='neg_mean_squared_error',\r\n",
    "                           n_jobs=-1)\r\n",
    "\r\n",
    "grid_search.fit(X2_train, y2_train)\r\n",
    "pre = grid_search.predict(X2_test)\r\n",
    "\r\n",
    "print(grid_search.score(X_test,y_test))\r\n",
    "print('RMSE=',np.sqrt(mean_squared_error(y_test, pre)))\r\n",
    "print('MAE=',mean_absolute_error(y_test, pre))\r\n",
    "\r\n",
    "with open('model_rf/XG_lunch_estimator.pickle','wb') as fw: #저장\r\n",
    "    pickle.dump(grid_search.best_estimator_, fw)"
   ],
   "outputs": [
    {
     "output_type": "error",
     "ename": "ValueError",
     "evalue": "feature_names mismatch: ['본사정원수', '본사휴가자수', '본사출장자수', '본사시간외근무명령서승인건수', '현본사소속재택근무자수', '식사가능인원', '석식강수량', '확진자수', '휴일다음날', '월_1', '월_2', '월_3', '월_4', '월_5', '월_6', '월_7', '월_8', '월_9', '월_10', '월_11', '월_12', '요일_금', '요일_목', '요일_수', '요일_월', '요일_화', '국분류_국', '국분류_국수', '국분류_스프', '국분류_죽', '국분류_찌개', '국분류_탕', '메뉴분류_기타', '메뉴분류_육류', '메뉴분류_조류', '메뉴분류_해산물'] ['본사정원수', '본사휴가자수', '본사출장자수', '본사시간외근무명령서승인건수', '식사가능인원', '중식강수량', '확진자수', '중식강수여부', '휴일전날', '휴일다음날', '월_1', '월_2', '월_3', '월_4', '월_5', '월_6', '월_7', '월_8', '월_9', '월_10', '월_11', '월_12', '요일_금', '요일_목', '요일_수', '요일_월', '요일_화', '국분류_국', '국분류_국수', '국분류_스프', '국분류_찌개', '국분류_탕', '메뉴분류_기타', '메뉴분류_육류', '메뉴분류_조류', '메뉴분류_해산물']\nexpected 석식강수량, 현본사소속재택근무자수, 국분류_죽 in input data\ntraining data did not have the following fields: 중식강수량, 휴일전날, 중식강수여부",
     "traceback": [
      "\u001b[1;31m---------------------------------------------------------------------------\u001b[0m",
      "\u001b[1;31mValueError\u001b[0m                                Traceback (most recent call last)",
      "\u001b[1;32m<ipython-input-79-998c8e90532f>\u001b[0m in \u001b[0;36m<module>\u001b[1;34m\u001b[0m\n\u001b[0;32m     21\u001b[0m \u001b[0mpre\u001b[0m \u001b[1;33m=\u001b[0m \u001b[0mgrid_search\u001b[0m\u001b[1;33m.\u001b[0m\u001b[0mpredict\u001b[0m\u001b[1;33m(\u001b[0m\u001b[0mX2_test\u001b[0m\u001b[1;33m)\u001b[0m\u001b[1;33m\u001b[0m\u001b[1;33m\u001b[0m\u001b[0m\n\u001b[0;32m     22\u001b[0m \u001b[1;33m\u001b[0m\u001b[0m\n\u001b[1;32m---> 23\u001b[1;33m \u001b[0mprint\u001b[0m\u001b[1;33m(\u001b[0m\u001b[0mgrid_search\u001b[0m\u001b[1;33m.\u001b[0m\u001b[0mscore\u001b[0m\u001b[1;33m(\u001b[0m\u001b[0mX_test\u001b[0m\u001b[1;33m,\u001b[0m\u001b[0my_test\u001b[0m\u001b[1;33m)\u001b[0m\u001b[1;33m)\u001b[0m\u001b[1;33m\u001b[0m\u001b[1;33m\u001b[0m\u001b[0m\n\u001b[0m\u001b[0;32m     24\u001b[0m \u001b[0mprint\u001b[0m\u001b[1;33m(\u001b[0m\u001b[1;34m'RMSE='\u001b[0m\u001b[1;33m,\u001b[0m\u001b[0mnp\u001b[0m\u001b[1;33m.\u001b[0m\u001b[0msqrt\u001b[0m\u001b[1;33m(\u001b[0m\u001b[0mmean_squared_error\u001b[0m\u001b[1;33m(\u001b[0m\u001b[0my_test\u001b[0m\u001b[1;33m,\u001b[0m \u001b[0mpre\u001b[0m\u001b[1;33m)\u001b[0m\u001b[1;33m)\u001b[0m\u001b[1;33m)\u001b[0m\u001b[1;33m\u001b[0m\u001b[1;33m\u001b[0m\u001b[0m\n\u001b[0;32m     25\u001b[0m \u001b[0mprint\u001b[0m\u001b[1;33m(\u001b[0m\u001b[1;34m'MAE='\u001b[0m\u001b[1;33m,\u001b[0m\u001b[0mmean_absolute_error\u001b[0m\u001b[1;33m(\u001b[0m\u001b[0my_test\u001b[0m\u001b[1;33m,\u001b[0m \u001b[0mpre\u001b[0m\u001b[1;33m)\u001b[0m\u001b[1;33m)\u001b[0m\u001b[1;33m\u001b[0m\u001b[1;33m\u001b[0m\u001b[0m\n",
      "\u001b[1;32m~\\anaconda3\\lib\\site-packages\\sklearn\\model_selection\\_search.py\u001b[0m in \u001b[0;36mscore\u001b[1;34m(self, X, y)\u001b[0m\n\u001b[0;32m    484\u001b[0m \u001b[1;33m\u001b[0m\u001b[0m\n\u001b[0;32m    485\u001b[0m         \u001b[1;31m# callable\u001b[0m\u001b[1;33m\u001b[0m\u001b[1;33m\u001b[0m\u001b[1;33m\u001b[0m\u001b[0m\n\u001b[1;32m--> 486\u001b[1;33m         \u001b[0mscore\u001b[0m \u001b[1;33m=\u001b[0m \u001b[0mself\u001b[0m\u001b[1;33m.\u001b[0m\u001b[0mscorer_\u001b[0m\u001b[1;33m(\u001b[0m\u001b[0mself\u001b[0m\u001b[1;33m.\u001b[0m\u001b[0mbest_estimator_\u001b[0m\u001b[1;33m,\u001b[0m \u001b[0mX\u001b[0m\u001b[1;33m,\u001b[0m \u001b[0my\u001b[0m\u001b[1;33m)\u001b[0m\u001b[1;33m\u001b[0m\u001b[1;33m\u001b[0m\u001b[0m\n\u001b[0m\u001b[0;32m    487\u001b[0m         \u001b[1;32mif\u001b[0m \u001b[0mself\u001b[0m\u001b[1;33m.\u001b[0m\u001b[0mmultimetric_\u001b[0m\u001b[1;33m:\u001b[0m\u001b[1;33m\u001b[0m\u001b[1;33m\u001b[0m\u001b[0m\n\u001b[0;32m    488\u001b[0m             \u001b[0mscore\u001b[0m \u001b[1;33m=\u001b[0m \u001b[0mscore\u001b[0m\u001b[1;33m[\u001b[0m\u001b[0mself\u001b[0m\u001b[1;33m.\u001b[0m\u001b[0mrefit\u001b[0m\u001b[1;33m]\u001b[0m\u001b[1;33m\u001b[0m\u001b[1;33m\u001b[0m\u001b[0m\n",
      "\u001b[1;32m~\\anaconda3\\lib\\site-packages\\sklearn\\metrics\\_scorer.py\u001b[0m in \u001b[0;36m__call__\u001b[1;34m(self, estimator, X, y_true, sample_weight)\u001b[0m\n\u001b[0;32m    197\u001b[0m             \u001b[0mScore\u001b[0m \u001b[0mfunction\u001b[0m \u001b[0mapplied\u001b[0m \u001b[0mto\u001b[0m \u001b[0mprediction\u001b[0m \u001b[0mof\u001b[0m \u001b[0mestimator\u001b[0m \u001b[0mon\u001b[0m \u001b[0mX\u001b[0m\u001b[1;33m.\u001b[0m\u001b[1;33m\u001b[0m\u001b[1;33m\u001b[0m\u001b[0m\n\u001b[0;32m    198\u001b[0m         \"\"\"\n\u001b[1;32m--> 199\u001b[1;33m         return self._score(partial(_cached_call, None), estimator, X, y_true,\n\u001b[0m\u001b[0;32m    200\u001b[0m                            sample_weight=sample_weight)\n\u001b[0;32m    201\u001b[0m \u001b[1;33m\u001b[0m\u001b[0m\n",
      "\u001b[1;32m~\\anaconda3\\lib\\site-packages\\sklearn\\metrics\\_scorer.py\u001b[0m in \u001b[0;36m_score\u001b[1;34m(self, method_caller, estimator, X, y_true, sample_weight)\u001b[0m\n\u001b[0;32m    234\u001b[0m         \"\"\"\n\u001b[0;32m    235\u001b[0m \u001b[1;33m\u001b[0m\u001b[0m\n\u001b[1;32m--> 236\u001b[1;33m         \u001b[0my_pred\u001b[0m \u001b[1;33m=\u001b[0m \u001b[0mmethod_caller\u001b[0m\u001b[1;33m(\u001b[0m\u001b[0mestimator\u001b[0m\u001b[1;33m,\u001b[0m \u001b[1;34m\"predict\"\u001b[0m\u001b[1;33m,\u001b[0m \u001b[0mX\u001b[0m\u001b[1;33m)\u001b[0m\u001b[1;33m\u001b[0m\u001b[1;33m\u001b[0m\u001b[0m\n\u001b[0m\u001b[0;32m    237\u001b[0m         \u001b[1;32mif\u001b[0m \u001b[0msample_weight\u001b[0m \u001b[1;32mis\u001b[0m \u001b[1;32mnot\u001b[0m \u001b[1;32mNone\u001b[0m\u001b[1;33m:\u001b[0m\u001b[1;33m\u001b[0m\u001b[1;33m\u001b[0m\u001b[0m\n\u001b[0;32m    238\u001b[0m             return self._sign * self._score_func(y_true, y_pred,\n",
      "\u001b[1;32m~\\anaconda3\\lib\\site-packages\\sklearn\\metrics\\_scorer.py\u001b[0m in \u001b[0;36m_cached_call\u001b[1;34m(cache, estimator, method, *args, **kwargs)\u001b[0m\n\u001b[0;32m     51\u001b[0m     \u001b[1;34m\"\"\"Call estimator with method and args and kwargs.\"\"\"\u001b[0m\u001b[1;33m\u001b[0m\u001b[1;33m\u001b[0m\u001b[0m\n\u001b[0;32m     52\u001b[0m     \u001b[1;32mif\u001b[0m \u001b[0mcache\u001b[0m \u001b[1;32mis\u001b[0m \u001b[1;32mNone\u001b[0m\u001b[1;33m:\u001b[0m\u001b[1;33m\u001b[0m\u001b[1;33m\u001b[0m\u001b[0m\n\u001b[1;32m---> 53\u001b[1;33m         \u001b[1;32mreturn\u001b[0m \u001b[0mgetattr\u001b[0m\u001b[1;33m(\u001b[0m\u001b[0mestimator\u001b[0m\u001b[1;33m,\u001b[0m \u001b[0mmethod\u001b[0m\u001b[1;33m)\u001b[0m\u001b[1;33m(\u001b[0m\u001b[1;33m*\u001b[0m\u001b[0margs\u001b[0m\u001b[1;33m,\u001b[0m \u001b[1;33m**\u001b[0m\u001b[0mkwargs\u001b[0m\u001b[1;33m)\u001b[0m\u001b[1;33m\u001b[0m\u001b[1;33m\u001b[0m\u001b[0m\n\u001b[0m\u001b[0;32m     54\u001b[0m \u001b[1;33m\u001b[0m\u001b[0m\n\u001b[0;32m     55\u001b[0m     \u001b[1;32mtry\u001b[0m\u001b[1;33m:\u001b[0m\u001b[1;33m\u001b[0m\u001b[1;33m\u001b[0m\u001b[0m\n",
      "\u001b[1;32m~\\anaconda3\\lib\\site-packages\\xgboost\\sklearn.py\u001b[0m in \u001b[0;36mpredict\u001b[1;34m(self, data, output_margin, ntree_limit, validate_features, base_margin)\u001b[0m\n\u001b[0;32m    649\u001b[0m         \u001b[1;32mif\u001b[0m \u001b[0mntree_limit\u001b[0m \u001b[1;32mis\u001b[0m \u001b[1;32mNone\u001b[0m\u001b[1;33m:\u001b[0m\u001b[1;33m\u001b[0m\u001b[1;33m\u001b[0m\u001b[0m\n\u001b[0;32m    650\u001b[0m             \u001b[0mntree_limit\u001b[0m \u001b[1;33m=\u001b[0m \u001b[0mgetattr\u001b[0m\u001b[1;33m(\u001b[0m\u001b[0mself\u001b[0m\u001b[1;33m,\u001b[0m \u001b[1;34m\"best_ntree_limit\"\u001b[0m\u001b[1;33m,\u001b[0m \u001b[1;36m0\u001b[0m\u001b[1;33m)\u001b[0m\u001b[1;33m\u001b[0m\u001b[1;33m\u001b[0m\u001b[0m\n\u001b[1;32m--> 651\u001b[1;33m         return self.get_booster().predict(test_dmatrix,\n\u001b[0m\u001b[0;32m    652\u001b[0m                                           \u001b[0moutput_margin\u001b[0m\u001b[1;33m=\u001b[0m\u001b[0moutput_margin\u001b[0m\u001b[1;33m,\u001b[0m\u001b[1;33m\u001b[0m\u001b[1;33m\u001b[0m\u001b[0m\n\u001b[0;32m    653\u001b[0m                                           \u001b[0mntree_limit\u001b[0m\u001b[1;33m=\u001b[0m\u001b[0mntree_limit\u001b[0m\u001b[1;33m,\u001b[0m\u001b[1;33m\u001b[0m\u001b[1;33m\u001b[0m\u001b[0m\n",
      "\u001b[1;32m~\\anaconda3\\lib\\site-packages\\xgboost\\core.py\u001b[0m in \u001b[0;36mpredict\u001b[1;34m(self, data, output_margin, ntree_limit, pred_leaf, pred_contribs, approx_contribs, pred_interactions, validate_features, training)\u001b[0m\n\u001b[0;32m   1483\u001b[0m \u001b[1;33m\u001b[0m\u001b[0m\n\u001b[0;32m   1484\u001b[0m         \u001b[1;32mif\u001b[0m \u001b[0mvalidate_features\u001b[0m\u001b[1;33m:\u001b[0m\u001b[1;33m\u001b[0m\u001b[1;33m\u001b[0m\u001b[0m\n\u001b[1;32m-> 1485\u001b[1;33m             \u001b[0mself\u001b[0m\u001b[1;33m.\u001b[0m\u001b[0m_validate_features\u001b[0m\u001b[1;33m(\u001b[0m\u001b[0mdata\u001b[0m\u001b[1;33m)\u001b[0m\u001b[1;33m\u001b[0m\u001b[1;33m\u001b[0m\u001b[0m\n\u001b[0m\u001b[0;32m   1486\u001b[0m \u001b[1;33m\u001b[0m\u001b[0m\n\u001b[0;32m   1487\u001b[0m         \u001b[0mlength\u001b[0m \u001b[1;33m=\u001b[0m \u001b[0mc_bst_ulong\u001b[0m\u001b[1;33m(\u001b[0m\u001b[1;33m)\u001b[0m\u001b[1;33m\u001b[0m\u001b[1;33m\u001b[0m\u001b[0m\n",
      "\u001b[1;32m~\\anaconda3\\lib\\site-packages\\xgboost\\core.py\u001b[0m in \u001b[0;36m_validate_features\u001b[1;34m(self, data)\u001b[0m\n\u001b[0;32m   2058\u001b[0m                             ', '.join(str(s) for s in my_missing))\n\u001b[0;32m   2059\u001b[0m \u001b[1;33m\u001b[0m\u001b[0m\n\u001b[1;32m-> 2060\u001b[1;33m                 raise ValueError(msg.format(self.feature_names,\n\u001b[0m\u001b[0;32m   2061\u001b[0m                                             data.feature_names))\n\u001b[0;32m   2062\u001b[0m \u001b[1;33m\u001b[0m\u001b[0m\n",
      "\u001b[1;31mValueError\u001b[0m: feature_names mismatch: ['본사정원수', '본사휴가자수', '본사출장자수', '본사시간외근무명령서승인건수', '현본사소속재택근무자수', '식사가능인원', '석식강수량', '확진자수', '휴일다음날', '월_1', '월_2', '월_3', '월_4', '월_5', '월_6', '월_7', '월_8', '월_9', '월_10', '월_11', '월_12', '요일_금', '요일_목', '요일_수', '요일_월', '요일_화', '국분류_국', '국분류_국수', '국분류_스프', '국분류_죽', '국분류_찌개', '국분류_탕', '메뉴분류_기타', '메뉴분류_육류', '메뉴분류_조류', '메뉴분류_해산물'] ['본사정원수', '본사휴가자수', '본사출장자수', '본사시간외근무명령서승인건수', '식사가능인원', '중식강수량', '확진자수', '중식강수여부', '휴일전날', '휴일다음날', '월_1', '월_2', '월_3', '월_4', '월_5', '월_6', '월_7', '월_8', '월_9', '월_10', '월_11', '월_12', '요일_금', '요일_목', '요일_수', '요일_월', '요일_화', '국분류_국', '국분류_국수', '국분류_스프', '국분류_찌개', '국분류_탕', '메뉴분류_기타', '메뉴분류_육류', '메뉴분류_조류', '메뉴분류_해산물']\nexpected 석식강수량, 현본사소속재택근무자수, 국분류_죽 in input data\ntraining data did not have the following fields: 중식강수량, 휴일전날, 중식강수여부"
     ]
    }
   ],
   "metadata": {}
  },
  {
   "cell_type": "code",
   "execution_count": null,
   "source": [
    "\r\n",
    "grid_search.best_params_"
   ],
   "outputs": [
    {
     "output_type": "execute_result",
     "data": {
      "text/plain": [
       "{'colsample_bylevel': 0.7,\n",
       " 'colsample_bytree': 0.5,\n",
       " 'max_depth': 2,\n",
       " 'n_estimators': 300}"
      ]
     },
     "metadata": {},
     "execution_count": 171
    }
   ],
   "metadata": {}
  },
  {
   "cell_type": "code",
   "execution_count": null,
   "source": [
    "with open('model_rf/XG_lunch_estimator.pickle','rb') as f: #불러오기\r\n",
    "    XG_lunch_model = pickle.load(f)"
   ],
   "outputs": [],
   "metadata": {}
  },
  {
   "cell_type": "code",
   "execution_count": null,
   "source": [
    "XG_lunch_model = XGBRegressor(base_score=0.5, booster='gbtree', colsample_bylevel=0.5,\r\n",
    "             colsample_bynode=1, colsample_bytree=0.5, gamma=0, gpu_id=-1,\r\n",
    "             importance_type='gain', interaction_constraints='',\r\n",
    "             learning_rate=0.300000012, max_delta_step=0, max_depth=2,\r\n",
    "             min_child_weight=1, monotone_constraints='()',\r\n",
    "             n_estimators=300, n_jobs=4, num_parallel_tree=1, random_state=0,\r\n",
    "             reg_alpha=0, reg_lambda=1, scale_pos_weight=1, subsample=1,\r\n",
    "             tree_method='exact', validate_parameters=1, verbosity=None)\r\n",
    "XG_lunch_model.fit(X_train,y_train)\r\n"
   ],
   "outputs": [
    {
     "output_type": "execute_result",
     "data": {
      "text/plain": [
       "XGBRegressor(base_score=0.5, booster='gbtree', colsample_bylevel=0.5,\n",
       "             colsample_bynode=1, colsample_bytree=0.5, gamma=0, gpu_id=-1,\n",
       "             importance_type='gain', interaction_constraints='',\n",
       "             learning_rate=0.300000012, max_delta_step=0, max_depth=2,\n",
       "             min_child_weight=1, missing=nan, monotone_constraints='()',\n",
       "             n_estimators=300, n_jobs=4, num_parallel_tree=1, random_state=0,\n",
       "             reg_alpha=0, reg_lambda=1, scale_pos_weight=1, subsample=1,\n",
       "             tree_method='exact', validate_parameters=1, verbosity=None)"
      ]
     },
     "metadata": {},
     "execution_count": 147
    }
   ],
   "metadata": {}
  },
  {
   "cell_type": "code",
   "execution_count": null,
   "source": [
    "pre = XG_lunch_model.predict(X_test)\r\n",
    "print(XG_lunch_model.score(X_test,y_test))\r\n",
    "print('RMSE=',np.sqrt(mean_squared_error(y_test, pre)))\r\n",
    "print('MAE=',mean_absolute_error(y_test, pre))"
   ],
   "outputs": [
    {
     "output_type": "stream",
     "name": "stdout",
     "text": [
      "0.820623628744095\n",
      "RMSE= 88.06165839407906\n",
      "MAE= 64.36262432119464\n"
     ]
    }
   ],
   "metadata": {}
  },
  {
   "cell_type": "code",
   "execution_count": null,
   "source": [
    "perm = PermutationImportance(XG_lunch_model, random_state = 42).fit(X_train,y_train) \r\n",
    "#eli5.show_weights(perm, top = 20, feature_names = X_train.columns.tolist(),include_styles=True)\r\n",
    "eli5.explain_weights_df(perm,feature_names= X_train.columns.tolist()).head(10)"
   ],
   "outputs": [
    {
     "output_type": "execute_result",
     "data": {
      "text/html": [
       "<div>\n",
       "<style scoped>\n",
       "    .dataframe tbody tr th:only-of-type {\n",
       "        vertical-align: middle;\n",
       "    }\n",
       "\n",
       "    .dataframe tbody tr th {\n",
       "        vertical-align: top;\n",
       "    }\n",
       "\n",
       "    .dataframe thead th {\n",
       "        text-align: right;\n",
       "    }\n",
       "</style>\n",
       "<table border=\"1\" class=\"dataframe\">\n",
       "  <thead>\n",
       "    <tr style=\"text-align: right;\">\n",
       "      <th></th>\n",
       "      <th>feature</th>\n",
       "      <th>weight</th>\n",
       "      <th>std</th>\n",
       "    </tr>\n",
       "  </thead>\n",
       "  <tbody>\n",
       "    <tr>\n",
       "      <th>0</th>\n",
       "      <td>본사출장자수</td>\n",
       "      <td>0.269204</td>\n",
       "      <td>0.010877</td>\n",
       "    </tr>\n",
       "    <tr>\n",
       "      <th>1</th>\n",
       "      <td>요일_월</td>\n",
       "      <td>0.250399</td>\n",
       "      <td>0.010867</td>\n",
       "    </tr>\n",
       "    <tr>\n",
       "      <th>2</th>\n",
       "      <td>본사휴가자수</td>\n",
       "      <td>0.150813</td>\n",
       "      <td>0.004657</td>\n",
       "    </tr>\n",
       "    <tr>\n",
       "      <th>3</th>\n",
       "      <td>식사가능인원</td>\n",
       "      <td>0.072492</td>\n",
       "      <td>0.004429</td>\n",
       "    </tr>\n",
       "    <tr>\n",
       "      <th>4</th>\n",
       "      <td>본사정원수</td>\n",
       "      <td>0.071161</td>\n",
       "      <td>0.003537</td>\n",
       "    </tr>\n",
       "    <tr>\n",
       "      <th>5</th>\n",
       "      <td>본사시간외근무명령서승인건수</td>\n",
       "      <td>0.058158</td>\n",
       "      <td>0.002367</td>\n",
       "    </tr>\n",
       "    <tr>\n",
       "      <th>6</th>\n",
       "      <td>요일_금</td>\n",
       "      <td>0.051481</td>\n",
       "      <td>0.001680</td>\n",
       "    </tr>\n",
       "    <tr>\n",
       "      <th>7</th>\n",
       "      <td>확진자수</td>\n",
       "      <td>0.037091</td>\n",
       "      <td>0.002455</td>\n",
       "    </tr>\n",
       "    <tr>\n",
       "      <th>8</th>\n",
       "      <td>휴일다음날</td>\n",
       "      <td>0.033872</td>\n",
       "      <td>0.002154</td>\n",
       "    </tr>\n",
       "    <tr>\n",
       "      <th>9</th>\n",
       "      <td>월_12</td>\n",
       "      <td>0.031799</td>\n",
       "      <td>0.001041</td>\n",
       "    </tr>\n",
       "  </tbody>\n",
       "</table>\n",
       "</div>"
      ],
      "text/plain": [
       "          feature    weight       std\n",
       "0          본사출장자수  0.269204  0.010877\n",
       "1            요일_월  0.250399  0.010867\n",
       "2          본사휴가자수  0.150813  0.004657\n",
       "3          식사가능인원  0.072492  0.004429\n",
       "4           본사정원수  0.071161  0.003537\n",
       "5  본사시간외근무명령서승인건수  0.058158  0.002367\n",
       "6            요일_금  0.051481  0.001680\n",
       "7            확진자수  0.037091  0.002455\n",
       "8           휴일다음날  0.033872  0.002154\n",
       "9            월_12  0.031799  0.001041"
      ]
     },
     "metadata": {},
     "execution_count": 130
    }
   ],
   "metadata": {}
  },
  {
   "cell_type": "markdown",
   "source": [
    "저녁"
   ],
   "metadata": {}
  },
  {
   "cell_type": "code",
   "execution_count": null,
   "source": [
    "param = {\r\n",
    "    'max_depth':[2,3,4],\r\n",
    "    'n_estimators':range(300,600,100), #  'n_estimators':range(600,700,50) 여기에 cv 10 (이거와 별반차이가 없다.)\r\n",
    "    'colsample_bytree':[0.5,0.7,1],\r\n",
    "    'colsample_bylevel':[0.5,0.7,1],\r\n",
    "}\r\n",
    "\r\n",
    "model = xgb.XGBRegressor()\r\n",
    "grid_search = GridSearchCV(estimator=model, param_grid=param, cv=10, \r\n",
    "                           scoring='neg_mean_squared_error',\r\n",
    "                           n_jobs=-1)\r\n",
    "\r\n",
    "grid_search.fit(X2_train, y2_train)\r\n",
    "\r\n",
    "pre = grid_search.predict(X2_test)\r\n",
    "\r\n",
    "print(grid_search.score(X2_test,y2_test))\r\n",
    "print('RMSE=',np.sqrt(mean_squared_error(y2_test, pre)))\r\n",
    "print('MAE=',mean_absolute_error(y2_test, pre))\r\n",
    "\r\n",
    "with open('model_rf/XG_dinner_estimator.pickle','wb') as fw: ##저장\r\n",
    "    pickle.dump(grid_search.best_estimator_, fw)\r\n"
   ],
   "outputs": [
    {
     "output_type": "stream",
     "name": "stdout",
     "text": [
      "-4268.97373460308\n",
      "RMSE= 65.33738389775856\n",
      "MAE= 48.11164439409629\n"
     ]
    }
   ],
   "metadata": {}
  },
  {
   "cell_type": "code",
   "execution_count": null,
   "source": [
    "grid_search.best_params_"
   ],
   "outputs": [
    {
     "output_type": "execute_result",
     "data": {
      "text/plain": [
       "{'colsample_bylevel': 1,\n",
       " 'colsample_bytree': 0.7,\n",
       " 'max_depth': 2,\n",
       " 'n_estimators': 300}"
      ]
     },
     "metadata": {},
     "execution_count": 174
    }
   ],
   "metadata": {}
  },
  {
   "cell_type": "code",
   "execution_count": null,
   "source": [
    "with open('model_rf/XG_dinner_estimator.pickle','rb') as f:\r\n",
    "    XG_dinner_model = pickle.load(f)"
   ],
   "outputs": [],
   "metadata": {}
  },
  {
   "cell_type": "code",
   "execution_count": null,
   "source": [
    "XG_dinner_model =XGBRegressor(base_score=0.5, booster='gbtree', colsample_bylevel=1,\r\n",
    "             colsample_bynode=1, colsample_bytree=0.5, gamma=0, gpu_id=-1,\r\n",
    "             importance_type='gain', interaction_constraints='',\r\n",
    "             learning_rate=0.300000012, max_delta_step=0, max_depth=2,\r\n",
    "             min_child_weight=1,monotone_constraints='()',\r\n",
    "             n_estimators=300, n_jobs=4, num_parallel_tree=1, random_state=0,\r\n",
    "             reg_alpha=0, reg_lambda=1, scale_pos_weight=1, subsample=1,\r\n",
    "             tree_method='exact', validate_parameters=1, verbosity=None)\r\n",
    "XG_dinner_model.fit(X2_train,y2_train)"
   ],
   "outputs": [
    {
     "output_type": "execute_result",
     "data": {
      "text/plain": [
       "XGBRegressor(base_score=0.5, booster='gbtree', colsample_bylevel=1,\n",
       "             colsample_bynode=1, colsample_bytree=0.5, gamma=0, gpu_id=-1,\n",
       "             importance_type='gain', interaction_constraints='',\n",
       "             learning_rate=0.300000012, max_delta_step=0, max_depth=2,\n",
       "             min_child_weight=1, missing=nan, monotone_constraints='()',\n",
       "             n_estimators=300, n_jobs=4, num_parallel_tree=1, random_state=0,\n",
       "             reg_alpha=0, reg_lambda=1, scale_pos_weight=1, subsample=1,\n",
       "             tree_method='exact', validate_parameters=1, verbosity=None)"
      ]
     },
     "metadata": {},
     "execution_count": 133
    }
   ],
   "metadata": {}
  },
  {
   "cell_type": "code",
   "execution_count": null,
   "source": [
    "pre = XG_dinner_model.predict(X2_test)\r\n",
    "print(XG_dinner_model.score(X2_test,y2_test))\r\n",
    "print('RMSE=',np.sqrt(mean_squared_error(y2_test, pre)))\r\n",
    "print('MAE=',mean_absolute_error(y2_test, pre))"
   ],
   "outputs": [
    {
     "output_type": "stream",
     "name": "stdout",
     "text": [
      "0.6408490731287577\n",
      "RMSE= 63.86196672444343\n",
      "MAE= 48.09025595654016\n"
     ]
    }
   ],
   "metadata": {}
  },
  {
   "cell_type": "code",
   "execution_count": null,
   "source": [
    "perm = PermutationImportance(XG_dinner_model, random_state = 42).fit(X2_train,y2_train) \r\n",
    "#eli5.show_weights(perm, top = 20, feature_names = X_train.columns.tolist(),include_styles=True)\r\n",
    "eli5.explain_weights_df(perm,feature_names= X2_train.columns.tolist()).head(10)"
   ],
   "outputs": [
    {
     "output_type": "execute_result",
     "data": {
      "text/html": [
       "<div>\n",
       "<style scoped>\n",
       "    .dataframe tbody tr th:only-of-type {\n",
       "        vertical-align: middle;\n",
       "    }\n",
       "\n",
       "    .dataframe tbody tr th {\n",
       "        vertical-align: top;\n",
       "    }\n",
       "\n",
       "    .dataframe thead th {\n",
       "        text-align: right;\n",
       "    }\n",
       "</style>\n",
       "<table border=\"1\" class=\"dataframe\">\n",
       "  <thead>\n",
       "    <tr style=\"text-align: right;\">\n",
       "      <th></th>\n",
       "      <th>feature</th>\n",
       "      <th>weight</th>\n",
       "      <th>std</th>\n",
       "    </tr>\n",
       "  </thead>\n",
       "  <tbody>\n",
       "    <tr>\n",
       "      <th>0</th>\n",
       "      <td>본사시간외근무명령서승인건수</td>\n",
       "      <td>0.663358</td>\n",
       "      <td>0.036235</td>\n",
       "    </tr>\n",
       "    <tr>\n",
       "      <th>1</th>\n",
       "      <td>본사휴가자수</td>\n",
       "      <td>0.256636</td>\n",
       "      <td>0.008511</td>\n",
       "    </tr>\n",
       "    <tr>\n",
       "      <th>2</th>\n",
       "      <td>본사출장자수</td>\n",
       "      <td>0.168433</td>\n",
       "      <td>0.007923</td>\n",
       "    </tr>\n",
       "    <tr>\n",
       "      <th>3</th>\n",
       "      <td>본사정원수</td>\n",
       "      <td>0.121480</td>\n",
       "      <td>0.006093</td>\n",
       "    </tr>\n",
       "    <tr>\n",
       "      <th>4</th>\n",
       "      <td>요일_금</td>\n",
       "      <td>0.075122</td>\n",
       "      <td>0.002334</td>\n",
       "    </tr>\n",
       "    <tr>\n",
       "      <th>5</th>\n",
       "      <td>식사가능인원</td>\n",
       "      <td>0.074781</td>\n",
       "      <td>0.002498</td>\n",
       "    </tr>\n",
       "    <tr>\n",
       "      <th>6</th>\n",
       "      <td>월_12</td>\n",
       "      <td>0.074249</td>\n",
       "      <td>0.003079</td>\n",
       "    </tr>\n",
       "    <tr>\n",
       "      <th>7</th>\n",
       "      <td>현본사소속재택근무자수</td>\n",
       "      <td>0.050390</td>\n",
       "      <td>0.004844</td>\n",
       "    </tr>\n",
       "    <tr>\n",
       "      <th>8</th>\n",
       "      <td>월_1</td>\n",
       "      <td>0.035741</td>\n",
       "      <td>0.003441</td>\n",
       "    </tr>\n",
       "    <tr>\n",
       "      <th>9</th>\n",
       "      <td>확진자수</td>\n",
       "      <td>0.028792</td>\n",
       "      <td>0.001306</td>\n",
       "    </tr>\n",
       "  </tbody>\n",
       "</table>\n",
       "</div>"
      ],
      "text/plain": [
       "          feature    weight       std\n",
       "0  본사시간외근무명령서승인건수  0.663358  0.036235\n",
       "1          본사휴가자수  0.256636  0.008511\n",
       "2          본사출장자수  0.168433  0.007923\n",
       "3           본사정원수  0.121480  0.006093\n",
       "4            요일_금  0.075122  0.002334\n",
       "5          식사가능인원  0.074781  0.002498\n",
       "6            월_12  0.074249  0.003079\n",
       "7     현본사소속재택근무자수  0.050390  0.004844\n",
       "8             월_1  0.035741  0.003441\n",
       "9            확진자수  0.028792  0.001306"
      ]
     },
     "metadata": {},
     "execution_count": 135
    }
   ],
   "metadata": {}
  },
  {
   "cell_type": "markdown",
   "source": [
    "## 랜덤포레스트 모델"
   ],
   "metadata": {}
  },
  {
   "cell_type": "markdown",
   "source": [
    "## 점심 저녁 한번예"
   ],
   "metadata": {}
  },
  {
   "cell_type": "code",
   "execution_count": null,
   "source": [
    "\r\n",
    "params = {#max_depth=10, n_estimators=50, n_jobs=-1, random_state=42\r\n",
    "    'n_estimators': [50,100,150,300,1000],\r\n",
    "    'max_features': ['auto', 'sqrt'],\r\n",
    "    'max_depth' : [1,3,6,10],\r\n",
    "    'min_samples_leaf': [1, 2, 4],\r\n",
    "    'min_samples_split': [2, 3, 5, 10]}\r\n",
    "\r\n",
    "model1 = RandomForestRegressor(n_jobs=-1, random_state=42)\r\n",
    "model2 = RandomForestRegressor(n_jobs=-1, random_state=42)\r\n",
    "\r\n",
    "RF_lunch_model = GridSearchCV(model1, params, scoring='r2')\r\n",
    "RF_dinner_model = GridSearchCV(model2, params, scoring='r2')\r\n",
    "\r\n",
    "RF_lunch_model.fit(X_train, y_train)\r\n",
    "RF_dinner_model.fit(X2_train, y2_train)\r\n",
    "RF_lunch_model.fit(X_train,y_train)\r\n",
    "RF_dinner_model.fit(X2_train, y2_train)\r\n",
    "\r\n",
    "RF_lunch_best = RF_lunch_model.best_score_\r\n",
    "RF_dinner_best = RF_dinner_model.best_score_\r\n",
    "\r\n",
    "print('점심 RF 모델 에러값(mae) : ',RF_lunch_best)\r\n",
    "print('저녁 RF 모델 에러값(mae) : ',RF_dinner_best)\r\n",
    "\r\n",
    "rf_lunch_param=RF_lunch_model.best_params_\r\n",
    "rf_lunch_est = RF_lunch_model.best_estimator_\r\n",
    "\r\n",
    "rf_dinner_param=RF_dinner_model.best_params_\r\n",
    "rf_lunch_est = RF_dinner_model.best_estimator_\r\n",
    "\r\n",
    "with open('model_rf/rf_lunch_estimator.pickle','wb') as fw:\r\n",
    "    pickle.dump(RF_lunch_model.best_estimator_, fw)\r\n",
    "with open('model_rf/rf_dinner_estimator.pickle','wb') as fw:\r\n",
    "    pickle.dump(RF_dinner_model.best_estimator_, fw)\r\n",
    "# 모델값저장\r\n",
    "\r\n"
   ],
   "outputs": [
    {
     "output_type": "execute_result",
     "data": {
      "text/plain": [
       "\"\\nparams = {#max_depth=10, n_estimators=50, n_jobs=-1, random_state=42\\n    'n_estimators': [50,100,150,300,1000],\\n    'max_features': ['auto', 'sqrt'],\\n    'max_depth' : [1,3,6,10],\\n    'min_samples_leaf': [1, 2, 4],\\n    'min_samples_split': [2, 3, 5, 10]}\\n\\nmodel1 = RandomForestRegressor(n_jobs=-1, random_state=42)\\nmodel2 = RandomForestRegressor(n_jobs=-1, random_state=42)\\n\\nRF_lunch_model = GridSearchCV(model1, params, scoring='neg_mean_absolute_error')\\nRF_dinner_model = GridSearchCV(model2, params, scoring='neg_mean_absolute_error')\\n\\nRF_lunch_model.fit(X_train, y_train)\\nRF_dinner_model.fit(X2_train, y2_train)\\n\\nRF_lunch_best = RF_lunch_model.best_score_\\nRF_dinner_best = RF_dinner_model.best_score_\\n\\nprint('점심 RF 모델 에러값(mae) : ',RF_lunch_best)\\nprint('저녁 RF 모델 에러값(mae) : ',RF_dinner_best)\\n\\nrf_lunch_param=RF_lunch_model.best_params_\\nrf_lunch_est = RF_lunch_model.best_estimator_\\n\\nrf_dinner_param=RF_dinner_model.best_params_\\nrf_lunch_est = RF_dinner_model.best_estimator_\\n\\nwith open('model_rf/rf_lunch_estimator.pickle','wb') as fw:\\n    pickle.dump(RF_lunch_model.best_estimator_, fw)\\nwith open('model_rf/rf_dinner_estimator.pickle','wb') as fw:\\n    pickle.dump(RF_dinner_model.best_estimator_, fw)\\n# 모델값저장\\n\""
      ]
     },
     "metadata": {},
     "execution_count": 136
    }
   ],
   "metadata": {}
  },
  {
   "cell_type": "code",
   "execution_count": null,
   "source": [
    "'''print(rf_lunch_param, rf_lunch_est, rf_dinner_param, rf_lunch_est)'''"
   ],
   "outputs": [
    {
     "output_type": "execute_result",
     "data": {
      "text/plain": [
       "'print(rf_lunch_param, rf_lunch_est, rf_dinner_param, rf_lunch_est)'"
      ]
     },
     "metadata": {},
     "execution_count": 137
    }
   ],
   "metadata": {}
  },
  {
   "cell_type": "code",
   "execution_count": null,
   "source": [
    "with open('model_rf/rf_lunch_estimator.pickle','rb') as f:\r\n",
    "    RF_lunch_model = pickle.load(f)\r\n",
    "with open('model_rf/rf_dinner_estimator.pickle','rb') as f:\r\n",
    "    RF_dinner_model = pickle.load(f)\r\n",
    "RF_lunch_model.fit(X_train,y_train)\r\n",
    "RF_dinner_model.fit(X2_train, y2_train)\r\n"
   ],
   "outputs": [
    {
     "output_type": "execute_result",
     "data": {
      "text/plain": [
       "RandomForestRegressor(max_depth=10, max_features='sqrt', n_estimators=1000,\n",
       "                      n_jobs=-1, random_state=42)"
      ]
     },
     "metadata": {},
     "execution_count": 175
    }
   ],
   "metadata": {}
  },
  {
   "cell_type": "code",
   "execution_count": null,
   "source": [
    "RF_lunch_model.fit(X_train,y_train)"
   ],
   "outputs": [
    {
     "output_type": "execute_result",
     "data": {
      "text/plain": [
       "RandomForestRegressor(max_depth=10, n_estimators=300, n_jobs=-1,\n",
       "                      random_state=42)"
      ]
     },
     "metadata": {},
     "execution_count": 176
    }
   ],
   "metadata": {}
  },
  {
   "cell_type": "code",
   "execution_count": null,
   "source": [
    "RF_dinner_model.get_params()\r\n"
   ],
   "outputs": [
    {
     "output_type": "execute_result",
     "data": {
      "text/plain": [
       "{'bootstrap': True,\n",
       " 'ccp_alpha': 0.0,\n",
       " 'criterion': 'mse',\n",
       " 'max_depth': 10,\n",
       " 'max_features': 'auto',\n",
       " 'max_leaf_nodes': None,\n",
       " 'max_samples': None,\n",
       " 'min_impurity_decrease': 0.0,\n",
       " 'min_impurity_split': None,\n",
       " 'min_samples_leaf': 1,\n",
       " 'min_samples_split': 2,\n",
       " 'min_weight_fraction_leaf': 0.0,\n",
       " 'n_estimators': 300,\n",
       " 'n_jobs': -1,\n",
       " 'oob_score': False,\n",
       " 'random_state': 42,\n",
       " 'verbose': 0,\n",
       " 'warm_start': False}"
      ]
     },
     "metadata": {},
     "execution_count": 161
    }
   ],
   "metadata": {}
  },
  {
   "cell_type": "code",
   "execution_count": null,
   "source": [
    "pre_lunch = RF_lunch_model.predict(X_test)\r\n",
    "pre_dinner = RF_dinner_model.predict(X2_test)\r\n",
    "print('-----------점심 ------------')\r\n",
    "print(RF_lunch_model.score(X_test,y_test))\r\n",
    "print('RMSE=',np.sqrt(mean_squared_error(y_test, pre_lunch)))\r\n",
    "print('MAE=',mean_absolute_error(y_test, pre_lunch))\r\n",
    "print('-----------저녁---------------')\r\n",
    "print(RF_dinner_model.score(X2_test,y2_test))\r\n",
    "print('RMSE=',np.sqrt(mean_squared_error(y2_test, pre_dinner)))\r\n",
    "print('MAE=',mean_absolute_error(y2_test, pre_dinner))"
   ],
   "outputs": [
    {
     "output_type": "stream",
     "name": "stdout",
     "text": [
      "-----------점심 ------------\n",
      "0.8323624938331273\n",
      "RMSE= 85.13141237415594\n",
      "MAE= 63.795444242030214\n",
      "-----------저녁---------------\n",
      "0.6610801505316504\n",
      "RMSE= 62.03721539125452\n",
      "MAE= 45.99761604044308\n"
     ]
    }
   ],
   "metadata": {}
  },
  {
   "cell_type": "code",
   "execution_count": null,
   "source": [
    "perm = PermutationImportance(RF_lunch_model, random_state = 42).fit(X_train,y_train) \r\n",
    "#eli5.show_weights(perm, top = 20, feature_names = X_train.columns.tolist(),include_styles=True)\r\n",
    "eli5.explain_weights_df(perm,feature_names= X_train.columns.tolist()).head(10)"
   ],
   "outputs": [
    {
     "output_type": "execute_result",
     "data": {
      "text/html": [
       "<div>\n",
       "<style scoped>\n",
       "    .dataframe tbody tr th:only-of-type {\n",
       "        vertical-align: middle;\n",
       "    }\n",
       "\n",
       "    .dataframe tbody tr th {\n",
       "        vertical-align: top;\n",
       "    }\n",
       "\n",
       "    .dataframe thead th {\n",
       "        text-align: right;\n",
       "    }\n",
       "</style>\n",
       "<table border=\"1\" class=\"dataframe\">\n",
       "  <thead>\n",
       "    <tr style=\"text-align: right;\">\n",
       "      <th></th>\n",
       "      <th>feature</th>\n",
       "      <th>weight</th>\n",
       "      <th>std</th>\n",
       "    </tr>\n",
       "  </thead>\n",
       "  <tbody>\n",
       "    <tr>\n",
       "      <th>0</th>\n",
       "      <td>요일_월</td>\n",
       "      <td>0.446502</td>\n",
       "      <td>0.026361</td>\n",
       "    </tr>\n",
       "    <tr>\n",
       "      <th>1</th>\n",
       "      <td>본사출장자수</td>\n",
       "      <td>0.288116</td>\n",
       "      <td>0.015916</td>\n",
       "    </tr>\n",
       "    <tr>\n",
       "      <th>2</th>\n",
       "      <td>본사휴가자수</td>\n",
       "      <td>0.225662</td>\n",
       "      <td>0.007488</td>\n",
       "    </tr>\n",
       "    <tr>\n",
       "      <th>3</th>\n",
       "      <td>요일_금</td>\n",
       "      <td>0.118545</td>\n",
       "      <td>0.009149</td>\n",
       "    </tr>\n",
       "    <tr>\n",
       "      <th>4</th>\n",
       "      <td>본사시간외근무명령서승인건수</td>\n",
       "      <td>0.115698</td>\n",
       "      <td>0.010497</td>\n",
       "    </tr>\n",
       "    <tr>\n",
       "      <th>5</th>\n",
       "      <td>본사정원수</td>\n",
       "      <td>0.035525</td>\n",
       "      <td>0.002484</td>\n",
       "    </tr>\n",
       "    <tr>\n",
       "      <th>6</th>\n",
       "      <td>식사가능인원</td>\n",
       "      <td>0.024526</td>\n",
       "      <td>0.001981</td>\n",
       "    </tr>\n",
       "    <tr>\n",
       "      <th>7</th>\n",
       "      <td>휴일다음날</td>\n",
       "      <td>0.024141</td>\n",
       "      <td>0.002430</td>\n",
       "    </tr>\n",
       "    <tr>\n",
       "      <th>8</th>\n",
       "      <td>월_10</td>\n",
       "      <td>0.010975</td>\n",
       "      <td>0.001025</td>\n",
       "    </tr>\n",
       "    <tr>\n",
       "      <th>9</th>\n",
       "      <td>확진자수</td>\n",
       "      <td>0.010674</td>\n",
       "      <td>0.000702</td>\n",
       "    </tr>\n",
       "  </tbody>\n",
       "</table>\n",
       "</div>"
      ],
      "text/plain": [
       "          feature    weight       std\n",
       "0            요일_월  0.446502  0.026361\n",
       "1          본사출장자수  0.288116  0.015916\n",
       "2          본사휴가자수  0.225662  0.007488\n",
       "3            요일_금  0.118545  0.009149\n",
       "4  본사시간외근무명령서승인건수  0.115698  0.010497\n",
       "5           본사정원수  0.035525  0.002484\n",
       "6          식사가능인원  0.024526  0.001981\n",
       "7           휴일다음날  0.024141  0.002430\n",
       "8            월_10  0.010975  0.001025\n",
       "9            확진자수  0.010674  0.000702"
      ]
     },
     "metadata": {},
     "execution_count": 140
    }
   ],
   "metadata": {}
  },
  {
   "cell_type": "code",
   "execution_count": null,
   "source": [
    "perm = PermutationImportance(RF_dinner_model, random_state = 42).fit(X2_train,y2_train) \r\n",
    "#eli5.show_weights(perm, top = 20, feature_names = X_train.columns.tolist(),include_styles=True)\r\n",
    "eli5.explain_weights_df(perm,feature_names= X2_train.columns.tolist()).head(10)"
   ],
   "outputs": [
    {
     "output_type": "execute_result",
     "data": {
      "text/html": [
       "<div>\n",
       "<style scoped>\n",
       "    .dataframe tbody tr th:only-of-type {\n",
       "        vertical-align: middle;\n",
       "    }\n",
       "\n",
       "    .dataframe tbody tr th {\n",
       "        vertical-align: top;\n",
       "    }\n",
       "\n",
       "    .dataframe thead th {\n",
       "        text-align: right;\n",
       "    }\n",
       "</style>\n",
       "<table border=\"1\" class=\"dataframe\">\n",
       "  <thead>\n",
       "    <tr style=\"text-align: right;\">\n",
       "      <th></th>\n",
       "      <th>feature</th>\n",
       "      <th>weight</th>\n",
       "      <th>std</th>\n",
       "    </tr>\n",
       "  </thead>\n",
       "  <tbody>\n",
       "    <tr>\n",
       "      <th>0</th>\n",
       "      <td>본사시간외근무명령서승인건수</td>\n",
       "      <td>0.884046</td>\n",
       "      <td>0.060689</td>\n",
       "    </tr>\n",
       "    <tr>\n",
       "      <th>1</th>\n",
       "      <td>본사휴가자수</td>\n",
       "      <td>0.234774</td>\n",
       "      <td>0.018027</td>\n",
       "    </tr>\n",
       "    <tr>\n",
       "      <th>2</th>\n",
       "      <td>본사정원수</td>\n",
       "      <td>0.206388</td>\n",
       "      <td>0.006263</td>\n",
       "    </tr>\n",
       "    <tr>\n",
       "      <th>3</th>\n",
       "      <td>본사출장자수</td>\n",
       "      <td>0.170634</td>\n",
       "      <td>0.004892</td>\n",
       "    </tr>\n",
       "    <tr>\n",
       "      <th>4</th>\n",
       "      <td>확진자수</td>\n",
       "      <td>0.059964</td>\n",
       "      <td>0.002207</td>\n",
       "    </tr>\n",
       "    <tr>\n",
       "      <th>5</th>\n",
       "      <td>식사가능인원</td>\n",
       "      <td>0.039942</td>\n",
       "      <td>0.001695</td>\n",
       "    </tr>\n",
       "    <tr>\n",
       "      <th>6</th>\n",
       "      <td>현본사소속재택근무자수</td>\n",
       "      <td>0.039199</td>\n",
       "      <td>0.002518</td>\n",
       "    </tr>\n",
       "    <tr>\n",
       "      <th>7</th>\n",
       "      <td>월_12</td>\n",
       "      <td>0.027772</td>\n",
       "      <td>0.002080</td>\n",
       "    </tr>\n",
       "    <tr>\n",
       "      <th>8</th>\n",
       "      <td>요일_목</td>\n",
       "      <td>0.023281</td>\n",
       "      <td>0.002032</td>\n",
       "    </tr>\n",
       "    <tr>\n",
       "      <th>9</th>\n",
       "      <td>월_10</td>\n",
       "      <td>0.012664</td>\n",
       "      <td>0.002597</td>\n",
       "    </tr>\n",
       "  </tbody>\n",
       "</table>\n",
       "</div>"
      ],
      "text/plain": [
       "          feature    weight       std\n",
       "0  본사시간외근무명령서승인건수  0.884046  0.060689\n",
       "1          본사휴가자수  0.234774  0.018027\n",
       "2           본사정원수  0.206388  0.006263\n",
       "3          본사출장자수  0.170634  0.004892\n",
       "4            확진자수  0.059964  0.002207\n",
       "5          식사가능인원  0.039942  0.001695\n",
       "6     현본사소속재택근무자수  0.039199  0.002518\n",
       "7            월_12  0.027772  0.002080\n",
       "8            요일_목  0.023281  0.002032\n",
       "9            월_10  0.012664  0.002597"
      ]
     },
     "metadata": {},
     "execution_count": 141
    }
   ],
   "metadata": {}
  },
  {
   "cell_type": "markdown",
   "source": [
    "## KNN"
   ],
   "metadata": {}
  },
  {
   "cell_type": "markdown",
   "source": [
    "## 점심"
   ],
   "metadata": {}
  },
  {
   "cell_type": "code",
   "execution_count": null,
   "source": [
    "from sklearn.neighbors import KNeighborsRegressor\r\n",
    "\r\n",
    "grid_params = {\r\n",
    "    'n_neighbors' : list(range(1,20)),\r\n",
    "    'weights' : [\"uniform\", \"distance\"],\r\n",
    "    'metric' : ['euclidean', 'manhattan', 'minkowski']\r\n",
    "}\r\n",
    "\r\n",
    "grid_model = GridSearchCV(KNeighborsRegressor(), grid_params, scoring='r2')\r\n",
    "grid_model.fit(X_train, y_train) \r\n",
    "pre = grid_model.predict(X_test)\r\n",
    "\r\n",
    "grid_model = GridSearchCV(KNeighborsRegressor(), grid_params, scoring='r2')\r\n",
    "grid_model.fit(X2_train, y2_train) \r\n",
    "pre = grid_model.predict(X2_test)\r\n",
    "\r\n",
    "print(grid_model.score(X_test,y_test))\r\n",
    "print('r2=',r2_score(y_test,pre))\r\n",
    "print('RMSE=',np.sqrt(mean_squared_error(y_test, pre)))\r\n",
    "print('MAE=',mean_absolute_error(y_test, pre))"
   ],
   "outputs": [
    {
     "output_type": "stream",
     "name": "stdout",
     "text": [
      "-69.54801687133468\n",
      "r2= 0.8087948425701841\n",
      "RMSE= 90.91887307938624\n",
      "MAE= 69.54801687133468\n"
     ]
    }
   ],
   "metadata": {}
  },
  {
   "cell_type": "code",
   "execution_count": null,
   "source": [
    "grid_model.best_estimator_"
   ],
   "outputs": [
    {
     "output_type": "execute_result",
     "data": {
      "text/plain": [
       "KNeighborsRegressor(metric='manhattan', n_neighbors=9, weights='distance')"
      ]
     },
     "metadata": {},
     "execution_count": 163
    }
   ],
   "metadata": {}
  },
  {
   "cell_type": "code",
   "execution_count": null,
   "source": [
    "perm = PermutationImportance(grid_model, random_state = 42).fit(X_train,y_train) \r\n",
    "#eli5.show_weights(perm, top = 20, feature_names = X_train.columns.tolist(),include_styles=True)\r\n",
    "eli5.explain_weights_df(perm,feature_names= X_train.columns.tolist()).head(10)"
   ],
   "outputs": [
    {
     "output_type": "execute_result",
     "data": {
      "text/html": [
       "<div>\n",
       "<style scoped>\n",
       "    .dataframe tbody tr th:only-of-type {\n",
       "        vertical-align: middle;\n",
       "    }\n",
       "\n",
       "    .dataframe tbody tr th {\n",
       "        vertical-align: top;\n",
       "    }\n",
       "\n",
       "    .dataframe thead th {\n",
       "        text-align: right;\n",
       "    }\n",
       "</style>\n",
       "<table border=\"1\" class=\"dataframe\">\n",
       "  <thead>\n",
       "    <tr style=\"text-align: right;\">\n",
       "      <th></th>\n",
       "      <th>feature</th>\n",
       "      <th>weight</th>\n",
       "      <th>std</th>\n",
       "    </tr>\n",
       "  </thead>\n",
       "  <tbody>\n",
       "    <tr>\n",
       "      <th>0</th>\n",
       "      <td>본사출장자수</td>\n",
       "      <td>57.991399</td>\n",
       "      <td>1.291253</td>\n",
       "    </tr>\n",
       "    <tr>\n",
       "      <th>1</th>\n",
       "      <td>본사시간외근무명령서승인건수</td>\n",
       "      <td>48.270025</td>\n",
       "      <td>1.523636</td>\n",
       "    </tr>\n",
       "    <tr>\n",
       "      <th>2</th>\n",
       "      <td>본사정원수</td>\n",
       "      <td>44.563374</td>\n",
       "      <td>1.343998</td>\n",
       "    </tr>\n",
       "    <tr>\n",
       "      <th>3</th>\n",
       "      <td>식사가능인원</td>\n",
       "      <td>44.512455</td>\n",
       "      <td>0.780623</td>\n",
       "    </tr>\n",
       "    <tr>\n",
       "      <th>4</th>\n",
       "      <td>본사휴가자수</td>\n",
       "      <td>42.923524</td>\n",
       "      <td>0.461634</td>\n",
       "    </tr>\n",
       "    <tr>\n",
       "      <th>5</th>\n",
       "      <td>메뉴분류_육류</td>\n",
       "      <td>23.974265</td>\n",
       "      <td>0.786766</td>\n",
       "    </tr>\n",
       "    <tr>\n",
       "      <th>6</th>\n",
       "      <td>요일_월</td>\n",
       "      <td>23.935546</td>\n",
       "      <td>0.878174</td>\n",
       "    </tr>\n",
       "    <tr>\n",
       "      <th>7</th>\n",
       "      <td>국분류_국</td>\n",
       "      <td>22.716896</td>\n",
       "      <td>1.163407</td>\n",
       "    </tr>\n",
       "    <tr>\n",
       "      <th>8</th>\n",
       "      <td>요일_목</td>\n",
       "      <td>19.714982</td>\n",
       "      <td>0.531487</td>\n",
       "    </tr>\n",
       "    <tr>\n",
       "      <th>9</th>\n",
       "      <td>요일_화</td>\n",
       "      <td>17.886177</td>\n",
       "      <td>0.957471</td>\n",
       "    </tr>\n",
       "  </tbody>\n",
       "</table>\n",
       "</div>"
      ],
      "text/plain": [
       "          feature     weight       std\n",
       "0          본사출장자수  57.991399  1.291253\n",
       "1  본사시간외근무명령서승인건수  48.270025  1.523636\n",
       "2           본사정원수  44.563374  1.343998\n",
       "3          식사가능인원  44.512455  0.780623\n",
       "4          본사휴가자수  42.923524  0.461634\n",
       "5         메뉴분류_육류  23.974265  0.786766\n",
       "6            요일_월  23.935546  0.878174\n",
       "7           국분류_국  22.716896  1.163407\n",
       "8            요일_목  19.714982  0.531487\n",
       "9            요일_화  17.886177  0.957471"
      ]
     },
     "metadata": {},
     "execution_count": 143
    }
   ],
   "metadata": {}
  },
  {
   "cell_type": "markdown",
   "source": [
    "## 저녁"
   ],
   "metadata": {}
  },
  {
   "cell_type": "code",
   "execution_count": null,
   "source": [
    "from sklearn.neighbors import KNeighborsRegressor\r\n",
    "\r\n",
    "grid_params = {\r\n",
    "    'n_neighbors' : list(range(1,20)),\r\n",
    "    'weights' : [\"uniform\", \"distance\"],\r\n",
    "    'metric' : ['euclidean', 'manhattan', 'minkowski']\r\n",
    "}\r\n",
    "\r\n",
    "grid_model = GridSearchCV(KNeighborsRegressor(), grid_params, scoring='neg_mean_absolute_error')\r\n",
    "\r\n",
    "grid_model.fit(X2_train, y2_train) \r\n",
    "pre = grid_model.predict(X2_test)\r\n",
    "\r\n",
    "print(grid_model.score(X2_test,y2_test))\r\n",
    "print('r2=',r2_score(y2_test,pre))\r\n",
    "print('RMSE=',np.sqrt(mean_squared_error(y2_test, pre)))\r\n",
    "print('MAE=',mean_absolute_error(y2_test, pre))"
   ],
   "outputs": [
    {
     "output_type": "stream",
     "name": "stdout",
     "text": [
      "-49.6265365878378\n",
      "r2= 0.6083902730095437\n",
      "RMSE= 66.68536438602632\n",
      "MAE= 49.6265365878378\n"
     ]
    }
   ],
   "metadata": {}
  },
  {
   "cell_type": "code",
   "execution_count": null,
   "source": [
    "grid_model.best_estimator_"
   ],
   "outputs": [
    {
     "output_type": "execute_result",
     "data": {
      "text/plain": [
       "KNeighborsRegressor(metric='euclidean', n_neighbors=4, weights='distance')"
      ]
     },
     "metadata": {},
     "execution_count": 165
    }
   ],
   "metadata": {}
  },
  {
   "cell_type": "code",
   "execution_count": null,
   "source": [
    "perm = PermutationImportance(grid_model, random_state = 42).fit(X2_train,y2_train) \r\n",
    "#eli5.show_weights(perm, top = 20, feature_names = X_train.columns.tolist(),include_styles=True)\r\n",
    "eli5.explain_weights_df(perm,feature_names= X2_train.columns.tolist()).head(10)"
   ],
   "outputs": [
    {
     "output_type": "execute_result",
     "data": {
      "text/html": [
       "<div>\n",
       "<style scoped>\n",
       "    .dataframe tbody tr th:only-of-type {\n",
       "        vertical-align: middle;\n",
       "    }\n",
       "\n",
       "    .dataframe tbody tr th {\n",
       "        vertical-align: top;\n",
       "    }\n",
       "\n",
       "    .dataframe thead th {\n",
       "        text-align: right;\n",
       "    }\n",
       "</style>\n",
       "<table border=\"1\" class=\"dataframe\">\n",
       "  <thead>\n",
       "    <tr style=\"text-align: right;\">\n",
       "      <th></th>\n",
       "      <th>feature</th>\n",
       "      <th>weight</th>\n",
       "      <th>std</th>\n",
       "    </tr>\n",
       "  </thead>\n",
       "  <tbody>\n",
       "    <tr>\n",
       "      <th>0</th>\n",
       "      <td>본사시간외근무명령서승인건수</td>\n",
       "      <td>43.911589</td>\n",
       "      <td>2.166999</td>\n",
       "    </tr>\n",
       "    <tr>\n",
       "      <th>1</th>\n",
       "      <td>본사출장자수</td>\n",
       "      <td>38.641065</td>\n",
       "      <td>0.534752</td>\n",
       "    </tr>\n",
       "    <tr>\n",
       "      <th>2</th>\n",
       "      <td>본사정원수</td>\n",
       "      <td>36.685020</td>\n",
       "      <td>1.201005</td>\n",
       "    </tr>\n",
       "    <tr>\n",
       "      <th>3</th>\n",
       "      <td>본사휴가자수</td>\n",
       "      <td>32.314677</td>\n",
       "      <td>0.704343</td>\n",
       "    </tr>\n",
       "    <tr>\n",
       "      <th>4</th>\n",
       "      <td>식사가능인원</td>\n",
       "      <td>31.576901</td>\n",
       "      <td>1.133214</td>\n",
       "    </tr>\n",
       "    <tr>\n",
       "      <th>5</th>\n",
       "      <td>현본사소속재택근무자수</td>\n",
       "      <td>19.115921</td>\n",
       "      <td>0.751412</td>\n",
       "    </tr>\n",
       "    <tr>\n",
       "      <th>6</th>\n",
       "      <td>메뉴분류_육류</td>\n",
       "      <td>16.880567</td>\n",
       "      <td>0.855490</td>\n",
       "    </tr>\n",
       "    <tr>\n",
       "      <th>7</th>\n",
       "      <td>국분류_국</td>\n",
       "      <td>16.694165</td>\n",
       "      <td>0.373019</td>\n",
       "    </tr>\n",
       "    <tr>\n",
       "      <th>8</th>\n",
       "      <td>메뉴분류_해산물</td>\n",
       "      <td>15.609525</td>\n",
       "      <td>0.453115</td>\n",
       "    </tr>\n",
       "    <tr>\n",
       "      <th>9</th>\n",
       "      <td>확진자수</td>\n",
       "      <td>11.981971</td>\n",
       "      <td>0.270058</td>\n",
       "    </tr>\n",
       "  </tbody>\n",
       "</table>\n",
       "</div>"
      ],
      "text/plain": [
       "          feature     weight       std\n",
       "0  본사시간외근무명령서승인건수  43.911589  2.166999\n",
       "1          본사출장자수  38.641065  0.534752\n",
       "2           본사정원수  36.685020  1.201005\n",
       "3          본사휴가자수  32.314677  0.704343\n",
       "4          식사가능인원  31.576901  1.133214\n",
       "5     현본사소속재택근무자수  19.115921  0.751412\n",
       "6         메뉴분류_육류  16.880567  0.855490\n",
       "7           국분류_국  16.694165  0.373019\n",
       "8        메뉴분류_해산물  15.609525  0.453115\n",
       "9            확진자수  11.981971  0.270058"
      ]
     },
     "metadata": {},
     "execution_count": 145
    }
   ],
   "metadata": {}
  }
 ],
 "metadata": {
  "orig_nbformat": 4,
  "language_info": {
   "name": "python",
   "version": "3.8.10",
   "mimetype": "text/x-python",
   "codemirror_mode": {
    "name": "ipython",
    "version": 3
   },
   "pygments_lexer": "ipython3",
   "nbconvert_exporter": "python",
   "file_extension": ".py"
  },
  "kernelspec": {
   "name": "python3",
   "display_name": "Python 3.8.10 64-bit ('base': conda)"
  },
  "interpreter": {
   "hash": "345fc451c7e0336b9390ad1fad588039702f89ec6d37597eff879e480e25ffdb"
  }
 },
 "nbformat": 4,
 "nbformat_minor": 2
}