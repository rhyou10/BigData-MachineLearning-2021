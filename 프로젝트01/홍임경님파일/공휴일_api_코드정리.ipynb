{
 "cells": [
  {
   "cell_type": "code",
   "execution_count": null,
   "source": [
    "import requests\r\n",
    "from urllib.parse import quote\r\n",
    "import urllib\r\n",
    "import json\r\n",
    "from pandas import json_normalize\r\n",
    "import pandas as pd\r\n",
    "import numpy as np\r\n",
    "import datetime as dt "
   ],
   "outputs": [],
   "metadata": {}
  },
  {
   "cell_type": "code",
   "execution_count": null,
   "source": [
    "f = open('인증키 파일경로 또는 이름', 'r')\r\n",
    "ServiceKey = f.read()\r\n",
    "len(ServiceKey)"
   ],
   "outputs": [],
   "metadata": {}
  },
  {
   "cell_type": "code",
   "execution_count": null,
   "source": [
    "years = [2016, 2017, 2018, 2019, 2020, 2021]\r\n",
    "months = ['01', '02', '03', '04', '05', '06', '07', '08', '09', '10', '11', '12']\r\n",
    "operation = ['getRestDeInfo','getAnniversaryInfo']"
   ],
   "outputs": [],
   "metadata": {}
  },
  {
   "cell_type": "code",
   "execution_count": null,
   "source": [
    "# 공휴일\r\n",
    "r_day = []\r\n",
    "hol_url = 'http://apis.data.go.kr/B090041/openapi/service/SpcdeInfoService/getRestDeInfo'\r\n",
    "\r\n",
    "for year in years:\r\n",
    "    for month in months:\r\n",
    "        option = f'solYear={year}&solMonth={month}&ServiceKey={ServiceKey}&_type=json'\r\n",
    "        url = f'{hol_url}?{option}'\r\n",
    "        result = requests.get(url).json()\r\n",
    "        r_day.append(result)\r\n",
    "#r_day[0]['response']['body']['items']['item']\r\n",
    "r_day"
   ],
   "outputs": [],
   "metadata": {}
  },
  {
   "cell_type": "code",
   "execution_count": null,
   "source": [
    "# 기념일\r\n",
    "ann_day = []\r\n",
    "hol_url = 'http://apis.data.go.kr/B090041/openapi/service/SpcdeInfoService/getAnniversaryInfo'\r\n",
    "\r\n",
    "for year in years:\r\n",
    "    for month in months:\r\n",
    "        option = f'solYear={year}&solMonth={month}&ServiceKey={ServiceKey}&_type=json'\r\n",
    "        url = f'{hol_url}?{option}'\r\n",
    "        result = requests.get(url).json()\r\n",
    "        ann_day.append(result)\r\n",
    "#ann_day[0]['response']['body']['items']['item']\r\n",
    "ann_day"
   ],
   "outputs": [],
   "metadata": {}
  },
  {
   "cell_type": "code",
   "execution_count": null,
   "source": [
    "# 공휴일 데이터프레임 만들기\r\n",
    "rday_df = pd.DataFrame.from_dict(json_normalize(r_day), orient='columns')\r\n",
    "rday_df"
   ],
   "outputs": [],
   "metadata": {}
  },
  {
   "cell_type": "code",
   "execution_count": null,
   "source": [
    "# 기념일 데이터프레임 만들기\r\n",
    "annday_df = pd.DataFrame.from_dict(json_normalize(ann_day), orient='columns')\r\n",
    "annday_df"
   ],
   "outputs": [],
   "metadata": {}
  },
  {
   "cell_type": "code",
   "execution_count": null,
   "source": [
    "# 공휴일 - 필요한 열만 추출\r\n",
    "rdf = rday_df[['response.body.items.item.dateName','response.body.items.item.isHoliday','response.body.items.item.locdate','response.body.items.item']]\r\n",
    "rdf"
   ],
   "outputs": [],
   "metadata": {}
  },
  {
   "cell_type": "code",
   "execution_count": null,
   "source": [
    "# 기념일 - 필요한 열만 추출\r\n",
    "anndf = annday_df[['response.body.items.item.dateName', 'response.body.items.item.isHoliday','response.body.items.item.locdate','response.body.items.item']]\r\n",
    "anndf['response.body.items.item'][4]"
   ],
   "outputs": [],
   "metadata": {}
  },
  {
   "cell_type": "code",
   "execution_count": null,
   "source": [
    "# column명 변경 \r\n",
    "rdf.columns = ['name','isholiday','date', 'name2']\r\n",
    "anndf.columns = ['name','desc','isholiday','date']"
   ],
   "outputs": [],
   "metadata": {}
  },
  {
   "cell_type": "code",
   "execution_count": null,
   "source": [
    "print('--------------------공휴일-------------------------')\r\n",
    "print(rdf)\r\n",
    "print('--------------------기념일-------------------------')\r\n",
    "print(anndf)"
   ],
   "outputs": [],
   "metadata": {}
  },
  {
   "cell_type": "code",
   "execution_count": null,
   "source": [
    "# 데이터 확인 \r\n",
    "rdf"
   ],
   "outputs": [],
   "metadata": {}
  },
  {
   "cell_type": "code",
   "execution_count": null,
   "source": [
    "# name 기준 df 만들기 \r\n",
    "rdf1 = rdf.dropna(subset=['name'])\r\n",
    "rdf1 = rdf1[['name', 'date']]\r\n",
    "rdf1"
   ],
   "outputs": [],
   "metadata": {}
  },
  {
   "cell_type": "code",
   "execution_count": null,
   "source": [
    "# name2 기준 dateName, locdate 추출 \r\n",
    "rdf2_lis=[]\r\n",
    "for item in rdf['name2']:\r\n",
    "    if type(item)==list:\r\n",
    "        for i in range(len(item)):\r\n",
    "            r =[]\r\n",
    "            r.append(item[i]['locdate'])\r\n",
    "            r.append(item[i]['dateName'])\r\n",
    "            if r != []:\r\n",
    "                rdf2_lis.append(r)       \r\n",
    "rdf2_lis"
   ],
   "outputs": [],
   "metadata": {}
  },
  {
   "cell_type": "code",
   "execution_count": null,
   "source": [
    "# 추출한 데이터 데이터프레임 만들기 \r\n",
    "rrdf2 = pd.DataFrame(rdf2_lis, columns=['date', 'name'])\r\n",
    "rdf2"
   ],
   "outputs": [],
   "metadata": {}
  },
  {
   "cell_type": "code",
   "execution_count": null,
   "source": [
    "# column 순서 바꾸기 \r\n",
    "rdf1 = rdf1.reindex(columns=['date', 'name'])\r\n",
    "rdf1"
   ],
   "outputs": [],
   "metadata": {}
  },
  {
   "cell_type": "code",
   "execution_count": null,
   "source": [
    "# 데이터 갯수 확인\r\n",
    "rdf1.shape, rdf2.shape"
   ],
   "outputs": [],
   "metadata": {}
  },
  {
   "cell_type": "code",
   "execution_count": null,
   "source": [
    "# name, name2 기준으로 된 rdf1, rdf2 병합 \r\n",
    "rdf_new = pd.merge(rdf1, rdf2, how='outer')\r\n",
    "rdf_new"
   ],
   "outputs": [],
   "metadata": {}
  },
  {
   "cell_type": "code",
   "execution_count": null,
   "source": [
    "# 데이터 타입 확인 \r\n",
    "rdf_new.info()"
   ],
   "outputs": [],
   "metadata": {}
  },
  {
   "cell_type": "code",
   "execution_count": null,
   "source": [
    "# 데이터 타입 변환 (문자열 변환 후 슬라이싱까지)\r\n",
    "rdf_new['date'] = rdf_new['date'].astype('str').str[:8]\r\n",
    "rdf_new"
   ],
   "outputs": [],
   "metadata": {}
  },
  {
   "cell_type": "code",
   "execution_count": null,
   "source": [
    "# 시간으로 바꿔주기 \r\n",
    "import datetime as dt\r\n",
    "rdf_new['date'] = pd.to_datetime(rdf_new['date'])\r\n",
    "rdf_new"
   ],
   "outputs": [],
   "metadata": {}
  },
  {
   "cell_type": "code",
   "execution_count": null,
   "source": [
    "# 년,월,일, 요일 구분 후 순서조정(시계열)\r\n",
    "rdf_new['year'] = rdf_new['date'].dt.year\r\n",
    "rdf_new['month'] = rdf_new['date'].dt.month\r\n",
    "rdf_new['day'] = rdf_new['date'].dt.day\r\n",
    "rdf_new['wday'] = rdf_new['date'].dt.weekday    #월요일0 - 일요일6\r\n",
    "\r\n",
    "rdf_new[['date', 'year','month', 'day', 'wday', 'name']]"
   ],
   "outputs": [],
   "metadata": {}
  },
  {
   "cell_type": "code",
   "execution_count": null,
   "source": [
    "# 날짜순으로 정리 후 인덱스 수정 \r\n",
    "rdf_new = rdf_new.sort_values('date')\r\n",
    "rdf_new.reset_index(drop=True, inplace=True)"
   ],
   "outputs": [],
   "metadata": {}
  },
  {
   "cell_type": "markdown",
   "source": [
    "- 기념일"
   ],
   "metadata": {}
  },
  {
   "cell_type": "code",
   "execution_count": null,
   "source": [
    "## 기념일 \r\n",
    "anndf"
   ],
   "outputs": [],
   "metadata": {}
  },
  {
   "cell_type": "code",
   "execution_count": null,
   "source": [
    "anndf['date'][4]"
   ],
   "outputs": [],
   "metadata": {}
  },
  {
   "cell_type": "code",
   "execution_count": null,
   "source": [
    "# name에 들어있는 date 추출(thx to 나영님)\r\n",
    "anndf1_lis = []\r\n",
    "for i in range(len(anndf)):\r\n",
    "    if pd.notna(anndf['name'][i]):\r\n",
    "        anndf1_lis.append([anndf['isholiday'][i], anndf['name'][i]])\r\n",
    "\r\n",
    "anndf1_lis"
   ],
   "outputs": [],
   "metadata": {}
  },
  {
   "cell_type": "code",
   "execution_count": null,
   "source": [
    "# date에 들어있는 date 추출(thx to 태혁님)\r\n",
    "anndf2_lis=[]\r\n",
    "for item in anndf['date']:\r\n",
    "    if type(item)==list:\r\n",
    "        for i in range(len(item)):\r\n",
    "            r =[]\r\n",
    "            r.append(item[i]['locdate'])\r\n",
    "            r.append(item[i]['dateName'])\r\n",
    "            # r.append(item[i]['isHoliday'])\r\n",
    "            if r != []:\r\n",
    "                anndf2_lis.append(r)       \r\n",
    "anndf2_lis"
   ],
   "outputs": [],
   "metadata": {}
  },
  {
   "cell_type": "code",
   "execution_count": null,
   "source": [
    "# 데이터프레임만들기\r\n",
    "anndf1 = pd.DataFrame(anndf1_lis, columns=['date', 'name'])\r\n",
    "anndf2 = pd.DataFrame(anndf2_lis, columns=['date', 'name'])"
   ],
   "outputs": [],
   "metadata": {}
  },
  {
   "cell_type": "code",
   "execution_count": null,
   "source": [
    "# 병합\r\n",
    "anndf_new = pd.merge(anndf1, anndf2, how='outer')\r\n",
    "anndf_new"
   ],
   "outputs": [],
   "metadata": {}
  },
  {
   "cell_type": "code",
   "execution_count": null,
   "source": [
    "# 문자열로 바꿔서 잘라주고\r\n",
    "anndf_new['date'] = anndf_new['date'].astype('str').str[:8]\r\n",
    "\r\n",
    "# 날짜타입으로 변경\r\n",
    "anndf_new['date'] = pd.to_datetime(anndf_new['date'])\r\n",
    "anndf_new['year'] = anndf_new['date'].dt.year\r\n",
    "anndf_new['month'] = anndf_new['date'].dt.month\r\n",
    "anndf_new['day'] = anndf_new['date'].dt.day\r\n",
    "anndf_new['wday'] = anndf_new['date'].dt.weekday        #월요일0 - 일요일6\r\n",
    "\r\n",
    "anndf_new[['date', 'year','month', 'day', 'wday', 'name']]"
   ],
   "outputs": [],
   "metadata": {}
  },
  {
   "cell_type": "code",
   "execution_count": null,
   "source": [
    "# 인덱스를 name으로 설정 \r\n",
    "anndf_new = anndf_new.set_index('name')\r\n",
    "anndf_new"
   ],
   "outputs": [],
   "metadata": {}
  },
  {
   "cell_type": "code",
   "execution_count": null,
   "source": [
    "# 그나마 의미있는 것은 '근로자의날' 이라서 그것만 추출\r\n",
    "lbday = anndf_new.loc['근로자의 날']\r\n",
    "lbday"
   ],
   "outputs": [],
   "metadata": {}
  },
  {
   "cell_type": "code",
   "execution_count": null,
   "source": [
    "# 방법1 - 파이썬 컴프리헨션(압축기법)\r\n",
    "df['sugar']=[x.split('/')[0] if pd.notnull(x) else x for x in tmp['sugar_PH']]\r\n",
    "df['PH']=[x.split('/')[1] if pd.notnull(x) else x for x in tmp['sugar_PH']]\r\n",
    "\r\n",
    "# df['sugar'] = df['sugar_PH'].apply(\r\n",
    "#     lambda x: x.split('/')[0] if pd.notnull(x) else x)\r\n",
    "\r\n",
    "# df['PH'] = df['sugar_PH'].apply(\r\n",
    "#     lambda x: x.split('/')[1] if pd.notnull(x) else x)\r\n",
    "\r\n",
    "df.info()"
   ],
   "outputs": [
    {
     "output_type": "stream",
     "name": "stdout",
     "text": [
      "<class 'pandas.core.frame.DataFrame'>\n",
      "Int64Index: 6497 entries, 0 to 6496\n",
      "Data columns (total 6 columns):\n",
      " #   Column    Non-Null Count  Dtype  \n",
      "---  ------    --------------  -----  \n",
      " 0   index     6497 non-null   int64  \n",
      " 1   alcohol   6497 non-null   float64\n",
      " 2   class     6493 non-null   float64\n",
      " 3   sugar_PH  6497 non-null   object \n",
      " 4   sugar     6497 non-null   object \n",
      " 5   PH        6497 non-null   object \n",
      "dtypes: float64(2), int64(1), object(3)\n",
      "memory usage: 355.3+ KB\n"
     ]
    }
   ],
   "metadata": {}
  },
  {
   "cell_type": "code",
   "execution_count": null,
   "source": [
    "# 인덱스 다시 리셋하고 열추가(rdf_new랑 merge할거니까)\r\n",
    "# drop: 인덱스세팅한 열 삭제(True) or 유지(False)\r\n",
    "# inplace: 원본데이터반환(True) or 복사본 반환(False)\r\n",
    "lbday = lbday.reset_index(drop=True, inplace=False) # index(0~)열 삭제 \r\n",
    "lbday['name']='근로자의 날'\r\n",
    "lbday"
   ],
   "outputs": [],
   "metadata": {}
  },
  {
   "cell_type": "code",
   "execution_count": null,
   "source": [
    "hdf = pd.merge(rdf_new, lbday, how='outer')\r\n",
    "hdf"
   ],
   "outputs": [],
   "metadata": {}
  },
  {
   "cell_type": "code",
   "execution_count": null,
   "source": [
    "hdf.info()"
   ],
   "outputs": [],
   "metadata": {}
  },
  {
   "cell_type": "code",
   "execution_count": null,
   "source": [
    "## 날짜(date)순으로 정렬하고 인덱스 리셋\r\n",
    "# ascending=False 하면 내림차순\r\n",
    "# df = df.sort_values(by=['칼럼1'], axis=0, ascending = False)\r\n",
    "# axis = 0 하면 세로방향으로 있는 데이터 정렬(우리가 흔히 쓰는거) 따라서 by = '칼럼이름'\r\n",
    "# axis = 1 하면 가로방향으로 있는 데이터 정렬 따라서 by = 'row번호'\r\n",
    "hdf = hdf.sort_values('date')\r\n",
    "hdf.reset_index(drop=True, inplace=True)\r\n",
    "hdf"
   ],
   "outputs": [],
   "metadata": {}
  },
  {
   "cell_type": "code",
   "execution_count": null,
   "source": [
    "hdf.to_csv('nationalholiday.csv')"
   ],
   "outputs": [],
   "metadata": {}
  }
 ],
 "metadata": {
  "orig_nbformat": 4,
  "language_info": {
   "name": "python",
   "version": "3.8.10"
  },
  "kernelspec": {
   "name": "python3",
   "display_name": "Python 3.8.10 64-bit ('base': conda)"
  },
  "interpreter": {
   "hash": "2c5373b56045d27805095073b4fd3831b9681fb378d55d950933c3cade222603"
  }
 },
 "nbformat": 4,
 "nbformat_minor": 2
}