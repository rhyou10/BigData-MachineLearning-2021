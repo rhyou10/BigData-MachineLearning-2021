{
  "nbformat": 4,
  "nbformat_minor": 0,
  "metadata": {
    "colab": {
      "name": "3. 실습문제_타이타닉인공신경망.ipynb",
      "provenance": [],
      "collapsed_sections": []
    },
    "kernelspec": {
      "display_name": "Python 3",
      "language": "python",
      "name": "python3"
    },
    "language_info": {
      "codemirror_mode": {
        "name": "ipython",
        "version": 3
      },
      "file_extension": ".py",
      "mimetype": "text/x-python",
      "name": "python",
      "nbconvert_exporter": "python",
      "pygments_lexer": "ipython3",
      "version": "3.8.8"
    }
  },
  "cells": [
    {
      "cell_type": "markdown",
      "metadata": {
        "id": "FR73btk2zeeT"
      },
      "source": [
        "# 텐서플로우를 이용한 분류분석"
      ]
    },
    {
      "cell_type": "code",
      "metadata": {
        "id": "bvtdvoiFzhqI"
      },
      "source": [
        "import tensorflow as tf    # 구글이 제공하는 인공지능 관련 함수가 제공되는 텐서2.0으로 세팅\n",
        "import pandas as pd    #행열로 구성되어 있는 데이터베이스 자료를 처리하는 모듈\n",
        "import matplotlib.pyplot as plt   # 차트제공하는 모듈"
      ],
      "execution_count": null,
      "outputs": []
    },
    {
      "cell_type": "code",
      "metadata": {
        "colab": {
          "base_uri": "https://localhost:8080/"
        },
        "id": "9MPfoZM-c13q",
        "outputId": "8e8a8cd8-97a9-4ae8-f02b-2d7a1c546b50"
      },
      "source": [
        "## 코렙 드라이브 마운트합니다.\n",
        "from google.colab import drive \n",
        "drive.mount('/content/gdrive/')\n"
      ],
      "execution_count": null,
      "outputs": [
        {
          "output_type": "stream",
          "name": "stdout",
          "text": [
            "Mounted at /content/gdrive/\n"
          ]
        }
      ]
    },
    {
      "cell_type": "code",
      "metadata": {
        "colab": {
          "base_uri": "https://localhost:8080/",
          "height": 233
        },
        "id": "VW63n_PU0PL3",
        "outputId": "2f23eb36-49e7-4bb1-8b85-2efbe0ca66ea"
      },
      "source": [
        "df = pd.read_excel('/content/gdrive/MyDrive/data/titanic.xls')\n",
        "df.head(2)"
      ],
      "execution_count": null,
      "outputs": [
        {
          "output_type": "execute_result",
          "data": {
            "text/html": [
              "<div>\n",
              "<style scoped>\n",
              "    .dataframe tbody tr th:only-of-type {\n",
              "        vertical-align: middle;\n",
              "    }\n",
              "\n",
              "    .dataframe tbody tr th {\n",
              "        vertical-align: top;\n",
              "    }\n",
              "\n",
              "    .dataframe thead th {\n",
              "        text-align: right;\n",
              "    }\n",
              "</style>\n",
              "<table border=\"1\" class=\"dataframe\">\n",
              "  <thead>\n",
              "    <tr style=\"text-align: right;\">\n",
              "      <th></th>\n",
              "      <th>pclass</th>\n",
              "      <th>survived</th>\n",
              "      <th>name</th>\n",
              "      <th>sex</th>\n",
              "      <th>age</th>\n",
              "      <th>sibsp</th>\n",
              "      <th>parch</th>\n",
              "      <th>ticket</th>\n",
              "      <th>fare</th>\n",
              "      <th>cabin</th>\n",
              "      <th>embarked</th>\n",
              "      <th>boat</th>\n",
              "      <th>body</th>\n",
              "      <th>home.dest</th>\n",
              "    </tr>\n",
              "  </thead>\n",
              "  <tbody>\n",
              "    <tr>\n",
              "      <th>0</th>\n",
              "      <td>1</td>\n",
              "      <td>1</td>\n",
              "      <td>Allen, Miss. Elisabeth Walton</td>\n",
              "      <td>female</td>\n",
              "      <td>29.0000</td>\n",
              "      <td>0</td>\n",
              "      <td>0</td>\n",
              "      <td>24160</td>\n",
              "      <td>211.3375</td>\n",
              "      <td>B5</td>\n",
              "      <td>S</td>\n",
              "      <td>2</td>\n",
              "      <td>NaN</td>\n",
              "      <td>St Louis, MO</td>\n",
              "    </tr>\n",
              "    <tr>\n",
              "      <th>1</th>\n",
              "      <td>1</td>\n",
              "      <td>1</td>\n",
              "      <td>Allison, Master. Hudson Trevor</td>\n",
              "      <td>male</td>\n",
              "      <td>0.9167</td>\n",
              "      <td>1</td>\n",
              "      <td>2</td>\n",
              "      <td>113781</td>\n",
              "      <td>151.5500</td>\n",
              "      <td>C22 C26</td>\n",
              "      <td>S</td>\n",
              "      <td>11</td>\n",
              "      <td>NaN</td>\n",
              "      <td>Montreal, PQ / Chesterville, ON</td>\n",
              "    </tr>\n",
              "  </tbody>\n",
              "</table>\n",
              "</div>"
            ],
            "text/plain": [
              "   pclass  survived  ... body                        home.dest\n",
              "0       1         1  ...  NaN                     St Louis, MO\n",
              "1       1         1  ...  NaN  Montreal, PQ / Chesterville, ON\n",
              "\n",
              "[2 rows x 14 columns]"
            ]
          },
          "metadata": {},
          "execution_count": 3
        }
      ]
    },
    {
      "cell_type": "code",
      "metadata": {
        "colab": {
          "base_uri": "https://localhost:8080/"
        },
        "id": "cyGDueA73rRB",
        "outputId": "03c25d03-f1de-45f4-a14d-2122c591d1c9"
      },
      "source": [
        "df.info()"
      ],
      "execution_count": null,
      "outputs": [
        {
          "output_type": "stream",
          "name": "stdout",
          "text": [
            "<class 'pandas.core.frame.DataFrame'>\n",
            "RangeIndex: 1309 entries, 0 to 1308\n",
            "Data columns (total 14 columns):\n",
            " #   Column     Non-Null Count  Dtype  \n",
            "---  ------     --------------  -----  \n",
            " 0   pclass     1309 non-null   int64  \n",
            " 1   survived   1309 non-null   int64  \n",
            " 2   name       1309 non-null   object \n",
            " 3   sex        1309 non-null   object \n",
            " 4   age        1046 non-null   float64\n",
            " 5   sibsp      1309 non-null   int64  \n",
            " 6   parch      1309 non-null   int64  \n",
            " 7   ticket     1309 non-null   object \n",
            " 8   fare       1308 non-null   float64\n",
            " 9   cabin      295 non-null    object \n",
            " 10  embarked   1307 non-null   object \n",
            " 11  boat       486 non-null    object \n",
            " 12  body       121 non-null    float64\n",
            " 13  home.dest  745 non-null    object \n",
            "dtypes: float64(3), int64(4), object(7)\n",
            "memory usage: 143.3+ KB\n"
          ]
        }
      ]
    },
    {
      "cell_type": "markdown",
      "metadata": {
        "id": "WcWlZKCr0z2f"
      },
      "source": [
        "## [문제] 사이킷런 Label Encoding을 이용하여 성별을 0, 1로 변경함\n",
        "![image.png](attachment:image.png)"
      ]
    },
    {
      "cell_type": "code",
      "metadata": {
        "colab": {
          "base_uri": "https://localhost:8080/"
        },
        "id": "Sc_Agdcn0nOU",
        "outputId": "8c40244c-3e5d-498a-8742-91d483bc1bfe"
      },
      "source": [
        "## 성별변경\n",
        "from sklearn.preprocessing import LabelEncoder\n",
        "label = LabelEncoder()\n",
        "df.sex.astype('category')\n",
        "df['sex'] = label.fit_transform(df.sex) # f : 0 / m : 1\n",
        "df.sex[:5]\n",
        "\n",
        "#df['sex'] = [0 if x =='female' else 1 for x in df['sex']]"
      ],
      "execution_count": null,
      "outputs": [
        {
          "output_type": "execute_result",
          "data": {
            "text/plain": [
              "0    0\n",
              "1    1\n",
              "2    0\n",
              "3    1\n",
              "4    0\n",
              "Name: sex, dtype: int64"
            ]
          },
          "metadata": {},
          "execution_count": 5
        }
      ]
    },
    {
      "cell_type": "markdown",
      "metadata": {
        "id": "rf9FRu--c13t"
      },
      "source": [
        "## [문제] 데이터 type float64=> float32로 변경 \n",
        "## [문제]age,sibsp,parch,fare Null값 제거\n"
      ]
    },
    {
      "cell_type": "code",
      "metadata": {
        "id": "yYIlSD5cI9Wo"
      },
      "source": [
        "# 데이터 타입 변경\n",
        "list = ['pclass', 'survived', 'sex', 'sibsp', 'parch', 'fare', 'age']\n",
        "for col in list:\n",
        "  df[col] = df[col].astype('float32')\n",
        "  df = df[df[col].notnull()]"
      ],
      "execution_count": null,
      "outputs": []
    },
    {
      "cell_type": "code",
      "metadata": {
        "id": "DH5LKroOlyqS"
      },
      "source": [
        "# age,sibsp,parch,fare Null값 제거"
      ],
      "execution_count": null,
      "outputs": []
    },
    {
      "cell_type": "code",
      "metadata": {
        "colab": {
          "base_uri": "https://localhost:8080/"
        },
        "id": "9jVmngyPJo_m",
        "outputId": "153e6adc-615c-4078-c790-215f67bd346b"
      },
      "source": [
        "df.info()"
      ],
      "execution_count": null,
      "outputs": [
        {
          "output_type": "stream",
          "name": "stdout",
          "text": [
            "<class 'pandas.core.frame.DataFrame'>\n",
            "Int64Index: 1045 entries, 0 to 1308\n",
            "Data columns (total 14 columns):\n",
            " #   Column     Non-Null Count  Dtype  \n",
            "---  ------     --------------  -----  \n",
            " 0   pclass     1045 non-null   float32\n",
            " 1   survived   1045 non-null   float32\n",
            " 2   name       1045 non-null   object \n",
            " 3   sex        1045 non-null   float32\n",
            " 4   age        1045 non-null   float32\n",
            " 5   sibsp      1045 non-null   float32\n",
            " 6   parch      1045 non-null   float32\n",
            " 7   ticket     1045 non-null   object \n",
            " 8   fare       1045 non-null   float32\n",
            " 9   cabin      272 non-null    object \n",
            " 10  embarked   1043 non-null   object \n",
            " 11  boat       417 non-null    object \n",
            " 12  body       119 non-null    float64\n",
            " 13  home.dest  685 non-null    object \n",
            "dtypes: float32(7), float64(1), object(6)\n",
            "memory usage: 93.9+ KB\n"
          ]
        }
      ]
    },
    {
      "cell_type": "markdown",
      "metadata": {
        "id": "T29EzrGoc13v"
      },
      "source": [
        "## x,y 데이터 분할"
      ]
    },
    {
      "cell_type": "code",
      "metadata": {
        "colab": {
          "base_uri": "https://localhost:8080/"
        },
        "id": "eygpGUqg03r7",
        "outputId": "b598ab9d-28bf-400f-c1f2-69be1a05480d"
      },
      "source": [
        "y = df['survived'].values  \n",
        "x = df.values[:, [0,3,4,5,6,8]]  \n",
        "\n",
        "#x = mushrooms.drop(['class'], axis=1) #axis는 열 드롭, 생략시 행 드롭\n",
        "#x = mushrooms.drop(['class'], axis=1).values로  numpy형식으로 보내도됨\n",
        "print(y[:5])   #class를 y값으로\n",
        "print(x[:5])   #class를 뺀 나머지를 x값으로 잡음. \n"
      ],
      "execution_count": null,
      "outputs": [
        {
          "output_type": "stream",
          "name": "stdout",
          "text": [
            "[1. 1. 0. 0. 0.]\n",
            "[[1.0 0.0 29.0 0.0 0.0 211.33749389648438]\n",
            " [1.0 1.0 0.916700005531311 1.0 2.0 151.5500030517578]\n",
            " [1.0 0.0 2.0 1.0 2.0 151.5500030517578]\n",
            " [1.0 1.0 30.0 1.0 2.0 151.5500030517578]\n",
            " [1.0 0.0 25.0 1.0 2.0 151.5500030517578]]\n"
          ]
        }
      ]
    },
    {
      "cell_type": "code",
      "metadata": {
        "colab": {
          "base_uri": "https://localhost:8080/",
          "height": 337
        },
        "id": "_c6ff16g2R70",
        "outputId": "5c78b940-d298-4a04-f6a5-ec8ac5b2cd34"
      },
      "source": [
        "plt.hist(y)"
      ],
      "execution_count": null,
      "outputs": [
        {
          "output_type": "execute_result",
          "data": {
            "text/plain": [
              "(array([618.,   0.,   0.,   0.,   0.,   0.,   0.,   0.,   0., 427.]),\n",
              " array([0. , 0.1, 0.2, 0.3, 0.4, 0.5, 0.6, 0.7, 0.8, 0.9, 1. ],\n",
              "       dtype=float32),\n",
              " <a list of 10 Patch objects>)"
            ]
          },
          "metadata": {},
          "execution_count": 10
        },
        {
          "output_type": "display_data",
          "data": {
            "image/png": "[encoded data removed]",
            "text/plain": [
              "<Figure size 432x288 with 1 Axes>"
            ]
          },
          "metadata": {
            "needs_background": "light"
          }
        }
      ]
    },
    {
      "cell_type": "markdown",
      "metadata": {
        "id": "bq6tI01yc13w"
      },
      "source": [
        "## 트레이닝 테스트 데이터 나누기"
      ]
    },
    {
      "cell_type": "code",
      "metadata": {
        "colab": {
          "base_uri": "https://localhost:8080/"
        },
        "id": "uObrErm4lZok",
        "outputId": "2aaa7506-0cf7-4c6f-e1f4-c9b6e02d6376"
      },
      "source": [
        "import numpy as np\n",
        "x = np.asarray(x).astype(np.float32)\n",
        "y = np.asarray(y).astype(np.float32)\n",
        "x.dtype, y.dtype"
      ],
      "execution_count": null,
      "outputs": [
        {
          "output_type": "execute_result",
          "data": {
            "text/plain": [
              "(dtype('float32'), dtype('float32'))"
            ]
          },
          "metadata": {},
          "execution_count": 11
        }
      ]
    },
    {
      "cell_type": "code",
      "metadata": {
        "id": "Opz6-4HB2zkP"
      },
      "source": [
        "from sklearn.model_selection import train_test_split\n",
        "import numpy as np\n",
        "x_train , x_test , y_train , y_test = train_test_split(x, y,test_size=0.2,random_state=42)"
      ],
      "execution_count": null,
      "outputs": []
    },
    {
      "cell_type": "markdown",
      "metadata": {
        "id": "xCRY180N36mo"
      },
      "source": [
        "# 문제_ 모델 제작"
      ]
    },
    {
      "cell_type": "code",
      "metadata": {
        "id": "xfZGG9853-vj"
      },
      "source": [
        "import tensorflow as tf\n",
        "model=tf.keras.Sequential([\n",
        "                           tf.keras.layers.Dense(units=400, activation=\"relu\", input_shape=(6,)),\n",
        "                           tf.keras.layers. Dense(units=5, activation=\"relu\"),\n",
        "                           tf.keras.layers. Dense(units=1, activation=\"sigmoid\") \n",
        "]) # 마지만 Dense의 act가 y값이 0, 1 이므로 시그모이드, 원핫이라면 softmax"
      ],
      "execution_count": null,
      "outputs": []
    },
    {
      "cell_type": "code",
      "metadata": {
        "id": "fkPL46lq4QM1"
      },
      "source": [
        "model.compile(optimizer=tf.keras.optimizers.Adam(),\n",
        "              loss='mse', metrics=['acc']) # loss?? 이항일때 binary 어쩌구 (mae나 mse 같은거)\n",
        "              #binary_crossentropy"
      ],
      "execution_count": null,
      "outputs": []
    },
    {
      "cell_type": "code",
      "metadata": {
        "colab": {
          "base_uri": "https://localhost:8080/"
        },
        "id": "mGXXp9Y75NDJ",
        "outputId": "b63257d1-52eb-4820-e603-a7b4f352c69b"
      },
      "source": [
        "model.summary()\n",
        "\n",
        "#문제 Param의 출력된 갯수를 계산하여 보세요"
      ],
      "execution_count": null,
      "outputs": [
        {
          "output_type": "stream",
          "name": "stdout",
          "text": [
            "Model: \"sequential_3\"\n",
            "_________________________________________________________________\n",
            "Layer (type)                 Output Shape              Param #   \n",
            "=================================================================\n",
            "dense_9 (Dense)              (None, 400)               2800      \n",
            "_________________________________________________________________\n",
            "dense_10 (Dense)             (None, 5)                 2005      \n",
            "_________________________________________________________________\n",
            "dense_11 (Dense)             (None, 1)                 6         \n",
            "=================================================================\n",
            "Total params: 4,811\n",
            "Trainable params: 4,811\n",
            "Non-trainable params: 0\n",
            "_________________________________________________________________\n"
          ]
        }
      ]
    },
    {
      "cell_type": "code",
      "metadata": {
        "colab": {
          "base_uri": "https://localhost:8080/"
        },
        "id": "3dLLUgY55u8q",
        "outputId": "c3587026-a1d9-4658-f3d2-b1f0b0cc7452"
      },
      "source": [
        "#다른 신경망 네트워크들과 비슷하게 훈련은 fit메소드를 통해 실행하며, \n",
        "# EarlyStopping이라는 callback 함수를 사용하여 val_loss가 3번 이상 연속으로 증가한다면 멈추고 \n",
        "# 최저의 loss를 사용하도록 선언함\n",
        "\n",
        "history = model.fit(x_train, y_train, epochs=25, validation_split=0.25, \n",
        "                    callbacks=[tf.keras.callbacks.EarlyStopping(patience=3, monitor='val_loss')])\n",
        "# 지정한 에러율보다 안나오면 멈춘다\n"
      ],
      "execution_count": null,
      "outputs": [
        {
          "output_type": "stream",
          "name": "stdout",
          "text": [
            "Epoch 1/25\n",
            "20/20 [==============================] - 1s 10ms/step - loss: 0.2618 - acc: 0.5614 - val_loss: 0.2380 - val_acc: 0.5885\n",
            "Epoch 2/25\n",
            "20/20 [==============================] - 0s 4ms/step - loss: 0.2211 - acc: 0.5981 - val_loss: 0.2374 - val_acc: 0.5885\n",
            "Epoch 3/25\n",
            "20/20 [==============================] - 0s 3ms/step - loss: 0.2176 - acc: 0.5981 - val_loss: 0.2361 - val_acc: 0.5885\n",
            "Epoch 4/25\n",
            "20/20 [==============================] - 0s 3ms/step - loss: 0.2162 - acc: 0.5981 - val_loss: 0.2358 - val_acc: 0.5885\n",
            "Epoch 5/25\n",
            "20/20 [==============================] - 0s 4ms/step - loss: 0.2155 - acc: 0.6715 - val_loss: 0.2358 - val_acc: 0.6507\n",
            "Epoch 6/25\n",
            "20/20 [==============================] - 0s 3ms/step - loss: 0.2151 - acc: 0.6874 - val_loss: 0.2357 - val_acc: 0.6555\n",
            "Epoch 7/25\n",
            "20/20 [==============================] - 0s 4ms/step - loss: 0.2141 - acc: 0.6906 - val_loss: 0.2347 - val_acc: 0.6651\n",
            "Epoch 8/25\n",
            "20/20 [==============================] - 0s 4ms/step - loss: 0.2152 - acc: 0.6810 - val_loss: 0.2350 - val_acc: 0.6555\n",
            "Epoch 9/25\n",
            "20/20 [==============================] - 0s 3ms/step - loss: 0.2131 - acc: 0.6922 - val_loss: 0.2339 - val_acc: 0.6555\n",
            "Epoch 10/25\n",
            "20/20 [==============================] - 0s 4ms/step - loss: 0.2123 - acc: 0.6794 - val_loss: 0.2325 - val_acc: 0.6651\n",
            "Epoch 11/25\n",
            "20/20 [==============================] - 0s 3ms/step - loss: 0.2120 - acc: 0.6906 - val_loss: 0.2311 - val_acc: 0.6651\n",
            "Epoch 12/25\n",
            "20/20 [==============================] - 0s 4ms/step - loss: 0.2114 - acc: 0.6890 - val_loss: 0.2311 - val_acc: 0.6699\n",
            "Epoch 13/25\n",
            "20/20 [==============================] - 0s 4ms/step - loss: 0.2093 - acc: 0.6890 - val_loss: 0.2284 - val_acc: 0.6507\n",
            "Epoch 14/25\n",
            "20/20 [==============================] - 0s 3ms/step - loss: 0.2088 - acc: 0.6858 - val_loss: 0.2277 - val_acc: 0.6699\n",
            "Epoch 15/25\n",
            "20/20 [==============================] - 0s 3ms/step - loss: 0.2080 - acc: 0.6922 - val_loss: 0.2251 - val_acc: 0.6555\n",
            "Epoch 16/25\n",
            "20/20 [==============================] - 0s 4ms/step - loss: 0.2060 - acc: 0.7002 - val_loss: 0.2236 - val_acc: 0.6746\n",
            "Epoch 17/25\n",
            "20/20 [==============================] - 0s 4ms/step - loss: 0.2052 - acc: 0.6970 - val_loss: 0.2210 - val_acc: 0.6603\n",
            "Epoch 18/25\n",
            "20/20 [==============================] - 0s 3ms/step - loss: 0.2038 - acc: 0.7033 - val_loss: 0.2148 - val_acc: 0.6938\n",
            "Epoch 19/25\n",
            "20/20 [==============================] - 0s 4ms/step - loss: 0.1994 - acc: 0.7002 - val_loss: 0.2120 - val_acc: 0.6890\n",
            "Epoch 20/25\n",
            "20/20 [==============================] - 0s 4ms/step - loss: 0.1969 - acc: 0.7225 - val_loss: 0.2082 - val_acc: 0.6986\n",
            "Epoch 21/25\n",
            "20/20 [==============================] - 0s 4ms/step - loss: 0.1966 - acc: 0.7145 - val_loss: 0.2101 - val_acc: 0.6794\n",
            "Epoch 22/25\n",
            "20/20 [==============================] - 0s 4ms/step - loss: 0.1973 - acc: 0.7065 - val_loss: 0.2029 - val_acc: 0.7081\n",
            "Epoch 23/25\n",
            "20/20 [==============================] - 0s 4ms/step - loss: 0.1892 - acc: 0.7528 - val_loss: 0.2010 - val_acc: 0.6077\n",
            "Epoch 24/25\n",
            "20/20 [==============================] - 0s 4ms/step - loss: 0.1880 - acc: 0.7464 - val_loss: 0.1905 - val_acc: 0.7416\n",
            "Epoch 25/25\n",
            "20/20 [==============================] - 0s 4ms/step - loss: 0.1849 - acc: 0.7480 - val_loss: 0.1885 - val_acc: 0.7321\n"
          ]
        }
      ]
    },
    {
      "cell_type": "code",
      "metadata": {
        "id": "0L2KBeVYxt8i",
        "colab": {
          "base_uri": "https://localhost:8080/",
          "height": 501
        },
        "outputId": "74f66787-5ac3-4667-8368-759ca32a8ad0"
      },
      "source": [
        "plt.figure(figsize=(12,4))\n",
        "\n",
        "plt.figure(figsize=(12,8))\n",
        "plt.plot(history.history['loss'])\n",
        "plt.plot(history.history['val_loss'])\n",
        "plt.plot(history.history['acc'])\n",
        "plt.plot(history.history['val_acc'])\n",
        "plt.legend(['loss','val_loss', 'accuracy','val_acc'])\n",
        "plt.show()\n"
      ],
      "execution_count": null,
      "outputs": [
        {
          "output_type": "display_data",
          "data": {
            "text/plain": [
              "<Figure size 864x288 with 0 Axes>"
            ]
          },
          "metadata": {}
        },
        {
          "output_type": "display_data",
          "data": {
            "image/png": "[encoded data removed]",
            "text/plain": [
              "<Figure size 864x576 with 1 Axes>"
            ]
          },
          "metadata": {
            "needs_background": "light"
          }
        }
      ]
    },
    {
      "cell_type": "code",
      "metadata": {
        "id": "WmC83xO85_NN",
        "colab": {
          "base_uri": "https://localhost:8080/"
        },
        "outputId": "a47ab950-0bb7-4919-e956-595455aad14f"
      },
      "source": [
        "# # 모델 측정\n",
        "# 손실값, 정확도\n",
        "model.evaluate(x_test,y_test)"
      ],
      "execution_count": null,
      "outputs": [
        {
          "output_type": "stream",
          "name": "stdout",
          "text": [
            "7/7 [==============================] - 0s 2ms/step - loss: 0.1990 - acc: 0.7368\n"
          ]
        },
        {
          "output_type": "execute_result",
          "data": {
            "text/plain": [
              "[0.1990145593881607, 0.7368420958518982]"
            ]
          },
          "metadata": {},
          "execution_count": 76
        }
      ]
    },
    {
      "cell_type": "code",
      "metadata": {
        "id": "773mO6KTnAtb",
        "colab": {
          "base_uri": "https://localhost:8080/"
        },
        "outputId": "9a9b7d3f-de6e-49fe-c249-3593febcdd23"
      },
      "source": [
        "np.shape(x_test[0]), np.shape(x_test[0:1]) # 2중 배열로 넣어야한다 x값 넣을떄"
      ],
      "execution_count": null,
      "outputs": [
        {
          "output_type": "execute_result",
          "data": {
            "text/plain": [
              "((6,), (1, 6))"
            ]
          },
          "metadata": {},
          "execution_count": 77
        }
      ]
    },
    {
      "cell_type": "code",
      "metadata": {
        "id": "GxgS_iu46IPV",
        "colab": {
          "base_uri": "https://localhost:8080/"
        },
        "outputId": "88836cc8-0e4e-4406-f9d3-80098b4cf478"
      },
      "source": [
        "# 모델 예측, 아래의 x0~x8의 데이터를 newX값으로 받아서 예측하여 봅니다.\n",
        "x0_pclass=1\n",
        "x3_sex=1\n",
        "x4_age=20\n",
        "x5_sibsp=3\n",
        "x6_parch=2\n",
        "x8_fate=2\n",
        "newx = [[x0_pclass, x3_sex, x4_age, x5_sibsp, x6_parch, x8_fate]]\n",
        "\n",
        "model.predict(newx)"
      ],
      "execution_count": null,
      "outputs": [
        {
          "output_type": "execute_result",
          "data": {
            "text/plain": [
              "array([[0.11931372]], dtype=float32)"
            ]
          },
          "metadata": {},
          "execution_count": 49
        }
      ]
    },
    {
      "cell_type": "code",
      "metadata": {
        "id": "ten2gvVtnxx1"
      },
      "source": [
        "y_pre = []\n",
        "for pre in model.predict(x_test):\n",
        "  if pre >=0.5:\n",
        "    y_pre.append(1)\n",
        "  else:\n",
        "    y_pre.append(0)"
      ],
      "execution_count": null,
      "outputs": []
    },
    {
      "cell_type": "code",
      "metadata": {
        "id": "224FMlyEnHr_"
      },
      "source": [
        "\n",
        "# 타이타닉 h5모델로 저장"
      ],
      "execution_count": null,
      "outputs": []
    },
    {
      "cell_type": "code",
      "metadata": {
        "id": "R2V4asbinG6u"
      },
      "source": [
        "model.save('/content/gdrive/MyDrive/data/my_ti.h5')"
      ],
      "execution_count": null,
      "outputs": []
    },
    {
      "cell_type": "code",
      "metadata": {
        "id": "efhWum5Ot3Ap"
      },
      "source": [
        "load_model = tf.keras.models.load_model('/content/gdrive/MyDrive/data/my_ti.h5')"
      ],
      "execution_count": null,
      "outputs": []
    },
    {
      "cell_type": "code",
      "metadata": {
        "colab": {
          "base_uri": "https://localhost:8080/"
        },
        "id": "FevXz10dt_Q9",
        "outputId": "89b2cbb3-c863-45a2-b640-aead92fff41c"
      },
      "source": [
        "load_model.predict(newx)"
      ],
      "execution_count": null,
      "outputs": [
        {
          "output_type": "execute_result",
          "data": {
            "text/plain": [
              "array([[0.39697707]], dtype=float32)"
            ]
          },
          "metadata": {},
          "execution_count": 25
        }
      ]
    },
    {
      "cell_type": "code",
      "metadata": {
        "colab": {
          "base_uri": "https://localhost:8080/"
        },
        "id": "Y_Luxo95w36o",
        "outputId": "66506d35-ee24-4bcc-bf77-535026491112"
      },
      "source": [
        "y_pre[:10], y_test[:10]"
      ],
      "execution_count": null,
      "outputs": [
        {
          "output_type": "execute_result",
          "data": {
            "text/plain": [
              "([1, 0, 0, 0, 1, 0, 0, 1, 0, 1],\n",
              " array([1., 1., 0., 0., 1., 0., 0., 1., 0., 1.], dtype=float32))"
            ]
          },
          "metadata": {},
          "execution_count": 53
        }
      ]
    }
  ]
}