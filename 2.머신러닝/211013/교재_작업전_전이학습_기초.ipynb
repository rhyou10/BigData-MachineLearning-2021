{
  "nbformat": 4,
  "nbformat_minor": 0,
  "metadata": {
    "colab": {
      "name": "교재 작업전  전이학습 기초.ipynb",
      "provenance": [],
      "collapsed_sections": []
    },
    "kernelspec": {
      "name": "python3",
      "display_name": "Python 3"
    },
    "language_info": {
      "name": "python"
    }
  },
  "cells": [
    {
      "cell_type": "code",
      "metadata": {
        "colab": {
          "base_uri": "https://localhost:8080/"
        },
        "id": "TTRJjYKtHQwX",
        "outputId": "f1512086-a7c8-4ab0-c134-cd9491a3e83e"
      },
      "source": [
        "from google.colab import drive\n",
        "drive.mount('/content/drive')"
      ],
      "execution_count": 1,
      "outputs": [
        {
          "output_type": "stream",
          "name": "stdout",
          "text": [
            "Mounted at /content/drive\n"
          ]
        }
      ]
    },
    {
      "cell_type": "code",
      "metadata": {
        "colab": {
          "base_uri": "https://localhost:8080/"
        },
        "id": "Ua9gx4zBf0Rk",
        "outputId": "4ef3d0af-177b-4773-8d60-e1bb87219e2b"
      },
      "source": [
        "from tensorflow.keras.preprocessing.image import load_img\n",
        "from tensorflow.keras.preprocessing.image import img_to_array\n",
        "from tensorflow.keras.applications.vgg16 import preprocess_input\n",
        "from tensorflow.keras.applications.vgg16 import decode_predictions\n",
        "from tensorflow.keras.applications.vgg16 import VGG16\n",
        "\n",
        "# 사전 학습된 모델 불러오기\n",
        "#input_tensor = Input(shape=(150,150,3))\n",
        "\n",
        "\n",
        "# include_top : 신경망 FC 층 존재 유무 ( False : 제거 / True : 유지 )\n",
        "# weights : 가중치 모델 지정 ( None : 초기화된 가중치, 'imagenet' : 사전 학습된 가중치 )\n",
        "# input_tensor : 입력 텐서 크기 ( Input(shape = (w, h, ch))\n",
        "\n",
        "#model = VGG16(weights='imagenet', include_top=False, input_tensor = input_tensor)  \n",
        "\n",
        "model = VGG16()\n",
        "\n"
      ],
      "execution_count": 3,
      "outputs": [
        {
          "output_type": "stream",
          "name": "stdout",
          "text": [
            "Downloading data from https://storage.googleapis.com/tensorflow/keras-applications/vgg16/vgg16_weights_tf_dim_ordering_tf_kernels.h5\n",
            "553467904/553467096 [==============================] - 3s 0us/step\n",
            "553476096/553467096 [==============================] - 3s 0us/step\n"
          ]
        }
      ]
    },
    {
      "cell_type": "code",
      "metadata": {
        "id": "rh4gU1pihXOV"
      },
      "source": [
        "#fileName=input image \n",
        "import numpy as np\n",
        "fileName = '/content/drive/MyDrive/data/딥러닝/자동차.jpg'\n",
        "image = load_img(fileName, target_size=(224, 224))\n",
        "\n",
        "image = img_to_array(image)\n",
        "image = image.reshape(1, image.shape[0], image.shape[1], image.shape[2])\n"
      ],
      "execution_count": 68,
      "outputs": []
    },
    {
      "cell_type": "code",
      "metadata": {
        "id": "NoCbCjuKhNN6",
        "colab": {
          "base_uri": "https://localhost:8080/"
        },
        "outputId": "8817dec2-b8be-4e61-b723-f4fa5a43a825"
      },
      "source": [
        "image = preprocess_input(image) # vgb 16제공 전처리(스케일링, 흑백)\n",
        "yhat = model.predict(image)  #yhat  # y_hat 카테고리가 1000개임\n",
        "print(np.shape(yhat))\n",
        "print(len(yhat[0]))"
      ],
      "execution_count": 78,
      "outputs": [
        {
          "output_type": "stream",
          "name": "stdout",
          "text": [
            "(1, 1000)\n",
            "1000\n"
          ]
        }
      ]
    },
    {
      "cell_type": "code",
      "metadata": {
        "colab": {
          "base_uri": "https://localhost:8080/",
          "height": 302
        },
        "id": "zS0GO9_XLAge",
        "outputId": "8cfa9d99-15ca-4fd9-96b8-8fc32e4942ea"
      },
      "source": [
        "import matplotlib.pyplot as plt\n",
        "\n",
        "plt.imshow(image.reshape(224,224,3))"
      ],
      "execution_count": 80,
      "outputs": [
        {
          "output_type": "stream",
          "name": "stderr",
          "text": [
            "Clipping input data to the valid range for imshow with RGB data ([0..1] for floats or [0..255] for integers).\n"
          ]
        },
        {
          "output_type": "execute_result",
          "data": {
            "text/plain": [
              "<matplotlib.image.AxesImage at 0x7f53e43b0c10>"
            ]
          },
          "metadata": {},
          "execution_count": 80
        },
        {
          "output_type": "display_data",
          "data": {
            "image/png": "[encoded data removed]",
            "text/plain": [
              "<Figure size 432x288 with 1 Axes>"
            ]
          },
          "metadata": {
            "needs_background": "light"
          }
        }
      ]
    },
    {
      "cell_type": "code",
      "metadata": {
        "id": "NgcPhChwgWCf",
        "colab": {
          "base_uri": "https://localhost:8080/"
        },
        "outputId": "b9eb8a4c-8e67-40df-fb8c-c556cdac842c"
      },
      "source": [
        "label = decode_predictions(yhat) # 클래스 네임로 변경 한거\n",
        "label"
      ],
      "execution_count": 79,
      "outputs": [
        {
          "output_type": "execute_result",
          "data": {
            "text/plain": [
              "[[('n04285008', 'sports_car', 0.9443222),\n",
              "  ('n03459775', 'grille', 0.04775505),\n",
              "  ('n03100240', 'convertible', 0.0033284568),\n",
              "  ('n02814533', 'beach_wagon', 0.003278723),\n",
              "  ('n04037443', 'racer', 0.00091132504)]]"
            ]
          },
          "metadata": {},
          "execution_count": 79
        }
      ]
    },
    {
      "cell_type": "code",
      "metadata": {
        "colab": {
          "base_uri": "https://localhost:8080/"
        },
        "id": "d3JkMl9xJnzG",
        "outputId": "c7bb0a6a-3840-4c1b-aa7a-ec5dfed2e908"
      },
      "source": [
        "label = label[0][0]\n",
        "print('%s (%.2f%%)'%(label[1], label[2]*100))"
      ],
      "execution_count": 66,
      "outputs": [
        {
          "output_type": "stream",
          "name": "stdout",
          "text": [
            "sports_car (47.10%)\n"
          ]
        }
      ]
    }
  ]
}