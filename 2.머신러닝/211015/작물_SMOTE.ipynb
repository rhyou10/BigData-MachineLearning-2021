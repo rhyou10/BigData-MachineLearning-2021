{
  "nbformat": 4,
  "nbformat_minor": 0,
  "metadata": {
    "colab": {
      "name": "작물_SMOTE.ipynb",
      "provenance": [],
      "collapsed_sections": []
    },
    "kernelspec": {
      "name": "python3",
      "display_name": "Python 3"
    },
    "language_info": {
      "name": "python"
    },
    "accelerator": "GPU"
  },
  "cells": [
    {
      "cell_type": "code",
      "metadata": {
        "colab": {
          "base_uri": "https://localhost:8080/"
        },
        "id": "uXvt_hSbYvZI",
        "outputId": "b654f84d-e202-4aa8-f84b-83d5da033ff7"
      },
      "source": [
        "from google.colab import drive\n",
        "drive.mount('/content/drive')"
      ],
      "execution_count": 1,
      "outputs": [
        {
          "output_type": "stream",
          "name": "stdout",
          "text": [
            "Mounted at /content/drive\n"
          ]
        }
      ]
    },
    {
      "cell_type": "code",
      "metadata": {
        "id": "ojdl1osAYxTt"
      },
      "source": [
        "!unzip -uq '/content/drive/MyDrive/data/딥러닝/235842_작물 병해 분류 AI 경진대회_data.zip' -d './'"
      ],
      "execution_count": 2,
      "outputs": []
    },
    {
      "cell_type": "code",
      "metadata": {
        "id": "gxs6yPmMYyuU"
      },
      "source": [
        "import numpy as np\n",
        "import pandas as pd\n",
        "from PIL import Image \n",
        "from tensorflow.keras.preprocessing.image import img_to_array\n",
        "import matplotlib.pyplot as plt\n",
        "\n",
        "\n",
        "df = pd.read_csv('train.csv')"
      ],
      "execution_count": 3,
      "outputs": []
    },
    {
      "cell_type": "code",
      "metadata": {
        "colab": {
          "base_uri": "https://localhost:8080/",
          "height": 202
        },
        "id": "PvHxeBodY0Tt",
        "outputId": "786a9b2c-c537-4462-b470-841068e7eb00"
      },
      "source": [
        "df.head()"
      ],
      "execution_count": 4,
      "outputs": [
        {
          "output_type": "execute_result",
          "data": {
            "text/html": [
              "<div>\n",
              "<style scoped>\n",
              "    .dataframe tbody tr th:only-of-type {\n",
              "        vertical-align: middle;\n",
              "    }\n",
              "\n",
              "    .dataframe tbody tr th {\n",
              "        vertical-align: top;\n",
              "    }\n",
              "\n",
              "    .dataframe thead th {\n",
              "        text-align: right;\n",
              "    }\n",
              "</style>\n",
              "<table border=\"1\" class=\"dataframe\">\n",
              "  <thead>\n",
              "    <tr style=\"text-align: right;\">\n",
              "      <th></th>\n",
              "      <th>uid</th>\n",
              "      <th>img_path</th>\n",
              "      <th>disease</th>\n",
              "      <th>disease_code</th>\n",
              "    </tr>\n",
              "  </thead>\n",
              "  <tbody>\n",
              "    <tr>\n",
              "      <th>0</th>\n",
              "      <td>10000</td>\n",
              "      <td>train_imgs/10000.jpg</td>\n",
              "      <td>시설포도노균병</td>\n",
              "      <td>1</td>\n",
              "    </tr>\n",
              "    <tr>\n",
              "      <th>1</th>\n",
              "      <td>10001</td>\n",
              "      <td>train_imgs/10001.jpg</td>\n",
              "      <td>시설포도노균병</td>\n",
              "      <td>1</td>\n",
              "    </tr>\n",
              "    <tr>\n",
              "      <th>2</th>\n",
              "      <td>10002</td>\n",
              "      <td>train_imgs/10002.jpg</td>\n",
              "      <td>시설포도노균병반응</td>\n",
              "      <td>2</td>\n",
              "    </tr>\n",
              "    <tr>\n",
              "      <th>3</th>\n",
              "      <td>10003</td>\n",
              "      <td>train_imgs/10003.jpg</td>\n",
              "      <td>축과병</td>\n",
              "      <td>4</td>\n",
              "    </tr>\n",
              "    <tr>\n",
              "      <th>4</th>\n",
              "      <td>10004</td>\n",
              "      <td>train_imgs/10004.jpg</td>\n",
              "      <td>시설포도노균병</td>\n",
              "      <td>1</td>\n",
              "    </tr>\n",
              "  </tbody>\n",
              "</table>\n",
              "</div>"
            ],
            "text/plain": [
              "     uid              img_path    disease  disease_code\n",
              "0  10000  train_imgs/10000.jpg    시설포도노균병             1\n",
              "1  10001  train_imgs/10001.jpg    시설포도노균병             1\n",
              "2  10002  train_imgs/10002.jpg  시설포도노균병반응             2\n",
              "3  10003  train_imgs/10003.jpg        축과병             4\n",
              "4  10004  train_imgs/10004.jpg    시설포도노균병             1"
            ]
          },
          "metadata": {},
          "execution_count": 4
        }
      ]
    },
    {
      "cell_type": "code",
      "metadata": {
        "id": "kH3K_UZ8Zhe0"
      },
      "source": [
        "# 데이터 자체의 불균형 여부\n",
        "# train test 나눈 뒤에도 불균형여부 \n",
        "# SMOTE를 활용 불균형 해소 여부\n",
        "# 각각의 train test 를 통하여 모델 제작"
      ],
      "execution_count": null,
      "outputs": []
    },
    {
      "cell_type": "markdown",
      "metadata": {
        "id": "2wzIjCEibzft"
      },
      "source": [
        "## 데이터셋 자체 불균형 여부"
      ]
    },
    {
      "cell_type": "code",
      "metadata": {
        "colab": {
          "base_uri": "https://localhost:8080/"
        },
        "id": "7ZzmGiWgb1r8",
        "outputId": "d1b5db86-696f-4d03-8d1d-c8ef72a1e796"
      },
      "source": [
        "df.disease_code.value_counts() \n",
        "\n",
        "# 0 - 6 까지 질병종류가 줄어들고 있다"
      ],
      "execution_count": 5,
      "outputs": [
        {
          "output_type": "execute_result",
          "data": {
            "text/plain": [
              "0    106\n",
              "1     46\n",
              "2     30\n",
              "3     29\n",
              "4     17\n",
              "5     12\n",
              "6     10\n",
              "Name: disease_code, dtype: int64"
            ]
          },
          "metadata": {},
          "execution_count": 5
        }
      ]
    },
    {
      "cell_type": "markdown",
      "metadata": {
        "id": "4Nca0h4RcS78"
      },
      "source": [
        "## xy 로 나눔\n"
      ]
    },
    {
      "cell_type": "code",
      "metadata": {
        "id": "RYwV_ME6cR27"
      },
      "source": [
        "x= []\n",
        "y =[]\n",
        "for i, j in zip(df.img_path, df.disease_code):\n",
        "  image = Image.open(i)\n",
        "  image = image.resize((255,255)) #괄호 두개 있지말자\n",
        "  image = img_to_array(image) / 255\n",
        "  x.append(image)\n",
        "  y.append(j)"
      ],
      "execution_count": 149,
      "outputs": []
    },
    {
      "cell_type": "code",
      "metadata": {
        "colab": {
          "base_uri": "https://localhost:8080/"
        },
        "id": "-TCkpb9hf-Wd",
        "outputId": "c3d1c846-5948-48e9-93c8-ba89b8cbe613"
      },
      "source": [
        "np.shape(x)"
      ],
      "execution_count": 148,
      "outputs": [
        {
          "output_type": "execute_result",
          "data": {
            "text/plain": [
              "(250, 255, 255, 3)"
            ]
          },
          "metadata": {},
          "execution_count": 148
        }
      ]
    },
    {
      "cell_type": "markdown",
      "metadata": {
        "id": "7IayvM0dcA4E"
      },
      "source": [
        "## 불균형 분할"
      ]
    },
    {
      "cell_type": "code",
      "metadata": {
        "id": "BQhUc3YlcDZD"
      },
      "source": [
        "from sklearn.model_selection import train_test_split\n",
        "\n",
        "x_train, x_test, y_train, y_test = train_test_split(x, y, \n",
        "                                                  test_size = 0.3)"
      ],
      "execution_count": 150,
      "outputs": []
    },
    {
      "cell_type": "code",
      "metadata": {
        "colab": {
          "base_uri": "https://localhost:8080/"
        },
        "id": "mhEFBDNccgWF",
        "outputId": "a2e6d693-ed2b-4905-cfb9-2a2026ba3d47"
      },
      "source": [
        "np.unique(y_train, return_counts=True)"
      ],
      "execution_count": 151,
      "outputs": [
        {
          "output_type": "execute_result",
          "data": {
            "text/plain": [
              "(array([0, 1, 2, 3, 4, 5, 6]), array([78, 30, 16, 22, 15,  8,  6]))"
            ]
          },
          "metadata": {},
          "execution_count": 151
        }
      ]
    },
    {
      "cell_type": "code",
      "metadata": {
        "colab": {
          "base_uri": "https://localhost:8080/"
        },
        "id": "Cq0IN4Vccx78",
        "outputId": "8545d9a2-0cf4-49b8-80c0-f14829bd0622"
      },
      "source": [
        "np.unique(y_test, return_counts=True)"
      ],
      "execution_count": 152,
      "outputs": [
        {
          "output_type": "execute_result",
          "data": {
            "text/plain": [
              "(array([0, 1, 2, 3, 4, 5, 6]), array([28, 16, 14,  7,  2,  4,  4]))"
            ]
          },
          "metadata": {},
          "execution_count": 152
        }
      ]
    },
    {
      "cell_type": "code",
      "metadata": {
        "colab": {
          "base_uri": "https://localhost:8080/"
        },
        "id": "XunCiVoPizFc",
        "outputId": "4420f4d9-f3d0-417a-be4d-6f072ee593d7"
      },
      "source": [
        "np.shape(x_train), np.shape(y_train), np.shape(x_test), np.shape(y_test)"
      ],
      "execution_count": 153,
      "outputs": [
        {
          "output_type": "execute_result",
          "data": {
            "text/plain": [
              "((175, 255, 255, 3), (175,), (75, 255, 255, 3), (75,))"
            ]
          },
          "metadata": {},
          "execution_count": 153
        }
      ]
    },
    {
      "cell_type": "code",
      "metadata": {
        "colab": {
          "base_uri": "https://localhost:8080/"
        },
        "id": "Sw8tjqrYk_js",
        "outputId": "2b966320-8368-4c34-b7a9-4e2a202a8cd2"
      },
      "source": [
        "np.shape(np.array(x_test))"
      ],
      "execution_count": 154,
      "outputs": [
        {
          "output_type": "execute_result",
          "data": {
            "text/plain": [
              "(75, 255, 255, 3)"
            ]
          },
          "metadata": {},
          "execution_count": 154
        }
      ]
    },
    {
      "cell_type": "code",
      "metadata": {
        "id": "-hlQdZQvl2_0"
      },
      "source": [
        "from tensorflow.keras.models import Sequential\n",
        "from tensorflow.keras.layers import Conv2D, MaxPool2D, Dense, Flatten\n",
        "from tensorflow.keras.optimizers import Adam\n",
        "\n",
        "model = Sequential()\n",
        "# (255, 255, 3)의 데이터를 입력으로 받습니다. \n",
        "model.add(Conv2D(filters = 32, kernel_size = 3, padding = 'same', activation = 'relu', input_shape = (255, 255, 3)))\n",
        "model.add(Conv2D(filters = 32, kernel_size = 3, padding = 'same', activation = 'relu'))\n",
        "model.add(MaxPool2D(pool_size = (2, 2), strides = 2, padding = 'same'))\n",
        "\n",
        "model.add(Conv2D(filters = 64, kernel_size = 3, padding = 'same', activation = 'relu'))\n",
        "model.add(Conv2D(filters = 64, kernel_size = 3, padding = 'same', activation = 'relu'))\n",
        "model.add(MaxPool2D(pool_size = (2, 2), strides = 2, padding = 'same'))\n",
        "\n",
        "model.add(Conv2D(filters = 128, kernel_size = 3, padding = 'same', activation = 'relu'))\n",
        "model.add(Conv2D(filters = 128, kernel_size = 3, padding = 'same', activation = 'relu'))\n",
        "model.add(MaxPool2D(pool_size = (2, 2), strides = 2, padding = 'same'))\n",
        "\n",
        "model.add(Flatten())\n",
        "model.add(Dense(256, activation = 'relu'))\n",
        "\n",
        "model.add(Dense(7, activation = 'softmax'))"
      ],
      "execution_count": 157,
      "outputs": []
    },
    {
      "cell_type": "code",
      "metadata": {
        "id": "FAqR8xDtiL8s"
      },
      "source": [
        "model.compile(optimizer = Adam(1e-4),\n",
        "             loss = 'sparse_categorical_crossentropy', # 원핫 안해도 마지막 dense 2개로 할수 있다 \n",
        "             metrics = ['acc'])"
      ],
      "execution_count": 158,
      "outputs": []
    },
    {
      "cell_type": "code",
      "metadata": {
        "colab": {
          "base_uri": "https://localhost:8080/"
        },
        "id": "7iUE1P91mm0t",
        "outputId": "cdcb72a5-66c9-432a-c6af-8c9b7f4c51f7"
      },
      "source": [
        "history = model.fit(np.array(x_train), np.array(y_train),\n",
        "                    epochs = 5,\n",
        "                    batch_size = 32,\n",
        "                    validation_data = (np.array(x_test), np.array(y_test)))"
      ],
      "execution_count": 159,
      "outputs": [
        {
          "output_type": "stream",
          "name": "stdout",
          "text": [
            "Epoch 1/5\n",
            "6/6 [==============================] - 13s 1s/step - loss: 1.7635 - acc: 0.4286 - val_loss: 1.7439 - val_acc: 0.3733\n",
            "Epoch 2/5\n",
            "6/6 [==============================] - 2s 358ms/step - loss: 1.6256 - acc: 0.4571 - val_loss: 1.6891 - val_acc: 0.3733\n",
            "Epoch 3/5\n",
            "6/6 [==============================] - 2s 355ms/step - loss: 1.4937 - acc: 0.4457 - val_loss: 1.5638 - val_acc: 0.3733\n",
            "Epoch 4/5\n",
            "6/6 [==============================] - 2s 355ms/step - loss: 1.3814 - acc: 0.4571 - val_loss: 1.4353 - val_acc: 0.4000\n",
            "Epoch 5/5\n",
            "6/6 [==============================] - 2s 353ms/step - loss: 1.2183 - acc: 0.5029 - val_loss: 1.3306 - val_acc: 0.4800\n"
          ]
        }
      ]
    },
    {
      "cell_type": "markdown",
      "metadata": {
        "id": "gO9wBsk3e-EM"
      },
      "source": [
        "## 균형 분할"
      ]
    },
    {
      "cell_type": "code",
      "metadata": {
        "id": "srTg9OWefTJj"
      },
      "source": [
        "from imblearn.over_sampling import BorderlineSMOTE"
      ],
      "execution_count": 160,
      "outputs": []
    },
    {
      "cell_type": "code",
      "metadata": {
        "id": "PJQMKyQDfZac"
      },
      "source": [
        "x_train = np.array(x_train)\n",
        "x_test = np.array(x_test)"
      ],
      "execution_count": 163,
      "outputs": []
    },
    {
      "cell_type": "code",
      "metadata": {
        "colab": {
          "base_uri": "https://localhost:8080/"
        },
        "id": "iPsf115de_3U",
        "outputId": "717b8f75-a255-4ed2-84a1-8200eb1e3845"
      },
      "source": [
        "x_train_smoote = x_train.reshape((x_train.shape[0], x_train.shape[1] * x_train.shape[2] * x_train.shape[3])).astype(np.float32)\n",
        "smote = BorderlineSMOTE()\n",
        "x_train_smoote, y_train_sommte = smote.fit_resample(x_train_smoote, y_train)\n",
        "\n",
        "x_train_smoote = x_train_smoote.reshape(-1,255,255,3) #다시 원상태로"
      ],
      "execution_count": 174,
      "outputs": [
        {
          "output_type": "stream",
          "name": "stderr",
          "text": [
            "/usr/local/lib/python3.7/dist-packages/sklearn/utils/deprecation.py:87: FutureWarning: Function safe_indexing is deprecated; safe_indexing is deprecated in version 0.22 and will be removed in version 0.24.\n",
            "  warnings.warn(msg, category=FutureWarning)\n",
            "/usr/local/lib/python3.7/dist-packages/sklearn/utils/deprecation.py:87: FutureWarning: Function safe_indexing is deprecated; safe_indexing is deprecated in version 0.22 and will be removed in version 0.24.\n",
            "  warnings.warn(msg, category=FutureWarning)\n",
            "/usr/local/lib/python3.7/dist-packages/sklearn/utils/deprecation.py:87: FutureWarning: Function safe_indexing is deprecated; safe_indexing is deprecated in version 0.22 and will be removed in version 0.24.\n",
            "  warnings.warn(msg, category=FutureWarning)\n",
            "/usr/local/lib/python3.7/dist-packages/sklearn/utils/deprecation.py:87: FutureWarning: Function safe_indexing is deprecated; safe_indexing is deprecated in version 0.22 and will be removed in version 0.24.\n",
            "  warnings.warn(msg, category=FutureWarning)\n",
            "/usr/local/lib/python3.7/dist-packages/sklearn/utils/deprecation.py:87: FutureWarning: Function safe_indexing is deprecated; safe_indexing is deprecated in version 0.22 and will be removed in version 0.24.\n",
            "  warnings.warn(msg, category=FutureWarning)\n",
            "/usr/local/lib/python3.7/dist-packages/sklearn/utils/deprecation.py:87: FutureWarning: Function safe_indexing is deprecated; safe_indexing is deprecated in version 0.22 and will be removed in version 0.24.\n",
            "  warnings.warn(msg, category=FutureWarning)\n",
            "/usr/local/lib/python3.7/dist-packages/sklearn/utils/deprecation.py:87: FutureWarning: Function safe_indexing is deprecated; safe_indexing is deprecated in version 0.22 and will be removed in version 0.24.\n",
            "  warnings.warn(msg, category=FutureWarning)\n",
            "/usr/local/lib/python3.7/dist-packages/sklearn/utils/deprecation.py:87: FutureWarning: Function safe_indexing is deprecated; safe_indexing is deprecated in version 0.22 and will be removed in version 0.24.\n",
            "  warnings.warn(msg, category=FutureWarning)\n",
            "/usr/local/lib/python3.7/dist-packages/sklearn/utils/deprecation.py:87: FutureWarning: Function safe_indexing is deprecated; safe_indexing is deprecated in version 0.22 and will be removed in version 0.24.\n",
            "  warnings.warn(msg, category=FutureWarning)\n",
            "/usr/local/lib/python3.7/dist-packages/sklearn/utils/deprecation.py:87: FutureWarning: Function safe_indexing is deprecated; safe_indexing is deprecated in version 0.22 and will be removed in version 0.24.\n",
            "  warnings.warn(msg, category=FutureWarning)\n",
            "/usr/local/lib/python3.7/dist-packages/sklearn/utils/deprecation.py:87: FutureWarning: Function safe_indexing is deprecated; safe_indexing is deprecated in version 0.22 and will be removed in version 0.24.\n",
            "  warnings.warn(msg, category=FutureWarning)\n",
            "/usr/local/lib/python3.7/dist-packages/sklearn/utils/deprecation.py:87: FutureWarning: Function safe_indexing is deprecated; safe_indexing is deprecated in version 0.22 and will be removed in version 0.24.\n",
            "  warnings.warn(msg, category=FutureWarning)\n",
            "/usr/local/lib/python3.7/dist-packages/sklearn/utils/deprecation.py:87: FutureWarning: Function safe_indexing is deprecated; safe_indexing is deprecated in version 0.22 and will be removed in version 0.24.\n",
            "  warnings.warn(msg, category=FutureWarning)\n"
          ]
        }
      ]
    },
    {
      "cell_type": "code",
      "metadata": {
        "colab": {
          "base_uri": "https://localhost:8080/"
        },
        "id": "NsGLGGXDr_ZM",
        "outputId": "13974e1c-cbac-4960-c139-dc50e8706b07"
      },
      "source": [
        "np.shape(x_train), np.shape(y_train)"
      ],
      "execution_count": 183,
      "outputs": [
        {
          "output_type": "execute_result",
          "data": {
            "text/plain": [
              "((175, 255, 255, 3), (175,))"
            ]
          },
          "metadata": {},
          "execution_count": 183
        }
      ]
    },
    {
      "cell_type": "code",
      "metadata": {
        "colab": {
          "base_uri": "https://localhost:8080/"
        },
        "id": "xQ6egx_DqlCL",
        "outputId": "88354748-a94a-4e0b-ba7d-a4da6fd9a11a"
      },
      "source": [
        "np.shape(x_train_smoote), np.shape(y_train_sommte) #두개의 길이차이가 난다"
      ],
      "execution_count": 182,
      "outputs": [
        {
          "output_type": "execute_result",
          "data": {
            "text/plain": [
              "((546, 255, 255, 3), (546,))"
            ]
          },
          "metadata": {},
          "execution_count": 182
        }
      ]
    },
    {
      "cell_type": "code",
      "metadata": {
        "id": "3Gewe4dfp7o0"
      },
      "source": [
        "from tensorflow.keras.models import Sequential\n",
        "from tensorflow.keras.layers import Conv2D, MaxPool2D, Dense, Flatten\n",
        "from tensorflow.keras.optimizers import Adam\n",
        "\n",
        "model = Sequential()\n",
        "# (255, 255, 3)의 데이터를 입력으로 받습니다. \n",
        "model.add(Conv2D(filters = 32, kernel_size = 3, padding = 'same', activation = 'relu', input_shape = (255, 255, 3)))\n",
        "model.add(Conv2D(filters = 32, kernel_size = 3, padding = 'same', activation = 'relu'))\n",
        "model.add(MaxPool2D(pool_size = (2, 2), strides = 2, padding = 'same'))\n",
        "\n",
        "model.add(Conv2D(filters = 64, kernel_size = 3, padding = 'same', activation = 'relu'))\n",
        "model.add(Conv2D(filters = 64, kernel_size = 3, padding = 'same', activation = 'relu'))\n",
        "model.add(MaxPool2D(pool_size = (2, 2), strides = 2, padding = 'same'))\n",
        "\n",
        "model.add(Conv2D(filters = 128, kernel_size = 3, padding = 'same', activation = 'relu'))\n",
        "model.add(Conv2D(filters = 128, kernel_size = 3, padding = 'same', activation = 'relu'))\n",
        "model.add(MaxPool2D(pool_size = (2, 2), strides = 2, padding = 'same'))\n",
        "\n",
        "model.add(Flatten())\n",
        "model.add(Dense(256, activation = 'relu'))\n",
        "\n",
        "model.add(Dense(7, activation = 'softmax'))\n",
        "model.compile(optimizer = Adam(1e-4),\n",
        "             loss = 'sparse_categorical_crossentropy', # 원핫 안해도 마지막 dense 2개로 할수 있다 \n",
        "             metrics = ['acc'])"
      ],
      "execution_count": 177,
      "outputs": []
    },
    {
      "cell_type": "code",
      "metadata": {
        "colab": {
          "base_uri": "https://localhost:8080/"
        },
        "id": "bIYlNAicp_KM",
        "outputId": "fb90170f-9943-40f7-e67b-d2423ddeff9e"
      },
      "source": [
        "history = model.fit(np.array(x_train_smoote), np.array(y_train_sommte),\n",
        "                    epochs = 5,\n",
        "                    batch_size = 32,\n",
        "                    validation_data = (np.array(x_test), np.array(y_test)))"
      ],
      "execution_count": 181,
      "outputs": [
        {
          "output_type": "stream",
          "name": "stdout",
          "text": [
            "Epoch 1/5\n",
            "18/18 [==============================] - 6s 336ms/step - loss: 0.0032 - acc: 1.0000 - val_loss: 0.8350 - val_acc: 0.7067\n",
            "Epoch 2/5\n",
            "18/18 [==============================] - 6s 330ms/step - loss: 0.0022 - acc: 1.0000 - val_loss: 0.9371 - val_acc: 0.6800\n",
            "Epoch 3/5\n",
            "18/18 [==============================] - 6s 332ms/step - loss: 0.0015 - acc: 1.0000 - val_loss: 0.9162 - val_acc: 0.6800\n",
            "Epoch 4/5\n",
            "18/18 [==============================] - 6s 331ms/step - loss: 0.0012 - acc: 1.0000 - val_loss: 0.9501 - val_acc: 0.6933\n",
            "Epoch 5/5\n",
            "18/18 [==============================] - 6s 332ms/step - loss: 0.0010 - acc: 1.0000 - val_loss: 1.0416 - val_acc: 0.6933\n"
          ]
        }
      ]
    },
    {
      "cell_type": "code",
      "metadata": {
        "id": "uVc45McBd3UE"
      },
      "source": [
        ""
      ],
      "execution_count": null,
      "outputs": []
    }
  ]
}