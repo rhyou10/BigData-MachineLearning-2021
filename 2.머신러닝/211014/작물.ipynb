{
  "nbformat": 4,
  "nbformat_minor": 0,
  "metadata": {
    "colab": {
      "name": "작물.ipynb",
      "provenance": [],
      "collapsed_sections": []
    },
    "kernelspec": {
      "name": "python3",
      "display_name": "Python 3"
    },
    "language_info": {
      "name": "python"
    },
    "accelerator": "GPU"
  },
  "cells": [
    {
      "cell_type": "code",
      "metadata": {
        "colab": {
          "base_uri": "https://localhost:8080/"
        },
        "id": "__4QCuRYKIZh",
        "outputId": "f8903e95-99aa-4e7b-bd00-259a30a52b1b"
      },
      "source": [
        "from google.colab import drive\n",
        "drive.mount('/content/drive')"
      ],
      "execution_count": 1,
      "outputs": [
        {
          "output_type": "stream",
          "name": "stdout",
          "text": [
            "Mounted at /content/drive\n"
          ]
        }
      ]
    },
    {
      "cell_type": "code",
      "metadata": {
        "id": "IqPMVa2sMHdA"
      },
      "source": [
        "!unzip -uq '/content/drive/MyDrive/data/딥러닝/235842_작물 병해 분류 AI 경진대회_data.zip' -d './'"
      ],
      "execution_count": 3,
      "outputs": []
    },
    {
      "cell_type": "code",
      "metadata": {
        "id": "cyS0HogPd8zJ"
      },
      "source": [
        "import numpy as np\n",
        "import pandas as pd\n",
        "from PIL import Image \n",
        "from tensorflow.keras.preprocessing.image import img_to_array\n",
        "import matplotlib.pyplot as plt\n",
        "\n",
        "\n",
        "df = pd.read_csv('train.csv')"
      ],
      "execution_count": 4,
      "outputs": []
    },
    {
      "cell_type": "code",
      "metadata": {
        "colab": {
          "base_uri": "https://localhost:8080/",
          "height": 202
        },
        "id": "ws6StGBQf4PT",
        "outputId": "187ce729-e974-47bf-a835-18ff6410b521"
      },
      "source": [
        "df.head()"
      ],
      "execution_count": 4,
      "outputs": [
        {
          "output_type": "execute_result",
          "data": {
            "text/html": [
              "<div>\n",
              "<style scoped>\n",
              "    .dataframe tbody tr th:only-of-type {\n",
              "        vertical-align: middle;\n",
              "    }\n",
              "\n",
              "    .dataframe tbody tr th {\n",
              "        vertical-align: top;\n",
              "    }\n",
              "\n",
              "    .dataframe thead th {\n",
              "        text-align: right;\n",
              "    }\n",
              "</style>\n",
              "<table border=\"1\" class=\"dataframe\">\n",
              "  <thead>\n",
              "    <tr style=\"text-align: right;\">\n",
              "      <th></th>\n",
              "      <th>uid</th>\n",
              "      <th>img_path</th>\n",
              "      <th>disease</th>\n",
              "      <th>disease_code</th>\n",
              "    </tr>\n",
              "  </thead>\n",
              "  <tbody>\n",
              "    <tr>\n",
              "      <th>0</th>\n",
              "      <td>10000</td>\n",
              "      <td>train_imgs/10000.jpg</td>\n",
              "      <td>시설포도노균병</td>\n",
              "      <td>1</td>\n",
              "    </tr>\n",
              "    <tr>\n",
              "      <th>1</th>\n",
              "      <td>10001</td>\n",
              "      <td>train_imgs/10001.jpg</td>\n",
              "      <td>시설포도노균병</td>\n",
              "      <td>1</td>\n",
              "    </tr>\n",
              "    <tr>\n",
              "      <th>2</th>\n",
              "      <td>10002</td>\n",
              "      <td>train_imgs/10002.jpg</td>\n",
              "      <td>시설포도노균병반응</td>\n",
              "      <td>2</td>\n",
              "    </tr>\n",
              "    <tr>\n",
              "      <th>3</th>\n",
              "      <td>10003</td>\n",
              "      <td>train_imgs/10003.jpg</td>\n",
              "      <td>축과병</td>\n",
              "      <td>4</td>\n",
              "    </tr>\n",
              "    <tr>\n",
              "      <th>4</th>\n",
              "      <td>10004</td>\n",
              "      <td>train_imgs/10004.jpg</td>\n",
              "      <td>시설포도노균병</td>\n",
              "      <td>1</td>\n",
              "    </tr>\n",
              "  </tbody>\n",
              "</table>\n",
              "</div>"
            ],
            "text/plain": [
              "     uid              img_path    disease  disease_code\n",
              "0  10000  train_imgs/10000.jpg    시설포도노균병             1\n",
              "1  10001  train_imgs/10001.jpg    시설포도노균병             1\n",
              "2  10002  train_imgs/10002.jpg  시설포도노균병반응             2\n",
              "3  10003  train_imgs/10003.jpg        축과병             4\n",
              "4  10004  train_imgs/10004.jpg    시설포도노균병             1"
            ]
          },
          "metadata": {},
          "execution_count": 4
        }
      ]
    },
    {
      "cell_type": "code",
      "metadata": {
        "colab": {
          "base_uri": "https://localhost:8080/",
          "height": 272
        },
        "id": "JP5JQvV6gDmA",
        "outputId": "de3c3cbe-80f7-4f9a-fecf-390b189bd3e8"
      },
      "source": [
        "img1 = Image.open(df['img_path'][0])\n",
        "#img1 = img_to_array(img1)\n",
        "img1.resize((255,255))"
      ],
      "execution_count": 4,
      "outputs": [
        {
          "output_type": "execute_result",
          "data": {
            "image/png": "[encoded data removed]",
            "text/plain": [
              "<PIL.Image.Image image mode=RGB size=255x255 at 0x7F93FC98BB90>"
            ]
          },
          "metadata": {},
          "execution_count": 4
        }
      ]
    },
    {
      "cell_type": "code",
      "metadata": {
        "id": "ozDLK3tMlFvy"
      },
      "source": [
        "#import zipfile\n",
        "#local_zip = './235842_작물 병해 분류 AI 경진대회_data.zip'\n",
        "##zip_ref = zipfile.ZipFile(local_zip, 'r')\n",
        "#zip_ref.extractall('./작물병해분류')\n",
        "#zip_ref.close()"
      ],
      "execution_count": 5,
      "outputs": []
    },
    {
      "cell_type": "markdown",
      "metadata": {
        "id": "6zk3Re1UkJty"
      },
      "source": [
        "## 이미지, 라벨 x,y에 저장"
      ]
    },
    {
      "cell_type": "code",
      "metadata": {
        "id": "U-Q0CsSOgobr"
      },
      "source": [
        "x= []\n",
        "y =[]\n",
        "for i, j in zip(df.img_path, df.disease_code):\n",
        "  image = Image.open(i)\n",
        "  image = image.resize((255,255)) #괄호 두개 있지말자\n",
        "  image = img_to_array(image) / 255\n",
        "  x.append(image)\n",
        "  y.append(j)\n"
      ],
      "execution_count": 6,
      "outputs": []
    },
    {
      "cell_type": "code",
      "metadata": {
        "colab": {
          "base_uri": "https://localhost:8080/"
        },
        "id": "6CuK23hckbPZ",
        "outputId": "a95e4294-67b0-40ae-a046-453b3d44ff2d"
      },
      "source": [
        "x[0].shape, len(x), len(y) # 길이확인"
      ],
      "execution_count": 7,
      "outputs": [
        {
          "output_type": "execute_result",
          "data": {
            "text/plain": [
              "((255, 255, 3), 250, 250)"
            ]
          },
          "metadata": {},
          "execution_count": 7
        }
      ]
    },
    {
      "cell_type": "code",
      "metadata": {
        "colab": {
          "base_uri": "https://localhost:8080/"
        },
        "id": "FbVHC66Jmmup",
        "outputId": "4b479871-1988-455b-da9d-f4f8b02bcae5"
      },
      "source": [
        "np.unique(y) # y값의 개수 확인 7개"
      ],
      "execution_count": 8,
      "outputs": [
        {
          "output_type": "execute_result",
          "data": {
            "text/plain": [
              "array([0, 1, 2, 3, 4, 5, 6])"
            ]
          },
          "metadata": {},
          "execution_count": 8
        }
      ]
    },
    {
      "cell_type": "code",
      "metadata": {
        "colab": {
          "base_uri": "https://localhost:8080/"
        },
        "id": "zLzlNTbVmGH3",
        "outputId": "a2f83289-94a3-4580-f522-ecf245dc1b2d"
      },
      "source": [
        "np.shape(x)"
      ],
      "execution_count": 9,
      "outputs": [
        {
          "output_type": "execute_result",
          "data": {
            "text/plain": [
              "(250, 255, 255, 3)"
            ]
          },
          "metadata": {},
          "execution_count": 9
        }
      ]
    },
    {
      "cell_type": "code",
      "metadata": {
        "id": "lcE4qkJsmKvI"
      },
      "source": [
        "y = np.array(y)\n",
        "from sklearn.model_selection import train_test_split\n",
        "\n",
        "x_train, x_test, y_train, y_test = train_test_split(x, y, \n",
        "                                                  test_size = 0.3, random_state = 777)"
      ],
      "execution_count": 10,
      "outputs": []
    },
    {
      "cell_type": "code",
      "metadata": {
        "colab": {
          "base_uri": "https://localhost:8080/"
        },
        "id": "tSyCNcLbm4LZ",
        "outputId": "3da1a547-58d3-4163-e582-2c5357be4a29"
      },
      "source": [
        "len(x_train), len(x_test), len(y_train), len(y_test)"
      ],
      "execution_count": 11,
      "outputs": [
        {
          "output_type": "execute_result",
          "data": {
            "text/plain": [
              "(175, 75, 175, 75)"
            ]
          },
          "metadata": {},
          "execution_count": 11
        }
      ]
    },
    {
      "cell_type": "code",
      "metadata": {
        "colab": {
          "base_uri": "https://localhost:8080/"
        },
        "id": "F0__RbOBn9kZ",
        "outputId": "2dc50e9a-8451-4587-ad76-cb41576b987a"
      },
      "source": [
        "np.shape(x_train), np.shape(x_test), np.shape(y_train), np.shape(y_test)"
      ],
      "execution_count": 12,
      "outputs": [
        {
          "output_type": "execute_result",
          "data": {
            "text/plain": [
              "((175, 255, 255, 3), (75, 255, 255, 3), (175,), (75,))"
            ]
          },
          "metadata": {},
          "execution_count": 12
        }
      ]
    },
    {
      "cell_type": "code",
      "metadata": {
        "id": "qHqBxW5qmfrJ"
      },
      "source": [
        "from tensorflow.keras.models import Sequential\n",
        "from tensorflow.keras.layers import Conv2D, MaxPool2D, Dense, Flatten\n",
        "from tensorflow.keras.optimizers import Adam\n",
        "\n",
        "model = Sequential()\n",
        "# (255, 255, 3)의 데이터를 입력으로 받습니다. \n",
        "model.add(Conv2D(filters = 32, kernel_size = 3, padding = 'same', activation = 'relu', input_shape = (255, 255, 3)))\n",
        "model.add(Conv2D(filters = 32, kernel_size = 3, padding = 'same', activation = 'relu'))\n",
        "model.add(MaxPool2D(pool_size = (2, 2), strides = 2, padding = 'same'))\n",
        "\n",
        "model.add(Conv2D(filters = 64, kernel_size = 3, padding = 'same', activation = 'relu'))\n",
        "model.add(Conv2D(filters = 64, kernel_size = 3, padding = 'same', activation = 'relu'))\n",
        "model.add(MaxPool2D(pool_size = (2, 2), strides = 2, padding = 'same'))\n",
        "\n",
        "model.add(Conv2D(filters = 128, kernel_size = 3, padding = 'same', activation = 'relu'))\n",
        "model.add(Conv2D(filters = 128, kernel_size = 3, padding = 'same', activation = 'relu'))\n",
        "model.add(MaxPool2D(pool_size = (2, 2), strides = 2, padding = 'same'))\n",
        "\n",
        "model.add(Flatten())\n",
        "model.add(Dense(256, activation = 'relu'))\n",
        "\n",
        "model.add(Dense(7, activation = 'softmax'))"
      ],
      "execution_count": 13,
      "outputs": []
    },
    {
      "cell_type": "code",
      "metadata": {
        "id": "_HobFG4ZsT9x",
        "colab": {
          "base_uri": "https://localhost:8080/"
        },
        "outputId": "70a99a13-2663-4a47-8e7c-729b48ab9920"
      },
      "source": [
        "model.summary()"
      ],
      "execution_count": 14,
      "outputs": [
        {
          "output_type": "stream",
          "name": "stdout",
          "text": [
            "Model: \"sequential\"\n",
            "_________________________________________________________________\n",
            "Layer (type)                 Output Shape              Param #   \n",
            "=================================================================\n",
            "conv2d (Conv2D)              (None, 255, 255, 32)      896       \n",
            "_________________________________________________________________\n",
            "conv2d_1 (Conv2D)            (None, 255, 255, 32)      9248      \n",
            "_________________________________________________________________\n",
            "max_pooling2d (MaxPooling2D) (None, 128, 128, 32)      0         \n",
            "_________________________________________________________________\n",
            "conv2d_2 (Conv2D)            (None, 128, 128, 64)      18496     \n",
            "_________________________________________________________________\n",
            "conv2d_3 (Conv2D)            (None, 128, 128, 64)      36928     \n",
            "_________________________________________________________________\n",
            "max_pooling2d_1 (MaxPooling2 (None, 64, 64, 64)        0         \n",
            "_________________________________________________________________\n",
            "conv2d_4 (Conv2D)            (None, 64, 64, 128)       73856     \n",
            "_________________________________________________________________\n",
            "conv2d_5 (Conv2D)            (None, 64, 64, 128)       147584    \n",
            "_________________________________________________________________\n",
            "max_pooling2d_2 (MaxPooling2 (None, 32, 32, 128)       0         \n",
            "_________________________________________________________________\n",
            "flatten (Flatten)            (None, 131072)            0         \n",
            "_________________________________________________________________\n",
            "dense (Dense)                (None, 256)               33554688  \n",
            "_________________________________________________________________\n",
            "dense_1 (Dense)              (None, 7)                 1799      \n",
            "=================================================================\n",
            "Total params: 33,843,495\n",
            "Trainable params: 33,843,495\n",
            "Non-trainable params: 0\n",
            "_________________________________________________________________\n"
          ]
        }
      ]
    },
    {
      "cell_type": "code",
      "metadata": {
        "id": "IBhgVoVtmshp"
      },
      "source": [
        "model.compile(optimizer = Adam(1e-4),\n",
        "             loss = 'sparse_categorical_crossentropy', # 원핫 안해도 마지막 dense 2개로 할수 있다 \n",
        "             metrics = ['acc'])"
      ],
      "execution_count": 15,
      "outputs": []
    },
    {
      "cell_type": "code",
      "metadata": {
        "colab": {
          "base_uri": "https://localhost:8080/"
        },
        "id": "Gzhi83j4myZI",
        "outputId": "d565c41a-9488-4ee0-f9e8-09f60777f316"
      },
      "source": [
        "history = model.fit(np.array(x_train), np.array(y_train),\n",
        "                    epochs = 15,\n",
        "                    batch_size = 32,\n",
        "                    validation_data = (np.array(x_test), np.array(y_test)))"
      ],
      "execution_count": 17,
      "outputs": [
        {
          "output_type": "stream",
          "name": "stdout",
          "text": [
            "Epoch 1/15\n",
            "6/6 [==============================] - 6s 1s/step - loss: 1.7129 - acc: 0.3943 - val_loss: 1.6113 - val_acc: 0.4933\n",
            "Epoch 2/15\n",
            "6/6 [==============================] - 2s 350ms/step - loss: 1.6143 - acc: 0.4457 - val_loss: 1.5493 - val_acc: 0.4933\n",
            "Epoch 3/15\n",
            "6/6 [==============================] - 2s 356ms/step - loss: 1.5270 - acc: 0.4000 - val_loss: 1.4678 - val_acc: 0.5200\n",
            "Epoch 4/15\n",
            "6/6 [==============================] - 2s 351ms/step - loss: 1.4343 - acc: 0.5543 - val_loss: 1.4432 - val_acc: 0.5067\n",
            "Epoch 5/15\n",
            "6/6 [==============================] - 2s 354ms/step - loss: 1.2358 - acc: 0.5257 - val_loss: 1.2741 - val_acc: 0.5467\n",
            "Epoch 6/15\n",
            "6/6 [==============================] - 2s 351ms/step - loss: 1.1138 - acc: 0.5714 - val_loss: 1.1580 - val_acc: 0.4933\n",
            "Epoch 7/15\n",
            "6/6 [==============================] - 2s 354ms/step - loss: 0.8721 - acc: 0.6629 - val_loss: 1.0287 - val_acc: 0.5467\n",
            "Epoch 8/15\n",
            "6/6 [==============================] - 2s 357ms/step - loss: 0.6657 - acc: 0.7886 - val_loss: 0.8551 - val_acc: 0.6800\n",
            "Epoch 9/15\n",
            "6/6 [==============================] - 2s 353ms/step - loss: 0.4448 - acc: 0.8400 - val_loss: 0.9607 - val_acc: 0.6400\n",
            "Epoch 10/15\n",
            "6/6 [==============================] - 2s 357ms/step - loss: 0.3332 - acc: 0.9029 - val_loss: 0.7213 - val_acc: 0.7467\n",
            "Epoch 11/15\n",
            "6/6 [==============================] - 2s 353ms/step - loss: 0.1917 - acc: 0.9486 - val_loss: 0.7547 - val_acc: 0.7333\n",
            "Epoch 12/15\n",
            "6/6 [==============================] - 2s 355ms/step - loss: 0.1096 - acc: 0.9943 - val_loss: 0.7024 - val_acc: 0.8000\n",
            "Epoch 13/15\n",
            "6/6 [==============================] - 2s 355ms/step - loss: 0.0601 - acc: 0.9943 - val_loss: 0.8830 - val_acc: 0.6933\n",
            "Epoch 14/15\n",
            "6/6 [==============================] - 2s 357ms/step - loss: 0.0454 - acc: 1.0000 - val_loss: 0.7298 - val_acc: 0.8000\n",
            "Epoch 15/15\n",
            "6/6 [==============================] - 2s 353ms/step - loss: 0.0315 - acc: 0.9943 - val_loss: 0.8186 - val_acc: 0.7600\n"
          ]
        }
      ]
    },
    {
      "cell_type": "markdown",
      "metadata": {
        "id": "d9myTRW94lXq"
      },
      "source": [
        "## 폴더별로 정리"
      ]
    },
    {
      "cell_type": "code",
      "metadata": {
        "id": "bqm_28qu4n1x"
      },
      "source": [
        "# df 에 있는 파일경로 읽어서 옮기기? 디스크 용량이 너무 없다는데..\n",
        "# df를 train test 로 나눈뒤 각각 따로 train 폴더와 test 폴더에 저자항면 될까?"
      ],
      "execution_count": null,
      "outputs": []
    },
    {
      "cell_type": "code",
      "metadata": {
        "id": "pPhcuPCg-Mux"
      },
      "source": [
        "#/data/train 1 2 3 4 5 6 폴더를 만든다"
      ],
      "execution_count": null,
      "outputs": []
    },
    {
      "cell_type": "code",
      "metadata": {
        "id": "JTRFoAhfDSJM"
      },
      "source": [
        "from sklearn.model_selection import train_test_split\n",
        "\n",
        "train, test = train_test_split(df, test_size=0.3, random_state=32)"
      ],
      "execution_count": 75,
      "outputs": []
    },
    {
      "cell_type": "code",
      "metadata": {
        "colab": {
          "base_uri": "https://localhost:8080/",
          "height": 35
        },
        "id": "VXuCEIhlAHES",
        "outputId": "1e879584-b8aa-4303-d5d5-1c67348d3660"
      },
      "source": [
        "df.img_path[0].split('/')[-1]"
      ],
      "execution_count": 76,
      "outputs": [
        {
          "output_type": "execute_result",
          "data": {
            "application/vnd.google.colaboratory.intrinsic+json": {
              "type": "string"
            },
            "text/plain": [
              "'10000.jpg'"
            ]
          },
          "metadata": {},
          "execution_count": 76
        }
      ]
    },
    {
      "cell_type": "code",
      "metadata": {
        "id": "RFxZ4KcsDuJL"
      },
      "source": [
        "import shutil \n",
        "import os"
      ],
      "execution_count": 78,
      "outputs": []
    },
    {
      "cell_type": "code",
      "metadata": {
        "colab": {
          "base_uri": "https://localhost:8080/",
          "height": 195
        },
        "id": "cbXpC2t9FmTC",
        "outputId": "7ee9d6b6-7725-483c-cdd8-253e0f94765e"
      },
      "source": [
        "os.mkdir('data')\n",
        "os.mkdir('data/train')\n",
        "os.mkdir('data/test')"
      ],
      "execution_count": 79,
      "outputs": [
        {
          "output_type": "error",
          "ename": "FileExistsError",
          "evalue": "ignored",
          "traceback": [
            "\u001b[0;31m---------------------------------------------------------------------------\u001b[0m",
            "\u001b[0;31mFileExistsError\u001b[0m                           Traceback (most recent call last)",
            "\u001b[0;32m<ipython-input-79-47ede6544458>\u001b[0m in \u001b[0;36m<module>\u001b[0;34m()\u001b[0m\n\u001b[0;32m----> 1\u001b[0;31m \u001b[0mos\u001b[0m\u001b[0;34m.\u001b[0m\u001b[0mmkdir\u001b[0m\u001b[0;34m(\u001b[0m\u001b[0;34m'data'\u001b[0m\u001b[0;34m)\u001b[0m\u001b[0;34m\u001b[0m\u001b[0;34m\u001b[0m\u001b[0m\n\u001b[0m\u001b[1;32m      2\u001b[0m \u001b[0mos\u001b[0m\u001b[0;34m.\u001b[0m\u001b[0mmkdir\u001b[0m\u001b[0;34m(\u001b[0m\u001b[0;34m'data/train'\u001b[0m\u001b[0;34m)\u001b[0m\u001b[0;34m\u001b[0m\u001b[0;34m\u001b[0m\u001b[0m\n\u001b[1;32m      3\u001b[0m \u001b[0mos\u001b[0m\u001b[0;34m.\u001b[0m\u001b[0mmkdir\u001b[0m\u001b[0;34m(\u001b[0m\u001b[0;34m'data/test'\u001b[0m\u001b[0;34m)\u001b[0m\u001b[0;34m\u001b[0m\u001b[0;34m\u001b[0m\u001b[0m\n",
            "\u001b[0;31mFileExistsError\u001b[0m: [Errno 17] File exists: 'data'"
          ]
        }
      ]
    },
    {
      "cell_type": "code",
      "metadata": {
        "colab": {
          "base_uri": "https://localhost:8080/"
        },
        "id": "csg62TVUHL3D",
        "outputId": "66205884-8e3c-4ad7-9ee4-5809bd910e1a"
      },
      "source": [
        "import os\n",
        "for path, d_code in zip(train.img_path, train.disease_code):\n",
        "  f_name = path.split('/')[-1]\n",
        "  \n",
        "  if os.path.isdir(f'data/train/'+str(d_code))==False:\n",
        "    os.mkdir('data/train/'+str(d_code))\n",
        "  try:\n",
        "    shutil.move(path, f'data/train/{d_code}/{f_name}')\n",
        "  except:\n",
        "    print('이미있음')\n"
      ],
      "execution_count": 80,
      "outputs": [
        {
          "output_type": "stream",
          "name": "stdout",
          "text": [
            "이미있음\n",
            "이미있음\n",
            "이미있음\n",
            "이미있음\n",
            "이미있음\n",
            "이미있음\n",
            "이미있음\n",
            "이미있음\n",
            "이미있음\n",
            "이미있음\n",
            "이미있음\n",
            "이미있음\n",
            "이미있음\n",
            "이미있음\n",
            "이미있음\n",
            "이미있음\n",
            "이미있음\n",
            "이미있음\n",
            "이미있음\n",
            "이미있음\n",
            "이미있음\n",
            "이미있음\n",
            "이미있음\n",
            "이미있음\n",
            "이미있음\n",
            "이미있음\n",
            "이미있음\n",
            "이미있음\n",
            "이미있음\n",
            "이미있음\n",
            "이미있음\n",
            "이미있음\n",
            "이미있음\n",
            "이미있음\n",
            "이미있음\n",
            "이미있음\n",
            "이미있음\n",
            "이미있음\n",
            "이미있음\n",
            "이미있음\n",
            "이미있음\n",
            "이미있음\n",
            "이미있음\n",
            "이미있음\n",
            "이미있음\n",
            "이미있음\n",
            "이미있음\n",
            "이미있음\n",
            "이미있음\n",
            "이미있음\n",
            "이미있음\n",
            "이미있음\n",
            "이미있음\n",
            "이미있음\n",
            "이미있음\n",
            "이미있음\n",
            "이미있음\n",
            "이미있음\n",
            "이미있음\n",
            "이미있음\n",
            "이미있음\n",
            "이미있음\n",
            "이미있음\n",
            "이미있음\n",
            "이미있음\n",
            "이미있음\n",
            "이미있음\n",
            "이미있음\n",
            "이미있음\n",
            "이미있음\n",
            "이미있음\n",
            "이미있음\n",
            "이미있음\n",
            "이미있음\n",
            "이미있음\n",
            "이미있음\n",
            "이미있음\n",
            "이미있음\n",
            "이미있음\n",
            "이미있음\n",
            "이미있음\n",
            "이미있음\n",
            "이미있음\n",
            "이미있음\n",
            "이미있음\n",
            "이미있음\n",
            "이미있음\n",
            "이미있음\n",
            "이미있음\n",
            "이미있음\n",
            "이미있음\n",
            "이미있음\n",
            "이미있음\n",
            "이미있음\n",
            "이미있음\n",
            "이미있음\n",
            "이미있음\n",
            "이미있음\n",
            "이미있음\n",
            "이미있음\n",
            "이미있음\n",
            "이미있음\n",
            "이미있음\n",
            "이미있음\n",
            "이미있음\n",
            "이미있음\n",
            "이미있음\n",
            "이미있음\n",
            "이미있음\n",
            "이미있음\n",
            "이미있음\n",
            "이미있음\n",
            "이미있음\n",
            "이미있음\n",
            "이미있음\n",
            "이미있음\n",
            "이미있음\n",
            "이미있음\n",
            "이미있음\n",
            "이미있음\n",
            "이미있음\n",
            "이미있음\n",
            "이미있음\n",
            "이미있음\n",
            "이미있음\n",
            "이미있음\n",
            "이미있음\n",
            "이미있음\n",
            "이미있음\n",
            "이미있음\n",
            "이미있음\n",
            "이미있음\n",
            "이미있음\n",
            "이미있음\n",
            "이미있음\n",
            "이미있음\n",
            "이미있음\n",
            "이미있음\n",
            "이미있음\n",
            "이미있음\n",
            "이미있음\n",
            "이미있음\n",
            "이미있음\n",
            "이미있음\n",
            "이미있음\n",
            "이미있음\n",
            "이미있음\n",
            "이미있음\n",
            "이미있음\n",
            "이미있음\n",
            "이미있음\n",
            "이미있음\n",
            "이미있음\n",
            "이미있음\n",
            "이미있음\n",
            "이미있음\n",
            "이미있음\n",
            "이미있음\n",
            "이미있음\n",
            "이미있음\n",
            "이미있음\n",
            "이미있음\n",
            "이미있음\n",
            "이미있음\n",
            "이미있음\n",
            "이미있음\n",
            "이미있음\n",
            "이미있음\n",
            "이미있음\n",
            "이미있음\n",
            "이미있음\n",
            "이미있음\n",
            "이미있음\n",
            "이미있음\n",
            "이미있음\n"
          ]
        }
      ]
    },
    {
      "cell_type": "code",
      "metadata": {
        "colab": {
          "base_uri": "https://localhost:8080/"
        },
        "id": "AJJp7BuENkJC",
        "outputId": "b59e2c58-60a1-4a05-ff66-eeeeaa52ca06"
      },
      "source": [
        "import os\n",
        "for path, d_code in zip(test.img_path, test.disease_code):\n",
        "  f_name = path.split('/')[-1]\n",
        "  \n",
        "  if os.path.isdir(f'data/test/'+str(d_code))==False:\n",
        "    os.mkdir('data/test/'+str(d_code))\n",
        "  try:\n",
        "    shutil.move(path, f'data/test/{d_code}/{f_name}')\n",
        "  except:\n",
        "    print('이미있음')\n"
      ],
      "execution_count": 81,
      "outputs": [
        {
          "output_type": "stream",
          "name": "stdout",
          "text": [
            "이미있음\n",
            "이미있음\n",
            "이미있음\n",
            "이미있음\n",
            "이미있음\n",
            "이미있음\n",
            "이미있음\n",
            "이미있음\n",
            "이미있음\n",
            "이미있음\n",
            "이미있음\n",
            "이미있음\n",
            "이미있음\n",
            "이미있음\n",
            "이미있음\n",
            "이미있음\n",
            "이미있음\n",
            "이미있음\n",
            "이미있음\n",
            "이미있음\n",
            "이미있음\n",
            "이미있음\n",
            "이미있음\n",
            "이미있음\n",
            "이미있음\n",
            "이미있음\n",
            "이미있음\n",
            "이미있음\n",
            "이미있음\n",
            "이미있음\n",
            "이미있음\n",
            "이미있음\n",
            "이미있음\n",
            "이미있음\n",
            "이미있음\n",
            "이미있음\n",
            "이미있음\n",
            "이미있음\n",
            "이미있음\n",
            "이미있음\n",
            "이미있음\n",
            "이미있음\n",
            "이미있음\n",
            "이미있음\n",
            "이미있음\n",
            "이미있음\n",
            "이미있음\n",
            "이미있음\n",
            "이미있음\n",
            "이미있음\n",
            "이미있음\n",
            "이미있음\n",
            "이미있음\n",
            "이미있음\n",
            "이미있음\n",
            "이미있음\n",
            "이미있음\n",
            "이미있음\n",
            "이미있음\n",
            "이미있음\n",
            "이미있음\n",
            "이미있음\n",
            "이미있음\n",
            "이미있음\n",
            "이미있음\n",
            "이미있음\n",
            "이미있음\n",
            "이미있음\n",
            "이미있음\n",
            "이미있음\n",
            "이미있음\n",
            "이미있음\n",
            "이미있음\n",
            "이미있음\n",
            "이미있음\n"
          ]
        }
      ]
    },
    {
      "cell_type": "code",
      "metadata": {
        "id": "ULlkc-2BHpMj"
      },
      "source": [
        "base_dir = './data'\n",
        "train_dir = os.path.join(base_dir,'train')\n",
        "test_dir = os.path.join(base_dir,'test')"
      ],
      "execution_count": 82,
      "outputs": []
    },
    {
      "cell_type": "code",
      "metadata": {
        "id": "LqmZdMZvIvua"
      },
      "source": [
        "train_0 = os.path.join(train_dir,'0')\n",
        "train_1 = os.path.join(train_dir,'1')\n",
        "train_2 = os.path.join(train_dir,'2')\n",
        "train_3 = os.path.join(train_dir,'3')\n",
        "train_4 = os.path.join(train_dir,'4')\n",
        "train_5 = os.path.join(train_dir,'5')\n",
        "train_6 = os.path.join(train_dir,'6')\n",
        "train_7 = os.path.join(train_dir,'7')"
      ],
      "execution_count": 19,
      "outputs": []
    },
    {
      "cell_type": "code",
      "metadata": {
        "id": "pkpOlFVxJGN6"
      },
      "source": [
        "test_0 = os.path.join(test_dir,'0')\n",
        "test_1 = os.path.join(test_dir,'1')\n",
        "test_2 = os.path.join(test_dir,'2')\n",
        "test_3 = os.path.join(test_dir,'3')\n",
        "test_4 = os.path.join(test_dir,'4')\n",
        "test_5 = os.path.join(test_dir,'5')\n",
        "test_6 = os.path.join(test_dir,'6')\n",
        "test_7 = os.path.join(test_dir,'7')"
      ],
      "execution_count": 20,
      "outputs": []
    },
    {
      "cell_type": "markdown",
      "metadata": {
        "id": "kCBXoxUyJY-K"
      },
      "source": [
        "### 파일 가져오기"
      ]
    },
    {
      "cell_type": "code",
      "metadata": {
        "id": "GzVmrgFbJOK6"
      },
      "source": [
        "train_1_fnames = os.listdir(train_0)\n",
        "train_2_fnames = os.listdir(train_1)\n",
        "train_3_fnames = os.listdir(train_2)\n",
        "train_4_fnames = os.listdir(train_3)\n",
        "train_5_fnames = os.listdir(train_4)\n",
        "train_6_fnames = os.listdir(train_5)\n",
        "train_7_fnames = os.listdir(train_6)"
      ],
      "execution_count": 21,
      "outputs": []
    },
    {
      "cell_type": "code",
      "metadata": {
        "id": "lTkZYeW7JnpL"
      },
      "source": [
        "test_1_fnames = os.listdir(test_0)\n",
        "test_2_fnames = os.listdir(test_1)\n",
        "test_3_fnames = os.listdir(test_2)\n",
        "test_4_fnames = os.listdir(test_3)\n",
        "test_5_fnames = os.listdir(test_4)\n",
        "test_6_fnames = os.listdir(test_5)\n",
        "test_7_fnames = os.listdir(test_6)"
      ],
      "execution_count": 22,
      "outputs": []
    },
    {
      "cell_type": "markdown",
      "metadata": {
        "id": "8W9pHSNJKl0b"
      },
      "source": [
        "## genrator\n"
      ]
    },
    {
      "cell_type": "code",
      "metadata": {
        "id": "nNSSElaVKnGr"
      },
      "source": [
        "from tensorflow.keras.preprocessing.image import ImageDataGenerator\n",
        "train_datagen = ImageDataGenerator(rescale=1./255,\n",
        "                                   rotation_range= 40,\n",
        "                                   width_shift_range = 0.2,\n",
        "                                   height_shift_range = 0.2,\n",
        "                                   shear_range=0.2,\n",
        "                                   zoom_range=0.2,\n",
        "                                   horizontal_flip=True,\n",
        "                                   fill_mode='nearest') \n",
        "test_datagen = ImageDataGenerator(rescale=1./255)"
      ],
      "execution_count": 88,
      "outputs": []
    },
    {
      "cell_type": "code",
      "metadata": {
        "colab": {
          "base_uri": "https://localhost:8080/"
        },
        "id": "Kc0myj5NKvJM",
        "outputId": "8fd82cc8-6096-4e1e-c6e4-f431614e05ed"
      },
      "source": [
        "train_generator = train_datagen.flow_from_directory(train_dir,\n",
        "                                                    batch_size=20,\n",
        "                                                    target_size=(255,255),\n",
        "                                                    class_mode='categorical')\n",
        "\n",
        "test_generator = test_datagen.flow_from_directory(test_dir,\n",
        "                                                    batch_size=20,\n",
        "                                                    target_size=(255,255),\n",
        "                                                    class_mode='categorical')"
      ],
      "execution_count": 89,
      "outputs": [
        {
          "output_type": "stream",
          "name": "stdout",
          "text": [
            "Found 175 images belonging to 7 classes.\n",
            "Found 75 images belonging to 7 classes.\n"
          ]
        }
      ]
    },
    {
      "cell_type": "code",
      "metadata": {
        "colab": {
          "base_uri": "https://localhost:8080/"
        },
        "id": "WC0xqwWSRSbV",
        "outputId": "b131cacc-0f1f-4757-df70-271bef85bd94"
      },
      "source": [
        "len(train_generator[0])  "
      ],
      "execution_count": 90,
      "outputs": [
        {
          "output_type": "execute_result",
          "data": {
            "text/plain": [
              "2"
            ]
          },
          "metadata": {},
          "execution_count": 90
        }
      ]
    },
    {
      "cell_type": "code",
      "metadata": {
        "colab": {
          "base_uri": "https://localhost:8080/"
        },
        "id": "2mNn4MwMRYLN",
        "outputId": "d0d67a6a-b5a1-4f60-a3d8-76786ddcdae0"
      },
      "source": [
        "len(train_generator)"
      ],
      "execution_count": 91,
      "outputs": [
        {
          "output_type": "execute_result",
          "data": {
            "text/plain": [
              "9"
            ]
          },
          "metadata": {},
          "execution_count": 91
        }
      ]
    },
    {
      "cell_type": "code",
      "metadata": {
        "colab": {
          "base_uri": "https://localhost:8080/"
        },
        "id": "dyA4mW0BN4lF",
        "outputId": "d61be727-cd15-411e-ffd7-8ffbb90b407b"
      },
      "source": [
        "np.shape(train_generator[0][0])"
      ],
      "execution_count": 92,
      "outputs": [
        {
          "output_type": "execute_result",
          "data": {
            "text/plain": [
              "(20, 255, 255, 3)"
            ]
          },
          "metadata": {},
          "execution_count": 92
        }
      ]
    },
    {
      "cell_type": "code",
      "metadata": {
        "id": "WHy2ABHmK847"
      },
      "source": [
        "from tensorflow.keras import layers, models\n",
        "\n",
        "model = models.Sequential()\n",
        "model.add(layers.Conv2D(32, (3, 3), activation='relu',input_shape=(255, 255, 3)))\n",
        "model.add(layers.MaxPooling2D((2, 2)))\n",
        "model.add(layers.Conv2D(64, (3, 3), activation='relu'))   \n",
        "model.add(layers.MaxPooling2D((2, 2)))\n",
        "model.add(layers.Conv2D(128, (3, 3), activation='relu')) \n",
        "model.add(layers.MaxPooling2D((2, 2)))\n",
        "model.add(layers.Conv2D(128, (3, 3), activation='relu'))\n",
        "model.add(layers.MaxPooling2D((2, 2)))\n",
        "model.add(layers.Flatten())   # 7*7*128=6272\n",
        "model.add(layers.Dense(512, activation='relu'))  \n",
        "model.add(layers.Dense(7, activation='softmax'))"
      ],
      "execution_count": 99,
      "outputs": []
    },
    {
      "cell_type": "code",
      "metadata": {
        "id": "GZcrw1vyLLVL"
      },
      "source": [
        "from tensorflow.keras.optimizers import Adam\n",
        "model.compile(optimizer = Adam(1e-4),\n",
        "             loss = 'categorical_crossentropy', # 원핫 안해도 마지막 dense 2개로 할수 있다 \n",
        "             metrics = ['acc'])"
      ],
      "execution_count": 86,
      "outputs": []
    },
    {
      "cell_type": "code",
      "metadata": {
        "id": "MbgYscqYLOXa"
      },
      "source": [
        "history = model.fit_generator(\n",
        "      train_generator,\n",
        "      epochs=30,\n",
        "      validation_data=test_generator,\n",
        "      )"
      ],
      "execution_count": null,
      "outputs": []
    },
    {
      "cell_type": "markdown",
      "metadata": {
        "id": "AvIgf3oLdDFs"
      },
      "source": [
        "## vgg"
      ]
    },
    {
      "cell_type": "code",
      "metadata": {
        "colab": {
          "base_uri": "https://localhost:8080/"
        },
        "id": "wK2asbhhMRIo",
        "outputId": "b0422785-d6a3-4606-c97d-66bbb0b4cf81"
      },
      "source": [
        "from keras.applications import vgg16\n",
        "\n",
        "\n",
        "VGG16_model = vgg16.VGG16(weights='imagenet',\n",
        "                    include_top=False,\n",
        "                    input_shape=(250, 250, 3))"
      ],
      "execution_count": 101,
      "outputs": [
        {
          "output_type": "stream",
          "name": "stdout",
          "text": [
            "Downloading data from https://storage.googleapis.com/tensorflow/keras-applications/vgg16/vgg16_weights_tf_dim_ordering_tf_kernels_notop.h5\n",
            "58892288/58889256 [==============================] - 1s 0us/step\n",
            "58900480/58889256 [==============================] - 1s 0us/step\n"
          ]
        }
      ]
    },
    {
      "cell_type": "code",
      "metadata": {
        "colab": {
          "base_uri": "https://localhost:8080/"
        },
        "id": "j6_e9o3SePSU",
        "outputId": "6d16f285-8176-4997-9889-014dd6edf59a"
      },
      "source": [
        "VGG16_model.summary()"
      ],
      "execution_count": 102,
      "outputs": [
        {
          "output_type": "stream",
          "name": "stdout",
          "text": [
            "Model: \"vgg16\"\n",
            "_________________________________________________________________\n",
            "Layer (type)                 Output Shape              Param #   \n",
            "=================================================================\n",
            "input_1 (InputLayer)         [(None, 250, 250, 3)]     0         \n",
            "_________________________________________________________________\n",
            "block1_conv1 (Conv2D)        (None, 250, 250, 64)      1792      \n",
            "_________________________________________________________________\n",
            "block1_conv2 (Conv2D)        (None, 250, 250, 64)      36928     \n",
            "_________________________________________________________________\n",
            "block1_pool (MaxPooling2D)   (None, 125, 125, 64)      0         \n",
            "_________________________________________________________________\n",
            "block2_conv1 (Conv2D)        (None, 125, 125, 128)     73856     \n",
            "_________________________________________________________________\n",
            "block2_conv2 (Conv2D)        (None, 125, 125, 128)     147584    \n",
            "_________________________________________________________________\n",
            "block2_pool (MaxPooling2D)   (None, 62, 62, 128)       0         \n",
            "_________________________________________________________________\n",
            "block3_conv1 (Conv2D)        (None, 62, 62, 256)       295168    \n",
            "_________________________________________________________________\n",
            "block3_conv2 (Conv2D)        (None, 62, 62, 256)       590080    \n",
            "_________________________________________________________________\n",
            "block3_conv3 (Conv2D)        (None, 62, 62, 256)       590080    \n",
            "_________________________________________________________________\n",
            "block3_pool (MaxPooling2D)   (None, 31, 31, 256)       0         \n",
            "_________________________________________________________________\n",
            "block4_conv1 (Conv2D)        (None, 31, 31, 512)       1180160   \n",
            "_________________________________________________________________\n",
            "block4_conv2 (Conv2D)        (None, 31, 31, 512)       2359808   \n",
            "_________________________________________________________________\n",
            "block4_conv3 (Conv2D)        (None, 31, 31, 512)       2359808   \n",
            "_________________________________________________________________\n",
            "block4_pool (MaxPooling2D)   (None, 15, 15, 512)       0         \n",
            "_________________________________________________________________\n",
            "block5_conv1 (Conv2D)        (None, 15, 15, 512)       2359808   \n",
            "_________________________________________________________________\n",
            "block5_conv2 (Conv2D)        (None, 15, 15, 512)       2359808   \n",
            "_________________________________________________________________\n",
            "block5_conv3 (Conv2D)        (None, 15, 15, 512)       2359808   \n",
            "_________________________________________________________________\n",
            "block5_pool (MaxPooling2D)   (None, 7, 7, 512)         0         \n",
            "=================================================================\n",
            "Total params: 14,714,688\n",
            "Trainable params: 14,714,688\n",
            "Non-trainable params: 0\n",
            "_________________________________________________________________\n"
          ]
        }
      ]
    },
    {
      "cell_type": "code",
      "metadata": {
        "id": "O-cPqdPGeSKD"
      },
      "source": [
        "last_layer = VGG16_model.get_layer('block5_pool')\n",
        "last_output = last_layer.output"
      ],
      "execution_count": 103,
      "outputs": []
    },
    {
      "cell_type": "code",
      "metadata": {
        "colab": {
          "base_uri": "https://localhost:8080/"
        },
        "id": "rN-B8GR5eLmT",
        "outputId": "e83b05cb-b203-4c97-8bae-59e3bccd5666"
      },
      "source": [
        "from tensorflow.keras.optimizers import RMSprop\n",
        "from tensorflow.keras import Model\n",
        "\n",
        "x = layers.Flatten()(last_output)\n",
        "\n",
        "\n",
        "x = layers.Dense(1024, activation='relu')(x)\n",
        "x = layers.Dense(7, activation='softmax')(x)\n",
        "\n",
        "model = Model(VGG16_model.input, x)\n",
        "\n",
        "model.compile(optimizer=RMSprop(lr=0.0001),\n",
        "            loss='categorical_crossentropy',\n",
        "            metrics=['acc'])"
      ],
      "execution_count": 105,
      "outputs": [
        {
          "output_type": "stream",
          "name": "stderr",
          "text": [
            "/usr/local/lib/python3.7/dist-packages/keras/optimizer_v2/optimizer_v2.py:356: UserWarning: The `lr` argument is deprecated, use `learning_rate` instead.\n",
            "  \"The `lr` argument is deprecated, use `learning_rate` instead.\")\n"
          ]
        }
      ]
    },
    {
      "cell_type": "code",
      "metadata": {
        "colab": {
          "base_uri": "https://localhost:8080/"
        },
        "id": "pRRxwlz9eeoj",
        "outputId": "0e637b34-678d-42c7-fdda-ebe4efeab26a"
      },
      "source": [
        "history = model.fit(\n",
        "  train_generator,\n",
        "  validation_data=test_generator,\n",
        "  epochs=20,\n",
        ")"
      ],
      "execution_count": null,
      "outputs": [
        {
          "output_type": "stream",
          "name": "stdout",
          "text": [
            "Epoch 1/20\n",
            "9/9 [==============================] - 45s 4s/step - loss: 2.5183 - acc: 0.3314 - val_loss: 1.7133 - val_acc: 0.4000\n",
            "Epoch 2/20\n",
            "9/9 [==============================] - 24s 3s/step - loss: 1.6655 - acc: 0.4343 - val_loss: 1.6970 - val_acc: 0.4000\n",
            "Epoch 3/20\n",
            "9/9 [==============================] - 24s 3s/step - loss: 1.6257 - acc: 0.4343 - val_loss: 1.7009 - val_acc: 0.4000\n",
            "Epoch 4/20\n",
            "9/9 [==============================] - 24s 3s/step - loss: 1.5984 - acc: 0.4514 - val_loss: 1.8265 - val_acc: 0.4000\n",
            "Epoch 5/20\n",
            "9/9 [==============================] - 24s 3s/step - loss: 1.5986 - acc: 0.4343 - val_loss: 1.6399 - val_acc: 0.4000\n",
            "Epoch 6/20\n",
            "9/9 [==============================] - 24s 3s/step - loss: 1.5473 - acc: 0.4286 - val_loss: 1.6868 - val_acc: 0.4000\n",
            "Epoch 7/20\n",
            "6/9 [===================>..........] - ETA: 5s - loss: 1.8059 - acc: 0.4000"
          ]
        }
      ]
    }
  ]
}