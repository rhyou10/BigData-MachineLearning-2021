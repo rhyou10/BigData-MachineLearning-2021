{
  "nbformat": 4,
  "nbformat_minor": 0,
  "metadata": {
    "colab": {
      "name": "노이즈이미지.ipynb",
      "provenance": [],
      "collapsed_sections": []
    },
    "kernelspec": {
      "name": "python3",
      "display_name": "Python 3"
    },
    "language_info": {
      "name": "python"
    },
    "accelerator": "TPU"
  },
  "cells": [
    {
      "cell_type": "code",
      "metadata": {
        "id": "aruhA3C_zEgJ"
      },
      "source": [
        "import matplotlib.pyplot as plt\n",
        "import numpy as np\n",
        "import pandas as pd\n",
        "import tensorflow as tf\n",
        "\n",
        "from sklearn.metrics import accuracy_score, precision_score, recall_score\n",
        "from sklearn.model_selection import train_test_split\n",
        "from tensorflow.keras import layers, losses\n",
        "from tensorflow.keras.datasets import fashion_mnist\n",
        "from tensorflow.keras.models import Model"
      ],
      "execution_count": 1,
      "outputs": []
    },
    {
      "cell_type": "code",
      "metadata": {
        "colab": {
          "base_uri": "https://localhost:8080/"
        },
        "id": "KGS90xKQzJBl",
        "outputId": "ccb978bc-7b5d-47e2-a9e5-44deca107dab"
      },
      "source": [
        "(x_train, _), (x_test, _) = fashion_mnist.load_data()\n"
      ],
      "execution_count": 2,
      "outputs": [
        {
          "output_type": "stream",
          "name": "stdout",
          "text": [
            "Downloading data from https://storage.googleapis.com/tensorflow/tf-keras-datasets/train-labels-idx1-ubyte.gz\n",
            "32768/29515 [=================================] - 0s 0us/step\n",
            "40960/29515 [=========================================] - 0s 0us/step\n",
            "Downloading data from https://storage.googleapis.com/tensorflow/tf-keras-datasets/train-images-idx3-ubyte.gz\n",
            "26427392/26421880 [==============================] - 0s 0us/step\n",
            "26435584/26421880 [==============================] - 0s 0us/step\n",
            "Downloading data from https://storage.googleapis.com/tensorflow/tf-keras-datasets/t10k-labels-idx1-ubyte.gz\n",
            "16384/5148 [===============================================================================================] - 0s 0us/step\n",
            "Downloading data from https://storage.googleapis.com/tensorflow/tf-keras-datasets/t10k-images-idx3-ubyte.gz\n",
            "4423680/4422102 [==============================] - 0s 0us/step\n",
            "4431872/4422102 [==============================] - 0s 0us/step\n"
          ]
        }
      ]
    },
    {
      "cell_type": "code",
      "metadata": {
        "colab": {
          "base_uri": "https://localhost:8080/"
        },
        "id": "tn9orpLIzne0",
        "outputId": "575c4e8c-a538-4668-fcee-9eb5c8d817c1"
      },
      "source": [
        "x_train = x_train.astype('float32') / 255.\n",
        "x_test = x_test.astype('float32') / 255.\n",
        "\n",
        "\n",
        "print(x_train.shape)\n",
        "print(x_test.shape)"
      ],
      "execution_count": 3,
      "outputs": [
        {
          "output_type": "stream",
          "name": "stdout",
          "text": [
            "(60000, 28, 28)\n",
            "(10000, 28, 28)\n"
          ]
        }
      ]
    },
    {
      "cell_type": "code",
      "metadata": {
        "id": "-0KjN1tozgVF"
      },
      "source": [
        "noise_factor = 0.2\n",
        "x_train_noisy = x_train + noise_factor * tf.random.normal(shape=x_train.shape) \n",
        "x_test_noisy = x_test + noise_factor * tf.random.normal(shape=x_test.shape) \n",
        "\n",
        "x_train_noisy = tf.clip_by_value(x_train_noisy, clip_value_min=0., clip_value_max=1.)\n",
        "x_test_noisy = tf.clip_by_value(x_test_noisy, clip_value_min=0., clip_value_max=1.)"
      ],
      "execution_count": 4,
      "outputs": []
    },
    {
      "cell_type": "code",
      "metadata": {
        "colab": {
          "base_uri": "https://localhost:8080/",
          "height": 132
        },
        "id": "C2K1d9MFzqX8",
        "outputId": "7cef0206-2f35-4b46-fc2e-70d88ba9e313"
      },
      "source": [
        "n = 10\n",
        "plt.figure(figsize=(20, 2))\n",
        "for i in range(n):\n",
        "    ax = plt.subplot(1, n, i + 1)\n",
        "    plt.title(\"original + noise\")\n",
        "    plt.imshow(tf.squeeze(x_test_noisy[i]))\n",
        "    plt.gray()\n",
        "plt.show()"
      ],
      "execution_count": 5,
      "outputs": [
        {
          "output_type": "display_data",
          "data": {
            "image/png": "[encoded data removed]",
            "text/plain": [
              "<Figure size 1440x144 with 10 Axes>"
            ]
          },
          "metadata": {
            "needs_background": "light"
          }
        }
      ]
    },
    {
      "cell_type": "code",
      "metadata": {
        "colab": {
          "base_uri": "https://localhost:8080/",
          "height": 215
        },
        "id": "aLVyrc-Lz4fO",
        "outputId": "ef023647-ff59-434d-84fe-b84e627f8a15"
      },
      "source": [
        "plt.imshow (np.concatenate( [x_train[0], x_train_noisy[0] ], axis = 1 ) ) \n",
        "plt.show()\n"
      ],
      "execution_count": 6,
      "outputs": [
        {
          "output_type": "display_data",
          "data": {
            "image/png": "[encoded data removed]",
            "text/plain": [
              "<Figure size 432x288 with 1 Axes>"
            ]
          },
          "metadata": {
            "needs_background": "light"
          }
        }
      ]
    },
    {
      "cell_type": "code",
      "metadata": {
        "colab": {
          "base_uri": "https://localhost:8080/",
          "height": 281
        },
        "id": "ophrFued0rnG",
        "outputId": "797318e4-2901-4137-d81e-848af0b6eb2b"
      },
      "source": [
        "# 흑백이미지를 컬러로 변경(1채널을 3채널로 변경)\n",
        "#노이즈 추가하기전에 작업함\n",
        "# 내자료 가지고 할때 컬러이미지 하고싶어서\n",
        "\n",
        "from skimage import color\n",
        "x_train_color = [color.gray2rgb(x) for x in x_train]\n",
        "x_test_color = [color.gray2rgb(x) for x in x_test]\n",
        "#np.shape(x_train[0]), np.shape(color.gray2rgb(x_train[0])) #컬러 변경 \n",
        "x_train_color[0] #검정과 흰색으로만 들어간다\n",
        "plt.imshow(x_train_color[0]) # 여기다가 노이즈 추가"
      ],
      "execution_count": 7,
      "outputs": [
        {
          "output_type": "execute_result",
          "data": {
            "text/plain": [
              "<matplotlib.image.AxesImage at 0x7f3727a03910>"
            ]
          },
          "metadata": {},
          "execution_count": 7
        },
        {
          "output_type": "display_data",
          "data": {
            "image/png": "[encoded data removed]",
            "text/plain": [
              "<Figure size 432x288 with 1 Axes>"
            ]
          },
          "metadata": {
            "needs_background": "light"
          }
        }
      ]
    },
    {
      "cell_type": "code",
      "metadata": {
        "colab": {
          "base_uri": "https://localhost:8080/"
        },
        "id": "U2dw3rZ83MKF",
        "outputId": "71bc8a76-731f-435c-e937-1df6fcf3682e"
      },
      "source": [
        "x_train[0].shape"
      ],
      "execution_count": 8,
      "outputs": [
        {
          "output_type": "execute_result",
          "data": {
            "text/plain": [
              "(28, 28)"
            ]
          },
          "metadata": {},
          "execution_count": 8
        }
      ]
    },
    {
      "cell_type": "code",
      "metadata": {
        "colab": {
          "base_uri": "https://localhost:8080/"
        },
        "id": "QV3Nzv6z2zg_",
        "outputId": "1cc89f20-1c72-4ddc-b5b0-ea6c93d1c715"
      },
      "source": [
        "np.shape(x_train_color)"
      ],
      "execution_count": 9,
      "outputs": [
        {
          "output_type": "execute_result",
          "data": {
            "text/plain": [
              "(60000, 28, 28, 3)"
            ]
          },
          "metadata": {},
          "execution_count": 9
        }
      ]
    },
    {
      "cell_type": "code",
      "metadata": {
        "id": "uJCestBp2QU9"
      },
      "source": [
        "noise_factor = 0.2\n",
        "x_train_noisy = x_train_color + noise_factor * tf.random.normal(shape=np.shape(x_train_color)) \n",
        "x_test_noisy = x_test_color + noise_factor * tf.random.normal(shape=np.shape(x_test_color)) \n",
        "\n",
        "x_train_noisy = tf.clip_by_value(x_train_noisy, clip_value_min=0., clip_value_max=1.)\n",
        "x_test_noisy = tf.clip_by_value(x_test_noisy, clip_value_min=0., clip_value_max=1.)"
      ],
      "execution_count": 10,
      "outputs": []
    },
    {
      "cell_type": "code",
      "metadata": {
        "colab": {
          "base_uri": "https://localhost:8080/",
          "height": 281
        },
        "id": "_dw7K7k64AYN",
        "outputId": "668b9ea9-b8a6-4f8d-de33-8398feeb6636"
      },
      "source": [
        "plt.imshow(x_train_noisy[0])"
      ],
      "execution_count": 11,
      "outputs": [
        {
          "output_type": "execute_result",
          "data": {
            "text/plain": [
              "<matplotlib.image.AxesImage at 0x7f372798a510>"
            ]
          },
          "metadata": {},
          "execution_count": 11
        },
        {
          "output_type": "display_data",
          "data": {
            "image/png": "[encoded data removed]",
            "text/plain": [
              "<Figure size 432x288 with 1 Axes>"
            ]
          },
          "metadata": {
            "needs_background": "light"
          }
        }
      ]
    },
    {
      "cell_type": "code",
      "metadata": {
        "colab": {
          "base_uri": "https://localhost:8080/",
          "height": 281
        },
        "id": "LATJofJs5XNO",
        "outputId": "4c9febce-50f3-44ce-b023-c8710a514756"
      },
      "source": [
        "plt.imshow(x_test_noisy[0])"
      ],
      "execution_count": 12,
      "outputs": [
        {
          "output_type": "execute_result",
          "data": {
            "text/plain": [
              "<matplotlib.image.AxesImage at 0x7f37278edc90>"
            ]
          },
          "metadata": {},
          "execution_count": 12
        },
        {
          "output_type": "display_data",
          "data": {
            "image/png": "[encoded data removed]",
            "text/plain": [
              "<Figure size 432x288 with 1 Axes>"
            ]
          },
          "metadata": {
            "needs_background": "light"
          }
        }
      ]
    },
    {
      "cell_type": "code",
      "metadata": {
        "id": "0fj0t3Lc4Ne8"
      },
      "source": [
        "from keras.layers import Dense, Input, Conv2D, Conv2DTranspose, Flatten, Reshape\n",
        "from keras.models import Model\n",
        "\n",
        "inputs = Input(shape=(28, 28, 3)) #컬러이기때문\n",
        "x = Conv2D(32, 3, 2, activation='relu', padding='same')(inputs)\n",
        "x = Conv2D(64, 3, 2, activation='relu', padding='same')(x)\n",
        "x = Flatten()(x)\n",
        "latent = Dense(10)(x)\n",
        "\n",
        "x = Dense(7 * 7 * 64)(latent)\n",
        "\n",
        "x = Reshape((7, 7, 64))(x)\n",
        "\n",
        "x = Conv2DTranspose(64, 3, 2, activation='relu', padding='same')(x)\n",
        "x = Conv2DTranspose(32, 3, 2, activation='relu', padding='same')(x)\n",
        "x = Conv2DTranspose(3, 3, activation='sigmoid', padding='same')(x) # 컬러이기 떄문에 3개\n",
        "\n",
        "model = Model(inputs, x)\n"
      ],
      "execution_count": 13,
      "outputs": []
    },
    {
      "cell_type": "code",
      "metadata": {
        "colab": {
          "base_uri": "https://localhost:8080/"
        },
        "id": "Xowiq0L-49yn",
        "outputId": "8443f8cd-59dd-4452-e472-64e4f6b57cc0"
      },
      "source": [
        "model.summary()"
      ],
      "execution_count": 14,
      "outputs": [
        {
          "output_type": "stream",
          "name": "stdout",
          "text": [
            "Model: \"model\"\n",
            "_________________________________________________________________\n",
            "Layer (type)                 Output Shape              Param #   \n",
            "=================================================================\n",
            "input_1 (InputLayer)         [(None, 28, 28, 3)]       0         \n",
            "_________________________________________________________________\n",
            "conv2d (Conv2D)              (None, 14, 14, 32)        896       \n",
            "_________________________________________________________________\n",
            "conv2d_1 (Conv2D)            (None, 7, 7, 64)          18496     \n",
            "_________________________________________________________________\n",
            "flatten (Flatten)            (None, 3136)              0         \n",
            "_________________________________________________________________\n",
            "dense (Dense)                (None, 10)                31370     \n",
            "_________________________________________________________________\n",
            "dense_1 (Dense)              (None, 3136)              34496     \n",
            "_________________________________________________________________\n",
            "reshape (Reshape)            (None, 7, 7, 64)          0         \n",
            "_________________________________________________________________\n",
            "conv2d_transpose (Conv2DTran (None, 14, 14, 64)        36928     \n",
            "_________________________________________________________________\n",
            "conv2d_transpose_1 (Conv2DTr (None, 28, 28, 32)        18464     \n",
            "_________________________________________________________________\n",
            "conv2d_transpose_2 (Conv2DTr (None, 28, 28, 3)         867       \n",
            "=================================================================\n",
            "Total params: 141,517\n",
            "Trainable params: 141,517\n",
            "Non-trainable params: 0\n",
            "_________________________________________________________________\n"
          ]
        }
      ]
    },
    {
      "cell_type": "code",
      "metadata": {
        "colab": {
          "base_uri": "https://localhost:8080/"
        },
        "id": "6mTffUuk8oru",
        "outputId": "66245de6-f2c7-4156-b869-c5e952121e7d"
      },
      "source": [
        "np.shape(x_train_noisy), np.shape(x_train_color)"
      ],
      "execution_count": 17,
      "outputs": [
        {
          "output_type": "execute_result",
          "data": {
            "text/plain": [
              "(TensorShape([60000, 28, 28, 3]), (60000, 28, 28, 3))"
            ]
          },
          "metadata": {},
          "execution_count": 17
        }
      ]
    },
    {
      "cell_type": "code",
      "metadata": {
        "colab": {
          "base_uri": "https://localhost:8080/"
        },
        "id": "vKaL02XE4Y11",
        "outputId": "e7870e27-3fd3-43f4-9cc3-ea7dea9be112"
      },
      "source": [
        "model.compile(loss='mse', optimizer='adam', metrics=['accuracy'])\n",
        "hist = model.fit(np.array(x_train_noisy), np.array(x_train_color), validation_data=(np.array(x_test_noisy), np.array(x_test_color)), epochs=5, verbose=2)\n"
      ],
      "execution_count": 18,
      "outputs": [
        {
          "output_type": "stream",
          "name": "stdout",
          "text": [
            "Epoch 1/5\n",
            "1875/1875 - 114s - loss: 0.0223 - accuracy: 0.4119 - val_loss: 0.0156 - val_accuracy: 0.4565\n",
            "Epoch 2/5\n",
            "1875/1875 - 120s - loss: 0.0146 - accuracy: 0.4499 - val_loss: 0.0139 - val_accuracy: 0.4128\n",
            "Epoch 3/5\n",
            "1875/1875 - 121s - loss: 0.0135 - accuracy: 0.3410 - val_loss: 0.0132 - val_accuracy: 0.3049\n",
            "Epoch 4/5\n",
            "1875/1875 - 124s - loss: 0.0130 - accuracy: 0.2906 - val_loss: 0.0131 - val_accuracy: 0.2743\n",
            "Epoch 5/5\n",
            "1875/1875 - 116s - loss: 0.0127 - accuracy: 0.3025 - val_loss: 0.0128 - val_accuracy: 0.3229\n"
          ]
        }
      ]
    },
    {
      "cell_type": "code",
      "metadata": {
        "colab": {
          "base_uri": "https://localhost:8080/",
          "height": 281
        },
        "id": "2kutr_Kj_tf5",
        "outputId": "bef75a7f-0fbb-4330-be86-e1d80c8f66de"
      },
      "source": [
        "a = model.predict(x_train_color[0].reshape(1,28,28,3))\n",
        "plt.imshow(a[0])"
      ],
      "execution_count": 23,
      "outputs": [
        {
          "output_type": "execute_result",
          "data": {
            "text/plain": [
              "<matplotlib.image.AxesImage at 0x7f37205bd350>"
            ]
          },
          "metadata": {},
          "execution_count": 23
        },
        {
          "output_type": "display_data",
          "data": {
            "image/png": "[encoded data removed]",
            "text/plain": [
              "<Figure size 432x288 with 1 Axes>"
            ]
          },
          "metadata": {
            "needs_background": "light"
          }
        }
      ]
    }
  ]
}