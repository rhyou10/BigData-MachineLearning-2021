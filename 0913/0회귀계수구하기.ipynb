{
 "cells": [
  {
   "cell_type": "code",
   "execution_count": 82,
   "source": [
    "import numpy as np\r\n",
    "x=[20,25,30,34,40]\r\n",
    "y=[26,30,40,48,66]\r\n",
    "sx = (np.array(x) - np.mean(x))**2\r\n",
    "sx = np.sum(sx)/(len(sx)-1) #표본집단으로 해서 n-1\r\n",
    "sx = np.sqrt(sx)\r\n",
    "\r\n",
    "sy = (np.array(y) - np.mean(y))**2\r\n",
    "sy = np.sum(sy)/(len(sy)-1)\r\n",
    "sy = np.sqrt(sy)\r\n",
    "\r\n",
    "x_x = np.array(x) - np.mean(x)\r\n",
    "y_y = np.array(y) - np.mean(y)\r\n",
    "\r\n",
    "r = np.sum((x_x/sx) * (y_y)/sy) / (len(x) -1)\r\n",
    "r"
   ],
   "outputs": [
    {
     "output_type": "execute_result",
     "data": {
      "text/plain": [
       "0.9785212611534364"
      ]
     },
     "metadata": {},
     "execution_count": 82
    }
   ],
   "metadata": {}
  },
  {
   "cell_type": "code",
   "execution_count": 36,
   "source": [
    "import numpy as np\r\n",
    "import pandas as pd\r\n",
    "x=[20,25,30,34,40]\r\n",
    "y=[26,30,40,48,66]\r\n",
    "df=pd.DataFrame({'x':x,'y':y})\r\n",
    "\r\n",
    "print(df)\r\n",
    "df.corr()\r\n",
    "print(df.corr(method='pearson'))   # method 생략하면 기본 pearson\r\n",
    "\r\n",
    "df['x'].corr(df['y'])"
   ],
   "outputs": [
    {
     "output_type": "stream",
     "name": "stdout",
     "text": [
      "    x   y\n",
      "0  20  26\n",
      "1  25  30\n",
      "2  30  40\n",
      "3  34  48\n",
      "4  40  66\n",
      "          x         y\n",
      "x  1.000000  0.978521\n",
      "y  0.978521  1.000000\n"
     ]
    },
    {
     "output_type": "execute_result",
     "data": {
      "text/plain": [
       "0.9785212611534365"
      ]
     },
     "metadata": {},
     "execution_count": 36
    }
   ],
   "metadata": {}
  },
  {
   "cell_type": "code",
   "execution_count": 41,
   "source": [
    "r = df['x'].corr(df['y'])\r\n",
    "w = r * df['y'].std() / df['x'].std() #기울기 구하기\r\n",
    "w"
   ],
   "outputs": [
    {
     "output_type": "execute_result",
     "data": {
      "text/plain": [
       "2.0099667774086383"
      ]
     },
     "metadata": {},
     "execution_count": 41
    }
   ],
   "metadata": {}
  },
  {
   "cell_type": "code",
   "execution_count": 47,
   "source": [
    "# 절편값 구하기\r\n",
    "\r\n",
    "b = df.y.mean() - (df.x.mean()*w)\r\n",
    "b"
   ],
   "outputs": [
    {
     "output_type": "execute_result",
     "data": {
      "text/plain": [
       "-17.897009966777425"
      ]
     },
     "metadata": {},
     "execution_count": 47
    }
   ],
   "metadata": {}
  },
  {
   "cell_type": "code",
   "execution_count": 49,
   "source": [
    "# 선형회귀 공식 차트화\r\n",
    "\r\n",
    "df['lr'] = df.x * w + b\r\n",
    "df['error'] = df.y - df.lr\r\n",
    "df['error2'] = df.error**2\r\n",
    "df"
   ],
   "outputs": [
    {
     "output_type": "execute_result",
     "data": {
      "text/html": [
       "<div>\n",
       "<style scoped>\n",
       "    .dataframe tbody tr th:only-of-type {\n",
       "        vertical-align: middle;\n",
       "    }\n",
       "\n",
       "    .dataframe tbody tr th {\n",
       "        vertical-align: top;\n",
       "    }\n",
       "\n",
       "    .dataframe thead th {\n",
       "        text-align: right;\n",
       "    }\n",
       "</style>\n",
       "<table border=\"1\" class=\"dataframe\">\n",
       "  <thead>\n",
       "    <tr style=\"text-align: right;\">\n",
       "      <th></th>\n",
       "      <th>x</th>\n",
       "      <th>y</th>\n",
       "      <th>lr</th>\n",
       "      <th>error</th>\n",
       "      <th>error2</th>\n",
       "    </tr>\n",
       "  </thead>\n",
       "  <tbody>\n",
       "    <tr>\n",
       "      <th>0</th>\n",
       "      <td>20</td>\n",
       "      <td>26</td>\n",
       "      <td>22.302326</td>\n",
       "      <td>3.697674</td>\n",
       "      <td>13.672796</td>\n",
       "    </tr>\n",
       "    <tr>\n",
       "      <th>1</th>\n",
       "      <td>25</td>\n",
       "      <td>30</td>\n",
       "      <td>32.352159</td>\n",
       "      <td>-2.352159</td>\n",
       "      <td>5.532654</td>\n",
       "    </tr>\n",
       "    <tr>\n",
       "      <th>2</th>\n",
       "      <td>30</td>\n",
       "      <td>40</td>\n",
       "      <td>42.401993</td>\n",
       "      <td>-2.401993</td>\n",
       "      <td>5.769572</td>\n",
       "    </tr>\n",
       "    <tr>\n",
       "      <th>3</th>\n",
       "      <td>34</td>\n",
       "      <td>48</td>\n",
       "      <td>50.441860</td>\n",
       "      <td>-2.441860</td>\n",
       "      <td>5.962683</td>\n",
       "    </tr>\n",
       "    <tr>\n",
       "      <th>4</th>\n",
       "      <td>40</td>\n",
       "      <td>66</td>\n",
       "      <td>62.501661</td>\n",
       "      <td>3.498339</td>\n",
       "      <td>12.238375</td>\n",
       "    </tr>\n",
       "  </tbody>\n",
       "</table>\n",
       "</div>"
      ],
      "text/plain": [
       "    x   y         lr     error     error2\n",
       "0  20  26  22.302326  3.697674  13.672796\n",
       "1  25  30  32.352159 -2.352159   5.532654\n",
       "2  30  40  42.401993 -2.401993   5.769572\n",
       "3  34  48  50.441860 -2.441860   5.962683\n",
       "4  40  66  62.501661  3.498339  12.238375"
      ]
     },
     "metadata": {},
     "execution_count": 49
    }
   ],
   "metadata": {}
  },
  {
   "cell_type": "code",
   "execution_count": 50,
   "source": [
    "import matplotlib.pyplot as plt\r\n",
    "plt.plot(df['x'],df['y'],'ro')\r\n",
    "plt.plot(df['x'],df['lr'])  # wx+b"
   ],
   "outputs": [
    {
     "output_type": "execute_result",
     "data": {
      "text/plain": [
       "[<matplotlib.lines.Line2D at 0x1c8126b72e0>]"
      ]
     },
     "metadata": {},
     "execution_count": 50
    },
    {
     "output_type": "display_data",
     "data": {
      "image/png": "[encoded data removed]",
      "text/plain": [
       "<Figure size 432x288 with 1 Axes>"
      ]
     },
     "metadata": {
      "needs_background": "light"
     }
    }
   ],
   "metadata": {}
  },
  {
   "cell_type": "code",
   "execution_count": 51,
   "source": [
    "from sklearn.linear_model import LinearRegression\r\n",
    "model=LinearRegression()"
   ],
   "outputs": [],
   "metadata": {}
  },
  {
   "cell_type": "code",
   "execution_count": 52,
   "source": [
    "x = df.x.values\r\n",
    "y = df.y.values\r\n",
    "print(np.shape(x))\r\n",
    "x"
   ],
   "outputs": [
    {
     "output_type": "stream",
     "name": "stdout",
     "text": [
      "(5,)\n"
     ]
    },
    {
     "output_type": "execute_result",
     "data": {
      "text/plain": [
       "array([20, 25, 30, 34, 40], dtype=int64)"
      ]
     },
     "metadata": {},
     "execution_count": 52
    }
   ],
   "metadata": {}
  },
  {
   "cell_type": "code",
   "execution_count": 53,
   "source": [
    "x1 = x.reshape(-1,1)\r\n",
    "print(np.shape(x1))\r\n",
    "x1"
   ],
   "outputs": [
    {
     "output_type": "stream",
     "name": "stdout",
     "text": [
      "(5, 1)\n"
     ]
    },
    {
     "output_type": "execute_result",
     "data": {
      "text/plain": [
       "array([[20],\n",
       "       [25],\n",
       "       [30],\n",
       "       [34],\n",
       "       [40]], dtype=int64)"
      ]
     },
     "metadata": {},
     "execution_count": 53
    }
   ],
   "metadata": {}
  },
  {
   "cell_type": "code",
   "execution_count": 55,
   "source": [
    "x = df.x.values.reshape(-1,1)\r\n",
    "y = df.y.values.reshape(-1,1)\r\n",
    "model.fit(x,y)\r\n"
   ],
   "outputs": [
    {
     "output_type": "execute_result",
     "data": {
      "text/plain": [
       "LinearRegression()"
      ]
     },
     "metadata": {},
     "execution_count": 55
    }
   ],
   "metadata": {}
  },
  {
   "cell_type": "code",
   "execution_count": 58,
   "source": [
    "model.predict([[3]])"
   ],
   "outputs": [
    {
     "output_type": "execute_result",
     "data": {
      "text/plain": [
       "array([[-11.86710963]])"
      ]
     },
     "metadata": {},
     "execution_count": 58
    }
   ],
   "metadata": {}
  },
  {
   "cell_type": "code",
   "execution_count": 60,
   "source": [
    "plt.plot(x,y,'ro')\r\n",
    "plt.plot(x, model.predict(x))"
   ],
   "outputs": [
    {
     "output_type": "execute_result",
     "data": {
      "text/plain": [
       "[<matplotlib.lines.Line2D at 0x1c8153e2d60>]"
      ]
     },
     "metadata": {},
     "execution_count": 60
    },
    {
     "output_type": "display_data",
     "data": {
      "image/png": "[encoded data removed]",
      "text/plain": [
       "<Figure size 432x288 with 1 Axes>"
      ]
     },
     "metadata": {
      "needs_background": "light"
     }
    }
   ],
   "metadata": {}
  },
  {
   "cell_type": "code",
   "execution_count": 63,
   "source": [
    "y_hat = model.predict(x)\r\n",
    "print(y_hat**2)\r\n",
    "print(x*model.coef_ + model.intercept_)"
   ],
   "outputs": [
    {
     "output_type": "stream",
     "name": "stdout",
     "text": [
      "[[ 497.39372634]\n",
      " [1046.66222227]\n",
      " [1797.92904052]\n",
      " [2544.38128718]\n",
      " [3906.45764396]]\n",
      "[[22.30232558]\n",
      " [32.35215947]\n",
      " [42.40199336]\n",
      " [50.44186047]\n",
      " [62.50166113]]\n"
     ]
    }
   ],
   "metadata": {}
  },
  {
   "cell_type": "code",
   "execution_count": 65,
   "source": [
    "from sklearn.metrics import mean_squared_error\r\n",
    "y_hat = model.predict(x)\r\n",
    "mean_squared_error(y, y_hat) # 에러값 찾는다 sum해서"
   ],
   "outputs": [
    {
     "output_type": "execute_result",
     "data": {
      "text/plain": [
       "8.635215946843852"
      ]
     },
     "metadata": {},
     "execution_count": 65
    }
   ],
   "metadata": {}
  },
  {
   "cell_type": "code",
   "execution_count": 66,
   "source": [
    "SSE=np.sum((y-model.predict(x))**2)\r\n",
    "print('SSE:%.2f' % SSE)   # rss값은 sse값임. \r\n",
    "TSS=np.sum((y-np.mean(y))**2)\r\n",
    "print('TSS:%.2f' % TSS)\r\n",
    "\r\n",
    "print('R2= 1-SSE/TSS: %.2f'% (1-SSE/TSS ))"
   ],
   "outputs": [
    {
     "output_type": "stream",
     "name": "stdout",
     "text": [
      "SSE:43.18\n",
      "TSS:1016.00\n",
      "R2= 1-SSE/TSS: 0.96\n"
     ]
    }
   ],
   "metadata": {}
  },
  {
   "cell_type": "code",
   "execution_count": 67,
   "source": [
    "from sklearn.metrics import r2_score\r\n",
    "y_hat=x*model.coef_+model.intercept_\r\n",
    "print(y_hat)\r\n",
    "r2_score(y,y_hat)  # 사이킷런 제공 R2값"
   ],
   "outputs": [
    {
     "output_type": "stream",
     "name": "stdout",
     "text": [
      "[[22.30232558]\n",
      " [32.35215947]\n",
      " [42.40199336]\n",
      " [50.44186047]\n",
      " [62.50166113]]\n"
     ]
    },
    {
     "output_type": "execute_result",
     "data": {
      "text/plain": [
       "0.9575038585293117"
      ]
     },
     "metadata": {},
     "execution_count": 67
    }
   ],
   "metadata": {}
  },
  {
   "cell_type": "code",
   "execution_count": 68,
   "source": [
    "import pickle\r\n",
    "filename='StartLr.sav'\r\n",
    "pickle.dump(model,open(f'../data/{filename}','wb'))"
   ],
   "outputs": [],
   "metadata": {}
  }
 ],
 "metadata": {
  "orig_nbformat": 4,
  "language_info": {
   "name": "python",
   "version": "3.8.10",
   "mimetype": "text/x-python",
   "codemirror_mode": {
    "name": "ipython",
    "version": 3
   },
   "pygments_lexer": "ipython3",
   "nbconvert_exporter": "python",
   "file_extension": ".py"
  },
  "kernelspec": {
   "name": "python3",
   "display_name": "Python 3.8.10 64-bit"
  },
  "interpreter": {
   "hash": "345fc451c7e0336b9390ad1fad588039702f89ec6d37597eff879e480e25ffdb"
  }
 },
 "nbformat": 4,
 "nbformat_minor": 2
}