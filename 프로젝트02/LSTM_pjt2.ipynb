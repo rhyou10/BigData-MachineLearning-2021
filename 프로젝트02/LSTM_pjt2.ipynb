{
  "nbformat": 4,
  "nbformat_minor": 0,
  "metadata": {
    "colab": {
      "name": "LSTM_pjt2.ipynb",
      "provenance": [],
      "collapsed_sections": [],
      "machine_shape": "hm"
    },
    "kernelspec": {
      "name": "python3",
      "display_name": "Python 3"
    },
    "language_info": {
      "name": "python"
    },
    "accelerator": "GPU"
  },
  "cells": [
    {
      "cell_type": "code",
      "metadata": {
        "colab": {
          "base_uri": "https://localhost:8080/"
        },
        "id": "En3pIcXYrkSh",
        "outputId": "3c81991e-98ff-4783-d9a2-6f91cd663237"
      },
      "source": [
        "from google.colab import drive\n",
        "drive.mount('/content/drive')"
      ],
      "execution_count": null,
      "outputs": [
        {
          "output_type": "stream",
          "name": "stdout",
          "text": [
            "Mounted at /content/drive\n"
          ]
        }
      ]
    },
    {
      "cell_type": "code",
      "metadata": {
        "colab": {
          "base_uri": "https://localhost:8080/"
        },
        "id": "ZUHQNy1Y3FmI",
        "outputId": "1feffec5-8e39-4f03-ddf9-7d52320dd5be"
      },
      "source": [
        "cd /content/drive/MyDrive/data/pjt2"
      ],
      "execution_count": null,
      "outputs": [
        {
          "output_type": "stream",
          "name": "stdout",
          "text": [
            "/content/drive/MyDrive/data/pjt2\n"
          ]
        }
      ]
    },
    {
      "cell_type": "code",
      "metadata": {
        "id": "hwgJXxad3HmQ"
      },
      "source": [
        "import pandas as pd\n",
        "import numpy as np"
      ],
      "execution_count": null,
      "outputs": []
    },
    {
      "cell_type": "markdown",
      "metadata": {
        "id": "Bbw39JN2rOTM"
      },
      "source": [
        "## 데이터 불러오기"
      ]
    },
    {
      "cell_type": "code",
      "metadata": {
        "id": "jNXcGDWcKYlP"
      },
      "source": [
        "train = pd.read_csv('data/train_data.csv')\n",
        "#train = pd.read_csv('data/데이터_추가2_전처리(불용어추가).csv')\n",
        "test = pd.read_csv('data/test_data.csv')"
      ],
      "execution_count": null,
      "outputs": []
    },
    {
      "cell_type": "code",
      "metadata": {
        "colab": {
          "base_uri": "https://localhost:8080/"
        },
        "id": "4g-f9a7BW7u4",
        "outputId": "bfd7e4d8-db80-43b4-d4ff-3d31151f79c0"
      },
      "source": [
        "train.columns"
      ],
      "execution_count": null,
      "outputs": [
        {
          "output_type": "execute_result",
          "data": {
            "text/plain": [
              "Index(['Unnamed: 0', 'Unnamed: 0.1', 'title', 'topic_idx', 'data', 'new_title',\n",
              "       'new_title1', 'new_title2', 'new_title3'],\n",
              "      dtype='object')"
            ]
          },
          "metadata": {},
          "execution_count": 20
        }
      ]
    },
    {
      "cell_type": "code",
      "metadata": {
        "colab": {
          "base_uri": "https://localhost:8080/",
          "height": 162
        },
        "id": "06LnUL6NY8OQ",
        "outputId": "be5aa878-bd25-447b-d006-ed23f7f3ef92"
      },
      "source": [
        "train.head(2) \n",
        "# data : 한자제거 \n",
        "# data2 : 특수문자 제거\n",
        "# data_okt : data2 의 okt.morphs\n",
        "# new_title_600 : data2의 okt+ 불용어 600제거\n",
        "# new_title_600_stem : data2의 okt + 불용어 600 + stem으로 동사 변환\n",
        "# new_title_one_word : new_title_600에 한글자제거"
      ],
      "execution_count": null,
      "outputs": [
        {
          "output_type": "execute_result",
          "data": {
            "text/html": [
              "<div>\n",
              "<style scoped>\n",
              "    .dataframe tbody tr th:only-of-type {\n",
              "        vertical-align: middle;\n",
              "    }\n",
              "\n",
              "    .dataframe tbody tr th {\n",
              "        vertical-align: top;\n",
              "    }\n",
              "\n",
              "    .dataframe thead th {\n",
              "        text-align: right;\n",
              "    }\n",
              "</style>\n",
              "<table border=\"1\" class=\"dataframe\">\n",
              "  <thead>\n",
              "    <tr style=\"text-align: right;\">\n",
              "      <th></th>\n",
              "      <th>Unnamed: 0</th>\n",
              "      <th>Unnamed: 0.1</th>\n",
              "      <th>title</th>\n",
              "      <th>topic_idx</th>\n",
              "      <th>data</th>\n",
              "      <th>new_title</th>\n",
              "      <th>new_title1</th>\n",
              "      <th>new_title2</th>\n",
              "      <th>new_title3</th>\n",
              "    </tr>\n",
              "  </thead>\n",
              "  <tbody>\n",
              "    <tr>\n",
              "      <th>0</th>\n",
              "      <td>0</td>\n",
              "      <td>0</td>\n",
              "      <td>인천→핀란드 항공기 결항…휴가철 여행객 분통</td>\n",
              "      <td>4</td>\n",
              "      <td>인천→핀란드 항공기 결항…휴가철 여행객 분통</td>\n",
              "      <td>인천 핀란드 항공기 결항 휴가 철 여행객 분통</td>\n",
              "      <td>인천 핀란드 항공기 결항 휴가 철 여행객 분통</td>\n",
              "      <td>인천 핀란드 항공기 결항 휴가 철 여행객 분통</td>\n",
              "      <td>인천 핀란드 항공기 결항 휴가 여행객 분통</td>\n",
              "    </tr>\n",
              "    <tr>\n",
              "      <th>1</th>\n",
              "      <td>1</td>\n",
              "      <td>1</td>\n",
              "      <td>실리콘밸리 넘어서겠다…구글 15조원 들여 美전역 거점화</td>\n",
              "      <td>4</td>\n",
              "      <td>실리콘밸리 넘어서겠다…구글 15조원 들여  미국 전역 거점화</td>\n",
              "      <td>실리콘밸리 넘어서다 구글 조원 들이다 미국 전역 거점</td>\n",
              "      <td>실리콘밸리 넘어서다 구글 조원 들이다 미국 전역 거점 화</td>\n",
              "      <td>실리콘밸리 넘어서다 구글 조원 들이다 미국 전역 거점</td>\n",
              "      <td>실리콘밸리 넘어서다 구글 조원 들이다 미국 전역 거점</td>\n",
              "    </tr>\n",
              "  </tbody>\n",
              "</table>\n",
              "</div>"
            ],
            "text/plain": [
              "   Unnamed: 0  ...                      new_title3\n",
              "0           0  ...         인천 핀란드 항공기 결항 휴가 여행객 분통\n",
              "1           1  ...   실리콘밸리 넘어서다 구글 조원 들이다 미국 전역 거점\n",
              "\n",
              "[2 rows x 9 columns]"
            ]
          },
          "metadata": {},
          "execution_count": 21
        }
      ]
    },
    {
      "cell_type": "markdown",
      "metadata": {
        "id": "-exWcBDmrQmM"
      },
      "source": [
        "## XY 나누기"
      ]
    },
    {
      "cell_type": "code",
      "metadata": {
        "id": "sGHRDTigRJ5m"
      },
      "source": [
        "x_train = train.title\n",
        "y_train = train.topic_idx\n",
        "x_test = test.title"
      ],
      "execution_count": null,
      "outputs": []
    },
    {
      "cell_type": "markdown",
      "metadata": {
        "id": "k07wHctorSm9"
      },
      "source": [
        "## 데이터 확인 및 길이확인"
      ]
    },
    {
      "cell_type": "code",
      "metadata": {
        "colab": {
          "base_uri": "https://localhost:8080/"
        },
        "id": "qYQ4LwiVWztQ",
        "outputId": "0b83cef7-c540-4e12-d9b9-4e10848f0191"
      },
      "source": [
        "count = 0\n",
        "data = []\n",
        "for i in range(len(x_train)):\n",
        "  if count <len(x_train[i].split()):\n",
        "    count = len(x_train[i].split())\n",
        "    data = x_train[i]\n",
        "count, data"
      ],
      "execution_count": null,
      "outputs": [
        {
          "output_type": "execute_result",
          "data": {
            "text/plain": [
              "(14, ' 주중 N 여행 호남권 달빛 가을 벗 삼아 걸어라…한낮 무더위 피해 즐기는 꿀잼 야행')"
            ]
          },
          "metadata": {},
          "execution_count": 23
        }
      ]
    },
    {
      "cell_type": "markdown",
      "metadata": {
        "id": "WVc9QFXhwnGQ"
      },
      "source": [
        "## 데이터 토크나이져"
      ]
    },
    {
      "cell_type": "code",
      "metadata": {
        "id": "20zrZz-MrTHi"
      },
      "source": [
        "from tensorflow.keras.preprocessing.text import Tokenizer\n",
        "tokenizer = Tokenizer()\n",
        "tokenizer.fit_on_texts(x_train)\n",
        "\n",
        "num_word = 0\n",
        "count = 0\n",
        "\n",
        "for i in tokenizer.word_counts.values(): # 두번이상 나타난 단어\n",
        "  if i >=2:\n",
        "    count +=1\n",
        "    \n",
        "num_word = count +2\n",
        "num_word\n",
        "\n",
        "t = Tokenizer(num_words= num_word)\n",
        "t.fit_on_texts(x_train)\n",
        "s = t.texts_to_sequences(x_train)\n",
        "\n",
        "s_test = t.texts_to_sequences(x_test)"
      ],
      "execution_count": null,
      "outputs": []
    },
    {
      "cell_type": "code",
      "metadata": {
        "colab": {
          "base_uri": "https://localhost:8080/",
          "height": 35
        },
        "id": "nykiiqMGZKRo",
        "outputId": "e0a02092-03fd-4439-fdd4-c95ba2be7c10"
      },
      "source": [
        "x_train[0]"
      ],
      "execution_count": null,
      "outputs": [
        {
          "output_type": "execute_result",
          "data": {
            "application/vnd.google.colaboratory.intrinsic+json": {
              "type": "string"
            },
            "text/plain": [
              "'인천→핀란드 항공기 결항…휴가철 여행객 분통'"
            ]
          },
          "metadata": {},
          "execution_count": 25
        }
      ]
    },
    {
      "cell_type": "code",
      "metadata": {
        "colab": {
          "base_uri": "https://localhost:8080/"
        },
        "id": "uTMtcfNEZGL4",
        "outputId": "9d6f221b-ab56-4b2e-8fdf-96a9cf6c341c"
      },
      "source": [
        "s_test[0]"
      ],
      "execution_count": null,
      "outputs": [
        {
          "output_type": "execute_result",
          "data": {
            "text/plain": [
              "[1152, 93, 14376, 15011, 48, 3142, 235]"
            ]
          },
          "metadata": {},
          "execution_count": 26
        }
      ]
    },
    {
      "cell_type": "markdown",
      "metadata": {
        "id": "K4yXvPJcwk14"
      },
      "source": [
        "## 데이터 패딩"
      ]
    },
    {
      "cell_type": "code",
      "metadata": {
        "id": "RtO-KWUnshH6"
      },
      "source": [
        "from tensorflow.keras.preprocessing.sequence import pad_sequences\n",
        "\n",
        "max_len = max(max(len(l) for l in s), max(len(l) for l in s_test))\n",
        "\n",
        "\n",
        "pad_X_train = pad_sequences(s, maxlen=max_len, padding = 'pre')\n",
        "pad_X_test = pad_sequences(s_test, maxlen=max_len, padding = 'pre')"
      ],
      "execution_count": null,
      "outputs": []
    },
    {
      "cell_type": "code",
      "metadata": {
        "id": "b9o2YujHRkzx"
      },
      "source": [
        "from tensorflow.keras.preprocessing.sequence import pad_sequences\n",
        "max_len = max_len\n",
        "pad_X_train = pad_sequences(s, maxlen=max_len, padding = 'pre')\n",
        "pad_X_test = pad_sequences(s_test, maxlen=max_len, padding = 'pre')"
      ],
      "execution_count": null,
      "outputs": []
    },
    {
      "cell_type": "markdown",
      "metadata": {
        "id": "MIY6PzcCwqKg"
      },
      "source": [
        "## 모델링"
      ]
    },
    {
      "cell_type": "code",
      "metadata": {
        "id": "uwlbyQT5RynA",
        "colab": {
          "base_uri": "https://localhost:8080/"
        },
        "outputId": "00ac3e5f-6639-49c0-8026-f9f2cca168b9"
      },
      "source": [
        "from tensorflow.keras.models import Sequential\n",
        "from tensorflow.keras.layers import Dense, Embedding, Conv1D, LSTM, Dropout\n",
        "\n",
        "model = Sequential()\n",
        "\n",
        "# 이 층은 모델의 제일 첫 번째 층으로만 사용할 수 있습니다.\n",
        "# Flatten 층을 사용하기 위해 input_length를 전달합니다.\n",
        "model.add(Embedding(input_dim = num_word, output_dim = 32, input_length = max_len)) #max_len 22 \n",
        "\n",
        "model.add(LSTM(128, activation='relu',return_sequences=True))\n",
        "model.add(Dropout(0.2))\n",
        "model.add(LSTM(128,activation='relu',return_sequences=True))\n",
        "model.add(Dropout(0.2))\n",
        "model.add(LSTM(64,activation='relu'))\n",
        "model.add(Dropout(0.2))\n",
        "model.add(Dense(7, activation = 'softmax'))\n",
        "\n",
        "model.compile(optimizer='adam',\n",
        "             loss = 'sparse_categorical_crossentropy',\n",
        "             metrics = ['acc'])\n",
        "\n"
      ],
      "execution_count": null,
      "outputs": [
        {
          "output_type": "stream",
          "name": "stdout",
          "text": [
            "WARNING:tensorflow:Layer lstm_3 will not use cuDNN kernels since it doesn't meet the criteria. It will use a generic GPU kernel as fallback when running on GPU.\n"
          ]
        },
        {
          "output_type": "stream",
          "name": "stderr",
          "text": [
            "WARNING:tensorflow:Layer lstm_3 will not use cuDNN kernels since it doesn't meet the criteria. It will use a generic GPU kernel as fallback when running on GPU.\n"
          ]
        },
        {
          "output_type": "stream",
          "name": "stdout",
          "text": [
            "WARNING:tensorflow:Layer lstm_4 will not use cuDNN kernels since it doesn't meet the criteria. It will use a generic GPU kernel as fallback when running on GPU.\n"
          ]
        },
        {
          "output_type": "stream",
          "name": "stderr",
          "text": [
            "WARNING:tensorflow:Layer lstm_4 will not use cuDNN kernels since it doesn't meet the criteria. It will use a generic GPU kernel as fallback when running on GPU.\n"
          ]
        },
        {
          "output_type": "stream",
          "name": "stdout",
          "text": [
            "WARNING:tensorflow:Layer lstm_5 will not use cuDNN kernels since it doesn't meet the criteria. It will use a generic GPU kernel as fallback when running on GPU.\n"
          ]
        },
        {
          "output_type": "stream",
          "name": "stderr",
          "text": [
            "WARNING:tensorflow:Layer lstm_5 will not use cuDNN kernels since it doesn't meet the criteria. It will use a generic GPU kernel as fallback when running on GPU.\n"
          ]
        }
      ]
    },
    {
      "cell_type": "code",
      "metadata": {
        "colab": {
          "base_uri": "https://localhost:8080/"
        },
        "id": "U2kRTDmdJEVt",
        "outputId": "1ff2a033-225a-4947-f183-0a998196da8b"
      },
      "source": [
        "model.summary()"
      ],
      "execution_count": null,
      "outputs": [
        {
          "output_type": "stream",
          "name": "stdout",
          "text": [
            "Model: \"sequential_1\"\n",
            "_________________________________________________________________\n",
            "Layer (type)                 Output Shape              Param #   \n",
            "=================================================================\n",
            "embedding_1 (Embedding)      (None, 14, 32)            1204224   \n",
            "_________________________________________________________________\n",
            "lstm_3 (LSTM)                (None, 14, 128)           82432     \n",
            "_________________________________________________________________\n",
            "dropout_3 (Dropout)          (None, 14, 128)           0         \n",
            "_________________________________________________________________\n",
            "lstm_4 (LSTM)                (None, 14, 128)           131584    \n",
            "_________________________________________________________________\n",
            "dropout_4 (Dropout)          (None, 14, 128)           0         \n",
            "_________________________________________________________________\n",
            "lstm_5 (LSTM)                (None, 64)                49408     \n",
            "_________________________________________________________________\n",
            "dropout_5 (Dropout)          (None, 64)                0         \n",
            "_________________________________________________________________\n",
            "dense_1 (Dense)              (None, 7)                 455       \n",
            "=================================================================\n",
            "Total params: 1,468,103\n",
            "Trainable params: 1,468,103\n",
            "Non-trainable params: 0\n",
            "_________________________________________________________________\n"
          ]
        }
      ]
    },
    {
      "cell_type": "code",
      "metadata": {
        "id": "ZreliHHlhRkY"
      },
      "source": [
        "from sklearn.model_selection import train_test_split\n",
        "\n",
        "X_tn, X_tt, y_tn, y_tt = train_test_split(pad_X_train, y_train, test_size=0.33, random_state=2021)"
      ],
      "execution_count": null,
      "outputs": []
    },
    {
      "cell_type": "code",
      "metadata": {
        "colab": {
          "base_uri": "https://localhost:8080/"
        },
        "id": "wW39SXIwR0BK",
        "outputId": "708f2b43-1fde-4fa4-c28c-952d44b3e62b"
      },
      "source": [
        "import tensorflow as tf\n",
        "import os\n",
        "from tensorflow.keras.callbacks import EarlyStopping, ModelCheckpoint\n",
        "\n",
        "es = EarlyStopping(monitor='val_loss', \n",
        "                   mode='min', verbose=1, patience=10)\n",
        "mc = ModelCheckpoint('/content/drive/MyDrive/data/pjt2/model/rnn/rnn_model.h5', \n",
        "                     monitor='val_acc', mode='max', \n",
        "                     verbose=2, save_best_only=True)\n",
        "\n",
        "history = model.fit(X_tn, y_tn, \n",
        "                    batch_size = 512, \n",
        "                    epochs = 20, \n",
        "                    #callbacks=[es, mc],\n",
        "                    validation_data = (X_tt, y_tt)) # 과적합 발생 "
      ],
      "execution_count": null,
      "outputs": [
        {
          "output_type": "stream",
          "name": "stdout",
          "text": [
            "Epoch 1/20\n",
            "70/70 [==============================] - 8s 76ms/step - loss: 1.8528 - acc: 0.2047 - val_loss: 1.6097 - val_acc: 0.2902\n",
            "Epoch 2/20\n",
            "70/70 [==============================] - 5s 67ms/step - loss: 1.4276 - acc: 0.3622 - val_loss: 1.3317 - val_acc: 0.4339\n",
            "Epoch 3/20\n",
            "70/70 [==============================] - 5s 71ms/step - loss: 1.1258 - acc: 0.5146 - val_loss: 1.2177 - val_acc: 0.5239\n",
            "Epoch 4/20\n",
            "70/70 [==============================] - 5s 68ms/step - loss: 0.7735 - acc: 0.7150 - val_loss: 0.9480 - val_acc: 0.7163\n",
            "Epoch 5/20\n",
            "70/70 [==============================] - 5s 69ms/step - loss: 0.4456 - acc: 0.8579 - val_loss: 0.8156 - val_acc: 0.7423\n",
            "Epoch 6/20\n",
            "70/70 [==============================] - 5s 70ms/step - loss: 0.2985 - acc: 0.9047 - val_loss: 0.8979 - val_acc: 0.7537\n",
            "Epoch 7/20\n",
            "70/70 [==============================] - 5s 71ms/step - loss: 0.2210 - acc: 0.9311 - val_loss: 1.0036 - val_acc: 0.7579\n",
            "Epoch 8/20\n",
            "70/70 [==============================] - 5s 70ms/step - loss: 0.1714 - acc: 0.9478 - val_loss: 1.1672 - val_acc: 0.7558\n",
            "Epoch 9/20\n",
            "70/70 [==============================] - 5s 73ms/step - loss: 0.1380 - acc: 0.9581 - val_loss: 1.0913 - val_acc: 0.7597\n",
            "Epoch 10/20\n",
            "70/70 [==============================] - 5s 69ms/step - loss: 0.1181 - acc: 0.9636 - val_loss: 1.2415 - val_acc: 0.7527\n",
            "Epoch 11/20\n",
            "70/70 [==============================] - 5s 67ms/step - loss: 0.1034 - acc: 0.9677 - val_loss: 1.2612 - val_acc: 0.7593\n",
            "Epoch 12/20\n",
            "70/70 [==============================] - 5s 68ms/step - loss: 0.0892 - acc: 0.9722 - val_loss: 1.3879 - val_acc: 0.7569\n",
            "Epoch 13/20\n",
            "70/70 [==============================] - 5s 69ms/step - loss: 0.0789 - acc: 0.9759 - val_loss: 1.5892 - val_acc: 0.7593\n",
            "Epoch 14/20\n",
            "70/70 [==============================] - 5s 69ms/step - loss: 0.1083 - acc: 0.9725 - val_loss: 0.8068 - val_acc: 0.7335\n",
            "Epoch 15/20\n",
            "70/70 [==============================] - 5s 71ms/step - loss: 0.1950 - acc: 0.9436 - val_loss: 1.2653 - val_acc: 0.7610\n",
            "Epoch 16/20\n",
            "70/70 [==============================] - 5s 69ms/step - loss: 0.0897 - acc: 0.9719 - val_loss: 1.3533 - val_acc: 0.7631\n",
            "Epoch 17/20\n",
            "70/70 [==============================] - 5s 66ms/step - loss: 0.0658 - acc: 0.9786 - val_loss: 1.6238 - val_acc: 0.7592\n",
            "Epoch 18/20\n",
            "70/70 [==============================] - 5s 70ms/step - loss: 0.0569 - acc: 0.9826 - val_loss: 1.7163 - val_acc: 0.7567\n",
            "Epoch 19/20\n",
            "70/70 [==============================] - 5s 67ms/step - loss: 0.0494 - acc: 0.9850 - val_loss: 1.6992 - val_acc: 0.7570\n",
            "Epoch 20/20\n",
            "70/70 [==============================] - 5s 68ms/step - loss: 0.0453 - acc: 0.9860 - val_loss: 1.7777 - val_acc: 0.7585\n"
          ]
        }
      ]
    },
    {
      "cell_type": "markdown",
      "metadata": {
        "id": "Ojuh3yZf1GsB"
      },
      "source": [
        "## 에폭저장된거 불러옴"
      ]
    },
    {
      "cell_type": "code",
      "metadata": {
        "id": "4JAzsliSoR1G"
      },
      "source": [
        "'''\n",
        "model = Sequential()\n",
        "\n",
        "# 이 층은 모델의 제일 첫 번째 층으로만 사용할 수 있습니다.\n",
        "# Flatten 층을 사용하기 위해 input_length를 전달합니다.\n",
        "model.add(Embedding(input_dim = num_word, output_dim = 32, input_length = max_len)) #max_len 22 \n",
        "\n",
        "model.add(LSTM(128, activation='relu',return_sequences=True))\n",
        "model.add(Dropout(0.2))\n",
        "model.add(LSTM(128,activation='relu'))\n",
        "model.add(Dropout(0.2))\n",
        "model.add(Dense(32,activation='relu'))\n",
        "model.add(Dropout(0.2))\n",
        "model.add(Dense(7, activation = 'softmax'))\n",
        "\n",
        "model.compile(optimizer='adam',\n",
        "             loss = 'sparse_categorical_crossentropy',\n",
        "             metrics = ['acc'])\n",
        "\n",
        "latest = tf.train.latest_checkpoint(checkpoint_dir)\n",
        "\n",
        "model.load_weights(latest)\n",
        "model.evaluate(pad_X_train, y_train, verbose=2)\n",
        "'''"
      ],
      "execution_count": null,
      "outputs": []
    },
    {
      "cell_type": "code",
      "metadata": {
        "id": "aJfMlJkDz6cp",
        "colab": {
          "base_uri": "https://localhost:8080/"
        },
        "outputId": "fcd4bf7e-8046-4892-d2d3-902e9dd641ea"
      },
      "source": [
        "model2 = tf.keras.models.load_model('/content/drive/MyDrive/data/pjt2/model/rnn/rnn_model.h5')\n",
        "model2.evaluate(pad_X_train, y_train, verbose=2)"
      ],
      "execution_count": null,
      "outputs": [
        {
          "output_type": "stream",
          "name": "stdout",
          "text": [
            "WARNING:tensorflow:Layer lstm_3 will not use cuDNN kernels since it doesn't meet the criteria. It will use a generic GPU kernel as fallback when running on GPU.\n",
            "WARNING:tensorflow:Layer lstm_4 will not use cuDNN kernels since it doesn't meet the criteria. It will use a generic GPU kernel as fallback when running on GPU.\n",
            "WARNING:tensorflow:Layer lstm_5 will not use cuDNN kernels since it doesn't meet the criteria. It will use a generic GPU kernel as fallback when running on GPU.\n",
            "1669/1669 - 9s - loss: 0.4624 - acc: 0.8633\n"
          ]
        },
        {
          "output_type": "execute_result",
          "data": {
            "text/plain": [
              "[0.4623856842517853, 0.8633222579956055]"
            ]
          },
          "metadata": {},
          "execution_count": 24
        }
      ]
    },
    {
      "cell_type": "code",
      "metadata": {
        "id": "9aDvIveIIEGi",
        "colab": {
          "base_uri": "https://localhost:8080/",
          "height": 350
        },
        "outputId": "14c07308-70b0-4daa-82b9-6cfa6c281d3a"
      },
      "source": [
        "import matplotlib.pyplot as plt\n",
        "\n",
        "his_dict = history.history\n",
        "loss = his_dict['loss']\n",
        "val_loss = his_dict['val_loss'] \n",
        "\n",
        "epochs = range(1, len(loss) + 1)\n",
        "fig = plt.figure(figsize = (10, 5))\n",
        "\n",
        "# 훈련 및 검증 손실 그리기\n",
        "ax1 = fig.add_subplot(1, 2, 1)\n",
        "ax1.plot(epochs, loss, color = 'blue', label = 'train_loss')\n",
        "ax1.plot(epochs, val_loss, color = 'orange', label = 'val_loss')\n",
        "ax1.set_title('train and val loss')\n",
        "ax1.set_xlabel('epochs')\n",
        "ax1.set_ylabel('loss')\n",
        "ax1.legend()\n",
        "\n",
        "acc = his_dict['acc']\n",
        "val_acc = his_dict['val_acc']\n",
        "\n",
        "# 훈련 및 검증 정확도 그리기\n",
        "ax2 = fig.add_subplot(1, 2, 2)\n",
        "ax2.plot(epochs, acc, color = 'blue', label = 'train_acc')\n",
        "ax2.plot(epochs, val_acc, color = 'orange', label = 'val_acc')\n",
        "ax2.set_title('train and val acc')\n",
        "ax2.set_xlabel('epochs')\n",
        "ax2.set_ylabel('acc')\n",
        "ax2.legend()\n",
        "\n",
        "plt.show()"
      ],
      "execution_count": null,
      "outputs": [
        {
          "output_type": "display_data",
          "data": {
            "image/png": "[encoded data removed]",
            "text/plain": [
              "<Figure size 720x360 with 2 Axes>"
            ]
          },
          "metadata": {
            "needs_background": "light"
          }
        }
      ]
    },
    {
      "cell_type": "markdown",
      "metadata": {
        "id": "3aSQr-KuS9jJ"
      },
      "source": [
        "## 예측"
      ]
    },
    {
      "cell_type": "code",
      "metadata": {
        "id": "RbN-pI5vZ_NL"
      },
      "source": [
        "pre =model2.predict(pad_X_test)"
      ],
      "execution_count": null,
      "outputs": []
    },
    {
      "cell_type": "code",
      "metadata": {
        "id": "wc2YqBiOaMTr"
      },
      "source": [
        "pre_index = [np.argmax(i) for i in pre]"
      ],
      "execution_count": null,
      "outputs": []
    },
    {
      "cell_type": "code",
      "metadata": {
        "id": "QFW_9FntaZua"
      },
      "source": [
        "len(pre_index)"
      ],
      "execution_count": null,
      "outputs": []
    },
    {
      "cell_type": "markdown",
      "metadata": {
        "id": "ZitVLlJ8atPD"
      },
      "source": [
        "## sub에 넣기"
      ]
    },
    {
      "cell_type": "code",
      "metadata": {
        "id": "bn_EzpsEaubk"
      },
      "source": [
        "sub_df = pd.read_csv('sample_submission.csv')"
      ],
      "execution_count": null,
      "outputs": []
    },
    {
      "cell_type": "code",
      "metadata": {
        "id": "LU1eKFpWawHj"
      },
      "source": [
        "sub_df['topic_idx'] = pre_index\n",
        "sub_df.to_csv('predict_lstm_final_best4.csv', index=False)"
      ],
      "execution_count": null,
      "outputs": []
    },
    {
      "cell_type": "code",
      "metadata": {
        "id": "gU3yIkfYbYTb"
      },
      "source": [
        "y_train.unique()"
      ],
      "execution_count": null,
      "outputs": []
    },
    {
      "cell_type": "code",
      "metadata": {
        "id": "KobpxnyebUNj"
      },
      "source": [
        "sub_df.topic_idx.unique()"
      ],
      "execution_count": null,
      "outputs": []
    }
  ]
}