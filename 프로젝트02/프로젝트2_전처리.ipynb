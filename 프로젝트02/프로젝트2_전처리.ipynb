{
  "cells": [
    {
      "cell_type": "code",
      "execution_count": 33,
      "metadata": {
        "id": "8tKf7QdfU5Je"
      },
      "outputs": [
        {
          "name": "stderr",
          "output_type": "stream",
          "text": [
            "������ ��θ� ã�� �� �����ϴ�.\n",
            "������ ��θ� ã�� �� �����ϴ�.\n",
            "������ ��θ� ã�� �� �����ϴ�.\n"
          ]
        }
      ],
      "source": [
        "!apt-get update > /dev/null\n",
        "!apt-get install g++ openjdk-8-jdk > /dev/null\n",
        "!pip install konlpy > /dev/nul"
      ]
    },
    {
      "cell_type": "code",
      "execution_count": 1,
      "metadata": {
        "id": "9MIP5LCgIX5C"
      },
      "outputs": [],
      "source": [
        "import pandas as pd\n",
        "from konlpy.tag import Okt\n",
        "import re\n",
        "import numpy as np\n",
        "import pandas as pd\n",
        "okt=Okt()"
      ]
    },
    {
      "cell_type": "code",
      "execution_count": 2,
      "metadata": {
        "id": "fTG_8thUQwKp"
      },
      "outputs": [],
      "source": [
        "train = pd.read_csv('data/train_data.csv')"
      ]
    },
    {
      "cell_type": "code",
      "execution_count": 4,
      "metadata": {},
      "outputs": [],
      "source": [
        "k=[]\n",
        "for i in range(0,len(train)):\n",
        "  a=re.findall('[一-龥]',train['title'][i])\n",
        "  if len(a)!=0:\n",
        "    k.append(a)"
      ]
    },
    {
      "cell_type": "code",
      "execution_count": 5,
      "metadata": {},
      "outputs": [
        {
          "data": {
            "text/plain": [
              "2"
            ]
          },
          "execution_count": 5,
          "metadata": {},
          "output_type": "execute_result"
        }
      ],
      "source": [
        "test = 'asdasda丁與  dasdas丁與'\n",
        "re.search('[一-龥]+[一-龥]',test)\n",
        "len(re.findall('[一-龥]+[一-龥]',test))"
      ]
    },
    {
      "cell_type": "code",
      "execution_count": 6,
      "metadata": {},
      "outputs": [
        {
          "name": "stdout",
          "output_type": "stream",
          "text": [
            "<re.Match object; span=(2, 4), match='丁丁'>\n"
          ]
        },
        {
          "data": {
            "text/plain": [
              "2"
            ]
          },
          "execution_count": 6,
          "metadata": {},
          "output_type": "execute_result"
        }
      ],
      "source": [
        "if re.search('[一-龥]+[^一-龥]','丁 '): \n",
        "    a = re.search('[一-龥]+[一-龥]','丁 丁丁')\n",
        "print(a)\n",
        "\n",
        "len(re.findall('[一-龥]+[^一-龥]','丁한 丁한'))"
      ]
    },
    {
      "cell_type": "code",
      "execution_count": 10,
      "metadata": {},
      "outputs": [],
      "source": [
        "train.title[0][0]\n",
        "\n",
        "#하나씩 읽으면서 거기다가\n",
        "# if 한자면\n",
        "#   if 그 다음글자도 한자면\n",
        "# 따로 따로 분류해서 가지고온뒤\n",
        "#그것에 np.unique() 를 확인하여 한자 고유의 개수를 확인하다\n",
        "temp = []\n",
        "\n",
        "for i in train['title']:\n",
        "    if re.search('[一-龥]+[^一-龥]',i): # 한자 한글자\n",
        "        if len(re.findall('[一-龥]+[^一-龥]',i)) == 1: # 한글자 읽어온게 해당 title에 하나일때\n",
        "            temp.append(str(re.findall('[一-龥]+[^一-龥]',i)[0][0]))\n",
        "        else:  # 한글자 읽어온게 해당 타이틀에 2개 이상일때\n",
        "            for j in range(len(re.findall('[一-龥]+[^一-龥]',i))):\n",
        "                temp.append(str(re.findall('[一-龥]+[^一-龥]',i)[j][0]))\n",
        "    if re.search('[一-龥]+[一-龥]',i): # 한자 두글자 연속 \n",
        "                if len(re.findall('[一-龥]+[一-龥]',i)) < 2: # 두글자 연속 나오는게 하나일때\n",
        "                    temp.append(str(re.findall('[一-龥]+[一-龥]',i)))\n",
        "                else: # 두글자 연속 나오는게 두개 이상일때\n",
        "                    for j in range(len(re.findall('[一-龥]+[^一-龥]',i))):\n",
        "                        temp.append(str(re.findall('[一-龥]+[一-龥]',i)[j]))\n",
        "                        "
      ]
    },
    {
      "cell_type": "code",
      "execution_count": 11,
      "metadata": {},
      "outputs": [
        {
          "data": {
            "text/plain": [
              "(array([\"['三色']\", \"['中企']\", \"['中日']\", \"['令和']\", \"['分黨']\", \"['北中']\",\n",
              "        \"['北核']\", \"['北美']\", \"['北軍']\", \"['北風']\", \"['南南']\", \"['印尼']\",\n",
              "        \"['反中']\", \"['反北']\", \"['四體']\", \"['在伊']\", \"['外人']\", \"['大寒']\",\n",
              "        \"['大戰']\", \"['安千']\", \"['安孫']\", \"['對中']\", \"['對美']\", \"['對野']\",\n",
              "        \"['巨野']\", \"['文安']\", \"['書香萬里']\", \"['最古']\", \"['朴心']\", \"['氷魚']\",\n",
              "        \"['潘風']\", \"['獨佛']\", \"['眞朴']\", \"['破七']\", \"['社告']\", \"['神仙']\",\n",
              "        \"['私黨']\", \"['空約']\", \"['童心']\", \"['美中']\", \"['美中日']\", \"['美北']\",\n",
              "        \"['美日']\", \"['美英佛']\", \"['與野']\", \"['花煎']\", \"['英佛']\", \"['西海']\",\n",
              "        \"['親朴']\", \"['詩人']\", \"['邪敎']\", \"['醫政']\", \"['靑檢']\", \"['靑野']\",\n",
              "        \"['韓中']\", \"['韓中日']\", \"['韓日']\", \"['韓美']\", \"['駐英']\", \"['高法']\",\n",
              "        \"['黃心']\", '丁', '三', '中', '中美', '乙', '亞', '人', '代', '令', '伊', '佛',\n",
              "        '備', '先', '內', '全', '分', '前', '北', '北中', '千', '協', '南', '印', '反',\n",
              "        '反文', '史', '和', '四', '在', '外', '大', '妻', '委', '子', '孫', '安', '安千',\n",
              "        '家', '富', '對', '對韓', '小', '尹', '展', '山', '島', '崔', '州', '巨', '市',\n",
              "        '式', '弗', '强', '後', '情', '惡', '故', '文', '料', '新', '新黨', '日', '日人',\n",
              "        '書', '曺', '月', '朴', '株', '核', '案', '機', '檢', '比', '氣', '氷', '江',\n",
              "        '法', '洪', '港', '湖', '潘', '無', '燈', '父', '獨', '王', '現', '生', '申',\n",
              "        '男', '發', '百', '眞', '眞朴', '知', '破', '硏', '社', '神', '禹', '私', '秋',\n",
              "        '稅', '空', '童', '美', '脫', '臺', '與', '舊', '色', '花', '英', '茶', '號',\n",
              "        '行', '西', '親', '詩', '誌', '說', '論', '證', '賞', '趙', '車', '軍', '通',\n",
              "        '道', '邪', '鄭', '酒', '醫', '重', '野', '金', '銀', '銅', '阿', '院', '靑',\n",
              "        '非', '非文', '非朴', '韓', '風', '駐', '高', '黃', '黨'], dtype='<U8'),\n",
              " array([   1,   14,    2,    1,    3,    3,    1,    4,    1,    2,    1,\n",
              "           2,    2,    1,    1,    1,    5,    1,    2,    1,    1,    1,\n",
              "           1,    3,    2,    3,    2,    1,    2,    1,    1,    1,    1,\n",
              "           1,    2,    1,    1,    1,    1,    5,    3,    1,    1,    1,\n",
              "           4,    1,    1,    1,    1,    1,    1,    1,    1,    1,    3,\n",
              "           1,    3,    2,    8,    1,    1,    3,    1,  775,    1,    1,\n",
              "          23,    4,    3,    1,  126,   89,    1,    7,    1,    3,    3,\n",
              "          95, 1326,    2,    5,    2,   36,    8,   54,    1,    1,    1,\n",
              "           1,    1,    6,    7,    1,    7,    1,   13,   60,    1,    6,\n",
              "           2,   21,    1,    1,    2,    5,    1,    1,    4,    4,    2,\n",
              "           1,    1,    8,    1,    4,    1,    2,   25,  181,    1,   17,\n",
              "           1,  457,    1,    2,   11,    5,  657,   18,    2,    2,    1,\n",
              "          72,   12,    2,    1,    1,    6,    2,    1,    1,    8,    7,\n",
              "           2,    3,  138,    1,    1,    1,    2,   11,    7,    6,    2,\n",
              "           1,    1,    1,   27,    4,    1,   11,    1,    9,    1,    1,\n",
              "           1, 1490,    3,    1,  291,    1,    3,    1,  276,    1,   12,\n",
              "          35,    1,   13,   11,    1,    1,    2,    7,    1,    1,   14,\n",
              "          68,    1,    1,    1,    1,    1,    1,   18,  170,   12,   19,\n",
              "           2,    2,    2,  381,    3,    1,    1,  108,    2,    8,    3,\n",
              "          16,    8], dtype=int64))"
            ]
          },
          "execution_count": 11,
          "metadata": {},
          "output_type": "execute_result"
        }
      ],
      "source": [
        "np.unique(temp, return_counts=True) #모든 한자와 한자수"
      ]
    },
    {
      "cell_type": "code",
      "execution_count": 12,
      "metadata": {},
      "outputs": [],
      "source": [
        "df_temp = pd.DataFrame(np.unique(temp, return_counts=True)).T"
      ]
    },
    {
      "cell_type": "code",
      "execution_count": 13,
      "metadata": {},
      "outputs": [],
      "source": [
        "df_temp.columns = ['한자', '개수']\n",
        "import matplotlib.pyplot as plt\n",
        "import matplotlib as mpl\n",
        "mpl.rcParams['axes.unicode_minus'] = False\n",
        "plt.rc('font', family='Malgun Gothic')"
      ]
    },
    {
      "cell_type": "code",
      "execution_count": 35,
      "metadata": {},
      "outputs": [],
      "source": [
        "df = pd.read_csv('data/한자2.csv', encoding='euc-kr')\n",
        "df.dropna(inplace=True)\n"
      ]
    },
    {
      "cell_type": "code",
      "execution_count": 38,
      "metadata": {},
      "outputs": [
        {
          "data": {
            "text/plain": [
              "123"
            ]
          },
          "execution_count": 38,
          "metadata": {},
          "output_type": "execute_result"
        }
      ],
      "source": [
        "df.isna().sum()\n",
        "len(df)"
      ]
    },
    {
      "cell_type": "code",
      "execution_count": 39,
      "metadata": {},
      "outputs": [
        {
          "ename": "KeyError",
          "evalue": "20",
          "output_type": "error",
          "traceback": [
            "\u001b[1;31m---------------------------------------------------------------------------\u001b[0m",
            "\u001b[1;31mKeyError\u001b[0m                                  Traceback (most recent call last)",
            "\u001b[1;32m~\\anaconda3\\lib\\site-packages\\pandas\\core\\indexes\\base.py\u001b[0m in \u001b[0;36mget_loc\u001b[1;34m(self, key, method, tolerance)\u001b[0m\n\u001b[0;32m   3360\u001b[0m             \u001b[1;32mtry\u001b[0m\u001b[1;33m:\u001b[0m\u001b[1;33m\u001b[0m\u001b[1;33m\u001b[0m\u001b[0m\n\u001b[1;32m-> 3361\u001b[1;33m                 \u001b[1;32mreturn\u001b[0m \u001b[0mself\u001b[0m\u001b[1;33m.\u001b[0m\u001b[0m_engine\u001b[0m\u001b[1;33m.\u001b[0m\u001b[0mget_loc\u001b[0m\u001b[1;33m(\u001b[0m\u001b[0mcasted_key\u001b[0m\u001b[1;33m)\u001b[0m\u001b[1;33m\u001b[0m\u001b[1;33m\u001b[0m\u001b[0m\n\u001b[0m\u001b[0;32m   3362\u001b[0m             \u001b[1;32mexcept\u001b[0m \u001b[0mKeyError\u001b[0m \u001b[1;32mas\u001b[0m \u001b[0merr\u001b[0m\u001b[1;33m:\u001b[0m\u001b[1;33m\u001b[0m\u001b[1;33m\u001b[0m\u001b[0m\n",
            "\u001b[1;32m~\\anaconda3\\lib\\site-packages\\pandas\\_libs\\index.pyx\u001b[0m in \u001b[0;36mpandas._libs.index.IndexEngine.get_loc\u001b[1;34m()\u001b[0m\n",
            "\u001b[1;32m~\\anaconda3\\lib\\site-packages\\pandas\\_libs\\index.pyx\u001b[0m in \u001b[0;36mpandas._libs.index.IndexEngine.get_loc\u001b[1;34m()\u001b[0m\n",
            "\u001b[1;32mpandas\\_libs\\hashtable_class_helper.pxi\u001b[0m in \u001b[0;36mpandas._libs.hashtable.Int64HashTable.get_item\u001b[1;34m()\u001b[0m\n",
            "\u001b[1;32mpandas\\_libs\\hashtable_class_helper.pxi\u001b[0m in \u001b[0;36mpandas._libs.hashtable.Int64HashTable.get_item\u001b[1;34m()\u001b[0m\n",
            "\u001b[1;31mKeyError\u001b[0m: 20",
            "\nThe above exception was the direct cause of the following exception:\n",
            "\u001b[1;31mKeyError\u001b[0m                                  Traceback (most recent call last)",
            "\u001b[1;32m<ipython-input-39-b173ff7f845e>\u001b[0m in \u001b[0;36m<module>\u001b[1;34m\u001b[0m\n\u001b[0;32m      1\u001b[0m \u001b[1;32mfor\u001b[0m \u001b[0mi\u001b[0m \u001b[1;32min\u001b[0m \u001b[0mrange\u001b[0m\u001b[1;33m(\u001b[0m\u001b[0mlen\u001b[0m\u001b[1;33m(\u001b[0m\u001b[0mdf\u001b[0m\u001b[1;33m)\u001b[0m\u001b[1;33m)\u001b[0m\u001b[1;33m:\u001b[0m\u001b[1;33m\u001b[0m\u001b[1;33m\u001b[0m\u001b[0m\n\u001b[1;32m----> 2\u001b[1;33m     \u001b[0mdic\u001b[0m \u001b[1;33m=\u001b[0m \u001b[1;33m{\u001b[0m\u001b[0mdf\u001b[0m\u001b[1;33m.\u001b[0m\u001b[0m한자\u001b[0m\u001b[1;33m[\u001b[0m\u001b[0mi\u001b[0m\u001b[1;33m]\u001b[0m\u001b[1;33m:\u001b[0m\u001b[0mdf\u001b[0m\u001b[1;33m[\u001b[0m\u001b[1;34m'번역'\u001b[0m\u001b[1;33m]\u001b[0m\u001b[1;33m[\u001b[0m\u001b[0mi\u001b[0m\u001b[1;33m]\u001b[0m\u001b[1;33m}\u001b[0m\u001b[1;33m\u001b[0m\u001b[1;33m\u001b[0m\u001b[0m\n\u001b[0m",
            "\u001b[1;32m~\\anaconda3\\lib\\site-packages\\pandas\\core\\series.py\u001b[0m in \u001b[0;36m__getitem__\u001b[1;34m(self, key)\u001b[0m\n\u001b[0;32m    940\u001b[0m \u001b[1;33m\u001b[0m\u001b[0m\n\u001b[0;32m    941\u001b[0m         \u001b[1;32melif\u001b[0m \u001b[0mkey_is_scalar\u001b[0m\u001b[1;33m:\u001b[0m\u001b[1;33m\u001b[0m\u001b[1;33m\u001b[0m\u001b[0m\n\u001b[1;32m--> 942\u001b[1;33m             \u001b[1;32mreturn\u001b[0m \u001b[0mself\u001b[0m\u001b[1;33m.\u001b[0m\u001b[0m_get_value\u001b[0m\u001b[1;33m(\u001b[0m\u001b[0mkey\u001b[0m\u001b[1;33m)\u001b[0m\u001b[1;33m\u001b[0m\u001b[1;33m\u001b[0m\u001b[0m\n\u001b[0m\u001b[0;32m    943\u001b[0m \u001b[1;33m\u001b[0m\u001b[0m\n\u001b[0;32m    944\u001b[0m         \u001b[1;32mif\u001b[0m \u001b[0mis_hashable\u001b[0m\u001b[1;33m(\u001b[0m\u001b[0mkey\u001b[0m\u001b[1;33m)\u001b[0m\u001b[1;33m:\u001b[0m\u001b[1;33m\u001b[0m\u001b[1;33m\u001b[0m\u001b[0m\n",
            "\u001b[1;32m~\\anaconda3\\lib\\site-packages\\pandas\\core\\series.py\u001b[0m in \u001b[0;36m_get_value\u001b[1;34m(self, label, takeable)\u001b[0m\n\u001b[0;32m   1049\u001b[0m \u001b[1;33m\u001b[0m\u001b[0m\n\u001b[0;32m   1050\u001b[0m         \u001b[1;31m# Similar to Index.get_value, but we do not fall back to positional\u001b[0m\u001b[1;33m\u001b[0m\u001b[1;33m\u001b[0m\u001b[1;33m\u001b[0m\u001b[0m\n\u001b[1;32m-> 1051\u001b[1;33m         \u001b[0mloc\u001b[0m \u001b[1;33m=\u001b[0m \u001b[0mself\u001b[0m\u001b[1;33m.\u001b[0m\u001b[0mindex\u001b[0m\u001b[1;33m.\u001b[0m\u001b[0mget_loc\u001b[0m\u001b[1;33m(\u001b[0m\u001b[0mlabel\u001b[0m\u001b[1;33m)\u001b[0m\u001b[1;33m\u001b[0m\u001b[1;33m\u001b[0m\u001b[0m\n\u001b[0m\u001b[0;32m   1052\u001b[0m         \u001b[1;32mreturn\u001b[0m \u001b[0mself\u001b[0m\u001b[1;33m.\u001b[0m\u001b[0mindex\u001b[0m\u001b[1;33m.\u001b[0m\u001b[0m_get_values_for_loc\u001b[0m\u001b[1;33m(\u001b[0m\u001b[0mself\u001b[0m\u001b[1;33m,\u001b[0m \u001b[0mloc\u001b[0m\u001b[1;33m,\u001b[0m \u001b[0mlabel\u001b[0m\u001b[1;33m)\u001b[0m\u001b[1;33m\u001b[0m\u001b[1;33m\u001b[0m\u001b[0m\n\u001b[0;32m   1053\u001b[0m \u001b[1;33m\u001b[0m\u001b[0m\n",
            "\u001b[1;32m~\\anaconda3\\lib\\site-packages\\pandas\\core\\indexes\\base.py\u001b[0m in \u001b[0;36mget_loc\u001b[1;34m(self, key, method, tolerance)\u001b[0m\n\u001b[0;32m   3361\u001b[0m                 \u001b[1;32mreturn\u001b[0m \u001b[0mself\u001b[0m\u001b[1;33m.\u001b[0m\u001b[0m_engine\u001b[0m\u001b[1;33m.\u001b[0m\u001b[0mget_loc\u001b[0m\u001b[1;33m(\u001b[0m\u001b[0mcasted_key\u001b[0m\u001b[1;33m)\u001b[0m\u001b[1;33m\u001b[0m\u001b[1;33m\u001b[0m\u001b[0m\n\u001b[0;32m   3362\u001b[0m             \u001b[1;32mexcept\u001b[0m \u001b[0mKeyError\u001b[0m \u001b[1;32mas\u001b[0m \u001b[0merr\u001b[0m\u001b[1;33m:\u001b[0m\u001b[1;33m\u001b[0m\u001b[1;33m\u001b[0m\u001b[0m\n\u001b[1;32m-> 3363\u001b[1;33m                 \u001b[1;32mraise\u001b[0m \u001b[0mKeyError\u001b[0m\u001b[1;33m(\u001b[0m\u001b[0mkey\u001b[0m\u001b[1;33m)\u001b[0m \u001b[1;32mfrom\u001b[0m \u001b[0merr\u001b[0m\u001b[1;33m\u001b[0m\u001b[1;33m\u001b[0m\u001b[0m\n\u001b[0m\u001b[0;32m   3364\u001b[0m \u001b[1;33m\u001b[0m\u001b[0m\n\u001b[0;32m   3365\u001b[0m         \u001b[1;32mif\u001b[0m \u001b[0mis_scalar\u001b[0m\u001b[1;33m(\u001b[0m\u001b[0mkey\u001b[0m\u001b[1;33m)\u001b[0m \u001b[1;32mand\u001b[0m \u001b[0misna\u001b[0m\u001b[1;33m(\u001b[0m\u001b[0mkey\u001b[0m\u001b[1;33m)\u001b[0m \u001b[1;32mand\u001b[0m \u001b[1;32mnot\u001b[0m \u001b[0mself\u001b[0m\u001b[1;33m.\u001b[0m\u001b[0mhasnans\u001b[0m\u001b[1;33m:\u001b[0m\u001b[1;33m\u001b[0m\u001b[1;33m\u001b[0m\u001b[0m\n",
            "\u001b[1;31mKeyError\u001b[0m: 20"
          ]
        }
      ],
      "source": [
        "dic = {}\n",
        "for i in range(len(df)):\n",
        "    dic = {df.한자[i]:df['번역'][i]}"
      ]
    },
    {
      "cell_type": "code",
      "execution_count": 16,
      "metadata": {},
      "outputs": [
        {
          "data": {
            "text/plain": [
              "211"
            ]
          },
          "execution_count": 16,
          "metadata": {},
          "output_type": "execute_result"
        }
      ],
      "source": [
        "len(df_temp)"
      ]
    },
    {
      "cell_type": "code",
      "execution_count": 36,
      "metadata": {
        "colab": {
          "base_uri": "https://localhost:8080/"
        },
        "id": "TTyr59JwVsMM",
        "outputId": "70768765-9352-43ef-d99f-a87255cbaf76"
      },
      "outputs": [
        {
          "name": "stderr",
          "output_type": "stream",
          "text": [
            "<ipython-input-36-bb6d81ea0eb5>:42: SettingWithCopyWarning: \n",
            "A value is trying to be set on a copy of a slice from a DataFrame\n",
            "\n",
            "See the caveats in the documentation: https://pandas.pydata.org/pandas-docs/stable/user_guide/indexing.html#returning-a-view-versus-a-copy\n",
            "  train['data'][i] = text\n"
          ]
        }
      ],
      "source": [
        "## 전체 한자 확인 등장 빈도 확인 \n",
        "k=[]\n",
        "for i in range(0,len(train)):\n",
        "  a=re.findall('[一-龥]',train['title'][i])\n",
        "  if len(a)!=0:\n",
        "    k=[*k,*a]\n",
        "\n",
        "## 상위 35개 확인\n",
        "#Counter(k).most_common()[:35]\n",
        "\n",
        "\n",
        "\n",
        "## 한자 => 한글 dictionary 만들기\n",
        "dic = { '中企':' 중소기업 ', '美':' 미국 ', '北':' 북한 ', '中':' 중국 ', '朴':' 박근혜 ', '日':' 일본 ', '靑':' 청와대 ', '與':' 여당 ', \n",
        "       '英':' 영국 ', '文':' 문재인 ', '野':' 야당 ', '獨':' 독일 ', '伊':' 이탈리아 ', '韓':' 한국 ', '前':' 이전 ',\n",
        "       '佛':' 프랑스 ', '檢':' 검찰 ', '軍':' 군대 ', '安':' 안철수 ', '反':'반' , '行':'행', '南':'한국', '硏':' 연구원 ',\n",
        "       '故': ' 고인 ',  '外人': ' 외국사람 ', '亞':' 아시아 ', '對':' 대하다 ', '展':' 전시회 ', '重': ' 중공업 ',\n",
        "       '株':' 주식 ', '新': ' 새로운 ', '黃':' 황교안 ', '詩':' 시 ', '車':' 자동차 '}\n",
        "\n",
        "# '反':'반' => 반정부 같은 곳에 쓰이므로, 앞 뒤 띄어쓰기 적용안함\n",
        "# '行':'행' => 뉴욕행 같은 곳에 쓰이므로, 앞 뒤 띄어쓰기 적용한함\n",
        "# '外' => '外人'을 제외하고 기사에서 의미 있지 않다고 판단하여 처리하지 않음 (ex,공연소식 런던심포니 트럼펫 수석 내한 外)\n",
        "# '銀' => 은행, 은메달 두가지 의미로 사용되어 처리하지 않음\n",
        "# '中企' => 이것을 처리하고 '中':' 중국 '으로 처리해야하기 때문에 제일 먼저 적용\n",
        "\n",
        "\n",
        "\n",
        "## 한자 => 한글로 바꾸는 함수 생성\n",
        "def chinese_to_kor(text):\n",
        "  for i, j in dic.items():\n",
        "    text = text.replace(i, j)\n",
        "  return text\n",
        "\n",
        "\n",
        "\n",
        "## 'data' 컬럼을 만들어서 한글 변환한 값 저장\n",
        "train['data'] = '.'\n",
        "\n",
        "for i in range(len(train)):\n",
        "  text = train['title'][i]\n",
        "  text = chinese_to_kor(text)\n",
        "  train['data'][i] = text"
      ]
    },
    {
      "cell_type": "code",
      "execution_count": 37,
      "metadata": {
        "id": "bZnYPYZLQ6Ot"
      },
      "outputs": [],
      "source": [
        "title = []\n",
        "for i in range(len(train['data'])):\n",
        "  x = train['data'][i]\n",
        "  x = re.sub(\"[^가-힣ㄱ-ㅎㅏ-ㅣa-zA-Z ]\",\" \", x)\n",
        "  title.append(x)\n",
        "train['data2'] = title"
      ]
    },
    {
      "cell_type": "code",
      "execution_count": 38,
      "metadata": {},
      "outputs": [],
      "source": [
        "data3 = []\n",
        "for s in title:\n",
        "  morphs = okt.morphs(s)\n",
        "  temp_str = ' '.join(word for word in morphs)\n",
        "  data3.append(temp_str)"
      ]
    },
    {
      "cell_type": "code",
      "execution_count": 39,
      "metadata": {},
      "outputs": [],
      "source": [
        "train['data_okt'] = data3"
      ]
    },
    {
      "cell_type": "code",
      "execution_count": 40,
      "metadata": {},
      "outputs": [],
      "source": [
        "#data_nous = [] # 명사만\n",
        "#for s in title:\n",
        "#  morphs = okt.nouns(s)\n",
        "#  temp_str = ' '.join(word for word in morphs)\n",
        "#  data_nous.append(temp_str)\n",
        "#train['data_nous'] = data_nous"
      ]
    },
    {
      "cell_type": "code",
      "execution_count": 41,
      "metadata": {
        "id": "kc0JVshDRBoN"
      },
      "outputs": [],
      "source": [
        "sdf = pd.read_csv('data/한국어불용어100.txt', sep='\\s+', header=None)\n",
        "stopwords1 = sdf[0].tolist()"
      ]
    },
    {
      "cell_type": "code",
      "execution_count": 42,
      "metadata": {
        "id": "M3S_Kt6XV3kA"
      },
      "outputs": [],
      "source": [
        "a = '아 휴 아이구 아이쿠 아이고 어 나 우리 저희 따라 의해 을 를 에 의 가 으로 로 에게 뿐이다 의거하여 근거하여 입각하여 기준으로 예하면 예를 들면 예를 들자면 저 소인 소생 저희 지말고 하지마 하지마라 다른 물론 또한 그리고 비길수 없다 해서는 안된다 뿐만 아니라 만이 아니다 만은 아니다 막론하고 관계없이 그치지 않다 그러나 그런데 하지만 든간에 논하지 않다 따지지 않다 설사 비록 더라도 아니면 만 못하다 하는 편이 낫다 불문하고 향하여 향해서 향하다 쪽으로 틈타 이용하여 타다 오르다 제외하고 이 외에 이 밖에 하여야 비로소 한다면 몰라도 외에도 이곳 여기 부터 기점으로 따라서 할 생각이다 하려고하다 이리하여 그리하여 그렇게 함으로써 하지만 일때 할때 앞에서 중에서 보는데서 으로써 로써 까지 해야한다 일것이다 반드시 할줄알다 할수있다 할수있어 임에 틀림없다 한다면 등 등등 제 겨우 단지 다만 할뿐 딩동 댕그 대해서 대하여 대하면 훨씬 얼마나 얼마만큼 얼마큼 남짓 여 얼마간 약간 다소 좀 조금 다수 몇 얼마 지만 하물며 또한 그러나 그렇지만 하지만 이외에도 대해 말하자면 뿐이다 다음에 반대로 반대로 말하자면 이와 반대로 바꾸어서 말하면 바꾸어서 한다면 만약 그렇지않으면 까악 툭 딱 삐걱거리다 보드득 비걱거리다 꽈당 응당 해야한다 에 가서 각 각각 여러분 각종 각자 제각기 하도록하다 와 과 그러므로 그래서 고로 한 까닭에 하기 때문에 거니와 이지만 대하여 관하여 관한 과연 실로 아니나다를가 생각한대로 진짜로 한적이있다 하곤하였다 하 하하 허허 아하 거바 와 오 왜 어째서 무엇때문에 어찌 하겠는가 무슨 어디 어느곳 더군다나 하물며 더욱이는 어느때 언제 야 이봐 어이 여보시오 흐흐 흥 휴 헉헉 헐떡헐떡 영차 여차 어기여차 끙끙 아야 앗 아야 콸콸 졸졸 좍좍 뚝뚝 주룩주룩 솨 우르르 그래도 또 그리고 바꾸어말하면 바꾸어말하자면 혹은 혹시 답다 및 그에 따르는 때가 되어 즉 지든지 설령 가령 하더라도 할지라도 일지라도 지든지 몇 거의 하마터면 인젠 이젠 된바에야 된이상 만큼 어찌됏든 그위에 게다가 점에서 보아 비추어 보아 고려하면 하게될것이다 일것이다 비교적 좀 보다더 비하면 시키다 하게하다 할만하다 의해서 연이서 이어서 잇따라 뒤따라 뒤이어 결국 의지하여 기대여 통하여 자마자 더욱더 불구하고 얼마든지 마음대로 주저하지 않고 곧 즉시 바로 당장 하자마자 밖에 안된다 하면된다 그래 그렇지 요컨대 다시 말하자면 바꿔 말하면 즉 구체적으로 말하자면 시작하여 시초에 이상 허 헉 허걱 바와같이 해도좋다 해도된다 게다가 더구나 하물며 와르르 팍 퍽 펄렁 동안 이래 하고있었다 이었다 에서 로부터 까지 예하면 했어요 해요 함께 같이 더불어 마저 마저도 양자 모두 습니다 가까스로 하려고하다 즈음하여 다른 다른 방면으로 해봐요 습니까 했어요 말할것도 없고 무릎쓰고 개의치않고 하는것만 못하다 하는것이 낫다 매 매번 들 모 어느것 어느 로써 갖고말하자면 어디 어느쪽 어느것 어느해 어느 년도 라 해도 언젠가 어떤것 어느것 저기 저쪽 저것 그때 그럼 그러면 요만한걸 그래 그때 저것만큼 그저 이르기까지 할 줄 안다 할 힘이 있다 너 너희 당신 어찌 설마 차라리 할지언정 할지라도 할망정 할지언정 구토하다 게우다 토하다 메쓰겁다 옆사람 퉤 쳇 의거하여 근거하여 의해 따라 힘입어 그 다음 버금 두번째로 기타 첫번째로 나머지는 그중에서 견지에서 형식으로 쓰여 입장에서 위해서 단지 의해되다 하도록시키다 뿐만아니라 반대로 전후 전자 앞의것 잠시 잠깐 하면서 그렇지만 다음에 그러한즉 그런즉 남들 아무거나 어찌하든지 같다 비슷하다 예컨대 이럴정도로 어떻게 만약 만일 위에서 서술한바와같이 인 듯하다 하지 않는다면 만약에 무엇 무슨 어느 어떤 아래윗 조차 한데 그럼에도 불구하고 여전히 심지어 까지도 조차도 하지 않도록 않기 위하여 때 시각 무렵 시간 동안 어때 어떠한 하여금 네 예 우선 누구 누가 알겠는가 아무도 줄은모른다 줄은 몰랏다 하는 김에 겸사겸사 하는바 그런 까닭에 한 이유는 그러니 그러니까 때문에 그 너희 그들 너희들 타인 것 것들 너 위하여 공동으로 동시에 하기 위하여 어찌하여 무엇때문에 붕붕 윙윙 나 우리 엉엉 휘익 윙윙 오호 아하 어쨋든 만 못하다 하기보다는 차라리 하는 편이 낫다 흐흐 놀라다 상대적으로 말하자면 마치 아니라면 쉿 그렇지 않으면 그렇지 않다면 안 그러면 아니었다면 하든지 아니면 이라면 좋아 알았어 하는것도 그만이다 어쩔수 없다 하나 일 일반적으로 일단 한켠으로는 오자마자 이렇게되면 이와같다면 전부 한마디 한항목 근거로 하기에 아울러 하지 않도록 않기 위해서 이르기까지 이 되다 로 인하여 까닭으로 이유만으로 이로 인하여 그래서 이 때문에 그러므로 그런 까닭에 알 수 있다 결론을 낼 수 있다 으로 인하여 있다 어떤것 관계가 있다 관련이 있다 연관되다 어떤것들 에 대해 이리하여 그리하여 여부 하기보다는 하느니 하면 할수록 운운 이러이러하다 하구나 하도다 다시말하면 다음으로 에 있다 에 달려 있다 우리 우리들 오히려 하기는한데 어떻게 어떻해 어찌됏어 어때 어째서 본대로 자 이 이쪽 여기 이것 이번 이렇게말하자면 이런 이러한 이와 같은 요만큼 요만한 것 얼마 안 되는 것 이만큼 이 정도의 이렇게 많은 것 이와 같다 이때 이렇구나 것과 같이 끼익 삐걱 따위 와 같은 사람들 부류의 사람들 왜냐하면 중의하나 오직 오로지 에 한하다 하기만 하면 도착하다 까지 미치다 도달하다 정도에 이르다 할 지경이다 결과에 이르다 관해서는 여러분 하고 있다 한 후 혼자 자기 자기집 자신 우에 종합한것과같이 총적으로 보면 총적으로 말하면 총적으로 대로 하다 으로서 참 그만이다 할 따름이다 쿵 탕탕 쾅쾅 둥둥 봐 봐라 아이야 아니 와아 응 아이 참나 년 월 일 령 영 일 이 삼 사 오 육 륙 칠 팔 구 이천육 이천칠 이천팔 이천구 하나 둘 셋 넷 다섯 여섯 일곱 여덟 아홉 령 영 이 있 하 것 들 그 되 수 이 보 않 없 나 사람 주 아니 등 같 우리 때 년 가 한 지 대하 오 말 일 그렇 위하 때문 그것 두 말하 알 그러나 받 못하 일 그런 또 문제 더 사회 많 그리고 좋 크 따르 중 나오 가지 씨 시키 만들 지금 생각하 그러 속 하나 집 살 모르 적 월 데 자신 안 어떤 내 내 경우 명 생각 시간 그녀 다시 이런 앞 보이 번 나 다른 어떻 여자 개 전 들 사실 이렇 점 싶 말 정도 좀 원 잘 통하 놓 '.split()\n",
        "stopwords2 = stopwords1 + a\n",
        "stopwords2 = set(stopwords2)"
      ]
    },
    {
      "cell_type": "code",
      "execution_count": 43,
      "metadata": {
        "id": "puBFGcDRU4hm"
      },
      "outputs": [],
      "source": [
        "new_title_600 = []    # 불용어 600개정도\n",
        "for s in title:\n",
        "  morphs = okt.morphs(s)\n",
        "  temp_str = ' '.join(word for word in morphs if word not in stopwords2)\n",
        "  new_title_600.append(temp_str)\n",
        "\n",
        "train['new_title_600'] = new_title_600\n",
        "  ## 불용어 통해서 띄어쓰기 발생함"
      ]
    },
    {
      "cell_type": "code",
      "execution_count": 44,
      "metadata": {},
      "outputs": [],
      "source": [
        "new_title_600_stem = []    # 불용어 600개정도\n",
        "for s in title:\n",
        "  morphs = okt.morphs(s, stem=True)\n",
        "  temp_str = ' '.join(word for word in morphs if word not in stopwords2)\n",
        "  new_title_600_stem.append(temp_str)\n",
        "\n",
        "train['new_title_600_stem'] = new_title_600_stem\n",
        "  ## 불용어 통해서 띄어쓰기 발생함"
      ]
    },
    {
      "cell_type": "code",
      "execution_count": 45,
      "metadata": {
        "id": "cNBXccEdYqM2"
      },
      "outputs": [
        {
          "data": {
            "text/plain": [
              "\"\\nnew_title_100 = []       # 불용어 100개만 가지고 돌린것\\nfor s in title:\\n  morphs = okt.morphs(s, stem=True)\\n  temp_str = ' '.join(word for word in morphs if word not in stopwords1)\\n  new_title_100.append(temp_str)\\n\\ntrain['new_title_100'] = new_title_100\\n  ## 불용어 통해서 띄어쓰기가 발생함\\n\""
            ]
          },
          "execution_count": 45,
          "metadata": {},
          "output_type": "execute_result"
        }
      ],
      "source": [
        "'''\n",
        "new_title_100 = []       # 불용어 100개만 가지고 돌린것\n",
        "for s in title:\n",
        "  morphs = okt.morphs(s, stem=True)\n",
        "  temp_str = ' '.join(word for word in morphs if word not in stopwords1)\n",
        "  new_title_100.append(temp_str)\n",
        "\n",
        "train['new_title_100'] = new_title_100\n",
        "  ## 불용어 통해서 띄어쓰기가 발생함\n",
        "'''"
      ]
    },
    {
      "cell_type": "code",
      "execution_count": 46,
      "metadata": {},
      "outputs": [],
      "source": [
        "\n",
        "new_title_one_word=[]\n",
        "for i in new_title_600:\n",
        "  x = i.split()\n",
        "  ind=''\n",
        "  for k in range(len(x)):\n",
        "      if len(x[k]) != 1:\n",
        "        ind = ind + ' ' + x[k] \n",
        "  new_title_one_word.append(ind)\n",
        "train['new_title_one_word'] = new_title_one_word\n"
      ]
    },
    {
      "cell_type": "code",
      "execution_count": 47,
      "metadata": {
        "id": "GS0k33kiqWm6"
      },
      "outputs": [
        {
          "data": {
            "text/html": [
              "<div>\n",
              "<style scoped>\n",
              "    .dataframe tbody tr th:only-of-type {\n",
              "        vertical-align: middle;\n",
              "    }\n",
              "\n",
              "    .dataframe tbody tr th {\n",
              "        vertical-align: top;\n",
              "    }\n",
              "\n",
              "    .dataframe thead th {\n",
              "        text-align: right;\n",
              "    }\n",
              "</style>\n",
              "<table border=\"1\" class=\"dataframe\">\n",
              "  <thead>\n",
              "    <tr style=\"text-align: right;\">\n",
              "      <th></th>\n",
              "      <th>index</th>\n",
              "      <th>title</th>\n",
              "      <th>topic_idx</th>\n",
              "      <th>data</th>\n",
              "      <th>data2</th>\n",
              "      <th>data_okt</th>\n",
              "      <th>new_title_600</th>\n",
              "      <th>new_title_600_stem</th>\n",
              "      <th>new_title_one_word</th>\n",
              "    </tr>\n",
              "  </thead>\n",
              "  <tbody>\n",
              "    <tr>\n",
              "      <th>0</th>\n",
              "      <td>0</td>\n",
              "      <td>인천→핀란드 항공기 결항…휴가철 여행객 분통</td>\n",
              "      <td>4</td>\n",
              "      <td>인천→핀란드 항공기 결항…휴가철 여행객 분통</td>\n",
              "      <td>인천 핀란드 항공기 결항 휴가철 여행객 분통</td>\n",
              "      <td>인천 핀란드 항공기 결항 휴가 철 여행객 분통</td>\n",
              "      <td>인천 핀란드 항공기 결항 휴가 철 여행객 분통</td>\n",
              "      <td>인천 핀란드 항공기 결항 휴가 철 여행객 분통</td>\n",
              "      <td>인천 핀란드 항공기 결항 휴가 여행객 분통</td>\n",
              "    </tr>\n",
              "    <tr>\n",
              "      <th>1</th>\n",
              "      <td>1</td>\n",
              "      <td>실리콘밸리 넘어서겠다…구글 15조원 들여 美전역 거점화</td>\n",
              "      <td>4</td>\n",
              "      <td>실리콘밸리 넘어서겠다…구글 15조원 들여  미국 전역 거점화</td>\n",
              "      <td>실리콘밸리 넘어서겠다 구글   조원 들여  미국 전역 거점화</td>\n",
              "      <td>실리콘밸리 넘어서겠다 구글 조원 들여 미국 전역 거점 화</td>\n",
              "      <td>실리콘밸리 넘어서겠다 구글 조원 들여 미국 전역 거점 화</td>\n",
              "      <td>실리콘밸리 넘어서다 구글 조원 들이다 미국 전역 거점 화</td>\n",
              "      <td>실리콘밸리 넘어서겠다 구글 조원 들여 미국 전역 거점</td>\n",
              "    </tr>\n",
              "    <tr>\n",
              "      <th>2</th>\n",
              "      <td>2</td>\n",
              "      <td>이란 외무 긴장완화 해결책은 미국이 경제전쟁 멈추는 것</td>\n",
              "      <td>4</td>\n",
              "      <td>이란 외무 긴장완화 해결책은 미국이 경제전쟁 멈추는 것</td>\n",
              "      <td>이란 외무 긴장완화 해결책은 미국이 경제전쟁 멈추는 것</td>\n",
              "      <td>이란 외무 긴장 완화 해결 책 은 미국 이 경제 전쟁 멈추는 것</td>\n",
              "      <td>이란 외무 긴장 완화 해결 책 은 미국 경제 전쟁 멈추는</td>\n",
              "      <td>이란 외무 긴장 완화 해결 책 은 미국 경제 전쟁 멈추다</td>\n",
              "      <td>이란 외무 긴장 완화 해결 미국 경제 전쟁 멈추는</td>\n",
              "    </tr>\n",
              "    <tr>\n",
              "      <th>3</th>\n",
              "      <td>3</td>\n",
              "      <td>NYT 클린턴 측근韓기업 특수관계 조명…공과 사 맞물려종합</td>\n",
              "      <td>4</td>\n",
              "      <td>NYT 클린턴 측근 한국 기업 특수관계 조명…공과 사 맞물려종합</td>\n",
              "      <td>NYT 클린턴 측근 한국 기업 특수관계 조명 공과 사 맞물려종합</td>\n",
              "      <td>NYT 클린턴 측근 한국 기업 특수 관계 조명 공과 사 맞 물려 종합</td>\n",
              "      <td>NYT 클린턴 측근 한국 기업 특수 관계 조명 공과 맞 물려 종합</td>\n",
              "      <td>NYT 클린턴 측근 한국 기업 특수 관계 조명 공과 맞다 물리다 종합</td>\n",
              "      <td>NYT 클린턴 측근 한국 기업 특수 관계 조명 공과 물려 종합</td>\n",
              "    </tr>\n",
              "    <tr>\n",
              "      <th>4</th>\n",
              "      <td>4</td>\n",
              "      <td>시진핑 트럼프에 중미 무역협상 조속 타결 희망</td>\n",
              "      <td>4</td>\n",
              "      <td>시진핑 트럼프에 중미 무역협상 조속 타결 희망</td>\n",
              "      <td>시진핑 트럼프에 중미 무역협상 조속 타결 희망</td>\n",
              "      <td>시진핑 트럼프 에 중미 무역 협상 조속 타결 희망</td>\n",
              "      <td>시진핑 트럼프 중미 무역 협상 조속 타결 희망</td>\n",
              "      <td>시진핑 트럼프 중미 무역 협상 조속 타결 희망</td>\n",
              "      <td>시진핑 트럼프 중미 무역 협상 조속 타결 희망</td>\n",
              "    </tr>\n",
              "    <tr>\n",
              "      <th>...</th>\n",
              "      <td>...</td>\n",
              "      <td>...</td>\n",
              "      <td>...</td>\n",
              "      <td>...</td>\n",
              "      <td>...</td>\n",
              "      <td>...</td>\n",
              "      <td>...</td>\n",
              "      <td>...</td>\n",
              "      <td>...</td>\n",
              "    </tr>\n",
              "    <tr>\n",
              "      <th>45649</th>\n",
              "      <td>45649</td>\n",
              "      <td>KB금융 미국 IB 스티펠과 제휴…선진국 시장 공략</td>\n",
              "      <td>1</td>\n",
              "      <td>KB금융 미국 IB 스티펠과 제휴…선진국 시장 공략</td>\n",
              "      <td>KB금융 미국 IB 스티펠과 제휴 선진국 시장 공략</td>\n",
              "      <td>KB 금융 미국 IB 스티펠 과 제휴 선진국 시장 공략</td>\n",
              "      <td>KB 금융 미국 IB 스티펠 제휴 선진국 시장 공략</td>\n",
              "      <td>KB 금융 미국 IB 스티펠 제휴 선진국 시장 공략</td>\n",
              "      <td>KB 금융 미국 IB 스티펠 제휴 선진국 시장 공략</td>\n",
              "    </tr>\n",
              "    <tr>\n",
              "      <th>45650</th>\n",
              "      <td>45650</td>\n",
              "      <td>1보 서울시교육청 신종코로나 확산에 개학 연기·휴업 검토</td>\n",
              "      <td>2</td>\n",
              "      <td>1보 서울시교육청 신종코로나 확산에 개학 연기·휴업 검토</td>\n",
              "      <td>보 서울시교육청 신종코로나 확산에 개학 연기 휴업 검토</td>\n",
              "      <td>보 서울시 교육청 신종 코로나 확산 에 개학 연기 휴업 검토</td>\n",
              "      <td>서울시 교육청 신종 코로나 확산 개학 연기 휴업 검토</td>\n",
              "      <td>서울시 교육청 신종 코로나 확산 개학 연기 휴업 검토</td>\n",
              "      <td>서울시 교육청 신종 코로나 확산 개학 연기 휴업 검토</td>\n",
              "    </tr>\n",
              "    <tr>\n",
              "      <th>45651</th>\n",
              "      <td>45651</td>\n",
              "      <td>게시판 키움증권 2020 키움 영웅전 실전투자대회</td>\n",
              "      <td>1</td>\n",
              "      <td>게시판 키움증권 2020 키움 영웅전 실전투자대회</td>\n",
              "      <td>게시판 키움증권      키움 영웅전 실전투자대회</td>\n",
              "      <td>게시판 키움 증권 키움 영웅 전 실전 투자 대회</td>\n",
              "      <td>게시판 키움 증권 키움 영웅 실전 투자 대회</td>\n",
              "      <td>게시판 키우다 증권 키우다 영웅 실전 투자 대회</td>\n",
              "      <td>게시판 키움 증권 키움 영웅 실전 투자 대회</td>\n",
              "    </tr>\n",
              "    <tr>\n",
              "      <th>45652</th>\n",
              "      <td>45652</td>\n",
              "      <td>답변하는 배기동 국립중앙박물관장</td>\n",
              "      <td>2</td>\n",
              "      <td>답변하는 배기동 국립중앙박물관장</td>\n",
              "      <td>답변하는 배기동 국립중앙박물관장</td>\n",
              "      <td>답변 하는 배 기동 국립 중앙 박물관 장</td>\n",
              "      <td>답변 배 기동 국립 중앙 박물관 장</td>\n",
              "      <td>답변 배 기동 국립 중앙 박물관 장</td>\n",
              "      <td>답변 기동 국립 중앙 박물관</td>\n",
              "    </tr>\n",
              "    <tr>\n",
              "      <th>45653</th>\n",
              "      <td>45653</td>\n",
              "      <td>2020 한국인터넷기자상 시상식 내달 1일 개최…특별상 김성후</td>\n",
              "      <td>2</td>\n",
              "      <td>2020 한국인터넷기자상 시상식 내달 1일 개최…특별상 김성후</td>\n",
              "      <td>한국인터넷기자상 시상식 내달  일 개최 특별상 김성후</td>\n",
              "      <td>한국 인터넷 기자 상 시상식 내달 일 개최 특별상 김성후</td>\n",
              "      <td>한국 인터넷 기자 상 시상식 내달 개최 특별상 김성후</td>\n",
              "      <td>한국 인터넷 기자 상 시상식 내달 개최 특별상 김성후</td>\n",
              "      <td>한국 인터넷 기자 시상식 내달 개최 특별상 김성후</td>\n",
              "    </tr>\n",
              "  </tbody>\n",
              "</table>\n",
              "<p>45654 rows × 9 columns</p>\n",
              "</div>"
            ],
            "text/plain": [
              "       index                               title  topic_idx  \\\n",
              "0          0            인천→핀란드 항공기 결항…휴가철 여행객 분통          4   \n",
              "1          1      실리콘밸리 넘어서겠다…구글 15조원 들여 美전역 거점화          4   \n",
              "2          2      이란 외무 긴장완화 해결책은 미국이 경제전쟁 멈추는 것          4   \n",
              "3          3    NYT 클린턴 측근韓기업 특수관계 조명…공과 사 맞물려종합          4   \n",
              "4          4           시진핑 트럼프에 중미 무역협상 조속 타결 희망          4   \n",
              "...      ...                                 ...        ...   \n",
              "45649  45649        KB금융 미국 IB 스티펠과 제휴…선진국 시장 공략          1   \n",
              "45650  45650     1보 서울시교육청 신종코로나 확산에 개학 연기·휴업 검토          2   \n",
              "45651  45651         게시판 키움증권 2020 키움 영웅전 실전투자대회          1   \n",
              "45652  45652                   답변하는 배기동 국립중앙박물관장          2   \n",
              "45653  45653  2020 한국인터넷기자상 시상식 내달 1일 개최…특별상 김성후          2   \n",
              "\n",
              "                                      data  \\\n",
              "0                 인천→핀란드 항공기 결항…휴가철 여행객 분통   \n",
              "1        실리콘밸리 넘어서겠다…구글 15조원 들여  미국 전역 거점화   \n",
              "2           이란 외무 긴장완화 해결책은 미국이 경제전쟁 멈추는 것   \n",
              "3      NYT 클린턴 측근 한국 기업 특수관계 조명…공과 사 맞물려종합   \n",
              "4                시진핑 트럼프에 중미 무역협상 조속 타결 희망   \n",
              "...                                    ...   \n",
              "45649         KB금융 미국 IB 스티펠과 제휴…선진국 시장 공략   \n",
              "45650      1보 서울시교육청 신종코로나 확산에 개학 연기·휴업 검토   \n",
              "45651          게시판 키움증권 2020 키움 영웅전 실전투자대회   \n",
              "45652                    답변하는 배기동 국립중앙박물관장   \n",
              "45653   2020 한국인터넷기자상 시상식 내달 1일 개최…특별상 김성후   \n",
              "\n",
              "                                     data2  \\\n",
              "0                 인천 핀란드 항공기 결항 휴가철 여행객 분통   \n",
              "1        실리콘밸리 넘어서겠다 구글   조원 들여  미국 전역 거점화   \n",
              "2           이란 외무 긴장완화 해결책은 미국이 경제전쟁 멈추는 것   \n",
              "3      NYT 클린턴 측근 한국 기업 특수관계 조명 공과 사 맞물려종합   \n",
              "4                시진핑 트럼프에 중미 무역협상 조속 타결 희망   \n",
              "...                                    ...   \n",
              "45649         KB금융 미국 IB 스티펠과 제휴 선진국 시장 공략   \n",
              "45650       보 서울시교육청 신종코로나 확산에 개학 연기 휴업 검토   \n",
              "45651          게시판 키움증권      키움 영웅전 실전투자대회   \n",
              "45652                    답변하는 배기동 국립중앙박물관장   \n",
              "45653        한국인터넷기자상 시상식 내달  일 개최 특별상 김성후   \n",
              "\n",
              "                                     data_okt  \\\n",
              "0                   인천 핀란드 항공기 결항 휴가 철 여행객 분통   \n",
              "1             실리콘밸리 넘어서겠다 구글 조원 들여 미국 전역 거점 화   \n",
              "2         이란 외무 긴장 완화 해결 책 은 미국 이 경제 전쟁 멈추는 것   \n",
              "3      NYT 클린턴 측근 한국 기업 특수 관계 조명 공과 사 맞 물려 종합   \n",
              "4                 시진핑 트럼프 에 중미 무역 협상 조속 타결 희망   \n",
              "...                                       ...   \n",
              "45649          KB 금융 미국 IB 스티펠 과 제휴 선진국 시장 공략   \n",
              "45650       보 서울시 교육청 신종 코로나 확산 에 개학 연기 휴업 검토   \n",
              "45651              게시판 키움 증권 키움 영웅 전 실전 투자 대회   \n",
              "45652                  답변 하는 배 기동 국립 중앙 박물관 장   \n",
              "45653         한국 인터넷 기자 상 시상식 내달 일 개최 특별상 김성후   \n",
              "\n",
              "                              new_title_600  \\\n",
              "0                 인천 핀란드 항공기 결항 휴가 철 여행객 분통   \n",
              "1           실리콘밸리 넘어서겠다 구글 조원 들여 미국 전역 거점 화   \n",
              "2           이란 외무 긴장 완화 해결 책 은 미국 경제 전쟁 멈추는   \n",
              "3      NYT 클린턴 측근 한국 기업 특수 관계 조명 공과 맞 물려 종합   \n",
              "4                 시진핑 트럼프 중미 무역 협상 조속 타결 희망   \n",
              "...                                     ...   \n",
              "45649          KB 금융 미국 IB 스티펠 제휴 선진국 시장 공략   \n",
              "45650         서울시 교육청 신종 코로나 확산 개학 연기 휴업 검토   \n",
              "45651              게시판 키움 증권 키움 영웅 실전 투자 대회   \n",
              "45652                   답변 배 기동 국립 중앙 박물관 장   \n",
              "45653         한국 인터넷 기자 상 시상식 내달 개최 특별상 김성후   \n",
              "\n",
              "                           new_title_600_stem  \\\n",
              "0                   인천 핀란드 항공기 결항 휴가 철 여행객 분통   \n",
              "1             실리콘밸리 넘어서다 구글 조원 들이다 미국 전역 거점 화   \n",
              "2             이란 외무 긴장 완화 해결 책 은 미국 경제 전쟁 멈추다   \n",
              "3      NYT 클린턴 측근 한국 기업 특수 관계 조명 공과 맞다 물리다 종합   \n",
              "4                   시진핑 트럼프 중미 무역 협상 조속 타결 희망   \n",
              "...                                       ...   \n",
              "45649            KB 금융 미국 IB 스티펠 제휴 선진국 시장 공략   \n",
              "45650           서울시 교육청 신종 코로나 확산 개학 연기 휴업 검토   \n",
              "45651              게시판 키우다 증권 키우다 영웅 실전 투자 대회   \n",
              "45652                     답변 배 기동 국립 중앙 박물관 장   \n",
              "45653           한국 인터넷 기자 상 시상식 내달 개최 특별상 김성후   \n",
              "\n",
              "                        new_title_one_word  \n",
              "0                  인천 핀란드 항공기 결항 휴가 여행객 분통  \n",
              "1            실리콘밸리 넘어서겠다 구글 조원 들여 미국 전역 거점  \n",
              "2              이란 외무 긴장 완화 해결 미국 경제 전쟁 멈추는  \n",
              "3       NYT 클린턴 측근 한국 기업 특수 관계 조명 공과 물려 종합  \n",
              "4                시진핑 트럼프 중미 무역 협상 조속 타결 희망  \n",
              "...                                    ...  \n",
              "45649         KB 금융 미국 IB 스티펠 제휴 선진국 시장 공략  \n",
              "45650        서울시 교육청 신종 코로나 확산 개학 연기 휴업 검토  \n",
              "45651             게시판 키움 증권 키움 영웅 실전 투자 대회  \n",
              "45652                      답변 기동 국립 중앙 박물관  \n",
              "45653          한국 인터넷 기자 시상식 내달 개최 특별상 김성후  \n",
              "\n",
              "[45654 rows x 9 columns]"
            ]
          },
          "execution_count": 47,
          "metadata": {},
          "output_type": "execute_result"
        }
      ],
      "source": [
        "train"
      ]
    },
    {
      "cell_type": "code",
      "execution_count": 48,
      "metadata": {
        "id": "3TIm4I6mdy9x"
      },
      "outputs": [],
      "source": [
        "train.to_csv('data/train데이터_전처리.csv')"
      ]
    },
    {
      "cell_type": "code",
      "execution_count": 49,
      "metadata": {},
      "outputs": [
        {
          "data": {
            "text/plain": [
              "index                 0\n",
              "title                 0\n",
              "topic_idx             0\n",
              "data                  0\n",
              "data2                 0\n",
              "data_okt              0\n",
              "new_title_600         0\n",
              "new_title_600_stem    0\n",
              "new_title_one_word    0\n",
              "dtype: int64"
            ]
          },
          "execution_count": 49,
          "metadata": {},
          "output_type": "execute_result"
        }
      ],
      "source": [
        "train.isna().sum()"
      ]
    }
  ],
  "metadata": {
    "colab": {
      "name": "프로젝트2_전처리.ipynb",
      "provenance": []
    },
    "interpreter": {
      "hash": "345fc451c7e0336b9390ad1fad588039702f89ec6d37597eff879e480e25ffdb"
    },
    "kernelspec": {
      "display_name": "Python 3.8.10 64-bit ('base': conda)",
      "name": "python3"
    },
    "language_info": {
      "codemirror_mode": {
        "name": "ipython",
        "version": 3
      },
      "file_extension": ".py",
      "mimetype": "text/x-python",
      "name": "python",
      "nbconvert_exporter": "python",
      "pygments_lexer": "ipython3",
      "version": "3.8.10"
    }
  },
  "nbformat": 4,
  "nbformat_minor": 0
}
