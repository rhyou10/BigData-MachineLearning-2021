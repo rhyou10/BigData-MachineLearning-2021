{
  "nbformat": 4,
  "nbformat_minor": 0,
  "metadata": {
    "accelerator": "GPU",
    "colab": {
      "name": "Rnn_pjt2.ipynb",
      "provenance": [],
      "collapsed_sections": [],
      "machine_shape": "hm"
    },
    "kernelspec": {
      "display_name": "Python 3",
      "name": "python3"
    },
    "language_info": {
      "name": "python"
    }
  },
  "cells": [
    {
      "cell_type": "code",
      "metadata": {
        "colab": {
          "base_uri": "https://localhost:8080/"
        },
        "id": "MOAAxxsWImNH",
        "outputId": "11749b50-9237-48b0-b59f-289a77bc39d1"
      },
      "source": [
        "from google.colab import drive\n",
        "drive.mount('/content/drive')"
      ],
      "execution_count": null,
      "outputs": [
        {
          "output_type": "stream",
          "name": "stdout",
          "text": [
            "Mounted at /content/drive\n"
          ]
        }
      ]
    },
    {
      "cell_type": "code",
      "metadata": {
        "colab": {
          "base_uri": "https://localhost:8080/"
        },
        "id": "CJV4D9P8KIBT",
        "outputId": "495d483d-30a0-49f1-82d3-fabf24f03b9e"
      },
      "source": [
        "cd /content/drive/MyDrive/data/pjt2"
      ],
      "execution_count": null,
      "outputs": [
        {
          "output_type": "stream",
          "name": "stdout",
          "text": [
            "/content/drive/MyDrive/data/pjt2\n"
          ]
        }
      ]
    },
    {
      "cell_type": "code",
      "metadata": {
        "id": "tSI91Q2vKJsn"
      },
      "source": [
        "import pandas as pd\n",
        "import numpy as np"
      ],
      "execution_count": null,
      "outputs": []
    },
    {
      "cell_type": "markdown",
      "metadata": {
        "id": "Bbw39JN2rOTM"
      },
      "source": [
        "## 데이터 불러오기"
      ]
    },
    {
      "cell_type": "code",
      "metadata": {
        "id": "jNXcGDWcKYlP"
      },
      "source": [
        "#train = pd.read_csv('data/train_data.csv')\n",
        "train = pd.read_csv('data/데이터_추가2_전처리(불용어추가).csv')\n",
        "test = pd.read_csv('data/test_final.csv')"
      ],
      "execution_count": null,
      "outputs": []
    },
    {
      "cell_type": "code",
      "metadata": {
        "id": "FLPrzU1pQ3pE"
      },
      "source": [
        "#from konlpy.tag import Okt\n",
        "#tokenizer = Okt()\n",
        "\n",
        "#x_train = [tokenizer.morphs(x) for x in train.new_title]\n",
        "#x_test = [tokenizer.morphs(x) for x in test.new_title]"
      ],
      "execution_count": null,
      "outputs": []
    },
    {
      "cell_type": "code",
      "metadata": {
        "colab": {
          "base_uri": "https://localhost:8080/"
        },
        "id": "4g-f9a7BW7u4",
        "outputId": "6093bba5-cb1d-40ba-b9f6-2b4550410027"
      },
      "source": [
        "train.columns"
      ],
      "execution_count": null,
      "outputs": [
        {
          "output_type": "execute_result",
          "data": {
            "text/plain": [
              "Index(['index', 'title', 'topic_idx'], dtype='object')"
            ]
          },
          "metadata": {},
          "execution_count": 5
        }
      ]
    },
    {
      "cell_type": "code",
      "metadata": {
        "colab": {
          "base_uri": "https://localhost:8080/",
          "height": 111
        },
        "id": "06LnUL6NY8OQ",
        "outputId": "317a9366-a189-4eb9-dc11-dea525343290"
      },
      "source": [
        "train.head(2) \n",
        "# data : 한자제거 \n",
        "# data2 : 특수문자 제거\n",
        "# data_okt : data2 의 okt.morphs\n",
        "# new_title_600 : data2의 okt+ 불용어 600제거\n",
        "# new_title_600_stem : data2의 okt + 불용어 600 + stem으로 동사 변환\n",
        "# new_title_one_word : new_title_600에 한글자제거"
      ],
      "execution_count": null,
      "outputs": [
        {
          "output_type": "execute_result",
          "data": {
            "text/html": [
              "<div>\n",
              "<style scoped>\n",
              "    .dataframe tbody tr th:only-of-type {\n",
              "        vertical-align: middle;\n",
              "    }\n",
              "\n",
              "    .dataframe tbody tr th {\n",
              "        vertical-align: top;\n",
              "    }\n",
              "\n",
              "    .dataframe thead th {\n",
              "        text-align: right;\n",
              "    }\n",
              "</style>\n",
              "<table border=\"1\" class=\"dataframe\">\n",
              "  <thead>\n",
              "    <tr style=\"text-align: right;\">\n",
              "      <th></th>\n",
              "      <th>index</th>\n",
              "      <th>title</th>\n",
              "      <th>topic_idx</th>\n",
              "    </tr>\n",
              "  </thead>\n",
              "  <tbody>\n",
              "    <tr>\n",
              "      <th>0</th>\n",
              "      <td>0</td>\n",
              "      <td>인천→핀란드 항공기 결항…휴가철 여행객 분통</td>\n",
              "      <td>4</td>\n",
              "    </tr>\n",
              "    <tr>\n",
              "      <th>1</th>\n",
              "      <td>1</td>\n",
              "      <td>실리콘밸리 넘어서겠다…구글 15조원 들여 美전역 거점화</td>\n",
              "      <td>4</td>\n",
              "    </tr>\n",
              "  </tbody>\n",
              "</table>\n",
              "</div>"
            ],
            "text/plain": [
              "   index                           title  topic_idx\n",
              "0      0        인천→핀란드 항공기 결항…휴가철 여행객 분통          4\n",
              "1      1  실리콘밸리 넘어서겠다…구글 15조원 들여 美전역 거점화          4"
            ]
          },
          "metadata": {},
          "execution_count": 6
        }
      ]
    },
    {
      "cell_type": "code",
      "metadata": {
        "colab": {
          "base_uri": "https://localhost:8080/",
          "height": 111
        },
        "id": "iXbIK7E_vnEJ",
        "outputId": "63d24794-b4f1-469f-ec65-e0c856a70d16"
      },
      "source": [
        "test.head(2)"
      ],
      "execution_count": null,
      "outputs": [
        {
          "output_type": "execute_result",
          "data": {
            "text/html": [
              "<div>\n",
              "<style scoped>\n",
              "    .dataframe tbody tr th:only-of-type {\n",
              "        vertical-align: middle;\n",
              "    }\n",
              "\n",
              "    .dataframe tbody tr th {\n",
              "        vertical-align: top;\n",
              "    }\n",
              "\n",
              "    .dataframe thead th {\n",
              "        text-align: right;\n",
              "    }\n",
              "</style>\n",
              "<table border=\"1\" class=\"dataframe\">\n",
              "  <thead>\n",
              "    <tr style=\"text-align: right;\">\n",
              "      <th></th>\n",
              "      <th>index</th>\n",
              "      <th>title</th>\n",
              "      <th>data</th>\n",
              "      <th>new_title</th>\n",
              "    </tr>\n",
              "  </thead>\n",
              "  <tbody>\n",
              "    <tr>\n",
              "      <th>0</th>\n",
              "      <td>45654</td>\n",
              "      <td>유튜브 내달 2일까지 크리에이터 지원 공간 운영</td>\n",
              "      <td>유튜브 내달 2일까지 크리에이터 지원 공간 운영</td>\n",
              "      <td>유튜브 내달 크리에이터 지원 공간 운영</td>\n",
              "    </tr>\n",
              "    <tr>\n",
              "      <th>1</th>\n",
              "      <td>45655</td>\n",
              "      <td>어버이날 맑다가 흐려져…남부지방 옅은 황사</td>\n",
              "      <td>어버이날 맑다가 흐려져…남부지방 옅은 황사</td>\n",
              "      <td>어버이날 맑다 흐려지다 남부 지방 옅다 황사</td>\n",
              "    </tr>\n",
              "  </tbody>\n",
              "</table>\n",
              "</div>"
            ],
            "text/plain": [
              "   index  ...                 new_title\n",
              "0  45654  ...     유튜브 내달 크리에이터 지원 공간 운영\n",
              "1  45655  ...  어버이날 맑다 흐려지다 남부 지방 옅다 황사\n",
              "\n",
              "[2 rows x 4 columns]"
            ]
          },
          "metadata": {},
          "execution_count": 7
        }
      ]
    },
    {
      "cell_type": "code",
      "metadata": {
        "colab": {
          "base_uri": "https://localhost:8080/"
        },
        "id": "Cm0CcDCwwM0C",
        "outputId": "e8777538-9318-4d1a-9899-238707568cdb"
      },
      "source": [
        "train.isna().sum(), test.isna().sum()"
      ],
      "execution_count": null,
      "outputs": [
        {
          "output_type": "execute_result",
          "data": {
            "text/plain": [
              "(index        0\n",
              " title        0\n",
              " topic_idx    0\n",
              " dtype: int64, index        0\n",
              " title        0\n",
              " data         0\n",
              " new_title    0\n",
              " dtype: int64)"
            ]
          },
          "metadata": {},
          "execution_count": 8
        }
      ]
    },
    {
      "cell_type": "markdown",
      "metadata": {
        "id": "-exWcBDmrQmM"
      },
      "source": [
        "## XY 나누기"
      ]
    },
    {
      "cell_type": "code",
      "metadata": {
        "id": "sGHRDTigRJ5m"
      },
      "source": [
        "x_train = train.title\n",
        "y_train = train.topic_idx\n",
        "x_test = test.title"
      ],
      "execution_count": null,
      "outputs": []
    },
    {
      "cell_type": "markdown",
      "metadata": {
        "id": "k07wHctorSm9"
      },
      "source": [
        "## 데이터 확인 및 길이확인"
      ]
    },
    {
      "cell_type": "code",
      "metadata": {
        "colab": {
          "base_uri": "https://localhost:8080/"
        },
        "id": "qYQ4LwiVWztQ",
        "outputId": "b9e51bd8-7fbd-4c57-fa19-97dbfc678c0c"
      },
      "source": [
        "count = 0\n",
        "data = []\n",
        "for i in range(len(x_train)):\n",
        "  if count <len(x_train[i].split()):\n",
        "    count = len(x_train[i].split())\n",
        "    data = x_train[i]\n",
        "count, data"
      ],
      "execution_count": null,
      "outputs": [
        {
          "output_type": "execute_result",
          "data": {
            "text/plain": [
              "(13, '주말 N 여행 호남권 야간스키 씽씽 눈 덮인 덕유산에 가장 긴 슬로프 무주')"
            ]
          },
          "metadata": {},
          "execution_count": 10
        }
      ]
    },
    {
      "cell_type": "markdown",
      "metadata": {
        "id": "WVc9QFXhwnGQ"
      },
      "source": [
        "## 데이터 토크나이져"
      ]
    },
    {
      "cell_type": "code",
      "metadata": {
        "id": "Q0KQvObyRjTZ"
      },
      "source": [
        "from tensorflow.keras.preprocessing.text import Tokenizer\n",
        "tokenizer = Tokenizer()\n",
        "tokenizer.fit_on_texts(x_train)\n",
        "\n",
        "num_word = 0\n",
        "count = 0\n",
        "\n",
        "for i in tokenizer.word_counts.values(): # 두번이상 나타난 단어\n",
        "  if i >=2:\n",
        "    count +=1\n",
        "    \n",
        "num_word = count +2\n",
        "num_word\n",
        "\n",
        "t = Tokenizer(num_words= num_word)\n",
        "t.fit_on_texts(x_train)\n",
        "s = t.texts_to_sequences(x_train)\n",
        "\n",
        "s_test = t.texts_to_sequences(x_test)"
      ],
      "execution_count": null,
      "outputs": []
    },
    {
      "cell_type": "code",
      "metadata": {
        "colab": {
          "base_uri": "https://localhost:8080/",
          "height": 35
        },
        "id": "nykiiqMGZKRo",
        "outputId": "1a07c452-eae3-4ac8-e295-c7f7294b7d32"
      },
      "source": [
        "x_train[0]"
      ],
      "execution_count": null,
      "outputs": [
        {
          "output_type": "execute_result",
          "data": {
            "application/vnd.google.colaboratory.intrinsic+json": {
              "type": "string"
            },
            "text/plain": [
              "'인천→핀란드 항공기 결항…휴가철 여행객 분통'"
            ]
          },
          "metadata": {},
          "execution_count": 12
        }
      ]
    },
    {
      "cell_type": "code",
      "metadata": {
        "colab": {
          "base_uri": "https://localhost:8080/"
        },
        "id": "uTMtcfNEZGL4",
        "outputId": "446f016e-4e64-4e32-c2a6-e5c8f154c636"
      },
      "source": [
        "s_test[0]"
      ],
      "execution_count": null,
      "outputs": [
        {
          "output_type": "execute_result",
          "data": {
            "text/plain": [
              "[1224, 89, 17096, 12896, 33, 3649, 240]"
            ]
          },
          "metadata": {},
          "execution_count": 13
        }
      ]
    },
    {
      "cell_type": "markdown",
      "metadata": {
        "id": "K4yXvPJcwk14"
      },
      "source": [
        "## 데이터 패딩"
      ]
    },
    {
      "cell_type": "code",
      "metadata": {
        "id": "b9o2YujHRkzx"
      },
      "source": [
        "from tensorflow.keras.preprocessing.sequence import pad_sequences\n",
        "\n",
        "max_len = max(max(len(l) for l in s), max(len(l) for l in s_test))\n",
        "\n",
        "\n",
        "pad_X_train = pad_sequences(s, maxlen=max_len, padding = 'pre')\n",
        "pad_X_test = pad_sequences(s_test, maxlen=max_len, padding = 'pre')"
      ],
      "execution_count": null,
      "outputs": []
    },
    {
      "cell_type": "markdown",
      "metadata": {
        "id": "MIY6PzcCwqKg"
      },
      "source": [
        "## 모델링"
      ]
    },
    {
      "cell_type": "code",
      "metadata": {
        "id": "uwlbyQT5RynA"
      },
      "source": [
        "from tensorflow.keras.models import Sequential\n",
        "from tensorflow.keras.layers import Dense, Embedding, Flatten, SimpleRNN\n",
        "\n",
        "model = Sequential()\n",
        "\n",
        "model.add(Embedding(input_dim = num_word, output_dim = 32, input_length = max_len)) #max_len 22 \n",
        "model.add(SimpleRNN(32, return_sequences = True, dropout=0.15, recurrent_dropout=0.15))\n",
        "model.add(SimpleRNN(32))\n",
        "model.add(Dense(7, activation = 'softmax'))\n",
        "\n",
        "model.compile(optimizer='adam',\n",
        "             loss = 'sparse_categorical_crossentropy',\n",
        "             metrics = ['acc'])\n"
      ],
      "execution_count": null,
      "outputs": []
    },
    {
      "cell_type": "code",
      "metadata": {
        "colab": {
          "base_uri": "https://localhost:8080/"
        },
        "id": "U2kRTDmdJEVt",
        "outputId": "5a184c8e-5d1f-459e-e9ec-2d92d106a50a"
      },
      "source": [
        "model.summary()"
      ],
      "execution_count": null,
      "outputs": [
        {
          "output_type": "stream",
          "name": "stdout",
          "text": [
            "Model: \"sequential\"\n",
            "_________________________________________________________________\n",
            "Layer (type)                 Output Shape              Param #   \n",
            "=================================================================\n",
            "embedding (Embedding)        (None, 13, 32)            882048    \n",
            "_________________________________________________________________\n",
            "simple_rnn (SimpleRNN)       (None, 13, 32)            2080      \n",
            "_________________________________________________________________\n",
            "simple_rnn_1 (SimpleRNN)     (None, 32)                2080      \n",
            "_________________________________________________________________\n",
            "dense (Dense)                (None, 7)                 231       \n",
            "=================================================================\n",
            "Total params: 886,439\n",
            "Trainable params: 886,439\n",
            "Non-trainable params: 0\n",
            "_________________________________________________________________\n"
          ]
        }
      ]
    },
    {
      "cell_type": "code",
      "metadata": {
        "id": "yfQcLHFze1v0"
      },
      "source": [
        "from sklearn.model_selection import train_test_split\n",
        "\n",
        "X_tn, X_tt, y_tn, y_tt = train_test_split(pad_X_train, y_train, test_size=0.33, random_state=2021)"
      ],
      "execution_count": null,
      "outputs": []
    },
    {
      "cell_type": "code",
      "metadata": {
        "colab": {
          "base_uri": "https://localhost:8080/"
        },
        "id": "wW39SXIwR0BK",
        "outputId": "07396bbd-de21-48e4-cea7-241b7be51fa2"
      },
      "source": [
        "import tensorflow as tf\n",
        "import os\n",
        "from tensorflow.keras.callbacks import EarlyStopping, ModelCheckpoint\n",
        "\n",
        "es = EarlyStopping(monitor='val_loss', \n",
        "                   mode='min', verbose=1, patience=10)\n",
        "mc = ModelCheckpoint('/content/drive/MyDrive/data/pjt2/model/rnn/rnn_model_real.h5', \n",
        "                     monitor='val_acc', mode='max', \n",
        "                     verbose=2, save_best_only=True)\n",
        "\n",
        "history = model.fit(X_tn, y_tn, \n",
        "                    batch_size = 512, \n",
        "                    epochs = 20, \n",
        "                    callbacks=[es, mc],\n",
        "                    validation_data = (X_tt, y_tt)) # 과적합 발생"
      ],
      "execution_count": null,
      "outputs": [
        {
          "output_type": "stream",
          "name": "stdout",
          "text": [
            "Epoch 1/20\n",
            "60/60 [==============================] - 5s 32ms/step - loss: 1.8440 - acc: 0.2600 - val_loss: 1.5319 - val_acc: 0.4537\n",
            "\n",
            "Epoch 00001: val_acc improved from -inf to 0.45367, saving model to /content/drive/MyDrive/data/pjt2/model/rnn/rnn_model_real.h5\n",
            "Epoch 2/20\n",
            "60/60 [==============================] - 2s 26ms/step - loss: 1.1362 - acc: 0.6350 - val_loss: 0.9142 - val_acc: 0.7061\n",
            "\n",
            "Epoch 00002: val_acc improved from 0.45367 to 0.70609, saving model to /content/drive/MyDrive/data/pjt2/model/rnn/rnn_model_real.h5\n",
            "Epoch 3/20\n",
            "60/60 [==============================] - 2s 26ms/step - loss: 0.6168 - acc: 0.8164 - val_loss: 0.7885 - val_acc: 0.7485\n",
            "\n",
            "Epoch 00003: val_acc improved from 0.70609 to 0.74851, saving model to /content/drive/MyDrive/data/pjt2/model/rnn/rnn_model_real.h5\n",
            "Epoch 4/20\n",
            "60/60 [==============================] - 2s 26ms/step - loss: 0.3883 - acc: 0.8903 - val_loss: 0.7917 - val_acc: 0.7579\n",
            "\n",
            "Epoch 00004: val_acc improved from 0.74851 to 0.75793, saving model to /content/drive/MyDrive/data/pjt2/model/rnn/rnn_model_real.h5\n",
            "Epoch 5/20\n",
            "60/60 [==============================] - 2s 26ms/step - loss: 0.2769 - acc: 0.9221 - val_loss: 0.8453 - val_acc: 0.7561\n",
            "\n",
            "Epoch 00005: val_acc did not improve from 0.75793\n",
            "Epoch 6/20\n",
            "60/60 [==============================] - 2s 27ms/step - loss: 0.2088 - acc: 0.9424 - val_loss: 0.8879 - val_acc: 0.7549\n",
            "\n",
            "Epoch 00006: val_acc did not improve from 0.75793\n",
            "Epoch 7/20\n",
            "60/60 [==============================] - 2s 27ms/step - loss: 0.1645 - acc: 0.9548 - val_loss: 0.9463 - val_acc: 0.7493\n",
            "\n",
            "Epoch 00007: val_acc did not improve from 0.75793\n",
            "Epoch 8/20\n",
            "60/60 [==============================] - 2s 26ms/step - loss: 0.1352 - acc: 0.9623 - val_loss: 0.9893 - val_acc: 0.7498\n",
            "\n",
            "Epoch 00008: val_acc did not improve from 0.75793\n",
            "Epoch 9/20\n",
            "60/60 [==============================] - 2s 26ms/step - loss: 0.1129 - acc: 0.9682 - val_loss: 1.0364 - val_acc: 0.7488\n",
            "\n",
            "Epoch 00009: val_acc did not improve from 0.75793\n",
            "Epoch 10/20\n",
            "60/60 [==============================] - 2s 26ms/step - loss: 0.0961 - acc: 0.9730 - val_loss: 1.0928 - val_acc: 0.7458\n",
            "\n",
            "Epoch 00010: val_acc did not improve from 0.75793\n",
            "Epoch 11/20\n",
            "60/60 [==============================] - 2s 26ms/step - loss: 0.0831 - acc: 0.9765 - val_loss: 1.1399 - val_acc: 0.7439\n",
            "\n",
            "Epoch 00011: val_acc did not improve from 0.75793\n",
            "Epoch 12/20\n",
            "60/60 [==============================] - 2s 26ms/step - loss: 0.0714 - acc: 0.9801 - val_loss: 1.1822 - val_acc: 0.7385\n",
            "\n",
            "Epoch 00012: val_acc did not improve from 0.75793\n",
            "Epoch 13/20\n",
            "60/60 [==============================] - 2s 26ms/step - loss: 0.0639 - acc: 0.9806 - val_loss: 1.2247 - val_acc: 0.7409\n",
            "\n",
            "Epoch 00013: val_acc did not improve from 0.75793\n",
            "Epoch 00013: early stopping\n"
          ]
        }
      ]
    },
    {
      "cell_type": "markdown",
      "metadata": {
        "id": "Ojuh3yZf1GsB"
      },
      "source": [
        "## 에폭저장된거 불러옴"
      ]
    },
    {
      "cell_type": "code",
      "metadata": {
        "colab": {
          "base_uri": "https://localhost:8080/"
        },
        "id": "4JAzsliSoR1G",
        "outputId": "8226e5e0-b332-4db4-c8bd-7c9d5aeb6075"
      },
      "source": [
        "model2 = tf.keras.models.load_model('/content/drive/MyDrive/data/pjt2/model/rnn/rnn_model_real.h5')\n",
        "model2.evaluate(pad_X_train, y_train, verbose=2)"
      ],
      "execution_count": null,
      "outputs": [
        {
          "output_type": "stream",
          "name": "stdout",
          "text": [
            "1669/1669 - 6s - loss: 0.2919 - acc: 0.9180\n"
          ]
        },
        {
          "output_type": "execute_result",
          "data": {
            "text/plain": [
              "[0.2919265627861023, 0.9179633855819702]"
            ]
          },
          "metadata": {},
          "execution_count": 39
        }
      ]
    },
    {
      "cell_type": "code",
      "metadata": {
        "colab": {
          "base_uri": "https://localhost:8080/",
          "height": 350
        },
        "id": "xiCZRACK3El8",
        "outputId": "4f61c2af-aa0d-4dbd-cc51-076763da5120"
      },
      "source": [
        "import matplotlib.pyplot as plt\n",
        "\n",
        "his_dict = history.history\n",
        "loss = his_dict['loss']\n",
        "val_loss = his_dict['val_loss'] \n",
        "\n",
        "epochs = range(1, len(loss) + 1)\n",
        "fig = plt.figure(figsize = (10, 5))\n",
        "\n",
        "# 훈련 및 검증 손실 그리기\n",
        "ax1 = fig.add_subplot(1, 2, 1)\n",
        "ax1.plot(epochs, loss, color = 'blue', label = 'train_loss')\n",
        "ax1.plot(epochs, val_loss, color = 'orange', label = 'val_loss')\n",
        "ax1.set_title('train and val loss')\n",
        "ax1.set_xlabel('epochs')\n",
        "ax1.set_ylabel('loss')\n",
        "ax1.legend()\n",
        "\n",
        "acc = his_dict['acc']\n",
        "val_acc = his_dict['val_acc']\n",
        "\n",
        "# 훈련 및 검증 정확도 그리기\n",
        "ax2 = fig.add_subplot(1, 2, 2)\n",
        "ax2.plot(epochs, acc, color = 'blue', label = 'train_acc')\n",
        "ax2.plot(epochs, val_acc, color = 'orange', label = 'val_acc')\n",
        "ax2.set_title('train and val acc')\n",
        "ax2.set_xlabel('epochs')\n",
        "ax2.set_ylabel('acc')\n",
        "ax2.legend()\n",
        "\n",
        "plt.show()"
      ],
      "execution_count": null,
      "outputs": [
        {
          "output_type": "display_data",
          "data": {
            "image/png": "[encoded data removed]",
            "text/plain": [
              "<Figure size 720x360 with 2 Axes>"
            ]
          },
          "metadata": {
            "needs_background": "light"
          }
        }
      ]
    },
    {
      "cell_type": "markdown",
      "metadata": {
        "id": "3aSQr-KuS9jJ"
      },
      "source": [
        "## 예측"
      ]
    },
    {
      "cell_type": "code",
      "metadata": {
        "id": "RbN-pI5vZ_NL"
      },
      "source": [
        "pre =model.predict(pad_X_test)"
      ],
      "execution_count": null,
      "outputs": []
    },
    {
      "cell_type": "code",
      "metadata": {
        "id": "wc2YqBiOaMTr"
      },
      "source": [
        "pre_index = [np.argmax(i) for i in pre]"
      ],
      "execution_count": null,
      "outputs": []
    },
    {
      "cell_type": "code",
      "metadata": {
        "id": "QFW_9FntaZua"
      },
      "source": [
        "len(pre_index)"
      ],
      "execution_count": null,
      "outputs": []
    },
    {
      "cell_type": "markdown",
      "metadata": {
        "id": "ZitVLlJ8atPD"
      },
      "source": [
        "## sub에 넣기"
      ]
    },
    {
      "cell_type": "code",
      "metadata": {
        "id": "bn_EzpsEaubk"
      },
      "source": [
        "sub_df = pd.read_csv('sample_submission.csv')"
      ],
      "execution_count": null,
      "outputs": []
    },
    {
      "cell_type": "code",
      "metadata": {
        "id": "LU1eKFpWawHj"
      },
      "source": [
        "sub_df['topic_idx'] = pre_index\n",
        "sub_df.to_csv('predict_rnn_final_best.csv', index=False)"
      ],
      "execution_count": null,
      "outputs": []
    },
    {
      "cell_type": "code",
      "metadata": {
        "id": "gU3yIkfYbYTb"
      },
      "source": [
        "y_train.unique()"
      ],
      "execution_count": null,
      "outputs": []
    },
    {
      "cell_type": "code",
      "metadata": {
        "id": "KobpxnyebUNj"
      },
      "source": [
        "sub_df.topic_idx.unique()"
      ],
      "execution_count": null,
      "outputs": []
    }
  ]
}