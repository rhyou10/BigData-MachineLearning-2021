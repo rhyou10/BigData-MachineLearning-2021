{
  "nbformat": 4,
  "nbformat_minor": 0,
  "metadata": {
    "colab": {
      "name": "PJT2_EDA(TF-IDF).ipynb",
      "provenance": [],
      "collapsed_sections": []
    },
    "kernelspec": {
      "name": "python3",
      "display_name": "Python 3"
    },
    "language_info": {
      "name": "python"
    }
  },
  "cells": [
    {
      "cell_type": "code",
      "metadata": {
        "colab": {
          "base_uri": "https://localhost:8080/"
        },
        "id": "dS-ku0Utv662",
        "outputId": "6cac4a16-97bf-486a-f4ae-4edf2ef5edd9"
      },
      "source": [
        "cd /content/drive/MyDrive/멀티캠퍼스/Project 2"
      ],
      "execution_count": 2,
      "outputs": [
        {
          "output_type": "stream",
          "name": "stdout",
          "text": [
            "/content/drive/MyDrive/멀티캠퍼스/Project 2\n"
          ]
        }
      ]
    },
    {
      "cell_type": "code",
      "metadata": {
        "id": "Xkb-vcGrwQZP"
      },
      "source": [
        "import numpy as np\n",
        "\n",
        "import seaborn as sns\n",
        "import pandas as pd\n",
        "import matplotlib.pyplot as plt\n",
        "\n",
        "plt.rc('font', family='Malgun Gothic')\n",
        "plt.rcParams['axes.unicode_minus'] = False #한글 폰트 사용시 마이너스 폰트 깨짐 해결\n",
        "#matplotlib 패키지 한글 깨짐 처리 끝"
      ],
      "execution_count": 3,
      "outputs": []
    },
    {
      "cell_type": "markdown",
      "metadata": {
        "id": "7o0MlhYC308R"
      },
      "source": [
        " 0(IT과학), 1(경제), 2(사회), 3(생활문화), 4(세계), 5(스포츠), 6(정치)"
      ]
    },
    {
      "cell_type": "code",
      "metadata": {
        "colab": {
          "base_uri": "https://localhost:8080/",
          "height": 287
        },
        "id": "Yus4isWCwLoI",
        "outputId": "c5234cbc-937a-46a5-cad3-ac4a5326e7a0"
      },
      "source": [
        "train = pd.read_csv('train_preprocessing.csv')\n",
        "train.head()"
      ],
      "execution_count": 4,
      "outputs": [
        {
          "output_type": "execute_result",
          "data": {
            "text/html": [
              "<div>\n",
              "<style scoped>\n",
              "    .dataframe tbody tr th:only-of-type {\n",
              "        vertical-align: middle;\n",
              "    }\n",
              "\n",
              "    .dataframe tbody tr th {\n",
              "        vertical-align: top;\n",
              "    }\n",
              "\n",
              "    .dataframe thead th {\n",
              "        text-align: right;\n",
              "    }\n",
              "</style>\n",
              "<table border=\"1\" class=\"dataframe\">\n",
              "  <thead>\n",
              "    <tr style=\"text-align: right;\">\n",
              "      <th></th>\n",
              "      <th>index</th>\n",
              "      <th>title</th>\n",
              "      <th>topic_idx</th>\n",
              "      <th>data</th>\n",
              "      <th>new_title</th>\n",
              "    </tr>\n",
              "  </thead>\n",
              "  <tbody>\n",
              "    <tr>\n",
              "      <th>0</th>\n",
              "      <td>0</td>\n",
              "      <td>인천→핀란드 항공기 결항…휴가철 여행객 분통</td>\n",
              "      <td>4</td>\n",
              "      <td>인천→핀란드 항공기 결항…휴가철 여행객 분통</td>\n",
              "      <td>인천 핀란드 항공기 결항 휴가 철 여행객 분통</td>\n",
              "    </tr>\n",
              "    <tr>\n",
              "      <th>1</th>\n",
              "      <td>1</td>\n",
              "      <td>실리콘밸리 넘어서겠다…구글 15조원 들여 美전역 거점화</td>\n",
              "      <td>4</td>\n",
              "      <td>실리콘밸리 넘어서겠다…구글 15조원 들여  미국 전역 거점화</td>\n",
              "      <td>실리콘밸리 넘어서다 구글 조원 들이다 미국 전역 거점</td>\n",
              "    </tr>\n",
              "    <tr>\n",
              "      <th>2</th>\n",
              "      <td>2</td>\n",
              "      <td>이란 외무 긴장완화 해결책은 미국이 경제전쟁 멈추는 것</td>\n",
              "      <td>4</td>\n",
              "      <td>이란 외무 긴장완화 해결책은 미국이 경제전쟁 멈추는 것</td>\n",
              "      <td>이란 외무 긴장 완화 해결 책 미국 경제 전쟁 멈추다</td>\n",
              "    </tr>\n",
              "    <tr>\n",
              "      <th>3</th>\n",
              "      <td>3</td>\n",
              "      <td>NYT 클린턴 측근韓기업 특수관계 조명…공과 사 맞물려종합</td>\n",
              "      <td>4</td>\n",
              "      <td>NYT 클린턴 측근 한국 기업 특수관계 조명…공과 사 맞물려종합</td>\n",
              "      <td>NYT 클린턴 측근 한국 기업 특수 관계 조명 공과 맞다 물리다</td>\n",
              "    </tr>\n",
              "    <tr>\n",
              "      <th>4</th>\n",
              "      <td>4</td>\n",
              "      <td>시진핑 트럼프에 중미 무역협상 조속 타결 희망</td>\n",
              "      <td>4</td>\n",
              "      <td>시진핑 트럼프에 중미 무역협상 조속 타결 희망</td>\n",
              "      <td>시진핑 트럼프 중미 무역 협상 조속 타결 희망</td>\n",
              "    </tr>\n",
              "  </tbody>\n",
              "</table>\n",
              "</div>"
            ],
            "text/plain": [
              "   index  ...                            new_title\n",
              "0      0  ...            인천 핀란드 항공기 결항 휴가 철 여행객 분통\n",
              "1      1  ...        실리콘밸리 넘어서다 구글 조원 들이다 미국 전역 거점\n",
              "2      2  ...        이란 외무 긴장 완화 해결 책 미국 경제 전쟁 멈추다\n",
              "3      3  ...  NYT 클린턴 측근 한국 기업 특수 관계 조명 공과 맞다 물리다\n",
              "4      4  ...            시진핑 트럼프 중미 무역 협상 조속 타결 희망\n",
              "\n",
              "[5 rows x 5 columns]"
            ]
          },
          "metadata": {},
          "execution_count": 4
        }
      ]
    },
    {
      "cell_type": "code",
      "metadata": {
        "id": "2IVPhTSMyGkw",
        "colab": {
          "base_uri": "https://localhost:8080/",
          "height": 333
        },
        "outputId": "eb93790e-d615-47e7-fe99-f38be317a2e8"
      },
      "source": [
        "sns.countplot(x=\"topic_idx\", data=train)\n",
        "plt.title('Topic-Count')\n",
        "plt.ylim(0, 8000)\n",
        "plt.show()"
      ],
      "execution_count": null,
      "outputs": [
        {
          "output_type": "stream",
          "name": "stderr",
          "text": [
            "findfont: Font family ['Malgun Gothic'] not found. Falling back to DejaVu Sans.\n",
            "findfont: Font family ['Malgun Gothic'] not found. Falling back to DejaVu Sans.\n"
          ]
        },
        {
          "output_type": "display_data",
          "data": {
            "image/png": "[encoded data removed]",
            "text/plain": [
              "<Figure size 432x288 with 1 Axes>"
            ]
          },
          "metadata": {
            "needs_background": "light"
          }
        }
      ]
    },
    {
      "cell_type": "markdown",
      "metadata": {
        "id": "eLFan1GVkLTh"
      },
      "source": [
        "## 상위 빈출 단어 분석\n"
      ]
    },
    {
      "cell_type": "markdown",
      "metadata": {
        "id": "3TMYXcKfh3Tb"
      },
      "source": [
        "## 단어 중요도(TF-IDF) 분석\n",
        "\n",
        "- TF(Term Frequency), IDF(Inverse Document Frequency)\n",
        "- TF-IDF : 특정 단어에 대한 중요도를 추출, TF와 IDF를 곱한 값. 즉 TF가 높고, DF가 낮을수록 값이 커지는 것을 이용하는 것, TF-IDF는 여러문서에 골고루 나오면 값이 낮고, 몇개 문서에만 집중적으로 나오면 값이 높게 나옴.\n",
        "\n"
      ]
    },
    {
      "cell_type": "code",
      "metadata": {
        "colab": {
          "base_uri": "https://localhost:8080/"
        },
        "id": "dU5gD9i7lAlN",
        "outputId": "bc5df863-2e11-402b-f664-e210218b596a"
      },
      "source": [
        "from sklearn.feature_extraction.text import TfidfVectorizer\n",
        "\n",
        "corpus = []\n",
        "for i in range(100):\n",
        "  corpus.append(train['new_title'][i])\n",
        "\n",
        "tfidfv = TfidfVectorizer(analyzer='word', min_df = 2).fit(corpus)\n",
        "# analyzer = 'word'라고 설정시, 학습의 단위를 단어로 설정합니다. (ex - home, go, my ...) \n",
        "# analyzer = 'char'라고 설정시, 학습의 단위를 글자로 설정합니다.(ex - a, b, c, d ...)\n",
        "# min-df : DF(document-frequency)의 최소 빈도값을 설정해주는 파라미터\n",
        "tfidfv"
      ],
      "execution_count": 19,
      "outputs": [
        {
          "output_type": "execute_result",
          "data": {
            "text/plain": [
              "TfidfVectorizer(analyzer='word', binary=False, decode_error='strict',\n",
              "                dtype=<class 'numpy.float64'>, encoding='utf-8',\n",
              "                input='content', lowercase=True, max_df=1.0, max_features=None,\n",
              "                min_df=2, ngram_range=(1, 1), norm='l2', preprocessor=None,\n",
              "                smooth_idf=True, stop_words=None, strip_accents=None,\n",
              "                sublinear_tf=False, token_pattern='(?u)\\\\b\\\\w\\\\w+\\\\b',\n",
              "                tokenizer=None, use_idf=True, vocabulary=None)"
            ]
          },
          "metadata": {},
          "execution_count": 19
        }
      ]
    },
    {
      "cell_type": "code",
      "metadata": {
        "colab": {
          "base_uri": "https://localhost:8080/"
        },
        "id": "xEn5aZcplBWf",
        "outputId": "99b87305-2960-4dbf-ec92-4384ab56625d"
      },
      "source": [
        "tfidfv.transform(corpus)  # 4행9열의 메트릭스 자료이며 numpy 자료임을 표시함."
      ],
      "execution_count": 20,
      "outputs": [
        {
          "output_type": "execute_result",
          "data": {
            "text/plain": [
              "<100x89 sparse matrix of type '<class 'numpy.float64'>'\n",
              "\twith 245 stored elements in Compressed Sparse Row format>"
            ]
          },
          "metadata": {},
          "execution_count": 20
        }
      ]
    },
    {
      "cell_type": "code",
      "metadata": {
        "colab": {
          "base_uri": "https://localhost:8080/"
        },
        "id": "CON1sOEOlXhp",
        "outputId": "539c1607-2a8e-4890-aa0e-e61c3e86e030"
      },
      "source": [
        "print(tfidfv.transform(corpus))"
      ],
      "execution_count": 21,
      "outputs": [
        {
          "output_type": "stream",
          "name": "stdout",
          "text": [
            "  (1, 26)\t1.0\n",
            "  (2, 56)\t0.4085147935514003\n",
            "  (2, 50)\t0.5218404836432068\n",
            "  (2, 26)\t0.3284280890297452\n",
            "  (2, 16)\t0.4628193378605919\n",
            "  (2, 8)\t0.4886014980730554\n",
            "  (3, 79)\t0.42945530530363696\n",
            "  (3, 75)\t0.45867064490515047\n",
            "  (3, 25)\t0.42945530530363696\n",
            "  (3, 15)\t0.45867064490515047\n",
            "  (3, 11)\t0.45867064490515047\n",
            "  (4, 85)\t0.7974065707303929\n",
            "  (4, 78)\t0.6034424255519285\n",
            "  (5, 68)\t0.7299725565232921\n",
            "  (5, 37)\t0.6834764565973351\n",
            "  (6, 77)\t1.0\n",
            "  (7, 78)\t0.46179799201111976\n",
            "  (7, 75)\t0.6102334499318027\n",
            "  (7, 26)\t0.3840595203038339\n",
            "  (7, 10)\t0.5165811030446398\n",
            "  (8, 80)\t0.5520422571841999\n",
            "  (8, 51)\t0.5895970430230183\n",
            "  (8, 17)\t0.5895970430230183\n",
            "  (9, 78)\t0.48353840728836844\n",
            "  (9, 41)\t0.6389618741499533\n",
            "  :\t:\n",
            "  (89, 21)\t0.5089180104670066\n",
            "  (89, 8)\t0.608688121545962\n",
            "  (90, 77)\t0.376809626726815\n",
            "  (90, 76)\t0.42486236370651964\n",
            "  (90, 64)\t0.3978004656376896\n",
            "  (90, 24)\t0.42486236370651964\n",
            "  (90, 23)\t0.3978004656376896\n",
            "  (90, 0)\t0.42486236370651964\n",
            "  (91, 79)\t0.6834764565973351\n",
            "  (91, 15)\t0.7299725565232921\n",
            "  (92, 34)\t1.0\n",
            "  (93, 42)\t1.0\n",
            "  (94, 53)\t0.7299725565232921\n",
            "  (94, 39)\t0.6834764565973351\n",
            "  (95, 86)\t0.46530266233749495\n",
            "  (95, 50)\t0.5496586058358499\n",
            "  (95, 43)\t0.46530266233749495\n",
            "  (95, 23)\t0.5146477259969853\n",
            "  (97, 80)\t0.6386386485212061\n",
            "  (97, 74)\t0.6386386485212061\n",
            "  (97, 26)\t0.4292800405679427\n",
            "  (98, 66)\t0.6834764565973351\n",
            "  (98, 63)\t0.7299725565232921\n",
            "  (99, 16)\t0.6635314179659753\n",
            "  (99, 9)\t0.7481484193474329\n"
          ]
        }
      ]
    },
    {
      "cell_type": "code",
      "metadata": {
        "colab": {
          "base_uri": "https://localhost:8080/"
        },
        "id": "f2TEq-lwlmzB",
        "outputId": "0f3cba63-2aa6-4a61-b8fe-f6aecbccf474"
      },
      "source": [
        "## 변수 확인\n",
        "features=tfidfv.get_feature_names()\n",
        "features[:5]"
      ],
      "execution_count": 22,
      "outputs": [
        {
          "output_type": "execute_result",
          "data": {
            "text/plain": [
              "['is', 'nba', 'uae', '가능성', '갈등']"
            ]
          },
          "metadata": {},
          "execution_count": 22
        }
      ]
    },
    {
      "cell_type": "code",
      "metadata": {
        "id": "AWZlBwtFmKBF"
      },
      "source": [
        "# 데이터프레임으로도 변환\n",
        "tmp = tfidfv.transform(corpus).toarray()\n",
        "df_tfidf = pd.DataFrame(tmp,columns=features)"
      ],
      "execution_count": 23,
      "outputs": []
    },
    {
      "cell_type": "code",
      "metadata": {
        "id": "3MTo079myTgJ",
        "colab": {
          "base_uri": "https://localhost:8080/",
          "height": 417
        },
        "outputId": "8e37c4af-ea3e-4012-c6ed-7cbf4fdae633"
      },
      "source": [
        "sum_tfidf = df_tfidf.sum(axis=0)\n",
        "final_tfidf = pd.DataFrame({'tfidf':sum_tfidf}).reset_index().sort_values(by='tfidf', ascending=False)\n",
        "final_tfidf"
      ],
      "execution_count": 66,
      "outputs": [
        {
          "output_type": "execute_result",
          "data": {
            "text/html": [
              "<div>\n",
              "<style scoped>\n",
              "    .dataframe tbody tr th:only-of-type {\n",
              "        vertical-align: middle;\n",
              "    }\n",
              "\n",
              "    .dataframe tbody tr th {\n",
              "        vertical-align: top;\n",
              "    }\n",
              "\n",
              "    .dataframe thead th {\n",
              "        text-align: right;\n",
              "    }\n",
              "</style>\n",
              "<table border=\"1\" class=\"dataframe\">\n",
              "  <thead>\n",
              "    <tr style=\"text-align: right;\">\n",
              "      <th></th>\n",
              "      <th>index</th>\n",
              "      <th>tfidf</th>\n",
              "    </tr>\n",
              "  </thead>\n",
              "  <tbody>\n",
              "    <tr>\n",
              "      <th>26</th>\n",
              "      <td>미국</td>\n",
              "      <td>6.962212</td>\n",
              "    </tr>\n",
              "    <tr>\n",
              "      <th>78</th>\n",
              "      <td>트럼프</td>\n",
              "      <td>3.799000</td>\n",
              "    </tr>\n",
              "    <tr>\n",
              "      <th>86</th>\n",
              "      <td>홍콩</td>\n",
              "      <td>3.382021</td>\n",
              "    </tr>\n",
              "    <tr>\n",
              "      <th>21</th>\n",
              "      <td>대통령</td>\n",
              "      <td>3.375507</td>\n",
              "    </tr>\n",
              "    <tr>\n",
              "      <th>56</th>\n",
              "      <td>이란</td>\n",
              "      <td>3.290462</td>\n",
              "    </tr>\n",
              "    <tr>\n",
              "      <th>...</th>\n",
              "      <td>...</td>\n",
              "      <td>...</td>\n",
              "    </tr>\n",
              "    <tr>\n",
              "      <th>67</th>\n",
              "      <td>촉구</td>\n",
              "      <td>0.879659</td>\n",
              "    </tr>\n",
              "    <tr>\n",
              "      <th>84</th>\n",
              "      <td>협력</td>\n",
              "      <td>0.829526</td>\n",
              "    </tr>\n",
              "    <tr>\n",
              "      <th>18</th>\n",
              "      <td>난사</td>\n",
              "      <td>0.740211</td>\n",
              "    </tr>\n",
              "    <tr>\n",
              "      <th>73</th>\n",
              "      <td>최악</td>\n",
              "      <td>0.720620</td>\n",
              "    </tr>\n",
              "    <tr>\n",
              "      <th>49</th>\n",
              "      <td>올랜도</td>\n",
              "      <td>0.720620</td>\n",
              "    </tr>\n",
              "  </tbody>\n",
              "</table>\n",
              "<p>89 rows × 2 columns</p>\n",
              "</div>"
            ],
            "text/plain": [
              "   index     tfidf\n",
              "26    미국  6.962212\n",
              "78   트럼프  3.799000\n",
              "86    홍콩  3.382021\n",
              "21   대통령  3.375507\n",
              "56    이란  3.290462\n",
              "..   ...       ...\n",
              "67    촉구  0.879659\n",
              "84    협력  0.829526\n",
              "18    난사  0.740211\n",
              "73    최악  0.720620\n",
              "49   올랜도  0.720620\n",
              "\n",
              "[89 rows x 2 columns]"
            ]
          },
          "metadata": {},
          "execution_count": 66
        }
      ]
    },
    {
      "cell_type": "markdown",
      "metadata": {
        "id": "ZsnIJ9HP35s0"
      },
      "source": [
        "### TF-IDF 함수화\n",
        "- 전체 데이터를 계산하지 않고, topic 별로 나누어 계산함"
      ]
    },
    {
      "cell_type": "code",
      "metadata": {
        "id": "WOZklProzo8i"
      },
      "source": [
        "from sklearn.feature_extraction.text import TfidfVectorizer\n",
        "\n",
        "def tfidf_count(topic_data):\n",
        "\n",
        "  corpus = []\n",
        "  for i in range(len(topic_data)):\n",
        "    corpus.append(topic_data['new_title'][i])\n",
        "\n",
        "  tfidfv = TfidfVectorizer(analyzer='word', min_df = 2).fit(corpus)\n",
        "  features=tfidfv.get_feature_names()\n",
        "\n",
        "  tmp = tfidfv.transform(corpus).toarray()\n",
        "  df_tfidf = pd.DataFrame(tmp,columns=features)\n",
        "\n",
        "  sum_tfidf = df_tfidf.sum(axis=0)\n",
        "  final_tfidf = pd.DataFrame({'tfidf':sum_tfidf}).reset_index().sort_values(by='tfidf', ascending=False)\n",
        "  return(final_tfidf)"
      ],
      "execution_count": 87,
      "outputs": []
    },
    {
      "cell_type": "code",
      "metadata": {
        "id": "5h20bfvs4J6e"
      },
      "source": [
        "## topic index별로 데이터 분류하는 함수 생성\n",
        "def topic(topic_number):\n",
        "  topic_data = []\n",
        "  for i in range(len(train)):\n",
        "    if train['topic_idx'][i]==topic_number:\n",
        "        topic_data.append(train.iloc[i])\n",
        "\n",
        "  topic_data = pd.DataFrame(topic_data).reset_index().drop(['level_0','index'], axis=1)\n",
        "  return(topic_data)"
      ],
      "execution_count": 79,
      "outputs": []
    },
    {
      "cell_type": "code",
      "metadata": {
        "id": "Oa8VrQVW4qFL"
      },
      "source": [
        "## topic_idx 별로 데이터 분리\n",
        "topic0 = topic(0)\n",
        "topic1 = topic(1)\n",
        "topic2 = topic(2)\n",
        "topic3 = topic(3)\n",
        "topic4 = topic(4)\n",
        "topic5 = topic(5)\n",
        "topic6 = topic(6)"
      ],
      "execution_count": 83,
      "outputs": []
    },
    {
      "cell_type": "code",
      "metadata": {
        "id": "z5NTrxvS6Mla"
      },
      "source": [
        "0(IT과학), 1(경제), 2(사회), 3(생활문화), 4(세계), 5(스포츠), 6(정치)"
      ],
      "execution_count": null,
      "outputs": []
    },
    {
      "cell_type": "code",
      "metadata": {
        "colab": {
          "base_uri": "https://localhost:8080/",
          "height": 1000
        },
        "id": "xPrWehxy5o4C",
        "outputId": "7a6b6b12-ae4f-4033-8dad-ab3f05034868"
      },
      "source": [
        "print('IT과학')\n",
        "display(tfidf_count(topic0).head(10))\n",
        "print('경제')\n",
        "display(tfidf_count(topic1).head(10))\n",
        "print('사회')\n",
        "display(tfidf_count(topic2).head(10))\n",
        "print('생활문화')\n",
        "display(tfidf_count(topic3).head(10))\n",
        "print('세계')\n",
        "display(tfidf_count(topic4).head(10))\n",
        "print('스포츠')\n",
        "display(tfidf_count(topic5).head(10))\n",
        "print('정치')\n",
        "display(tfidf_count(topic6).head(10))"
      ],
      "execution_count": 112,
      "outputs": [
        {
          "output_type": "stream",
          "name": "stdout",
          "text": [
            "IT과학\n"
          ]
        },
        {
          "output_type": "display_data",
          "data": {
            "text/html": [
              "<div>\n",
              "<style scoped>\n",
              "    .dataframe tbody tr th:only-of-type {\n",
              "        vertical-align: middle;\n",
              "    }\n",
              "\n",
              "    .dataframe tbody tr th {\n",
              "        vertical-align: top;\n",
              "    }\n",
              "\n",
              "    .dataframe thead th {\n",
              "        text-align: right;\n",
              "    }\n",
              "</style>\n",
              "<table border=\"1\" class=\"dataframe\">\n",
              "  <thead>\n",
              "    <tr style=\"text-align: right;\">\n",
              "      <th></th>\n",
              "      <th>index</th>\n",
              "      <th>tfidf</th>\n",
              "    </tr>\n",
              "  </thead>\n",
              "  <tbody>\n",
              "    <tr>\n",
              "      <th>2742</th>\n",
              "      <td>출시</td>\n",
              "      <td>113.819663</td>\n",
              "    </tr>\n",
              "    <tr>\n",
              "      <th>76</th>\n",
              "      <td>lg</td>\n",
              "      <td>95.323796</td>\n",
              "    </tr>\n",
              "    <tr>\n",
              "      <th>217</th>\n",
              "      <td>개발</td>\n",
              "      <td>90.227793</td>\n",
              "    </tr>\n",
              "    <tr>\n",
              "      <th>1401</th>\n",
              "      <td>삼성</td>\n",
              "      <td>84.913055</td>\n",
              "    </tr>\n",
              "    <tr>\n",
              "      <th>70</th>\n",
              "      <td>kt</td>\n",
              "      <td>83.668990</td>\n",
              "    </tr>\n",
              "    <tr>\n",
              "      <th>1</th>\n",
              "      <td>ai</td>\n",
              "      <td>78.084651</td>\n",
              "    </tr>\n",
              "    <tr>\n",
              "      <th>237</th>\n",
              "      <td>갤럭시</td>\n",
              "      <td>77.867905</td>\n",
              "    </tr>\n",
              "    <tr>\n",
              "      <th>510</th>\n",
              "      <td>기술</td>\n",
              "      <td>76.528033</td>\n",
              "    </tr>\n",
              "    <tr>\n",
              "      <th>1454</th>\n",
              "      <td>서비스</td>\n",
              "      <td>58.381142</td>\n",
              "    </tr>\n",
              "    <tr>\n",
              "      <th>592</th>\n",
              "      <td>네이버</td>\n",
              "      <td>56.860711</td>\n",
              "    </tr>\n",
              "  </tbody>\n",
              "</table>\n",
              "</div>"
            ],
            "text/plain": [
              "     index       tfidf\n",
              "2742    출시  113.819663\n",
              "76      lg   95.323796\n",
              "217     개발   90.227793\n",
              "1401    삼성   84.913055\n",
              "70      kt   83.668990\n",
              "1       ai   78.084651\n",
              "237    갤럭시   77.867905\n",
              "510     기술   76.528033\n",
              "1454   서비스   58.381142\n",
              "592    네이버   56.860711"
            ]
          },
          "metadata": {}
        },
        {
          "output_type": "stream",
          "name": "stdout",
          "text": [
            "경제\n"
          ]
        },
        {
          "output_type": "display_data",
          "data": {
            "text/html": [
              "<div>\n",
              "<style scoped>\n",
              "    .dataframe tbody tr th:only-of-type {\n",
              "        vertical-align: middle;\n",
              "    }\n",
              "\n",
              "    .dataframe tbody tr th {\n",
              "        vertical-align: top;\n",
              "    }\n",
              "\n",
              "    .dataframe thead th {\n",
              "        text-align: right;\n",
              "    }\n",
              "</style>\n",
              "<table border=\"1\" class=\"dataframe\">\n",
              "  <thead>\n",
              "    <tr style=\"text-align: right;\">\n",
              "      <th></th>\n",
              "      <th>index</th>\n",
              "      <th>tfidf</th>\n",
              "    </tr>\n",
              "  </thead>\n",
              "  <tbody>\n",
              "    <tr>\n",
              "      <th>1342</th>\n",
              "      <td>분기</td>\n",
              "      <td>133.414200</td>\n",
              "    </tr>\n",
              "    <tr>\n",
              "      <th>2072</th>\n",
              "      <td>영업</td>\n",
              "      <td>126.315391</td>\n",
              "    </tr>\n",
              "    <tr>\n",
              "      <th>1958</th>\n",
              "      <td>억원</td>\n",
              "      <td>119.308818</td>\n",
              "    </tr>\n",
              "    <tr>\n",
              "      <th>3174</th>\n",
              "      <td>투자</td>\n",
              "      <td>108.154722</td>\n",
              "    </tr>\n",
              "    <tr>\n",
              "      <th>2763</th>\n",
              "      <td>증권</td>\n",
              "      <td>98.777901</td>\n",
              "    </tr>\n",
              "    <tr>\n",
              "      <th>3066</th>\n",
              "      <td>코스피</td>\n",
              "      <td>97.883133</td>\n",
              "    </tr>\n",
              "    <tr>\n",
              "      <th>2467</th>\n",
              "      <td>작년</td>\n",
              "      <td>89.159440</td>\n",
              "    </tr>\n",
              "    <tr>\n",
              "      <th>1472</th>\n",
              "      <td>삼성</td>\n",
              "      <td>82.036242</td>\n",
              "    </tr>\n",
              "    <tr>\n",
              "      <th>493</th>\n",
              "      <td>금융</td>\n",
              "      <td>80.699956</td>\n",
              "    </tr>\n",
              "    <tr>\n",
              "      <th>3188</th>\n",
              "      <td>특징</td>\n",
              "      <td>68.142773</td>\n",
              "    </tr>\n",
              "  </tbody>\n",
              "</table>\n",
              "</div>"
            ],
            "text/plain": [
              "     index       tfidf\n",
              "1342    분기  133.414200\n",
              "2072    영업  126.315391\n",
              "1958    억원  119.308818\n",
              "3174    투자  108.154722\n",
              "2763    증권   98.777901\n",
              "3066   코스피   97.883133\n",
              "2467    작년   89.159440\n",
              "1472    삼성   82.036242\n",
              "493     금융   80.699956\n",
              "3188    특징   68.142773"
            ]
          },
          "metadata": {}
        },
        {
          "output_type": "stream",
          "name": "stdout",
          "text": [
            "사회\n"
          ]
        },
        {
          "output_type": "display_data",
          "data": {
            "text/html": [
              "<div>\n",
              "<style scoped>\n",
              "    .dataframe tbody tr th:only-of-type {\n",
              "        vertical-align: middle;\n",
              "    }\n",
              "\n",
              "    .dataframe tbody tr th {\n",
              "        vertical-align: top;\n",
              "    }\n",
              "\n",
              "    .dataframe thead th {\n",
              "        text-align: right;\n",
              "    }\n",
              "</style>\n",
              "<table border=\"1\" class=\"dataframe\">\n",
              "  <thead>\n",
              "    <tr style=\"text-align: right;\">\n",
              "      <th></th>\n",
              "      <th>index</th>\n",
              "      <th>tfidf</th>\n",
              "    </tr>\n",
              "  </thead>\n",
              "  <tbody>\n",
              "    <tr>\n",
              "      <th>4689</th>\n",
              "      <td>코로나</td>\n",
              "      <td>88.691359</td>\n",
              "    </tr>\n",
              "    <tr>\n",
              "      <th>5068</th>\n",
              "      <td>한국</td>\n",
              "      <td>67.983880</td>\n",
              "    </tr>\n",
              "    <tr>\n",
              "      <th>4272</th>\n",
              "      <td>지원</td>\n",
              "      <td>58.042997</td>\n",
              "    </tr>\n",
              "    <tr>\n",
              "      <th>2235</th>\n",
              "      <td>사장</td>\n",
              "      <td>49.077559</td>\n",
              "    </tr>\n",
              "    <tr>\n",
              "      <th>822</th>\n",
              "      <td>기자</td>\n",
              "      <td>47.133743</td>\n",
              "    </tr>\n",
              "    <tr>\n",
              "      <th>602</th>\n",
              "      <td>교육</td>\n",
              "      <td>45.189222</td>\n",
              "    </tr>\n",
              "    <tr>\n",
              "      <th>1850</th>\n",
              "      <td>방송</td>\n",
              "      <td>44.873106</td>\n",
              "    </tr>\n",
              "    <tr>\n",
              "      <th>1035</th>\n",
              "      <td>노조</td>\n",
              "      <td>44.727116</td>\n",
              "    </tr>\n",
              "    <tr>\n",
              "      <th>5038</th>\n",
              "      <td>학교</td>\n",
              "      <td>44.722504</td>\n",
              "    </tr>\n",
              "    <tr>\n",
              "      <th>2042</th>\n",
              "      <td>부산</td>\n",
              "      <td>44.354752</td>\n",
              "    </tr>\n",
              "  </tbody>\n",
              "</table>\n",
              "</div>"
            ],
            "text/plain": [
              "     index      tfidf\n",
              "4689   코로나  88.691359\n",
              "5068    한국  67.983880\n",
              "4272    지원  58.042997\n",
              "2235    사장  49.077559\n",
              "822     기자  47.133743\n",
              "602     교육  45.189222\n",
              "1850    방송  44.873106\n",
              "1035    노조  44.727116\n",
              "5038    학교  44.722504\n",
              "2042    부산  44.354752"
            ]
          },
          "metadata": {}
        },
        {
          "output_type": "stream",
          "name": "stdout",
          "text": [
            "생활문화\n"
          ]
        },
        {
          "output_type": "display_data",
          "data": {
            "text/html": [
              "<div>\n",
              "<style scoped>\n",
              "    .dataframe tbody tr th:only-of-type {\n",
              "        vertical-align: middle;\n",
              "    }\n",
              "\n",
              "    .dataframe tbody tr th {\n",
              "        vertical-align: top;\n",
              "    }\n",
              "\n",
              "    .dataframe thead th {\n",
              "        text-align: right;\n",
              "    }\n",
              "</style>\n",
              "<table border=\"1\" class=\"dataframe\">\n",
              "  <thead>\n",
              "    <tr style=\"text-align: right;\">\n",
              "      <th></th>\n",
              "      <th>index</th>\n",
              "      <th>tfidf</th>\n",
              "    </tr>\n",
              "  </thead>\n",
              "  <tbody>\n",
              "    <tr>\n",
              "      <th>2184</th>\n",
              "      <td>신간</td>\n",
              "      <td>194.131171</td>\n",
              "    </tr>\n",
              "    <tr>\n",
              "      <th>3500</th>\n",
              "      <td>축제</td>\n",
              "      <td>82.935287</td>\n",
              "    </tr>\n",
              "    <tr>\n",
              "      <th>2451</th>\n",
              "      <td>여행</td>\n",
              "      <td>72.675523</td>\n",
              "    </tr>\n",
              "    <tr>\n",
              "      <th>638</th>\n",
              "      <td>날씨</td>\n",
              "      <td>67.064743</td>\n",
              "    </tr>\n",
              "    <tr>\n",
              "      <th>3889</th>\n",
              "      <td>한국</td>\n",
              "      <td>64.390214</td>\n",
              "    </tr>\n",
              "    <tr>\n",
              "      <th>1899</th>\n",
              "      <td>서울</td>\n",
              "      <td>59.781768</td>\n",
              "    </tr>\n",
              "    <tr>\n",
              "      <th>3203</th>\n",
              "      <td>주말</td>\n",
              "      <td>56.325140</td>\n",
              "    </tr>\n",
              "    <tr>\n",
              "      <th>3059</th>\n",
              "      <td>전국</td>\n",
              "      <td>55.173214</td>\n",
              "    </tr>\n",
              "    <tr>\n",
              "      <th>327</th>\n",
              "      <td>공연</td>\n",
              "      <td>54.045467</td>\n",
              "    </tr>\n",
              "    <tr>\n",
              "      <th>3209</th>\n",
              "      <td>주의보</td>\n",
              "      <td>47.212856</td>\n",
              "    </tr>\n",
              "  </tbody>\n",
              "</table>\n",
              "</div>"
            ],
            "text/plain": [
              "     index       tfidf\n",
              "2184    신간  194.131171\n",
              "3500    축제   82.935287\n",
              "2451    여행   72.675523\n",
              "638     날씨   67.064743\n",
              "3889    한국   64.390214\n",
              "1899    서울   59.781768\n",
              "3203    주말   56.325140\n",
              "3059    전국   55.173214\n",
              "327     공연   54.045467\n",
              "3209   주의보   47.212856"
            ]
          },
          "metadata": {}
        },
        {
          "output_type": "stream",
          "name": "stdout",
          "text": [
            "세계\n"
          ]
        },
        {
          "output_type": "display_data",
          "data": {
            "text/html": [
              "<div>\n",
              "<style scoped>\n",
              "    .dataframe tbody tr th:only-of-type {\n",
              "        vertical-align: middle;\n",
              "    }\n",
              "\n",
              "    .dataframe tbody tr th {\n",
              "        vertical-align: top;\n",
              "    }\n",
              "\n",
              "    .dataframe thead th {\n",
              "        text-align: right;\n",
              "    }\n",
              "</style>\n",
              "<table border=\"1\" class=\"dataframe\">\n",
              "  <thead>\n",
              "    <tr style=\"text-align: right;\">\n",
              "      <th></th>\n",
              "      <th>index</th>\n",
              "      <th>tfidf</th>\n",
              "    </tr>\n",
              "  </thead>\n",
              "  <tbody>\n",
              "    <tr>\n",
              "      <th>1629</th>\n",
              "      <td>미국</td>\n",
              "      <td>232.492569</td>\n",
              "    </tr>\n",
              "    <tr>\n",
              "      <th>4008</th>\n",
              "      <td>중국</td>\n",
              "      <td>165.617550</td>\n",
              "    </tr>\n",
              "    <tr>\n",
              "      <th>3448</th>\n",
              "      <td>이란</td>\n",
              "      <td>153.833472</td>\n",
              "    </tr>\n",
              "    <tr>\n",
              "      <th>4655</th>\n",
              "      <td>트럼프</td>\n",
              "      <td>130.274340</td>\n",
              "    </tr>\n",
              "    <tr>\n",
              "      <th>3563</th>\n",
              "      <td>일본</td>\n",
              "      <td>97.228951</td>\n",
              "    </tr>\n",
              "    <tr>\n",
              "      <th>4589</th>\n",
              "      <td>터키</td>\n",
              "      <td>88.531688</td>\n",
              "    </tr>\n",
              "    <tr>\n",
              "      <th>2176</th>\n",
              "      <td>사망</td>\n",
              "      <td>81.686633</td>\n",
              "    </tr>\n",
              "    <tr>\n",
              "      <th>2655</th>\n",
              "      <td>시위</td>\n",
              "      <td>72.445964</td>\n",
              "    </tr>\n",
              "    <tr>\n",
              "      <th>2640</th>\n",
              "      <td>시리아</td>\n",
              "      <td>72.281769</td>\n",
              "    </tr>\n",
              "    <tr>\n",
              "      <th>1081</th>\n",
              "      <td>대통령</td>\n",
              "      <td>69.020313</td>\n",
              "    </tr>\n",
              "  </tbody>\n",
              "</table>\n",
              "</div>"
            ],
            "text/plain": [
              "     index       tfidf\n",
              "1629    미국  232.492569\n",
              "4008    중국  165.617550\n",
              "3448    이란  153.833472\n",
              "4655   트럼프  130.274340\n",
              "3563    일본   97.228951\n",
              "4589    터키   88.531688\n",
              "2176    사망   81.686633\n",
              "2655    시위   72.445964\n",
              "2640   시리아   72.281769\n",
              "1081   대통령   69.020313"
            ]
          },
          "metadata": {}
        },
        {
          "output_type": "stream",
          "name": "stdout",
          "text": [
            "스포츠\n"
          ]
        },
        {
          "output_type": "display_data",
          "data": {
            "text/html": [
              "<div>\n",
              "<style scoped>\n",
              "    .dataframe tbody tr th:only-of-type {\n",
              "        vertical-align: middle;\n",
              "    }\n",
              "\n",
              "    .dataframe tbody tr th {\n",
              "        vertical-align: top;\n",
              "    }\n",
              "\n",
              "    .dataframe thead th {\n",
              "        text-align: right;\n",
              "    }\n",
              "</style>\n",
              "<table border=\"1\" class=\"dataframe\">\n",
              "  <thead>\n",
              "    <tr style=\"text-align: right;\">\n",
              "      <th></th>\n",
              "      <th>index</th>\n",
              "      <th>tfidf</th>\n",
              "    </tr>\n",
              "  </thead>\n",
              "  <tbody>\n",
              "    <tr>\n",
              "      <th>136</th>\n",
              "      <td>감독</td>\n",
              "      <td>145.697344</td>\n",
              "    </tr>\n",
              "    <tr>\n",
              "      <th>247</th>\n",
              "      <td>경기</td>\n",
              "      <td>123.720187</td>\n",
              "    </tr>\n",
              "    <tr>\n",
              "      <th>2014</th>\n",
              "      <td>시즌</td>\n",
              "      <td>96.736315</td>\n",
              "    </tr>\n",
              "    <tr>\n",
              "      <th>1020</th>\n",
              "      <td>류현진</td>\n",
              "      <td>95.199623</td>\n",
              "    </tr>\n",
              "    <tr>\n",
              "      <th>2478</th>\n",
              "      <td>월드컵</td>\n",
              "      <td>93.183139</td>\n",
              "    </tr>\n",
              "    <tr>\n",
              "      <th>2302</th>\n",
              "      <td>연승</td>\n",
              "      <td>90.200360</td>\n",
              "    </tr>\n",
              "    <tr>\n",
              "      <th>1023</th>\n",
              "      <td>리그</td>\n",
              "      <td>79.933322</td>\n",
              "    </tr>\n",
              "    <tr>\n",
              "      <th>3303</th>\n",
              "      <td>축구</td>\n",
              "      <td>78.743796</td>\n",
              "    </tr>\n",
              "    <tr>\n",
              "      <th>3698</th>\n",
              "      <td>프로농구</td>\n",
              "      <td>77.335030</td>\n",
              "    </tr>\n",
              "    <tr>\n",
              "      <th>1763</th>\n",
              "      <td>선수</td>\n",
              "      <td>75.510241</td>\n",
              "    </tr>\n",
              "  </tbody>\n",
              "</table>\n",
              "</div>"
            ],
            "text/plain": [
              "     index       tfidf\n",
              "136     감독  145.697344\n",
              "247     경기  123.720187\n",
              "2014    시즌   96.736315\n",
              "1020   류현진   95.199623\n",
              "2478   월드컵   93.183139\n",
              "2302    연승   90.200360\n",
              "1023    리그   79.933322\n",
              "3303    축구   78.743796\n",
              "3698  프로농구   77.335030\n",
              "1763    선수   75.510241"
            ]
          },
          "metadata": {}
        },
        {
          "output_type": "stream",
          "name": "stdout",
          "text": [
            "정치\n"
          ]
        },
        {
          "output_type": "display_data",
          "data": {
            "text/html": [
              "<div>\n",
              "<style scoped>\n",
              "    .dataframe tbody tr th:only-of-type {\n",
              "        vertical-align: middle;\n",
              "    }\n",
              "\n",
              "    .dataframe tbody tr th {\n",
              "        vertical-align: top;\n",
              "    }\n",
              "\n",
              "    .dataframe thead th {\n",
              "        text-align: right;\n",
              "    }\n",
              "</style>\n",
              "<table border=\"1\" class=\"dataframe\">\n",
              "  <thead>\n",
              "    <tr style=\"text-align: right;\">\n",
              "      <th></th>\n",
              "      <th>index</th>\n",
              "      <th>tfidf</th>\n",
              "    </tr>\n",
              "  </thead>\n",
              "  <tbody>\n",
              "    <tr>\n",
              "      <th>1080</th>\n",
              "      <td>대통령</td>\n",
              "      <td>229.532445</td>\n",
              "    </tr>\n",
              "    <tr>\n",
              "      <th>1829</th>\n",
              "      <td>북한</td>\n",
              "      <td>208.999954</td>\n",
              "    </tr>\n",
              "    <tr>\n",
              "      <th>1528</th>\n",
              "      <td>박근혜</td>\n",
              "      <td>134.088055</td>\n",
              "    </tr>\n",
              "    <tr>\n",
              "      <th>3795</th>\n",
              "      <td>청와대</td>\n",
              "      <td>93.559928</td>\n",
              "    </tr>\n",
              "    <tr>\n",
              "      <th>738</th>\n",
              "      <td>김정은</td>\n",
              "      <td>85.867128</td>\n",
              "    </tr>\n",
              "    <tr>\n",
              "      <th>4233</th>\n",
              "      <td>한국</td>\n",
              "      <td>81.176892</td>\n",
              "    </tr>\n",
              "    <tr>\n",
              "      <th>1501</th>\n",
              "      <td>민주</td>\n",
              "      <td>75.963755</td>\n",
              "    </tr>\n",
              "    <tr>\n",
              "      <th>542</th>\n",
              "      <td>국회</td>\n",
              "      <td>70.698208</td>\n",
              "    </tr>\n",
              "    <tr>\n",
              "      <th>4133</th>\n",
              "      <td>평양</td>\n",
              "      <td>69.589201</td>\n",
              "    </tr>\n",
              "    <tr>\n",
              "      <th>3362</th>\n",
              "      <td>정상회담</td>\n",
              "      <td>66.532809</td>\n",
              "    </tr>\n",
              "  </tbody>\n",
              "</table>\n",
              "</div>"
            ],
            "text/plain": [
              "     index       tfidf\n",
              "1080   대통령  229.532445\n",
              "1829    북한  208.999954\n",
              "1528   박근혜  134.088055\n",
              "3795   청와대   93.559928\n",
              "738    김정은   85.867128\n",
              "4233    한국   81.176892\n",
              "1501    민주   75.963755\n",
              "542     국회   70.698208\n",
              "4133    평양   69.589201\n",
              "3362  정상회담   66.532809"
            ]
          },
          "metadata": {}
        }
      ]
    }
  ]
}